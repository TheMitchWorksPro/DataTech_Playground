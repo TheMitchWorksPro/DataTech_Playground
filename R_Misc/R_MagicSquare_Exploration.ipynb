{
 "cells": [
  {
   "cell_type": "markdown",
   "metadata": {},
   "source": [
    "# Magic Squares in R\n",
    "\n",
    "### Background\n",
    "\n",
    " Excerpted from the second link given below:  \n",
    " A magic square is a square matrix where all row and column sums and also the \n",
    " diagonal sums all have the same value.\n",
    " This value or the characteristic sum for a magic square of order n is sum(1:n^2)/n.\n",
    " as per the wikipedia entry: this equation should form the \"magic constant\"\n",
    " and yet using this in a simple test that works on any magic sq could be problematic:\n",
    " \n",
    " - The link from \"Dr. Mike\" shows there is only 1 magic square of 3x3\n",
    " - Wikipedia indicates this number increases very very fast as the square grows larger ... \n",
    "\n",
    "### Research Links:\n",
    "- http://mathworld.wolfram.com/MagicSquare.html\n",
    "- https://artax.karlin.mff.cuni.cz/r-help/library/pracma/html/magic.html\n",
    "- https://en.wikipedia.org/wiki/Magic_square\n",
    "- http://www.dr-mikes-math-games-for-kids.com/3x3-magic-square.html\n",
    "\n",
    "### TOC\n",
    "\n",
    "- [Magic Squares used To Test](#magicsq)\n",
    "- [Is Magic Square v1: Get Out As Early as Possible](#earlyOut)\n",
    "- [Is Magic Square v2: Use R Optimization for Faster Solution](#rOpt)"
   ]
  },
  {
   "cell_type": "markdown",
   "metadata": {},
   "source": [
    "<a id=\"magicsq\" name=\"magicsq\"></a>\n",
    "\n",
    "## Magic Squares to Test\n",
    "These magic squares are used by the different versions of code in this document for testing."
   ]
  },
  {
   "cell_type": "code",
   "execution_count": 36,
   "metadata": {
    "collapsed": false
   },
   "outputs": [
    {
     "data": {
      "text/html": [
       "<table>\n",
       "<tbody>\n",
       "\t<tr><td>8</td><td>1</td><td>6</td></tr>\n",
       "\t<tr><td>3</td><td>5</td><td>7</td></tr>\n",
       "\t<tr><td>4</td><td>9</td><td>2</td></tr>\n",
       "</tbody>\n",
       "</table>\n"
      ],
      "text/latex": [
       "\\begin{tabular}{lll}\n",
       "\t 8 & 1 & 6\\\\\n",
       "\t 3 & 5 & 7\\\\\n",
       "\t 4 & 9 & 2\\\\\n",
       "\\end{tabular}\n"
      ],
      "text/markdown": [
       "1. 8\n",
       "2. 3\n",
       "3. 4\n",
       "4. 1\n",
       "5. 5\n",
       "6. 9\n",
       "7. 6\n",
       "8. 7\n",
       "9. 2\n",
       "\n",
       "\n"
      ],
      "text/plain": [
       "     [,1] [,2] [,3]\n",
       "[1,]    8    1    6\n",
       "[2,]    3    5    7\n",
       "[3,]    4    9    2"
      ]
     },
     "execution_count": 36,
     "metadata": {},
     "output_type": "execute_result"
    }
   ],
   "source": [
    "my_mat = matrix(c(8, 3, 4, 1, 5, 9, 6, 7, 2), ncol = 3)    # by column by default\n",
    "my_mat  # this is a magic square"
   ]
  },
  {
   "cell_type": "code",
   "execution_count": 38,
   "metadata": {
    "collapsed": false
   },
   "outputs": [
    {
     "data": {
      "text/html": [
       "<table>\n",
       "<tbody>\n",
       "\t<tr><td>50</td><td> 1</td><td> 6</td></tr>\n",
       "\t<tr><td>3</td><td>5</td><td>7</td></tr>\n",
       "\t<tr><td>4</td><td>9</td><td>2</td></tr>\n",
       "</tbody>\n",
       "</table>\n"
      ],
      "text/latex": [
       "\\begin{tabular}{lll}\n",
       "\t 50 &  1 &  6\\\\\n",
       "\t 3 & 5 & 7\\\\\n",
       "\t 4 & 9 & 2\\\\\n",
       "\\end{tabular}\n"
      ],
      "text/markdown": [
       "1. 50\n",
       "2. 3\n",
       "3. 4\n",
       "4. 1\n",
       "5. 5\n",
       "6. 9\n",
       "7. 6\n",
       "8. 7\n",
       "9. 2\n",
       "\n",
       "\n"
      ],
      "text/plain": [
       "     [,1] [,2] [,3]\n",
       "[1,]   50    1    6\n",
       "[2,]    3    5    7\n",
       "[3,]    4    9    2"
      ]
     },
     "execution_count": 38,
     "metadata": {},
     "output_type": "execute_result"
    }
   ],
   "source": [
    "# altering a copy of my_mat so it is slightly off and will fail\n",
    "my_mat2 <- my_mat\n",
    "my_mat2[1,1] <- 50\n",
    "my_mat2"
   ]
  },
  {
   "cell_type": "code",
   "execution_count": 39,
   "metadata": {
    "collapsed": false
   },
   "outputs": [
    {
     "data": {
      "text/html": [
       "<table>\n",
       "<tbody>\n",
       "\t<tr><td>8</td><td>1</td><td>6</td></tr>\n",
       "\t<tr><td> 3</td><td> 5</td><td>10</td></tr>\n",
       "\t<tr><td>4</td><td>9</td><td>2</td></tr>\n",
       "</tbody>\n",
       "</table>\n"
      ],
      "text/latex": [
       "\\begin{tabular}{lll}\n",
       "\t 8 & 1 & 6\\\\\n",
       "\t  3 &  5 & 10\\\\\n",
       "\t 4 & 9 & 2\\\\\n",
       "\\end{tabular}\n"
      ],
      "text/markdown": [
       "1. 8\n",
       "2. 3\n",
       "3. 4\n",
       "4. 1\n",
       "5. 5\n",
       "6. 9\n",
       "7. 6\n",
       "8. 10\n",
       "9. 2\n",
       "\n",
       "\n"
      ],
      "text/plain": [
       "     [,1] [,2] [,3]\n",
       "[1,]    8    1    6\n",
       "[2,]    3    5   10\n",
       "[3,]    4    9    2"
      ]
     },
     "execution_count": 39,
     "metadata": {},
     "output_type": "execute_result"
    }
   ],
   "source": [
    "# another test ... more similar to original but should still fail\n",
    "my_mat3 <- my_mat\n",
    "my_mat3[2,3] <-10\n",
    "my_mat3"
   ]
  },
  {
   "cell_type": "code",
   "execution_count": 41,
   "metadata": {
    "collapsed": false
   },
   "outputs": [
    {
     "data": {
      "text/html": [
       "<table>\n",
       "<tbody>\n",
       "\t<tr><td> 1</td><td>98</td><td>97</td><td>96</td><td>85</td><td>84</td><td>15</td><td>14</td><td>13</td><td> 2</td></tr>\n",
       "\t<tr><td>95</td><td>19</td><td>20</td><td>80</td><td>79</td><td>78</td><td>77</td><td>25</td><td>26</td><td> 6</td></tr>\n",
       "\t<tr><td>94</td><td>27</td><td>28</td><td>72</td><td>71</td><td>70</td><td>69</td><td>33</td><td>34</td><td> 7</td></tr>\n",
       "\t<tr><td>92</td><td>66</td><td>65</td><td>37</td><td>38</td><td>39</td><td>40</td><td>60</td><td>59</td><td> 9</td></tr>\n",
       "\t<tr><td>83</td><td>58</td><td>57</td><td>45</td><td>46</td><td>47</td><td>48</td><td>52</td><td>51</td><td>18</td></tr>\n",
       "\t<tr><td>12</td><td>50</td><td>49</td><td>53</td><td>54</td><td>55</td><td>56</td><td>44</td><td>43</td><td>89</td></tr>\n",
       "\t<tr><td>11</td><td>42</td><td>41</td><td>61</td><td>62</td><td>63</td><td>64</td><td>36</td><td>35</td><td>90</td></tr>\n",
       "\t<tr><td>10</td><td>67</td><td>68</td><td>32</td><td>31</td><td>30</td><td>29</td><td>73</td><td>74</td><td>91</td></tr>\n",
       "\t<tr><td> 8</td><td>75</td><td>76</td><td>24</td><td>23</td><td>22</td><td>21</td><td>81</td><td>82</td><td>93</td></tr>\n",
       "\t<tr><td> 99</td><td>  3</td><td>  4</td><td>  5</td><td> 16</td><td> 17</td><td> 86</td><td> 87</td><td> 88</td><td>100</td></tr>\n",
       "</tbody>\n",
       "</table>\n"
      ],
      "text/latex": [
       "\\begin{tabular}{llllllllll}\n",
       "\t  1 & 98 & 97 & 96 & 85 & 84 & 15 & 14 & 13 &  2\\\\\n",
       "\t 95 & 19 & 20 & 80 & 79 & 78 & 77 & 25 & 26 &  6\\\\\n",
       "\t 94 & 27 & 28 & 72 & 71 & 70 & 69 & 33 & 34 &  7\\\\\n",
       "\t 92 & 66 & 65 & 37 & 38 & 39 & 40 & 60 & 59 &  9\\\\\n",
       "\t 83 & 58 & 57 & 45 & 46 & 47 & 48 & 52 & 51 & 18\\\\\n",
       "\t 12 & 50 & 49 & 53 & 54 & 55 & 56 & 44 & 43 & 89\\\\\n",
       "\t 11 & 42 & 41 & 61 & 62 & 63 & 64 & 36 & 35 & 90\\\\\n",
       "\t 10 & 67 & 68 & 32 & 31 & 30 & 29 & 73 & 74 & 91\\\\\n",
       "\t  8 & 75 & 76 & 24 & 23 & 22 & 21 & 81 & 82 & 93\\\\\n",
       "\t  99 &   3 &   4 &   5 &  16 &  17 &  86 &  87 &  88 & 100\\\\\n",
       "\\end{tabular}\n"
      ],
      "text/markdown": [
       "1. 1\n",
       "2. 95\n",
       "3. 94\n",
       "4. 92\n",
       "5. 83\n",
       "6. 12\n",
       "7. 11\n",
       "8. 10\n",
       "9. 8\n",
       "10. 99\n",
       "11. 98\n",
       "12. 19\n",
       "13. 27\n",
       "14. 66\n",
       "15. 58\n",
       "16. 50\n",
       "17. 42\n",
       "18. 67\n",
       "19. 75\n",
       "20. 3\n",
       "21. 97\n",
       "22. 20\n",
       "23. 28\n",
       "24. 65\n",
       "25. 57\n",
       "26. 49\n",
       "27. 41\n",
       "28. 68\n",
       "29. 76\n",
       "30. 4\n",
       "31. 96\n",
       "32. 80\n",
       "33. 72\n",
       "34. 37\n",
       "35. 45\n",
       "36. 53\n",
       "37. 61\n",
       "38. 32\n",
       "39. 24\n",
       "40. 5\n",
       "41. 85\n",
       "42. 79\n",
       "43. 71\n",
       "44. 38\n",
       "45. 46\n",
       "46. 54\n",
       "47. 62\n",
       "48. 31\n",
       "49. 23\n",
       "50. 16\n",
       "51. 84\n",
       "52. 78\n",
       "53. 70\n",
       "54. 39\n",
       "55. 47\n",
       "56. 55\n",
       "57. 63\n",
       "58. 30\n",
       "59. 22\n",
       "60. 17\n",
       "61. 15\n",
       "62. 77\n",
       "63. 69\n",
       "64. 40\n",
       "65. 48\n",
       "66. 56\n",
       "67. 64\n",
       "68. 29\n",
       "69. 21\n",
       "70. 86\n",
       "71. 14\n",
       "72. 25\n",
       "73. 33\n",
       "74. 60\n",
       "75. 52\n",
       "76. 44\n",
       "77. 36\n",
       "78. 73\n",
       "79. 81\n",
       "80. 87\n",
       "81. 13\n",
       "82. 26\n",
       "83. 34\n",
       "84. 59\n",
       "85. 51\n",
       "86. 43\n",
       "87. 35\n",
       "88. 74\n",
       "89. 82\n",
       "90. 88\n",
       "91. 2\n",
       "92. 6\n",
       "93. 7\n",
       "94. 9\n",
       "95. 18\n",
       "96. 89\n",
       "97. 90\n",
       "98. 91\n",
       "99. 93\n",
       "100. 100\n",
       "\n",
       "\n"
      ],
      "text/plain": [
       "      [,1] [,2] [,3] [,4] [,5] [,6] [,7] [,8] [,9] [,10]\n",
       " [1,]    1   98   97   96   85   84   15   14   13     2\n",
       " [2,]   95   19   20   80   79   78   77   25   26     6\n",
       " [3,]   94   27   28   72   71   70   69   33   34     7\n",
       " [4,]   92   66   65   37   38   39   40   60   59     9\n",
       " [5,]   83   58   57   45   46   47   48   52   51    18\n",
       " [6,]   12   50   49   53   54   55   56   44   43    89\n",
       " [7,]   11   42   41   61   62   63   64   36   35    90\n",
       " [8,]   10   67   68   32   31   30   29   73   74    91\n",
       " [9,]    8   75   76   24   23   22   21   81   82    93\n",
       "[10,]   99    3    4    5   16   17   86   87   88   100"
      ]
     },
     "execution_count": 41,
     "metadata": {},
     "output_type": "execute_result"
    }
   ],
   "source": [
    "# test with a bigger matrix\n",
    "# source of this matrix: \n",
    "# http://www.sfcc.edu.hk/academic_subjects/mathematics/web/1999_2000_projects/Tracy%20Chan/magic%20square%20S.htm\n",
    "\n",
    "my_larger_matrix <- matrix(c(1, 98,97,96,85,84,15,14,13, 2,\n",
    "                             95,19,20,80,79,78,77,25,26, 6,\n",
    "                             94,27,28,72,71,70,69,33,34, 7,\n",
    "                             92,66,65,37,38,39,40,60,59, 9,\n",
    "                             83,58,57,45,46,47,48,52,51,18,\n",
    "                             12,50,49,53,54,55,56,44,43,89,\n",
    "                             11,42,41,61,62,63,64,36,35,90,\n",
    "                             10,67,68,32,31,30,29,73,74,91,\n",
    "                             8 ,75,76,24,23,22,21,81,82,93,\n",
    "                             99, 3, 4, 5,16,17,86,87,88,100), \n",
    "                             ncol=10, byrow = TRUE)\n",
    "my_larger_matrix"
   ]
  },
  {
   "cell_type": "code",
   "execution_count": 42,
   "metadata": {
    "collapsed": false
   },
   "outputs": [
    {
     "data": {
      "text/html": [
       "<table>\n",
       "<tbody>\n",
       "\t<tr><td> 1</td><td>98</td><td>97</td><td>96</td><td>85</td><td>84</td><td>15</td><td>14</td><td>13</td><td> 2</td></tr>\n",
       "\t<tr><td>95</td><td>19</td><td>20</td><td>80</td><td>79</td><td>78</td><td>77</td><td>25</td><td>26</td><td> 6</td></tr>\n",
       "\t<tr><td>94</td><td>27</td><td>28</td><td>72</td><td>71</td><td>70</td><td>69</td><td>33</td><td>34</td><td> 7</td></tr>\n",
       "\t<tr><td>92</td><td>66</td><td>65</td><td>37</td><td>38</td><td>39</td><td>40</td><td>60</td><td>59</td><td> 9</td></tr>\n",
       "\t<tr><td>83</td><td>58</td><td>57</td><td>45</td><td>46</td><td>47</td><td>48</td><td>52</td><td>51</td><td>18</td></tr>\n",
       "\t<tr><td>12</td><td>50</td><td>49</td><td>53</td><td>54</td><td>55</td><td>56</td><td>55</td><td>43</td><td>89</td></tr>\n",
       "\t<tr><td>11</td><td>42</td><td>41</td><td>61</td><td>62</td><td>63</td><td>64</td><td>36</td><td>35</td><td>90</td></tr>\n",
       "\t<tr><td>10</td><td>67</td><td>68</td><td>32</td><td>31</td><td>30</td><td>29</td><td>73</td><td>74</td><td>91</td></tr>\n",
       "\t<tr><td> 8</td><td>75</td><td>76</td><td>24</td><td>23</td><td>22</td><td>21</td><td>81</td><td>82</td><td>93</td></tr>\n",
       "\t<tr><td> 99</td><td>  3</td><td>  4</td><td>  5</td><td> 16</td><td> 17</td><td> 86</td><td> 87</td><td> 88</td><td>100</td></tr>\n",
       "</tbody>\n",
       "</table>\n"
      ],
      "text/latex": [
       "\\begin{tabular}{llllllllll}\n",
       "\t  1 & 98 & 97 & 96 & 85 & 84 & 15 & 14 & 13 &  2\\\\\n",
       "\t 95 & 19 & 20 & 80 & 79 & 78 & 77 & 25 & 26 &  6\\\\\n",
       "\t 94 & 27 & 28 & 72 & 71 & 70 & 69 & 33 & 34 &  7\\\\\n",
       "\t 92 & 66 & 65 & 37 & 38 & 39 & 40 & 60 & 59 &  9\\\\\n",
       "\t 83 & 58 & 57 & 45 & 46 & 47 & 48 & 52 & 51 & 18\\\\\n",
       "\t 12 & 50 & 49 & 53 & 54 & 55 & 56 & 55 & 43 & 89\\\\\n",
       "\t 11 & 42 & 41 & 61 & 62 & 63 & 64 & 36 & 35 & 90\\\\\n",
       "\t 10 & 67 & 68 & 32 & 31 & 30 & 29 & 73 & 74 & 91\\\\\n",
       "\t  8 & 75 & 76 & 24 & 23 & 22 & 21 & 81 & 82 & 93\\\\\n",
       "\t  99 &   3 &   4 &   5 &  16 &  17 &  86 &  87 &  88 & 100\\\\\n",
       "\\end{tabular}\n"
      ],
      "text/markdown": [
       "1. 1\n",
       "2. 95\n",
       "3. 94\n",
       "4. 92\n",
       "5. 83\n",
       "6. 12\n",
       "7. 11\n",
       "8. 10\n",
       "9. 8\n",
       "10. 99\n",
       "11. 98\n",
       "12. 19\n",
       "13. 27\n",
       "14. 66\n",
       "15. 58\n",
       "16. 50\n",
       "17. 42\n",
       "18. 67\n",
       "19. 75\n",
       "20. 3\n",
       "21. 97\n",
       "22. 20\n",
       "23. 28\n",
       "24. 65\n",
       "25. 57\n",
       "26. 49\n",
       "27. 41\n",
       "28. 68\n",
       "29. 76\n",
       "30. 4\n",
       "31. 96\n",
       "32. 80\n",
       "33. 72\n",
       "34. 37\n",
       "35. 45\n",
       "36. 53\n",
       "37. 61\n",
       "38. 32\n",
       "39. 24\n",
       "40. 5\n",
       "41. 85\n",
       "42. 79\n",
       "43. 71\n",
       "44. 38\n",
       "45. 46\n",
       "46. 54\n",
       "47. 62\n",
       "48. 31\n",
       "49. 23\n",
       "50. 16\n",
       "51. 84\n",
       "52. 78\n",
       "53. 70\n",
       "54. 39\n",
       "55. 47\n",
       "56. 55\n",
       "57. 63\n",
       "58. 30\n",
       "59. 22\n",
       "60. 17\n",
       "61. 15\n",
       "62. 77\n",
       "63. 69\n",
       "64. 40\n",
       "65. 48\n",
       "66. 56\n",
       "67. 64\n",
       "68. 29\n",
       "69. 21\n",
       "70. 86\n",
       "71. 14\n",
       "72. 25\n",
       "73. 33\n",
       "74. 60\n",
       "75. 52\n",
       "76. 55\n",
       "77. 36\n",
       "78. 73\n",
       "79. 81\n",
       "80. 87\n",
       "81. 13\n",
       "82. 26\n",
       "83. 34\n",
       "84. 59\n",
       "85. 51\n",
       "86. 43\n",
       "87. 35\n",
       "88. 74\n",
       "89. 82\n",
       "90. 88\n",
       "91. 2\n",
       "92. 6\n",
       "93. 7\n",
       "94. 9\n",
       "95. 18\n",
       "96. 89\n",
       "97. 90\n",
       "98. 91\n",
       "99. 93\n",
       "100. 100\n",
       "\n",
       "\n"
      ],
      "text/plain": [
       "      [,1] [,2] [,3] [,4] [,5] [,6] [,7] [,8] [,9] [,10]\n",
       " [1,]    1   98   97   96   85   84   15   14   13     2\n",
       " [2,]   95   19   20   80   79   78   77   25   26     6\n",
       " [3,]   94   27   28   72   71   70   69   33   34     7\n",
       " [4,]   92   66   65   37   38   39   40   60   59     9\n",
       " [5,]   83   58   57   45   46   47   48   52   51    18\n",
       " [6,]   12   50   49   53   54   55   56   55   43    89\n",
       " [7,]   11   42   41   61   62   63   64   36   35    90\n",
       " [8,]   10   67   68   32   31   30   29   73   74    91\n",
       " [9,]    8   75   76   24   23   22   21   81   82    93\n",
       "[10,]   99    3    4    5   16   17   86   87   88   100"
      ]
     },
     "execution_count": 42,
     "metadata": {},
     "output_type": "execute_result"
    }
   ],
   "source": [
    "# modified the larger matrix just a little so it should fail ...\n",
    "\n",
    "my_larger_matrix2 <- matrix(c(1, 95,94,92,83,12,11,10, 8,99,\n",
    "                            98,19,27,66,58,50,42,67,75,3,\n",
    "                            97,20,28,65,57,49,41,68,76,4, \n",
    "                            96,80,72,37,45,53,61,32,24,5,\n",
    "                            85,79,71,38,46,54,62,31,23,16,\n",
    "                            84,78,70,39,47,55,63,30,22,17,\n",
    "                            15,77,69,40,48,56,64,29,21,86,\n",
    "                            14,25,33,60,52,55,36,73,81,87,\n",
    "                            13,26,34,59,51,43,35,74,82,88,\n",
    "                            2, 6, 7, 9,18,89,90,91,93,100), ncol=10)\n",
    "my_larger_matrix2"
   ]
  },
  {
   "cell_type": "markdown",
   "metadata": {},
   "source": [
    "<a id=\"#earlyOut\" name=\"#earlyOut\"></a>\n",
    "\n",
    "## Version One"
   ]
  },
  {
   "cell_type": "markdown",
   "metadata": {},
   "source": [
    "This version of the code exits the magic square test as early as possible as soon as a total proves it is not a magic square."
   ]
  },
  {
   "cell_type": "code",
   "execution_count": 12,
   "metadata": {
    "collapsed": true
   },
   "outputs": [],
   "source": [
    "# This approach:\n",
    "#  * Attempts to walk the matrix calculating as it goes .. it exits if any sums saved is not equal to other sums ...\n",
    "#  * this approach terminates on \"first discovery\" of error instead of having to wait\n",
    "#    until later in the loops to find it ... (at least in theory)\n",
    "#\n",
    "# This approach was written before learning of built in approaches that might work faster\n",
    "\n",
    "is_magic_matrix <- function(a_matrix, suppressMsgs=FALSE) {\n",
    "  rws = nrow(a_matrix)\n",
    "  cls = ncol(a_matrix)\n",
    "  \n",
    "  if (rws != cls) {\n",
    "    if (suppressMsgs == FALSE) {\n",
    "        print(\"Not a Magic Square:\")\n",
    "        print(paste0(c(\"row/col dimensions not equal:\", rws, cls), collapse=\" \"))        \n",
    "    }\n",
    "    return(-1) \n",
    "  }\n",
    "\n",
    "  # 3x3 is the smallest magic square according to the web\n",
    "  # so this version of the code does not accept 2x2 as valid\n",
    "  \n",
    "  if (rws < 3) { \n",
    "    if (suppressMsgs == FALSE) {    \n",
    "        print(\"Not a Magic Square:\")\n",
    "        print(paste0(\"row not > 3, rows = \", rws))\n",
    "    }\n",
    "    return(-1) \n",
    "  }\n",
    "  \n",
    "  # future enhancement note: collapse to single gridline total?\n",
    "    \n",
    "  rowTot     <- 0\n",
    "  colTot     <- 0\n",
    "  diagAccum  <- 0\n",
    "  diagAccum2 <- 0\n",
    "  d2_offset  <- 1\n",
    "  \n",
    "  msg1 <- \"Not a Magic Square - Failed this test:\"\n",
    "    \n",
    "  for(i in 1:rws) {\n",
    "    for(j in 1:cls) {\n",
    "      # this approach should only perform calculations when needed:\n",
    "      # Note: if(i==j==1) threw an error (unexpected \"==\")\n",
    "      if(i == 1 & j == 1) {\n",
    "        ###############################################################\n",
    "        # we are in the first cell:  a_matrix[1, 1]\n",
    "        # initialize these and do a quick test:\n",
    "        rowTot <- sum(a_matrix[i,1:cls])\n",
    "        colTot <- sum(a_matrix[1:rws, j])\n",
    "        \n",
    "        if (rowTot != colTot) {\n",
    "          # failed row/col equiv test, get out w/ -1\n",
    "          if (suppressMsgs == FALSE) {\n",
    "              print(msg1)\n",
    "              print(paste0(\"a_matrix[1,1] - row and col sums:\", rowTot, colTot, \n",
    "                     collapse=\" \"))\n",
    "          }\n",
    "          return(-1)\n",
    "        }\n",
    "        # intialize the left to right diagonal w/ first value\n",
    "        diagAccum <- a_matrix[i, j]\n",
    "        \n",
    "        # intialize right to left diagonal w/ first value \n",
    "        diagAccum2 <- a_matrix[i, cls]\n",
    "        \n",
    "        ###############################################################  \n",
    "      } else {\n",
    "        # i, j, and 1 are not all equivelent, therefore this condition\n",
    "        # starts with any cell that is not a_matrix[1, 1]\n",
    "        \n",
    "        if (i == 1) {\n",
    "          #############################################################\n",
    "          # we are on first row but not in a_matrix[1][1]\n",
    "          # here we can calculate and check rest of the columns\n",
    "          #\n",
    "          if (colTot == sum(a_matrix[1:rws, j])) {\n",
    "            # passed test for this column\n",
    "          } else {\n",
    "            # not all columns equal - get out:\n",
    "            if (suppressMsgs == FALSE) {\n",
    "                print(msg1)\n",
    "                print(paste0(\"a_matrix[1, \", j, \"] - col sums not equal: \",  \n",
    "                             colTot, \" \", sum(a_matrix[1:rws, j])))\n",
    "            }\n",
    "            return(-1)\n",
    "          }\n",
    "          #############################################################\n",
    "        }\n",
    "        \n",
    "        if (j == 1) {\n",
    "          #############################################################\n",
    "          # we on first column but not in a_matrix[1][1]\n",
    "          # here we cna calculate and check the rest of the rows\n",
    "          #\n",
    "          if (rowTot == sum(a_matrix[i,1:cls])) {\n",
    "            # passed test for this column\n",
    "          } else {\n",
    "            # not all columns equal - get out:\n",
    "            if (suppressMsgs == FALSE) {\n",
    "                print(msg1)\n",
    "                print(paste0(\"a_matrix[1, \", j, \"] - row sums not equal: \",  \n",
    "                             rowTot, \" \", sum(a_matrix[i,1:cls])))\n",
    "            }\n",
    "            return(-1)\n",
    "          }\n",
    "          #############################################################\n",
    "        }\n",
    "        \n",
    "        if (i == j) {\n",
    "          # starting with a_matrix[2, 2], then [3, 3] etc.\n",
    "          # this will build up the left to right diagonal\n",
    "          \n",
    "          diagAccum  <- diagAccum  + a_matrix[i, j]\n",
    "          diagAccum2 <- diagAccum2 + a_matrix[i, (cls - d2_offset)]\n",
    "          \n",
    "          # increment the offset after each use\n",
    "          d2_offset <- d2_offset + 1  \n",
    "        }\n",
    "\n",
    "      } ###### (complex conditional ends here) ########################\n",
    "    } ##### (inner loop ends here) #################################### \n",
    "  } ##### (outer loop ends here) ######################################  \n",
    "  if (diagAccum == diagAccum2 & \n",
    "      rowTot == colTot &\n",
    "      diagAccum == rowTot) { \n",
    "    # passed all tests give us back the magic number as return value:\n",
    "    return(rowTot)\n",
    "  } else {\n",
    "    # tell us what went wrong and return -1\n",
    "    if (suppressMsgs == FALSE) {\n",
    "        print(\"Almost made it but not a magic Square:\")\n",
    "        print(paste0(\"row total : \", rowTot ))\n",
    "        print(paste0(\"col total : \", colTot ))\n",
    "        print(paste0(\"l-2-r diag: \", diagAccum))\n",
    "        print(paste0(\"r-2-l diag: \", diagAccum2))\n",
    "    }\n",
    "    return(-1)\n",
    "  }\n",
    "  # code ends here ...\n",
    "} # final closing bracket ... "
   ]
  },
  {
   "cell_type": "code",
   "execution_count": 25,
   "metadata": {
    "collapsed": false
   },
   "outputs": [
    {
     "name": "stdout",
     "output_type": "stream",
     "text": [
      "     [,1] [,2] [,3]\n",
      "[1,]    8    1    6\n",
      "[2,]    3    5    7\n",
      "[3,]    4    9    2\n",
      "[1] \"my_mat is a magic square w/ a magic number of:\"\n",
      "[1] 15\n"
     ]
    }
   ],
   "source": [
    "test_magic_squareFunction <- function(mtrx, suppressMsgs=FALSE) {\n",
    "  rtnVal = is_magic_matrix(mtrx, suppressMsgs)\n",
    "  if (suppressMsgs == FALSE) {\n",
    "      if (rtnVal == -1) {\n",
    "        print(paste0(\"Previous messages show how this matrix failed the magic \", \n",
    "                     \"square test.\"))\n",
    "      } else {\n",
    "        print(\"my_mat is a magic square w/ a magic number of:\")\n",
    "        print(rtnVal)\n",
    "      }      \n",
    "  }\n",
    "}\n",
    "\n",
    "print(my_mat)\n",
    "test_magic_squareFunction(my_mat)"
   ]
  },
  {
   "cell_type": "code",
   "execution_count": 26,
   "metadata": {
    "collapsed": false
   },
   "outputs": [
    {
     "data": {
      "text/html": [
       "<table>\n",
       "<tbody>\n",
       "\t<tr><td>50</td><td> 1</td><td> 6</td></tr>\n",
       "\t<tr><td>3</td><td>5</td><td>7</td></tr>\n",
       "\t<tr><td>4</td><td>9</td><td>2</td></tr>\n",
       "</tbody>\n",
       "</table>\n"
      ],
      "text/latex": [
       "\\begin{tabular}{lll}\n",
       "\t 50 &  1 &  6\\\\\n",
       "\t 3 & 5 & 7\\\\\n",
       "\t 4 & 9 & 2\\\\\n",
       "\\end{tabular}\n"
      ],
      "text/markdown": [
       "1. 50\n",
       "2. 3\n",
       "3. 4\n",
       "4. 1\n",
       "5. 5\n",
       "6. 9\n",
       "7. 6\n",
       "8. 7\n",
       "9. 2\n",
       "\n",
       "\n"
      ],
      "text/plain": [
       "     [,1] [,2] [,3]\n",
       "[1,]   50    1    6\n",
       "[2,]    3    5    7\n",
       "[3,]    4    9    2"
      ]
     },
     "execution_count": 26,
     "metadata": {},
     "output_type": "execute_result"
    },
    {
     "name": "stdout",
     "output_type": "stream",
     "text": [
      "[1] \"Not a Magic Square - Failed this test:\"\n",
      "[1] \"a_matrix[1, 2] - col sums not equal: 57 15\"\n",
      "[1] \"Previous messages show how this matrix failed the magic square test.\"\n"
     ]
    }
   ],
   "source": [
    "# altering a copy of my_mat so it is slightly off and will fail\n",
    "my_mat2\n",
    "test_magic_squareFunction(my_mat2)"
   ]
  },
  {
   "cell_type": "code",
   "execution_count": 27,
   "metadata": {
    "collapsed": false
   },
   "outputs": [
    {
     "data": {
      "text/html": [
       "<table>\n",
       "<tbody>\n",
       "\t<tr><td>8</td><td>1</td><td>6</td></tr>\n",
       "\t<tr><td> 3</td><td> 5</td><td>10</td></tr>\n",
       "\t<tr><td>4</td><td>9</td><td>2</td></tr>\n",
       "</tbody>\n",
       "</table>\n"
      ],
      "text/latex": [
       "\\begin{tabular}{lll}\n",
       "\t 8 & 1 & 6\\\\\n",
       "\t  3 &  5 & 10\\\\\n",
       "\t 4 & 9 & 2\\\\\n",
       "\\end{tabular}\n"
      ],
      "text/markdown": [
       "1. 8\n",
       "2. 3\n",
       "3. 4\n",
       "4. 1\n",
       "5. 5\n",
       "6. 9\n",
       "7. 6\n",
       "8. 10\n",
       "9. 2\n",
       "\n",
       "\n"
      ],
      "text/plain": [
       "     [,1] [,2] [,3]\n",
       "[1,]    8    1    6\n",
       "[2,]    3    5   10\n",
       "[3,]    4    9    2"
      ]
     },
     "execution_count": 27,
     "metadata": {},
     "output_type": "execute_result"
    },
    {
     "name": "stdout",
     "output_type": "stream",
     "text": [
      "[1] \"Not a Magic Square - Failed this test:\"\n",
      "[1] \"a_matrix[1, 3] - col sums not equal: 15 18\"\n",
      "[1] \"Previous messages show how this matrix failed the magic square test.\"\n"
     ]
    }
   ],
   "source": [
    "# another test ... more similar to original but should still fail\n",
    "my_mat3\n",
    "test_magic_squareFunction(my_mat3)"
   ]
  },
  {
   "cell_type": "code",
   "execution_count": 28,
   "metadata": {
    "collapsed": false
   },
   "outputs": [
    {
     "name": "stdout",
     "output_type": "stream",
     "text": [
      "[1] \"my_mat is a magic square w/ a magic number of:\"\n",
      "[1] 505\n"
     ]
    }
   ],
   "source": [
    "# test with a larger magic square (this one should pass)\n",
    "test_magic_squareFunction(my_larger_matrix)"
   ]
  },
  {
   "cell_type": "code",
   "execution_count": 29,
   "metadata": {
    "collapsed": false
   },
   "outputs": [
    {
     "name": "stdout",
     "output_type": "stream",
     "text": [
      "[1] \"Not a Magic Square - Failed this test:\"\n",
      "[1] \"a_matrix[1, 8] - col sums not equal: 505 516\"\n",
      "[1] \"Previous messages show how this matrix failed the magic square test.\"\n"
     ]
    }
   ],
   "source": [
    "# modified the larger matrix just a little so it should fail ...\n",
    "test_magic_squareFunction(my_larger_matrix2)"
   ]
  },
  {
   "cell_type": "code",
   "execution_count": 33,
   "metadata": {
    "collapsed": false
   },
   "outputs": [
    {
     "data": {
      "text/html": [
       "15"
      ],
      "text/latex": [
       "15"
      ],
      "text/markdown": [
       "15"
      ],
      "text/plain": [
       "[1] 15"
      ]
     },
     "execution_count": 33,
     "metadata": {},
     "output_type": "execute_result"
    },
    {
     "data": {
      "text/html": [
       "-1"
      ],
      "text/latex": [
       "-1"
      ],
      "text/markdown": [
       "-1"
      ],
      "text/plain": [
       "[1] -1"
      ]
     },
     "execution_count": 33,
     "metadata": {},
     "output_type": "execute_result"
    }
   ],
   "source": [
    "# not a magic square = -1\n",
    "# magic square returns the magic number\n",
    "# this is how to turn off all output messages and just pass the return value\n",
    "\n",
    "is_magic_matrix(my_mat, TRUE)\n",
    "is_magic_matrix(my_mat2, TRUE)"
   ]
  },
  {
   "cell_type": "code",
   "execution_count": 34,
   "metadata": {
    "collapsed": false
   },
   "outputs": [
    {
     "data": {
      "text/plain": [
       "   user  system elapsed \n",
       "   0.66    0.00    0.76 "
      ]
     },
     "execution_count": 34,
     "metadata": {},
     "output_type": "execute_result"
    }
   ],
   "source": [
    "# time performance metrics ... runs two magic square tests 1000 times\n",
    "system.time({\n",
    "  for (i in 1:1000) {\n",
    "      is_magic_matrix(my_larger_matrix, TRUE)  \n",
    "      is_magic_matrix(my_larger_matrix2, TRUE)      \n",
    "  }\n",
    "})"
   ]
  },
  {
   "cell_type": "markdown",
   "metadata": {},
   "source": [
    "<a id=\"#rOpt\" name=\"#rOpt\"></a>\n",
    "## Version Two\n",
    "This version exploits builtin functions which should provide an optimized performance boost despite the fact that code cannot exit as early in the test as in the previous version."
   ]
  },
  {
   "cell_type": "code",
   "execution_count": 58,
   "metadata": {
    "collapsed": true
   },
   "outputs": [],
   "source": [
    "is_magic <- function(mat, suppressMsgs=FALSE){\n",
    "    if (dim(mat)[1] != dim(mat)[2]) {\n",
    "        if (suppressMsgs==FALSE) {\n",
    "            print(\"Dimensions uneven - this is not even a square!\")\n",
    "        }\n",
    "        return(-1)\n",
    "    }\n",
    "    \n",
    "    diag1 = sum(diag(mat))\n",
    "    diag2 = sum(diag(mat[nrow(mat):1,]))\n",
    "    \n",
    "    if (diag1 != diag2) {\n",
    "        if (suppressMsgs==FALSE) {\n",
    "            print(\"Diagonals don't match!\")\n",
    "        }\n",
    "        return(-1)\n",
    "    } else {\n",
    "        rwsCalc =  rowSums(mat)\n",
    "        for(i in 1:length(rwsCalc)) {\n",
    "            if (rwsCalc[i] != diag2) {\n",
    "                if (suppressMsgs==FALSE) {\n",
    "                    print(\"Sum of a row did not match diagonals!\")\n",
    "                }\n",
    "                return(-1)\n",
    "            }\n",
    "        }\n",
    "        colsCalc = colSums(mat)\n",
    "        for(i in 1:length(colsCalc)) {\n",
    "            if (colsCalc[i] != diag2) {\n",
    "                if (suppressMsgs==FALSE) {\n",
    "                    print(\"Sum of a column did not match a diagonal!\")\n",
    "                }\n",
    "                return(-1)\n",
    "            }\n",
    "        }\n",
    "        if (suppressMsgs==FALSE) {\n",
    "            print(\"This is a Magic square!\")\n",
    "        }        \n",
    "        return(diag2)\n",
    "    }\n",
    "}"
   ]
  },
  {
   "cell_type": "code",
   "execution_count": 59,
   "metadata": {
    "collapsed": false
   },
   "outputs": [
    {
     "name": "stdout",
     "output_type": "stream",
     "text": [
      "     [,1] [,2] [,3]\n",
      "[1,]    8    1    6\n",
      "[2,]    3    5    7\n",
      "[3,]    4    9    2\n",
      "[1] \"This is a Magic square!\"\n",
      "[1] 15\n"
     ]
    }
   ],
   "source": [
    "test_magic_squareFunction2 <- function(mtrx, suppressMsgs=FALSE) {\n",
    "  rtnVal = is_magic(mtrx, suppressMsgs)\n",
    "  if (suppressMsgs == FALSE) {\n",
    "      if (rtnVal == -1) {\n",
    "        print(paste0(\"Previous messages show how this matrix failed the magic \", \n",
    "                     \"square test.\"))\n",
    "      } else {\n",
    "        print(rtnVal)\n",
    "      }      \n",
    "  }\n",
    "}\n",
    "\n",
    "print(my_mat)\n",
    "test_magic_squareFunction2(my_mat)"
   ]
  },
  {
   "cell_type": "code",
   "execution_count": 60,
   "metadata": {
    "collapsed": false
   },
   "outputs": [
    {
     "data": {
      "text/html": [
       "<table>\n",
       "<tbody>\n",
       "\t<tr><td>50</td><td> 1</td><td> 6</td></tr>\n",
       "\t<tr><td>3</td><td>5</td><td>7</td></tr>\n",
       "\t<tr><td>4</td><td>9</td><td>2</td></tr>\n",
       "</tbody>\n",
       "</table>\n"
      ],
      "text/latex": [
       "\\begin{tabular}{lll}\n",
       "\t 50 &  1 &  6\\\\\n",
       "\t 3 & 5 & 7\\\\\n",
       "\t 4 & 9 & 2\\\\\n",
       "\\end{tabular}\n"
      ],
      "text/markdown": [
       "1. 50\n",
       "2. 3\n",
       "3. 4\n",
       "4. 1\n",
       "5. 5\n",
       "6. 9\n",
       "7. 6\n",
       "8. 7\n",
       "9. 2\n",
       "\n",
       "\n"
      ],
      "text/plain": [
       "     [,1] [,2] [,3]\n",
       "[1,]   50    1    6\n",
       "[2,]    3    5    7\n",
       "[3,]    4    9    2"
      ]
     },
     "execution_count": 60,
     "metadata": {},
     "output_type": "execute_result"
    },
    {
     "name": "stdout",
     "output_type": "stream",
     "text": [
      "[1] \"Diagonals don't match!\"\n",
      "[1] \"Previous messages show how this matrix failed the magic square test.\"\n"
     ]
    }
   ],
   "source": [
    "# altering a copy of my_mat so it is slightly off and will fail\n",
    "my_mat2\n",
    "test_magic_squareFunction2(my_mat2)"
   ]
  },
  {
   "cell_type": "code",
   "execution_count": 61,
   "metadata": {
    "collapsed": false
   },
   "outputs": [
    {
     "data": {
      "text/html": [
       "<table>\n",
       "<tbody>\n",
       "\t<tr><td>8</td><td>1</td><td>6</td></tr>\n",
       "\t<tr><td> 3</td><td> 5</td><td>10</td></tr>\n",
       "\t<tr><td>4</td><td>9</td><td>2</td></tr>\n",
       "</tbody>\n",
       "</table>\n"
      ],
      "text/latex": [
       "\\begin{tabular}{lll}\n",
       "\t 8 & 1 & 6\\\\\n",
       "\t  3 &  5 & 10\\\\\n",
       "\t 4 & 9 & 2\\\\\n",
       "\\end{tabular}\n"
      ],
      "text/markdown": [
       "1. 8\n",
       "2. 3\n",
       "3. 4\n",
       "4. 1\n",
       "5. 5\n",
       "6. 9\n",
       "7. 6\n",
       "8. 10\n",
       "9. 2\n",
       "\n",
       "\n"
      ],
      "text/plain": [
       "     [,1] [,2] [,3]\n",
       "[1,]    8    1    6\n",
       "[2,]    3    5   10\n",
       "[3,]    4    9    2"
      ]
     },
     "execution_count": 61,
     "metadata": {},
     "output_type": "execute_result"
    },
    {
     "name": "stdout",
     "output_type": "stream",
     "text": [
      "[1] \"Sum of a row did not match diagonals!\"\n",
      "[1] \"Previous messages show how this matrix failed the magic square test.\"\n"
     ]
    }
   ],
   "source": [
    "my_mat3\n",
    "test_magic_squareFunction2(my_mat3)"
   ]
  },
  {
   "cell_type": "code",
   "execution_count": 62,
   "metadata": {
    "collapsed": false
   },
   "outputs": [
    {
     "name": "stdout",
     "output_type": "stream",
     "text": [
      "[1] \"This is a Magic square!\"\n",
      "[1] 505\n"
     ]
    }
   ],
   "source": [
    "# test with a larger magic square (this one should pass)\n",
    "test_magic_squareFunction2(my_larger_matrix)"
   ]
  },
  {
   "cell_type": "code",
   "execution_count": 64,
   "metadata": {
    "collapsed": false
   },
   "outputs": [
    {
     "name": "stdout",
     "output_type": "stream",
     "text": [
      "[1] \"Sum of a row did not match diagonals!\"\n",
      "[1] \"Previous messages show how this matrix failed the magic square test.\"\n"
     ]
    }
   ],
   "source": [
    "# test with a larger magic square (this one should pass)\n",
    "test_magic_squareFunction2(my_larger_matrix2)"
   ]
  },
  {
   "cell_type": "code",
   "execution_count": 65,
   "metadata": {
    "collapsed": false
   },
   "outputs": [
    {
     "data": {
      "text/html": [
       "15"
      ],
      "text/latex": [
       "15"
      ],
      "text/markdown": [
       "15"
      ],
      "text/plain": [
       "[1] 15"
      ]
     },
     "execution_count": 65,
     "metadata": {},
     "output_type": "execute_result"
    },
    {
     "data": {
      "text/html": [
       "-1"
      ],
      "text/latex": [
       "-1"
      ],
      "text/markdown": [
       "-1"
      ],
      "text/plain": [
       "[1] -1"
      ]
     },
     "execution_count": 65,
     "metadata": {},
     "output_type": "execute_result"
    }
   ],
   "source": [
    "# not a magic square = -1\n",
    "# magic square returns the magic number\n",
    "# this is how to turn off all output messages and just pass the return value\n",
    "\n",
    "is_magic(my_mat, TRUE)\n",
    "is_magic(my_mat2, TRUE)"
   ]
  },
  {
   "cell_type": "code",
   "execution_count": 66,
   "metadata": {
    "collapsed": false
   },
   "outputs": [
    {
     "data": {
      "text/plain": [
       "   user  system elapsed \n",
       "   0.19    0.00    0.28 "
      ]
     },
     "execution_count": 66,
     "metadata": {},
     "output_type": "execute_result"
    }
   ],
   "source": [
    "# time performance metrics ... runs two magic square tests 1000 times\n",
    "system.time({\n",
    "  for (i in 1:1000) {\n",
    "      is_magic(my_larger_matrix, TRUE)  \n",
    "      is_magic(my_larger_matrix2, TRUE)      \n",
    "  }\n",
    "})"
   ]
  },
  {
   "cell_type": "code",
   "execution_count": null,
   "metadata": {
    "collapsed": true
   },
   "outputs": [],
   "source": []
  }
 ],
 "metadata": {
  "anaconda-cloud": {},
  "kernelspec": {
   "display_name": "R [conda env:R_wPY35]",
   "language": "R",
   "name": "conda-env-R_wPY35-r"
  },
  "language_info": {
   "codemirror_mode": "r",
   "file_extension": ".r",
   "mimetype": "text/x-r-source",
   "name": "R",
   "pygments_lexer": "r",
   "version": "3.1.3"
  }
 },
 "nbformat": 4,
 "nbformat_minor": 2
}
