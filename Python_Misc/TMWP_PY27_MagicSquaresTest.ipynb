{
 "cells": [
  {
   "cell_type": "markdown",
   "metadata": {
    "slideshow": {
     "slide_type": "notes"
    }
   },
   "source": [
    "<div align=\"right\">Env: Python 2.7 (PY27_Test)</div>"
   ]
  },
  {
   "cell_type": "markdown",
   "metadata": {
    "internals": {
     "slide_helper": "subslide_end",
     "slide_type": "subslide"
    },
    "slide_helper": "slide_end",
    "slideshow": {
     "slide_type": "slide"
    }
   },
   "source": [
    "# Testing For Magic Squares (Using Python / numpy)"
   ]
  },
  {
   "cell_type": "markdown",
   "metadata": {
    "internals": {
     "slide_type": "subslide"
    },
    "slideshow": {
     "slide_type": "slide"
    }
   },
   "source": [
    "A magic square is a matrix all of whose row sums, column sums and the sums of its two diagonals are the same. (One diagonal of a matrix goes from the top left to the bottom right, the other diagonal goes from top right to bottom left.)  Each number in the magic square can only be used once. More information on magic squares and the distinction between \"normal\" and \"non-normal\" magic squares can be found at this linke:\n",
    "\n",
    "[Magic Squares on Wikipedia](https://en.wikipedia.org/wiki/Magic_square)\n",
    "\n",
    "Also of interest, this link outlines some of the history, many different flavors of magic squares and considerations for writing an algorithm to create them (a possible future enhancement to this notebook):\n",
    "\n",
    "[David Darling Magic Square research](http://www.daviddarling.info/encyclopedia/M/magic_square.html)\n",
    "\n",
    "In a \"normal magic square\", a $n \\times n$ magic matrix is constructed by $(1, 2, 3 ... n^2)$. For example, here is a $3\\times 3$ normal magic array:\n",
    "$$\\left[\n",
    "\\begin{array}{cc}\n",
    "8 & 1 & 6 \\\\\n",
    "3 & 5 & 7 \\\\\n",
    "4 & 9 & 2\n",
    "\\end{array}\n",
    "\\right]$$\n",
    "\n",
    "The code which follows was designed to test if a matrix is a magic square.  To do this, it performs the following checks predominantly using Python numpy functions:\n",
    "\n",
    "1. Is it a square matrix?\n",
    "2. Is it constructed by $(1, 2, 3, ... n^2)$?\n",
    "3. Are the sums of rows, columns and diagonals the same?"
   ]
  },
  {
   "cell_type": "code",
   "execution_count": 2,
   "metadata": {
    "collapsed": false,
    "internals": {},
    "slideshow": {
     "slide_type": "-"
    }
   },
   "outputs": [],
   "source": [
    "### write your code here\n",
    "\n",
    "import numpy as np\n",
    "\n",
    "def isMagic(mtrx1):\n",
    "    '''isMagic(mtrx1) -> \\n\\nexpects a matrix.  Returns a tuple: (isMagic=T/F, string=\"Reason Failed\" | \"Magic Square\").'''\n",
    "    if len(mtrx1.shape)!=2 or mtrx1.shape[0] != mtrx1.shape[1]:\n",
    "        # shape of square = 2 and both dimensions are equal (test)\n",
    "        return (False, \"Not a Square, so not a Magic Square\")\n",
    "    \n",
    "    if mtrx1.max() != mtrx1.shape[0]**2 or mtrx1.min() != 1:\n",
    "        # automatically fails (1,2,3 ... n**2) test because largest or smallest does not match the sequence\n",
    "        return (False, \"Failed: [1,2 ... sqr(n)] test (max/min incorrect).\")\n",
    "    else:\n",
    "        # met first condition of (1,2,3 ... n**2), now we check whole matrix\n",
    "        # note: that this test is really for \"normal magic squares\", as per wikipedia, \"non-normal\" magic squares can\n",
    "        #       violate this rule: https://en.wikipedia.org/wiki/Magic_square\n",
    "        \n",
    "        mtrx1b = np.sort(mtrx1.reshape(1, mtrx1.shape[0]**2))\n",
    "        mtrx2 = np.mat(np.arange(1, mtrx1.shape[0]**2+1))\n",
    "                \n",
    "        if np.equal(mtrx1b, mtrx2).all():\n",
    "            mtrx1b = np.zeros([1, mtrx1.shape[0]]) + (np.sum(mtrx1) // mtrx1.shape[0])   # comparison array for sums   \n",
    "            if not np.equal(mtrx1b, np.sum(mtrx1, 0)).all():       # test sum of columns\n",
    "                return (False, \"Failed: sum of columns test\")\n",
    "            elif not np.equal(mtrx1b, np.sum(mtrx1, 1)).all():     # test sum of rows\n",
    "                return (False, \"Failed: sum of rows test\")\n",
    "            elif not np.equal(mtrx1b, sum(np.diag(mtrx1))).all():  # test main diagonal\n",
    "                return (False, \"Failed: sum of diagonals test (main diagonal)\")\n",
    "            elif not np.equal(mtrx1b, sum(np.diag(np.fliplr(mtrx1)))).all():  # test other diagonal\n",
    "                return (False, \"Failed: sum of diagonals test (2nd diagonal)\")                            \n",
    "            else:\n",
    "                return (True, \"Magic Square\")\n",
    "        else:\n",
    "            # if test sorts matrix values and compares them to the 1 ...n**2 sequence ... upon failure we land here:\n",
    "            return (False, \"Failed: [1,2 ... sqr(n)] test (1+ values do not match)\")"
   ]
  },
  {
   "cell_type": "code",
   "execution_count": 3,
   "metadata": {
    "collapsed": false
   },
   "outputs": [
    {
     "name": "stdout",
     "output_type": "stream",
     "text": [
      "(False, 'Not a Square, so not a Magic Square')\n",
      "(False, 'Failed: [1,2 ... sqr(n)] test (max/min incorrect).')\n",
      "(False, 'Failed: [1,2 ... sqr(n)] test (max/min incorrect).')\n",
      "(False, 'Failed: [1,2 ... sqr(n)] test (1+ values do not match)')\n",
      "(False, 'Failed: sum of columns test')\n",
      "(True, 'Magic Square')\n"
     ]
    }
   ],
   "source": [
    "# a few test objects for our function (in addition to the ones provided):\n",
    "noMagicSq = np.mat(np.arange(1,10)).reshape(3,3)\n",
    "magicSq = np.mat([[8,1,6],[3,5,7],[4,9,2]])\n",
    "oddmtrx = np.mat([[1,2],[3,4], [5,6]])\n",
    "notNsqSeq = np.mat([[11,1,6],[3,5,7],[4,9,2]])\n",
    "notNsqSeq2 = np.mat([[0,1,6],[3,5,7],[4,9,2]])\n",
    "notNsqSeq3 = np.mat([[8,1,7],[3,5,7],[4,9,2]])\n",
    "\n",
    "print(isMagic(oddmtrx))\n",
    "print(isMagic(notNsqSeq))\n",
    "print(isMagic(notNsqSeq2))\n",
    "print(isMagic(notNsqSeq3))\n",
    "print(isMagic(noMagicSq))\n",
    "print(isMagic(magicSq))"
   ]
  },
  {
   "cell_type": "markdown",
   "metadata": {
    "internals": {},
    "slideshow": {
     "slide_type": "-"
    }
   },
   "source": [
    "Here are some tests:"
   ]
  },
  {
   "cell_type": "code",
   "execution_count": 4,
   "metadata": {
    "collapsed": false,
    "internals": {},
    "slideshow": {
     "slide_type": "-"
    }
   },
   "outputs": [
    {
     "data": {
      "text/plain": [
       "(False, 'Failed: [1,2 ... sqr(n)] test (max/min incorrect).')"
      ]
     },
     "execution_count": 4,
     "metadata": {},
     "output_type": "execute_result"
    }
   ],
   "source": [
    "test1 = np.array([[0, 1], \n",
    "                  [1, 0]]) \n",
    "isMagic(test1) # False"
   ]
  },
  {
   "cell_type": "code",
   "execution_count": 5,
   "metadata": {
    "collapsed": false,
    "internals": {},
    "slideshow": {
     "slide_type": "-"
    }
   },
   "outputs": [
    {
     "data": {
      "text/plain": [
       "(True, 'Magic Square')"
      ]
     },
     "execution_count": 5,
     "metadata": {},
     "output_type": "execute_result"
    }
   ],
   "source": [
    "test2 = np.array([[8, 1, 6],\n",
    "                  [3, 5, 7],\n",
    "                  [4, 9, 2]])\n",
    "isMagic(test2) # True"
   ]
  },
  {
   "cell_type": "code",
   "execution_count": 6,
   "metadata": {
    "collapsed": false,
    "internals": {},
    "slideshow": {
     "slide_type": "-"
    }
   },
   "outputs": [
    {
     "data": {
      "text/plain": [
       "(True, 'Magic Square')"
      ]
     },
     "execution_count": 6,
     "metadata": {},
     "output_type": "execute_result"
    }
   ],
   "source": [
    "test3 = np.array([[16, 2, 3, 13],\n",
    "                  [5, 11, 10, 8],\n",
    "                  [9,  7, 6, 12],\n",
    "                  [4, 14, 15, 1]]) \n",
    "isMagic(test3) # True"
   ]
  },
  {
   "cell_type": "code",
   "execution_count": 7,
   "metadata": {
    "collapsed": false,
    "internals": {},
    "slideshow": {
     "slide_type": "-"
    }
   },
   "outputs": [
    {
     "data": {
      "text/plain": [
       "(True, 'Magic Square')"
      ]
     },
     "execution_count": 7,
     "metadata": {},
     "output_type": "execute_result"
    }
   ],
   "source": [
    "test4 = np.array([[17, 24,  1,  8, 15],\n",
    "                  [23,  5,  7, 14, 16],\n",
    "                  [4,   6, 13, 20, 22],\n",
    "                  [10, 12, 19, 21,  3],\n",
    "                  [11, 18, 25, 2,   9]]) \n",
    "isMagic(test4) # True"
   ]
  },
  {
   "cell_type": "code",
   "execution_count": 8,
   "metadata": {
    "collapsed": false,
    "internals": {
     "slide_helper": "subslide_end"
    },
    "slide_helper": "slide_end",
    "slideshow": {
     "slide_type": "-"
    }
   },
   "outputs": [
    {
     "data": {
      "text/plain": [
       "(True, 'Magic Square')"
      ]
     },
     "execution_count": 8,
     "metadata": {},
     "output_type": "execute_result"
    }
   ],
   "source": [
    "test5 = np.array([[35, 1, 6, 26, 19, 24],\n",
    "                  [3, 32, 7, 21, 23, 25],\n",
    "                  [31, 9, 2, 22, 27, 20],\n",
    "                  [8, 28, 33, 17, 10,15],\n",
    "                  [30, 5, 34, 12, 14,16],\n",
    "                  [4, 36, 29, 13, 18,11]])\n",
    "isMagic(test5) # True"
   ]
  },
  {
   "cell_type": "code",
   "execution_count": 9,
   "metadata": {
    "collapsed": false
   },
   "outputs": [
    {
     "data": {
      "text/plain": [
       "(False, 'Failed: [1,2 ... sqr(n)] test (1+ values do not match)')"
      ]
     },
     "execution_count": 9,
     "metadata": {},
     "output_type": "execute_result"
    }
   ],
   "source": [
    "# additional testing (just to see some of the other code in action)\n",
    "test5b = np.array([[35, 1, 6, 26, 19, 24],\n",
    "                  [3, 32, 7, 21, 23, 25],\n",
    "                  [31, 9, 2, 22, 27, 20],\n",
    "                  [8, 28, 33, 2, 10,15],\n",
    "                  [30, 5, 34, 12, 14,16],\n",
    "                  [4, 36, 29, 13, 18,11]])\n",
    "isMagic(test5b) # False (changed one value to dupe of another)"
   ]
  },
  {
   "cell_type": "code",
   "execution_count": 10,
   "metadata": {
    "collapsed": false
   },
   "outputs": [
    {
     "data": {
      "text/plain": [
       "(False, 'Failed: sum of columns test')"
      ]
     },
     "execution_count": 10,
     "metadata": {},
     "output_type": "execute_result"
    }
   ],
   "source": [
    "test5c = np.array([[35, 1, 6, 26, 19, 24],\n",
    "                  [3, 32, 7, 21, 23, 25],\n",
    "                  [31, 9, 2, 22, 27, 20],\n",
    "                  [8, 28, 12, 17, 10,15],\n",
    "                  [30, 5, 34, 33, 14,16],\n",
    "                  [4, 36, 29, 13, 18,11]])\n",
    "isMagic(test5c) # False (switched two diagonal values)"
   ]
  },
  {
   "cell_type": "code",
   "execution_count": 11,
   "metadata": {
    "collapsed": false
   },
   "outputs": [
    {
     "data": {
      "text/plain": [
       "(False, 'Failed: sum of rows test')"
      ]
     },
     "execution_count": 11,
     "metadata": {},
     "output_type": "execute_result"
    }
   ],
   "source": [
    "test5d = np.array([[35, 1, 6, 26, 19, 24],\n",
    "                  [3, 32, 7, 21, 23, 25],\n",
    "                  [31, 9, 2, 22, 27, 15],\n",
    "                  [8, 28, 33, 17, 10,20],\n",
    "                  [30, 5, 34, 12, 14,16],\n",
    "                  [4, 36, 29, 13, 18,11]])\n",
    "isMagic(test5d) # False (flipped values from two different rows)"
   ]
  },
  {
   "cell_type": "code",
   "execution_count": 13,
   "metadata": {
    "collapsed": false
   },
   "outputs": [
    {
     "data": {
      "text/plain": [
       "(False, 'Failed: sum of diagonals test (main diagonal)')"
      ]
     },
     "execution_count": 13,
     "metadata": {},
     "output_type": "execute_result"
    }
   ],
   "source": [
    "test6 = np.array([[16, 3, 2, 13],\n",
    "                  [5, 10, 11, 8],\n",
    "                  [4, 15, 14, 1],\n",
    "                  [9, 6, 7, 12]])\n",
    "isMagic(test6) # False:  \"semimagic square\":  only rows and column = the magic number "
   ]
  },
  {
   "cell_type": "markdown",
   "metadata": {
    "collapsed": true,
    "slideshow": {
     "slide_type": "notes"
    }
   },
   "source": [
    "More resources on magic squares:\n",
    "    \n",
    "- https://archive.lib.msu.edu/crcmath/math/math/m/m029.htm\n",
    "- http://www.mathematische-basteleien.de/magsquare.htm"
   ]
  },
  {
   "cell_type": "code",
   "execution_count": null,
   "metadata": {
    "collapsed": true
   },
   "outputs": [],
   "source": []
  }
 ],
 "metadata": {
  "anaconda-cloud": {},
  "celltoolbar": "Slideshow",
  "kernelspec": {
   "display_name": "Python [conda env:PY27_Test]",
   "language": "python",
   "name": "conda-env-PY27_Test-py"
  },
  "language_info": {
   "codemirror_mode": {
    "name": "ipython",
    "version": 2
   },
   "file_extension": ".py",
   "mimetype": "text/x-python",
   "name": "python",
   "nbconvert_exporter": "python",
   "pygments_lexer": "ipython2",
   "version": "2.7.13"
  }
 },
 "nbformat": 4,
 "nbformat_minor": 0
}
