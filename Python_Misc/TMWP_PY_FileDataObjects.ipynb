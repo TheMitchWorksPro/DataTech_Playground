{
 "cells": [
  {
   "cell_type": "markdown",
   "metadata": {},
   "source": [
    "<div align=\"right\">Python [conda env:PY36]</div>\n",
    "<div align=\"right\">Python [conda env:PY27_Test]</div>"
   ]
  },
  {
   "cell_type": "markdown",
   "metadata": {},
   "source": [
    "# File Data Processing - Object Code\n",
    "This code was created in Python 2.7 and cross-tested in Python 3.6.  This is version 1.0 of this code.  Comments include design ideas for future versions of this code."
   ]
  },
  {
   "cell_type": "code",
   "execution_count": 1,
   "metadata": {
    "collapsed": false
   },
   "outputs": [],
   "source": [
    "''' Future design ideas:\n",
    "    * add in file size and store it for easy access\n",
    "    * if file size too big (compared to set limit), do not allow \n",
    "      getAllFileData (w/ warning to user)\n",
    "    * allow user to set limit on file size for gellAll (but obj has default)\n",
    "    * error handling for EOF on getLineFromFile?\n",
    "    * can object track getLineFromFile calls and tell us what line we are on?\n",
    "        \n",
    "'''\n",
    "\n",
    "class FileData(object):\n",
    "    '''Bundles data from a text file with utility methods wrapped around a standard file object.\\n\n",
    "       Through myFileDataObj.f we can access all methods and attributes of standard file object.\n",
    "    '''\n",
    "    def __init__(self, xfilename):\n",
    "        self.filename = xfilename\n",
    "        self._mode = 'r'  # this object will access files in read only mode by default\n",
    "                          # _ is a hint that you should not really be changing this as per SO posts\n",
    "        self.f = open(xfilename, 'r')\n",
    "        self.lines = []\n",
    "        \n",
    "    def getAllFileData(self):\n",
    "        '''Stores all data from the file in a \"lines\" list within the FileData object.'''        \n",
    "        if self.f.closed:\n",
    "            self.f = open(self.filename, 'r')        \n",
    "        self.lines = self.f.readlines()\n",
    "        self.f.close()\n",
    "        \n",
    "    def passAllFileData(self):\n",
    "        '''Passes all file data from inside the FileData object to the outside (clears FileData.lines and returns it.)'''\n",
    "        linesCopy = self.lines\n",
    "        self.lines = []\n",
    "        return linesCopy\n",
    "        \n",
    "    def getLineFromFile(self, raw = False, startIndex = False):\n",
    "        '''Get next line from file.  Keeps file open for next function call.'''        \n",
    "        # startIndex = index position of first character in line (not the line #)\n",
    "        if self.f.closed:\n",
    "            self.f = open(self.filename, 'r') \n",
    "\n",
    "        i = self.f.tell()\n",
    "        if raw == True:\n",
    "            lnOut = (\"%r\" %(self.f.readline())).strip(\"'\")  \n",
    "                                               # [1:-1] worked briefly & then stopped working\n",
    "        else:\n",
    "            lnOut = self.f.readline()\n",
    "        if startIndex == True:\n",
    "            lnOut = \"[%d] \" %(i) + lnOut\n",
    "        \n",
    "        return lnOut\n",
    "        \n",
    "        \n",
    "    def fileHead(self, numRows = 6):\n",
    "        '''Returns the header from a text file. numRows tells it how many rows to return.'''\n",
    "        hdtitle = \"%r\" %\"Raw Content (newlines will display as '\\n'):\"\n",
    "        if len(self.lines) <= 1:\n",
    "            if self.f.closed:\n",
    "                self.f = open(self.filename, 'r')\n",
    "                \n",
    "        print(hdtitle[1:-1]) # raw outputs with quotes, we take them off   \n",
    "        for i in range(numRows):\n",
    "            lnOut = (\"%r\" %(self.f.readline())).strip(\"'\")\n",
    "            lnOut = \"[%d] \" %(i) + lnOut\n",
    "                     \n",
    "            '''\n",
    "            By default, r% adds single quotes around the content.  \n",
    "            If this is desirable change the above code to this:\n",
    "              lnOut = \"[%d] %r\" %(i, self.f.readline())\n",
    "            '''\n",
    "            print(lnOut)\n",
    "        self.f.close()                "
   ]
  },
  {
   "cell_type": "code",
   "execution_count": 2,
   "metadata": {
    "collapsed": true
   },
   "outputs": [],
   "source": [
    "import re\n",
    "import collections\n",
    "\n",
    "# these functions make more sense sharing them across objects:\n",
    "\n",
    "def addToNestedDictionary(d, tup):\n",
    "    '''This function adds a tupple to a dictionary by making it a nested dictionary.'''\n",
    "    # http://stackoverflow.com/questions/8550912/python-dictionary-of-dictionaries\n",
    "    if tup[0] not in d:\n",
    "        d[tup[0]] = {}\n",
    "    d[tup[0]][tup[1]] = tup[2]   # to embed in a list: [tup[2]]\n",
    "\n",
    "def output_NestedDictSummary(nstdDict, descr1 = \"People in the Chat Log\", \n",
    "                                       descr2 = \"People each sent this many messages\",\n",
    "                                       descr3 = \"chat records\"):\n",
    "    '''Print summary of sub-dictionaries stored in Nested Dictionary.'''\n",
    "    \n",
    "    # Dictionary summarizes what?\n",
    "    #   descr1, descr2, descr3 (for dictionary and subctionary records)\n",
    "    #   test with default values to see how to use the arguments\n",
    "    \n",
    "    print(\"Number of %s: %s\" %(descr1, len(nstdDict)))\n",
    "    print(\"%s:\" %(descr2))\n",
    "\n",
    "    for eachKey in nstdDict:\n",
    "        outStr = eachKey + \": \" + str(len(nstdDict[eachKey]))\n",
    "        print(\"\\t%s\" %outStr)\n",
    "    print(\"\\tTotal: %d %s\" %(sum(len(v) for v in nstdDict.values()), descr3))  # itervalues\n",
    "\n",
    "class chatLogOjb(object):\n",
    "    def __init__(self, fileLinesLst, pattern1 = \"^\\D+\\s\\d\\d:\\d\\d:\\d\\d\\s$\", pattern2 = \"\\W+\"):\n",
    "        # patterns set by default but user can over-ride them if format of chat log fie changes\n",
    "        self.pattern1 = pattern1\n",
    "        self.pattern2 = pattern2\n",
    "        self.data = fileLinesLst\n",
    "        self._debug_switch = False\n",
    "        self.createChatDictionary()\n",
    "    \n",
    "    def getChatMeta(self, pattern, strng):\n",
    "        tmp = re.split(pattern, strng)\n",
    "        return (tmp[0], [tmp[1],tmp[2],tmp[3]])\n",
    "                 \n",
    "    def createChatDictionary(self):\n",
    "        # pop(i) removes the cited index from original while adding it to the new lists\n",
    "        chatMsgs = [i[:-1] for i in self.data if not re.search(self.pattern1, i)]\n",
    "        chatMeta = [self.getChatMeta(self.pattern2, i) for i in self.data if re.search(self.pattern1, i)]\n",
    "        \n",
    "        if self._debug_switch == True:\n",
    "            print(len(self.data))\n",
    "            print(chatMsgs[0:5])\n",
    "            print(chatMeta[0:5])\n",
    "        \n",
    "        self.data = {}\n",
    "        \n",
    "        for i in range(0, len(chatMsgs)):\n",
    "            tup = (chatMeta[i][0], chatMeta[i][1][0]+\":\"+chatMeta[i][1][1]+\":\"+chatMeta[i][1][2], chatMsgs[i])\n",
    "            addToNestedDictionary(self.data, tup)\n",
    "\n",
    "        self.data = collections.OrderedDict(sorted(self.data.items()))  # sort the names in outer dictionary\n",
    "        for eachKey in self.data:                                       # sort records in inner dictionary\n",
    "            self.data[eachKey] = collections.OrderedDict(sorted(self.data[eachKey].items(), reverse=True))\n",
    "            # this sort worked on all tests that follow, but may want to explore this alternative for v2:\n",
    "            #     OrderedDict(sorted(dict.items(), key=lambda v: v[1]))\n",
    "            #     to reverse it: OrderedDict(sorted(dict.items(), key=lambda v: (-v[1], v[0])))"
   ]
  },
  {
   "cell_type": "code",
   "execution_count": 3,
   "metadata": {
    "collapsed": false,
    "scrolled": true
   },
   "outputs": [
    {
     "name": "stdout",
     "output_type": "stream",
     "text": [
      "Raw Content (newlines will display as '\\n'):\n",
      "[0] Jack 17:26:46\\n\n",
      "[1] The slogan duplicates a bliss after the plastic accent.\\n\n",
      "[2] Michael 17:26:47\\n\n",
      "[3] A tidied successor enlightens the advertised contract.\\n\n",
      "[4] William 17:26:48\\n\n",
      "[5] The secondary freedom matures beneath your suitable tip.\\n\n",
      "[6] John 17:26:50\\n\n",
      "[7] A wonderful newcomer expires on top of a cryptic entrance.\\n\n",
      "[8] William 17:26:51\\n\n",
      "[9] A bastard degenerates before the chorus!\\n\n",
      "[10] Emily 17:26:52\\n\n",
      "[11] A patronized winter safeguards the inheritance in the exceptional ashcan.\\n\n",
      "[12] Jack 17:26:53\\n\n"
     ]
    }
   ],
   "source": [
    "chatLogFile = FileData(\"data/record.txt\")\n",
    "chatLogFile.fileHead(13)"
   ]
  },
  {
   "cell_type": "code",
   "execution_count": 4,
   "metadata": {
    "collapsed": false
   },
   "outputs": [
    {
     "name": "stdout",
     "output_type": "stream",
     "text": [
      "Raw Content (newlines will display as '\\n'):\n",
      "[0] Jack 17:26:46\\n\n",
      "[1] The slogan duplicates a bliss after the plastic accent.\\n\n",
      "[2] Michael 17:26:47\\n\n"
     ]
    }
   ],
   "source": [
    "chatLogFile.fileHead(3)"
   ]
  },
  {
   "cell_type": "code",
   "execution_count": 5,
   "metadata": {
    "collapsed": true
   },
   "outputs": [],
   "source": [
    "# as per links above ... we can close this twice without error ... once is enough though\n",
    "# this cell is a debug and testing cell used to ensure we don't leave copies open\n",
    "# and that \"if closed\" is firing right inside methods of the object ...\n",
    "\n",
    "chatLogFile.f.close()\n",
    "chatLogFile.f.close()"
   ]
  },
  {
   "cell_type": "code",
   "execution_count": 6,
   "metadata": {
    "collapsed": false
   },
   "outputs": [
    {
     "name": "stdout",
     "output_type": "stream",
     "text": [
      "Emily 17:26:52\n",
      "\n"
     ]
    }
   ],
   "source": [
    "# quick test\n",
    "chatLogFile.getAllFileData()\n",
    "print(chatLogFile.lines[10])"
   ]
  },
  {
   "cell_type": "code",
   "execution_count": 7,
   "metadata": {
    "collapsed": false
   },
   "outputs": [
    {
     "name": "stdout",
     "output_type": "stream",
     "text": [
      "Jack 17:26:46\n",
      "\n",
      "The slogan duplicates a bliss after the plastic accent.\\n\n",
      "[72] Michael 17:26:47\\n\n",
      "('current position: ', 90L)\n",
      "[90] A tidied successor enlightens the advertised contract.\\n\n"
     ]
    }
   ],
   "source": [
    "# more testing of object methods\n",
    "\n",
    "print(chatLogFile.getLineFromFile())\n",
    "print(chatLogFile.getLineFromFile(raw = True))\n",
    "print(chatLogFile.getLineFromFile(raw = True, startIndex = True))\n",
    "filePosition = chatLogFile.f.tell()\n",
    "print(\"current position: \", filePosition)\n",
    "print(chatLogFile.getLineFromFile(True, True))  \n",
    "      # note:  tell() is reporting back [index position] not line number (in this code)"
   ]
  },
  {
   "cell_type": "code",
   "execution_count": 8,
   "metadata": {
    "collapsed": false
   },
   "outputs": [
    {
     "name": "stdout",
     "output_type": "stream",
     "text": [
      "Emma 17:27:54\n",
      "\n",
      "Why won't the bugger steam beneath the planned stranger?\n",
      "\n"
     ]
    }
   ],
   "source": [
    "# illustration of behavior that getLineFromFile() reports file character index, not line number:\n",
    "print(chatLogFile.lines[filePosition])\n",
    "print(chatLogFile.lines[filePosition+1])"
   ]
  },
  {
   "cell_type": "code",
   "execution_count": 10,
   "metadata": {
    "collapsed": false
   },
   "outputs": [
    {
     "name": "stdout",
     "output_type": "stream",
     "text": [
      "Number of People in the Chat Log: 10\n",
      "People each sent this many messages:\n",
      "\tDaniel: 77\n",
      "\tElizabeth: 89\n",
      "\tEmily: 122\n",
      "\tEmma: 87\n",
      "\tJack: 90\n",
      "\tJayden: 83\n",
      "\tJohn: 99\n",
      "\tMary: 86\n",
      "\tMichael: 98\n",
      "\tWilliam: 91\n",
      "\tTotal: 922 chat records\n",
      "Entire Dictionary is sorted.  Messages are in Time order.  Here are some samples.\n",
      "\n"
     ]
    }
   ],
   "source": [
    "# chatLogFile = FileData(\"data/record.txt\")  #did this in earlier test\n",
    "chatLogFile.getAllFileData()\n",
    "chatLog = chatLogOjb(chatLogFile.passAllFileData())   \n",
    "#         strange glitch to investigate later:\n",
    "#         run this cell once and you get 918 or a number that is slightly less than 922\n",
    "#         run 2nd time and repeatedly and you get right count of 922 thereafter\n",
    "output_NestedDictSummary(chatLog.data)\n",
    "print(\"Entire Dictionary is sorted.  Messages are in Time order.  Here are some samples.\")\n",
    "print(\"\")"
   ]
  },
  {
   "cell_type": "code",
   "execution_count": 11,
   "metadata": {
    "collapsed": false
   },
   "outputs": [
    {
     "name": "stdout",
     "output_type": "stream",
     "text": [
      "Number of Records in ChatLogData: 10\n",
      "Records attributed to each person:\n",
      "\tDaniel: 77\n",
      "\tElizabeth: 89\n",
      "\tEmily: 122\n",
      "\tEmma: 87\n",
      "\tJack: 90\n",
      "\tJayden: 83\n",
      "\tJohn: 99\n",
      "\tMary: 86\n",
      "\tMichael: 98\n",
      "\tWilliam: 91\n",
      "\tTotal: 922 total messages\n"
     ]
    }
   ],
   "source": [
    "# modify text lines in summary output (testing functionality):\n",
    "output_NestedDictSummary(chatLog.data, \"Records in ChatLogData\", \n",
    "                         \"Records attributed to each person\", \"total messages\")"
   ]
  },
  {
   "cell_type": "code",
   "execution_count": 12,
   "metadata": {
    "collapsed": false
   },
   "outputs": [
    {
     "name": "stdout",
     "output_type": "stream",
     "text": [
      "Rows in chatLogFile.lines: 0\n"
     ]
    },
    {
     "data": {
      "text/plain": [
       "OrderedDict([('18:02:46', 'The rocket skips above the mother.'),\n",
       "             ('18:02:32',\n",
       "              'The cream differential scratches against the objective dot.'),\n",
       "             ('18:02:15', 'An arc festival prevails.'),\n",
       "             ('18:02:07', 'A nut graduates!'),\n",
       "             ('18:00:54', 'Each last reluctance shelters a dated microwave.'),\n",
       "             ('17:59:31', 'An ally recognizes a withdrawn theft.'),\n",
       "             ('17:58:11', 'A mouth fusses opposite her interior.'),\n",
       "             ('17:58:07',\n",
       "              \"Why can't the charitable ink edge the nearest judge?\"),\n",
       "             ('17:57:50',\n",
       "              'A virgin undergoes a rotate biscuit above a famine.'),\n",
       "             ('17:57:23', 'The muscle bubbles behind a comfort!'),\n",
       "             ('17:56:27', 'The home objective requests the wasted magazine.'),\n",
       "             ('17:56:14',\n",
       "              'A manager refines the spoilt dirt throughout the circuit.'),\n",
       "             ('17:56:04', 'The rubbish repairs a drug after the dark skip.'),\n",
       "             ('17:55:59', 'How will a conference beam?'),\n",
       "             ('17:55:56', 'The monthly castle flashes after the thesis.'),\n",
       "             ('17:55:54', 'My luck inconveniences a dimensional storm.'),\n",
       "             ('17:55:05', 'The kidney coordinates an egg.'),\n",
       "             ('17:55:01',\n",
       "              'How can whatever adjacent arc meet the warm career?'),\n",
       "             ('17:54:53', 'The feeling strength advances.'),\n",
       "             ('17:54:52', 'The wild brigade blasts a flowing triumph.'),\n",
       "             ('17:54:50', \"Why can't the dinner stamp?\"),\n",
       "             ('17:54:24', 'The air scores past the overhead.'),\n",
       "             ('17:54:00', 'The lavatory repairs the zero.'),\n",
       "             ('17:53:39', 'The excessive giant behaves before a glance.'),\n",
       "             ('17:53:37', 'The potato offers your freed faucet.'),\n",
       "             ('17:53:27',\n",
       "              'A suffering result attacks against the ineffective snow.'),\n",
       "             ('17:52:08', 'The knight arrives.'),\n",
       "             ('17:51:47', 'Opposite the assault riots a merged breed.'),\n",
       "             ('17:51:36', 'A vet discriminates near a shocked capital.'),\n",
       "             ('17:50:59',\n",
       "              'Our orchestral needle presses against his married researcher.'),\n",
       "             ('17:50:48', 'The image consents behind the highway.'),\n",
       "             ('17:50:46', 'Our dip whistles before the parent!'),\n",
       "             ('17:50:44', \"Why can't a poet course an unbalanced audio?\"),\n",
       "             ('17:50:34', 'The apparent patient dies under a borderline.'),\n",
       "             ('17:50:25', 'In the gospel screams the unwelcome dish.'),\n",
       "             ('17:49:36', 'When can the shoulder dance the horizontal axis?'),\n",
       "             ('17:49:24', 'The opponent credits a suicidal school.'),\n",
       "             ('17:49:05', 'The peripheral winds the general.'),\n",
       "             ('17:48:59', 'The suicide sacks the rock.'),\n",
       "             ('17:48:43',\n",
       "              'How will the projecting capital scream behind the century?'),\n",
       "             ('17:48:08', 'An impending bug chews around a competitor.'),\n",
       "             ('17:46:48',\n",
       "              'Any willed appearance rages opposite the subsidized representative.'),\n",
       "             ('17:46:41', 'The identified buss cruises above a funeral.'),\n",
       "             ('17:46:37',\n",
       "              'Every blank priest warns a union below the assuring basket.'),\n",
       "             ('17:46:36', 'A pool suffers a smiling custard.'),\n",
       "             ('17:46:19',\n",
       "              \"Why won't the cracking choir rest opposite the ideal?\"),\n",
       "             ('17:46:11', 'A golden appeal promotes our adjusted sock.'),\n",
       "             ('17:45:55', 'Our deposit counts!'),\n",
       "             ('17:45:46', 'Any gathered rat bolts.'),\n",
       "             ('17:45:41', 'This constituent stunts a tile.'),\n",
       "             ('17:45:33',\n",
       "              'When will my opponent recover below a witnessed blessed?'),\n",
       "             ('17:44:46', 'A damaging override reverts.'),\n",
       "             ('17:44:44', 'A postponed prostitute stunts a science.'),\n",
       "             ('17:44:10', 'A charge reads.'),\n",
       "             ('17:43:54', 'The translator tanks a worst sword.'),\n",
       "             ('17:43:34', 'The terrorist grows inside a felt doctrine.'),\n",
       "             ('17:34:09', 'My angry squad grasps the twin.'),\n",
       "             ('17:33:58',\n",
       "              'The converted volume scratches underneath the very chart.'),\n",
       "             ('17:33:57',\n",
       "              'An angel silences the sung terror against a handful.'),\n",
       "             ('17:33:16',\n",
       "              'An applicable predecessor stumbles next to a wallet.'),\n",
       "             ('17:33:13', 'Does the recruit camp?'),\n",
       "             ('17:33:05',\n",
       "              'How will the summary faithful scream before the flavor?'),\n",
       "             ('17:32:29', 'The shot rants beneath a ruin!'),\n",
       "             ('17:32:02',\n",
       "              'Will the romantic center lift up the size elevator?'),\n",
       "             ('17:31:33', 'The deaf girlfriend scores the listed tactic.'),\n",
       "             ('17:30:49', 'The soap bolts before the rubbish.'),\n",
       "             ('17:30:26',\n",
       "              'The alternative irritates the phrase in the twisted chase.'),\n",
       "             ('17:30:12',\n",
       "              'An enforced arithmetic licenses a unexpected whale.'),\n",
       "             ('17:28:38', 'Will the rectified champion duck?'),\n",
       "             ('17:28:16',\n",
       "              'The highway fries the whim beside the amended prostitute.'),\n",
       "             ('17:28:01', 'A hardship pops underneath the baking hate.'),\n",
       "             ('17:27:52', 'Any encouraging stunt pauses throughout a friend.'),\n",
       "             ('17:27:48', 'A silent blackmail apologizes opposite the storm.'),\n",
       "             ('17:27:40', 'Underneath the welcome offends the rising studio.'),\n",
       "             ('17:27:29',\n",
       "              'The compelling alert transports the cider around an unsolicited terrorist.'),\n",
       "             ('17:27:10', 'Should a disco suspect the box?'),\n",
       "             ('17:27:08', 'A gullible tear quits the violin.')])"
      ]
     },
     "execution_count": 12,
     "metadata": {},
     "output_type": "execute_result"
    }
   ],
   "source": [
    "print(\"Rows in chatLogFile.lines: %d\" %len(chatLogFile.lines)) \n",
    "                               # confirm we cleared out the chatLogFile.lines object\n",
    "chatLog.data['Daniel']         # sample person's chat messages"
   ]
  },
  {
   "cell_type": "markdown",
   "metadata": {},
   "source": [
    "#### Research and References\n",
    "\n",
    "These posts were done on Stack Overflow to understand things about this code during its development.  They also have useful recommendations and explanations about how aspects of the code and coding principals work:\n",
    "- [Stack Overflow: Why close() can be called multiple times w/o error and use of underscores](http://stackoverflow.com/questions/42954401/python-file-object-allows-you-to-close-a-file-that-is-already-closed/42954690#42954690)\n",
    "- [Python.org: Instance Variables and Methods - Naming conventions like underscores](https://www.python.org/dev/peps/pep-0008/#method-names-and-instance-variables)\n",
    "- [Python.org: Designing for Inheretance](https://www.python.org/dev/peps/pep-0008/#designing-for-inheritance)\n",
    "- [Python EOF - How To Find It](http://stackoverflow.com/questions/15599639/whats-perfect-counterpart-in-python-for-while-not-eof)\n",
    "- [3 Ways of Creating Dictionaries](https://developmentality.wordpress.com/2012/03/30/three-ways-of-creating-dictionaries-in-python/)\n",
    "- [Counting Dictionary Items](https://www.tutorialspoint.com/python/dictionary_len.htm)"
   ]
  },
  {
   "cell_type": "markdown",
   "metadata": {},
   "source": [
    "#### Not Used\n",
    "These objects were created but not used in the actual solution"
   ]
  },
  {
   "cell_type": "code",
   "execution_count": 13,
   "metadata": {
    "collapsed": true
   },
   "outputs": [],
   "source": [
    "class chatRecord(object):\n",
    "    def __init__(self, xSpeaker, xrecTime, xrecMsg):\n",
    "        self.Speaker = xSpeaker \n",
    "        self.recTime = xrecTime \n",
    "        self.recMsg  = xrecMsg"
   ]
  },
  {
   "cell_type": "code",
   "execution_count": null,
   "metadata": {
    "collapsed": true
   },
   "outputs": [],
   "source": []
  }
 ],
 "metadata": {
  "anaconda-cloud": {},
  "kernelspec": {
   "display_name": "Python [conda env:PY27_Test]",
   "language": "python",
   "name": "conda-env-PY27_Test-py"
  },
  "language_info": {
   "codemirror_mode": {
    "name": "ipython",
    "version": 2
   },
   "file_extension": ".py",
   "mimetype": "text/x-python",
   "name": "python",
   "nbconvert_exporter": "python",
   "pygments_lexer": "ipython2",
   "version": "2.7.13"
  }
 },
 "nbformat": 4,
 "nbformat_minor": 2
}
