{
 "cells": [
  {
   "cell_type": "markdown",
   "metadata": {},
   "source": [
    "<div align=\"right\">Python 3.6</div>"
   ]
  },
  {
   "cell_type": "markdown",
   "metadata": {},
   "source": [
    "## Testing The Google Maps Subclass\n",
    "This notebook was created to test objects associated with extracting information into a Dataframe using the Google Maps API.  Initially, this was part of an effort to operationalize the interesting bits of code in a messy procedure I did for some research.  The original use case was to extract just the address and add it to tables of information with latitude and longitude in them.  This notebook may grow to test more related objects as they are developed and/or expansions of the original code."
   ]
  },
  {
   "cell_type": "markdown",
   "metadata": {},
   "source": [
    "### Enrich or Change Larger Dataframe Section by Section\n",
    "\n",
    "The purpose of the <font color=blue><b>DFBuilder</b></font> object is to allow scanning of a larger dataframe, a small number of rows at a time.  It then allows code to be customized to make changes and build up a new dataframe from the results.  The operation is in\n",
    "a standard loop by design. The original use case was to add a field with data accessed from an API off the web, and time delays were necessary (as well as other logic) to prevent (or at least reduce the risk of) server timeouts during operation.\n",
    "\n",
    "Scanning through the source a few lines at a time, performing the operation and adding back out to the target DF\n",
    "creates a \"caching effect\" where data is saved along the way so in the event of a server time-out all is not lost.  The resulting DF can then be saved out to a file and a rerun of <font color=blue><b>buildOutDF()</b></font> should make it possible to pick up where you left off and add in more data (instead of losing everything and having to begin again).\n",
    "\n",
    "The abstract class sets up the core logic and subclasses add in functions to modify the data in different ways and potentially using different APIs.  This notebook only tests the subclass designed for the Google Maps API."
   ]
  },
  {
   "cell_type": "markdown",
   "metadata": {},
   "source": [
    "### Libraries Needed\n",
    "Import statements included in this notebook are for the main abstract object and a test object."
   ]
  },
  {
   "cell_type": "code",
   "execution_count": 3,
   "metadata": {
    "collapsed": true
   },
   "outputs": [],
   "source": [
    "# general libraries\n",
    "import pandas as pd"
   ]
  },
  {
   "cell_type": "code",
   "execution_count": 4,
   "metadata": {
    "collapsed": true
   },
   "outputs": [],
   "source": [
    "## required for Google Maps API code\n",
    "import os\n",
    "\n",
    "## for larger data and/or make many requests in one day - get Google API key and use these lines:\n",
    "# os.environ[\"GOOGLE_API_KEY\"] = \"YOUR_GOOGLE_API_Key\"\n",
    "## for better security (PROD environments) - install key to server and use just this line to load it:\n",
    "# os.environ.get('GOOGLE_API_KEY')\n",
    "\n",
    "# set up geocode\n",
    "from geopy.geocoders import Nominatim\n",
    "geolocator = Nominatim()\n",
    "from geopy.exc import GeocoderTimedOut\n",
    "import time\n",
    "\n",
    "# note: for now could do this ... used time because it is already in use\n"
   ]
  },
  {
   "cell_type": "markdown",
   "metadata": {},
   "source": [
    "### Test Data\n",
    "Input Data Set up Here"
   ]
  },
  {
   "cell_type": "code",
   "execution_count": 5,
   "metadata": {
    "collapsed": true
   },
   "outputs": [],
   "source": [
    "## Test code on a reasonably small DF\n",
    "tst_lat_lon_df = pd.read_csv(\"testset_unique_lat_and_lon_vals.csv\", index_col=0)"
   ]
  },
  {
   "cell_type": "code",
   "execution_count": 6,
   "metadata": {},
   "outputs": [
    {
     "data": {
      "text/html": [
       "<div>\n",
       "<style>\n",
       "    .dataframe thead tr:only-child th {\n",
       "        text-align: right;\n",
       "    }\n",
       "\n",
       "    .dataframe thead th {\n",
       "        text-align: left;\n",
       "    }\n",
       "\n",
       "    .dataframe tbody tr th {\n",
       "        vertical-align: top;\n",
       "    }\n",
       "</style>\n",
       "<table border=\"1\" class=\"dataframe\">\n",
       "  <thead>\n",
       "    <tr style=\"text-align: right;\">\n",
       "      <th></th>\n",
       "      <th>lat</th>\n",
       "      <th>lon</th>\n",
       "    </tr>\n",
       "  </thead>\n",
       "  <tbody>\n",
       "    <tr>\n",
       "      <th>count</th>\n",
       "      <td>1160.000000</td>\n",
       "      <td>1160.000000</td>\n",
       "    </tr>\n",
       "    <tr>\n",
       "      <th>mean</th>\n",
       "      <td>41.232457</td>\n",
       "      <td>-74.042980</td>\n",
       "    </tr>\n",
       "    <tr>\n",
       "      <th>std</th>\n",
       "      <td>1.162332</td>\n",
       "      <td>1.463141</td>\n",
       "    </tr>\n",
       "    <tr>\n",
       "      <th>min</th>\n",
       "      <td>39.390049</td>\n",
       "      <td>-78.366203</td>\n",
       "    </tr>\n",
       "    <tr>\n",
       "      <th>25%</th>\n",
       "      <td>40.269619</td>\n",
       "      <td>-74.651615</td>\n",
       "    </tr>\n",
       "    <tr>\n",
       "      <th>50%</th>\n",
       "      <td>40.742920</td>\n",
       "      <td>-74.143070</td>\n",
       "    </tr>\n",
       "    <tr>\n",
       "      <th>75%</th>\n",
       "      <td>42.361600</td>\n",
       "      <td>-73.752644</td>\n",
       "    </tr>\n",
       "    <tr>\n",
       "      <th>max</th>\n",
       "      <td>44.950298</td>\n",
       "      <td>-70.187302</td>\n",
       "    </tr>\n",
       "  </tbody>\n",
       "</table>\n",
       "</div>"
      ],
      "text/plain": [
       "               lat          lon\n",
       "count  1160.000000  1160.000000\n",
       "mean     41.232457   -74.042980\n",
       "std       1.162332     1.463141\n",
       "min      39.390049   -78.366203\n",
       "25%      40.269619   -74.651615\n",
       "50%      40.742920   -74.143070\n",
       "75%      42.361600   -73.752644\n",
       "max      44.950298   -70.187302"
      ]
     },
     "execution_count": 6,
     "metadata": {},
     "output_type": "execute_result"
    }
   ],
   "source": [
    "tst_lat_lon_df.describe()"
   ]
  },
  {
   "cell_type": "code",
   "execution_count": 7,
   "metadata": {},
   "outputs": [
    {
     "data": {
      "text/html": [
       "<div>\n",
       "<style>\n",
       "    .dataframe thead tr:only-child th {\n",
       "        text-align: right;\n",
       "    }\n",
       "\n",
       "    .dataframe thead th {\n",
       "        text-align: left;\n",
       "    }\n",
       "\n",
       "    .dataframe tbody tr th {\n",
       "        vertical-align: top;\n",
       "    }\n",
       "</style>\n",
       "<table border=\"1\" class=\"dataframe\">\n",
       "  <thead>\n",
       "    <tr style=\"text-align: right;\">\n",
       "      <th></th>\n",
       "      <th>lat</th>\n",
       "      <th>lon</th>\n",
       "    </tr>\n",
       "  </thead>\n",
       "  <tbody>\n",
       "    <tr>\n",
       "      <th>1155</th>\n",
       "      <td>43.233299</td>\n",
       "      <td>-70.911079</td>\n",
       "    </tr>\n",
       "    <tr>\n",
       "      <th>1156</th>\n",
       "      <td>43.233601</td>\n",
       "      <td>-70.911301</td>\n",
       "    </tr>\n",
       "    <tr>\n",
       "      <th>1157</th>\n",
       "      <td>43.233299</td>\n",
       "      <td>-70.910698</td>\n",
       "    </tr>\n",
       "    <tr>\n",
       "      <th>1158</th>\n",
       "      <td>43.233398</td>\n",
       "      <td>-70.911003</td>\n",
       "    </tr>\n",
       "    <tr>\n",
       "      <th>1159</th>\n",
       "      <td>43.233299</td>\n",
       "      <td>-70.910713</td>\n",
       "    </tr>\n",
       "  </tbody>\n",
       "</table>\n",
       "</div>"
      ],
      "text/plain": [
       "            lat        lon\n",
       "1155  43.233299 -70.911079\n",
       "1156  43.233601 -70.911301\n",
       "1157  43.233299 -70.910698\n",
       "1158  43.233398 -70.911003\n",
       "1159  43.233299 -70.910713"
      ]
     },
     "execution_count": 7,
     "metadata": {},
     "output_type": "execute_result"
    }
   ],
   "source": [
    "tst_lat_lon_df.tail()"
   ]
  },
  {
   "cell_type": "markdown",
   "metadata": {},
   "source": [
    "### Code Testing\n",
    "\n",
    "The abstract class which follows is intended to be the \"work horse\" of this code.  Intent is that it gets the developer to the point where all they need to think about is what their final subclass will do to enrich the data.  The parent class sets up a loop that can extract from a larger input DF, a small number of rows to be operated on in a temp DF and then be added to an outputDF.  In the event of something interrupting the process (a common event when dealing with web APIs), modified rows created before the incident are waiting in output DF and can be extracted. Then code can be restarted or continued to allow building up the rest of the Dataframe without losing previous work or having to go all the way back to the beginnin."
   ]
  },
  {
   "cell_type": "code",
   "execution_count": 8,
   "metadata": {
    "collapsed": true
   },
   "outputs": [],
   "source": [
    "# note: gmtime() produced results in Grenwich Mean Time\n",
    "#       localtime() seems to get the local time from the computer (in my case EST)\n",
    "\n",
    "from time import localtime, strftime\n",
    "\n",
    "def getNow():\n",
    "    return strftime(\"%Y-%m-%d %H:%M:%S\", localtime())"
   ]
  },
  {
   "cell_type": "code",
   "execution_count": 9,
   "metadata": {},
   "outputs": [
    {
     "data": {
      "text/plain": [
       "'2018-06-07 14:32:24'"
      ]
     },
     "execution_count": 9,
     "metadata": {},
     "output_type": "execute_result"
    }
   ],
   "source": [
    "getNow()"
   ]
  },
  {
   "cell_type": "code",
   "execution_count": 10,
   "metadata": {
    "collapsed": true
   },
   "outputs": [],
   "source": [
    "from abc import ABCMeta, abstractmethod\n",
    "import pandas as pd\n",
    "\n",
    "class DFBuilder(object, metaclass=ABCMeta):       # sets up abstract class\n",
    "    '''DataFrame Builder abstract class.  Sets up logic to be inherited by objects that need to loop over a DataFrame\n",
    "and cache the results.  Original use case involves making API calls to the web which can get interrupted by \n",
    "errors and server timeouts.  This object stores all the logic to build up and save a DataFrame a small number of \n",
    "records at a time.  Then a subclass can define an abstract method in the base class as to what we want to do to \n",
    "the input data.  Original use case added in content extracted form the web to a new column.  But subclasses can \n",
    "be built to do more. Initialization argumens: endRw, time_delay. endRw = number of records to cache at a time\n",
    "when building outDF.  time_delay is number of seconds delay between each cycle of the loop that builds outDF.'''\n",
    "    def __init__(self,endRw,time_delay):          # abstract classes can be subclassed\n",
    "        self.endRow=endRw                         # but cannot be instantiated\n",
    "        self.delay=time_delay\n",
    "        self.tmpDF=pd.DataFrame()   # temp DF will be endRow rows in length\n",
    "        self.outDF=pd.DataFrame()   # final DF build in sets of endRow rows so all is not lost in a failure\n",
    "        self.lastIndex = None\n",
    "        self.statusMsgGrouping = 100\n",
    "        \n",
    "    def __str__(self):\n",
    "        return (\"Global Settings for this object: \\n\" +  \n",
    "                \"endRow: \" + str(self.endRow) + \"\\n\" + \n",
    "                \"delay:  \" + str(self.delay) + \"\\n\" + \n",
    "                \"statusMsgGrouping: \" + str(self.statusMsgGrouping) + \"\\n\"\n",
    "                \"Length of outDF: \" + str(len(self.outDF)) + \"\\n\" +\n",
    "                \"nextIndex: \" + str(self.lastIndex))       \n",
    "                 # if continuing build process with last added table - index of next rec.\n",
    "        \n",
    "    @abstractmethod                               # abstract method definition in Python\n",
    "    def _modifyTempDF_(): pass                    # This method will operate on TempDF inside the loop\n",
    "    \n",
    "    def set_statusMsgGrouping(self, newValue):\n",
    "        '''Change number of records used to determine when to provide output messages during buildOutDF().\n",
    "Default is 100 records.  newValue=x sets this to a new number. Note that If endRow is not a factor of \n",
    "statusMsgGrouping output may appear at unexpected intervals. endRow sets the number of rows to cache to\n",
    "outDF in each iteration of the build loop.'''\n",
    "        \n",
    "        self.statusMsgGrouping = newValue\n",
    "        print(self)\n",
    "        \n",
    "    def set_timeDelay(self, newValue):\n",
    "        '''Change number of seconds in time delay between requests while creating outDF().\n",
    "Default is 1 second.  newValue=x sets this to a new number.'''\n",
    "        self.delay = newValue\n",
    "        print(self)\n",
    "        \n",
    "    def set_endRow_OutDf_caching(self, newValue):\n",
    "        '''Change value of endRow which controls how many rows to cache at a time within buildOutDF().\n",
    "Default is 5.  If something goes wrong and you have to restart the process, this value also represents\n",
    "the maximum number of requests you will lose.  The rest will have already been added to outDF.\n",
    "newValue=x sets this to a new number.'''\n",
    "        self.endRow = newValue\n",
    "        print(self)\n",
    "    \n",
    "    def buildOutDF(self, inputDF):\n",
    "        '''Scans inputDF using self.endRow rows (default of 5) at a time to do it.  It then calls in logic\n",
    "from _modifyTempDF()_ to make changes to each subset of rows and appends tiny tempDF onto an outDF.  When the \n",
    "subclass is using a web API, self.delay tells it how much time to delay each iteration of the loop. Should\n",
    "this function fail in the middle, outDF will have all work up to the failure.  \n",
    "This can be saved out to a DF or csv.  The function can be run again on a subset of the data \n",
    "(the records not encountered yet before the failure).'''\n",
    "    \n",
    "        lenDF = len(inputDF)\n",
    "        print(\"Timestamp: \", getNow())\n",
    "        print(\"Processing inputDF with length of: \", lenDF)\n",
    "        print(\"Please wait ...\")\n",
    "        endIndx = 0\n",
    "\n",
    "        i = 0\n",
    "        while i < lenDF:\n",
    "            # print(\"i: \", i)\n",
    "            endIndx = i + self.endRow\n",
    "            if endIndx > lenDF:\n",
    "                        endIndx = lenDF\n",
    "\n",
    "            # print(\"Range to use: \", i, \":\", endIndx)\n",
    "            if i % self.statusMsgGrouping == 0:\n",
    "                print(getNow(), \"Now processing index: \", i)\n",
    "\n",
    "            self.tmpDF = inputDF[i:endIndx].copy(deep=True)\n",
    "            self._modifyTempDF_()\n",
    "            time.sleep(self.delay)\n",
    "            self.outDF = self.outDF.append(self.tmpDF) \n",
    "            self.lastIndex = endIndx \n",
    "            i = endIndx\n",
    "            # print(\"i at end of loop: \", i)        \n",
    "          \n",
    "        self.reindex_OutDF()\n",
    "        print(\"Process complete. %d records added to outDF.\" %(self.lastIndex))\n",
    "        print(\"Timestamp: \", getNow())\n",
    "        \n",
    "    def reindex_OutDF(self):\n",
    "        '''Reindex OutDF using same settings that are used internally for the index during its creation.\n",
    "This is like doing: outDF.reset_index(drop=True, inplace=True).'''\n",
    "        self.outDF.reset_index(drop=True, inplace=True)"
   ]
  },
  {
   "cell_type": "code",
   "execution_count": 11,
   "metadata": {
    "collapsed": true
   },
   "outputs": [],
   "source": [
    "class GMapsLoc_DFBuilder(DFBuilder): \n",
    "    '''This class inherits DFBuilder.buildOutDF() which makes use of data extraction and nodification functions in\n",
    "this subclass.  endRw sets number of rows to process at a time while building outDF (default=5). time_delay \n",
    "can set the time delay between loop iterations to help prevent licensing issues and related server timeouts.\n",
    "Default is 1 second. Initialization arguments: endRw, time_delay, return_null.\n",
    " * endRw controls grouping: process endRow rows at a time and add to outDF (default is 5).\n",
    " * time_delay has default of 1 second and sets how much time to wait each request whild building outDF.\n",
    " * return_null, if False, records error text formatted as \"_<errTxt>_\" for records that failed to process.\n",
    "   Set to True to have it return blank records when errors occur instead (default is False).'''\n",
    "    def __init__(self, endRw=5,time_delay=1, return_null=False):           \n",
    "        super().__init__(endRw,time_delay)\n",
    "        self.rtn_null = return_null\n",
    "        self.timeout = 10\n",
    "        self.location = \"\"  # stores last location accessed using getGeoAddr\n",
    "        \n",
    "    def __str__(self):\n",
    "        outStr = (super().__str__() + \"\\n\" +\n",
    "                  \"rtn_null: \" + str(self.rtn_null) + \"\\n\" +\n",
    "                  \"timeout: \"  + str(self.timeout) + \"\\n\")\n",
    "        if isinstance(self.location, (type(None), str)):\n",
    "            outStr = outStr + \"location (last obtained): \" + str(self.location)\n",
    "        else:\n",
    "            outStr = outStr + \"location (last obtained): \" + str(self.location.raw)\n",
    "            \n",
    "        return outStr\n",
    "\n",
    "    def set_ServerTimeout(self, newValue):\n",
    "        '''Change number of seconds for the server timeout setting used during web requests.\n",
    "Default is 10 second.  newValue=x sets this to a new number.'''\n",
    "        self.timeout = newValue\n",
    "        print(self)    \n",
    "    \n",
    "    def testConnection(self, lat=48.8588443, lon=2.2943506):\n",
    "        '''Test getGeoAddr() function to prove connection to Google Maps is working.  Use this ahead of\n",
    "performing much larger operations with Google Maps.'''\n",
    "        return self.getGeoAddr(lat, lon)\n",
    "        \n",
    "    def getGeoAddr(self, lt, lng, timeout=10, test=False, rtn_null=False):\n",
    "        '''Make call to Google Maps API to return back just the address from the json location record.  Errors\n",
    "should result in text values to help identify why an address was not returned.  This can be turned off and \n",
    "records that failed can bring back just an empty field by setting rtn_null to True. timeout = server timeout \n",
    "and has a default that worked well during testing.  '''\n",
    "        \n",
    "        try:\n",
    "            self.location = geolocator.reverse(str(lt) + \", \" + str(lng), timeout=timeout)\n",
    "            if test == True:\n",
    "                print(\"===============================\")\n",
    "                print(\"Address:\\n\")\n",
    "                print(self.location)\n",
    "                print(\"===============================\")\n",
    "                rtnVal = self.location\n",
    "            else:\n",
    "                rtnVal = self.location.address\n",
    "        except GeocoderTimedOut as gEoTo:\n",
    "            print(type(gEoTo))\n",
    "            print(gEoTo)\n",
    "            self.location = None\n",
    "            rtnVal = \"_\" + str(eee).upper().replace(' ', '_').replace(':', '') + \"_\"\n",
    "            ## old error text: \"_TIME_OUT_ERROR_ENCOUNTERED_\"\n",
    "        except Exception as eee:\n",
    "            print(type(eee))\n",
    "            print(eee)  \n",
    "            self.location = None\n",
    "            rtnVal = \"_\" + str(eee).upper().replace(' ', '_').replace(':', '') + \"_\"\n",
    "        finally:\n",
    "            # time_delay is not included here and should be incorporated into\n",
    "            # the loop that calls this function if desirable\n",
    "\n",
    "            if rtn_null==True and self.location is None:\n",
    "                return \"\"\n",
    "            else:\n",
    "                return rtnVal\n",
    "        \n",
    "    def _modifyTempDF_(self, test=False):\n",
    "        '''Add Address Field to tempDF based on lat, lon (latitude/longitude field values in inputDF)'''\n",
    "        self.tmpDF[\"Address\"] = self.tmpDF.apply(lambda x: self.getGeoAddr(lt=x.lat,lng=x.lon, \n",
    "                                     timeout=self.timeout,test=False, rtn_null=self.rtn_null), axis=1)"
   ]
  },
  {
   "cell_type": "markdown",
   "metadata": {},
   "source": [
    "### Testing of The Subclass\n",
    "A different subclass was created in another notebook to test most if not all of the non-web related logic of the Abstract class.  This means testing in this notebook can focus on the code that produces final results and that interacts with the Google Maps API."
   ]
  },
  {
   "cell_type": "markdown",
   "metadata": {},
   "source": [
    "This section shows how the code can build up outDF() adding addresses obtained from the Google Maps API to the latitude and longitude provided in the input data. Tests show how errors are handled, both as text of the form \"_<errorTxt>_\" in the address field, or as empty strings if you set rtn_null to True.  Tests also show how data can be added to outDF by re-running the build function.  This allows adding of additional data to outDF, or of adding in data that was missed due to server timeout errors or other interruptions to the web process."
   ]
  },
  {
   "cell_type": "markdown",
   "metadata": {},
   "source": [
    "#### Test Main Logic with Error Handling Exposed\n",
    "These tests were designed to show the error handling in action.  For the sake of brevity, earlier testing was deleted to just show later tests in which errors are expected (due to exceeding daily license allotment from Google)."
   ]
  },
  {
   "cell_type": "code",
   "execution_count": 10,
   "metadata": {
    "collapsed": true
   },
   "outputs": [],
   "source": [
    "## build main object using the defaults   \n",
    "testObj = GMapsLoc_DFBuilder()"
   ]
  },
  {
   "cell_type": "code",
   "execution_count": 11,
   "metadata": {},
   "outputs": [
    {
     "name": "stdout",
     "output_type": "stream",
     "text": [
      "Global Settings for this object: \n",
      "endRow: 5\n",
      "delay:  1\n",
      "statusMsgGrouping: 100\n",
      "Length of outDF: 0\n",
      "nextIndex: None\n",
      "rtn_null: False\n",
      "timeout: 10\n",
      "location (last obtained): \n"
     ]
    }
   ],
   "source": [
    "print(testObj)"
   ]
  },
  {
   "cell_type": "code",
   "execution_count": 12,
   "metadata": {},
   "outputs": [
    {
     "name": "stdout",
     "output_type": "stream",
     "text": [
      "Timestamp:  2018-06-06 14:44:58\n",
      "Processing inputDF with length of:  1160\n",
      "Please wait ...\n",
      "2018-06-06 14:44:58 Now processing index:  0\n",
      "2018-06-06 14:46:04 Now processing index:  100\n",
      "2018-06-06 14:47:10 Now processing index:  200\n",
      "2018-06-06 14:48:15 Now processing index:  300\n",
      "2018-06-06 14:49:21 Now processing index:  400\n",
      "2018-06-06 14:50:26 Now processing index:  500\n",
      "2018-06-06 14:51:30 Now processing index:  600\n",
      "2018-06-06 14:52:35 Now processing index:  700\n",
      "2018-06-06 14:53:39 Now processing index:  800\n",
      "2018-06-06 14:54:43 Now processing index:  900\n",
      "2018-06-06 14:55:48 Now processing index:  1000\n",
      "2018-06-06 14:56:52 Now processing index:  1100\n",
      "<class 'geopy.exc.GeocoderServiceError'>\n",
      "HTTP Error 429: Too Many Requests\n",
      "<class 'geopy.exc.GeocoderServiceError'>\n",
      "HTTP Error 429: Too Many Requests\n",
      "<class 'geopy.exc.GeocoderServiceError'>\n",
      "HTTP Error 429: Too Many Requests\n",
      "<class 'geopy.exc.GeocoderServiceError'>\n",
      "HTTP Error 429: Too Many Requests\n",
      "<class 'geopy.exc.GeocoderServiceError'>\n",
      "HTTP Error 429: Too Many Requests\n",
      "Process complete. 1160 records added to outDF.\n",
      "Timestamp:  2018-06-06 14:57:31\n"
     ]
    }
   ],
   "source": [
    "testObj.buildOutDF(tst_lat_lon_df)  ## some tests not shown performed ahead of this run\n",
    "                                    ## errors should be result of exceeding daily record allotment\n",
    "                                    ## for free Google Maps API license\n",
    "                                    ## this code tests basic functioning and default error handling"
   ]
  },
  {
   "cell_type": "code",
   "execution_count": 14,
   "metadata": {},
   "outputs": [
    {
     "data": {
      "text/html": [
       "<div>\n",
       "<style>\n",
       "    .dataframe thead tr:only-child th {\n",
       "        text-align: right;\n",
       "    }\n",
       "\n",
       "    .dataframe thead th {\n",
       "        text-align: left;\n",
       "    }\n",
       "\n",
       "    .dataframe tbody tr th {\n",
       "        vertical-align: top;\n",
       "    }\n",
       "</style>\n",
       "<table border=\"1\" class=\"dataframe\">\n",
       "  <thead>\n",
       "    <tr style=\"text-align: right;\">\n",
       "      <th></th>\n",
       "      <th>lat</th>\n",
       "      <th>lon</th>\n",
       "      <th>Address</th>\n",
       "    </tr>\n",
       "  </thead>\n",
       "  <tbody>\n",
       "    <tr>\n",
       "      <th>0</th>\n",
       "      <td>42.377602</td>\n",
       "      <td>-71.124702</td>\n",
       "      <td>6, Berkeley Street, Old Cambridge, Cambridge, ...</td>\n",
       "    </tr>\n",
       "    <tr>\n",
       "      <th>1</th>\n",
       "      <td>42.432098</td>\n",
       "      <td>-71.056099</td>\n",
       "      <td>47, Bowers Avenue, Bryant Terrace Apartments, ...</td>\n",
       "    </tr>\n",
       "    <tr>\n",
       "      <th>2</th>\n",
       "      <td>42.249298</td>\n",
       "      <td>-71.074501</td>\n",
       "      <td>46, Buckingham Road, Milton, Norfolk County, M...</td>\n",
       "    </tr>\n",
       "    <tr>\n",
       "      <th>3</th>\n",
       "      <td>42.357800</td>\n",
       "      <td>-71.062698</td>\n",
       "      <td>Boston Athenaeum, Beacon Street, Downtown Cros...</td>\n",
       "    </tr>\n",
       "    <tr>\n",
       "      <th>4</th>\n",
       "      <td>42.347000</td>\n",
       "      <td>-71.074799</td>\n",
       "      <td>303, Columbus Avenue, Chinatown, South End, Bo...</td>\n",
       "    </tr>\n",
       "  </tbody>\n",
       "</table>\n",
       "</div>"
      ],
      "text/plain": [
       "         lat        lon                                            Address\n",
       "0  42.377602 -71.124702  6, Berkeley Street, Old Cambridge, Cambridge, ...\n",
       "1  42.432098 -71.056099  47, Bowers Avenue, Bryant Terrace Apartments, ...\n",
       "2  42.249298 -71.074501  46, Buckingham Road, Milton, Norfolk County, M...\n",
       "3  42.357800 -71.062698  Boston Athenaeum, Beacon Street, Downtown Cros...\n",
       "4  42.347000 -71.074799  303, Columbus Avenue, Chinatown, South End, Bo..."
      ]
     },
     "execution_count": 14,
     "metadata": {},
     "output_type": "execute_result"
    }
   ],
   "source": [
    "testObj.outDF.head()"
   ]
  },
  {
   "cell_type": "code",
   "execution_count": 15,
   "metadata": {},
   "outputs": [
    {
     "data": {
      "text/html": [
       "<div>\n",
       "<style>\n",
       "    .dataframe thead tr:only-child th {\n",
       "        text-align: right;\n",
       "    }\n",
       "\n",
       "    .dataframe thead th {\n",
       "        text-align: left;\n",
       "    }\n",
       "\n",
       "    .dataframe tbody tr th {\n",
       "        vertical-align: top;\n",
       "    }\n",
       "</style>\n",
       "<table border=\"1\" class=\"dataframe\">\n",
       "  <thead>\n",
       "    <tr style=\"text-align: right;\">\n",
       "      <th></th>\n",
       "      <th>lat</th>\n",
       "      <th>lon</th>\n",
       "      <th>Address</th>\n",
       "    </tr>\n",
       "  </thead>\n",
       "  <tbody>\n",
       "    <tr>\n",
       "      <th>1155</th>\n",
       "      <td>43.233299</td>\n",
       "      <td>-70.911079</td>\n",
       "      <td>_HTTP_ERROR_429_TOO_MANY_REQUESTS_</td>\n",
       "    </tr>\n",
       "    <tr>\n",
       "      <th>1156</th>\n",
       "      <td>43.233601</td>\n",
       "      <td>-70.911301</td>\n",
       "      <td>_HTTP_ERROR_429_TOO_MANY_REQUESTS_</td>\n",
       "    </tr>\n",
       "    <tr>\n",
       "      <th>1157</th>\n",
       "      <td>43.233299</td>\n",
       "      <td>-70.910698</td>\n",
       "      <td>_HTTP_ERROR_429_TOO_MANY_REQUESTS_</td>\n",
       "    </tr>\n",
       "    <tr>\n",
       "      <th>1158</th>\n",
       "      <td>43.233398</td>\n",
       "      <td>-70.911003</td>\n",
       "      <td>_HTTP_ERROR_429_TOO_MANY_REQUESTS_</td>\n",
       "    </tr>\n",
       "    <tr>\n",
       "      <th>1159</th>\n",
       "      <td>43.233299</td>\n",
       "      <td>-70.910713</td>\n",
       "      <td>_HTTP_ERROR_429_TOO_MANY_REQUESTS_</td>\n",
       "    </tr>\n",
       "  </tbody>\n",
       "</table>\n",
       "</div>"
      ],
      "text/plain": [
       "            lat        lon                             Address\n",
       "1155  43.233299 -70.911079  _HTTP_ERROR_429_TOO_MANY_REQUESTS_\n",
       "1156  43.233601 -70.911301  _HTTP_ERROR_429_TOO_MANY_REQUESTS_\n",
       "1157  43.233299 -70.910698  _HTTP_ERROR_429_TOO_MANY_REQUESTS_\n",
       "1158  43.233398 -70.911003  _HTTP_ERROR_429_TOO_MANY_REQUESTS_\n",
       "1159  43.233299 -70.910713  _HTTP_ERROR_429_TOO_MANY_REQUESTS_"
      ]
     },
     "execution_count": 15,
     "metadata": {},
     "output_type": "execute_result"
    }
   ],
   "source": [
    "testObj.outDF.tail()  ## this check shows default behavior\n",
    "                      ## errors recorded in address field so user can find out why a particular location\n",
    "                      ## failed to return results - in this case \"too many requests\" (for license allotment)\n",
    "                      ## errors begin and end with \"_\" which an address will not.  \n",
    "                      ## a query or filter of the data for addresses starting with \"_\" can inform the user\n",
    "                      ## which records need to be run again"
   ]
  },
  {
   "cell_type": "code",
   "execution_count": 16,
   "metadata": {},
   "outputs": [
    {
     "name": "stdout",
     "output_type": "stream",
     "text": [
      "Global Settings for this object: \n",
      "endRow: 5\n",
      "delay:  1\n",
      "statusMsgGrouping: 10\n",
      "Length of outDF: 1160\n",
      "nextIndex: 1160\n",
      "rtn_null: True\n",
      "timeout: 10\n",
      "location (last obtained): None\n",
      "Global Settings for this object: \n",
      "endRow: 5\n",
      "delay:  0\n",
      "statusMsgGrouping: 10\n",
      "Length of outDF: 1160\n",
      "nextIndex: 1160\n",
      "rtn_null: True\n",
      "timeout: 10\n",
      "location (last obtained): None\n"
     ]
    }
   ],
   "source": [
    "## change error handling and a few other default parameters\n",
    "testObj.rtn_null = True           ## change error handling: bad records will not simply get blank Address values\n",
    "testObj.set_statusMsgGrouping(10) ## get status message about every 10 records (this will be a small test)\n",
    "testObj.set_timeDelay(0)          ## remove time delay (this increases risk of errors)\n",
    "                                  ## note: each set_ function outputs current state of variables\n",
    "                                  ##       each output begins with \"Global settings ...\"\n",
    "                                  ##       last one is what these settings look like going into the next test"
   ]
  },
  {
   "cell_type": "code",
   "execution_count": 22,
   "metadata": {},
   "outputs": [
    {
     "name": "stdout",
     "output_type": "stream",
     "text": [
      "Timestamp:  2018-06-06 15:29:05\n",
      "Processing inputDF with length of:  25\n",
      "Please wait ...\n",
      "2018-06-06 15:29:05 Now processing index:  0\n",
      "<class 'geopy.exc.GeocoderServiceError'>\n",
      "HTTP Error 429: Too Many Requests\n",
      "<class 'geopy.exc.GeocoderServiceError'>\n",
      "HTTP Error 429: Too Many Requests\n",
      "<class 'geopy.exc.GeocoderServiceError'>\n",
      "HTTP Error 429: Too Many Requests\n",
      "<class 'geopy.exc.GeocoderServiceError'>\n",
      "HTTP Error 429: Too Many Requests\n",
      "<class 'geopy.exc.GeocoderServiceError'>\n",
      "HTTP Error 429: Too Many Requests\n",
      "<class 'geopy.exc.GeocoderServiceError'>\n",
      "HTTP Error 429: Too Many Requests\n",
      "<class 'geopy.exc.GeocoderServiceError'>\n",
      "HTTP Error 429: Too Many Requests\n",
      "<class 'geopy.exc.GeocoderServiceError'>\n",
      "HTTP Error 429: Too Many Requests\n",
      "<class 'geopy.exc.GeocoderServiceError'>\n",
      "HTTP Error 429: Too Many Requests\n",
      "<class 'geopy.exc.GeocoderServiceError'>\n",
      "HTTP Error 429: Too Many Requests\n",
      "2018-06-06 15:29:09 Now processing index:  10\n",
      "<class 'geopy.exc.GeocoderServiceError'>\n",
      "HTTP Error 429: Too Many Requests\n",
      "<class 'geopy.exc.GeocoderServiceError'>\n",
      "HTTP Error 429: Too Many Requests\n",
      "<class 'geopy.exc.GeocoderServiceError'>\n",
      "HTTP Error 429: Too Many Requests\n",
      "<class 'geopy.exc.GeocoderServiceError'>\n",
      "HTTP Error 429: Too Many Requests\n",
      "<class 'geopy.exc.GeocoderServiceError'>\n",
      "HTTP Error 429: Too Many Requests\n",
      "<class 'geopy.exc.GeocoderServiceError'>\n",
      "HTTP Error 429: Too Many Requests\n",
      "<class 'geopy.exc.GeocoderServiceError'>\n",
      "HTTP Error 429: Too Many Requests\n",
      "<class 'geopy.exc.GeocoderServiceError'>\n",
      "HTTP Error 429: Too Many Requests\n",
      "<class 'geopy.exc.GeocoderServiceError'>\n",
      "HTTP Error 429: Too Many Requests\n",
      "<class 'geopy.exc.GeocoderServiceError'>\n",
      "HTTP Error 429: Too Many Requests\n",
      "2018-06-06 15:29:13 Now processing index:  20\n",
      "<class 'geopy.exc.GeocoderServiceError'>\n",
      "HTTP Error 429: Too Many Requests\n",
      "<class 'geopy.exc.GeocoderServiceError'>\n",
      "HTTP Error 429: Too Many Requests\n",
      "<class 'geopy.exc.GeocoderServiceError'>\n",
      "HTTP Error 429: Too Many Requests\n",
      "<class 'geopy.exc.GeocoderServiceError'>\n",
      "HTTP Error 429: Too Many Requests\n",
      "<class 'geopy.exc.GeocoderServiceError'>\n",
      "HTTP Error 429: Too Many Requests\n",
      "Process complete. 25 records added to outDF.\n",
      "Timestamp:  2018-06-06 15:29:15\n"
     ]
    }
   ],
   "source": [
    "testObj.buildOutDF(tst_lat_lon_df[-25:])  ## redo end of DF .. should be entirely blank since we're out of licenses\n",
    "                                          ## rtn_null = False told code to return empty cell instead of error text\n",
    "                                          ## in production, it may be easier to just search for the nulls to get\n",
    "                                          ## which records to redo, then delete nulls and add in missing records."
   ]
  },
  {
   "cell_type": "code",
   "execution_count": 20,
   "metadata": {},
   "outputs": [
    {
     "data": {
      "text/html": [
       "<div>\n",
       "<style>\n",
       "    .dataframe thead tr:only-child th {\n",
       "        text-align: right;\n",
       "    }\n",
       "\n",
       "    .dataframe thead th {\n",
       "        text-align: left;\n",
       "    }\n",
       "\n",
       "    .dataframe tbody tr th {\n",
       "        vertical-align: top;\n",
       "    }\n",
       "</style>\n",
       "<table border=\"1\" class=\"dataframe\">\n",
       "  <thead>\n",
       "    <tr style=\"text-align: right;\">\n",
       "      <th></th>\n",
       "      <th>lat</th>\n",
       "      <th>lon</th>\n",
       "      <th>Address</th>\n",
       "    </tr>\n",
       "  </thead>\n",
       "  <tbody>\n",
       "    <tr>\n",
       "      <th>1195</th>\n",
       "      <td>43.233299</td>\n",
       "      <td>-70.911079</td>\n",
       "      <td></td>\n",
       "    </tr>\n",
       "    <tr>\n",
       "      <th>1196</th>\n",
       "      <td>43.233601</td>\n",
       "      <td>-70.911301</td>\n",
       "      <td></td>\n",
       "    </tr>\n",
       "    <tr>\n",
       "      <th>1197</th>\n",
       "      <td>43.233299</td>\n",
       "      <td>-70.910698</td>\n",
       "      <td></td>\n",
       "    </tr>\n",
       "    <tr>\n",
       "      <th>1198</th>\n",
       "      <td>43.233398</td>\n",
       "      <td>-70.911003</td>\n",
       "      <td></td>\n",
       "    </tr>\n",
       "    <tr>\n",
       "      <th>1199</th>\n",
       "      <td>43.233299</td>\n",
       "      <td>-70.910713</td>\n",
       "      <td></td>\n",
       "    </tr>\n",
       "  </tbody>\n",
       "</table>\n",
       "</div>"
      ],
      "text/plain": [
       "            lat        lon Address\n",
       "1195  43.233299 -70.911079        \n",
       "1196  43.233601 -70.911301        \n",
       "1197  43.233299 -70.910698        \n",
       "1198  43.233398 -70.911003        \n",
       "1199  43.233299 -70.910713        "
      ]
     },
     "execution_count": 20,
     "metadata": {},
     "output_type": "execute_result"
    }
   ],
   "source": [
    "testObj.outDF.tail()"
   ]
  },
  {
   "cell_type": "code",
   "execution_count": 21,
   "metadata": {},
   "outputs": [
    {
     "name": "stdout",
     "output_type": "stream",
     "text": [
      "Global Settings for this object: \n",
      "endRow: 5\n",
      "delay:  0\n",
      "statusMsgGrouping: 10\n",
      "Length of outDF: 1200\n",
      "nextIndex: 40\n",
      "rtn_null: True\n",
      "timeout: 10\n",
      "location (last obtained): None\n"
     ]
    }
   ],
   "source": [
    "print(testObj)  ## final look at settings for this object after process is complete"
   ]
  },
  {
   "cell_type": "markdown",
   "metadata": {},
   "source": [
    "#### Test Main Logic - Fresh Alotment of Licenses (No Errors Expected)\n",
    "Note that an error could still occur due to a server timeout, a server being down (on the Google site) or some other unexpected event.  This test was set up to maximize the likelihood of showing what output can look like when no errors occur.  Since at least one error seems to occur in batches of 900 or more, data is split in half with the second half added in after the first for the test set."
   ]
  },
  {
   "cell_type": "code",
   "execution_count": 34,
   "metadata": {
    "collapsed": true
   },
   "outputs": [],
   "source": [
    "### quick clean test with fresh alotment of license records for the day\n",
    "#   illustrates adding more in later and a run with no errors in it\n",
    "#   * do 600 initially \n",
    "#   * then add in the end of DF\n",
    "\n",
    "testObj = GMapsLoc_DFBuilder()"
   ]
  },
  {
   "cell_type": "code",
   "execution_count": 36,
   "metadata": {},
   "outputs": [
    {
     "name": "stdout",
     "output_type": "stream",
     "text": [
      "Global Settings for this object: \n",
      "endRow: 5\n",
      "delay:  1\n",
      "statusMsgGrouping: 100\n",
      "Length of outDF: 0\n",
      "nextIndex: None\n",
      "rtn_null: False\n",
      "timeout: 10\n",
      "location (last obtained): \n"
     ]
    }
   ],
   "source": [
    "print(testObj)"
   ]
  },
  {
   "cell_type": "code",
   "execution_count": 37,
   "metadata": {},
   "outputs": [
    {
     "name": "stdout",
     "output_type": "stream",
     "text": [
      "Timestamp:  2018-06-07 22:15:50\n",
      "Processing inputDF with length of:  600\n",
      "Please wait ...\n",
      "2018-06-07 22:15:50 Now processing index:  0\n",
      "2018-06-07 22:16:53 Now processing index:  100\n",
      "2018-06-07 22:17:57 Now processing index:  200\n",
      "2018-06-07 22:19:02 Now processing index:  300\n",
      "2018-06-07 22:20:07 Now processing index:  400\n",
      "2018-06-07 22:21:12 Now processing index:  500\n",
      "Process complete. 600 records added to outDF.\n",
      "Timestamp:  2018-06-07 22:22:18\n"
     ]
    }
   ],
   "source": [
    "testObj.buildOutDF(tst_lat_lon_df[0:600])"
   ]
  },
  {
   "cell_type": "code",
   "execution_count": 38,
   "metadata": {},
   "outputs": [
    {
     "name": "stdout",
     "output_type": "stream",
     "text": [
      "Timestamp:  2018-06-08 03:07:25\n",
      "Processing inputDF with length of:  560\n",
      "Please wait ...\n",
      "2018-06-08 03:07:25 Now processing index:  0\n",
      "2018-06-08 03:08:29 Now processing index:  100\n",
      "2018-06-08 03:09:33 Now processing index:  200\n",
      "2018-06-08 03:10:36 Now processing index:  300\n",
      "2018-06-08 03:11:40 Now processing index:  400\n",
      "2018-06-08 03:12:44 Now processing index:  500\n",
      "Process complete. 560 records added to outDF.\n",
      "Timestamp:  2018-06-08 03:13:22\n"
     ]
    }
   ],
   "source": [
    "testObj.buildOutDF(tst_lat_lon_df[600:])  ## end of the df added in \n",
    "                                          ## in this text, indicies between input/output will match\n",
    "                                          ## since every record was added in using the same sequence"
   ]
  },
  {
   "cell_type": "code",
   "execution_count": 39,
   "metadata": {},
   "outputs": [
    {
     "data": {
      "text/html": [
       "<div>\n",
       "<style>\n",
       "    .dataframe thead tr:only-child th {\n",
       "        text-align: right;\n",
       "    }\n",
       "\n",
       "    .dataframe thead th {\n",
       "        text-align: left;\n",
       "    }\n",
       "\n",
       "    .dataframe tbody tr th {\n",
       "        vertical-align: top;\n",
       "    }\n",
       "</style>\n",
       "<table border=\"1\" class=\"dataframe\">\n",
       "  <thead>\n",
       "    <tr style=\"text-align: right;\">\n",
       "      <th></th>\n",
       "      <th>lat</th>\n",
       "      <th>lon</th>\n",
       "    </tr>\n",
       "  </thead>\n",
       "  <tbody>\n",
       "    <tr>\n",
       "      <th>1155</th>\n",
       "      <td>43.233299</td>\n",
       "      <td>-70.911079</td>\n",
       "    </tr>\n",
       "    <tr>\n",
       "      <th>1156</th>\n",
       "      <td>43.233601</td>\n",
       "      <td>-70.911301</td>\n",
       "    </tr>\n",
       "    <tr>\n",
       "      <th>1157</th>\n",
       "      <td>43.233299</td>\n",
       "      <td>-70.910698</td>\n",
       "    </tr>\n",
       "    <tr>\n",
       "      <th>1158</th>\n",
       "      <td>43.233398</td>\n",
       "      <td>-70.911003</td>\n",
       "    </tr>\n",
       "    <tr>\n",
       "      <th>1159</th>\n",
       "      <td>43.233299</td>\n",
       "      <td>-70.910713</td>\n",
       "    </tr>\n",
       "  </tbody>\n",
       "</table>\n",
       "</div>"
      ],
      "text/plain": [
       "            lat        lon\n",
       "1155  43.233299 -70.911079\n",
       "1156  43.233601 -70.911301\n",
       "1157  43.233299 -70.910698\n",
       "1158  43.233398 -70.911003\n",
       "1159  43.233299 -70.910713"
      ]
     },
     "execution_count": 39,
     "metadata": {},
     "output_type": "execute_result"
    }
   ],
   "source": [
    "tst_lat_lon_df.tail() ## final records in the input"
   ]
  },
  {
   "cell_type": "code",
   "execution_count": 40,
   "metadata": {},
   "outputs": [
    {
     "data": {
      "text/html": [
       "<div>\n",
       "<style>\n",
       "    .dataframe thead tr:only-child th {\n",
       "        text-align: right;\n",
       "    }\n",
       "\n",
       "    .dataframe thead th {\n",
       "        text-align: left;\n",
       "    }\n",
       "\n",
       "    .dataframe tbody tr th {\n",
       "        vertical-align: top;\n",
       "    }\n",
       "</style>\n",
       "<table border=\"1\" class=\"dataframe\">\n",
       "  <thead>\n",
       "    <tr style=\"text-align: right;\">\n",
       "      <th></th>\n",
       "      <th>lat</th>\n",
       "      <th>lon</th>\n",
       "      <th>Address</th>\n",
       "    </tr>\n",
       "  </thead>\n",
       "  <tbody>\n",
       "    <tr>\n",
       "      <th>1155</th>\n",
       "      <td>43.233299</td>\n",
       "      <td>-70.911079</td>\n",
       "      <td>159, Long Hill Road, Dover, Strafford County, ...</td>\n",
       "    </tr>\n",
       "    <tr>\n",
       "      <th>1156</th>\n",
       "      <td>43.233601</td>\n",
       "      <td>-70.911301</td>\n",
       "      <td>159, Long Hill Road, Dover, Strafford County, ...</td>\n",
       "    </tr>\n",
       "    <tr>\n",
       "      <th>1157</th>\n",
       "      <td>43.233299</td>\n",
       "      <td>-70.910698</td>\n",
       "      <td>155, Long Hill Road, Dover, Strafford County, ...</td>\n",
       "    </tr>\n",
       "    <tr>\n",
       "      <th>1158</th>\n",
       "      <td>43.233398</td>\n",
       "      <td>-70.911003</td>\n",
       "      <td>158, Long Hill Road, Dover, Strafford County, ...</td>\n",
       "    </tr>\n",
       "    <tr>\n",
       "      <th>1159</th>\n",
       "      <td>43.233299</td>\n",
       "      <td>-70.910713</td>\n",
       "      <td>155, Long Hill Road, Dover, Strafford County, ...</td>\n",
       "    </tr>\n",
       "  </tbody>\n",
       "</table>\n",
       "</div>"
      ],
      "text/plain": [
       "            lat        lon                                            Address\n",
       "1155  43.233299 -70.911079  159, Long Hill Road, Dover, Strafford County, ...\n",
       "1156  43.233601 -70.911301  159, Long Hill Road, Dover, Strafford County, ...\n",
       "1157  43.233299 -70.910698  155, Long Hill Road, Dover, Strafford County, ...\n",
       "1158  43.233398 -70.911003  158, Long Hill Road, Dover, Strafford County, ...\n",
       "1159  43.233299 -70.910713  155, Long Hill Road, Dover, Strafford County, ..."
      ]
     },
     "execution_count": 40,
     "metadata": {},
     "output_type": "execute_result"
    }
   ],
   "source": [
    "testObj.outDF.tail()  ## final records in the output"
   ]
  },
  {
   "cell_type": "markdown",
   "metadata": {},
   "source": [
    "#### Experiment in Cleaning Up Results\n",
    "This test was run with a fresh alotment of google license records for the day.  It should have completed without error but the server went down causing 5 error records instead.  This test shows what to do in this scenario."
   ]
  },
  {
   "cell_type": "code",
   "execution_count": 12,
   "metadata": {},
   "outputs": [
    {
     "name": "stdout",
     "output_type": "stream",
     "text": [
      "Global Settings for this object: \n",
      "endRow: 5\n",
      "delay:  1\n",
      "statusMsgGrouping: 100\n",
      "Length of outDF: 0\n",
      "nextIndex: None\n",
      "rtn_null: False\n",
      "timeout: 10\n",
      "location (last obtained): \n"
     ]
    }
   ],
   "source": [
    "## do test with testObjDocs - resetting it to blank to start fresh\n",
    "testObjDocs = GMapsLoc_DFBuilder()\n",
    "print(testObjDocs)"
   ]
  },
  {
   "cell_type": "code",
   "execution_count": 13,
   "metadata": {},
   "outputs": [
    {
     "name": "stdout",
     "output_type": "stream",
     "text": [
      "Timestamp:  2018-06-07 14:35:06\n",
      "Processing inputDF with length of:  1160\n",
      "Please wait ...\n",
      "2018-06-07 14:35:06 Now processing index:  0\n",
      "2018-06-07 14:36:09 Now processing index:  100\n",
      "2018-06-07 14:37:13 Now processing index:  200\n",
      "2018-06-07 14:38:16 Now processing index:  300\n",
      "2018-06-07 14:39:20 Now processing index:  400\n",
      "2018-06-07 14:40:25 Now processing index:  500\n",
      "2018-06-07 14:41:29 Now processing index:  600\n",
      "2018-06-07 14:42:36 Now processing index:  700\n",
      "2018-06-07 14:43:41 Now processing index:  800\n",
      "2018-06-07 14:44:45 Now processing index:  900\n",
      "<class 'geopy.exc.GeocoderServiceError'>\n",
      "[Errno 50] Network is down\n",
      "<class 'geopy.exc.GeocoderServiceError'>\n",
      "[Errno 50] Network is down\n",
      "<class 'geopy.exc.GeocoderServiceError'>\n",
      "[Errno 50] Network is down\n",
      "<class 'geopy.exc.GeocoderServiceError'>\n",
      "[Errno 50] Network is down\n",
      "<class 'geopy.exc.GeocoderServiceError'>\n",
      "[Errno 50] Network is down\n",
      "2018-06-07 14:51:07 Now processing index:  1000\n",
      "2018-06-07 14:52:18 Now processing index:  1100\n",
      "Process complete. 1160 records added to outDF.\n",
      "Timestamp:  2018-06-07 14:52:57\n"
     ]
    }
   ],
   "source": [
    "testObjDocs.buildOutDF(tst_lat_lon_df)"
   ]
  },
  {
   "cell_type": "code",
   "execution_count": 18,
   "metadata": {},
   "outputs": [
    {
     "data": {
      "text/html": [
       "<div>\n",
       "<style>\n",
       "    .dataframe thead tr:only-child th {\n",
       "        text-align: right;\n",
       "    }\n",
       "\n",
       "    .dataframe thead th {\n",
       "        text-align: left;\n",
       "    }\n",
       "\n",
       "    .dataframe tbody tr th {\n",
       "        vertical-align: top;\n",
       "    }\n",
       "</style>\n",
       "<table border=\"1\" class=\"dataframe\">\n",
       "  <thead>\n",
       "    <tr style=\"text-align: right;\">\n",
       "      <th></th>\n",
       "      <th>lat</th>\n",
       "      <th>lon</th>\n",
       "      <th>Address</th>\n",
       "    </tr>\n",
       "  </thead>\n",
       "  <tbody>\n",
       "    <tr>\n",
       "      <th>975</th>\n",
       "      <td>43.001820</td>\n",
       "      <td>-76.338440</td>\n",
       "      <td>2418, Falls Road, Marcellus, Town of Marcellus...</td>\n",
       "    </tr>\n",
       "    <tr>\n",
       "      <th>976</th>\n",
       "      <td>43.015862</td>\n",
       "      <td>-76.166779</td>\n",
       "      <td>301, Hutchinson Avenue, Elmwood, Syracuse, Ono...</td>\n",
       "    </tr>\n",
       "    <tr>\n",
       "      <th>977</th>\n",
       "      <td>43.030029</td>\n",
       "      <td>-76.282669</td>\n",
       "      <td>270, Emann Drive, Parson Farms, Town of Camill...</td>\n",
       "    </tr>\n",
       "    <tr>\n",
       "      <th>978</th>\n",
       "      <td>43.099602</td>\n",
       "      <td>-76.162804</td>\n",
       "      <td>321, Salina Meadows Parkway, The Meadows, Pitc...</td>\n",
       "    </tr>\n",
       "    <tr>\n",
       "      <th>979</th>\n",
       "      <td>40.766701</td>\n",
       "      <td>-73.516502</td>\n",
       "      <td>65, Clinton Street, Hicksville, Nassau County,...</td>\n",
       "    </tr>\n",
       "    <tr>\n",
       "      <th>980</th>\n",
       "      <td>40.619202</td>\n",
       "      <td>-73.965599</td>\n",
       "      <td>1222, East 10th Street, Midwood, BK, Kings Cou...</td>\n",
       "    </tr>\n",
       "    <tr>\n",
       "      <th>981</th>\n",
       "      <td>40.799599</td>\n",
       "      <td>-73.970299</td>\n",
       "      <td>875, West End Avenue, Upper West Side, Manhatt...</td>\n",
       "    </tr>\n",
       "    <tr>\n",
       "      <th>982</th>\n",
       "      <td>40.767490</td>\n",
       "      <td>-73.964752</td>\n",
       "      <td>121, East 67th Street, Lenox Hill, Manhattan C...</td>\n",
       "    </tr>\n",
       "    <tr>\n",
       "      <th>983</th>\n",
       "      <td>41.145699</td>\n",
       "      <td>-73.833801</td>\n",
       "      <td>Shawdow Tree Lane, Briarcliff Manor, Town of O...</td>\n",
       "    </tr>\n",
       "    <tr>\n",
       "      <th>984</th>\n",
       "      <td>40.796982</td>\n",
       "      <td>-73.964752</td>\n",
       "      <td>850, Columbus Avenue, Frederick Douglass House...</td>\n",
       "    </tr>\n",
       "    <tr>\n",
       "      <th>985</th>\n",
       "      <td>43.227901</td>\n",
       "      <td>-77.309402</td>\n",
       "      <td>_[ERRNO_50]_NETWORK_IS_DOWN_</td>\n",
       "    </tr>\n",
       "    <tr>\n",
       "      <th>986</th>\n",
       "      <td>43.246601</td>\n",
       "      <td>-77.183197</td>\n",
       "      <td>_[ERRNO_50]_NETWORK_IS_DOWN_</td>\n",
       "    </tr>\n",
       "    <tr>\n",
       "      <th>987</th>\n",
       "      <td>43.200100</td>\n",
       "      <td>-77.038498</td>\n",
       "      <td>_[ERRNO_50]_NETWORK_IS_DOWN_</td>\n",
       "    </tr>\n",
       "    <tr>\n",
       "      <th>988</th>\n",
       "      <td>42.472801</td>\n",
       "      <td>-73.274399</td>\n",
       "      <td>_[ERRNO_50]_NETWORK_IS_DOWN_</td>\n",
       "    </tr>\n",
       "    <tr>\n",
       "      <th>989</th>\n",
       "      <td>42.929901</td>\n",
       "      <td>-76.563698</td>\n",
       "      <td>_[ERRNO_50]_NETWORK_IS_DOWN_</td>\n",
       "    </tr>\n",
       "    <tr>\n",
       "      <th>990</th>\n",
       "      <td>43.225910</td>\n",
       "      <td>-77.137512</td>\n",
       "      <td>Richardson Road, Sodus Town, Wayne County, New...</td>\n",
       "    </tr>\n",
       "    <tr>\n",
       "      <th>991</th>\n",
       "      <td>43.228649</td>\n",
       "      <td>-77.153687</td>\n",
       "      <td>Ridge Road, East Williamson, Williamson Town, ...</td>\n",
       "    </tr>\n",
       "    <tr>\n",
       "      <th>992</th>\n",
       "      <td>42.849998</td>\n",
       "      <td>-73.800003</td>\n",
       "      <td>Roundabout forested area, Casablanca Court, Fl...</td>\n",
       "    </tr>\n",
       "    <tr>\n",
       "      <th>993</th>\n",
       "      <td>43.243900</td>\n",
       "      <td>-77.164597</td>\n",
       "      <td>Bear Swamp Road, Williamson, Williamson Town, ...</td>\n",
       "    </tr>\n",
       "    <tr>\n",
       "      <th>994</th>\n",
       "      <td>43.226021</td>\n",
       "      <td>-77.137001</td>\n",
       "      <td>Richardson Road, Sodus Town, Wayne County, New...</td>\n",
       "    </tr>\n",
       "    <tr>\n",
       "      <th>995</th>\n",
       "      <td>43.159000</td>\n",
       "      <td>-77.614998</td>\n",
       "      <td>150 State St, 150, State Street, Rochester, Mo...</td>\n",
       "    </tr>\n",
       "    <tr>\n",
       "      <th>996</th>\n",
       "      <td>43.223942</td>\n",
       "      <td>-77.128082</td>\n",
       "      <td>6102, Richardson Road, Sodus Town, Wayne Count...</td>\n",
       "    </tr>\n",
       "    <tr>\n",
       "      <th>997</th>\n",
       "      <td>43.064732</td>\n",
       "      <td>-76.153900</td>\n",
       "      <td>240, Lilac Street, Washington Square, Syracuse...</td>\n",
       "    </tr>\n",
       "    <tr>\n",
       "      <th>998</th>\n",
       "      <td>43.064690</td>\n",
       "      <td>-76.154068</td>\n",
       "      <td>2020, Lodi Street, Washington Square, Syracuse...</td>\n",
       "    </tr>\n",
       "    <tr>\n",
       "      <th>999</th>\n",
       "      <td>43.064701</td>\n",
       "      <td>-76.154007</td>\n",
       "      <td>2020, Lodi Street, Washington Square, Syracuse...</td>\n",
       "    </tr>\n",
       "  </tbody>\n",
       "</table>\n",
       "</div>"
      ],
      "text/plain": [
       "           lat        lon                                            Address\n",
       "975  43.001820 -76.338440  2418, Falls Road, Marcellus, Town of Marcellus...\n",
       "976  43.015862 -76.166779  301, Hutchinson Avenue, Elmwood, Syracuse, Ono...\n",
       "977  43.030029 -76.282669  270, Emann Drive, Parson Farms, Town of Camill...\n",
       "978  43.099602 -76.162804  321, Salina Meadows Parkway, The Meadows, Pitc...\n",
       "979  40.766701 -73.516502  65, Clinton Street, Hicksville, Nassau County,...\n",
       "980  40.619202 -73.965599  1222, East 10th Street, Midwood, BK, Kings Cou...\n",
       "981  40.799599 -73.970299  875, West End Avenue, Upper West Side, Manhatt...\n",
       "982  40.767490 -73.964752  121, East 67th Street, Lenox Hill, Manhattan C...\n",
       "983  41.145699 -73.833801  Shawdow Tree Lane, Briarcliff Manor, Town of O...\n",
       "984  40.796982 -73.964752  850, Columbus Avenue, Frederick Douglass House...\n",
       "985  43.227901 -77.309402                       _[ERRNO_50]_NETWORK_IS_DOWN_\n",
       "986  43.246601 -77.183197                       _[ERRNO_50]_NETWORK_IS_DOWN_\n",
       "987  43.200100 -77.038498                       _[ERRNO_50]_NETWORK_IS_DOWN_\n",
       "988  42.472801 -73.274399                       _[ERRNO_50]_NETWORK_IS_DOWN_\n",
       "989  42.929901 -76.563698                       _[ERRNO_50]_NETWORK_IS_DOWN_\n",
       "990  43.225910 -77.137512  Richardson Road, Sodus Town, Wayne County, New...\n",
       "991  43.228649 -77.153687  Ridge Road, East Williamson, Williamson Town, ...\n",
       "992  42.849998 -73.800003  Roundabout forested area, Casablanca Court, Fl...\n",
       "993  43.243900 -77.164597  Bear Swamp Road, Williamson, Williamson Town, ...\n",
       "994  43.226021 -77.137001  Richardson Road, Sodus Town, Wayne County, New...\n",
       "995  43.159000 -77.614998  150 State St, 150, State Street, Rochester, Mo...\n",
       "996  43.223942 -77.128082  6102, Richardson Road, Sodus Town, Wayne Count...\n",
       "997  43.064732 -76.153900  240, Lilac Street, Washington Square, Syracuse...\n",
       "998  43.064690 -76.154068  2020, Lodi Street, Washington Square, Syracuse...\n",
       "999  43.064701 -76.154007  2020, Lodi Street, Washington Square, Syracuse..."
      ]
     },
     "execution_count": 18,
     "metadata": {},
     "output_type": "execute_result"
    }
   ],
   "source": [
    "testObjDocs.outDF[975:1000]  ## spot check run on batches of 25 records to find the bad ones (b/2 900 and 1000)\n",
    "                             ## bad records found here"
   ]
  },
  {
   "cell_type": "code",
   "execution_count": 20,
   "metadata": {},
   "outputs": [
    {
     "data": {
      "text/plain": [
       "1160"
      ]
     },
     "execution_count": 20,
     "metadata": {},
     "output_type": "execute_result"
    }
   ],
   "source": [
    "len(testObjDocs.outDF)  # current length of DF"
   ]
  },
  {
   "cell_type": "code",
   "execution_count": 22,
   "metadata": {},
   "outputs": [
    {
     "data": {
      "text/html": [
       "<div>\n",
       "<style>\n",
       "    .dataframe thead tr:only-child th {\n",
       "        text-align: right;\n",
       "    }\n",
       "\n",
       "    .dataframe thead th {\n",
       "        text-align: left;\n",
       "    }\n",
       "\n",
       "    .dataframe tbody tr th {\n",
       "        vertical-align: top;\n",
       "    }\n",
       "</style>\n",
       "<table border=\"1\" class=\"dataframe\">\n",
       "  <thead>\n",
       "    <tr style=\"text-align: right;\">\n",
       "      <th></th>\n",
       "      <th>lat</th>\n",
       "      <th>lon</th>\n",
       "    </tr>\n",
       "  </thead>\n",
       "  <tbody>\n",
       "    <tr>\n",
       "      <th>985</th>\n",
       "      <td>43.227901</td>\n",
       "      <td>-77.309402</td>\n",
       "    </tr>\n",
       "    <tr>\n",
       "      <th>986</th>\n",
       "      <td>43.246601</td>\n",
       "      <td>-77.183197</td>\n",
       "    </tr>\n",
       "    <tr>\n",
       "      <th>987</th>\n",
       "      <td>43.200100</td>\n",
       "      <td>-77.038498</td>\n",
       "    </tr>\n",
       "    <tr>\n",
       "      <th>988</th>\n",
       "      <td>42.472801</td>\n",
       "      <td>-73.274399</td>\n",
       "    </tr>\n",
       "    <tr>\n",
       "      <th>989</th>\n",
       "      <td>42.929901</td>\n",
       "      <td>-76.563698</td>\n",
       "    </tr>\n",
       "  </tbody>\n",
       "</table>\n",
       "</div>"
      ],
      "text/plain": [
       "           lat        lon\n",
       "985  43.227901 -77.309402\n",
       "986  43.246601 -77.183197\n",
       "987  43.200100 -77.038498\n",
       "988  42.472801 -73.274399\n",
       "989  42.929901 -76.563698"
      ]
     },
     "execution_count": 22,
     "metadata": {},
     "output_type": "execute_result"
    }
   ],
   "source": [
    "## our first run: index of input will be same as index on output\n",
    "## test showing that records on input match the problem range in output\n",
    "\n",
    "tst_lat_lon_df[985:990]"
   ]
  },
  {
   "cell_type": "code",
   "execution_count": 23,
   "metadata": {},
   "outputs": [
    {
     "name": "stdout",
     "output_type": "stream",
     "text": [
      "Timestamp:  2018-06-07 15:03:45\n",
      "Processing inputDF with length of:  5\n",
      "Please wait ...\n",
      "2018-06-07 15:03:45 Now processing index:  0\n",
      "Process complete. 5 records added to outDF.\n",
      "Timestamp:  2018-06-07 15:03:48\n"
     ]
    }
   ],
   "source": [
    "testObjDocs.buildOutDF(tst_lat_lon_df[985:990])"
   ]
  },
  {
   "cell_type": "code",
   "execution_count": 24,
   "metadata": {},
   "outputs": [
    {
     "data": {
      "text/html": [
       "<div>\n",
       "<style>\n",
       "    .dataframe thead tr:only-child th {\n",
       "        text-align: right;\n",
       "    }\n",
       "\n",
       "    .dataframe thead th {\n",
       "        text-align: left;\n",
       "    }\n",
       "\n",
       "    .dataframe tbody tr th {\n",
       "        vertical-align: top;\n",
       "    }\n",
       "</style>\n",
       "<table border=\"1\" class=\"dataframe\">\n",
       "  <thead>\n",
       "    <tr style=\"text-align: right;\">\n",
       "      <th></th>\n",
       "      <th>lat</th>\n",
       "      <th>lon</th>\n",
       "      <th>Address</th>\n",
       "    </tr>\n",
       "  </thead>\n",
       "  <tbody>\n",
       "    <tr>\n",
       "      <th>1155</th>\n",
       "      <td>43.233299</td>\n",
       "      <td>-70.911079</td>\n",
       "      <td>159, Long Hill Road, Dover, Strafford County, ...</td>\n",
       "    </tr>\n",
       "    <tr>\n",
       "      <th>1156</th>\n",
       "      <td>43.233601</td>\n",
       "      <td>-70.911301</td>\n",
       "      <td>159, Long Hill Road, Dover, Strafford County, ...</td>\n",
       "    </tr>\n",
       "    <tr>\n",
       "      <th>1157</th>\n",
       "      <td>43.233299</td>\n",
       "      <td>-70.910698</td>\n",
       "      <td>155, Long Hill Road, Dover, Strafford County, ...</td>\n",
       "    </tr>\n",
       "    <tr>\n",
       "      <th>1158</th>\n",
       "      <td>43.233398</td>\n",
       "      <td>-70.911003</td>\n",
       "      <td>158, Long Hill Road, Dover, Strafford County, ...</td>\n",
       "    </tr>\n",
       "    <tr>\n",
       "      <th>1159</th>\n",
       "      <td>43.233299</td>\n",
       "      <td>-70.910713</td>\n",
       "      <td>155, Long Hill Road, Dover, Strafford County, ...</td>\n",
       "    </tr>\n",
       "    <tr>\n",
       "      <th>1160</th>\n",
       "      <td>43.227901</td>\n",
       "      <td>-77.309402</td>\n",
       "      <td>1429, NY 104, Williamson Town, Wayne County, N...</td>\n",
       "    </tr>\n",
       "    <tr>\n",
       "      <th>1161</th>\n",
       "      <td>43.246601</td>\n",
       "      <td>-77.183197</td>\n",
       "      <td>6751, Pound Road, Williamson, Williamson Town,...</td>\n",
       "    </tr>\n",
       "    <tr>\n",
       "      <th>1162</th>\n",
       "      <td>43.200100</td>\n",
       "      <td>-77.038498</td>\n",
       "      <td>Sodus Center Road, Sodus Center, Sodus Town, W...</td>\n",
       "    </tr>\n",
       "    <tr>\n",
       "      <th>1163</th>\n",
       "      <td>42.472801</td>\n",
       "      <td>-73.274399</td>\n",
       "      <td>Ramsey Beach, Lakeway Drive, Pittsfield, Berks...</td>\n",
       "    </tr>\n",
       "    <tr>\n",
       "      <th>1164</th>\n",
       "      <td>42.929901</td>\n",
       "      <td>-76.563698</td>\n",
       "      <td>84, School Street, Auburn, Cayuga County, New ...</td>\n",
       "    </tr>\n",
       "  </tbody>\n",
       "</table>\n",
       "</div>"
      ],
      "text/plain": [
       "            lat        lon                                            Address\n",
       "1155  43.233299 -70.911079  159, Long Hill Road, Dover, Strafford County, ...\n",
       "1156  43.233601 -70.911301  159, Long Hill Road, Dover, Strafford County, ...\n",
       "1157  43.233299 -70.910698  155, Long Hill Road, Dover, Strafford County, ...\n",
       "1158  43.233398 -70.911003  158, Long Hill Road, Dover, Strafford County, ...\n",
       "1159  43.233299 -70.910713  155, Long Hill Road, Dover, Strafford County, ...\n",
       "1160  43.227901 -77.309402  1429, NY 104, Williamson Town, Wayne County, N...\n",
       "1161  43.246601 -77.183197  6751, Pound Road, Williamson, Williamson Town,...\n",
       "1162  43.200100 -77.038498  Sodus Center Road, Sodus Center, Sodus Town, W...\n",
       "1163  42.472801 -73.274399  Ramsey Beach, Lakeway Drive, Pittsfield, Berks...\n",
       "1164  42.929901 -76.563698  84, School Street, Auburn, Cayuga County, New ..."
      ]
     },
     "execution_count": 24,
     "metadata": {},
     "output_type": "execute_result"
    }
   ],
   "source": [
    "testObjDocs.outDF.tail(10)  ## new records on the end ... still need to delete the bad ones"
   ]
  },
  {
   "cell_type": "code",
   "execution_count": 27,
   "metadata": {
    "collapsed": true
   },
   "outputs": [],
   "source": [
    "testObjDocs.outDF.drop(testObjDocs.outDF.index[985:990], inplace=True)"
   ]
  },
  {
   "cell_type": "code",
   "execution_count": 28,
   "metadata": {},
   "outputs": [
    {
     "data": {
      "text/html": [
       "<div>\n",
       "<style>\n",
       "    .dataframe thead tr:only-child th {\n",
       "        text-align: right;\n",
       "    }\n",
       "\n",
       "    .dataframe thead th {\n",
       "        text-align: left;\n",
       "    }\n",
       "\n",
       "    .dataframe tbody tr th {\n",
       "        vertical-align: top;\n",
       "    }\n",
       "</style>\n",
       "<table border=\"1\" class=\"dataframe\">\n",
       "  <thead>\n",
       "    <tr style=\"text-align: right;\">\n",
       "      <th></th>\n",
       "      <th>lat</th>\n",
       "      <th>lon</th>\n",
       "      <th>Address</th>\n",
       "    </tr>\n",
       "  </thead>\n",
       "  <tbody>\n",
       "    <tr>\n",
       "      <th>984</th>\n",
       "      <td>40.796982</td>\n",
       "      <td>-73.964752</td>\n",
       "      <td>850, Columbus Avenue, Frederick Douglass House...</td>\n",
       "    </tr>\n",
       "    <tr>\n",
       "      <th>990</th>\n",
       "      <td>43.225910</td>\n",
       "      <td>-77.137512</td>\n",
       "      <td>Richardson Road, Sodus Town, Wayne County, New...</td>\n",
       "    </tr>\n",
       "    <tr>\n",
       "      <th>991</th>\n",
       "      <td>43.228649</td>\n",
       "      <td>-77.153687</td>\n",
       "      <td>Ridge Road, East Williamson, Williamson Town, ...</td>\n",
       "    </tr>\n",
       "    <tr>\n",
       "      <th>992</th>\n",
       "      <td>42.849998</td>\n",
       "      <td>-73.800003</td>\n",
       "      <td>Roundabout forested area, Casablanca Court, Fl...</td>\n",
       "    </tr>\n",
       "    <tr>\n",
       "      <th>993</th>\n",
       "      <td>43.243900</td>\n",
       "      <td>-77.164597</td>\n",
       "      <td>Bear Swamp Road, Williamson, Williamson Town, ...</td>\n",
       "    </tr>\n",
       "    <tr>\n",
       "      <th>994</th>\n",
       "      <td>43.226021</td>\n",
       "      <td>-77.137001</td>\n",
       "      <td>Richardson Road, Sodus Town, Wayne County, New...</td>\n",
       "    </tr>\n",
       "    <tr>\n",
       "      <th>995</th>\n",
       "      <td>43.159000</td>\n",
       "      <td>-77.614998</td>\n",
       "      <td>150 State St, 150, State Street, Rochester, Mo...</td>\n",
       "    </tr>\n",
       "  </tbody>\n",
       "</table>\n",
       "</div>"
      ],
      "text/plain": [
       "           lat        lon                                            Address\n",
       "984  40.796982 -73.964752  850, Columbus Avenue, Frederick Douglass House...\n",
       "990  43.225910 -77.137512  Richardson Road, Sodus Town, Wayne County, New...\n",
       "991  43.228649 -77.153687  Ridge Road, East Williamson, Williamson Town, ...\n",
       "992  42.849998 -73.800003  Roundabout forested area, Casablanca Court, Fl...\n",
       "993  43.243900 -77.164597  Bear Swamp Road, Williamson, Williamson Town, ...\n",
       "994  43.226021 -77.137001  Richardson Road, Sodus Town, Wayne County, New...\n",
       "995  43.159000 -77.614998  150 State St, 150, State Street, Rochester, Mo..."
      ]
     },
     "execution_count": 28,
     "metadata": {},
     "output_type": "execute_result"
    }
   ],
   "source": [
    "testObjDocs.outDF[984:991]  ## as expected - bad rows dropped but we now have an indexing issue"
   ]
  },
  {
   "cell_type": "code",
   "execution_count": 29,
   "metadata": {},
   "outputs": [
    {
     "data": {
      "text/html": [
       "<div>\n",
       "<style>\n",
       "    .dataframe thead tr:only-child th {\n",
       "        text-align: right;\n",
       "    }\n",
       "\n",
       "    .dataframe thead th {\n",
       "        text-align: left;\n",
       "    }\n",
       "\n",
       "    .dataframe tbody tr th {\n",
       "        vertical-align: top;\n",
       "    }\n",
       "</style>\n",
       "<table border=\"1\" class=\"dataframe\">\n",
       "  <thead>\n",
       "    <tr style=\"text-align: right;\">\n",
       "      <th></th>\n",
       "      <th>lat</th>\n",
       "      <th>lon</th>\n",
       "      <th>Address</th>\n",
       "    </tr>\n",
       "  </thead>\n",
       "  <tbody>\n",
       "    <tr>\n",
       "      <th>1160</th>\n",
       "      <td>43.227901</td>\n",
       "      <td>-77.309402</td>\n",
       "      <td>1429, NY 104, Williamson Town, Wayne County, N...</td>\n",
       "    </tr>\n",
       "    <tr>\n",
       "      <th>1161</th>\n",
       "      <td>43.246601</td>\n",
       "      <td>-77.183197</td>\n",
       "      <td>6751, Pound Road, Williamson, Williamson Town,...</td>\n",
       "    </tr>\n",
       "    <tr>\n",
       "      <th>1162</th>\n",
       "      <td>43.200100</td>\n",
       "      <td>-77.038498</td>\n",
       "      <td>Sodus Center Road, Sodus Center, Sodus Town, W...</td>\n",
       "    </tr>\n",
       "    <tr>\n",
       "      <th>1163</th>\n",
       "      <td>42.472801</td>\n",
       "      <td>-73.274399</td>\n",
       "      <td>Ramsey Beach, Lakeway Drive, Pittsfield, Berks...</td>\n",
       "    </tr>\n",
       "    <tr>\n",
       "      <th>1164</th>\n",
       "      <td>42.929901</td>\n",
       "      <td>-76.563698</td>\n",
       "      <td>84, School Street, Auburn, Cayuga County, New ...</td>\n",
       "    </tr>\n",
       "  </tbody>\n",
       "</table>\n",
       "</div>"
      ],
      "text/plain": [
       "            lat        lon                                            Address\n",
       "1160  43.227901 -77.309402  1429, NY 104, Williamson Town, Wayne County, N...\n",
       "1161  43.246601 -77.183197  6751, Pound Road, Williamson, Williamson Town,...\n",
       "1162  43.200100 -77.038498  Sodus Center Road, Sodus Center, Sodus Town, W...\n",
       "1163  42.472801 -73.274399  Ramsey Beach, Lakeway Drive, Pittsfield, Berks...\n",
       "1164  42.929901 -76.563698  84, School Street, Auburn, Cayuga County, New ..."
      ]
     },
     "execution_count": 29,
     "metadata": {},
     "output_type": "execute_result"
    }
   ],
   "source": [
    "testObjDocs.outDF.tail()"
   ]
  },
  {
   "cell_type": "code",
   "execution_count": 30,
   "metadata": {},
   "outputs": [
    {
     "data": {
      "text/html": [
       "<div>\n",
       "<style>\n",
       "    .dataframe thead tr:only-child th {\n",
       "        text-align: right;\n",
       "    }\n",
       "\n",
       "    .dataframe thead th {\n",
       "        text-align: left;\n",
       "    }\n",
       "\n",
       "    .dataframe tbody tr th {\n",
       "        vertical-align: top;\n",
       "    }\n",
       "</style>\n",
       "<table border=\"1\" class=\"dataframe\">\n",
       "  <thead>\n",
       "    <tr style=\"text-align: right;\">\n",
       "      <th></th>\n",
       "      <th>lat</th>\n",
       "      <th>lon</th>\n",
       "      <th>Address</th>\n",
       "    </tr>\n",
       "  </thead>\n",
       "  <tbody>\n",
       "    <tr>\n",
       "      <th>984</th>\n",
       "      <td>40.796982</td>\n",
       "      <td>-73.964752</td>\n",
       "      <td>850, Columbus Avenue, Frederick Douglass House...</td>\n",
       "    </tr>\n",
       "    <tr>\n",
       "      <th>985</th>\n",
       "      <td>43.225910</td>\n",
       "      <td>-77.137512</td>\n",
       "      <td>Richardson Road, Sodus Town, Wayne County, New...</td>\n",
       "    </tr>\n",
       "    <tr>\n",
       "      <th>986</th>\n",
       "      <td>43.228649</td>\n",
       "      <td>-77.153687</td>\n",
       "      <td>Ridge Road, East Williamson, Williamson Town, ...</td>\n",
       "    </tr>\n",
       "    <tr>\n",
       "      <th>987</th>\n",
       "      <td>42.849998</td>\n",
       "      <td>-73.800003</td>\n",
       "      <td>Roundabout forested area, Casablanca Court, Fl...</td>\n",
       "    </tr>\n",
       "    <tr>\n",
       "      <th>988</th>\n",
       "      <td>43.243900</td>\n",
       "      <td>-77.164597</td>\n",
       "      <td>Bear Swamp Road, Williamson, Williamson Town, ...</td>\n",
       "    </tr>\n",
       "    <tr>\n",
       "      <th>989</th>\n",
       "      <td>43.226021</td>\n",
       "      <td>-77.137001</td>\n",
       "      <td>Richardson Road, Sodus Town, Wayne County, New...</td>\n",
       "    </tr>\n",
       "    <tr>\n",
       "      <th>990</th>\n",
       "      <td>43.159000</td>\n",
       "      <td>-77.614998</td>\n",
       "      <td>150 State St, 150, State Street, Rochester, Mo...</td>\n",
       "    </tr>\n",
       "  </tbody>\n",
       "</table>\n",
       "</div>"
      ],
      "text/plain": [
       "           lat        lon                                            Address\n",
       "984  40.796982 -73.964752  850, Columbus Avenue, Frederick Douglass House...\n",
       "985  43.225910 -77.137512  Richardson Road, Sodus Town, Wayne County, New...\n",
       "986  43.228649 -77.153687  Ridge Road, East Williamson, Williamson Town, ...\n",
       "987  42.849998 -73.800003  Roundabout forested area, Casablanca Court, Fl...\n",
       "988  43.243900 -77.164597  Bear Swamp Road, Williamson, Williamson Town, ...\n",
       "989  43.226021 -77.137001  Richardson Road, Sodus Town, Wayne County, New...\n",
       "990  43.159000 -77.614998  150 State St, 150, State Street, Rochester, Mo..."
      ]
     },
     "execution_count": 30,
     "metadata": {},
     "output_type": "execute_result"
    }
   ],
   "source": [
    "## fix index:\n",
    "testObjDocs.reindex_OutDF()\n",
    "testObjDocs.outDF[984:991]"
   ]
  },
  {
   "cell_type": "code",
   "execution_count": 31,
   "metadata": {},
   "outputs": [
    {
     "data": {
      "text/html": [
       "<div>\n",
       "<style>\n",
       "    .dataframe thead tr:only-child th {\n",
       "        text-align: right;\n",
       "    }\n",
       "\n",
       "    .dataframe thead th {\n",
       "        text-align: left;\n",
       "    }\n",
       "\n",
       "    .dataframe tbody tr th {\n",
       "        vertical-align: top;\n",
       "    }\n",
       "</style>\n",
       "<table border=\"1\" class=\"dataframe\">\n",
       "  <thead>\n",
       "    <tr style=\"text-align: right;\">\n",
       "      <th></th>\n",
       "      <th>lat</th>\n",
       "      <th>lon</th>\n",
       "      <th>Address</th>\n",
       "    </tr>\n",
       "  </thead>\n",
       "  <tbody>\n",
       "    <tr>\n",
       "      <th>1155</th>\n",
       "      <td>43.227901</td>\n",
       "      <td>-77.309402</td>\n",
       "      <td>1429, NY 104, Williamson Town, Wayne County, N...</td>\n",
       "    </tr>\n",
       "    <tr>\n",
       "      <th>1156</th>\n",
       "      <td>43.246601</td>\n",
       "      <td>-77.183197</td>\n",
       "      <td>6751, Pound Road, Williamson, Williamson Town,...</td>\n",
       "    </tr>\n",
       "    <tr>\n",
       "      <th>1157</th>\n",
       "      <td>43.200100</td>\n",
       "      <td>-77.038498</td>\n",
       "      <td>Sodus Center Road, Sodus Center, Sodus Town, W...</td>\n",
       "    </tr>\n",
       "    <tr>\n",
       "      <th>1158</th>\n",
       "      <td>42.472801</td>\n",
       "      <td>-73.274399</td>\n",
       "      <td>Ramsey Beach, Lakeway Drive, Pittsfield, Berks...</td>\n",
       "    </tr>\n",
       "    <tr>\n",
       "      <th>1159</th>\n",
       "      <td>42.929901</td>\n",
       "      <td>-76.563698</td>\n",
       "      <td>84, School Street, Auburn, Cayuga County, New ...</td>\n",
       "    </tr>\n",
       "  </tbody>\n",
       "</table>\n",
       "</div>"
      ],
      "text/plain": [
       "            lat        lon                                            Address\n",
       "1155  43.227901 -77.309402  1429, NY 104, Williamson Town, Wayne County, N...\n",
       "1156  43.246601 -77.183197  6751, Pound Road, Williamson, Williamson Town,...\n",
       "1157  43.200100 -77.038498  Sodus Center Road, Sodus Center, Sodus Town, W...\n",
       "1158  42.472801 -73.274399  Ramsey Beach, Lakeway Drive, Pittsfield, Berks...\n",
       "1159  42.929901 -76.563698  84, School Street, Auburn, Cayuga County, New ..."
      ]
     },
     "execution_count": 31,
     "metadata": {},
     "output_type": "execute_result"
    }
   ],
   "source": [
    "testObjDocs.outDF.tail()  ## note: all records are in here now but indices will be different from input DF"
   ]
  },
  {
   "cell_type": "markdown",
   "metadata": {},
   "source": [
    "#### Testing of Enhanced Print() and set_ Functions\n",
    "Now has logic to handle output in different way.  We get to see `location.raw` if possible, and it knows what to do if `location` is `None` or an empty string.  Also testing build parameters for first time and new `set_` functions."
   ]
  },
  {
   "cell_type": "code",
   "execution_count": 55,
   "metadata": {
    "collapsed": true
   },
   "outputs": [],
   "source": [
    "gMapAddrDat = GMapsLoc_DFBuilder(endRw=4, time_delay=3, return_null=True)"
   ]
  },
  {
   "cell_type": "code",
   "execution_count": 56,
   "metadata": {},
   "outputs": [
    {
     "name": "stdout",
     "output_type": "stream",
     "text": [
      "Global Settings for this object: \n",
      "endRow: 4\n",
      "delay:  3\n",
      "statusMsgGrouping: 12\n",
      "Length of outDF: 0\n",
      "nextIndex: None\n",
      "rtn_null: True\n",
      "timeout: 10\n",
      "location (last obtained): \n"
     ]
    }
   ],
   "source": [
    "gMapAddrDat.set_statusMsgGrouping(12)"
   ]
  },
  {
   "cell_type": "code",
   "execution_count": 57,
   "metadata": {},
   "outputs": [
    {
     "name": "stdout",
     "output_type": "stream",
     "text": [
      "Global Settings for this object: \n",
      "endRow: 3\n",
      "delay:  3\n",
      "statusMsgGrouping: 12\n",
      "Length of outDF: 0\n",
      "nextIndex: None\n",
      "rtn_null: True\n",
      "timeout: 10\n",
      "location (last obtained): \n"
     ]
    }
   ],
   "source": [
    "gMapAddrDat.set_endRow_OutDf_caching(3)"
   ]
  },
  {
   "cell_type": "code",
   "execution_count": 58,
   "metadata": {},
   "outputs": [
    {
     "name": "stdout",
     "output_type": "stream",
     "text": [
      "Global Settings for this object: \n",
      "endRow: 3\n",
      "delay:  0\n",
      "statusMsgGrouping: 12\n",
      "Length of outDF: 0\n",
      "nextIndex: None\n",
      "rtn_null: True\n",
      "timeout: 10\n",
      "location (last obtained): \n"
     ]
    }
   ],
   "source": [
    "gMapAddrDat.set_timeDelay(0)"
   ]
  },
  {
   "cell_type": "code",
   "execution_count": 59,
   "metadata": {},
   "outputs": [
    {
     "name": "stdout",
     "output_type": "stream",
     "text": [
      "Global Settings for this object: \n",
      "endRow: 3\n",
      "delay:  0\n",
      "statusMsgGrouping: 12\n",
      "Length of outDF: 0\n",
      "nextIndex: None\n",
      "rtn_null: True\n",
      "timeout: 9\n",
      "location (last obtained): \n"
     ]
    }
   ],
   "source": [
    "gMapAddrDat.set_ServerTimeout(9)"
   ]
  },
  {
   "cell_type": "code",
   "execution_count": 60,
   "metadata": {},
   "outputs": [
    {
     "name": "stdout",
     "output_type": "stream",
     "text": [
      "Timestamp:  2018-06-06 14:18:25\n",
      "Processing inputDF with length of:  50\n",
      "Please wait ...\n",
      "2018-06-06 14:18:25 Now processing index:  0\n",
      "2018-06-06 14:18:30 Now processing index:  12\n",
      "2018-06-06 14:18:36 Now processing index:  24\n",
      "2018-06-06 14:18:41 Now processing index:  36\n",
      "2018-06-06 14:18:46 Now processing index:  48\n",
      "Process complete. 50 records added to outDF.\n",
      "Timestamp:  2018-06-06 14:18:47\n"
     ]
    }
   ],
   "source": [
    "gMapAddrDat.buildOutDF(tst_lat_lon_df[0:50])"
   ]
  },
  {
   "cell_type": "code",
   "execution_count": 61,
   "metadata": {},
   "outputs": [
    {
     "name": "stdout",
     "output_type": "stream",
     "text": [
      "Global Settings for this object: \n",
      "endRow: 3\n",
      "delay:  0\n",
      "statusMsgGrouping: 12\n",
      "Length of outDF: 50\n",
      "nextIndex: 50\n",
      "rtn_null: True\n",
      "timeout: 9\n",
      "location (last obtained): {'place_id': '128659718', 'licence': 'Data © OpenStreetMap contributors, ODbL 1.0. https://osm.org/copyright', 'osm_type': 'way', 'osm_id': '250265211', 'lat': '40.72450395', 'lon': '-73.9803511341422', 'display_name': '200, East 7th Street, Alphabet City, Manhattan Community Board 3, New York County, NYC, New York, 10009, United States of America', 'address': {'house_number': '200', 'road': 'East 7th Street', 'neighbourhood': 'Alphabet City', 'city': 'NYC', 'county': 'New York County', 'state': 'New York', 'postcode': '10009', 'country': 'United States of America', 'country_code': 'us'}, 'boundingbox': ['40.7243903', '40.7246029', '-73.980457', '-73.980246']}\n"
     ]
    }
   ],
   "source": [
    "print(gMapAddrDat)"
   ]
  },
  {
   "cell_type": "code",
   "execution_count": 62,
   "metadata": {
    "collapsed": true
   },
   "outputs": [],
   "source": [
    "gMapAddrDat.location = \"\""
   ]
  },
  {
   "cell_type": "code",
   "execution_count": 63,
   "metadata": {},
   "outputs": [
    {
     "name": "stdout",
     "output_type": "stream",
     "text": [
      "Global Settings for this object: \n",
      "endRow: 3\n",
      "delay:  0\n",
      "statusMsgGrouping: 12\n",
      "Length of outDF: 50\n",
      "nextIndex: 50\n",
      "rtn_null: True\n",
      "timeout: 9\n",
      "location (last obtained): \n"
     ]
    }
   ],
   "source": [
    "print(gMapAddrDat)"
   ]
  },
  {
   "cell_type": "markdown",
   "metadata": {},
   "source": [
    "#### Test of Other Internal Functions\n",
    "These functions can be used in testing or to just get back a single value.  These examples might prove useful."
   ]
  },
  {
   "cell_type": "code",
   "execution_count": 70,
   "metadata": {},
   "outputs": [
    {
     "data": {
      "text/plain": [
       "'Tour Eiffel, 5, Avenue Anatole France, Gros-Caillou, 7e, Paris, Île-de-France, France métropolitaine, 75007, France'"
      ]
     },
     "execution_count": 70,
     "metadata": {},
     "output_type": "execute_result"
    }
   ],
   "source": [
    "gMapAddrDat.testConnection()  ## uses default test record to just ensure connection is working"
   ]
  },
  {
   "cell_type": "code",
   "execution_count": 66,
   "metadata": {},
   "outputs": [
    {
     "name": "stdout",
     "output_type": "stream",
     "text": [
      "===============================\n",
      "Full Location Data Returned:\n",
      "\n",
      "Beth David Cemetery, Bethel Avenue, Elmont, Nassau County, New York, 11581, United States of America\n",
      "===============================\n"
     ]
    },
    {
     "data": {
      "text/plain": [
       "Location(Beth David Cemetery, Bethel Avenue, Elmont, Nassau County, New York, 11581, United States of America, (40.6987137, -73.7042976, 0.0))"
      ]
     },
     "execution_count": 66,
     "metadata": {},
     "output_type": "execute_result"
    }
   ],
   "source": [
    "gMapAddrDat.getGeoAddr(40.699100, -73.703697, test=True)  ## function called by buildOutDF()\n",
    "                                                          ## use test mode to obtain more information"
   ]
  },
  {
   "cell_type": "code",
   "execution_count": 68,
   "metadata": {},
   "outputs": [
    {
     "name": "stdout",
     "output_type": "stream",
     "text": [
      "===============================\n",
      "Full Location Data Returned:\n",
      "\n",
      "Beth David Cemetery, Bethel Avenue, Elmont, Nassau County, New York, 11581, United States of America\n",
      "===============================\n",
      "<class 'geopy.location.Location'>\n"
     ]
    },
    {
     "data": {
      "text/plain": [
       "{'address': {'country': 'United States of America',\n",
       "  'country_code': 'us',\n",
       "  'county': 'Nassau County',\n",
       "  'grave_yard': 'Beth David Cemetery',\n",
       "  'locality': 'Elmont',\n",
       "  'postcode': '11581',\n",
       "  'road': 'Bethel Avenue',\n",
       "  'state': 'New York'},\n",
       " 'boundingbox': ['40.6986137', '40.6988137', '-73.7043976', '-73.7041976'],\n",
       " 'display_name': 'Beth David Cemetery, Bethel Avenue, Elmont, Nassau County, New York, 11581, United States of America',\n",
       " 'lat': '40.6987137',\n",
       " 'licence': 'Data © OpenStreetMap contributors, ODbL 1.0. https://osm.org/copyright',\n",
       " 'lon': '-73.7042976',\n",
       " 'osm_id': '357548338',\n",
       " 'osm_type': 'node',\n",
       " 'place_id': '2899917'}"
      ]
     },
     "execution_count": 68,
     "metadata": {},
     "output_type": "execute_result"
    }
   ],
   "source": [
    "tstLoc1 = gMapAddrDat.getGeoAddr(40.699100, -73.703697, test=True)  ## use .raw on output during testing\n",
    "print(type(tstLoc1))                                                ## to view JSON structure of Location obj\n",
    "tstLoc1.raw"
   ]
  },
  {
   "cell_type": "code",
   "execution_count": 69,
   "metadata": {},
   "outputs": [
    {
     "name": "stdout",
     "output_type": "stream",
     "text": [
      "<class 'str'>\n"
     ]
    },
    {
     "data": {
      "text/plain": [
       "'Beth David Cemetery, Bethel Avenue, Elmont, Nassau County, New York, 11581, United States of America'"
      ]
     },
     "execution_count": 69,
     "metadata": {},
     "output_type": "execute_result"
    }
   ],
   "source": [
    "tstLoc1 = gMapAddrDat.getGeoAddr(40.699100, -73.703697)  ## default: test=False\n",
    "print(type(tstLoc1))                                     ## when called internally to build the address field for\n",
    "tstLoc1                                                  ## for outDF, it just returns an address string"
   ]
  },
  {
   "cell_type": "markdown",
   "metadata": {},
   "source": [
    "### Documentation Tests"
   ]
  },
  {
   "cell_type": "code",
   "execution_count": 25,
   "metadata": {},
   "outputs": [
    {
     "name": "stdout",
     "output_type": "stream",
     "text": [
      "Global Settings for this object: \n",
      "endRow: 5\n",
      "delay:  1\n",
      "statusMsgGrouping: 100\n",
      "Length of outDF: 0\n",
      "nextIndex: None\n",
      "rtn_null: False\n",
      "timeout: 10\n",
      "location (last obtained): \n"
     ]
    }
   ],
   "source": [
    "# create new object to test the docstrings and some more quick coding tweaks\n",
    "testObjDocs = GMapsLoc_DFBuilder()\n",
    "print(testObjDocs)"
   ]
  },
  {
   "cell_type": "code",
   "execution_count": 26,
   "metadata": {},
   "outputs": [
    {
     "name": "stdout",
     "output_type": "stream",
     "text": [
      "Help on GMapsLoc_DFBuilder in module __main__ object:\n",
      "\n",
      "class GMapsLoc_DFBuilder(DFBuilder)\n",
      " |  This class inherits DFBuilder.buildOutDF() which makes use of data extraction and nodification functions in\n",
      " |  this subclass.  endRw sets number of rows to process at a time while building outDF (default=5). time_delay \n",
      " |  can set the time delay between loop iterations to help prevent licensing issues and related server timeouts.\n",
      " |  Default is 1 second. Initialization arguments: endRw, time_delay, return_null.\n",
      " |   * endRw controls grouping: process endRow rows at a time and add to outDF (default is 5).\n",
      " |   * time_delay has default of 1 second and sets how much time to wait each request whild building outDF.\n",
      " |   * return_null, if False, records error text formatted as \"_<errTxt>_\" for records that failed to process.\n",
      " |     Set to True to have it return blank records when errors occur instead (default is False).\n",
      " |  \n",
      " |  Method resolution order:\n",
      " |      GMapsLoc_DFBuilder\n",
      " |      DFBuilder\n",
      " |      builtins.object\n",
      " |  \n",
      " |  Methods defined here:\n",
      " |  \n",
      " |  __init__(self, endRw=5, time_delay=1, return_null=False)\n",
      " |      Initialize self.  See help(type(self)) for accurate signature.\n",
      " |  \n",
      " |  __str__(self)\n",
      " |      Return str(self).\n",
      " |  \n",
      " |  getGeoAddr(self, lt, lng, timeout=10, test=False, rtn_null=False)\n",
      " |      Make call to Google Maps API to return back just the address from the json location record.  Errors\n",
      " |      should result in text values to help identify why an address was not returned.  This can be turned off and \n",
      " |      records that failed can bring back just an empty field by setting rtn_null to True. timeout = server timeout \n",
      " |      and has a default that worked well during testing.\n",
      " |  \n",
      " |  set_ServerTimeout(self, newValue)\n",
      " |      Change number of seconds for the server timeout setting used during web requests.\n",
      " |      Default is 10 second.  newValue=x sets this to a new number.\n",
      " |  \n",
      " |  testConnection(self, lat=48.8588443, lon=2.2943506)\n",
      " |      Test getGeoAddr() function to prove connection to Google Maps is working.  Use this ahead of\n",
      " |      performing much larger operations with Google Maps.\n",
      " |  \n",
      " |  ----------------------------------------------------------------------\n",
      " |  Data and other attributes defined here:\n",
      " |  \n",
      " |  __abstractmethods__ = frozenset()\n",
      " |  \n",
      " |  ----------------------------------------------------------------------\n",
      " |  Methods inherited from DFBuilder:\n",
      " |  \n",
      " |  buildOutDF(self, inputDF)\n",
      " |      Scans inputDF using self.endRow rows (default of 5) at a time to do it.  It then calls in logic\n",
      " |      from _modifyTempDF()_ to make changes to each subset of rows and appends tiny tempDF onto an outDF.  When the \n",
      " |      subclass is using a web API, self.delay tells it how much time to delay each iteration of the loop. Should\n",
      " |      this function fail in the middle, outDF will have all work up to the failure.  \n",
      " |      This can be saved out to a DF or csv.  The function can be run again on a subset of the data \n",
      " |      (the records not encountered yet before the failure).\n",
      " |  \n",
      " |  reindex_OutDF(self)\n",
      " |      Reindex OutDF using same settings that are used internally for the index during its creation.\n",
      " |      This is like doing: outDF.reset_index(drop=True, inplace=True).\n",
      " |  \n",
      " |  set_endRow_OutDf_caching(self, newValue)\n",
      " |      Change value of endRow which controls how many rows to cache at a time within buildOutDF().\n",
      " |      Default is 5.  If something goes wrong and you have to restart the process, this value also represents\n",
      " |      the maximum number of requests you will lose.  The rest will have already been added to outDF.\n",
      " |      newValue=x sets this to a new number.\n",
      " |  \n",
      " |  set_statusMsgGrouping(self, newValue)\n",
      " |      Change number of records used to determine when to provide output messages during buildOutDF().\n",
      " |      Default is 100 records.  newValue=x sets this to a new number. Note that If endRow is not a factor of \n",
      " |      statusMsgGrouping output may appear at unexpected intervals. endRow sets the number of rows to cache to\n",
      " |      outDF in each iteration of the build loop.\n",
      " |  \n",
      " |  set_timeDelay(self, newValue)\n",
      " |      Change number of seconds in time delay between requests while creating outDF().\n",
      " |      Default is 1 second.  newValue=x sets this to a new number.\n",
      " |  \n",
      " |  ----------------------------------------------------------------------\n",
      " |  Data descriptors inherited from DFBuilder:\n",
      " |  \n",
      " |  __dict__\n",
      " |      dictionary for instance variables (if defined)\n",
      " |  \n",
      " |  __weakref__\n",
      " |      list of weak references to the object (if defined)\n",
      "\n"
     ]
    }
   ],
   "source": [
    "help(testObjDocs)"
   ]
  },
  {
   "cell_type": "code",
   "execution_count": 27,
   "metadata": {},
   "outputs": [
    {
     "name": "stdout",
     "output_type": "stream",
     "text": [
      "This class inherits DFBuilder.buildOutDF() which makes use of data extraction and nodification functions in\n",
      "this subclass.  endRw sets number of rows to process at a time while building outDF (default=5). time_delay \n",
      "can set the time delay between loop iterations to help prevent licensing issues and related server timeouts.\n",
      "Default is 1 second. Initialization arguments: endRw, time_delay, return_null.\n",
      " * endRw controls grouping: process endRow rows at a time and add to outDF (default is 5).\n",
      " * time_delay has default of 1 second and sets how much time to wait each request whild building outDF.\n",
      " * return_null, if False, records error text formatted as \"_<errTxt>_\" for records that failed to process.\n",
      "   Set to True to have it return blank records when errors occur instead (default is False).\n"
     ]
    }
   ],
   "source": [
    "print(testObjDocs.__doc__)  # note: formatting is messed up if you do not use print() on the doc string"
   ]
  },
  {
   "cell_type": "code",
   "execution_count": 28,
   "metadata": {},
   "outputs": [
    {
     "name": "stdout",
     "output_type": "stream",
     "text": [
      "Scans inputDF using self.endRow rows (default of 5) at a time to do it.  It then calls in logic\n",
      "from _modifyTempDF()_ to make changes to each subset of rows and appends tiny tempDF onto an outDF.  When the \n",
      "subclass is using a web API, self.delay tells it how much time to delay each iteration of the loop. Should\n",
      "this function fail in the middle, outDF will have all work up to the failure.  \n",
      "This can be saved out to a DF or csv.  The function can be run again on a subset of the data \n",
      "(the records not encountered yet before the failure).\n"
     ]
    }
   ],
   "source": [
    "print(testObjDocs.buildOutDF.__doc__) # buildOutDF"
   ]
  },
  {
   "cell_type": "code",
   "execution_count": 29,
   "metadata": {},
   "outputs": [
    {
     "name": "stdout",
     "output_type": "stream",
     "text": [
      "Help on class DFBuilder in module __main__:\n",
      "\n",
      "class DFBuilder(builtins.object)\n",
      " |  DataFrame Builder abstract class.  Sets up logic to be inherited by objects that need to loop over a DataFrame\n",
      " |  and cache the results.  Original use case involves making API calls to the web which can get interrupted by \n",
      " |  errors and server timeouts.  This object stores all the logic to build up and save a DataFrame a small number of \n",
      " |  records at a time.  Then a subclass can define an abstract method in the base class as to what we want to do to \n",
      " |  the input data.  Original use case added in content extracted form the web to a new column.  But subclasses can \n",
      " |  be built to do more. Initialization argumens: endRw, time_delay. endRw = number of records to cache at a time\n",
      " |  when building outDF.  time_delay is number of seconds delay between each cycle of the loop that builds outDF.\n",
      " |  \n",
      " |  Methods defined here:\n",
      " |  \n",
      " |  __init__(self, endRw, time_delay)\n",
      " |      Initialize self.  See help(type(self)) for accurate signature.\n",
      " |  \n",
      " |  __str__(self)\n",
      " |      Return str(self).\n",
      " |  \n",
      " |  buildOutDF(self, inputDF)\n",
      " |      Scans inputDF using self.endRow rows (default of 5) at a time to do it.  It then calls in logic\n",
      " |      from _modifyTempDF()_ to make changes to each subset of rows and appends tiny tempDF onto an outDF.  When the \n",
      " |      subclass is using a web API, self.delay tells it how much time to delay each iteration of the loop. Should\n",
      " |      this function fail in the middle, outDF will have all work up to the failure.  \n",
      " |      This can be saved out to a DF or csv.  The function can be run again on a subset of the data \n",
      " |      (the records not encountered yet before the failure).\n",
      " |  \n",
      " |  reindex_OutDF(self)\n",
      " |      Reindex OutDF using same settings that are used internally for the index during its creation.\n",
      " |      This is like doing: outDF.reset_index(drop=True, inplace=True).\n",
      " |  \n",
      " |  set_endRow_OutDf_caching(self, newValue)\n",
      " |      Change value of endRow which controls how many rows to cache at a time within buildOutDF().\n",
      " |      Default is 5.  If something goes wrong and you have to restart the process, this value also represents\n",
      " |      the maximum number of requests you will lose.  The rest will have already been added to outDF.\n",
      " |      newValue=x sets this to a new number.\n",
      " |  \n",
      " |  set_statusMsgGrouping(self, newValue)\n",
      " |      Change number of records used to determine when to provide output messages during buildOutDF().\n",
      " |      Default is 100 records.  newValue=x sets this to a new number. Note that If endRow is not a factor of \n",
      " |      statusMsgGrouping output may appear at unexpected intervals. endRow sets the number of rows to cache to\n",
      " |      outDF in each iteration of the build loop.\n",
      " |  \n",
      " |  set_timeDelay(self, newValue)\n",
      " |      Change number of seconds in time delay between requests while creating outDF().\n",
      " |      Default is 1 second.  newValue=x sets this to a new number.\n",
      " |  \n",
      " |  ----------------------------------------------------------------------\n",
      " |  Data descriptors defined here:\n",
      " |  \n",
      " |  __dict__\n",
      " |      dictionary for instance variables (if defined)\n",
      " |  \n",
      " |  __weakref__\n",
      " |      list of weak references to the object (if defined)\n",
      " |  \n",
      " |  ----------------------------------------------------------------------\n",
      " |  Data and other attributes defined here:\n",
      " |  \n",
      " |  __abstractmethods__ = frozenset({'_modifyTempDF_'})\n",
      "\n"
     ]
    }
   ],
   "source": [
    "help(DFBuilder)"
   ]
  },
  {
   "cell_type": "markdown",
   "metadata": {},
   "source": [
    "### Earlier Testing\n",
    "Additional testing was performed to get to this point.  Those early tests are not included in this notebook."
   ]
  },
  {
   "cell_type": "code",
   "execution_count": null,
   "metadata": {
    "collapsed": true
   },
   "outputs": [],
   "source": []
  }
 ],
 "metadata": {
  "kernelspec": {
   "display_name": "Python 3",
   "language": "python",
   "name": "python3"
  },
  "language_info": {
   "codemirror_mode": {
    "name": "ipython",
    "version": 3
   },
   "file_extension": ".py",
   "mimetype": "text/x-python",
   "name": "python",
   "nbconvert_exporter": "python",
   "pygments_lexer": "ipython3",
   "version": "3.6.1"
  }
 },
 "nbformat": 4,
 "nbformat_minor": 2
}
