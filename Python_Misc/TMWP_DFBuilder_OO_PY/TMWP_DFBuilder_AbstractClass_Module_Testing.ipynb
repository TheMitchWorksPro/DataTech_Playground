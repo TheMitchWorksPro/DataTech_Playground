{
 "cells": [
  {
   "cell_type": "markdown",
   "metadata": {},
   "source": [
    "<div align=\"right\">Python 3.6</div>\n",
    "\n",
    "## Testing The Abstract Base Class - Earlier Version of the Code\n",
    "\n",
    "This notebook was created because it is easier to test out the core logic separately from the logic that makes web API calls and extracts data from Google Maps.  The intent was to test and debug as much of the logic (and/or similar logic) as might be needed ahead of bringing it all together in the final subclass.\n",
    "\n",
    "Note that code and test results may differ from the final implementation.  Some issues with the code were corrected, enhanced, and improved during testing of the Google Maps interacting subclass (a different notebook)."
   ]
  },
  {
   "cell_type": "markdown",
   "metadata": {},
   "source": [
    "### Enrich or Change Larger Dataframe Section by Section\n",
    "\n",
    "The purpose of the <font color=blue><b>DFBuilder</b></font> object is to allow scanning of a larger dataframe, a small number of rows at a time.  It then allows code to be customized to make changes and build up a new dataframe from the results.  The operation is in\n",
    "a standard loop by design. The original use case was to add a field with data accessed from an API off the web, and time delays were necessary (as well as other logic) to prevent (or at least reduce the risk of) server timeouts during operation.\n",
    "\n",
    "Scanning through the source a few lines at a time, performing the operation and adding back out to the target DF\n",
    "creates a \"caching effect\" where data is saved along the way so in the event of a server time-out all is not lost.  The resulting DF can then be saved out to a file, code modified, and a re-run of the code can pick up the process where it left off instead of having to start over again.\n",
    "\n",
    "These tests use a subclass that will never be used in the real world and which does not communicate with the web.  The goal of these tests were to shake out problems with the other logic ahead of testing with web interaction."
   ]
  },
  {
   "cell_type": "code",
   "execution_count": 1,
   "metadata": {},
   "outputs": [
    {
     "name": "stdout",
     "output_type": "stream",
     "text": [
      "Interactive namespace is empty.\n"
     ]
    }
   ],
   "source": [
    "who"
   ]
  },
  {
   "cell_type": "markdown",
   "metadata": {},
   "source": [
    "### Libraries Needed\n",
    "Import statements included in this notebook are for the main abstract object and a test object."
   ]
  },
  {
   "cell_type": "code",
   "execution_count": 2,
   "metadata": {
    "collapsed": true
   },
   "outputs": [],
   "source": [
    "import pandas as pd\n",
    "import time"
   ]
  },
  {
   "cell_type": "code",
   "execution_count": 3,
   "metadata": {
    "collapsed": true
   },
   "outputs": [],
   "source": [
    "## this entire cell may not be needed for this test but will be needed for the next test notebook of final objects\n",
    "import os\n",
    "\n",
    "## for larger data and/or make many requests in one day - get Google API key and use these lines:\n",
    "# os.environ[\"GOOGLE_API_KEY\"] = \"YOUR_GOOGLE_API_Key\"\n",
    "## for better security (PROD environments) - install key to server and use just this line to load it:\n",
    "# os.environ.get('GOOGLE_API_KEY')\n",
    "\n",
    "# set up geocode\n",
    "from geopy.geocoders import Nominatim\n",
    "geolocator = Nominatim()\n",
    "from geopy.exc import GeocoderTimedOut\n"
   ]
  },
  {
   "cell_type": "markdown",
   "metadata": {},
   "source": [
    "### Test Data\n",
    "Input Data Set up Here"
   ]
  },
  {
   "cell_type": "code",
   "execution_count": 4,
   "metadata": {
    "collapsed": true
   },
   "outputs": [],
   "source": [
    "## Test code on a reasonably small DF\n",
    "tst_lat_lon_df = pd.read_csv(\"testset_unique_lat_and_lon_vals.csv\", index_col=0)"
   ]
  },
  {
   "cell_type": "code",
   "execution_count": 5,
   "metadata": {},
   "outputs": [
    {
     "data": {
      "text/html": [
       "<div>\n",
       "<style>\n",
       "    .dataframe thead tr:only-child th {\n",
       "        text-align: right;\n",
       "    }\n",
       "\n",
       "    .dataframe thead th {\n",
       "        text-align: left;\n",
       "    }\n",
       "\n",
       "    .dataframe tbody tr th {\n",
       "        vertical-align: top;\n",
       "    }\n",
       "</style>\n",
       "<table border=\"1\" class=\"dataframe\">\n",
       "  <thead>\n",
       "    <tr style=\"text-align: right;\">\n",
       "      <th></th>\n",
       "      <th>lat</th>\n",
       "      <th>lon</th>\n",
       "    </tr>\n",
       "  </thead>\n",
       "  <tbody>\n",
       "    <tr>\n",
       "      <th>count</th>\n",
       "      <td>1160.000000</td>\n",
       "      <td>1160.000000</td>\n",
       "    </tr>\n",
       "    <tr>\n",
       "      <th>mean</th>\n",
       "      <td>41.232457</td>\n",
       "      <td>-74.042980</td>\n",
       "    </tr>\n",
       "    <tr>\n",
       "      <th>std</th>\n",
       "      <td>1.162332</td>\n",
       "      <td>1.463141</td>\n",
       "    </tr>\n",
       "    <tr>\n",
       "      <th>min</th>\n",
       "      <td>39.390049</td>\n",
       "      <td>-78.366203</td>\n",
       "    </tr>\n",
       "    <tr>\n",
       "      <th>25%</th>\n",
       "      <td>40.269619</td>\n",
       "      <td>-74.651615</td>\n",
       "    </tr>\n",
       "    <tr>\n",
       "      <th>50%</th>\n",
       "      <td>40.742920</td>\n",
       "      <td>-74.143070</td>\n",
       "    </tr>\n",
       "    <tr>\n",
       "      <th>75%</th>\n",
       "      <td>42.361600</td>\n",
       "      <td>-73.752644</td>\n",
       "    </tr>\n",
       "    <tr>\n",
       "      <th>max</th>\n",
       "      <td>44.950298</td>\n",
       "      <td>-70.187302</td>\n",
       "    </tr>\n",
       "  </tbody>\n",
       "</table>\n",
       "</div>"
      ],
      "text/plain": [
       "               lat          lon\n",
       "count  1160.000000  1160.000000\n",
       "mean     41.232457   -74.042980\n",
       "std       1.162332     1.463141\n",
       "min      39.390049   -78.366203\n",
       "25%      40.269619   -74.651615\n",
       "50%      40.742920   -74.143070\n",
       "75%      42.361600   -73.752644\n",
       "max      44.950298   -70.187302"
      ]
     },
     "execution_count": 5,
     "metadata": {},
     "output_type": "execute_result"
    }
   ],
   "source": [
    "tst_lat_lon_df.describe()"
   ]
  },
  {
   "cell_type": "code",
   "execution_count": 6,
   "metadata": {},
   "outputs": [
    {
     "data": {
      "text/html": [
       "<div>\n",
       "<style>\n",
       "    .dataframe thead tr:only-child th {\n",
       "        text-align: right;\n",
       "    }\n",
       "\n",
       "    .dataframe thead th {\n",
       "        text-align: left;\n",
       "    }\n",
       "\n",
       "    .dataframe tbody tr th {\n",
       "        vertical-align: top;\n",
       "    }\n",
       "</style>\n",
       "<table border=\"1\" class=\"dataframe\">\n",
       "  <thead>\n",
       "    <tr style=\"text-align: right;\">\n",
       "      <th></th>\n",
       "      <th>lat</th>\n",
       "      <th>lon</th>\n",
       "    </tr>\n",
       "  </thead>\n",
       "  <tbody>\n",
       "    <tr>\n",
       "      <th>1155</th>\n",
       "      <td>43.233299</td>\n",
       "      <td>-70.911079</td>\n",
       "    </tr>\n",
       "    <tr>\n",
       "      <th>1156</th>\n",
       "      <td>43.233601</td>\n",
       "      <td>-70.911301</td>\n",
       "    </tr>\n",
       "    <tr>\n",
       "      <th>1157</th>\n",
       "      <td>43.233299</td>\n",
       "      <td>-70.910698</td>\n",
       "    </tr>\n",
       "    <tr>\n",
       "      <th>1158</th>\n",
       "      <td>43.233398</td>\n",
       "      <td>-70.911003</td>\n",
       "    </tr>\n",
       "    <tr>\n",
       "      <th>1159</th>\n",
       "      <td>43.233299</td>\n",
       "      <td>-70.910713</td>\n",
       "    </tr>\n",
       "  </tbody>\n",
       "</table>\n",
       "</div>"
      ],
      "text/plain": [
       "            lat        lon\n",
       "1155  43.233299 -70.911079\n",
       "1156  43.233601 -70.911301\n",
       "1157  43.233299 -70.910698\n",
       "1158  43.233398 -70.911003\n",
       "1159  43.233299 -70.910713"
      ]
     },
     "execution_count": 6,
     "metadata": {},
     "output_type": "execute_result"
    }
   ],
   "source": [
    "tst_lat_lon_df.tail()"
   ]
  },
  {
   "cell_type": "code",
   "execution_count": 7,
   "metadata": {},
   "outputs": [
    {
     "data": {
      "text/plain": [
       "116"
      ]
     },
     "execution_count": 7,
     "metadata": {},
     "output_type": "execute_result"
    }
   ],
   "source": [
    "## Create smaller random sample from above DF for further testing\n",
    "\n",
    "tst_lat_lon_df_sample = tst_lat_lon_df.sample(frac=0.1).copy(deep=True)\n",
    "    # frac=0.1 for 10% or use n=100 for get 100 records\n",
    "    # this variant seemed to create trouble with indexing of the DF in buildOutDF():\n",
    "    #      tst_lat_lon_df.copy(deep=True).sample(frac=0.1)\n",
    "    # also: options on reset_index given in next cell were needed as part of the fix\n",
    "len(tst_lat_lon_df_sample)"
   ]
  },
  {
   "cell_type": "code",
   "execution_count": 8,
   "metadata": {},
   "outputs": [
    {
     "data": {
      "text/html": [
       "<div>\n",
       "<style>\n",
       "    .dataframe thead tr:only-child th {\n",
       "        text-align: right;\n",
       "    }\n",
       "\n",
       "    .dataframe thead th {\n",
       "        text-align: left;\n",
       "    }\n",
       "\n",
       "    .dataframe tbody tr th {\n",
       "        vertical-align: top;\n",
       "    }\n",
       "</style>\n",
       "<table border=\"1\" class=\"dataframe\">\n",
       "  <thead>\n",
       "    <tr style=\"text-align: right;\">\n",
       "      <th></th>\n",
       "      <th>lat</th>\n",
       "      <th>lon</th>\n",
       "    </tr>\n",
       "  </thead>\n",
       "  <tbody>\n",
       "    <tr>\n",
       "      <th>24</th>\n",
       "      <td>40.253269</td>\n",
       "      <td>-74.651611</td>\n",
       "    </tr>\n",
       "    <tr>\n",
       "      <th>25</th>\n",
       "      <td>40.633709</td>\n",
       "      <td>-74.407356</td>\n",
       "    </tr>\n",
       "    <tr>\n",
       "      <th>67</th>\n",
       "      <td>40.125900</td>\n",
       "      <td>-75.061310</td>\n",
       "    </tr>\n",
       "  </tbody>\n",
       "</table>\n",
       "</div>"
      ],
      "text/plain": [
       "          lat        lon\n",
       "24  40.253269 -74.651611\n",
       "25  40.633709 -74.407356\n",
       "67  40.125900 -75.061310"
      ]
     },
     "execution_count": 8,
     "metadata": {},
     "output_type": "execute_result"
    }
   ],
   "source": [
    "tst_lat_lon_df_sample.reset_index(drop=True, inplace=True)  \n",
    "tst_lat_lon_df_sample.iloc[[24,25,67]]  ## attempt to fix index and show 3 rows that will be manipulated for testing"
   ]
  },
  {
   "cell_type": "code",
   "execution_count": 9,
   "metadata": {},
   "outputs": [
    {
     "data": {
      "text/html": [
       "<div>\n",
       "<style>\n",
       "    .dataframe thead tr:only-child th {\n",
       "        text-align: right;\n",
       "    }\n",
       "\n",
       "    .dataframe thead th {\n",
       "        text-align: left;\n",
       "    }\n",
       "\n",
       "    .dataframe tbody tr th {\n",
       "        vertical-align: top;\n",
       "    }\n",
       "</style>\n",
       "<table border=\"1\" class=\"dataframe\">\n",
       "  <thead>\n",
       "    <tr style=\"text-align: right;\">\n",
       "      <th></th>\n",
       "      <th>lat</th>\n",
       "      <th>lon</th>\n",
       "    </tr>\n",
       "  </thead>\n",
       "  <tbody>\n",
       "    <tr>\n",
       "      <th>24</th>\n",
       "      <td>NaN</td>\n",
       "      <td>-74.651611</td>\n",
       "    </tr>\n",
       "    <tr>\n",
       "      <th>25</th>\n",
       "      <td>40.633709</td>\n",
       "      <td>NaN</td>\n",
       "    </tr>\n",
       "    <tr>\n",
       "      <th>67</th>\n",
       "      <td>NaN</td>\n",
       "      <td>NaN</td>\n",
       "    </tr>\n",
       "  </tbody>\n",
       "</table>\n",
       "</div>"
      ],
      "text/plain": [
       "          lat        lon\n",
       "24        NaN -74.651611\n",
       "25  40.633709        NaN\n",
       "67        NaN        NaN"
      ]
     },
     "execution_count": 9,
     "metadata": {},
     "output_type": "execute_result"
    }
   ],
   "source": [
    "# sample: sub_df.iloc[0]['A']\n",
    "# creating some missing values for testing of error handling in the code\n",
    "# note:  tried tst_lat_lon_df_sample.iloc[67]['lat'] = \"\" but it seems the pandas dataframe \"protects itself\"\n",
    "#        the change failed to occur unless setting the numeric field to None\n",
    "#        see notes on roundValue() function later in this document for similar pandas related behaviors\n",
    "\n",
    "tst_lat_lon_df_sample.iloc[67]['lat'] = None\n",
    "tst_lat_lon_df_sample.iloc[67]['lon'] = None\n",
    "tst_lat_lon_df_sample.iloc[24]['lat'] = None\n",
    "tst_lat_lon_df_sample.iloc[25]['lon'] = None\n",
    "tst_lat_lon_df_sample.iloc[[24,25,67]]"
   ]
  },
  {
   "cell_type": "markdown",
   "metadata": {},
   "source": [
    "### Code Testing\n",
    "\n",
    "The abstract class which follows is intended to be the \"work horse\" of this code.  Intent is that it gets the developer to the point where all they need to think about is what their final subclass will do to enrich the data.  The parent class sets up a loop that can extract from a larger input DF, a small number of rows to be operated on in a temp DF and then be added to an outputDF.  In the event of something interrupting the process (a common event when dealing with web APIs), modified rows created before the incident are waiting in output DF and can be extracted. Then code can be restarted or continued to allow building up the rest of the Dataframe without losing previous work or having to go all the way back to the beginnin."
   ]
  },
  {
   "cell_type": "markdown",
   "metadata": {},
   "source": [
    "This test notebook sets up a subclass that will never be used in the real world.  There are more efficient ways to modify a DF with the example selected for this test.  The test's intent is simply to show that most of the core logic works before we test a subclass that is slower and more involved because it actually makes calls to a web API."
   ]
  },
  {
   "cell_type": "code",
   "execution_count": 10,
   "metadata": {},
   "outputs": [
    {
     "name": "stdout",
     "output_type": "stream",
     "text": [
      "GeocoderTimedOut\t Nominatim\t geolocator\t os\t pd\t time\t tst_lat_lon_df\t tst_lat_lon_df_sample\t \n"
     ]
    }
   ],
   "source": [
    "who"
   ]
  },
  {
   "cell_type": "code",
   "execution_count": 82,
   "metadata": {
    "collapsed": true
   },
   "outputs": [],
   "source": [
    "from abc import ABCMeta, abstractmethod\n",
    "import pandas as pd\n",
    "\n",
    "class DFBuilder(object, metaclass=ABCMeta):       # sets up abstract class\n",
    "    def __init__(self,endRw,time_delay):          # abstract classes can be subclassed\n",
    "        self.endRow=endRw                         # but cannot be instantiated\n",
    "        self.delay=time_delay\n",
    "        self.tmpDF=pd.DataFrame()   # temp DF will be endRow rows in length\n",
    "        self.outDF=pd.DataFrame()   # final DF build in sets of endRow rows so all is not lost in a failure\n",
    "        self.lastIndex = None\n",
    "        # self.start=0\n",
    "        \n",
    "    def __str__(self):\n",
    "        return (\"Global Settings for this object: \\n\" +  \n",
    "               \"endRow: \" + str(self.endRow) + \"\\n\" + \n",
    "               \"delay:  \" + str(self.delay) + \"\\n\" + \n",
    "               \"Length of outDF: \" + str(len(self.outDF)) + \"\\n\" +\n",
    "               \"nextIndex: \" + str(self.lastIndex))       # if continuing with last added table - index of next rec.\n",
    "        \n",
    "    @abstractmethod                               # abstract method definition in Python\n",
    "    def _modifyTempDF_(): pass                    # This method will operate on TempDF inside the loop\n",
    "    \n",
    "    def buildOutDF(self, inputDF):\n",
    "        '''Scans inputDF using self.endRow rows (default of 5) at a time to do it.  It then calls in logic\n",
    "from _modifyTempDF()_ to make changes to each subset of rows and appends tiny tempDF onto an outDF.  When the \n",
    "subclass is using a web API, self.time_delay tells it how much time to delay each iteration of the loop.  All\n",
    "parameters are set during initialization of the object.  Should this function fail in the middle, outDF will\n",
    "have all work up to the failure.  This can be saved out to a DF or csv.  The function can be run again on\n",
    "a subset of the data (the records not encountered yet before the failure).'''\n",
    "    \n",
    "        lenDF = len(inputDF)\n",
    "        print(\"Processing inputDF of length: \", lenDF)\n",
    "        endIndx = 0\n",
    "\n",
    "        i = 0\n",
    "        while i < lenDF:\n",
    "            # print(\"i: \", i)\n",
    "            endIndx = i + self.endRow\n",
    "            if endIndx > lenDF:\n",
    "                        endIndx = lenDF\n",
    "\n",
    "            # print(\"Range to use: \", i, \":\", endIndx)\n",
    "            self.tmpDF = inputDF[i:endIndx].copy(deep=True)\n",
    "            self._modifyTempDF_()\n",
    "            time.sleep(self.delay)\n",
    "            self.outDF = self.outDF.append(self.tmpDF) \n",
    "            self.lastIndex = endIndx            \n",
    "            i = endIndx\n",
    "            # print(\"i at end of loop: \", i)        \n",
    "          \n",
    "        self.reindex_OutDF()\n",
    "        \n",
    "    def reindex_OutDF(self):\n",
    "        self.outDF.reset_index(drop=True, inplace=True)"
   ]
  },
  {
   "cell_type": "markdown",
   "metadata": {},
   "source": [
    "### Test Sub Class\n",
    "Before creating, testing, and debugging a subclass that uses a Google maps API to enrich the data, it is desirable to start simpler.  This test object makes use of all of the same logic except for the API calls out to the web to get new data.  For this test, the \"delay\" will be set to 0 since it is not needed.  This code just shows that we can loop through an original DF, copy rows 5 at a time to a temporary DF, add columns to them using logic that looks at existing rows, and output to our output DF.\n",
    "\n",
    "Stopping the code in the middle may allow us to test what happens if the code halts, showing what is stored in the dataframe in the object when this happens."
   ]
  },
  {
   "cell_type": "code",
   "execution_count": 83,
   "metadata": {
    "collapsed": true
   },
   "outputs": [],
   "source": [
    "class TstModification_DFBuilder(DFBuilder): \n",
    "    '''Test of ability to scan a dataframe x rows at a time and add data columns to it.\n",
    "There are more efficient ways to round cols in a DF; this object is a test of base logic from the abstract class\n",
    "ahead of creating a more complex subclass that interacts with the web during the loop.  It builds a copy of the \n",
    "DF a small number of rows at a time and creates some new fields as it does so.  Input DF must have \"lat\" and \n",
    "\"lon\" cols. lat=Latitude / lon = Longitude. Defaults set delay to 0 seconds and rows processed at a time to \n",
    "5 for this test.'''\n",
    "    \n",
    "    def __init__(self, endRw=5,time_delay=0):           \n",
    "        super().__init__(endRw,time_delay)\n",
    "        \n",
    "    def roundValue(self, value, dec_places=4, rtn_null=False):\n",
    "        '''Takes arguments: value, dec_places. Rounds value to dec_places specified (if not specified, default=4.)\n",
    "rtn_null defaults to False.  If True, error handling should result in an empty string being returned.   \n",
    "If false __ErrType__ should be returned to help with debugging code and data by distinguishing why there is  \n",
    "no rounded answer returned.  Testing shows that while using round() throws errors if input is not a number, \n",
    "applying it to a dataframe does not.  Try-except code left in for future research but does not seem to ever \n",
    "get triggered as of this writing.'''\n",
    "        \n",
    "        try:\n",
    "            rtnVal = round(value, dec_places)\n",
    "        except TypeError as terr:\n",
    "            print(type(terr))\n",
    "            print(terr)\n",
    "            rtnVal = \"__NAN__\"\n",
    "        except Exception as eerr:\n",
    "            print(type(eerr))\n",
    "            print(eerr)\n",
    "            rtnVal = \"__ERR__\"\n",
    "        finally:\n",
    "            if rtn_null==True:\n",
    "                if isinstance(rtnVal, str):\n",
    "                    return \"\"\n",
    "                elif rtnVal is None:\n",
    "                    return \"\"\n",
    "                else:\n",
    "                    return rtnVal\n",
    "            else: \n",
    "                return rtnVal\n",
    "        \n",
    "    def _modifyTempDF_(self, dec_places=4, rtn_null=False):\n",
    "        '''Create rounded lat and lon columns adding them to tempDF. Defaults round to 4 places and return error\n",
    "strings in the column if the input value is not a number and cannot be rounded.  Note: error handling for \n",
    "roundValue() may never come into play due to interaction of apply/lambda/roundValue with DataFrames.  Attempts\n",
    "to test this on a dataframe resulted in a dataframe with NaNs in it instead of error text.'''\n",
    "        self.tmpDF[\"lat_rnd\"] = self.tmpDF.apply(lambda x: self.roundValue(x.lat, dec_places, rtn_null), axis=1)\n",
    "        self.tmpDF[\"lon_rnd\"] = self.tmpDF.apply(lambda x: self.roundValue(x.lon, dec_places, rtn_null), axis=1)"
   ]
  },
  {
   "cell_type": "markdown",
   "metadata": {},
   "source": [
    "#### Test Loop Math Issue\n",
    "This section was created to debug an issue with the loop.  Successful runs of these these tests show this problem was corrected.  "
   ]
  },
  {
   "cell_type": "code",
   "execution_count": 13,
   "metadata": {
    "collapsed": true
   },
   "outputs": [],
   "source": [
    "# del loopDFTst"
   ]
  },
  {
   "cell_type": "code",
   "execution_count": 14,
   "metadata": {
    "collapsed": true
   },
   "outputs": [],
   "source": [
    "# del tstDFbldr"
   ]
  },
  {
   "cell_type": "code",
   "execution_count": 15,
   "metadata": {},
   "outputs": [
    {
     "name": "stdout",
     "output_type": "stream",
     "text": [
      "ABCMeta\t DFBuilder\t GeocoderTimedOut\t Nominatim\t TstModification_DFBuilder\t abstractmethod\t geolocator\t os\t pd\t \n",
      "time\t tst_lat_lon_df\t tst_lat_lon_df_sample\t \n"
     ]
    }
   ],
   "source": [
    "who"
   ]
  },
  {
   "cell_type": "code",
   "execution_count": 16,
   "metadata": {
    "collapsed": true
   },
   "outputs": [],
   "source": [
    "loopDFTst = TstModification_DFBuilder()"
   ]
  },
  {
   "cell_type": "code",
   "execution_count": 17,
   "metadata": {},
   "outputs": [
    {
     "name": "stdout",
     "output_type": "stream",
     "text": [
      "Global Settings for this object: \n",
      "endRow: 5\n",
      "delay:  0\n",
      "Length of outDF: 0\n",
      "nextIndex: None\n"
     ]
    }
   ],
   "source": [
    "print(loopDFTst)"
   ]
  },
  {
   "cell_type": "code",
   "execution_count": 18,
   "metadata": {},
   "outputs": [
    {
     "name": "stdout",
     "output_type": "stream",
     "text": [
      "Processing inputDF of length:  1160\n"
     ]
    }
   ],
   "source": [
    "loopDFTst.buildOutDF(tst_lat_lon_df)"
   ]
  },
  {
   "cell_type": "code",
   "execution_count": 19,
   "metadata": {},
   "outputs": [
    {
     "name": "stdout",
     "output_type": "stream",
     "text": [
      "Length of outDF:  1160\n"
     ]
    },
    {
     "data": {
      "text/html": [
       "<div>\n",
       "<style>\n",
       "    .dataframe thead tr:only-child th {\n",
       "        text-align: right;\n",
       "    }\n",
       "\n",
       "    .dataframe thead th {\n",
       "        text-align: left;\n",
       "    }\n",
       "\n",
       "    .dataframe tbody tr th {\n",
       "        vertical-align: top;\n",
       "    }\n",
       "</style>\n",
       "<table border=\"1\" class=\"dataframe\">\n",
       "  <thead>\n",
       "    <tr style=\"text-align: right;\">\n",
       "      <th></th>\n",
       "      <th>lat</th>\n",
       "      <th>lon</th>\n",
       "      <th>lat_rnd</th>\n",
       "      <th>lon_rnd</th>\n",
       "    </tr>\n",
       "  </thead>\n",
       "  <tbody>\n",
       "    <tr>\n",
       "      <th>1155</th>\n",
       "      <td>43.233299</td>\n",
       "      <td>-70.911079</td>\n",
       "      <td>43.2333</td>\n",
       "      <td>-70.9111</td>\n",
       "    </tr>\n",
       "    <tr>\n",
       "      <th>1156</th>\n",
       "      <td>43.233601</td>\n",
       "      <td>-70.911301</td>\n",
       "      <td>43.2336</td>\n",
       "      <td>-70.9113</td>\n",
       "    </tr>\n",
       "    <tr>\n",
       "      <th>1157</th>\n",
       "      <td>43.233299</td>\n",
       "      <td>-70.910698</td>\n",
       "      <td>43.2333</td>\n",
       "      <td>-70.9107</td>\n",
       "    </tr>\n",
       "    <tr>\n",
       "      <th>1158</th>\n",
       "      <td>43.233398</td>\n",
       "      <td>-70.911003</td>\n",
       "      <td>43.2334</td>\n",
       "      <td>-70.9110</td>\n",
       "    </tr>\n",
       "    <tr>\n",
       "      <th>1159</th>\n",
       "      <td>43.233299</td>\n",
       "      <td>-70.910713</td>\n",
       "      <td>43.2333</td>\n",
       "      <td>-70.9107</td>\n",
       "    </tr>\n",
       "  </tbody>\n",
       "</table>\n",
       "</div>"
      ],
      "text/plain": [
       "            lat        lon  lat_rnd  lon_rnd\n",
       "1155  43.233299 -70.911079  43.2333 -70.9111\n",
       "1156  43.233601 -70.911301  43.2336 -70.9113\n",
       "1157  43.233299 -70.910698  43.2333 -70.9107\n",
       "1158  43.233398 -70.911003  43.2334 -70.9110\n",
       "1159  43.233299 -70.910713  43.2333 -70.9107"
      ]
     },
     "execution_count": 19,
     "metadata": {},
     "output_type": "execute_result"
    }
   ],
   "source": [
    "print(\"Length of outDF: \", len(loopDFTst.outDF))\n",
    "loopDFTst.outDF.tail()"
   ]
  },
  {
   "cell_type": "code",
   "execution_count": 20,
   "metadata": {},
   "outputs": [
    {
     "data": {
      "text/html": [
       "<div>\n",
       "<style>\n",
       "    .dataframe thead tr:only-child th {\n",
       "        text-align: right;\n",
       "    }\n",
       "\n",
       "    .dataframe thead th {\n",
       "        text-align: left;\n",
       "    }\n",
       "\n",
       "    .dataframe tbody tr th {\n",
       "        vertical-align: top;\n",
       "    }\n",
       "</style>\n",
       "<table border=\"1\" class=\"dataframe\">\n",
       "  <thead>\n",
       "    <tr style=\"text-align: right;\">\n",
       "      <th></th>\n",
       "      <th>lat</th>\n",
       "      <th>lon</th>\n",
       "    </tr>\n",
       "  </thead>\n",
       "  <tbody>\n",
       "    <tr>\n",
       "      <th>0</th>\n",
       "      <td>42.377602</td>\n",
       "      <td>-71.124702</td>\n",
       "    </tr>\n",
       "    <tr>\n",
       "      <th>1</th>\n",
       "      <td>42.432098</td>\n",
       "      <td>-71.056099</td>\n",
       "    </tr>\n",
       "    <tr>\n",
       "      <th>2</th>\n",
       "      <td>42.249298</td>\n",
       "      <td>-71.074501</td>\n",
       "    </tr>\n",
       "    <tr>\n",
       "      <th>1157</th>\n",
       "      <td>43.233299</td>\n",
       "      <td>-70.910698</td>\n",
       "    </tr>\n",
       "    <tr>\n",
       "      <th>1158</th>\n",
       "      <td>43.233398</td>\n",
       "      <td>-70.911003</td>\n",
       "    </tr>\n",
       "    <tr>\n",
       "      <th>1159</th>\n",
       "      <td>43.233299</td>\n",
       "      <td>-70.910713</td>\n",
       "    </tr>\n",
       "  </tbody>\n",
       "</table>\n",
       "</div>"
      ],
      "text/plain": [
       "            lat        lon\n",
       "0     42.377602 -71.124702\n",
       "1     42.432098 -71.056099\n",
       "2     42.249298 -71.074501\n",
       "1157  43.233299 -70.910698\n",
       "1158  43.233398 -70.911003\n",
       "1159  43.233299 -70.910713"
      ]
     },
     "execution_count": 20,
     "metadata": {},
     "output_type": "execute_result"
    }
   ],
   "source": [
    "tst_lat_lon_df.iloc[[0,1,2,1157,1158,1159]]  # looking at start and end of source data"
   ]
  },
  {
   "cell_type": "code",
   "execution_count": 21,
   "metadata": {},
   "outputs": [
    {
     "data": {
      "text/html": [
       "<div>\n",
       "<style>\n",
       "    .dataframe thead tr:only-child th {\n",
       "        text-align: right;\n",
       "    }\n",
       "\n",
       "    .dataframe thead th {\n",
       "        text-align: left;\n",
       "    }\n",
       "\n",
       "    .dataframe tbody tr th {\n",
       "        vertical-align: top;\n",
       "    }\n",
       "</style>\n",
       "<table border=\"1\" class=\"dataframe\">\n",
       "  <thead>\n",
       "    <tr style=\"text-align: right;\">\n",
       "      <th></th>\n",
       "      <th>lat</th>\n",
       "      <th>lon</th>\n",
       "      <th>lat_rnd</th>\n",
       "      <th>lon_rnd</th>\n",
       "    </tr>\n",
       "  </thead>\n",
       "  <tbody>\n",
       "    <tr>\n",
       "      <th>0</th>\n",
       "      <td>42.377602</td>\n",
       "      <td>-71.124702</td>\n",
       "      <td>42.3776</td>\n",
       "      <td>-71.1247</td>\n",
       "    </tr>\n",
       "    <tr>\n",
       "      <th>1</th>\n",
       "      <td>42.432098</td>\n",
       "      <td>-71.056099</td>\n",
       "      <td>42.4321</td>\n",
       "      <td>-71.0561</td>\n",
       "    </tr>\n",
       "    <tr>\n",
       "      <th>2</th>\n",
       "      <td>42.249298</td>\n",
       "      <td>-71.074501</td>\n",
       "      <td>42.2493</td>\n",
       "      <td>-71.0745</td>\n",
       "    </tr>\n",
       "    <tr>\n",
       "      <th>1157</th>\n",
       "      <td>43.233299</td>\n",
       "      <td>-70.910698</td>\n",
       "      <td>43.2333</td>\n",
       "      <td>-70.9107</td>\n",
       "    </tr>\n",
       "    <tr>\n",
       "      <th>1158</th>\n",
       "      <td>43.233398</td>\n",
       "      <td>-70.911003</td>\n",
       "      <td>43.2334</td>\n",
       "      <td>-70.9110</td>\n",
       "    </tr>\n",
       "    <tr>\n",
       "      <th>1159</th>\n",
       "      <td>43.233299</td>\n",
       "      <td>-70.910713</td>\n",
       "      <td>43.2333</td>\n",
       "      <td>-70.9107</td>\n",
       "    </tr>\n",
       "  </tbody>\n",
       "</table>\n",
       "</div>"
      ],
      "text/plain": [
       "            lat        lon  lat_rnd  lon_rnd\n",
       "0     42.377602 -71.124702  42.3776 -71.1247\n",
       "1     42.432098 -71.056099  42.4321 -71.0561\n",
       "2     42.249298 -71.074501  42.2493 -71.0745\n",
       "1157  43.233299 -70.910698  43.2333 -70.9107\n",
       "1158  43.233398 -70.911003  43.2334 -70.9110\n",
       "1159  43.233299 -70.910713  43.2333 -70.9107"
      ]
     },
     "execution_count": 21,
     "metadata": {},
     "output_type": "execute_result"
    }
   ],
   "source": [
    "loopDFTst.outDF.iloc[[0,1,2,1157,1158,1159]] # comparing to output rows"
   ]
  },
  {
   "cell_type": "code",
   "execution_count": 22,
   "metadata": {
    "collapsed": true
   },
   "outputs": [],
   "source": [
    "# reset the looptest object and check it again with two slices of original DF\n",
    "del loopDFTst"
   ]
  },
  {
   "cell_type": "code",
   "execution_count": 23,
   "metadata": {},
   "outputs": [
    {
     "name": "stdout",
     "output_type": "stream",
     "text": [
      "Global Settings for this object: \n",
      "endRow: 5\n",
      "delay:  0\n",
      "Length of outDF: 0\n",
      "nextIndex: None\n"
     ]
    }
   ],
   "source": [
    "loopDFTst = TstModification_DFBuilder()\n",
    "print(loopDFTst)"
   ]
  },
  {
   "cell_type": "code",
   "execution_count": 24,
   "metadata": {},
   "outputs": [
    {
     "name": "stdout",
     "output_type": "stream",
     "text": [
      "Processing inputDF of length:  98\n",
      "Global Settings for this object: \n",
      "endRow: 5\n",
      "delay:  0\n",
      "Length of outDF: 98\n",
      "nextIndex: 98\n"
     ]
    }
   ],
   "source": [
    "loopDFTst.buildOutDF(tst_lat_lon_df[0:98])  # use number that does not divide evenly by 5 (endRow=5)\n",
    "print(loopDFTst)"
   ]
  },
  {
   "cell_type": "code",
   "execution_count": 25,
   "metadata": {},
   "outputs": [
    {
     "name": "stdout",
     "output_type": "stream",
     "text": [
      "Length of outDF:  98\n"
     ]
    },
    {
     "data": {
      "text/html": [
       "<div>\n",
       "<style>\n",
       "    .dataframe thead tr:only-child th {\n",
       "        text-align: right;\n",
       "    }\n",
       "\n",
       "    .dataframe thead th {\n",
       "        text-align: left;\n",
       "    }\n",
       "\n",
       "    .dataframe tbody tr th {\n",
       "        vertical-align: top;\n",
       "    }\n",
       "</style>\n",
       "<table border=\"1\" class=\"dataframe\">\n",
       "  <thead>\n",
       "    <tr style=\"text-align: right;\">\n",
       "      <th></th>\n",
       "      <th>lat</th>\n",
       "      <th>lon</th>\n",
       "      <th>lat_rnd</th>\n",
       "      <th>lon_rnd</th>\n",
       "    </tr>\n",
       "  </thead>\n",
       "  <tbody>\n",
       "    <tr>\n",
       "      <th>93</th>\n",
       "      <td>40.378220</td>\n",
       "      <td>-74.961792</td>\n",
       "      <td>40.3782</td>\n",
       "      <td>-74.9618</td>\n",
       "    </tr>\n",
       "    <tr>\n",
       "      <th>94</th>\n",
       "      <td>40.694191</td>\n",
       "      <td>-73.730133</td>\n",
       "      <td>40.6942</td>\n",
       "      <td>-73.7301</td>\n",
       "    </tr>\n",
       "    <tr>\n",
       "      <th>95</th>\n",
       "      <td>40.660992</td>\n",
       "      <td>-73.706703</td>\n",
       "      <td>40.6610</td>\n",
       "      <td>-73.7067</td>\n",
       "    </tr>\n",
       "    <tr>\n",
       "      <th>96</th>\n",
       "      <td>40.699100</td>\n",
       "      <td>-73.703697</td>\n",
       "      <td>40.6991</td>\n",
       "      <td>-73.7037</td>\n",
       "    </tr>\n",
       "    <tr>\n",
       "      <th>97</th>\n",
       "      <td>40.674000</td>\n",
       "      <td>-73.873001</td>\n",
       "      <td>40.6740</td>\n",
       "      <td>-73.8730</td>\n",
       "    </tr>\n",
       "  </tbody>\n",
       "</table>\n",
       "</div>"
      ],
      "text/plain": [
       "          lat        lon  lat_rnd  lon_rnd\n",
       "93  40.378220 -74.961792  40.3782 -74.9618\n",
       "94  40.694191 -73.730133  40.6942 -73.7301\n",
       "95  40.660992 -73.706703  40.6610 -73.7067\n",
       "96  40.699100 -73.703697  40.6991 -73.7037\n",
       "97  40.674000 -73.873001  40.6740 -73.8730"
      ]
     },
     "execution_count": 25,
     "metadata": {},
     "output_type": "execute_result"
    }
   ],
   "source": [
    "print(\"Length of outDF: \", len(loopDFTst.outDF))\n",
    "loopDFTst.outDF.tail()"
   ]
  },
  {
   "cell_type": "code",
   "execution_count": 26,
   "metadata": {},
   "outputs": [
    {
     "name": "stdout",
     "output_type": "stream",
     "text": [
      "Processing inputDF of length:  2\n"
     ]
    }
   ],
   "source": [
    "loopDFTst.buildOutDF(tst_lat_lon_df[98:100])  # test: missed few records scenario (in this case, adding just 2)"
   ]
  },
  {
   "cell_type": "code",
   "execution_count": 27,
   "metadata": {},
   "outputs": [
    {
     "name": "stdout",
     "output_type": "stream",
     "text": [
      "Length of outDF:  100\n"
     ]
    },
    {
     "data": {
      "text/html": [
       "<div>\n",
       "<style>\n",
       "    .dataframe thead tr:only-child th {\n",
       "        text-align: right;\n",
       "    }\n",
       "\n",
       "    .dataframe thead th {\n",
       "        text-align: left;\n",
       "    }\n",
       "\n",
       "    .dataframe tbody tr th {\n",
       "        vertical-align: top;\n",
       "    }\n",
       "</style>\n",
       "<table border=\"1\" class=\"dataframe\">\n",
       "  <thead>\n",
       "    <tr style=\"text-align: right;\">\n",
       "      <th></th>\n",
       "      <th>lat</th>\n",
       "      <th>lon</th>\n",
       "      <th>lat_rnd</th>\n",
       "      <th>lon_rnd</th>\n",
       "    </tr>\n",
       "  </thead>\n",
       "  <tbody>\n",
       "    <tr>\n",
       "      <th>95</th>\n",
       "      <td>40.660992</td>\n",
       "      <td>-73.706703</td>\n",
       "      <td>40.6610</td>\n",
       "      <td>-73.7067</td>\n",
       "    </tr>\n",
       "    <tr>\n",
       "      <th>96</th>\n",
       "      <td>40.699100</td>\n",
       "      <td>-73.703697</td>\n",
       "      <td>40.6991</td>\n",
       "      <td>-73.7037</td>\n",
       "    </tr>\n",
       "    <tr>\n",
       "      <th>97</th>\n",
       "      <td>40.674000</td>\n",
       "      <td>-73.873001</td>\n",
       "      <td>40.6740</td>\n",
       "      <td>-73.8730</td>\n",
       "    </tr>\n",
       "    <tr>\n",
       "      <th>98</th>\n",
       "      <td>40.827599</td>\n",
       "      <td>-73.896004</td>\n",
       "      <td>40.8276</td>\n",
       "      <td>-73.8960</td>\n",
       "    </tr>\n",
       "    <tr>\n",
       "      <th>99</th>\n",
       "      <td>40.663101</td>\n",
       "      <td>-73.762199</td>\n",
       "      <td>40.6631</td>\n",
       "      <td>-73.7622</td>\n",
       "    </tr>\n",
       "  </tbody>\n",
       "</table>\n",
       "</div>"
      ],
      "text/plain": [
       "          lat        lon  lat_rnd  lon_rnd\n",
       "95  40.660992 -73.706703  40.6610 -73.7067\n",
       "96  40.699100 -73.703697  40.6991 -73.7037\n",
       "97  40.674000 -73.873001  40.6740 -73.8730\n",
       "98  40.827599 -73.896004  40.8276 -73.8960\n",
       "99  40.663101 -73.762199  40.6631 -73.7622"
      ]
     },
     "execution_count": 27,
     "metadata": {},
     "output_type": "execute_result"
    }
   ],
   "source": [
    "print(\"Length of outDF: \", len(loopDFTst.outDF))\n",
    "loopDFTst.outDF.tail()"
   ]
  },
  {
   "cell_type": "code",
   "execution_count": 28,
   "metadata": {},
   "outputs": [
    {
     "name": "stdout",
     "output_type": "stream",
     "text": [
      "Processing inputDF of length:  5\n"
     ]
    }
   ],
   "source": [
    "loopDFTst.buildOutDF(tst_lat_lon_df[100:105])  # test: add amount equal to internal self.endRow variable"
   ]
  },
  {
   "cell_type": "code",
   "execution_count": 29,
   "metadata": {},
   "outputs": [
    {
     "name": "stdout",
     "output_type": "stream",
     "text": [
      "Length of outDF:  105\n"
     ]
    },
    {
     "data": {
      "text/html": [
       "<div>\n",
       "<style>\n",
       "    .dataframe thead tr:only-child th {\n",
       "        text-align: right;\n",
       "    }\n",
       "\n",
       "    .dataframe thead th {\n",
       "        text-align: left;\n",
       "    }\n",
       "\n",
       "    .dataframe tbody tr th {\n",
       "        vertical-align: top;\n",
       "    }\n",
       "</style>\n",
       "<table border=\"1\" class=\"dataframe\">\n",
       "  <thead>\n",
       "    <tr style=\"text-align: right;\">\n",
       "      <th></th>\n",
       "      <th>lat</th>\n",
       "      <th>lon</th>\n",
       "      <th>lat_rnd</th>\n",
       "      <th>lon_rnd</th>\n",
       "    </tr>\n",
       "  </thead>\n",
       "  <tbody>\n",
       "    <tr>\n",
       "      <th>100</th>\n",
       "      <td>40.768501</td>\n",
       "      <td>-73.960701</td>\n",
       "      <td>40.7685</td>\n",
       "      <td>-73.9607</td>\n",
       "    </tr>\n",
       "    <tr>\n",
       "      <th>101</th>\n",
       "      <td>40.676601</td>\n",
       "      <td>-73.703796</td>\n",
       "      <td>40.6766</td>\n",
       "      <td>-73.7038</td>\n",
       "    </tr>\n",
       "    <tr>\n",
       "      <th>102</th>\n",
       "      <td>40.756401</td>\n",
       "      <td>-73.970299</td>\n",
       "      <td>40.7564</td>\n",
       "      <td>-73.9703</td>\n",
       "    </tr>\n",
       "    <tr>\n",
       "      <th>103</th>\n",
       "      <td>40.672798</td>\n",
       "      <td>-73.704201</td>\n",
       "      <td>40.6728</td>\n",
       "      <td>-73.7042</td>\n",
       "    </tr>\n",
       "    <tr>\n",
       "      <th>104</th>\n",
       "      <td>40.766479</td>\n",
       "      <td>-73.951233</td>\n",
       "      <td>40.7665</td>\n",
       "      <td>-73.9512</td>\n",
       "    </tr>\n",
       "  </tbody>\n",
       "</table>\n",
       "</div>"
      ],
      "text/plain": [
       "           lat        lon  lat_rnd  lon_rnd\n",
       "100  40.768501 -73.960701  40.7685 -73.9607\n",
       "101  40.676601 -73.703796  40.6766 -73.7038\n",
       "102  40.756401 -73.970299  40.7564 -73.9703\n",
       "103  40.672798 -73.704201  40.6728 -73.7042\n",
       "104  40.766479 -73.951233  40.7665 -73.9512"
      ]
     },
     "execution_count": 29,
     "metadata": {},
     "output_type": "execute_result"
    }
   ],
   "source": [
    "print(\"Length of outDF: \", len(loopDFTst.outDF))\n",
    "loopDFTst.outDF.tail()"
   ]
  },
  {
   "cell_type": "code",
   "execution_count": 30,
   "metadata": {},
   "outputs": [
    {
     "name": "stdout",
     "output_type": "stream",
     "text": [
      "Processing inputDF of length:  100\n"
     ]
    }
   ],
   "source": [
    "loopDFTst.buildOutDF(tst_lat_lon_df[105:205])  # test: add 100 rows (which is divisble by 5)"
   ]
  },
  {
   "cell_type": "code",
   "execution_count": 31,
   "metadata": {},
   "outputs": [
    {
     "name": "stdout",
     "output_type": "stream",
     "text": [
      "Length of outDF:  205\n"
     ]
    },
    {
     "data": {
      "text/html": [
       "<div>\n",
       "<style>\n",
       "    .dataframe thead tr:only-child th {\n",
       "        text-align: right;\n",
       "    }\n",
       "\n",
       "    .dataframe thead th {\n",
       "        text-align: left;\n",
       "    }\n",
       "\n",
       "    .dataframe tbody tr th {\n",
       "        vertical-align: top;\n",
       "    }\n",
       "</style>\n",
       "<table border=\"1\" class=\"dataframe\">\n",
       "  <thead>\n",
       "    <tr style=\"text-align: right;\">\n",
       "      <th></th>\n",
       "      <th>lat</th>\n",
       "      <th>lon</th>\n",
       "      <th>lat_rnd</th>\n",
       "      <th>lon_rnd</th>\n",
       "    </tr>\n",
       "  </thead>\n",
       "  <tbody>\n",
       "    <tr>\n",
       "      <th>200</th>\n",
       "      <td>40.744099</td>\n",
       "      <td>-74.143501</td>\n",
       "      <td>40.7441</td>\n",
       "      <td>-74.1435</td>\n",
       "    </tr>\n",
       "    <tr>\n",
       "      <th>201</th>\n",
       "      <td>40.269508</td>\n",
       "      <td>-74.482819</td>\n",
       "      <td>40.2695</td>\n",
       "      <td>-74.4828</td>\n",
       "    </tr>\n",
       "    <tr>\n",
       "      <th>202</th>\n",
       "      <td>40.269569</td>\n",
       "      <td>-74.483322</td>\n",
       "      <td>40.2696</td>\n",
       "      <td>-74.4833</td>\n",
       "    </tr>\n",
       "    <tr>\n",
       "      <th>203</th>\n",
       "      <td>40.269650</td>\n",
       "      <td>-74.483269</td>\n",
       "      <td>40.2696</td>\n",
       "      <td>-74.4833</td>\n",
       "    </tr>\n",
       "    <tr>\n",
       "      <th>204</th>\n",
       "      <td>40.269810</td>\n",
       "      <td>-74.483269</td>\n",
       "      <td>40.2698</td>\n",
       "      <td>-74.4833</td>\n",
       "    </tr>\n",
       "  </tbody>\n",
       "</table>\n",
       "</div>"
      ],
      "text/plain": [
       "           lat        lon  lat_rnd  lon_rnd\n",
       "200  40.744099 -74.143501  40.7441 -74.1435\n",
       "201  40.269508 -74.482819  40.2695 -74.4828\n",
       "202  40.269569 -74.483322  40.2696 -74.4833\n",
       "203  40.269650 -74.483269  40.2696 -74.4833\n",
       "204  40.269810 -74.483269  40.2698 -74.4833"
      ]
     },
     "execution_count": 31,
     "metadata": {},
     "output_type": "execute_result"
    }
   ],
   "source": [
    "print(\"Length of outDF: \", len(loopDFTst.outDF))\n",
    "loopDFTst.outDF.tail()"
   ]
  },
  {
   "cell_type": "code",
   "execution_count": 32,
   "metadata": {},
   "outputs": [
    {
     "name": "stdout",
     "output_type": "stream",
     "text": [
      "Processing inputDF of length:  101\n"
     ]
    }
   ],
   "source": [
    "loopDFTst.buildOutDF(tst_lat_lon_df[205:306])  # another add records test"
   ]
  },
  {
   "cell_type": "code",
   "execution_count": 33,
   "metadata": {},
   "outputs": [
    {
     "name": "stdout",
     "output_type": "stream",
     "text": [
      "Length of outDF:  306\n"
     ]
    },
    {
     "data": {
      "text/html": [
       "<div>\n",
       "<style>\n",
       "    .dataframe thead tr:only-child th {\n",
       "        text-align: right;\n",
       "    }\n",
       "\n",
       "    .dataframe thead th {\n",
       "        text-align: left;\n",
       "    }\n",
       "\n",
       "    .dataframe tbody tr th {\n",
       "        vertical-align: top;\n",
       "    }\n",
       "</style>\n",
       "<table border=\"1\" class=\"dataframe\">\n",
       "  <thead>\n",
       "    <tr style=\"text-align: right;\">\n",
       "      <th></th>\n",
       "      <th>lat</th>\n",
       "      <th>lon</th>\n",
       "      <th>lat_rnd</th>\n",
       "      <th>lon_rnd</th>\n",
       "    </tr>\n",
       "  </thead>\n",
       "  <tbody>\n",
       "    <tr>\n",
       "      <th>301</th>\n",
       "      <td>40.269489</td>\n",
       "      <td>-74.482903</td>\n",
       "      <td>40.2695</td>\n",
       "      <td>-74.4829</td>\n",
       "    </tr>\n",
       "    <tr>\n",
       "      <th>302</th>\n",
       "      <td>40.230850</td>\n",
       "      <td>-74.474373</td>\n",
       "      <td>40.2309</td>\n",
       "      <td>-74.4744</td>\n",
       "    </tr>\n",
       "    <tr>\n",
       "      <th>303</th>\n",
       "      <td>40.253269</td>\n",
       "      <td>-74.651611</td>\n",
       "      <td>40.2533</td>\n",
       "      <td>-74.6516</td>\n",
       "    </tr>\n",
       "    <tr>\n",
       "      <th>304</th>\n",
       "      <td>40.269241</td>\n",
       "      <td>-74.483482</td>\n",
       "      <td>40.2692</td>\n",
       "      <td>-74.4835</td>\n",
       "    </tr>\n",
       "    <tr>\n",
       "      <th>305</th>\n",
       "      <td>40.269440</td>\n",
       "      <td>-74.482887</td>\n",
       "      <td>40.2694</td>\n",
       "      <td>-74.4829</td>\n",
       "    </tr>\n",
       "  </tbody>\n",
       "</table>\n",
       "</div>"
      ],
      "text/plain": [
       "           lat        lon  lat_rnd  lon_rnd\n",
       "301  40.269489 -74.482903  40.2695 -74.4829\n",
       "302  40.230850 -74.474373  40.2309 -74.4744\n",
       "303  40.253269 -74.651611  40.2533 -74.6516\n",
       "304  40.269241 -74.483482  40.2692 -74.4835\n",
       "305  40.269440 -74.482887  40.2694 -74.4829"
      ]
     },
     "execution_count": 33,
     "metadata": {},
     "output_type": "execute_result"
    }
   ],
   "source": [
    "print(\"Length of outDF: \", len(loopDFTst.outDF))\n",
    "loopDFTst.outDF.tail()"
   ]
  },
  {
   "cell_type": "code",
   "execution_count": 34,
   "metadata": {},
   "outputs": [
    {
     "name": "stdout",
     "output_type": "stream",
     "text": [
      "Processing inputDF of length:  854\n"
     ]
    }
   ],
   "source": [
    "loopDFTst.buildOutDF(tst_lat_lon_df[306:])  # get the rest added"
   ]
  },
  {
   "cell_type": "code",
   "execution_count": 35,
   "metadata": {},
   "outputs": [
    {
     "name": "stdout",
     "output_type": "stream",
     "text": [
      "Length of outDF:  1160\n"
     ]
    },
    {
     "data": {
      "text/html": [
       "<div>\n",
       "<style>\n",
       "    .dataframe thead tr:only-child th {\n",
       "        text-align: right;\n",
       "    }\n",
       "\n",
       "    .dataframe thead th {\n",
       "        text-align: left;\n",
       "    }\n",
       "\n",
       "    .dataframe tbody tr th {\n",
       "        vertical-align: top;\n",
       "    }\n",
       "</style>\n",
       "<table border=\"1\" class=\"dataframe\">\n",
       "  <thead>\n",
       "    <tr style=\"text-align: right;\">\n",
       "      <th></th>\n",
       "      <th>lat</th>\n",
       "      <th>lon</th>\n",
       "      <th>lat_rnd</th>\n",
       "      <th>lon_rnd</th>\n",
       "    </tr>\n",
       "  </thead>\n",
       "  <tbody>\n",
       "    <tr>\n",
       "      <th>1155</th>\n",
       "      <td>43.233299</td>\n",
       "      <td>-70.911079</td>\n",
       "      <td>43.2333</td>\n",
       "      <td>-70.9111</td>\n",
       "    </tr>\n",
       "    <tr>\n",
       "      <th>1156</th>\n",
       "      <td>43.233601</td>\n",
       "      <td>-70.911301</td>\n",
       "      <td>43.2336</td>\n",
       "      <td>-70.9113</td>\n",
       "    </tr>\n",
       "    <tr>\n",
       "      <th>1157</th>\n",
       "      <td>43.233299</td>\n",
       "      <td>-70.910698</td>\n",
       "      <td>43.2333</td>\n",
       "      <td>-70.9107</td>\n",
       "    </tr>\n",
       "    <tr>\n",
       "      <th>1158</th>\n",
       "      <td>43.233398</td>\n",
       "      <td>-70.911003</td>\n",
       "      <td>43.2334</td>\n",
       "      <td>-70.9110</td>\n",
       "    </tr>\n",
       "    <tr>\n",
       "      <th>1159</th>\n",
       "      <td>43.233299</td>\n",
       "      <td>-70.910713</td>\n",
       "      <td>43.2333</td>\n",
       "      <td>-70.9107</td>\n",
       "    </tr>\n",
       "  </tbody>\n",
       "</table>\n",
       "</div>"
      ],
      "text/plain": [
       "            lat        lon  lat_rnd  lon_rnd\n",
       "1155  43.233299 -70.911079  43.2333 -70.9111\n",
       "1156  43.233601 -70.911301  43.2336 -70.9113\n",
       "1157  43.233299 -70.910698  43.2333 -70.9107\n",
       "1158  43.233398 -70.911003  43.2334 -70.9110\n",
       "1159  43.233299 -70.910713  43.2333 -70.9107"
      ]
     },
     "execution_count": 35,
     "metadata": {},
     "output_type": "execute_result"
    }
   ],
   "source": [
    "print(\"Length of outDF: \", len(loopDFTst.outDF))\n",
    "loopDFTst.outDF.tail()"
   ]
  },
  {
   "cell_type": "code",
   "execution_count": 36,
   "metadata": {},
   "outputs": [
    {
     "data": {
      "text/html": [
       "<div>\n",
       "<style>\n",
       "    .dataframe thead tr:only-child th {\n",
       "        text-align: right;\n",
       "    }\n",
       "\n",
       "    .dataframe thead th {\n",
       "        text-align: left;\n",
       "    }\n",
       "\n",
       "    .dataframe tbody tr th {\n",
       "        vertical-align: top;\n",
       "    }\n",
       "</style>\n",
       "<table border=\"1\" class=\"dataframe\">\n",
       "  <thead>\n",
       "    <tr style=\"text-align: right;\">\n",
       "      <th></th>\n",
       "      <th>lat</th>\n",
       "      <th>lon</th>\n",
       "      <th>lat_rnd</th>\n",
       "      <th>lon_rnd</th>\n",
       "    </tr>\n",
       "  </thead>\n",
       "  <tbody>\n",
       "    <tr>\n",
       "      <th>0</th>\n",
       "      <td>42.377602</td>\n",
       "      <td>-71.124702</td>\n",
       "      <td>42.3776</td>\n",
       "      <td>-71.1247</td>\n",
       "    </tr>\n",
       "    <tr>\n",
       "      <th>1</th>\n",
       "      <td>42.432098</td>\n",
       "      <td>-71.056099</td>\n",
       "      <td>42.4321</td>\n",
       "      <td>-71.0561</td>\n",
       "    </tr>\n",
       "    <tr>\n",
       "      <th>2</th>\n",
       "      <td>42.249298</td>\n",
       "      <td>-71.074501</td>\n",
       "      <td>42.2493</td>\n",
       "      <td>-71.0745</td>\n",
       "    </tr>\n",
       "    <tr>\n",
       "      <th>1157</th>\n",
       "      <td>43.233299</td>\n",
       "      <td>-70.910698</td>\n",
       "      <td>43.2333</td>\n",
       "      <td>-70.9107</td>\n",
       "    </tr>\n",
       "    <tr>\n",
       "      <th>1158</th>\n",
       "      <td>43.233398</td>\n",
       "      <td>-70.911003</td>\n",
       "      <td>43.2334</td>\n",
       "      <td>-70.9110</td>\n",
       "    </tr>\n",
       "    <tr>\n",
       "      <th>1159</th>\n",
       "      <td>43.233299</td>\n",
       "      <td>-70.910713</td>\n",
       "      <td>43.2333</td>\n",
       "      <td>-70.9107</td>\n",
       "    </tr>\n",
       "  </tbody>\n",
       "</table>\n",
       "</div>"
      ],
      "text/plain": [
       "            lat        lon  lat_rnd  lon_rnd\n",
       "0     42.377602 -71.124702  42.3776 -71.1247\n",
       "1     42.432098 -71.056099  42.4321 -71.0561\n",
       "2     42.249298 -71.074501  42.2493 -71.0745\n",
       "1157  43.233299 -70.910698  43.2333 -70.9107\n",
       "1158  43.233398 -70.911003  43.2334 -70.9110\n",
       "1159  43.233299 -70.910713  43.2333 -70.9107"
      ]
     },
     "execution_count": 36,
     "metadata": {},
     "output_type": "execute_result"
    }
   ],
   "source": [
    "## sanity checking:\n",
    "loopDFTst.outDF.iloc[[0,1,2,1157,1158,1159]]"
   ]
  },
  {
   "cell_type": "code",
   "execution_count": 37,
   "metadata": {},
   "outputs": [
    {
     "data": {
      "text/html": [
       "<div>\n",
       "<style>\n",
       "    .dataframe thead tr:only-child th {\n",
       "        text-align: right;\n",
       "    }\n",
       "\n",
       "    .dataframe thead th {\n",
       "        text-align: left;\n",
       "    }\n",
       "\n",
       "    .dataframe tbody tr th {\n",
       "        vertical-align: top;\n",
       "    }\n",
       "</style>\n",
       "<table border=\"1\" class=\"dataframe\">\n",
       "  <thead>\n",
       "    <tr style=\"text-align: right;\">\n",
       "      <th></th>\n",
       "      <th>lat</th>\n",
       "      <th>lon</th>\n",
       "    </tr>\n",
       "  </thead>\n",
       "  <tbody>\n",
       "    <tr>\n",
       "      <th>0</th>\n",
       "      <td>42.377602</td>\n",
       "      <td>-71.124702</td>\n",
       "    </tr>\n",
       "    <tr>\n",
       "      <th>1</th>\n",
       "      <td>42.432098</td>\n",
       "      <td>-71.056099</td>\n",
       "    </tr>\n",
       "    <tr>\n",
       "      <th>2</th>\n",
       "      <td>42.249298</td>\n",
       "      <td>-71.074501</td>\n",
       "    </tr>\n",
       "    <tr>\n",
       "      <th>1157</th>\n",
       "      <td>43.233299</td>\n",
       "      <td>-70.910698</td>\n",
       "    </tr>\n",
       "    <tr>\n",
       "      <th>1158</th>\n",
       "      <td>43.233398</td>\n",
       "      <td>-70.911003</td>\n",
       "    </tr>\n",
       "    <tr>\n",
       "      <th>1159</th>\n",
       "      <td>43.233299</td>\n",
       "      <td>-70.910713</td>\n",
       "    </tr>\n",
       "  </tbody>\n",
       "</table>\n",
       "</div>"
      ],
      "text/plain": [
       "            lat        lon\n",
       "0     42.377602 -71.124702\n",
       "1     42.432098 -71.056099\n",
       "2     42.249298 -71.074501\n",
       "1157  43.233299 -70.910698\n",
       "1158  43.233398 -70.911003\n",
       "1159  43.233299 -70.910713"
      ]
     },
     "execution_count": 37,
     "metadata": {},
     "output_type": "execute_result"
    }
   ],
   "source": [
    "tst_lat_lon_df.iloc[[0,1,2,1157,1158,1159]]"
   ]
  },
  {
   "cell_type": "markdown",
   "metadata": {},
   "source": [
    "#### Simple Test Using Defaults"
   ]
  },
  {
   "cell_type": "code",
   "execution_count": 38,
   "metadata": {},
   "outputs": [
    {
     "name": "stdout",
     "output_type": "stream",
     "text": [
      "Global Settings for this object: \n",
      "endRow: 5\n",
      "delay:  0\n",
      "Length of outDF: 0\n",
      "nextIndex: None\n"
     ]
    }
   ],
   "source": [
    "tstDFbldr = TstModification_DFBuilder()\n",
    "print(tstDFbldr)  ## show defaults set during object build"
   ]
  },
  {
   "cell_type": "code",
   "execution_count": 39,
   "metadata": {},
   "outputs": [
    {
     "data": {
      "text/html": [
       "<div>\n",
       "<style>\n",
       "    .dataframe thead tr:only-child th {\n",
       "        text-align: right;\n",
       "    }\n",
       "\n",
       "    .dataframe thead th {\n",
       "        text-align: left;\n",
       "    }\n",
       "\n",
       "    .dataframe tbody tr th {\n",
       "        vertical-align: top;\n",
       "    }\n",
       "</style>\n",
       "<table border=\"1\" class=\"dataframe\">\n",
       "  <thead>\n",
       "    <tr style=\"text-align: right;\">\n",
       "      <th></th>\n",
       "      <th>lat</th>\n",
       "      <th>lon</th>\n",
       "    </tr>\n",
       "  </thead>\n",
       "  <tbody>\n",
       "    <tr>\n",
       "      <th>1155</th>\n",
       "      <td>43.233299</td>\n",
       "      <td>-70.911079</td>\n",
       "    </tr>\n",
       "    <tr>\n",
       "      <th>1156</th>\n",
       "      <td>43.233601</td>\n",
       "      <td>-70.911301</td>\n",
       "    </tr>\n",
       "    <tr>\n",
       "      <th>1157</th>\n",
       "      <td>43.233299</td>\n",
       "      <td>-70.910698</td>\n",
       "    </tr>\n",
       "    <tr>\n",
       "      <th>1158</th>\n",
       "      <td>43.233398</td>\n",
       "      <td>-70.911003</td>\n",
       "    </tr>\n",
       "    <tr>\n",
       "      <th>1159</th>\n",
       "      <td>43.233299</td>\n",
       "      <td>-70.910713</td>\n",
       "    </tr>\n",
       "  </tbody>\n",
       "</table>\n",
       "</div>"
      ],
      "text/plain": [
       "            lat        lon\n",
       "1155  43.233299 -70.911079\n",
       "1156  43.233601 -70.911301\n",
       "1157  43.233299 -70.910698\n",
       "1158  43.233398 -70.911003\n",
       "1159  43.233299 -70.910713"
      ]
     },
     "execution_count": 39,
     "metadata": {},
     "output_type": "execute_result"
    }
   ],
   "source": [
    "tst_lat_lon_df.tail()"
   ]
  },
  {
   "cell_type": "code",
   "execution_count": 40,
   "metadata": {},
   "outputs": [
    {
     "name": "stdout",
     "output_type": "stream",
     "text": [
      "Processing inputDF of length:  1160\n"
     ]
    }
   ],
   "source": [
    "tstDFbldr.buildOutDF(tst_lat_lon_df)  ## executes in under 1 second on 1160 rows"
   ]
  },
  {
   "cell_type": "code",
   "execution_count": 41,
   "metadata": {},
   "outputs": [
    {
     "data": {
      "text/html": [
       "<div>\n",
       "<style>\n",
       "    .dataframe thead tr:only-child th {\n",
       "        text-align: right;\n",
       "    }\n",
       "\n",
       "    .dataframe thead th {\n",
       "        text-align: left;\n",
       "    }\n",
       "\n",
       "    .dataframe tbody tr th {\n",
       "        vertical-align: top;\n",
       "    }\n",
       "</style>\n",
       "<table border=\"1\" class=\"dataframe\">\n",
       "  <thead>\n",
       "    <tr style=\"text-align: right;\">\n",
       "      <th></th>\n",
       "      <th>lat</th>\n",
       "      <th>lon</th>\n",
       "      <th>lat_rnd</th>\n",
       "      <th>lon_rnd</th>\n",
       "    </tr>\n",
       "  </thead>\n",
       "  <tbody>\n",
       "    <tr>\n",
       "      <th>count</th>\n",
       "      <td>1160.000000</td>\n",
       "      <td>1160.000000</td>\n",
       "      <td>1160.000000</td>\n",
       "      <td>1160.000000</td>\n",
       "    </tr>\n",
       "    <tr>\n",
       "      <th>mean</th>\n",
       "      <td>41.232457</td>\n",
       "      <td>-74.042980</td>\n",
       "      <td>41.232457</td>\n",
       "      <td>-74.042981</td>\n",
       "    </tr>\n",
       "    <tr>\n",
       "      <th>std</th>\n",
       "      <td>1.162332</td>\n",
       "      <td>1.463141</td>\n",
       "      <td>1.162333</td>\n",
       "      <td>1.463140</td>\n",
       "    </tr>\n",
       "    <tr>\n",
       "      <th>min</th>\n",
       "      <td>39.390049</td>\n",
       "      <td>-78.366203</td>\n",
       "      <td>39.390000</td>\n",
       "      <td>-78.366200</td>\n",
       "    </tr>\n",
       "    <tr>\n",
       "      <th>25%</th>\n",
       "      <td>40.269619</td>\n",
       "      <td>-74.651615</td>\n",
       "      <td>40.269600</td>\n",
       "      <td>-74.651600</td>\n",
       "    </tr>\n",
       "    <tr>\n",
       "      <th>50%</th>\n",
       "      <td>40.742920</td>\n",
       "      <td>-74.143070</td>\n",
       "      <td>40.742900</td>\n",
       "      <td>-74.143050</td>\n",
       "    </tr>\n",
       "    <tr>\n",
       "      <th>75%</th>\n",
       "      <td>42.361600</td>\n",
       "      <td>-73.752644</td>\n",
       "      <td>42.361600</td>\n",
       "      <td>-73.752625</td>\n",
       "    </tr>\n",
       "    <tr>\n",
       "      <th>max</th>\n",
       "      <td>44.950298</td>\n",
       "      <td>-70.187302</td>\n",
       "      <td>44.950300</td>\n",
       "      <td>-70.187300</td>\n",
       "    </tr>\n",
       "  </tbody>\n",
       "</table>\n",
       "</div>"
      ],
      "text/plain": [
       "               lat          lon      lat_rnd      lon_rnd\n",
       "count  1160.000000  1160.000000  1160.000000  1160.000000\n",
       "mean     41.232457   -74.042980    41.232457   -74.042981\n",
       "std       1.162332     1.463141     1.162333     1.463140\n",
       "min      39.390049   -78.366203    39.390000   -78.366200\n",
       "25%      40.269619   -74.651615    40.269600   -74.651600\n",
       "50%      40.742920   -74.143070    40.742900   -74.143050\n",
       "75%      42.361600   -73.752644    42.361600   -73.752625\n",
       "max      44.950298   -70.187302    44.950300   -70.187300"
      ]
     },
     "execution_count": 41,
     "metadata": {},
     "output_type": "execute_result"
    }
   ],
   "source": [
    "tstDFbldr.outDF.describe()            ## use .describe instead of .describe() to see source data ... rounding did work\n",
    "                                      ## display adds zeros, but our rounded fields are rounded to 4 decimals"
   ]
  },
  {
   "cell_type": "code",
   "execution_count": 42,
   "metadata": {},
   "outputs": [
    {
     "data": {
      "text/html": [
       "<div>\n",
       "<style>\n",
       "    .dataframe thead tr:only-child th {\n",
       "        text-align: right;\n",
       "    }\n",
       "\n",
       "    .dataframe thead th {\n",
       "        text-align: left;\n",
       "    }\n",
       "\n",
       "    .dataframe tbody tr th {\n",
       "        vertical-align: top;\n",
       "    }\n",
       "</style>\n",
       "<table border=\"1\" class=\"dataframe\">\n",
       "  <thead>\n",
       "    <tr style=\"text-align: right;\">\n",
       "      <th></th>\n",
       "      <th>lat</th>\n",
       "      <th>lon</th>\n",
       "      <th>lat_rnd</th>\n",
       "      <th>lon_rnd</th>\n",
       "    </tr>\n",
       "  </thead>\n",
       "  <tbody>\n",
       "    <tr>\n",
       "      <th>1155</th>\n",
       "      <td>43.233299</td>\n",
       "      <td>-70.911079</td>\n",
       "      <td>43.2333</td>\n",
       "      <td>-70.9111</td>\n",
       "    </tr>\n",
       "    <tr>\n",
       "      <th>1156</th>\n",
       "      <td>43.233601</td>\n",
       "      <td>-70.911301</td>\n",
       "      <td>43.2336</td>\n",
       "      <td>-70.9113</td>\n",
       "    </tr>\n",
       "    <tr>\n",
       "      <th>1157</th>\n",
       "      <td>43.233299</td>\n",
       "      <td>-70.910698</td>\n",
       "      <td>43.2333</td>\n",
       "      <td>-70.9107</td>\n",
       "    </tr>\n",
       "    <tr>\n",
       "      <th>1158</th>\n",
       "      <td>43.233398</td>\n",
       "      <td>-70.911003</td>\n",
       "      <td>43.2334</td>\n",
       "      <td>-70.9110</td>\n",
       "    </tr>\n",
       "    <tr>\n",
       "      <th>1159</th>\n",
       "      <td>43.233299</td>\n",
       "      <td>-70.910713</td>\n",
       "      <td>43.2333</td>\n",
       "      <td>-70.9107</td>\n",
       "    </tr>\n",
       "  </tbody>\n",
       "</table>\n",
       "</div>"
      ],
      "text/plain": [
       "            lat        lon  lat_rnd  lon_rnd\n",
       "1155  43.233299 -70.911079  43.2333 -70.9111\n",
       "1156  43.233601 -70.911301  43.2336 -70.9113\n",
       "1157  43.233299 -70.910698  43.2333 -70.9107\n",
       "1158  43.233398 -70.911003  43.2334 -70.9110\n",
       "1159  43.233299 -70.910713  43.2333 -70.9107"
      ]
     },
     "execution_count": 42,
     "metadata": {},
     "output_type": "execute_result"
    }
   ],
   "source": [
    "tstDFbldr.outDF.tail()  ## tail of DF after first run of the function"
   ]
  },
  {
   "cell_type": "markdown",
   "metadata": {},
   "source": [
    "#### Add 5 Rows - Original Data Source\n",
    "Using buildOutDF() to add to outDF inside the object.  This test will repeat the first 5 rows on the end of the DF"
   ]
  },
  {
   "cell_type": "code",
   "execution_count": 43,
   "metadata": {},
   "outputs": [
    {
     "name": "stdout",
     "output_type": "stream",
     "text": [
      "Processing inputDF of length:  5\n"
     ]
    },
    {
     "data": {
      "text/html": [
       "<div>\n",
       "<style>\n",
       "    .dataframe thead tr:only-child th {\n",
       "        text-align: right;\n",
       "    }\n",
       "\n",
       "    .dataframe thead th {\n",
       "        text-align: left;\n",
       "    }\n",
       "\n",
       "    .dataframe tbody tr th {\n",
       "        vertical-align: top;\n",
       "    }\n",
       "</style>\n",
       "<table border=\"1\" class=\"dataframe\">\n",
       "  <thead>\n",
       "    <tr style=\"text-align: right;\">\n",
       "      <th></th>\n",
       "      <th>lat</th>\n",
       "      <th>lon</th>\n",
       "      <th>lat_rnd</th>\n",
       "      <th>lon_rnd</th>\n",
       "    </tr>\n",
       "  </thead>\n",
       "  <tbody>\n",
       "    <tr>\n",
       "      <th>1155</th>\n",
       "      <td>43.233299</td>\n",
       "      <td>-70.911079</td>\n",
       "      <td>43.2333</td>\n",
       "      <td>-70.9111</td>\n",
       "    </tr>\n",
       "    <tr>\n",
       "      <th>1156</th>\n",
       "      <td>43.233601</td>\n",
       "      <td>-70.911301</td>\n",
       "      <td>43.2336</td>\n",
       "      <td>-70.9113</td>\n",
       "    </tr>\n",
       "    <tr>\n",
       "      <th>1157</th>\n",
       "      <td>43.233299</td>\n",
       "      <td>-70.910698</td>\n",
       "      <td>43.2333</td>\n",
       "      <td>-70.9107</td>\n",
       "    </tr>\n",
       "    <tr>\n",
       "      <th>1158</th>\n",
       "      <td>43.233398</td>\n",
       "      <td>-70.911003</td>\n",
       "      <td>43.2334</td>\n",
       "      <td>-70.9110</td>\n",
       "    </tr>\n",
       "    <tr>\n",
       "      <th>1159</th>\n",
       "      <td>43.233299</td>\n",
       "      <td>-70.910713</td>\n",
       "      <td>43.2333</td>\n",
       "      <td>-70.9107</td>\n",
       "    </tr>\n",
       "    <tr>\n",
       "      <th>1160</th>\n",
       "      <td>42.377602</td>\n",
       "      <td>-71.124702</td>\n",
       "      <td>42.3776</td>\n",
       "      <td>-71.1247</td>\n",
       "    </tr>\n",
       "    <tr>\n",
       "      <th>1161</th>\n",
       "      <td>42.432098</td>\n",
       "      <td>-71.056099</td>\n",
       "      <td>42.4321</td>\n",
       "      <td>-71.0561</td>\n",
       "    </tr>\n",
       "    <tr>\n",
       "      <th>1162</th>\n",
       "      <td>42.249298</td>\n",
       "      <td>-71.074501</td>\n",
       "      <td>42.2493</td>\n",
       "      <td>-71.0745</td>\n",
       "    </tr>\n",
       "    <tr>\n",
       "      <th>1163</th>\n",
       "      <td>42.357800</td>\n",
       "      <td>-71.062698</td>\n",
       "      <td>42.3578</td>\n",
       "      <td>-71.0627</td>\n",
       "    </tr>\n",
       "    <tr>\n",
       "      <th>1164</th>\n",
       "      <td>42.347000</td>\n",
       "      <td>-71.074799</td>\n",
       "      <td>42.3470</td>\n",
       "      <td>-71.0748</td>\n",
       "    </tr>\n",
       "  </tbody>\n",
       "</table>\n",
       "</div>"
      ],
      "text/plain": [
       "            lat        lon  lat_rnd  lon_rnd\n",
       "1155  43.233299 -70.911079  43.2333 -70.9111\n",
       "1156  43.233601 -70.911301  43.2336 -70.9113\n",
       "1157  43.233299 -70.910698  43.2333 -70.9107\n",
       "1158  43.233398 -70.911003  43.2334 -70.9110\n",
       "1159  43.233299 -70.910713  43.2333 -70.9107\n",
       "1160  42.377602 -71.124702  42.3776 -71.1247\n",
       "1161  42.432098 -71.056099  42.4321 -71.0561\n",
       "1162  42.249298 -71.074501  42.2493 -71.0745\n",
       "1163  42.357800 -71.062698  42.3578 -71.0627\n",
       "1164  42.347000 -71.074799  42.3470 -71.0748"
      ]
     },
     "execution_count": 43,
     "metadata": {},
     "output_type": "execute_result"
    }
   ],
   "source": [
    "tstDFbldr.buildOutDF(tst_lat_lon_df[0:5])  # add copy of 5 rows to the end (like adding more data later)\n",
    "tstDFbldr.outDF.tail(10)                   # function added these new rows and fixed the index\n",
    "                                           # this test is why the reset_index code was added"
   ]
  },
  {
   "cell_type": "code",
   "execution_count": 44,
   "metadata": {},
   "outputs": [
    {
     "data": {
      "text/html": [
       "<div>\n",
       "<style>\n",
       "    .dataframe thead tr:only-child th {\n",
       "        text-align: right;\n",
       "    }\n",
       "\n",
       "    .dataframe thead th {\n",
       "        text-align: left;\n",
       "    }\n",
       "\n",
       "    .dataframe tbody tr th {\n",
       "        vertical-align: top;\n",
       "    }\n",
       "</style>\n",
       "<table border=\"1\" class=\"dataframe\">\n",
       "  <thead>\n",
       "    <tr style=\"text-align: right;\">\n",
       "      <th></th>\n",
       "      <th>lat</th>\n",
       "      <th>lon</th>\n",
       "      <th>lat_rnd</th>\n",
       "      <th>lon_rnd</th>\n",
       "    </tr>\n",
       "  </thead>\n",
       "  <tbody>\n",
       "    <tr>\n",
       "      <th>0</th>\n",
       "      <td>42.377602</td>\n",
       "      <td>-71.124702</td>\n",
       "      <td>42.3776</td>\n",
       "      <td>-71.1247</td>\n",
       "    </tr>\n",
       "    <tr>\n",
       "      <th>1</th>\n",
       "      <td>42.432098</td>\n",
       "      <td>-71.056099</td>\n",
       "      <td>42.4321</td>\n",
       "      <td>-71.0561</td>\n",
       "    </tr>\n",
       "    <tr>\n",
       "      <th>2</th>\n",
       "      <td>42.249298</td>\n",
       "      <td>-71.074501</td>\n",
       "      <td>42.2493</td>\n",
       "      <td>-71.0745</td>\n",
       "    </tr>\n",
       "    <tr>\n",
       "      <th>3</th>\n",
       "      <td>42.357800</td>\n",
       "      <td>-71.062698</td>\n",
       "      <td>42.3578</td>\n",
       "      <td>-71.0627</td>\n",
       "    </tr>\n",
       "    <tr>\n",
       "      <th>4</th>\n",
       "      <td>42.347000</td>\n",
       "      <td>-71.074799</td>\n",
       "      <td>42.3470</td>\n",
       "      <td>-71.0748</td>\n",
       "    </tr>\n",
       "    <tr>\n",
       "      <th>5</th>\n",
       "      <td>42.252800</td>\n",
       "      <td>-71.129097</td>\n",
       "      <td>42.2528</td>\n",
       "      <td>-71.1291</td>\n",
       "    </tr>\n",
       "    <tr>\n",
       "      <th>6</th>\n",
       "      <td>42.344898</td>\n",
       "      <td>-71.101601</td>\n",
       "      <td>42.3449</td>\n",
       "      <td>-71.1016</td>\n",
       "    </tr>\n",
       "    <tr>\n",
       "      <th>7</th>\n",
       "      <td>42.424702</td>\n",
       "      <td>-71.111198</td>\n",
       "      <td>42.4247</td>\n",
       "      <td>-71.1112</td>\n",
       "    </tr>\n",
       "    <tr>\n",
       "      <th>8</th>\n",
       "      <td>42.297001</td>\n",
       "      <td>-71.054703</td>\n",
       "      <td>42.2970</td>\n",
       "      <td>-71.0547</td>\n",
       "    </tr>\n",
       "    <tr>\n",
       "      <th>9</th>\n",
       "      <td>42.336201</td>\n",
       "      <td>-71.103699</td>\n",
       "      <td>42.3362</td>\n",
       "      <td>-71.1037</td>\n",
       "    </tr>\n",
       "  </tbody>\n",
       "</table>\n",
       "</div>"
      ],
      "text/plain": [
       "         lat        lon  lat_rnd  lon_rnd\n",
       "0  42.377602 -71.124702  42.3776 -71.1247\n",
       "1  42.432098 -71.056099  42.4321 -71.0561\n",
       "2  42.249298 -71.074501  42.2493 -71.0745\n",
       "3  42.357800 -71.062698  42.3578 -71.0627\n",
       "4  42.347000 -71.074799  42.3470 -71.0748\n",
       "5  42.252800 -71.129097  42.2528 -71.1291\n",
       "6  42.344898 -71.101601  42.3449 -71.1016\n",
       "7  42.424702 -71.111198  42.4247 -71.1112\n",
       "8  42.297001 -71.054703  42.2970 -71.0547\n",
       "9  42.336201 -71.103699  42.3362 -71.1037"
      ]
     },
     "execution_count": 44,
     "metadata": {},
     "output_type": "execute_result"
    }
   ],
   "source": [
    "tstDFbldr.outDF.head(10)  ## quick check of the head of the DF"
   ]
  },
  {
   "cell_type": "code",
   "execution_count": 45,
   "metadata": {
    "collapsed": true
   },
   "outputs": [],
   "source": [
    "# tstDFbldr.outDF  ## uncomment to view whole DF"
   ]
  },
  {
   "cell_type": "markdown",
   "metadata": {},
   "source": [
    "#### Repeat Testing With Random Sample of Data\n",
    "Test done again on smaller random sample of original data created as deep copy.  If test is run on whole DF, it will complete in 1/10th the time.  Testing, however, revealed sone odd quirks in just spot testing the coding features."
   ]
  },
  {
   "cell_type": "code",
   "execution_count": 46,
   "metadata": {},
   "outputs": [
    {
     "name": "stdout",
     "output_type": "stream",
     "text": [
      "Processing inputDF of length:  116\n"
     ]
    }
   ],
   "source": [
    "tstDFbldr2 = TstModification_DFBuilder()  \n",
    "tstDFbldr2.buildOutDF(tst_lat_lon_df_sample)  ## create another object and run the function on it"
   ]
  },
  {
   "cell_type": "code",
   "execution_count": 47,
   "metadata": {},
   "outputs": [
    {
     "data": {
      "text/html": [
       "<div>\n",
       "<style>\n",
       "    .dataframe thead tr:only-child th {\n",
       "        text-align: right;\n",
       "    }\n",
       "\n",
       "    .dataframe thead th {\n",
       "        text-align: left;\n",
       "    }\n",
       "\n",
       "    .dataframe tbody tr th {\n",
       "        vertical-align: top;\n",
       "    }\n",
       "</style>\n",
       "<table border=\"1\" class=\"dataframe\">\n",
       "  <thead>\n",
       "    <tr style=\"text-align: right;\">\n",
       "      <th></th>\n",
       "      <th>lat</th>\n",
       "      <th>lon</th>\n",
       "      <th>lat_rnd</th>\n",
       "      <th>lon_rnd</th>\n",
       "    </tr>\n",
       "  </thead>\n",
       "  <tbody>\n",
       "    <tr>\n",
       "      <th>24</th>\n",
       "      <td>NaN</td>\n",
       "      <td>-74.651611</td>\n",
       "      <td>NaN</td>\n",
       "      <td>-74.6516</td>\n",
       "    </tr>\n",
       "    <tr>\n",
       "      <th>25</th>\n",
       "      <td>40.633709</td>\n",
       "      <td>NaN</td>\n",
       "      <td>40.6337</td>\n",
       "      <td>NaN</td>\n",
       "    </tr>\n",
       "    <tr>\n",
       "      <th>67</th>\n",
       "      <td>NaN</td>\n",
       "      <td>NaN</td>\n",
       "      <td>NaN</td>\n",
       "      <td>NaN</td>\n",
       "    </tr>\n",
       "  </tbody>\n",
       "</table>\n",
       "</div>"
      ],
      "text/plain": [
       "          lat        lon  lat_rnd  lon_rnd\n",
       "24        NaN -74.651611      NaN -74.6516\n",
       "25  40.633709        NaN  40.6337      NaN\n",
       "67        NaN        NaN      NaN      NaN"
      ]
     },
     "execution_count": 47,
     "metadata": {},
     "output_type": "execute_result"
    }
   ],
   "source": [
    "tstDFbldr2.outDF.iloc[[24,25,67]]             ## NaN produced from empty Lat/Lon values"
   ]
  },
  {
   "cell_type": "code",
   "execution_count": 48,
   "metadata": {
    "collapsed": true
   },
   "outputs": [],
   "source": [
    "# reset object by replacing with fresh blank one\n",
    "tstDFbldr2 = TstModification_DFBuilder(time_delay=1)  ## set delay to 1 second so we can interrupt during processing"
   ]
  },
  {
   "cell_type": "markdown",
   "metadata": {},
   "source": [
    "#### Simulated Interrupt\n",
    "In the final object, it will be server timeouts from the web that may result in coding failing to complete.  The closest we can come to simulating this without introducing web API content is to set a time delay and interrupt the code run in the middle (manually) from within Jupyter.  That test as well as some other logic checks follows here."
   ]
  },
  {
   "cell_type": "code",
   "execution_count": 49,
   "metadata": {},
   "outputs": [
    {
     "name": "stdout",
     "output_type": "stream",
     "text": [
      "Processing inputDF of length:  116\n"
     ]
    },
    {
     "ename": "KeyboardInterrupt",
     "evalue": "",
     "output_type": "error",
     "traceback": [
      "\u001b[0;31m---------------------------------------------------------------------------\u001b[0m",
      "\u001b[0;31mKeyboardInterrupt\u001b[0m                         Traceback (most recent call last)",
      "\u001b[0;32m<ipython-input-49-936771f10ade>\u001b[0m in \u001b[0;36m<module>\u001b[0;34m()\u001b[0m\n\u001b[0;32m----> 1\u001b[0;31m \u001b[0mtstDFbldr2\u001b[0m\u001b[0;34m.\u001b[0m\u001b[0mbuildOutDF\u001b[0m\u001b[0;34m(\u001b[0m\u001b[0mtst_lat_lon_df_sample\u001b[0m\u001b[0;34m)\u001b[0m          \u001b[0;31m## stop this test in middle for next set of tests\u001b[0m\u001b[0;34m\u001b[0m\u001b[0m\n\u001b[0m",
      "\u001b[0;32m<ipython-input-11-9f512ccb4ea0>\u001b[0m in \u001b[0;36mbuildOutDF\u001b[0;34m(self, inputDF)\u001b[0m\n\u001b[1;32m     45\u001b[0m             \u001b[0mself\u001b[0m\u001b[0;34m.\u001b[0m\u001b[0mtmpDF\u001b[0m \u001b[0;34m=\u001b[0m \u001b[0minputDF\u001b[0m\u001b[0;34m[\u001b[0m\u001b[0mi\u001b[0m\u001b[0;34m:\u001b[0m\u001b[0mendIndx\u001b[0m\u001b[0;34m]\u001b[0m\u001b[0;34m.\u001b[0m\u001b[0mcopy\u001b[0m\u001b[0;34m(\u001b[0m\u001b[0mdeep\u001b[0m\u001b[0;34m=\u001b[0m\u001b[0;32mTrue\u001b[0m\u001b[0;34m)\u001b[0m\u001b[0;34m\u001b[0m\u001b[0m\n\u001b[1;32m     46\u001b[0m             \u001b[0mself\u001b[0m\u001b[0;34m.\u001b[0m\u001b[0m_modifyTempDF_\u001b[0m\u001b[0;34m(\u001b[0m\u001b[0;34m)\u001b[0m\u001b[0;34m\u001b[0m\u001b[0m\n\u001b[0;32m---> 47\u001b[0;31m             \u001b[0mtime\u001b[0m\u001b[0;34m.\u001b[0m\u001b[0msleep\u001b[0m\u001b[0;34m(\u001b[0m\u001b[0mself\u001b[0m\u001b[0;34m.\u001b[0m\u001b[0mdelay\u001b[0m\u001b[0;34m)\u001b[0m\u001b[0;34m\u001b[0m\u001b[0m\n\u001b[0m\u001b[1;32m     48\u001b[0m             \u001b[0mself\u001b[0m\u001b[0;34m.\u001b[0m\u001b[0moutDF\u001b[0m \u001b[0;34m=\u001b[0m \u001b[0mself\u001b[0m\u001b[0;34m.\u001b[0m\u001b[0moutDF\u001b[0m\u001b[0;34m.\u001b[0m\u001b[0mappend\u001b[0m\u001b[0;34m(\u001b[0m\u001b[0mself\u001b[0m\u001b[0;34m.\u001b[0m\u001b[0mtmpDF\u001b[0m\u001b[0;34m)\u001b[0m\u001b[0;34m\u001b[0m\u001b[0m\n\u001b[1;32m     49\u001b[0m             \u001b[0mself\u001b[0m\u001b[0;34m.\u001b[0m\u001b[0mlastIndex\u001b[0m \u001b[0;34m=\u001b[0m \u001b[0mendIndx\u001b[0m\u001b[0;34m\u001b[0m\u001b[0m\n",
      "\u001b[0;31mKeyboardInterrupt\u001b[0m: "
     ]
    }
   ],
   "source": [
    "tstDFbldr2.buildOutDF(tst_lat_lon_df_sample)          ## stop this test in middle for next set of tests"
   ]
  },
  {
   "cell_type": "code",
   "execution_count": 50,
   "metadata": {},
   "outputs": [
    {
     "name": "stdout",
     "output_type": "stream",
     "text": [
      "1\n"
     ]
    },
    {
     "data": {
      "text/html": [
       "<div>\n",
       "<style>\n",
       "    .dataframe thead tr:only-child th {\n",
       "        text-align: right;\n",
       "    }\n",
       "\n",
       "    .dataframe thead th {\n",
       "        text-align: left;\n",
       "    }\n",
       "\n",
       "    .dataframe tbody tr th {\n",
       "        vertical-align: top;\n",
       "    }\n",
       "</style>\n",
       "<table border=\"1\" class=\"dataframe\">\n",
       "  <thead>\n",
       "    <tr style=\"text-align: right;\">\n",
       "      <th></th>\n",
       "      <th>lat</th>\n",
       "      <th>lon</th>\n",
       "      <th>lat_rnd</th>\n",
       "      <th>lon_rnd</th>\n",
       "    </tr>\n",
       "  </thead>\n",
       "  <tbody>\n",
       "    <tr>\n",
       "      <th>count</th>\n",
       "      <td>49.000000</td>\n",
       "      <td>49.000000</td>\n",
       "      <td>49.000000</td>\n",
       "      <td>49.000000</td>\n",
       "    </tr>\n",
       "    <tr>\n",
       "      <th>mean</th>\n",
       "      <td>41.159567</td>\n",
       "      <td>-74.405320</td>\n",
       "      <td>41.159565</td>\n",
       "      <td>-74.405316</td>\n",
       "    </tr>\n",
       "    <tr>\n",
       "      <th>std</th>\n",
       "      <td>1.197015</td>\n",
       "      <td>1.171229</td>\n",
       "      <td>1.197014</td>\n",
       "      <td>1.171228</td>\n",
       "    </tr>\n",
       "    <tr>\n",
       "      <th>min</th>\n",
       "      <td>39.420300</td>\n",
       "      <td>-77.178574</td>\n",
       "      <td>39.420300</td>\n",
       "      <td>-77.178600</td>\n",
       "    </tr>\n",
       "    <tr>\n",
       "      <th>25%</th>\n",
       "      <td>40.269619</td>\n",
       "      <td>-75.025757</td>\n",
       "      <td>40.269600</td>\n",
       "      <td>-75.025800</td>\n",
       "    </tr>\n",
       "    <tr>\n",
       "      <th>50%</th>\n",
       "      <td>40.726170</td>\n",
       "      <td>-74.464989</td>\n",
       "      <td>40.726200</td>\n",
       "      <td>-74.465000</td>\n",
       "    </tr>\n",
       "    <tr>\n",
       "      <th>75%</th>\n",
       "      <td>42.091789</td>\n",
       "      <td>-73.889793</td>\n",
       "      <td>42.091800</td>\n",
       "      <td>-73.889800</td>\n",
       "    </tr>\n",
       "    <tr>\n",
       "      <th>max</th>\n",
       "      <td>44.583321</td>\n",
       "      <td>-70.537613</td>\n",
       "      <td>44.583300</td>\n",
       "      <td>-70.537600</td>\n",
       "    </tr>\n",
       "  </tbody>\n",
       "</table>\n",
       "</div>"
      ],
      "text/plain": [
       "             lat        lon    lat_rnd    lon_rnd\n",
       "count  49.000000  49.000000  49.000000  49.000000\n",
       "mean   41.159567 -74.405320  41.159565 -74.405316\n",
       "std     1.197015   1.171229   1.197014   1.171228\n",
       "min    39.420300 -77.178574  39.420300 -77.178600\n",
       "25%    40.269619 -75.025757  40.269600 -75.025800\n",
       "50%    40.726170 -74.464989  40.726200 -74.465000\n",
       "75%    42.091789 -73.889793  42.091800 -73.889800\n",
       "max    44.583321 -70.537613  44.583300 -70.537600"
      ]
     },
     "execution_count": 50,
     "metadata": {},
     "output_type": "execute_result"
    }
   ],
   "source": [
    "print(tstDFbldr2.delay  )    ## show delay used:  1 second\n",
    "tstDFbldr2.outDF.describe()  ## describe resulting DF ... it has only a fraction of the expected rows\n",
    "                             ## because we stopped the code early during testing ..."
   ]
  },
  {
   "cell_type": "code",
   "execution_count": 51,
   "metadata": {},
   "outputs": [
    {
     "data": {
      "text/html": [
       "<div>\n",
       "<style>\n",
       "    .dataframe thead tr:only-child th {\n",
       "        text-align: right;\n",
       "    }\n",
       "\n",
       "    .dataframe thead th {\n",
       "        text-align: left;\n",
       "    }\n",
       "\n",
       "    .dataframe tbody tr th {\n",
       "        vertical-align: top;\n",
       "    }\n",
       "</style>\n",
       "<table border=\"1\" class=\"dataframe\">\n",
       "  <thead>\n",
       "    <tr style=\"text-align: right;\">\n",
       "      <th></th>\n",
       "      <th>lat</th>\n",
       "      <th>lon</th>\n",
       "      <th>lat_rnd</th>\n",
       "      <th>lon_rnd</th>\n",
       "    </tr>\n",
       "  </thead>\n",
       "  <tbody>\n",
       "    <tr>\n",
       "      <th>45</th>\n",
       "      <td>42.659409</td>\n",
       "      <td>-73.781357</td>\n",
       "      <td>42.6594</td>\n",
       "      <td>-73.7814</td>\n",
       "    </tr>\n",
       "    <tr>\n",
       "      <th>46</th>\n",
       "      <td>40.923328</td>\n",
       "      <td>-73.883057</td>\n",
       "      <td>40.9233</td>\n",
       "      <td>-73.8831</td>\n",
       "    </tr>\n",
       "    <tr>\n",
       "      <th>47</th>\n",
       "      <td>40.760601</td>\n",
       "      <td>-74.005501</td>\n",
       "      <td>40.7606</td>\n",
       "      <td>-74.0055</td>\n",
       "    </tr>\n",
       "    <tr>\n",
       "      <th>48</th>\n",
       "      <td>43.099098</td>\n",
       "      <td>-73.708313</td>\n",
       "      <td>43.0991</td>\n",
       "      <td>-73.7083</td>\n",
       "    </tr>\n",
       "    <tr>\n",
       "      <th>49</th>\n",
       "      <td>40.644901</td>\n",
       "      <td>-73.958298</td>\n",
       "      <td>40.6449</td>\n",
       "      <td>-73.9583</td>\n",
       "    </tr>\n",
       "  </tbody>\n",
       "</table>\n",
       "</div>"
      ],
      "text/plain": [
       "          lat        lon  lat_rnd  lon_rnd\n",
       "45  42.659409 -73.781357  42.6594 -73.7814\n",
       "46  40.923328 -73.883057  40.9233 -73.8831\n",
       "47  40.760601 -74.005501  40.7606 -74.0055\n",
       "48  43.099098 -73.708313  43.0991 -73.7083\n",
       "49  40.644901 -73.958298  40.6449 -73.9583"
      ]
     },
     "execution_count": 51,
     "metadata": {},
     "output_type": "execute_result"
    }
   ],
   "source": [
    "tstDFbldr2.outDF.tail()  ## index values shown here were cleaned up by changing creation of sample DF\n",
    "                         ## see comments in data preparation at start of NB"
   ]
  },
  {
   "cell_type": "code",
   "execution_count": 52,
   "metadata": {
    "collapsed": true
   },
   "outputs": [],
   "source": [
    "## work-around:  this code could be used to reset index with same options as buildOutDF()\n",
    "# tstDFbldr2.reindex_OutDF()\n",
    "# tstDFbldr2.outDF.tail()"
   ]
  },
  {
   "cell_type": "code",
   "execution_count": 53,
   "metadata": {},
   "outputs": [
    {
     "name": "stdout",
     "output_type": "stream",
     "text": [
      "Processing inputDF of length:  5\n"
     ]
    }
   ],
   "source": [
    "tstDFbldr2.buildOutDF(tst_lat_lon_df_sample[-5:])   ## first attempt to add last 5 rows again from sample data"
   ]
  },
  {
   "cell_type": "code",
   "execution_count": 54,
   "metadata": {},
   "outputs": [
    {
     "data": {
      "text/html": [
       "<div>\n",
       "<style>\n",
       "    .dataframe thead tr:only-child th {\n",
       "        text-align: right;\n",
       "    }\n",
       "\n",
       "    .dataframe thead th {\n",
       "        text-align: left;\n",
       "    }\n",
       "\n",
       "    .dataframe tbody tr th {\n",
       "        vertical-align: top;\n",
       "    }\n",
       "</style>\n",
       "<table border=\"1\" class=\"dataframe\">\n",
       "  <thead>\n",
       "    <tr style=\"text-align: right;\">\n",
       "      <th></th>\n",
       "      <th>lat</th>\n",
       "      <th>lon</th>\n",
       "      <th>lat_rnd</th>\n",
       "      <th>lon_rnd</th>\n",
       "    </tr>\n",
       "  </thead>\n",
       "  <tbody>\n",
       "    <tr>\n",
       "      <th>count</th>\n",
       "      <td>54.000000</td>\n",
       "      <td>54.000000</td>\n",
       "      <td>54.000000</td>\n",
       "      <td>54.000000</td>\n",
       "    </tr>\n",
       "    <tr>\n",
       "      <th>mean</th>\n",
       "      <td>41.121034</td>\n",
       "      <td>-74.370418</td>\n",
       "      <td>41.121031</td>\n",
       "      <td>-74.370413</td>\n",
       "    </tr>\n",
       "    <tr>\n",
       "      <th>std</th>\n",
       "      <td>1.156245</td>\n",
       "      <td>1.169211</td>\n",
       "      <td>1.156245</td>\n",
       "      <td>1.169210</td>\n",
       "    </tr>\n",
       "    <tr>\n",
       "      <th>min</th>\n",
       "      <td>39.420300</td>\n",
       "      <td>-77.178574</td>\n",
       "      <td>39.420300</td>\n",
       "      <td>-77.178600</td>\n",
       "    </tr>\n",
       "    <tr>\n",
       "      <th>25%</th>\n",
       "      <td>40.269647</td>\n",
       "      <td>-75.005827</td>\n",
       "      <td>40.269625</td>\n",
       "      <td>-75.005850</td>\n",
       "    </tr>\n",
       "    <tr>\n",
       "      <th>50%</th>\n",
       "      <td>40.725880</td>\n",
       "      <td>-74.464958</td>\n",
       "      <td>40.725900</td>\n",
       "      <td>-74.464950</td>\n",
       "    </tr>\n",
       "    <tr>\n",
       "      <th>75%</th>\n",
       "      <td>41.497149</td>\n",
       "      <td>-73.889730</td>\n",
       "      <td>41.497125</td>\n",
       "      <td>-73.889725</td>\n",
       "    </tr>\n",
       "    <tr>\n",
       "      <th>max</th>\n",
       "      <td>44.583321</td>\n",
       "      <td>-70.537613</td>\n",
       "      <td>44.583300</td>\n",
       "      <td>-70.537600</td>\n",
       "    </tr>\n",
       "  </tbody>\n",
       "</table>\n",
       "</div>"
      ],
      "text/plain": [
       "             lat        lon    lat_rnd    lon_rnd\n",
       "count  54.000000  54.000000  54.000000  54.000000\n",
       "mean   41.121034 -74.370418  41.121031 -74.370413\n",
       "std     1.156245   1.169211   1.156245   1.169210\n",
       "min    39.420300 -77.178574  39.420300 -77.178600\n",
       "25%    40.269647 -75.005827  40.269625 -75.005850\n",
       "50%    40.725880 -74.464958  40.725900 -74.464950\n",
       "75%    41.497149 -73.889730  41.497125 -73.889725\n",
       "max    44.583321 -70.537613  44.583300 -70.537600"
      ]
     },
     "execution_count": 54,
     "metadata": {},
     "output_type": "execute_result"
    }
   ],
   "source": [
    "tstDFbldr2.outDF.describe()  # count was unchanged from previous in earlier iteration of the code"
   ]
  },
  {
   "cell_type": "code",
   "execution_count": 55,
   "metadata": {},
   "outputs": [
    {
     "data": {
      "text/html": [
       "<div>\n",
       "<style>\n",
       "    .dataframe thead tr:only-child th {\n",
       "        text-align: right;\n",
       "    }\n",
       "\n",
       "    .dataframe thead th {\n",
       "        text-align: left;\n",
       "    }\n",
       "\n",
       "    .dataframe tbody tr th {\n",
       "        vertical-align: top;\n",
       "    }\n",
       "</style>\n",
       "<table border=\"1\" class=\"dataframe\">\n",
       "  <thead>\n",
       "    <tr style=\"text-align: right;\">\n",
       "      <th></th>\n",
       "      <th>lat</th>\n",
       "      <th>lon</th>\n",
       "      <th>lat_rnd</th>\n",
       "      <th>lon_rnd</th>\n",
       "    </tr>\n",
       "  </thead>\n",
       "  <tbody>\n",
       "    <tr>\n",
       "      <th>45</th>\n",
       "      <td>42.659409</td>\n",
       "      <td>-73.781357</td>\n",
       "      <td>42.6594</td>\n",
       "      <td>-73.7814</td>\n",
       "    </tr>\n",
       "    <tr>\n",
       "      <th>46</th>\n",
       "      <td>40.923328</td>\n",
       "      <td>-73.883057</td>\n",
       "      <td>40.9233</td>\n",
       "      <td>-73.8831</td>\n",
       "    </tr>\n",
       "    <tr>\n",
       "      <th>47</th>\n",
       "      <td>40.760601</td>\n",
       "      <td>-74.005501</td>\n",
       "      <td>40.7606</td>\n",
       "      <td>-74.0055</td>\n",
       "    </tr>\n",
       "    <tr>\n",
       "      <th>48</th>\n",
       "      <td>43.099098</td>\n",
       "      <td>-73.708313</td>\n",
       "      <td>43.0991</td>\n",
       "      <td>-73.7083</td>\n",
       "    </tr>\n",
       "    <tr>\n",
       "      <th>49</th>\n",
       "      <td>40.644901</td>\n",
       "      <td>-73.958298</td>\n",
       "      <td>40.6449</td>\n",
       "      <td>-73.9583</td>\n",
       "    </tr>\n",
       "    <tr>\n",
       "      <th>50</th>\n",
       "      <td>41.353199</td>\n",
       "      <td>-72.038597</td>\n",
       "      <td>41.3532</td>\n",
       "      <td>-72.0386</td>\n",
       "    </tr>\n",
       "    <tr>\n",
       "      <th>51</th>\n",
       "      <td>40.666698</td>\n",
       "      <td>-74.208702</td>\n",
       "      <td>40.6667</td>\n",
       "      <td>-74.2087</td>\n",
       "    </tr>\n",
       "    <tr>\n",
       "      <th>52</th>\n",
       "      <td>40.049099</td>\n",
       "      <td>-75.079437</td>\n",
       "      <td>40.0491</td>\n",
       "      <td>-75.0794</td>\n",
       "    </tr>\n",
       "    <tr>\n",
       "      <th>53</th>\n",
       "      <td>40.365349</td>\n",
       "      <td>-74.946037</td>\n",
       "      <td>40.3653</td>\n",
       "      <td>-74.9460</td>\n",
       "    </tr>\n",
       "    <tr>\n",
       "      <th>54</th>\n",
       "      <td>41.282700</td>\n",
       "      <td>-73.869102</td>\n",
       "      <td>41.2827</td>\n",
       "      <td>-73.8691</td>\n",
       "    </tr>\n",
       "  </tbody>\n",
       "</table>\n",
       "</div>"
      ],
      "text/plain": [
       "          lat        lon  lat_rnd  lon_rnd\n",
       "45  42.659409 -73.781357  42.6594 -73.7814\n",
       "46  40.923328 -73.883057  40.9233 -73.8831\n",
       "47  40.760601 -74.005501  40.7606 -74.0055\n",
       "48  43.099098 -73.708313  43.0991 -73.7083\n",
       "49  40.644901 -73.958298  40.6449 -73.9583\n",
       "50  41.353199 -72.038597  41.3532 -72.0386\n",
       "51  40.666698 -74.208702  40.6667 -74.2087\n",
       "52  40.049099 -75.079437  40.0491 -75.0794\n",
       "53  40.365349 -74.946037  40.3653 -74.9460\n",
       "54  41.282700 -73.869102  41.2827 -73.8691"
      ]
     },
     "execution_count": 55,
     "metadata": {},
     "output_type": "execute_result"
    }
   ],
   "source": [
    "tstDFbldr2.outDF.tail(10)  # now it seems to work right"
   ]
  },
  {
   "cell_type": "code",
   "execution_count": 56,
   "metadata": {},
   "outputs": [
    {
     "name": "stdout",
     "output_type": "stream",
     "text": [
      "Processing inputDF of length:  5\n"
     ]
    }
   ],
   "source": [
    "tstDFbldr2.buildOutDF(tst_lat_lon_df_sample[-5:])   ## Try it a second time"
   ]
  },
  {
   "cell_type": "code",
   "execution_count": 57,
   "metadata": {},
   "outputs": [
    {
     "data": {
      "text/html": [
       "<div>\n",
       "<style>\n",
       "    .dataframe thead tr:only-child th {\n",
       "        text-align: right;\n",
       "    }\n",
       "\n",
       "    .dataframe thead th {\n",
       "        text-align: left;\n",
       "    }\n",
       "\n",
       "    .dataframe tbody tr th {\n",
       "        vertical-align: top;\n",
       "    }\n",
       "</style>\n",
       "<table border=\"1\" class=\"dataframe\">\n",
       "  <thead>\n",
       "    <tr style=\"text-align: right;\">\n",
       "      <th></th>\n",
       "      <th>lat</th>\n",
       "      <th>lon</th>\n",
       "      <th>lat_rnd</th>\n",
       "      <th>lon_rnd</th>\n",
       "    </tr>\n",
       "  </thead>\n",
       "  <tbody>\n",
       "    <tr>\n",
       "      <th>count</th>\n",
       "      <td>59.000000</td>\n",
       "      <td>59.000000</td>\n",
       "      <td>59.000000</td>\n",
       "      <td>59.000000</td>\n",
       "    </tr>\n",
       "    <tr>\n",
       "      <th>mean</th>\n",
       "      <td>41.089032</td>\n",
       "      <td>-74.341431</td>\n",
       "      <td>41.089029</td>\n",
       "      <td>-74.341425</td>\n",
       "    </tr>\n",
       "    <tr>\n",
       "      <th>std</th>\n",
       "      <td>1.120360</td>\n",
       "      <td>1.166732</td>\n",
       "      <td>1.120360</td>\n",
       "      <td>1.166729</td>\n",
       "    </tr>\n",
       "    <tr>\n",
       "      <th>min</th>\n",
       "      <td>39.420300</td>\n",
       "      <td>-77.178574</td>\n",
       "      <td>39.420300</td>\n",
       "      <td>-77.178600</td>\n",
       "    </tr>\n",
       "    <tr>\n",
       "      <th>25%</th>\n",
       "      <td>40.269674</td>\n",
       "      <td>-74.985897</td>\n",
       "      <td>40.269650</td>\n",
       "      <td>-74.985900</td>\n",
       "    </tr>\n",
       "    <tr>\n",
       "      <th>50%</th>\n",
       "      <td>40.725590</td>\n",
       "      <td>-74.464928</td>\n",
       "      <td>40.725600</td>\n",
       "      <td>-74.464900</td>\n",
       "    </tr>\n",
       "    <tr>\n",
       "      <th>75%</th>\n",
       "      <td>41.353199</td>\n",
       "      <td>-73.886383</td>\n",
       "      <td>41.353200</td>\n",
       "      <td>-73.886400</td>\n",
       "    </tr>\n",
       "    <tr>\n",
       "      <th>max</th>\n",
       "      <td>44.583321</td>\n",
       "      <td>-70.537613</td>\n",
       "      <td>44.583300</td>\n",
       "      <td>-70.537600</td>\n",
       "    </tr>\n",
       "  </tbody>\n",
       "</table>\n",
       "</div>"
      ],
      "text/plain": [
       "             lat        lon    lat_rnd    lon_rnd\n",
       "count  59.000000  59.000000  59.000000  59.000000\n",
       "mean   41.089032 -74.341431  41.089029 -74.341425\n",
       "std     1.120360   1.166732   1.120360   1.166729\n",
       "min    39.420300 -77.178574  39.420300 -77.178600\n",
       "25%    40.269674 -74.985897  40.269650 -74.985900\n",
       "50%    40.725590 -74.464928  40.725600 -74.464900\n",
       "75%    41.353199 -73.886383  41.353200 -73.886400\n",
       "max    44.583321 -70.537613  44.583300 -70.537600"
      ]
     },
     "execution_count": 57,
     "metadata": {},
     "output_type": "execute_result"
    }
   ],
   "source": [
    "tstDFbldr2.outDF.describe()                         ## note: count is 5 more than before"
   ]
  },
  {
   "cell_type": "code",
   "execution_count": 58,
   "metadata": {},
   "outputs": [
    {
     "data": {
      "text/html": [
       "<div>\n",
       "<style>\n",
       "    .dataframe thead tr:only-child th {\n",
       "        text-align: right;\n",
       "    }\n",
       "\n",
       "    .dataframe thead th {\n",
       "        text-align: left;\n",
       "    }\n",
       "\n",
       "    .dataframe tbody tr th {\n",
       "        vertical-align: top;\n",
       "    }\n",
       "</style>\n",
       "<table border=\"1\" class=\"dataframe\">\n",
       "  <thead>\n",
       "    <tr style=\"text-align: right;\">\n",
       "      <th></th>\n",
       "      <th>lat</th>\n",
       "      <th>lon</th>\n",
       "      <th>lat_rnd</th>\n",
       "      <th>lon_rnd</th>\n",
       "    </tr>\n",
       "  </thead>\n",
       "  <tbody>\n",
       "    <tr>\n",
       "      <th>50</th>\n",
       "      <td>41.353199</td>\n",
       "      <td>-72.038597</td>\n",
       "      <td>41.3532</td>\n",
       "      <td>-72.0386</td>\n",
       "    </tr>\n",
       "    <tr>\n",
       "      <th>51</th>\n",
       "      <td>40.666698</td>\n",
       "      <td>-74.208702</td>\n",
       "      <td>40.6667</td>\n",
       "      <td>-74.2087</td>\n",
       "    </tr>\n",
       "    <tr>\n",
       "      <th>52</th>\n",
       "      <td>40.049099</td>\n",
       "      <td>-75.079437</td>\n",
       "      <td>40.0491</td>\n",
       "      <td>-75.0794</td>\n",
       "    </tr>\n",
       "    <tr>\n",
       "      <th>53</th>\n",
       "      <td>40.365349</td>\n",
       "      <td>-74.946037</td>\n",
       "      <td>40.3653</td>\n",
       "      <td>-74.9460</td>\n",
       "    </tr>\n",
       "    <tr>\n",
       "      <th>54</th>\n",
       "      <td>41.282700</td>\n",
       "      <td>-73.869102</td>\n",
       "      <td>41.2827</td>\n",
       "      <td>-73.8691</td>\n",
       "    </tr>\n",
       "    <tr>\n",
       "      <th>55</th>\n",
       "      <td>41.353199</td>\n",
       "      <td>-72.038597</td>\n",
       "      <td>41.3532</td>\n",
       "      <td>-72.0386</td>\n",
       "    </tr>\n",
       "    <tr>\n",
       "      <th>56</th>\n",
       "      <td>40.666698</td>\n",
       "      <td>-74.208702</td>\n",
       "      <td>40.6667</td>\n",
       "      <td>-74.2087</td>\n",
       "    </tr>\n",
       "    <tr>\n",
       "      <th>57</th>\n",
       "      <td>40.049099</td>\n",
       "      <td>-75.079437</td>\n",
       "      <td>40.0491</td>\n",
       "      <td>-75.0794</td>\n",
       "    </tr>\n",
       "    <tr>\n",
       "      <th>58</th>\n",
       "      <td>40.365349</td>\n",
       "      <td>-74.946037</td>\n",
       "      <td>40.3653</td>\n",
       "      <td>-74.9460</td>\n",
       "    </tr>\n",
       "    <tr>\n",
       "      <th>59</th>\n",
       "      <td>41.282700</td>\n",
       "      <td>-73.869102</td>\n",
       "      <td>41.2827</td>\n",
       "      <td>-73.8691</td>\n",
       "    </tr>\n",
       "  </tbody>\n",
       "</table>\n",
       "</div>"
      ],
      "text/plain": [
       "          lat        lon  lat_rnd  lon_rnd\n",
       "50  41.353199 -72.038597  41.3532 -72.0386\n",
       "51  40.666698 -74.208702  40.6667 -74.2087\n",
       "52  40.049099 -75.079437  40.0491 -75.0794\n",
       "53  40.365349 -74.946037  40.3653 -74.9460\n",
       "54  41.282700 -73.869102  41.2827 -73.8691\n",
       "55  41.353199 -72.038597  41.3532 -72.0386\n",
       "56  40.666698 -74.208702  40.6667 -74.2087\n",
       "57  40.049099 -75.079437  40.0491 -75.0794\n",
       "58  40.365349 -74.946037  40.3653 -74.9460\n",
       "59  41.282700 -73.869102  41.2827 -73.8691"
      ]
     },
     "execution_count": 58,
     "metadata": {},
     "output_type": "execute_result"
    }
   ],
   "source": [
    "tstDFbldr2.outDF.tail(10)    ## comparison of tail helps confirm new records were added\n",
    "                             ## but clean index reset occurs this time (as it is supposed to)"
   ]
  },
  {
   "cell_type": "code",
   "execution_count": 59,
   "metadata": {
    "collapsed": true
   },
   "outputs": [],
   "source": [
    "## Another investigation\n",
    "'''Idea: If in doubt as to whether the dataframe being passed in for the second run is mutating correctly or not,\n",
    "try making a deep copy in steps and resetting the index on the copy as shown here. '''\n",
    "\n",
    "## problems this was investigating now appear to be fixed\n",
    "\n",
    "tmpDF1 = tst_lat_lon_df_sample[-5:].copy(deep=True)\n",
    "tmpDF1.reset_index(drop=True, inplace=True)"
   ]
  },
  {
   "cell_type": "code",
   "execution_count": 60,
   "metadata": {},
   "outputs": [
    {
     "data": {
      "text/html": [
       "<div>\n",
       "<style>\n",
       "    .dataframe thead tr:only-child th {\n",
       "        text-align: right;\n",
       "    }\n",
       "\n",
       "    .dataframe thead th {\n",
       "        text-align: left;\n",
       "    }\n",
       "\n",
       "    .dataframe tbody tr th {\n",
       "        vertical-align: top;\n",
       "    }\n",
       "</style>\n",
       "<table border=\"1\" class=\"dataframe\">\n",
       "  <thead>\n",
       "    <tr style=\"text-align: right;\">\n",
       "      <th></th>\n",
       "      <th>lat</th>\n",
       "      <th>lon</th>\n",
       "    </tr>\n",
       "  </thead>\n",
       "  <tbody>\n",
       "    <tr>\n",
       "      <th>0</th>\n",
       "      <td>41.353199</td>\n",
       "      <td>-72.038597</td>\n",
       "    </tr>\n",
       "    <tr>\n",
       "      <th>1</th>\n",
       "      <td>40.666698</td>\n",
       "      <td>-74.208702</td>\n",
       "    </tr>\n",
       "    <tr>\n",
       "      <th>2</th>\n",
       "      <td>40.049099</td>\n",
       "      <td>-75.079437</td>\n",
       "    </tr>\n",
       "    <tr>\n",
       "      <th>3</th>\n",
       "      <td>40.365349</td>\n",
       "      <td>-74.946037</td>\n",
       "    </tr>\n",
       "    <tr>\n",
       "      <th>4</th>\n",
       "      <td>41.282700</td>\n",
       "      <td>-73.869102</td>\n",
       "    </tr>\n",
       "  </tbody>\n",
       "</table>\n",
       "</div>"
      ],
      "text/plain": [
       "         lat        lon\n",
       "0  41.353199 -72.038597\n",
       "1  40.666698 -74.208702\n",
       "2  40.049099 -75.079437\n",
       "3  40.365349 -74.946037\n",
       "4  41.282700 -73.869102"
      ]
     },
     "execution_count": 60,
     "metadata": {},
     "output_type": "execute_result"
    }
   ],
   "source": [
    "tmpDF1"
   ]
  },
  {
   "cell_type": "code",
   "execution_count": 61,
   "metadata": {},
   "outputs": [
    {
     "name": "stdout",
     "output_type": "stream",
     "text": [
      "Processing inputDF of length:  5\n"
     ]
    }
   ],
   "source": [
    "tstDFbldr2.buildOutDF(tmpDF1)  ## initial test seems promising"
   ]
  },
  {
   "cell_type": "code",
   "execution_count": 62,
   "metadata": {},
   "outputs": [
    {
     "data": {
      "text/html": [
       "<div>\n",
       "<style>\n",
       "    .dataframe thead tr:only-child th {\n",
       "        text-align: right;\n",
       "    }\n",
       "\n",
       "    .dataframe thead th {\n",
       "        text-align: left;\n",
       "    }\n",
       "\n",
       "    .dataframe tbody tr th {\n",
       "        vertical-align: top;\n",
       "    }\n",
       "</style>\n",
       "<table border=\"1\" class=\"dataframe\">\n",
       "  <thead>\n",
       "    <tr style=\"text-align: right;\">\n",
       "      <th></th>\n",
       "      <th>lat</th>\n",
       "      <th>lon</th>\n",
       "      <th>lat_rnd</th>\n",
       "      <th>lon_rnd</th>\n",
       "    </tr>\n",
       "  </thead>\n",
       "  <tbody>\n",
       "    <tr>\n",
       "      <th>55</th>\n",
       "      <td>41.353199</td>\n",
       "      <td>-72.038597</td>\n",
       "      <td>41.3532</td>\n",
       "      <td>-72.0386</td>\n",
       "    </tr>\n",
       "    <tr>\n",
       "      <th>56</th>\n",
       "      <td>40.666698</td>\n",
       "      <td>-74.208702</td>\n",
       "      <td>40.6667</td>\n",
       "      <td>-74.2087</td>\n",
       "    </tr>\n",
       "    <tr>\n",
       "      <th>57</th>\n",
       "      <td>40.049099</td>\n",
       "      <td>-75.079437</td>\n",
       "      <td>40.0491</td>\n",
       "      <td>-75.0794</td>\n",
       "    </tr>\n",
       "    <tr>\n",
       "      <th>58</th>\n",
       "      <td>40.365349</td>\n",
       "      <td>-74.946037</td>\n",
       "      <td>40.3653</td>\n",
       "      <td>-74.9460</td>\n",
       "    </tr>\n",
       "    <tr>\n",
       "      <th>59</th>\n",
       "      <td>41.282700</td>\n",
       "      <td>-73.869102</td>\n",
       "      <td>41.2827</td>\n",
       "      <td>-73.8691</td>\n",
       "    </tr>\n",
       "    <tr>\n",
       "      <th>60</th>\n",
       "      <td>41.353199</td>\n",
       "      <td>-72.038597</td>\n",
       "      <td>41.3532</td>\n",
       "      <td>-72.0386</td>\n",
       "    </tr>\n",
       "    <tr>\n",
       "      <th>61</th>\n",
       "      <td>40.666698</td>\n",
       "      <td>-74.208702</td>\n",
       "      <td>40.6667</td>\n",
       "      <td>-74.2087</td>\n",
       "    </tr>\n",
       "    <tr>\n",
       "      <th>62</th>\n",
       "      <td>40.049099</td>\n",
       "      <td>-75.079437</td>\n",
       "      <td>40.0491</td>\n",
       "      <td>-75.0794</td>\n",
       "    </tr>\n",
       "    <tr>\n",
       "      <th>63</th>\n",
       "      <td>40.365349</td>\n",
       "      <td>-74.946037</td>\n",
       "      <td>40.3653</td>\n",
       "      <td>-74.9460</td>\n",
       "    </tr>\n",
       "    <tr>\n",
       "      <th>64</th>\n",
       "      <td>41.282700</td>\n",
       "      <td>-73.869102</td>\n",
       "      <td>41.2827</td>\n",
       "      <td>-73.8691</td>\n",
       "    </tr>\n",
       "  </tbody>\n",
       "</table>\n",
       "</div>"
      ],
      "text/plain": [
       "          lat        lon  lat_rnd  lon_rnd\n",
       "55  41.353199 -72.038597  41.3532 -72.0386\n",
       "56  40.666698 -74.208702  40.6667 -74.2087\n",
       "57  40.049099 -75.079437  40.0491 -75.0794\n",
       "58  40.365349 -74.946037  40.3653 -74.9460\n",
       "59  41.282700 -73.869102  41.2827 -73.8691\n",
       "60  41.353199 -72.038597  41.3532 -72.0386\n",
       "61  40.666698 -74.208702  40.6667 -74.2087\n",
       "62  40.049099 -75.079437  40.0491 -75.0794\n",
       "63  40.365349 -74.946037  40.3653 -74.9460\n",
       "64  41.282700 -73.869102  41.2827 -73.8691"
      ]
     },
     "execution_count": 62,
     "metadata": {},
     "output_type": "execute_result"
    }
   ],
   "source": [
    "tstDFbldr2.outDF.tail(10)     ##  as shown here, multiple tests seem to add the new rows every time"
   ]
  },
  {
   "cell_type": "code",
   "execution_count": 63,
   "metadata": {},
   "outputs": [
    {
     "name": "stdout",
     "output_type": "stream",
     "text": [
      "Processing inputDF of length:  5\n"
     ]
    },
    {
     "data": {
      "text/html": [
       "<div>\n",
       "<style>\n",
       "    .dataframe thead tr:only-child th {\n",
       "        text-align: right;\n",
       "    }\n",
       "\n",
       "    .dataframe thead th {\n",
       "        text-align: left;\n",
       "    }\n",
       "\n",
       "    .dataframe tbody tr th {\n",
       "        vertical-align: top;\n",
       "    }\n",
       "</style>\n",
       "<table border=\"1\" class=\"dataframe\">\n",
       "  <thead>\n",
       "    <tr style=\"text-align: right;\">\n",
       "      <th></th>\n",
       "      <th>lat</th>\n",
       "      <th>lon</th>\n",
       "      <th>lat_rnd</th>\n",
       "      <th>lon_rnd</th>\n",
       "    </tr>\n",
       "  </thead>\n",
       "  <tbody>\n",
       "    <tr>\n",
       "      <th>60</th>\n",
       "      <td>41.353199</td>\n",
       "      <td>-72.038597</td>\n",
       "      <td>41.3532</td>\n",
       "      <td>-72.0386</td>\n",
       "    </tr>\n",
       "    <tr>\n",
       "      <th>61</th>\n",
       "      <td>40.666698</td>\n",
       "      <td>-74.208702</td>\n",
       "      <td>40.6667</td>\n",
       "      <td>-74.2087</td>\n",
       "    </tr>\n",
       "    <tr>\n",
       "      <th>62</th>\n",
       "      <td>40.049099</td>\n",
       "      <td>-75.079437</td>\n",
       "      <td>40.0491</td>\n",
       "      <td>-75.0794</td>\n",
       "    </tr>\n",
       "    <tr>\n",
       "      <th>63</th>\n",
       "      <td>40.365349</td>\n",
       "      <td>-74.946037</td>\n",
       "      <td>40.3653</td>\n",
       "      <td>-74.9460</td>\n",
       "    </tr>\n",
       "    <tr>\n",
       "      <th>64</th>\n",
       "      <td>41.282700</td>\n",
       "      <td>-73.869102</td>\n",
       "      <td>41.2827</td>\n",
       "      <td>-73.8691</td>\n",
       "    </tr>\n",
       "    <tr>\n",
       "      <th>65</th>\n",
       "      <td>41.353199</td>\n",
       "      <td>-72.038597</td>\n",
       "      <td>41.3532</td>\n",
       "      <td>-72.0386</td>\n",
       "    </tr>\n",
       "    <tr>\n",
       "      <th>66</th>\n",
       "      <td>40.666698</td>\n",
       "      <td>-74.208702</td>\n",
       "      <td>40.6667</td>\n",
       "      <td>-74.2087</td>\n",
       "    </tr>\n",
       "    <tr>\n",
       "      <th>67</th>\n",
       "      <td>40.049099</td>\n",
       "      <td>-75.079437</td>\n",
       "      <td>40.0491</td>\n",
       "      <td>-75.0794</td>\n",
       "    </tr>\n",
       "    <tr>\n",
       "      <th>68</th>\n",
       "      <td>40.365349</td>\n",
       "      <td>-74.946037</td>\n",
       "      <td>40.3653</td>\n",
       "      <td>-74.9460</td>\n",
       "    </tr>\n",
       "    <tr>\n",
       "      <th>69</th>\n",
       "      <td>41.282700</td>\n",
       "      <td>-73.869102</td>\n",
       "      <td>41.2827</td>\n",
       "      <td>-73.8691</td>\n",
       "    </tr>\n",
       "  </tbody>\n",
       "</table>\n",
       "</div>"
      ],
      "text/plain": [
       "          lat        lon  lat_rnd  lon_rnd\n",
       "60  41.353199 -72.038597  41.3532 -72.0386\n",
       "61  40.666698 -74.208702  40.6667 -74.2087\n",
       "62  40.049099 -75.079437  40.0491 -75.0794\n",
       "63  40.365349 -74.946037  40.3653 -74.9460\n",
       "64  41.282700 -73.869102  41.2827 -73.8691\n",
       "65  41.353199 -72.038597  41.3532 -72.0386\n",
       "66  40.666698 -74.208702  40.6667 -74.2087\n",
       "67  40.049099 -75.079437  40.0491 -75.0794\n",
       "68  40.365349 -74.946037  40.3653 -74.9460\n",
       "69  41.282700 -73.869102  41.2827 -73.8691"
      ]
     },
     "execution_count": 63,
     "metadata": {},
     "output_type": "execute_result"
    }
   ],
   "source": [
    "tstDFbldr2.buildOutDF(tmpDF1)\n",
    "tstDFbldr2.outDF.tail(10)"
   ]
  },
  {
   "cell_type": "code",
   "execution_count": 64,
   "metadata": {},
   "outputs": [
    {
     "name": "stdout",
     "output_type": "stream",
     "text": [
      "Global Settings for this object: \n",
      "endRow: 5\n",
      "delay:  1\n",
      "Length of outDF: 70\n",
      "nextIndex: 5\n"
     ]
    }
   ],
   "source": [
    "print(tstDFbldr2)  ## note: we added tmpDF1 which ended on index 4.  This is why \"nextIndex\" now reads 5\n",
    "                   ## nextIndex represents next index if we were to cotinue with the next record in the last\n",
    "                   ## table we added to outDF using the buildOutDF() function"
   ]
  },
  {
   "cell_type": "markdown",
   "metadata": {},
   "source": [
    "#### Attempt To Replicate Earlier Problem\n",
    "This problem was originally created in another Notebook without all the tests before it.  Strangely, removing some of the tests that preceded the one that was expected to work caused it to fail in an initial run of this notebook.  Code has since changed and these tests now show that the content works as expected (problem solved)."
   ]
  },
  {
   "cell_type": "code",
   "execution_count": 65,
   "metadata": {
    "collapsed": true
   },
   "outputs": [],
   "source": [
    "## to illustrate:  we try creating a fresh object to see if we can show that problem in this NB\n",
    "## build 3 here ..."
   ]
  },
  {
   "cell_type": "code",
   "execution_count": 66,
   "metadata": {},
   "outputs": [
    {
     "name": "stdout",
     "output_type": "stream",
     "text": [
      "Processing inputDF of length:  116\n"
     ]
    }
   ],
   "source": [
    "tstDFbld3 = TstModification_DFBuilder(time_delay=1)\n",
    "tstDFbld3.buildOutDF(tst_lat_lon_df_sample)          ## stop this test in middle for next set of tests"
   ]
  },
  {
   "cell_type": "code",
   "execution_count": 68,
   "metadata": {},
   "outputs": [
    {
     "name": "stdout",
     "output_type": "stream",
     "text": [
      "1\n"
     ]
    },
    {
     "data": {
      "text/html": [
       "<div>\n",
       "<style>\n",
       "    .dataframe thead tr:only-child th {\n",
       "        text-align: right;\n",
       "    }\n",
       "\n",
       "    .dataframe thead th {\n",
       "        text-align: left;\n",
       "    }\n",
       "\n",
       "    .dataframe tbody tr th {\n",
       "        vertical-align: top;\n",
       "    }\n",
       "</style>\n",
       "<table border=\"1\" class=\"dataframe\">\n",
       "  <thead>\n",
       "    <tr style=\"text-align: right;\">\n",
       "      <th></th>\n",
       "      <th>lat</th>\n",
       "      <th>lon</th>\n",
       "      <th>lat_rnd</th>\n",
       "      <th>lon_rnd</th>\n",
       "    </tr>\n",
       "  </thead>\n",
       "  <tbody>\n",
       "    <tr>\n",
       "      <th>count</th>\n",
       "      <td>114.000000</td>\n",
       "      <td>114.000000</td>\n",
       "      <td>114.000000</td>\n",
       "      <td>114.000000</td>\n",
       "    </tr>\n",
       "    <tr>\n",
       "      <th>mean</th>\n",
       "      <td>41.067327</td>\n",
       "      <td>-74.360352</td>\n",
       "      <td>41.067325</td>\n",
       "      <td>-74.360351</td>\n",
       "    </tr>\n",
       "    <tr>\n",
       "      <th>std</th>\n",
       "      <td>1.141535</td>\n",
       "      <td>1.334016</td>\n",
       "      <td>1.141537</td>\n",
       "      <td>1.334016</td>\n",
       "    </tr>\n",
       "    <tr>\n",
       "      <th>min</th>\n",
       "      <td>39.390400</td>\n",
       "      <td>-77.178574</td>\n",
       "      <td>39.390400</td>\n",
       "      <td>-77.178600</td>\n",
       "    </tr>\n",
       "    <tr>\n",
       "      <th>25%</th>\n",
       "      <td>40.269436</td>\n",
       "      <td>-75.088343</td>\n",
       "      <td>40.269425</td>\n",
       "      <td>-75.088325</td>\n",
       "    </tr>\n",
       "    <tr>\n",
       "      <th>50%</th>\n",
       "      <td>40.715551</td>\n",
       "      <td>-74.468445</td>\n",
       "      <td>40.715550</td>\n",
       "      <td>-74.468450</td>\n",
       "    </tr>\n",
       "    <tr>\n",
       "      <th>75%</th>\n",
       "      <td>42.087417</td>\n",
       "      <td>-73.889730</td>\n",
       "      <td>42.087425</td>\n",
       "      <td>-73.889725</td>\n",
       "    </tr>\n",
       "    <tr>\n",
       "      <th>max</th>\n",
       "      <td>44.583321</td>\n",
       "      <td>-70.537613</td>\n",
       "      <td>44.583300</td>\n",
       "      <td>-70.537600</td>\n",
       "    </tr>\n",
       "  </tbody>\n",
       "</table>\n",
       "</div>"
      ],
      "text/plain": [
       "              lat         lon     lat_rnd     lon_rnd\n",
       "count  114.000000  114.000000  114.000000  114.000000\n",
       "mean    41.067327  -74.360352   41.067325  -74.360351\n",
       "std      1.141535    1.334016    1.141537    1.334016\n",
       "min     39.390400  -77.178574   39.390400  -77.178600\n",
       "25%     40.269436  -75.088343   40.269425  -75.088325\n",
       "50%     40.715551  -74.468445   40.715550  -74.468450\n",
       "75%     42.087417  -73.889730   42.087425  -73.889725\n",
       "max     44.583321  -70.537613   44.583300  -70.537600"
      ]
     },
     "execution_count": 68,
     "metadata": {},
     "output_type": "execute_result"
    }
   ],
   "source": [
    "print(tstDFbld3.delay)      ## show delay used:  1 second\n",
    "tstDFbld3.outDF.describe()  ## describe resulting DF ... it has only a fraction of the expected rows\n",
    "                             ## because we stopped the code early during testing ..."
   ]
  },
  {
   "cell_type": "code",
   "execution_count": 69,
   "metadata": {},
   "outputs": [
    {
     "data": {
      "text/html": [
       "<div>\n",
       "<style>\n",
       "    .dataframe thead tr:only-child th {\n",
       "        text-align: right;\n",
       "    }\n",
       "\n",
       "    .dataframe thead th {\n",
       "        text-align: left;\n",
       "    }\n",
       "\n",
       "    .dataframe tbody tr th {\n",
       "        vertical-align: top;\n",
       "    }\n",
       "</style>\n",
       "<table border=\"1\" class=\"dataframe\">\n",
       "  <thead>\n",
       "    <tr style=\"text-align: right;\">\n",
       "      <th></th>\n",
       "      <th>lat</th>\n",
       "      <th>lon</th>\n",
       "      <th>lat_rnd</th>\n",
       "      <th>lon_rnd</th>\n",
       "    </tr>\n",
       "  </thead>\n",
       "  <tbody>\n",
       "    <tr>\n",
       "      <th>111</th>\n",
       "      <td>41.353199</td>\n",
       "      <td>-72.038597</td>\n",
       "      <td>41.3532</td>\n",
       "      <td>-72.0386</td>\n",
       "    </tr>\n",
       "    <tr>\n",
       "      <th>112</th>\n",
       "      <td>40.666698</td>\n",
       "      <td>-74.208702</td>\n",
       "      <td>40.6667</td>\n",
       "      <td>-74.2087</td>\n",
       "    </tr>\n",
       "    <tr>\n",
       "      <th>113</th>\n",
       "      <td>40.049099</td>\n",
       "      <td>-75.079437</td>\n",
       "      <td>40.0491</td>\n",
       "      <td>-75.0794</td>\n",
       "    </tr>\n",
       "    <tr>\n",
       "      <th>114</th>\n",
       "      <td>40.365349</td>\n",
       "      <td>-74.946037</td>\n",
       "      <td>40.3653</td>\n",
       "      <td>-74.9460</td>\n",
       "    </tr>\n",
       "    <tr>\n",
       "      <th>115</th>\n",
       "      <td>41.282700</td>\n",
       "      <td>-73.869102</td>\n",
       "      <td>41.2827</td>\n",
       "      <td>-73.8691</td>\n",
       "    </tr>\n",
       "  </tbody>\n",
       "</table>\n",
       "</div>"
      ],
      "text/plain": [
       "           lat        lon  lat_rnd  lon_rnd\n",
       "111  41.353199 -72.038597  41.3532 -72.0386\n",
       "112  40.666698 -74.208702  40.6667 -74.2087\n",
       "113  40.049099 -75.079437  40.0491 -75.0794\n",
       "114  40.365349 -74.946037  40.3653 -74.9460\n",
       "115  41.282700 -73.869102  41.2827 -73.8691"
      ]
     },
     "execution_count": 69,
     "metadata": {},
     "output_type": "execute_result"
    }
   ],
   "source": [
    "tstDFbld3.outDF.tail()"
   ]
  },
  {
   "cell_type": "code",
   "execution_count": 70,
   "metadata": {},
   "outputs": [
    {
     "data": {
      "text/html": [
       "<div>\n",
       "<style>\n",
       "    .dataframe thead tr:only-child th {\n",
       "        text-align: right;\n",
       "    }\n",
       "\n",
       "    .dataframe thead th {\n",
       "        text-align: left;\n",
       "    }\n",
       "\n",
       "    .dataframe tbody tr th {\n",
       "        vertical-align: top;\n",
       "    }\n",
       "</style>\n",
       "<table border=\"1\" class=\"dataframe\">\n",
       "  <thead>\n",
       "    <tr style=\"text-align: right;\">\n",
       "      <th></th>\n",
       "      <th>lat</th>\n",
       "      <th>lon</th>\n",
       "    </tr>\n",
       "  </thead>\n",
       "  <tbody>\n",
       "    <tr>\n",
       "      <th>0</th>\n",
       "      <td>41.353199</td>\n",
       "      <td>-72.038597</td>\n",
       "    </tr>\n",
       "    <tr>\n",
       "      <th>1</th>\n",
       "      <td>40.666698</td>\n",
       "      <td>-74.208702</td>\n",
       "    </tr>\n",
       "    <tr>\n",
       "      <th>2</th>\n",
       "      <td>40.049099</td>\n",
       "      <td>-75.079437</td>\n",
       "    </tr>\n",
       "    <tr>\n",
       "      <th>3</th>\n",
       "      <td>40.365349</td>\n",
       "      <td>-74.946037</td>\n",
       "    </tr>\n",
       "    <tr>\n",
       "      <th>4</th>\n",
       "      <td>41.282700</td>\n",
       "      <td>-73.869102</td>\n",
       "    </tr>\n",
       "  </tbody>\n",
       "</table>\n",
       "</div>"
      ],
      "text/plain": [
       "         lat        lon\n",
       "0  41.353199 -72.038597\n",
       "1  40.666698 -74.208702\n",
       "2  40.049099 -75.079437\n",
       "3  40.365349 -74.946037\n",
       "4  41.282700 -73.869102"
      ]
     },
     "execution_count": 70,
     "metadata": {},
     "output_type": "execute_result"
    }
   ],
   "source": [
    "tmpDF2 = tst_lat_lon_df_sample[-5:].copy(deep=True)\n",
    "tmpDF2.reset_index(drop=True, inplace=True)\n",
    "tmpDF2"
   ]
  },
  {
   "cell_type": "code",
   "execution_count": 71,
   "metadata": {},
   "outputs": [
    {
     "name": "stdout",
     "output_type": "stream",
     "text": [
      "Processing inputDF of length:  5\n"
     ]
    },
    {
     "data": {
      "text/html": [
       "<div>\n",
       "<style>\n",
       "    .dataframe thead tr:only-child th {\n",
       "        text-align: right;\n",
       "    }\n",
       "\n",
       "    .dataframe thead th {\n",
       "        text-align: left;\n",
       "    }\n",
       "\n",
       "    .dataframe tbody tr th {\n",
       "        vertical-align: top;\n",
       "    }\n",
       "</style>\n",
       "<table border=\"1\" class=\"dataframe\">\n",
       "  <thead>\n",
       "    <tr style=\"text-align: right;\">\n",
       "      <th></th>\n",
       "      <th>lat</th>\n",
       "      <th>lon</th>\n",
       "      <th>lat_rnd</th>\n",
       "      <th>lon_rnd</th>\n",
       "    </tr>\n",
       "  </thead>\n",
       "  <tbody>\n",
       "    <tr>\n",
       "      <th>116</th>\n",
       "      <td>41.353199</td>\n",
       "      <td>-72.038597</td>\n",
       "      <td>41.3532</td>\n",
       "      <td>-72.0386</td>\n",
       "    </tr>\n",
       "    <tr>\n",
       "      <th>117</th>\n",
       "      <td>40.666698</td>\n",
       "      <td>-74.208702</td>\n",
       "      <td>40.6667</td>\n",
       "      <td>-74.2087</td>\n",
       "    </tr>\n",
       "    <tr>\n",
       "      <th>118</th>\n",
       "      <td>40.049099</td>\n",
       "      <td>-75.079437</td>\n",
       "      <td>40.0491</td>\n",
       "      <td>-75.0794</td>\n",
       "    </tr>\n",
       "    <tr>\n",
       "      <th>119</th>\n",
       "      <td>40.365349</td>\n",
       "      <td>-74.946037</td>\n",
       "      <td>40.3653</td>\n",
       "      <td>-74.9460</td>\n",
       "    </tr>\n",
       "    <tr>\n",
       "      <th>120</th>\n",
       "      <td>41.282700</td>\n",
       "      <td>-73.869102</td>\n",
       "      <td>41.2827</td>\n",
       "      <td>-73.8691</td>\n",
       "    </tr>\n",
       "  </tbody>\n",
       "</table>\n",
       "</div>"
      ],
      "text/plain": [
       "           lat        lon  lat_rnd  lon_rnd\n",
       "116  41.353199 -72.038597  41.3532 -72.0386\n",
       "117  40.666698 -74.208702  40.6667 -74.2087\n",
       "118  40.049099 -75.079437  40.0491 -75.0794\n",
       "119  40.365349 -74.946037  40.3653 -74.9460\n",
       "120  41.282700 -73.869102  41.2827 -73.8691"
      ]
     },
     "execution_count": 71,
     "metadata": {},
     "output_type": "execute_result"
    }
   ],
   "source": [
    "tstDFbld3.buildOutDF(tmpDF2)   # starting with fresh object and fresh deep copy of the sample\n",
    "tstDFbld3.outDF.tail()         # the problem recurs\n",
    "                               # first attempt fails"
   ]
  },
  {
   "cell_type": "code",
   "execution_count": 72,
   "metadata": {},
   "outputs": [
    {
     "name": "stdout",
     "output_type": "stream",
     "text": [
      "Processing inputDF of length:  5\n"
     ]
    },
    {
     "data": {
      "text/html": [
       "<div>\n",
       "<style>\n",
       "    .dataframe thead tr:only-child th {\n",
       "        text-align: right;\n",
       "    }\n",
       "\n",
       "    .dataframe thead th {\n",
       "        text-align: left;\n",
       "    }\n",
       "\n",
       "    .dataframe tbody tr th {\n",
       "        vertical-align: top;\n",
       "    }\n",
       "</style>\n",
       "<table border=\"1\" class=\"dataframe\">\n",
       "  <thead>\n",
       "    <tr style=\"text-align: right;\">\n",
       "      <th></th>\n",
       "      <th>lat</th>\n",
       "      <th>lon</th>\n",
       "      <th>lat_rnd</th>\n",
       "      <th>lon_rnd</th>\n",
       "    </tr>\n",
       "  </thead>\n",
       "  <tbody>\n",
       "    <tr>\n",
       "      <th>121</th>\n",
       "      <td>41.353199</td>\n",
       "      <td>-72.038597</td>\n",
       "      <td>41.3532</td>\n",
       "      <td>-72.0386</td>\n",
       "    </tr>\n",
       "    <tr>\n",
       "      <th>122</th>\n",
       "      <td>40.666698</td>\n",
       "      <td>-74.208702</td>\n",
       "      <td>40.6667</td>\n",
       "      <td>-74.2087</td>\n",
       "    </tr>\n",
       "    <tr>\n",
       "      <th>123</th>\n",
       "      <td>40.049099</td>\n",
       "      <td>-75.079437</td>\n",
       "      <td>40.0491</td>\n",
       "      <td>-75.0794</td>\n",
       "    </tr>\n",
       "    <tr>\n",
       "      <th>124</th>\n",
       "      <td>40.365349</td>\n",
       "      <td>-74.946037</td>\n",
       "      <td>40.3653</td>\n",
       "      <td>-74.9460</td>\n",
       "    </tr>\n",
       "    <tr>\n",
       "      <th>125</th>\n",
       "      <td>41.282700</td>\n",
       "      <td>-73.869102</td>\n",
       "      <td>41.2827</td>\n",
       "      <td>-73.8691</td>\n",
       "    </tr>\n",
       "  </tbody>\n",
       "</table>\n",
       "</div>"
      ],
      "text/plain": [
       "           lat        lon  lat_rnd  lon_rnd\n",
       "121  41.353199 -72.038597  41.3532 -72.0386\n",
       "122  40.666698 -74.208702  40.6667 -74.2087\n",
       "123  40.049099 -75.079437  40.0491 -75.0794\n",
       "124  40.365349 -74.946037  40.3653 -74.9460\n",
       "125  41.282700 -73.869102  41.2827 -73.8691"
      ]
     },
     "execution_count": 72,
     "metadata": {},
     "output_type": "execute_result"
    }
   ],
   "source": [
    "tstDFbld3.buildOutDF(tmpDF2) \n",
    "tstDFbld3.outDF.tail()          # second and subsequent attempts succeed"
   ]
  },
  {
   "cell_type": "code",
   "execution_count": 73,
   "metadata": {},
   "outputs": [
    {
     "name": "stdout",
     "output_type": "stream",
     "text": [
      "Processing inputDF of length:  5\n"
     ]
    },
    {
     "data": {
      "text/html": [
       "<div>\n",
       "<style>\n",
       "    .dataframe thead tr:only-child th {\n",
       "        text-align: right;\n",
       "    }\n",
       "\n",
       "    .dataframe thead th {\n",
       "        text-align: left;\n",
       "    }\n",
       "\n",
       "    .dataframe tbody tr th {\n",
       "        vertical-align: top;\n",
       "    }\n",
       "</style>\n",
       "<table border=\"1\" class=\"dataframe\">\n",
       "  <thead>\n",
       "    <tr style=\"text-align: right;\">\n",
       "      <th></th>\n",
       "      <th>lat</th>\n",
       "      <th>lon</th>\n",
       "      <th>lat_rnd</th>\n",
       "      <th>lon_rnd</th>\n",
       "    </tr>\n",
       "  </thead>\n",
       "  <tbody>\n",
       "    <tr>\n",
       "      <th>126</th>\n",
       "      <td>41.353199</td>\n",
       "      <td>-72.038597</td>\n",
       "      <td>41.3532</td>\n",
       "      <td>-72.0386</td>\n",
       "    </tr>\n",
       "    <tr>\n",
       "      <th>127</th>\n",
       "      <td>40.666698</td>\n",
       "      <td>-74.208702</td>\n",
       "      <td>40.6667</td>\n",
       "      <td>-74.2087</td>\n",
       "    </tr>\n",
       "    <tr>\n",
       "      <th>128</th>\n",
       "      <td>40.049099</td>\n",
       "      <td>-75.079437</td>\n",
       "      <td>40.0491</td>\n",
       "      <td>-75.0794</td>\n",
       "    </tr>\n",
       "    <tr>\n",
       "      <th>129</th>\n",
       "      <td>40.365349</td>\n",
       "      <td>-74.946037</td>\n",
       "      <td>40.3653</td>\n",
       "      <td>-74.9460</td>\n",
       "    </tr>\n",
       "    <tr>\n",
       "      <th>130</th>\n",
       "      <td>41.282700</td>\n",
       "      <td>-73.869102</td>\n",
       "      <td>41.2827</td>\n",
       "      <td>-73.8691</td>\n",
       "    </tr>\n",
       "  </tbody>\n",
       "</table>\n",
       "</div>"
      ],
      "text/plain": [
       "           lat        lon  lat_rnd  lon_rnd\n",
       "126  41.353199 -72.038597  41.3532 -72.0386\n",
       "127  40.666698 -74.208702  40.6667 -74.2087\n",
       "128  40.049099 -75.079437  40.0491 -75.0794\n",
       "129  40.365349 -74.946037  40.3653 -74.9460\n",
       "130  41.282700 -73.869102  41.2827 -73.8691"
      ]
     },
     "execution_count": 73,
     "metadata": {},
     "output_type": "execute_result"
    }
   ],
   "source": [
    "tstDFbld3.buildOutDF(tmpDF2) \n",
    "tstDFbld3.outDF.tail()"
   ]
  },
  {
   "cell_type": "markdown",
   "metadata": {},
   "source": [
    "### Documentation Tests"
   ]
  },
  {
   "cell_type": "code",
   "execution_count": 84,
   "metadata": {
    "collapsed": true
   },
   "outputs": [],
   "source": [
    "# create new object to test the docstrings\n",
    "testObj1 = TstModification_DFBuilder()"
   ]
  },
  {
   "cell_type": "code",
   "execution_count": 85,
   "metadata": {},
   "outputs": [
    {
     "name": "stdout",
     "output_type": "stream",
     "text": [
      "Help on TstModification_DFBuilder in module __main__ object:\n",
      "\n",
      "class TstModification_DFBuilder(DFBuilder)\n",
      " |  Test of ability to scan a dataframe x rows at a time and add data columns to it.\n",
      " |  There are more efficient ways to round cols in a DF; this object is a test of base logic from the abstract class\n",
      " |  ahead of creating a more complex subclass that interacts with the web during the loop.  It builds a copy of the \n",
      " |  DF a small number of rows at a time and creates some new fields as it does so.  Input DF must have \"lat\" and \n",
      " |  \"lon\" cols. lat=Latitude / lon = Longitude. Defaults set delay to 0 seconds and rows processed at a time to \n",
      " |  5 for this test.\n",
      " |  \n",
      " |  Method resolution order:\n",
      " |      TstModification_DFBuilder\n",
      " |      DFBuilder\n",
      " |      builtins.object\n",
      " |  \n",
      " |  Methods defined here:\n",
      " |  \n",
      " |  __init__(self, endRw=5, time_delay=0)\n",
      " |      Initialize self.  See help(type(self)) for accurate signature.\n",
      " |  \n",
      " |  roundValue(self, value, dec_places=4, rtn_null=False)\n",
      " |      Takes arguments: value, dec_places. Rounds value to dec_places specified (if not specified, default=4.)\n",
      " |      rtn_null defaults to False.  If True, error handling should result in an empty string being returned.   \n",
      " |      If false __ErrType__ should be returned to help with debugging code and data by distinguishing why there is  \n",
      " |      no rounded answer returned.  Testing shows that while using round() throws errors if input is not a number, \n",
      " |      applying it to a dataframe does not.  Try-except code left in for future research but does not seem to ever \n",
      " |      get triggered as of this writing.\n",
      " |  \n",
      " |  ----------------------------------------------------------------------\n",
      " |  Data and other attributes defined here:\n",
      " |  \n",
      " |  __abstractmethods__ = frozenset()\n",
      " |  \n",
      " |  ----------------------------------------------------------------------\n",
      " |  Methods inherited from DFBuilder:\n",
      " |  \n",
      " |  __str__(self)\n",
      " |      Return str(self).\n",
      " |  \n",
      " |  buildOutDF(self, inputDF)\n",
      " |      Scans inputDF using self.endRow rows (default of 5) at a time to do it.  It then calls in logic\n",
      " |      from _modifyTempDF()_ to make changes to each subset of rows and appends tiny tempDF onto an outDF.  When the \n",
      " |      subclass is using a web API, self.time_delay tells it how much time to delay each iteration of the loop.  All\n",
      " |      parameters are set during initialization of the object.  Should this function fail in the middle, outDF will\n",
      " |      have all work up to the failure.  This can be saved out to a DF or csv.  The function can be run again on\n",
      " |      a subset of the data (the records not encountered yet before the failure).\n",
      " |  \n",
      " |  reindex_OutDF(self)\n",
      " |  \n",
      " |  ----------------------------------------------------------------------\n",
      " |  Data descriptors inherited from DFBuilder:\n",
      " |  \n",
      " |  __dict__\n",
      " |      dictionary for instance variables (if defined)\n",
      " |  \n",
      " |  __weakref__\n",
      " |      list of weak references to the object (if defined)\n",
      "\n"
     ]
    }
   ],
   "source": [
    "help(testObj1)"
   ]
  },
  {
   "cell_type": "code",
   "execution_count": 86,
   "metadata": {},
   "outputs": [
    {
     "name": "stdout",
     "output_type": "stream",
     "text": [
      "Test of ability to scan a dataframe x rows at a time and add data columns to it.\n",
      "There are more efficient ways to round cols in a DF; this object is a test of base logic from the abstract class\n",
      "ahead of creating a more complex subclass that interacts with the web during the loop.  It builds a copy of the \n",
      "DF a small number of rows at a time and creates some new fields as it does so.  Input DF must have \"lat\" and \n",
      "\"lon\" cols. lat=Latitude / lon = Longitude. Defaults set delay to 0 seconds and rows processed at a time to \n",
      "5 for this test.\n"
     ]
    }
   ],
   "source": [
    "print(testObj1.__doc__)  # note: formatting is messed up if you do not use print() on the doc string"
   ]
  },
  {
   "cell_type": "code",
   "execution_count": 87,
   "metadata": {},
   "outputs": [
    {
     "name": "stdout",
     "output_type": "stream",
     "text": [
      "Scans inputDF using self.endRow rows (default of 5) at a time to do it.  It then calls in logic\n",
      "from _modifyTempDF()_ to make changes to each subset of rows and appends tiny tempDF onto an outDF.  When the \n",
      "subclass is using a web API, self.time_delay tells it how much time to delay each iteration of the loop.  All\n",
      "parameters are set during initialization of the object.  Should this function fail in the middle, outDF will\n",
      "have all work up to the failure.  This can be saved out to a DF or csv.  The function can be run again on\n",
      "a subset of the data (the records not encountered yet before the failure).\n"
     ]
    }
   ],
   "source": [
    "print(testObj1.buildOutDF.__doc__) # buildOutDF"
   ]
  },
  {
   "cell_type": "code",
   "execution_count": null,
   "metadata": {
    "collapsed": true
   },
   "outputs": [],
   "source": []
  }
 ],
 "metadata": {
  "kernelspec": {
   "display_name": "Python 3",
   "language": "python",
   "name": "python3"
  },
  "language_info": {
   "codemirror_mode": {
    "name": "ipython",
    "version": 3
   },
   "file_extension": ".py",
   "mimetype": "text/x-python",
   "name": "python",
   "nbconvert_exporter": "python",
   "pygments_lexer": "ipython3",
   "version": "3.6.1"
  }
 },
 "nbformat": 4,
 "nbformat_minor": 2
}
