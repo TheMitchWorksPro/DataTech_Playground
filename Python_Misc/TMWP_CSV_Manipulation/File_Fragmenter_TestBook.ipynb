{
 "cells": [
  {
   "cell_type": "markdown",
   "metadata": {},
   "source": [
    "This notebook tests the following Python scripts:"
   ]
  },
  {
   "cell_type": "code",
   "execution_count": 1,
   "metadata": {},
   "outputs": [
    {
     "name": "stdout",
     "output_type": "stream",
     "text": [
      "\u001b[31mfile_fragmenter.py\u001b[m\u001b[m \u001b[31mfile_fuser.py\u001b[m\u001b[m\r\n"
     ]
    }
   ],
   "source": [
    "!ls *.py"
   ]
  },
  {
   "cell_type": "markdown",
   "metadata": {},
   "source": [
    "__About These Files__\n",
    "\n",
    "These scripts make use of reusable objects.  The object code is contained within them but can be deployed on your systems so that updates and enhancements then flow into the final scripts you build.  If you analyze the code, you will notice that abstract objects then have child objects to do the actual work.  In these objects is a seemingly useless function with no definition.  It is there as a placeholder.  \n",
    "\n",
    "The code as written will split or fuse files.  These placeholder functions can then be modified in the child objects to allow you to perform operations on the inputs ahead of creating the outputs.  The intent is to set up inherently extensible code where the coder can focus on what needs to be done to the files and let the underlying objects handle spitting / fusing as designed."
   ]
  },
  {
   "cell_type": "code",
   "execution_count": 2,
   "metadata": {},
   "outputs": [
    {
     "name": "stdout",
     "output_type": "stream",
     "text": [
      "\u001b[31mTestFileLarge.csv\u001b[m\u001b[m             \u001b[31mTestFile_SingleCol-NoIndx.csv\u001b[m\u001b[m\r\n",
      "\u001b[31mTestFileSmall-NoIndx.csv\u001b[m\u001b[m      TestFile_SingleCol-wIndx.csv\r\n",
      "\u001b[31mTestFileSmall-wIndx.csv\u001b[m\u001b[m\r\n"
     ]
    }
   ],
   "source": [
    "!ls Test*.csv"
   ]
  },
  {
   "cell_type": "markdown",
   "metadata": {},
   "source": [
    "__Code Testing__\n",
    "\n",
    "In the cells that follow:\n",
    "\n",
    "- Python scripts are tested from the command line on the csv files listed above\n",
    "- this provides a demo of command line output messages the scripts produce\n",
    "- and shows how to use the arguments for the scripts\n",
    "- code is written and tested on the assumption that input file(s) will be csv either with no index\n",
    "- or with a simple index of one column at column zero (column 0 has unique values and now header in the csv)\n",
    "- Note the following about arguments which tell the code if input/output will have an index:\n",
    "  - if index related arguments have any value, code valuates them to boolean value of True\n",
    "  - if index related arguments are left off, they will default to boolean value of False\n",
    "  - expected usage for the index related arguments is pass them True or leave them off (do not set to False)"
   ]
  },
  {
   "cell_type": "markdown",
   "metadata": {},
   "source": [
    "__Getting Help:__"
   ]
  },
  {
   "cell_type": "code",
   "execution_count": 3,
   "metadata": {},
   "outputs": [
    {
     "name": "stdout",
     "output_type": "stream",
     "text": [
      "usage: file_fragmenter.py [-h] [--input INPUT] [--input_index INPUT_INDEX]\r\n",
      "                          [--numRows NUMROWS] [--outputStart OUTPUTSTART]\r\n",
      "                          [--output_index OUTPUT_INDEX]\r\n",
      "\r\n",
      "optional arguments:\r\n",
      "  -h, --help            show this help message and exit\r\n",
      "  --input INPUT, -i INPUT\r\n",
      "                        intput file\r\n",
      "  --input_index INPUT_INDEX, -idx INPUT_INDEX\r\n",
      "                        enter True if inputs have an index / Omit this\r\n",
      "                        argument if they don't\r\n",
      "  --numRows NUMROWS, -rw NUMROWS\r\n",
      "                        number rows in each output file after splitting the\r\n",
      "                        intput file\r\n",
      "  --outputStart OUTPUTSTART, -o OUTPUTSTART\r\n",
      "                        output file name starts with this string\r\n",
      "  --output_index OUTPUT_INDEX, -odx OUTPUT_INDEX\r\n",
      "                        enter true to output an index / Omit this argument to\r\n",
      "                        leave off the index\r\n"
     ]
    }
   ],
   "source": [
    "!python file_fragmenter.py -h"
   ]
  },
  {
   "cell_type": "code",
   "execution_count": 4,
   "metadata": {},
   "outputs": [
    {
     "name": "stdout",
     "output_type": "stream",
     "text": [
      "usage: file_fuser.py [-h] [--inputStart INPUTSTART]\r\n",
      "                     [--input_index INPUT_INDEX] [--output OUTPUT]\r\n",
      "                     [--output_index OUTPUT_INDEX] [--dir DIR]\r\n",
      "\r\n",
      "optional arguments:\r\n",
      "  -h, --help            show this help message and exit\r\n",
      "  --inputStart INPUTSTART, -i INPUTSTART\r\n",
      "                        intput file name starting pattern (only files that\r\n",
      "                        match will be fused)\r\n",
      "  --input_index INPUT_INDEX, -idx INPUT_INDEX\r\n",
      "                        enter True if input has an index / Omit this argument\r\n",
      "                        if it doesn't\r\n",
      "  --output OUTPUT, -o OUTPUT\r\n",
      "                        Name of final output file\r\n",
      "  --output_index OUTPUT_INDEX, -odx OUTPUT_INDEX\r\n",
      "                        enter true to output an index / Omit this argument to\r\n",
      "                        leave off the index\r\n",
      "  --dir DIR, -d DIR     input files directory\r\n"
     ]
    }
   ],
   "source": [
    "!python file_fuser.py --help"
   ]
  },
  {
   "cell_type": "markdown",
   "metadata": {},
   "source": [
    "__Tests Using A Simple Index In The Input__\n",
    "\n",
    "Note:  numRows (rw) argument defaults to 10,000 rows if it is left off.  numRows (rw) arguments are set in testing with strange values just to illustrate how the code works."
   ]
  },
  {
   "cell_type": "code",
   "execution_count": 6,
   "metadata": {},
   "outputs": [
    {
     "name": "stdout",
     "output_type": "stream",
     "text": [
      "Input files to split:  TestFileSmall-wIndx.csv\n",
      "args.input_index is set to: <class 'bool'> True\n",
      "args.output_index is set to: <class 'bool'> True\n",
      "Your file has  110  rows excluding the header row.\n",
      "The DF Index will be output giving each data row an index field value.\n",
      "To exclude the index on output, do not set the --output_index (-odx) argument (recommended if files will be imported to R).\n",
      "Splitting source file into  9  smaller files.\n",
      "Please wait ...\n",
      "Building File  1 :  TestFSwi_i1.csv  with row count of:  13\n",
      "Building File  2 :  TestFSwi_i2.csv  with row count of:  13\n",
      "Building File  3 :  TestFSwi_i3.csv  with row count of:  13\n",
      "Building File  4 :  TestFSwi_i4.csv  with row count of:  13\n",
      "Building File  5 :  TestFSwi_i5.csv  with row count of:  13\n",
      "Building File  6 :  TestFSwi_i6.csv  with row count of:  13\n",
      "Building File  7 :  TestFSwi_i7.csv  with row count of:  13\n",
      "Building File  8 :  TestFSwi_i8.csv  with row count of:  13\n",
      "Building File  9 :  TestFSwi_i9.csv  with row count of:  6\n",
      "Files Ready.\n",
      "This code was written in Python  3.6.1\n"
     ]
    }
   ],
   "source": [
    "!python file_fragmenter.py -i TestFileSmall-wIndx.csv -o TestFSwi_i -rw 13 -idx True -odx True"
   ]
  },
  {
   "cell_type": "code",
   "execution_count": 7,
   "metadata": {},
   "outputs": [
    {
     "name": "stdout",
     "output_type": "stream",
     "text": [
      "Input files will be located at:  .\n",
      "args.input_index is set to: <class 'bool'> True\n",
      "args.output_index is set to: <class 'bool'> True\n",
      "Adding This File To Output:  TestFSwi_i1.csv\n",
      "Adding This File To Output:  TestFSwi_i2.csv\n",
      "Adding This File To Output:  TestFSwi_i3.csv\n",
      "Adding This File To Output:  TestFSwi_i4.csv\n",
      "Adding This File To Output:  TestFSwi_i5.csv\n",
      "Adding This File To Output:  TestFSwi_i6.csv\n",
      "Adding This File To Output:  TestFSwi_i7.csv\n",
      "Adding This File To Output:  TestFSwi_i8.csv\n",
      "Adding This File To Output:  TestFSwi_i9.csv\n",
      "The DF Index will be output giving each data row an index field value.\n",
      "Output File Created:   TestFSwi_i_Out.csv\n",
      "This code was written in Python  3.6.1\n"
     ]
    }
   ],
   "source": [
    "!python file_fuser.py -i TestFSwi_i -o TestFSwi_i_Out.csv -idx True -odx True"
   ]
  },
  {
   "cell_type": "code",
   "execution_count": 8,
   "metadata": {},
   "outputs": [
    {
     "name": "stdout",
     "output_type": "stream",
     "text": [
      "Input files will be located at:  .\n",
      "args.input_index is set to: <class 'bool'> True\n",
      "args.output_index is set to: <class 'bool'> False\n",
      "Adding This File To Output:  TestFSwi_i1.csv\n",
      "Adding This File To Output:  TestFSwi_i2.csv\n",
      "Adding This File To Output:  TestFSwi_i3.csv\n",
      "Adding This File To Output:  TestFSwi_i4.csv\n",
      "Adding This File To Output:  TestFSwi_i5.csv\n",
      "Adding This File To Output:  TestFSwi_i6.csv\n",
      "Adding This File To Output:  TestFSwi_i7.csv\n",
      "Adding This File To Output:  TestFSwi_i8.csv\n",
      "Adding This File To Output:  TestFSwi_i9.csv\n",
      "Adding This File To Output:  TestFSwi_i_Out.csv\n",
      "If the input files have an index, this will be dropped during output.\n",
      "Output File Created:   TestFSwi_noI_Out.csv\n",
      "This code was written in Python  3.6.1\n"
     ]
    }
   ],
   "source": [
    "!python file_fuser.py --inputStart TestFSwi_i --output TestFSwi_noI_Out.csv --input_index True"
   ]
  },
  {
   "cell_type": "markdown",
   "metadata": {},
   "source": [
    "In above tests:\n",
    "\n",
    "- First test splits a single file into files with the starting pattern: TestFSwi_i\n",
    "- Second test then merges these files back into a single output file named: TestFSwi_i_Out.csv\n",
    "- Third test, merging the files into output without an index, includes the file \"TestFSwi_i_Out.csv\" in its output since this too fits the input file pattern\n",
    "\n",
    "__Test Using No Index in The Original Input File__\n",
    "\n",
    "This next batch of tests starts from an input csv that does not have an index on it."
   ]
  },
  {
   "cell_type": "code",
   "execution_count": 9,
   "metadata": {},
   "outputs": [
    {
     "name": "stdout",
     "output_type": "stream",
     "text": [
      "Input files to split:  TestFileSmall-NoIndx.csv\n",
      "args.input_index is set to: <class 'bool'> False\n",
      "args.output_index is set to: <class 'bool'> False\n",
      "Your file has  108  rows excluding the header row.\n",
      "Splitting source file into  4  smaller files.\n",
      "Please wait ...\n",
      "Building File  1 :  TestFSnoX_1.csv  with row count of:  27\n",
      "Building File  2 :  TestFSnoX_2.csv  with row count of:  27\n",
      "Building File  3 :  TestFSnoX_3.csv  with row count of:  27\n",
      "Building File  4 :  TestFSnoX_4.csv  with row count of:  27\n",
      "Files Ready.\n",
      "This code was written in Python  3.6.1\n"
     ]
    }
   ],
   "source": [
    "!python file_fragmenter.py -i TestFileSmall-NoIndx.csv -o TestFSnoX_ --numRows 27"
   ]
  },
  {
   "cell_type": "code",
   "execution_count": 10,
   "metadata": {},
   "outputs": [
    {
     "name": "stdout",
     "output_type": "stream",
     "text": [
      "Input files will be located at:  .\n",
      "args.input_index is set to: <class 'bool'> False\n",
      "args.output_index is set to: <class 'bool'> False\n",
      "Adding This File To Output:  TestFSnoX_1.csv\n",
      "Adding This File To Output:  TestFSnoX_2.csv\n",
      "Adding This File To Output:  TestFSnoX_3.csv\n",
      "Adding This File To Output:  TestFSnoX_4.csv\n",
      "If the input files have an index, this will be dropped during output.\n",
      "Output File Created:   TstFSnoX_Out.csv\n",
      "This code was written in Python  3.6.1\n"
     ]
    }
   ],
   "source": [
    "!python file_fuser.py -i TestFSnoX_ -o TstFSnoX_Out.csv"
   ]
  },
  {
   "cell_type": "code",
   "execution_count": 11,
   "metadata": {},
   "outputs": [
    {
     "name": "stdout",
     "output_type": "stream",
     "text": [
      "Input files will be located at:  .\n",
      "args.input_index is set to: <class 'bool'> False\n",
      "args.output_index is set to: <class 'bool'> True\n",
      "Adding This File To Output:  TestFSnoX_1.csv\n",
      "Adding This File To Output:  TestFSnoX_2.csv\n",
      "Adding This File To Output:  TestFSnoX_3.csv\n",
      "Adding This File To Output:  TestFSnoX_4.csv\n",
      "Creating Unique Index for Output File...\n",
      "Output File Created:   TestFSnoX_Out_i.csv\n",
      "This code was written in Python  3.6.1\n"
     ]
    }
   ],
   "source": [
    "!python file_fuser.py -i TestFSnoX_ -o TestFSnoX_Out_i.csv --output_index True"
   ]
  },
  {
   "cell_type": "markdown",
   "metadata": {},
   "source": [
    "In the previous batch of tests, the original input file did not have an index.  The file is split and then merged back together.  Then finally, the inputs are merged again, but this time into a file with an index.  The index is auto-generated and sorted to run from 0, 1, 2, ... etc."
   ]
  },
  {
   "cell_type": "markdown",
   "metadata": {},
   "source": [
    "__Testing Using Single Column File__\n",
    "\n",
    "This next section repeats all of the tests before it using a csv with only one column of data in it.  These tests were performed for completeness.  Early drafts of the code worked on a single code but not on multiple columns.  Once code was revised to work on multiple columns, these tests were performed again to show it still works on a single column.  They also illustrate more permutations of the input parameter syntax."
   ]
  },
  {
   "cell_type": "code",
   "execution_count": 13,
   "metadata": {},
   "outputs": [
    {
     "name": "stdout",
     "output_type": "stream",
     "text": [
      "Input files to split:  TestFile_SingleCol-NoIndx.csv\n",
      "args.input_index is set to: <class 'bool'> False\n",
      "args.output_index is set to: <class 'bool'> False\n",
      "Your file has  79066  rows excluding the header row.\n",
      "Splitting source file into  8  smaller files.\n",
      "Please wait ...\n",
      "Building File  1 :  TestSCFL_noX_1.csv  with row count of:  10000\n",
      "Building File  2 :  TestSCFL_noX_2.csv  with row count of:  10000\n",
      "Building File  3 :  TestSCFL_noX_3.csv  with row count of:  10000\n",
      "Building File  4 :  TestSCFL_noX_4.csv  with row count of:  10000\n",
      "Building File  5 :  TestSCFL_noX_5.csv  with row count of:  10000\n",
      "Building File  6 :  TestSCFL_noX_6.csv  with row count of:  10000\n",
      "Building File  7 :  TestSCFL_noX_7.csv  with row count of:  10000\n",
      "Building File  8 :  TestSCFL_noX_8.csv  with row count of:  9066\n",
      "Files Ready.\n",
      "This code was written in Python  3.6.1\n"
     ]
    }
   ],
   "source": [
    "!python file_fragmenter.py --input TestFile_SingleCol-NoIndx.csv --outputStart TestSCFL_noX_"
   ]
  },
  {
   "cell_type": "code",
   "execution_count": 14,
   "metadata": {},
   "outputs": [
    {
     "name": "stdout",
     "output_type": "stream",
     "text": [
      "Input files will be located at:  .\n",
      "args.input_index is set to: <class 'bool'> False\n",
      "args.output_index is set to: <class 'bool'> False\n",
      "Adding This File To Output:  TestSCFL_noX_1.csv\n",
      "Adding This File To Output:  TestSCFL_noX_2.csv\n",
      "Adding This File To Output:  TestSCFL_noX_3.csv\n",
      "Adding This File To Output:  TestSCFL_noX_4.csv\n",
      "Adding This File To Output:  TestSCFL_noX_5.csv\n",
      "Adding This File To Output:  TestSCFL_noX_6.csv\n",
      "Adding This File To Output:  TestSCFL_noX_7.csv\n",
      "Adding This File To Output:  TestSCFL_noX_8.csv\n",
      "If the input files have an index, this will be dropped during output.\n",
      "Output File Created:   TstSCFL_noX_Out.csv\n",
      "This code was written in Python  3.6.1\n"
     ]
    }
   ],
   "source": [
    "!python file_fuser.py -i TestSCFL_noX_ -o TstSCFL_noX_Out.csv"
   ]
  },
  {
   "cell_type": "code",
   "execution_count": 15,
   "metadata": {},
   "outputs": [
    {
     "name": "stdout",
     "output_type": "stream",
     "text": [
      "Input files will be located at:  .\n",
      "args.input_index is set to: <class 'bool'> False\n",
      "args.output_index is set to: <class 'bool'> True\n",
      "Adding This File To Output:  TestSCFL_noX_1.csv\n",
      "Adding This File To Output:  TestSCFL_noX_2.csv\n",
      "Adding This File To Output:  TestSCFL_noX_3.csv\n",
      "Adding This File To Output:  TestSCFL_noX_4.csv\n",
      "Adding This File To Output:  TestSCFL_noX_5.csv\n",
      "Adding This File To Output:  TestSCFL_noX_6.csv\n",
      "Adding This File To Output:  TestSCFL_noX_7.csv\n",
      "Adding This File To Output:  TestSCFL_noX_8.csv\n",
      "Creating Unique Index for Output File...\n",
      "Output File Created:   TestSCFL_noX_Out.csv\n",
      "This code was written in Python  3.6.1\n"
     ]
    }
   ],
   "source": [
    "!python file_fuser.py -i TestSCFL_noX_ -o TestSCFL_noX_Out.csv -odx True"
   ]
  },
  {
   "cell_type": "code",
   "execution_count": 16,
   "metadata": {},
   "outputs": [
    {
     "name": "stdout",
     "output_type": "stream",
     "text": [
      "Input files to split:  TestFile_SingleCol-wIndx.csv\n",
      "args.input_index is set to: <class 'bool'> True\n",
      "args.output_index is set to: <class 'bool'> True\n",
      "Your file has  79066  rows excluding the header row.\n",
      "The DF Index will be output giving each data row an index field value.\n",
      "To exclude the index on output, do not set the --output_index (-odx) argument (recommended if files will be imported to R).\n",
      "Splitting source file into  7  smaller files.\n",
      "Please wait ...\n",
      "Building File  1 :  TestSCFL_idX_1.csv  with row count of:  11500\n",
      "Building File  2 :  TestSCFL_idX_2.csv  with row count of:  11500\n",
      "Building File  3 :  TestSCFL_idX_3.csv  with row count of:  11500\n",
      "Building File  4 :  TestSCFL_idX_4.csv  with row count of:  11500\n",
      "Building File  5 :  TestSCFL_idX_5.csv  with row count of:  11500\n",
      "Building File  6 :  TestSCFL_idX_6.csv  with row count of:  11500\n",
      "Building File  7 :  TestSCFL_idX_7.csv  with row count of:  10066\n",
      "Files Ready.\n",
      "This code was written in Python  3.6.1\n"
     ]
    }
   ],
   "source": [
    "!python file_fragmenter.py -i TestFile_SingleCol-wIndx.csv -o TestSCFL_idX_ -rw 11500 -idx True -odx True"
   ]
  },
  {
   "cell_type": "code",
   "execution_count": 17,
   "metadata": {},
   "outputs": [
    {
     "name": "stdout",
     "output_type": "stream",
     "text": [
      "Input files will be located at:  .\n",
      "args.input_index is set to: <class 'bool'> True\n",
      "args.output_index is set to: <class 'bool'> True\n",
      "Adding This File To Output:  TestSCFL_idX_1.csv\n",
      "Adding This File To Output:  TestSCFL_idX_2.csv\n",
      "Adding This File To Output:  TestSCFL_idX_3.csv\n",
      "Adding This File To Output:  TestSCFL_idX_4.csv\n",
      "Adding This File To Output:  TestSCFL_idX_5.csv\n",
      "Adding This File To Output:  TestSCFL_idX_6.csv\n",
      "Adding This File To Output:  TestSCFL_idX_7.csv\n",
      "The DF Index will be output giving each data row an index field value.\n",
      "Output File Created:   TstSCFL_idX_Out.csv\n",
      "This code was written in Python  3.6.1\n"
     ]
    }
   ],
   "source": [
    "!python file_fuser.py -i TestSCFL_idX_ -o TstSCFL_idX_Out.csv -idx True -odx True"
   ]
  },
  {
   "cell_type": "code",
   "execution_count": 18,
   "metadata": {},
   "outputs": [
    {
     "name": "stdout",
     "output_type": "stream",
     "text": [
      "Input files will be located at:  .\n",
      "args.input_index is set to: <class 'bool'> True\n",
      "args.output_index is set to: <class 'bool'> False\n",
      "Adding This File To Output:  TestSCFL_idX_1.csv\n",
      "Adding This File To Output:  TestSCFL_idX_2.csv\n",
      "Adding This File To Output:  TestSCFL_idX_3.csv\n",
      "Adding This File To Output:  TestSCFL_idX_4.csv\n",
      "Adding This File To Output:  TestSCFL_idX_5.csv\n",
      "Adding This File To Output:  TestSCFL_idX_6.csv\n",
      "Adding This File To Output:  TestSCFL_idX_7.csv\n",
      "If the input files have an index, this will be dropped during output.\n",
      "Output File Created:   TestSCFL_idX_Out.csv\n",
      "This code was written in Python  3.6.1\n"
     ]
    }
   ],
   "source": [
    "!python file_fuser.py --inputStart TestSCFL_idX_ --output TestSCFL_idX_Out.csv --input_index True"
   ]
  },
  {
   "cell_type": "markdown",
   "metadata": {},
   "source": [
    "Final test involving a large file.  Lack of --numRows (or -rw) argument means code will default to 10,000 rows per file."
   ]
  },
  {
   "cell_type": "code",
   "execution_count": 19,
   "metadata": {},
   "outputs": [
    {
     "name": "stdout",
     "output_type": "stream",
     "text": [
      "Input files to split:  TestFileLarge.csv\n",
      "args.input_index is set to: <class 'bool'> False\n",
      "args.output_index is set to: <class 'bool'> False\n",
      "Your file has  166106  rows excluding the header row.\n",
      "Splitting source file into  17  smaller files.\n",
      "Please wait ...\n",
      "Building File  1 :  TestFileLrgFrag1.csv  with row count of:  10000\n",
      "Building File  2 :  TestFileLrgFrag2.csv  with row count of:  10000\n",
      "Building File  3 :  TestFileLrgFrag3.csv  with row count of:  10000\n",
      "Building File  4 :  TestFileLrgFrag4.csv  with row count of:  10000\n",
      "Building File  5 :  TestFileLrgFrag5.csv  with row count of:  10000\n",
      "Building File  6 :  TestFileLrgFrag6.csv  with row count of:  10000\n",
      "Building File  7 :  TestFileLrgFrag7.csv  with row count of:  10000\n",
      "Building File  8 :  TestFileLrgFrag8.csv  with row count of:  10000\n",
      "Building File  9 :  TestFileLrgFrag9.csv  with row count of:  10000\n",
      "Building File  10 :  TestFileLrgFrag10.csv  with row count of:  10000\n",
      "Building File  11 :  TestFileLrgFrag11.csv  with row count of:  10000\n",
      "Building File  12 :  TestFileLrgFrag12.csv  with row count of:  10000\n",
      "Building File  13 :  TestFileLrgFrag13.csv  with row count of:  10000\n",
      "Building File  14 :  TestFileLrgFrag14.csv  with row count of:  10000\n",
      "Building File  15 :  TestFileLrgFrag15.csv  with row count of:  10000\n",
      "Building File  16 :  TestFileLrgFrag16.csv  with row count of:  10000\n",
      "Building File  17 :  TestFileLrgFrag17.csv  with row count of:  6106\n",
      "Files Ready.\n",
      "This code was written in Python  3.6.1\n"
     ]
    }
   ],
   "source": [
    "!python file_fragmenter.py -i TestFileLarge.csv -o TestFileLrgFrag"
   ]
  },
  {
   "cell_type": "code",
   "execution_count": 21,
   "metadata": {},
   "outputs": [
    {
     "name": "stdout",
     "output_type": "stream",
     "text": [
      "Input files will be located at:  .\n",
      "args.input_index is set to: <class 'bool'> False\n",
      "args.output_index is set to: <class 'bool'> False\n",
      "Adding This File To Output:  TestFileLrgFrag1.csv\n",
      "Adding This File To Output:  TestFileLrgFrag10.csv\n",
      "Adding This File To Output:  TestFileLrgFrag11.csv\n",
      "Adding This File To Output:  TestFileLrgFrag12.csv\n",
      "Adding This File To Output:  TestFileLrgFrag13.csv\n",
      "Adding This File To Output:  TestFileLrgFrag14.csv\n",
      "Adding This File To Output:  TestFileLrgFrag15.csv\n",
      "Adding This File To Output:  TestFileLrgFrag16.csv\n",
      "Adding This File To Output:  TestFileLrgFrag17.csv\n",
      "Adding This File To Output:  TestFileLrgFrag2.csv\n",
      "Adding This File To Output:  TestFileLrgFrag3.csv\n",
      "Adding This File To Output:  TestFileLrgFrag4.csv\n",
      "Adding This File To Output:  TestFileLrgFrag5.csv\n",
      "Adding This File To Output:  TestFileLrgFrag6.csv\n",
      "Adding This File To Output:  TestFileLrgFrag7.csv\n",
      "Adding This File To Output:  TestFileLrgFrag8.csv\n",
      "Adding This File To Output:  TestFileLrgFrag9.csv\n",
      "If the input files have an index, this will be dropped during output.\n",
      "Output File Created:   TestFileLarge_Out.csv\n",
      "This code was written in Python  3.6.1\n"
     ]
    }
   ],
   "source": [
    "!python file_fuser.py -i TestFileLrgFrag -o TestFileLarge_Out.csv"
   ]
  },
  {
   "cell_type": "code",
   "execution_count": null,
   "metadata": {
    "collapsed": true
   },
   "outputs": [],
   "source": [
    "# The End"
   ]
  }
 ],
 "metadata": {
  "kernelspec": {
   "display_name": "Python 3",
   "language": "python",
   "name": "python3"
  },
  "language_info": {
   "codemirror_mode": {
    "name": "ipython",
    "version": 3
   },
   "file_extension": ".py",
   "mimetype": "text/x-python",
   "name": "python",
   "nbconvert_exporter": "python",
   "pygments_lexer": "ipython3",
   "version": "3.6.1"
  }
 },
 "nbformat": 4,
 "nbformat_minor": 2
}
