{
 "cells": [
  {
   "cell_type": "code",
   "execution_count": 2,
   "metadata": {},
   "outputs": [
    {
     "name": "stdout",
     "output_type": "stream",
     "text": [
      "\u001b[31mfile_fragmenter-v1.py\u001b[m\u001b[m \u001b[31mfile_fuser-v1.py\u001b[m\u001b[m      \u001b[31mtest_argv1.py\u001b[m\u001b[m\r\n",
      "\u001b[31mfile_fragmenter-v2.py\u001b[m\u001b[m \u001b[31mfile_fuser.py\u001b[m\u001b[m\r\n",
      "\u001b[31mfile_fragmenter.py\u001b[m\u001b[m    \u001b[31mtest_argLst.py\u001b[m\u001b[m\r\n"
     ]
    }
   ],
   "source": [
    "!ls *.py"
   ]
  },
  {
   "cell_type": "code",
   "execution_count": 5,
   "metadata": {},
   "outputs": [
    {
     "name": "stdout",
     "output_type": "stream",
     "text": [
      "\u001b[31mTestFileSmall.csv\u001b[m\u001b[m  \u001b[31mTestFileSmall2.csv\u001b[m\u001b[m\r\n"
     ]
    }
   ],
   "source": [
    "!ls Test*.csv"
   ]
  },
  {
   "cell_type": "markdown",
   "metadata": {},
   "source": [
    "Next cell tests a python script that must be run at the command line.  This notebook provides the visual of all the output messages that get generated as the script runs (and fragments a single file into many files)."
   ]
  },
  {
   "cell_type": "code",
   "execution_count": 6,
   "metadata": {},
   "outputs": [
    {
     "name": "stdout",
     "output_type": "stream",
     "text": [
      "Your file has  108  rows excluding the header row.\n",
      "The DF Index will be output giving each data row a unique number starting at 0.\n",
      "To exclude these numbers, set index_labels to False (recommended if files will be imported to R).\n",
      "Splitting source file into  4  smaller files.\n",
      "Please wait ...\n",
      "Building File  1 :  TestFlSmFrag1.csv\n",
      "Building File  2 :  TestFlSmFrag2.csv\n",
      "Building File  3 :  TestFlSmFrag3.csv\n",
      "Building File  4 :  TestFlSmFrag4.csv\n",
      "Files Ready.\n"
     ]
    }
   ],
   "source": [
    "!python file_fragmenter.py -i TestFileSmall.csv -o TestFlSmFrag -rw 27 --output_index True"
   ]
  },
  {
   "cell_type": "code",
   "execution_count": 8,
   "metadata": {},
   "outputs": [
    {
     "name": "stdout",
     "output_type": "stream",
     "text": [
      "TestFlSmFrag1.csv TestFlSmFrag2.csv TestFlSmFrag3.csv TestFlSmFrag4.csv\r\n"
     ]
    }
   ],
   "source": [
    "!ls TestFlS*.csv"
   ]
  },
  {
   "cell_type": "code",
   "execution_count": 10,
   "metadata": {},
   "outputs": [],
   "source": [
    "# The End"
   ]
  },
  {
   "cell_type": "code",
   "execution_count": null,
   "metadata": {
    "collapsed": true
   },
   "outputs": [],
   "source": []
  }
 ],
 "metadata": {
  "kernelspec": {
   "display_name": "Python 3",
   "language": "python",
   "name": "python3"
  },
  "language_info": {
   "codemirror_mode": {
    "name": "ipython",
    "version": 3
   },
   "file_extension": ".py",
   "mimetype": "text/x-python",
   "name": "python",
   "nbconvert_exporter": "python",
   "pygments_lexer": "ipython3",
   "version": "3.6.1"
  }
 },
 "nbformat": 4,
 "nbformat_minor": 2
}
