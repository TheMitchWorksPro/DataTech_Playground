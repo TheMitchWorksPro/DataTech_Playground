{
 "cells": [
  {
   "cell_type": "markdown",
   "metadata": {},
   "source": [
    "# Mathematical Examples Using Latex\n",
    "\n",
    "This NB presents sample LaTex output followed by source code.  To do this, source code is presented as comments in an iPython coding cell immediately following a mark-down cell that displays what the code does.  A good website for finding out more LaTex syntax is:  [LaTex Exchange](http://tex.stackexchange.com/).  For working with whitespace:  [LaTexPrimer - whitespace topic](http://www.maths.tcd.ie/~dwilkins/LaTeXPrimer/WhiteSpace.html)\n",
    "\n",
    "## Random Basic Syntax Examples"
   ]
  },
  {
   "cell_type": "markdown",
   "metadata": {},
   "source": [
    "$5\\times 5$"
   ]
  },
  {
   "cell_type": "code",
   "execution_count": 1,
   "metadata": {
    "collapsed": true
   },
   "outputs": [],
   "source": [
    "# $5\\times 5$"
   ]
  },
  {
   "cell_type": "markdown",
   "metadata": {},
   "source": [
    "$3 \\times 3$ matrix"
   ]
  },
  {
   "cell_type": "code",
   "execution_count": null,
   "metadata": {
    "collapsed": true
   },
   "outputs": [],
   "source": [
    "# $3 \\times 3$ matrix"
   ]
  },
  {
   "cell_type": "markdown",
   "metadata": {},
   "source": [
    "$\\vec j \\times \\vec k = \\vec{\\imath}$"
   ]
  },
  {
   "cell_type": "code",
   "execution_count": 2,
   "metadata": {
    "collapsed": true
   },
   "outputs": [],
   "source": [
    "# \\vec j \\times \\vec k = \\vec{\\imath}\n",
    "# this code was supposed to be \"cross product vector product"
   ]
  },
  {
   "cell_type": "markdown",
   "metadata": {},
   "source": [
    "$5\\cdot 5$ $\\hspace{7mm}$ $7 . 8$ $\\hspace{7mm}$ $\\ddot A$ $\\hspace{7mm}$  $\\dddot B$ $\\hspace{7mm}$ $\\ddddot C$ $\\hspace{7mm}$ \n",
    "$5\\dots 5$ $\\hspace{7mm}$ $4\\ldots 4$ $\\hspace{7mm}$  $\\( \\dot x \\)$"
   ]
  },
  {
   "cell_type": "code",
   "execution_count": 3,
   "metadata": {
    "collapsed": true
   },
   "outputs": [],
   "source": [
    "# this code was in answer to a question about Norwegian notation for '\\times' (which is dot):\n",
    "# $5\\cdot 5$\n",
    "# then there were comments about \"other dots as well\":\n",
    "#    $7 . 8$     $\\ddot A$     $7 . 8$     $\\ddot A$     $\\dddot B$     $\\ddddot C$     $5\\dots 5$     $4\\ldots 4$\n",
    "\n",
    "# to generate the horizontal whitespace between them (10mm is how much):\n",
    "# $first-thing$ $\\hspace{10mm}$ $second-thing$\n",
    "# help indicates you use \\hspace* to avoid breaking across line breaks, but this does not seem to work in this Jupyter NB\n",
    "\n",
    "# more coding examples starting from the first one with a red \\ at the start of it\n",
    "#  $\\( \\dot x \\)$     \n"
   ]
  },
  {
   "cell_type": "markdown",
   "metadata": {},
   "source": [
    "$2.5 \\times 10^3 \\cdot 3 \\times 10^2$"
   ]
  },
  {
   "cell_type": "code",
   "execution_count": 4,
   "metadata": {
    "collapsed": true
   },
   "outputs": [],
   "source": [
    "# 2.5 \\times 10^3 \\cdot 3 \\times 10^2"
   ]
  },
  {
   "cell_type": "markdown",
   "metadata": {},
   "source": [
    "$\\binom {s}{t-1}$ $\\hspace{10mm}$ $\\binom {1 2 3 4}{5 6 7 8}$ "
   ]
  },
  {
   "cell_type": "markdown",
   "metadata": {},
   "source": [
    "Links to return to later:\n",
    "- http://tex.stackexchange.com/\n",
    "- https://en.wikipedia.org/wiki/Notation_for_differentiation\n",
    "- http://ctan.org/pkg/amsmath\n",
    "- http://www.maths.tcd.ie/~dwilkins/LaTeXPrimer/WhiteSpace.html\n",
    "- https://tex.stackexchange.com/questions/366015/stacking-words-above-an-equal-sign\n",
    "- http://stackoverflow.com/questions/20749444/converting-r-matrix-into-latex-matrix-in-the-math-or-equation-environment"
   ]
  },
  {
   "cell_type": "code",
   "execution_count": null,
   "metadata": {
    "collapsed": true
   },
   "outputs": [],
   "source": []
  },
  {
   "cell_type": "markdown",
   "metadata": {},
   "source": [
    "## For Future Research\n",
    "### International Considerations\n",
    "You can for example do `\\let\\times\\cdot` in the preamble of your document. That way, if your document ever gets translated to another language, the translator does not have to go and change all the math equations and formulas, they just need to replace your `\\let` command by, for example, `\\let\\times\\longrightarrow` if they are translating to a language in which multiplication is denoted by a long right arrow.  This content quoted from a comment on [this web page](http://tex.stackexchange.com/questions/55957/how-do-you-write-times)."
   ]
  },
  {
   "cell_type": "code",
   "execution_count": null,
   "metadata": {
    "collapsed": true
   },
   "outputs": [],
   "source": []
  }
 ],
 "metadata": {
  "anaconda-cloud": {},
  "kernelspec": {
   "display_name": "Python [conda root]",
   "language": "python",
   "name": "conda-root-py"
  },
  "language_info": {
   "codemirror_mode": {
    "name": "ipython",
    "version": 2
   },
   "file_extension": ".py",
   "mimetype": "text/x-python",
   "name": "python",
   "nbconvert_exporter": "python",
   "pygments_lexer": "ipython2",
   "version": "2.7.13"
  }
 },
 "nbformat": 4,
 "nbformat_minor": 2
}
