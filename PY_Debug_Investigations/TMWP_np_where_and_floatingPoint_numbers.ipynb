{
 "cells": [
  {
   "cell_type": "markdown",
   "metadata": {},
   "source": [
    "<div align=\"right\">Python 3.6 [PY36 Env]</div>"
   ]
  },
  {
   "cell_type": "markdown",
   "metadata": {},
   "source": [
    "# np.where() and Random Floating Point Numbers\n",
    "This content was created to investigate a problem that originally looked more complex than it was.  This example shows something to look out for when using `np.where()` for the simplest test to find the index of a floating point number in a numpy array.  The real problem here isn't with `np.where()` but rather, with getting Python to display the true underlyng floating number so we can test with it.  These tests should shed some light on the level of precision one can expect when using `np.where()` with floating point numbers.\n",
    "\n",
    "Though this content was created in Python 3.6, it is expected to work the same in Python 2.7.  Most of it was originally created and tested under Python 2.7 first before simplifying the content into a more cohesive story for this write-up."
   ]
  },
  {
   "cell_type": "code",
   "execution_count": 2,
   "metadata": {
    "collapsed": false
   },
   "outputs": [],
   "source": [
    "import numpy as np"
   ]
  },
  {
   "cell_type": "code",
   "execution_count": 3,
   "metadata": {
    "collapsed": false
   },
   "outputs": [
    {
     "data": {
      "text/plain": [
       "array([[[ 0.72005073,  0.11109093,  0.68028471,  0.95046754,  0.12395542],\n",
       "        [ 0.91113282,  0.93291227,  0.88059964,  0.6405939 ,  0.44233101],\n",
       "        [ 0.30116737,  0.29999162,  0.15315462,  0.89932621,  0.85077063],\n",
       "        [ 0.86296231,  0.16234297,  0.36499936,  0.70494879,  0.44010862]],\n",
       "\n",
       "       [[ 0.01374351,  0.5563092 ,  0.60554606,  0.17335924,  0.80520799],\n",
       "        [ 0.35663633,  0.51720075,  0.67551499,  0.88688033,  0.00112873],\n",
       "        [ 0.27817067,  0.29122932,  0.24188921,  0.82422563,  0.35326511],\n",
       "        [ 0.72938731,  0.85729267,  0.7299159 ,  0.02867732,  0.37095061]],\n",
       "\n",
       "       [[ 0.69498848,  0.03304285,  0.92535693,  0.67561394,  0.53754546],\n",
       "        [ 0.7359454 ,  0.2463966 ,  0.02519301,  0.86923853,  0.98044879],\n",
       "        [ 0.0297628 ,  0.21868526,  0.26389986,  0.39412533,  0.92344829],\n",
       "        [ 0.85994709,  0.54386487,  0.47746197,  0.44148437,  0.28145823]]])"
      ]
     },
     "execution_count": 3,
     "metadata": {},
     "output_type": "execute_result"
    }
   ],
   "source": [
    "m3d=np.random.rand(3,4,5)\n",
    "m3d"
   ]
  },
  {
   "cell_type": "code",
   "execution_count": 4,
   "metadata": {
    "collapsed": false
   },
   "outputs": [
    {
     "data": {
      "text/plain": [
       "0.64059390171803487"
      ]
     },
     "execution_count": 4,
     "metadata": {},
     "output_type": "execute_result"
    }
   ],
   "source": [
    "m3d[0][1][3]"
   ]
  },
  {
   "cell_type": "code",
   "execution_count": 79,
   "metadata": {
    "collapsed": false
   },
   "outputs": [
    {
     "name": "stdout",
     "output_type": "stream",
     "text": [
      "0.640593901718\n",
      "0.640593901718\n",
      "0.640593901718\n"
     ]
    },
    {
     "data": {
      "text/plain": [
       "'0.640593901718'"
      ]
     },
     "execution_count": 79,
     "metadata": {},
     "output_type": "execute_result"
    }
   ],
   "source": [
    "# none of these will show us the full floating point number:\n",
    "\n",
    "print(m3d[0][1][3])\n",
    "print(\"%s\" %m3d[0][1][3])\n",
    "print(m3d[0][1][3]*1.0000000000000000)\n",
    "str(m3d[0][1][3])"
   ]
  },
  {
   "cell_type": "code",
   "execution_count": 80,
   "metadata": {
    "collapsed": false
   },
   "outputs": [
    {
     "name": "stdout",
     "output_type": "stream",
     "text": [
      "0.64059390171803487\n",
      "0.64059390171803487490\n",
      "0.6405939017180348749036511\n",
      "0.640593901718034874903651143541\n",
      "0.640593901718034874903651143540628254413604736328125000000000\n"
     ]
    }
   ],
   "source": [
    "# worse:  what is the full number?  Consider these tests using a formatter to increase the number of decimal places.\n",
    "\n",
    "print(\"{0:.17f}\".format(m3d[0][1][3]))  # this level of precision works with where tests that follow\n",
    "print(\"{0:.20f}\".format(m3d[0][1][3]))  # but there is still more to uncover ...\n",
    "print(\"{0:.25f}\".format(m3d[0][1][3]))\n",
    "print(\"{0:.30f}\".format(m3d[0][1][3]))\n",
    "print(\"{0:.60f}\".format(m3d[0][1][3]))"
   ]
  },
  {
   "cell_type": "code",
   "execution_count": 81,
   "metadata": {
    "collapsed": false
   },
   "outputs": [
    {
     "name": "stdout",
     "output_type": "stream",
     "text": [
      "0.64059390171803487\n"
     ]
    }
   ],
   "source": [
    "# one final idea to see the whole number:\n",
    "print(\"%r\" %m3d[0][1][3])  # this gets enough digits for an np.where() test even though there are more hidden digits\n",
    "                           # this is illustrated further in the content that follows"
   ]
  },
  {
   "cell_type": "code",
   "execution_count": 9,
   "metadata": {
    "collapsed": false
   },
   "outputs": [
    {
     "name": "stdout",
     "output_type": "stream",
     "text": [
      "(array([], dtype=int64), array([], dtype=int64), array([], dtype=int64))\n"
     ]
    }
   ],
   "source": [
    "print(np.where(m3d==0.640593901718))        # not found because it is not an exact match (to enough decimal places)"
   ]
  },
  {
   "cell_type": "code",
   "execution_count": 10,
   "metadata": {
    "collapsed": false
   },
   "outputs": [
    {
     "name": "stdout",
     "output_type": "stream",
     "text": [
      "(array([0], dtype=int64), array([1], dtype=int64), array([3], dtype=int64))\n"
     ]
    }
   ],
   "source": [
    "print(np.where(m3d==0.64059390171803487))  # found:  it is an exact match (on a sufficient number of decimal places)"
   ]
  },
  {
   "cell_type": "code",
   "execution_count": 47,
   "metadata": {
    "collapsed": false
   },
   "outputs": [
    {
     "name": "stdout",
     "output_type": "stream",
     "text": [
      "0.640593901718\n",
      "0.640593901718034874903651143541\n"
     ]
    }
   ],
   "source": [
    "print(m3d[0][1][3])                    # index indicated above\n",
    "print(\"{0:.30}\".format(m3d[0][1][3]))  # printed out to 30 decimal places ...\n",
    "                                       # note that we found the number by matching to about 17 decimal places"
   ]
  },
  {
   "cell_type": "code",
   "execution_count": 32,
   "metadata": {
    "collapsed": false
   },
   "outputs": [
    {
     "name": "stdout",
     "output_type": "stream",
     "text": [
      "0.6405939017180349\n"
     ]
    },
    {
     "data": {
      "text/plain": [
       "(array([0], dtype=int64),)"
      ]
     },
     "execution_count": 32,
     "metadata": {},
     "output_type": "execute_result"
    }
   ],
   "source": [
    "simpTest = [0.64059390171803487]  # this confirms the problem is with floating points, not specifically random numbers\n",
    "print(simpTest[0])                # specifically, print() rounds the fp # so we don't know its true value\n",
    "                                  # to a high enough degree of precision to work with np.where()\n",
    "    \n",
    "np.where(np.array(simpTest)==0.64059390171803487)"
   ]
  },
  {
   "cell_type": "code",
   "execution_count": 29,
   "metadata": {
    "collapsed": false
   },
   "outputs": [
    {
     "data": {
      "text/plain": [
       "array([ 0.6405939,  0.6405939])"
      ]
     },
     "execution_count": 29,
     "metadata": {},
     "output_type": "execute_result"
    }
   ],
   "source": [
    "simpTest = np.array(simpTest)\n",
    "simpTest = np.append(simpTest, [0.64059390171803487])\n",
    "simpTest  # both numbers are as entered above, note how they display"
   ]
  },
  {
   "cell_type": "code",
   "execution_count": 31,
   "metadata": {
    "collapsed": false
   },
   "outputs": [
    {
     "data": {
      "text/plain": [
       "(array([0, 1], dtype=int64),)"
      ]
     },
     "execution_count": 31,
     "metadata": {},
     "output_type": "execute_result"
    }
   ],
   "source": [
    "np.where(simpTest==0.64059390171803487)  # this works:  matches on both copies of the number"
   ]
  },
  {
   "cell_type": "code",
   "execution_count": 38,
   "metadata": {
    "collapsed": false
   },
   "outputs": [
    {
     "name": "stdout",
     "output_type": "stream",
     "text": [
      "<class 'numpy.ndarray'>\n"
     ]
    }
   ],
   "source": [
    "complexTest = np.array([[[ 0.72005073,  0.11109093,  0.68028471,  0.95046754,  0.12395542],\n",
    "        [ 0.64059390171803487,  0.93291227,  0.88059964,  0.640593901718 ,  0.44233101],\n",
    "        [ 0.30116737,  0.29999162,  0.15315462,  0.89932621,  0.85077063],\n",
    "        [ 0.86296231,  0.16234297,  0.36499936,  0.70494879,  0.44010862]],\n",
    "\n",
    "       [[ 0.01374351,  0.5563092 ,  0.60554606,  0.17335924,  0.80520799],\n",
    "        [ 0.35663633,  0.51720075,  0.67551499,  0.88688033,  0.00112873],\n",
    "        [ 0.27817067,  0.29122932,  0.64059390171803487,  0.82422563,  0.35326511],\n",
    "        [ 0.72938731,  0.85729267,  0.7299159 ,  0.02867732,  0.37095061]],\n",
    "\n",
    "       [[ 0.69498848,  0.03304285,  0.92535693,  0.67561394,  0.53754546],\n",
    "        [ 0.7359454 ,  0.2463966 ,  0.02519301,  0.86923853,  0.98044879],\n",
    "        [ 0.0297628 ,  0.21868526,  0.26389986,  0.39412533,  0.92344829],\n",
    "        [ 0.85994709,  0.54386487,  0.47746197,  0.44148437,  0.64059390171803487]]])\n",
    "print(type(complexTest))"
   ]
  },
  {
   "cell_type": "code",
   "execution_count": 39,
   "metadata": {
    "collapsed": false
   },
   "outputs": [
    {
     "name": "stdout",
     "output_type": "stream",
     "text": [
      "(array([0], dtype=int64), array([0], dtype=int64), array([1], dtype=int64))\n"
     ]
    }
   ],
   "source": [
    "print(np.where(complexTest==0.11109093))"
   ]
  },
  {
   "cell_type": "code",
   "execution_count": 40,
   "metadata": {
    "collapsed": false
   },
   "outputs": [
    {
     "name": "stdout",
     "output_type": "stream",
     "text": [
      "(array([0], dtype=int64), array([1], dtype=int64), array([3], dtype=int64))\n"
     ]
    }
   ],
   "source": [
    "print(np.where(complexTest==0.640593901718))      # this number is in the data structure once"
   ]
  },
  {
   "cell_type": "code",
   "execution_count": 41,
   "metadata": {
    "collapsed": false
   },
   "outputs": [
    {
     "name": "stdout",
     "output_type": "stream",
     "text": [
      "(array([0, 1, 2], dtype=int64), array([1, 2, 3], dtype=int64), array([0, 2, 4], dtype=int64))\n"
     ]
    }
   ],
   "source": [
    "print(np.where(complexTest==0.64059390171803487)) # this more specific number is in the data structure 3 times"
   ]
  },
  {
   "cell_type": "code",
   "execution_count": 48,
   "metadata": {
    "collapsed": true
   },
   "outputs": [],
   "source": [
    "answer = [0, 0, 0]\n",
    "answer[0] = np.where(complexTest==0.11109093)\n",
    "answer[1] = np.where(complexTest==0.640593901718)\n",
    "answer[2] = np.where(complexTest==0.64059390171803487)"
   ]
  },
  {
   "cell_type": "code",
   "execution_count": 49,
   "metadata": {
    "collapsed": false
   },
   "outputs": [
    {
     "data": {
      "text/plain": [
       "[(array([0], dtype=int64), array([0], dtype=int64), array([1], dtype=int64)),\n",
       " (array([0], dtype=int64), array([1], dtype=int64), array([3], dtype=int64)),\n",
       " (array([0, 1, 2], dtype=int64),\n",
       "  array([1, 2, 3], dtype=int64),\n",
       "  array([0, 2, 4], dtype=int64))]"
      ]
     },
     "execution_count": 49,
     "metadata": {},
     "output_type": "execute_result"
    }
   ],
   "source": [
    "answer"
   ]
  },
  {
   "cell_type": "code",
   "execution_count": 59,
   "metadata": {
    "collapsed": false
   },
   "outputs": [
    {
     "name": "stdout",
     "output_type": "stream",
     "text": [
      "complexTest[0][0][1]\n",
      "complexTest[0][1][3]\n",
      "complexTest[0][1][0]\n",
      "complexTest[1][2][2]\n",
      "complexTest[2][3][4]\n"
     ]
    }
   ],
   "source": [
    "# assembling the answers provided above ...\n",
    "\n",
    "print(\"complexTest\" + str(answer[0][0]) + str(answer[0][1]) + str(answer[0][2]))\n",
    "print(\"complexTest\" + str(answer[1][0]) + str(answer[1][1]) + str(answer[1][2]))\n",
    "\n",
    "print(\"complexTest\" + str([answer[2][0][0]]) + str([answer[2][1][0]]) + str([answer[2][2][0]]))\n",
    "print(\"complexTest\" + str([answer[2][0][1]]) + str([answer[2][1][1]]) + str([answer[2][2][1]]))\n",
    "print(\"complexTest\" + str([answer[2][0][2]]) + str([answer[2][1][2]]) + str([answer[2][2][2]]))"
   ]
  },
  {
   "cell_type": "code",
   "execution_count": 62,
   "metadata": {
    "collapsed": false
   },
   "outputs": [
    {
     "name": "stdout",
     "output_type": "stream",
     "text": [
      "0.11109093\n",
      "0.640593901718\n",
      "0.64059390171803487\n",
      "0.64059390171803487\n",
      "0.64059390171803487\n"
     ]
    }
   ],
   "source": [
    "# confirming they are right:\n",
    "print(complexTest[0][0][1])\n",
    "print(complexTest[0][1][3])\n",
    "print(\"{0:.17}\".format(complexTest[0][1][0]))\n",
    "print(\"{0:.17}\".format(complexTest[1][2][2]))\n",
    "print(\"{0:.17}\".format(complexTest[2][3][4]))"
   ]
  },
  {
   "cell_type": "code",
   "execution_count": 78,
   "metadata": {
    "collapsed": false
   },
   "outputs": [
    {
     "name": "stdout",
     "output_type": "stream",
     "text": [
      "(array([1], dtype=int64), array([1], dtype=int64))\n",
      "(array([6], dtype=int64), array([0], dtype=int64))\n",
      "(array([5], dtype=int64), array([0], dtype=int64))\n",
      "(array([4], dtype=int64), array([0], dtype=int64))\n",
      "(array([3], dtype=int64), array([0], dtype=int64))\n",
      "(array([2], dtype=int64), array([0], dtype=int64))\n",
      "(array([0, 0, 1], dtype=int64), array([0, 1, 0], dtype=int64))\n",
      "(array([0, 0, 1], dtype=int64), array([0, 1, 0], dtype=int64))\n",
      "(array([0, 0, 1], dtype=int64), array([0, 1, 0], dtype=int64))\n"
     ]
    }
   ],
   "source": [
    "# Determining the level of precision\n",
    "\n",
    "testFrag = np.array([ [ 0.640593901718134878,  0.64059390171813486,  0.88059969,  0.95046754,  0.12395542],\n",
    "                      [ 0.64059390171813487,  0.93291227,  0.88059964,  0.86296231,  0.44233101],\n",
    "                      [ 0.6405939017181348,  0.29999162,  0.15315462,  0.89932621,  0.85077063],\n",
    "                      [ 0.640593901718134,     0.16234297,  0.30116737,  0.70494879,  0.44010862],\n",
    "                      [ 0.64059390171813,  0.93291228,  0.88059964,  0.86296231,  0.44233101],\n",
    "                      [ 0.6405939017181,  0.29999188,  0.15315462,  0.89932621,  0.85077063],\n",
    "                      [ 0.640593901718,     0.16234288,  0.30116737,  0.70494879,  0.44010862]]\n",
    "                   )\n",
    "\n",
    "print(np.where(testFrag==0.93291227))           # occurs once\n",
    "print(np.where(testFrag==0.640593901718))       # occurs once, but then we add a digit to each successive test\n",
    "print(np.where(testFrag==0.6405939017181))  \n",
    "print(np.where(testFrag==0.64059390171813)) \n",
    "print(np.where(testFrag==0.640593901718134))\n",
    "print(np.where(testFrag==0.6405939017181348))\n",
    "print(np.where(testFrag==0.64059390171813486))\n",
    "print(np.where(testFrag==0.64059390171813487))\n",
    "print(np.where(testFrag==0.640593901718134878))"
   ]
  },
  {
   "cell_type": "markdown",
   "metadata": {},
   "source": [
    "The above shows that:\n",
    "- Out to 16 decimal places, number is an exact match\n",
    "- At 17 decimal places there is a loss of precision; all numbers w/ 17 decimal places will match numbers that are the same up to 16 decimal places\n",
    "- This is why the last 3 tests all return 3 answers (`np.where()` cannot distinguish between these 3 numbers)\n",
    "- If we don't care about the later places, we can drop all decimal places after 16 and a match will be returned"
   ]
  },
  {
   "cell_type": "markdown",
   "metadata": {},
   "source": [
    "When less precision is needed, we can use `np.isclose()` to find all like numbers in the array.  The level of precision on floating point numbers that it can provide is shown here:"
   ]
  },
  {
   "cell_type": "code",
   "execution_count": 84,
   "metadata": {
    "collapsed": false
   },
   "outputs": [
    {
     "name": "stdout",
     "output_type": "stream",
     "text": [
      "[[False False False False False]\n",
      " [False  True False False False]\n",
      " [False False False False False]\n",
      " [False False False False False]\n",
      " [False  True False False False]\n",
      " [False False False False False]\n",
      " [False False False False False]]\n"
     ]
    }
   ],
   "source": [
    "# np.where() generates a boolean mask of T/F for whether the values in the test array\n",
    "# \"are close\" or not:\n",
    "\n",
    "print(np.isclose(testFrag, 0.93291))"
   ]
  },
  {
   "cell_type": "code",
   "execution_count": 86,
   "metadata": {
    "collapsed": false
   },
   "outputs": [
    {
     "name": "stdout",
     "output_type": "stream",
     "text": [
      "(array([1, 4], dtype=int64), array([1, 1], dtype=int64))\n"
     ]
    }
   ],
   "source": [
    "# combine with np.where() to get the location(s) of matches:\n",
    "print(np.where(np.isclose(testFrag, 0.93291)))"
   ]
  },
  {
   "cell_type": "code",
   "execution_count": 88,
   "metadata": {
    "collapsed": false
   },
   "outputs": [
    {
     "name": "stdout",
     "output_type": "stream",
     "text": [
      "0.93291227\n",
      "0.93291228\n"
     ]
    }
   ],
   "source": [
    "# the close answers found above:\n",
    "print(testFrag[1][1])   \n",
    "print(testFrag[4][1])"
   ]
  },
  {
   "cell_type": "code",
   "execution_count": 89,
   "metadata": {
    "collapsed": false
   },
   "outputs": [
    {
     "name": "stdout",
     "output_type": "stream",
     "text": [
      "(array([], dtype=int64), array([], dtype=int64))\n",
      "(array([], dtype=int64), array([], dtype=int64))\n",
      "(array([], dtype=int64), array([], dtype=int64))\n",
      "(array([], dtype=int64), array([], dtype=int64))\n",
      "(array([0, 0, 1, 2, 3, 4, 5, 6], dtype=int64), array([0, 1, 0, 0, 0, 0, 0, 0], dtype=int64))\n",
      "(array([0, 0, 1, 2, 3, 4, 5, 6], dtype=int64), array([0, 1, 0, 0, 0, 0, 0, 0], dtype=int64))\n",
      "(array([0, 0, 1, 2, 3, 4, 5, 6], dtype=int64), array([0, 1, 0, 0, 0, 0, 0, 0], dtype=int64))\n",
      "(array([0, 0, 1, 2, 3, 4, 5, 6], dtype=int64), array([0, 1, 0, 0, 0, 0, 0, 0], dtype=int64))\n",
      "(array([0, 0, 1, 2, 3, 4, 5, 6], dtype=int64), array([0, 1, 0, 0, 0, 0, 0, 0], dtype=int64))\n",
      "(array([0, 0, 1, 2, 3, 4, 5, 6], dtype=int64), array([0, 1, 0, 0, 0, 0, 0, 0], dtype=int64))\n",
      "(array([0, 0, 1, 2, 3, 4, 5, 6], dtype=int64), array([0, 1, 0, 0, 0, 0, 0, 0], dtype=int64))\n",
      "(array([0, 0, 1, 2, 3, 4, 5, 6], dtype=int64), array([0, 1, 0, 0, 0, 0, 0, 0], dtype=int64))\n",
      "(array([0, 0, 1, 2, 3, 4, 5, 6], dtype=int64), array([0, 1, 0, 0, 0, 0, 0, 0], dtype=int64))\n",
      "(array([0, 0, 1, 2, 3, 4, 5, 6], dtype=int64), array([0, 1, 0, 0, 0, 0, 0, 0], dtype=int64))\n",
      "(array([0, 0, 1, 2, 3, 4, 5, 6], dtype=int64), array([0, 1, 0, 0, 0, 0, 0, 0], dtype=int64))\n",
      "(array([0, 0, 1, 2, 3, 4, 5, 6], dtype=int64), array([0, 1, 0, 0, 0, 0, 0, 0], dtype=int64))\n",
      "(array([0, 0, 1, 2, 3, 4, 5, 6], dtype=int64), array([0, 1, 0, 0, 0, 0, 0, 0], dtype=int64))\n",
      "(array([0, 0, 1, 2, 3, 4, 5, 6], dtype=int64), array([0, 1, 0, 0, 0, 0, 0, 0], dtype=int64))\n"
     ]
    }
   ],
   "source": [
    "# looking for pieces of this number, let's see how np.isclose() behaves on this array\n",
    "# test number: 0.640593901718134878\n",
    "\n",
    "print(np.where(np.isclose(testFrag, 0.6)))\n",
    "print(np.where(np.isclose(testFrag, 0.64)))\n",
    "print(np.where(np.isclose(testFrag, 0.640)))\n",
    "print(np.where(np.isclose(testFrag, 0.6405)))    # needs at least 5 digits to get a match\n",
    "print(np.where(np.isclose(testFrag, 0.64059)))   # once a match is found, precision is the same no matter\n",
    "print(np.where(np.isclose(testFrag, 0.640593)))  # how many digits are added\n",
    "print(np.where(np.isclose(testFrag, 0.6405939)))\n",
    "print(np.where(np.isclose(testFrag, 0.64059390)))\n",
    "print(np.where(np.isclose(testFrag, 0.640593901)))\n",
    "print(np.where(np.isclose(testFrag, 0.6405939017)))\n",
    "print(np.where(np.isclose(testFrag, 0.64059390171)))\n",
    "print(np.where(np.isclose(testFrag, 0.640593901718)))\n",
    "print(np.where(np.isclose(testFrag, 0.6405939017181)))\n",
    "print(np.where(np.isclose(testFrag, 0.64059390171813)))\n",
    "print(np.where(np.isclose(testFrag, 0.640593901718134)))\n",
    "print(np.where(np.isclose(testFrag, 0.6405939017181348)))\n",
    "print(np.where(np.isclose(testFrag, 0.64059390171813487)))\n",
    "print(np.where(np.isclose(testFrag, 0.640593901718134878)))"
   ]
  },
  {
   "cell_type": "code",
   "execution_count": 90,
   "metadata": {
    "collapsed": false
   },
   "outputs": [
    {
     "name": "stdout",
     "output_type": "stream",
     "text": [
      "(array([0], dtype=int64), array([0], dtype=int64))\n",
      "(array([0, 0], dtype=int64), array([1, 2], dtype=int64))\n",
      "(array([0, 0], dtype=int64), array([1, 2], dtype=int64))\n",
      "(array([0], dtype=int64), array([3], dtype=int64))\n",
      "(array([0, 0, 0, 0, 0, 0, 0, 0, 0, 0, 0, 0, 0, 0, 1, 1, 1, 1, 1, 1, 1, 1, 1,\n",
      "       1, 1, 1, 1], dtype=int64), array([ 4,  5,  6,  7,  8,  9, 10, 11, 12, 13, 14, 15, 16, 17,  5,  6,  7,\n",
      "        8,  9, 10, 11, 12, 13, 14, 15, 16, 17], dtype=int64))\n",
      "(array([0, 0, 0, 0, 0, 0, 0, 0, 0, 0, 0, 0, 0, 0, 1, 1, 1, 1, 1, 1, 1, 1, 1,\n",
      "       1, 1, 1, 1], dtype=int64), array([ 4,  5,  6,  7,  8,  9, 10, 11, 12, 13, 14, 15, 16, 17,  5,  6,  7,\n",
      "        8,  9, 10, 11, 12, 13, 14, 15, 16, 17], dtype=int64))\n",
      "(array([0, 0, 0, 0, 0, 0, 0, 0, 0, 0, 0, 0, 0, 0, 1, 1, 1, 1, 1, 1, 1, 1, 1,\n",
      "       1, 1, 1, 1], dtype=int64), array([ 4,  5,  6,  7,  8,  9, 10, 11, 12, 13, 14, 15, 16, 17,  5,  6,  7,\n",
      "        8,  9, 10, 11, 12, 13, 14, 15, 16, 17], dtype=int64))\n",
      "(array([0, 0, 0, 0, 0, 0, 0, 0, 0, 0, 0, 0, 0, 0, 1, 1, 1, 1, 1, 1, 1, 1, 1,\n",
      "       1, 1, 1, 1], dtype=int64), array([ 4,  5,  6,  7,  8,  9, 10, 11, 12, 13, 14, 15, 16, 17,  5,  6,  7,\n",
      "        8,  9, 10, 11, 12, 13, 14, 15, 16, 17], dtype=int64))\n",
      "(array([0, 0, 0, 0, 0, 0, 0, 0, 0, 0, 0, 0, 0, 0, 1, 1, 1, 1, 1, 1, 1, 1, 1,\n",
      "       1, 1, 1, 1], dtype=int64), array([ 4,  5,  6,  7,  8,  9, 10, 11, 12, 13, 14, 15, 16, 17,  5,  6,  7,\n",
      "        8,  9, 10, 11, 12, 13, 14, 15, 16, 17], dtype=int64))\n",
      "(array([0, 0, 0, 0, 0, 0, 0, 0, 0, 0, 0, 0, 0, 0, 1, 1, 1, 1, 1, 1, 1, 1, 1,\n",
      "       1, 1, 1, 1], dtype=int64), array([ 4,  5,  6,  7,  8,  9, 10, 11, 12, 13, 14, 15, 16, 17,  5,  6,  7,\n",
      "        8,  9, 10, 11, 12, 13, 14, 15, 16, 17], dtype=int64))\n",
      "(array([0, 0, 0, 0, 0, 0, 0, 0, 0, 0, 0, 0, 0, 0, 1, 1, 1, 1, 1, 1, 1, 1, 1,\n",
      "       1, 1, 1, 1], dtype=int64), array([ 4,  5,  6,  7,  8,  9, 10, 11, 12, 13, 14, 15, 16, 17,  5,  6,  7,\n",
      "        8,  9, 10, 11, 12, 13, 14, 15, 16, 17], dtype=int64))\n",
      "(array([0, 0, 0, 0, 0, 0, 0, 0, 0, 0, 0, 0, 0, 0, 1, 1, 1, 1, 1, 1, 1, 1, 1,\n",
      "       1, 1, 1, 1], dtype=int64), array([ 4,  5,  6,  7,  8,  9, 10, 11, 12, 13, 14, 15, 16, 17,  5,  6,  7,\n",
      "        8,  9, 10, 11, 12, 13, 14, 15, 16, 17], dtype=int64))\n",
      "(array([0, 0, 0, 0, 0, 0, 0, 0, 0, 0, 0, 0, 0, 0, 1, 1, 1, 1, 1, 1, 1, 1, 1,\n",
      "       1, 1, 1, 1], dtype=int64), array([ 4,  5,  6,  7,  8,  9, 10, 11, 12, 13, 14, 15, 16, 17,  5,  6,  7,\n",
      "        8,  9, 10, 11, 12, 13, 14, 15, 16, 17], dtype=int64))\n",
      "(array([0, 0, 0, 0, 0, 0, 0, 0, 0, 0, 0, 0, 0, 0, 1, 1, 1, 1, 1, 1, 1, 1, 1,\n",
      "       1, 1, 1, 1], dtype=int64), array([ 4,  5,  6,  7,  8,  9, 10, 11, 12, 13, 14, 15, 16, 17,  5,  6,  7,\n",
      "        8,  9, 10, 11, 12, 13, 14, 15, 16, 17], dtype=int64))\n",
      "(array([0, 0, 0, 0, 0, 0, 0, 0, 0, 0, 0, 0, 0, 0, 1, 1, 1, 1, 1, 1, 1, 1, 1,\n",
      "       1, 1, 1, 1], dtype=int64), array([ 4,  5,  6,  7,  8,  9, 10, 11, 12, 13, 14, 15, 16, 17,  5,  6,  7,\n",
      "        8,  9, 10, 11, 12, 13, 14, 15, 16, 17], dtype=int64))\n",
      "(array([0, 0, 0, 0, 0, 0, 0, 0, 0, 0, 0, 0, 0, 0, 1, 1, 1, 1, 1, 1, 1, 1, 1,\n",
      "       1, 1, 1, 1], dtype=int64), array([ 4,  5,  6,  7,  8,  9, 10, 11, 12, 13, 14, 15, 16, 17,  5,  6,  7,\n",
      "        8,  9, 10, 11, 12, 13, 14, 15, 16, 17], dtype=int64))\n",
      "(array([0, 0, 0, 0, 0, 0, 0, 0, 0, 0, 0, 0, 0, 0, 1, 1, 1, 1, 1, 1, 1, 1, 1,\n",
      "       1, 1, 1, 1], dtype=int64), array([ 4,  5,  6,  7,  8,  9, 10, 11, 12, 13, 14, 15, 16, 17,  5,  6,  7,\n",
      "        8,  9, 10, 11, 12, 13, 14, 15, 16, 17], dtype=int64))\n",
      "(array([0, 0, 0, 0, 0, 0, 0, 0, 0, 0, 0, 0, 0, 0, 1, 1, 1, 1, 1, 1, 1, 1, 1,\n",
      "       1, 1, 1, 1], dtype=int64), array([ 4,  5,  6,  7,  8,  9, 10, 11, 12, 13, 14, 15, 16, 17,  5,  6,  7,\n",
      "        8,  9, 10, 11, 12, 13, 14, 15, 16, 17], dtype=int64))\n"
     ]
    }
   ],
   "source": [
    "testFrag2 = np.array([[0.6, 0.64, 0.640, 0.6405, 0.64059, 0.640593, \n",
    "                      0.6405939, 0.64059390, 0.640593901, 0.6405939017, \n",
    "                      0.64059390171, 0.640593901718, 0.6405939017181, 0.64059390171813, \n",
    "                      0.640593901718134, 0.6405939017181348, 0.64059390171813487, 0.640593901718134878 ],\n",
    "                      \n",
    "                      [0.7, 0.63, 0.641, 0.6404, 0.64058, 0.640594, \n",
    "                      0.6405938, 0.64059391, 0.640593902, 0.6405939018, \n",
    "                      0.64059390172, 0.640593901717, 0.6405939017182, 0.64059390171814, \n",
    "                      0.640593901718135, 0.6405939017181349, 0.64059390171813488, 0.640593901718134879 ]\n",
    "                     ])\n",
    "\n",
    "# this fragment has all test cases from previous cell + a second copy where the last digit of each case is changed\n",
    "# this comparison corroborates assumptions about previous test\n",
    "\n",
    "print(np.where(np.isclose(testFrag2, 0.6)))\n",
    "print(np.where(np.isclose(testFrag2, 0.64)))\n",
    "print(np.where(np.isclose(testFrag2, 0.640)))\n",
    "print(np.where(np.isclose(testFrag2, 0.6405)))    # needs at least 5 digits to get a match\n",
    "print(np.where(np.isclose(testFrag2, 0.64059)))   # once a match is found, precision is the same no matter\n",
    "print(np.where(np.isclose(testFrag2, 0.640593)))  # how many digits are added\n",
    "print(np.where(np.isclose(testFrag2, 0.6405939)))\n",
    "print(np.where(np.isclose(testFrag2, 0.64059390)))\n",
    "print(np.where(np.isclose(testFrag2, 0.640593901)))\n",
    "print(np.where(np.isclose(testFrag2, 0.6405939017)))\n",
    "print(np.where(np.isclose(testFrag2, 0.64059390171)))\n",
    "print(np.where(np.isclose(testFrag2, 0.640593901718)))\n",
    "print(np.where(np.isclose(testFrag2, 0.6405939017181)))\n",
    "print(np.where(np.isclose(testFrag2, 0.64059390171813)))\n",
    "print(np.where(np.isclose(testFrag2, 0.640593901718134)))\n",
    "print(np.where(np.isclose(testFrag2, 0.6405939017181348)))\n",
    "print(np.where(np.isclose(testFrag2, 0.64059390171813487)))\n",
    "print(np.where(np.isclose(testFrag2, 0.640593901718134878)))"
   ]
  },
  {
   "cell_type": "markdown",
   "metadata": {
    "collapsed": true
   },
   "source": [
    "Additional research and help topics:\n",
    " - [Finding the Index - some options on Stack Overflow](http://stackoverflow.com/questions/176918/finding-the-index-of-an-item-given-a-list-containing-it-in-python)\n",
    " - [numpy.where()](https://docs.scipy.org/doc/numpy/reference/generated/numpy.where.html)\n",
    " - [numpy.isclose()](https://docs.scipy.org/doc/numpy-1.10.4/reference/generated/numpy.isclose.html)"
   ]
  },
  {
   "cell_type": "code",
   "execution_count": null,
   "metadata": {
    "collapsed": true
   },
   "outputs": [],
   "source": []
  }
 ],
 "metadata": {
  "anaconda-cloud": {},
  "kernelspec": {
   "display_name": "Python [conda env:PY36_clone]",
   "language": "python",
   "name": "conda-env-PY36_clone-py"
  },
  "language_info": {
   "codemirror_mode": {
    "name": "ipython",
    "version": 3
   },
   "file_extension": ".py",
   "mimetype": "text/x-python",
   "name": "python",
   "nbconvert_exporter": "python",
   "pygments_lexer": "ipython3",
   "version": "3.6.0"
  }
 },
 "nbformat": 4,
 "nbformat_minor": 2
}
