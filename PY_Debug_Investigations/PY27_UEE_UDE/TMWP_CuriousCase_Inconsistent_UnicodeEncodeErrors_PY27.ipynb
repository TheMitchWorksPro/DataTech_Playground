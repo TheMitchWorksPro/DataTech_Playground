{
 "cells": [
  {
   "cell_type": "markdown",
   "metadata": {},
   "source": [
    "<div align=\"right\">Python [conda default] v2.7</div>"
   ]
  },
  {
   "cell_type": "markdown",
   "metadata": {},
   "source": [
    "# The Curious Case of Inconsistent Python UnicodeEncodeError Errors\n",
    "\n",
    "This content was originally created as part of a Python Lecture series whose authors created it, and demoed it in Python 3.6. It worked cleanly for Python 3.5 and higher, but when I attempted to run it under Python 2.7, it exhibited strange behavior.  Unicode encoding and decoding errors halted the code, but not consistently.  Even adding the line <font color=\"green\"><b>\"from \\_\\_future\\_\\_ import unicode_literals\"</b></font> to the top, the problem persisted.\n",
    "\n",
    "This problem presented an interesting opportunity to test out some Python concepts including recursion.  Then an actual solution (for Python 2.7) was devised.  Part of the challenge undertaken: to alter the code to work in Python 2.7, and yet have it still run in Python 3.6 without having to \"change it back\".\n",
    "\n",
    "In this Notebook:\n",
    "- [The Original Problem Code](#Originalproblem)\n",
    "- [The Final Solution](#finalsolution)\n",
    "- [Research and Experiments That Led To The Solution](#ResearchExperiments)\n",
    "  - [Reference Links](#references)\n",
    "\n",
    "\\* Note:  Originally, different behaviors were experienced at the command line then what was encountered in Jypyter.  Though the cause was eventually identified, just to be safe, all testing shows both the Jupyter code cells, and the Python script test."
   ]
  },
  {
   "cell_type": "markdown",
   "metadata": {},
   "source": [
    "<a id=\"Originalproblem\" name=\"Originalproblem\"></a>\n",
    "## Original Code And The Problem in Python 2.7\n",
    "The code that triggered this problem error investigation and the problem output are provided in this section."
   ]
  },
  {
   "cell_type": "code",
   "execution_count": 1,
   "metadata": {
    "collapsed": true
   },
   "outputs": [],
   "source": [
    "# another copy of the event object (original unaltered code)\n",
    "\n",
    "import re\n",
    "import datetime\n",
    "class event(object):\n",
    "    def __init__(self, title, time, location):\n",
    "        self.title = title\n",
    "        self.time = time\n",
    "        self.location = location\n",
    "    \n",
    "    def day(self):\n",
    "        try:\n",
    "            day = re.findall('\\w+', self.time)[:3]\n",
    "            day = ' '.join(day)\n",
    "            try: \n",
    "                return datetime.datetime.strptime(day, \"%d %b %Y\")\n",
    "            except ValueError:\n",
    "                return datetime.datetime.strptime(day, \"%d %B %Y\")\n",
    "        except ValueError:\n",
    "            return self.time\n",
    "    \n",
    "    def status(self):\n",
    "        if isinstance(self.day(), datetime.datetime):\n",
    "            now = datetime.datetime.now()\n",
    "            if now < self.day():\n",
    "                return 'Upcoming'\n",
    "            elif now - self.day() < datetime.timedelta(days=1):\n",
    "                return 'Today'\n",
    "            else:\n",
    "                return 'Missed'\n",
    "        else:\n",
    "            return 'Unknown'\n",
    "\n",
    "    def __str__(self):\n",
    "        return self.status() + ' Event: %s' %self.title"
   ]
  },
  {
   "cell_type": "code",
   "execution_count": 4,
   "metadata": {
    "collapsed": false
   },
   "outputs": [
    {
     "name": "stdout",
     "output_type": "stream",
     "text": [
      "------------------------------\n",
      "Unknown Event: Django Girls Bucaramanga, Colombia\n",
      "    Time:  08 April &ndash; 09 April  2017\n",
      "    Location: Bucaramanga, Colombia\n",
      "------------------------------\n",
      "Upcoming Event: Python Meetup Innsbruck: imp.reload(innsbruck)\n",
      "    Time:  25 April 2017\n",
      "    Location:  Innsbruck, Austria, Europe\n",
      "------------------------------\n"
     ]
    },
    {
     "ename": "UnicodeEncodeError",
     "evalue": "'ascii' codec can't encode character u'\\xe3' in position 29: ordinal not in range(128)",
     "output_type": "error",
     "traceback": [
      "\u001b[0;31m---------------------------------------------------------------------------\u001b[0m",
      "\u001b[0;31mUnicodeEncodeError\u001b[0m                        Traceback (most recent call last)",
      "\u001b[0;32m<ipython-input-4-4f0883880c1a>\u001b[0m in \u001b[0;36m<module>\u001b[0;34m()\u001b[0m\n\u001b[1;32m     22\u001b[0m \u001b[1;32mfor\u001b[0m \u001b[0mi\u001b[0m \u001b[1;32min\u001b[0m \u001b[0mevents\u001b[0m\u001b[1;33m:\u001b[0m\u001b[1;33m\u001b[0m\u001b[0m\n\u001b[1;32m     23\u001b[0m     \u001b[1;32mprint\u001b[0m \u001b[1;33m(\u001b[0m\u001b[1;36m30\u001b[0m\u001b[1;33m*\u001b[0m\u001b[1;34m'-'\u001b[0m\u001b[1;33m)\u001b[0m\u001b[1;33m\u001b[0m\u001b[0m\n\u001b[0;32m---> 24\u001b[0;31m     \u001b[1;32mprint\u001b[0m\u001b[1;33m(\u001b[0m\u001b[0mi\u001b[0m\u001b[1;33m)\u001b[0m\u001b[1;33m\u001b[0m\u001b[0m\n\u001b[0m\u001b[1;32m     25\u001b[0m     \u001b[1;32mprint\u001b[0m \u001b[1;33m(\u001b[0m\u001b[1;34m'    Time:  %s'\u001b[0m \u001b[1;33m%\u001b[0m\u001b[0mi\u001b[0m\u001b[1;33m.\u001b[0m\u001b[0mtime\u001b[0m\u001b[1;33m)\u001b[0m\u001b[1;33m\u001b[0m\u001b[0m\n\u001b[1;32m     26\u001b[0m     \u001b[1;32mprint\u001b[0m \u001b[1;33m(\u001b[0m\u001b[1;34m'    Location: %s'\u001b[0m \u001b[1;33m%\u001b[0m\u001b[0mi\u001b[0m\u001b[1;33m.\u001b[0m\u001b[0mlocation\u001b[0m\u001b[1;33m)\u001b[0m\u001b[1;33m\u001b[0m\u001b[0m\n",
      "\u001b[0;31mUnicodeEncodeError\u001b[0m: 'ascii' codec can't encode character u'\\xe3' in position 29: ordinal not in range(128)"
     ]
    }
   ],
   "source": [
    "# this version is unchanged from lecture content.  It throws an error as shown below in the output\n",
    "\n",
    "#!/usr/bin/env python\n",
    "# -*- coding: utf-8 -*-  \n",
    "\n",
    "import requests\n",
    "import datetime\n",
    "import re\n",
    "\n",
    "text = requests.get('https://www.python.org/events/python-user-group/').text\n",
    "timePattern = '<time datetime=\"[\\w:+-]+\">(.+)<span class=\"say-no-more\">([\\d ]+)</span>(.*)</time>'\n",
    "locationPattern = '<span class=\"event-location\">(.*)</span>'\n",
    "titlePattern = '<h3 class=\"event-title\"><a href=\".+\">(.*)</a></h3>'\n",
    "\n",
    "time = re.findall(timePattern, text)\n",
    "time = [''.join(i) for i in time]\n",
    "location = re.findall(locationPattern, text)\n",
    "title = re.findall(titlePattern, text)\n",
    "\n",
    "events = [event(title[i], time[i], location[i]) for i in range(len(title))]\n",
    "\n",
    "for i in events:\n",
    "    print (30*'-')\n",
    "    print(i)\n",
    "    print ('    Time:  %s' %i.time)\n",
    "    print ('    Location: %s' %i.location)"
   ]
  },
  {
   "cell_type": "code",
   "execution_count": 3,
   "metadata": {
    "collapsed": false
   },
   "outputs": [
    {
     "name": "stdout",
     "output_type": "stream",
     "text": [
      "------------------------------\n",
      "Unknown Event: Django Girls Bucaramanga, Colombia\n",
      "    Time:  08 April &ndash; 09 April  2017\n",
      "    Location: Bucaramanga, Colombia\n",
      "------------------------------\n",
      "Upcoming Event: Python Meetup Innsbruck: imp.reload(innsbruck)\n",
      "    Time:  25 April 2017\n",
      "    Location:  Innsbruck, Austria, Europe\n",
      "------------------------------\n"
     ]
    },
    {
     "name": "stderr",
     "output_type": "stream",
     "text": [
      "Traceback (most recent call last):\n",
      "  File \"script/event_original.py\", line 59, in <module>\n",
      "    print(i)\n",
      "UnicodeEncodeError: 'ascii' codec can't encode character u'\\xe3' in position 29: ordinal not in range(128)\n"
     ]
    }
   ],
   "source": [
    "!python script/event_original.py"
   ]
  },
  {
   "cell_type": "markdown",
   "metadata": {},
   "source": [
    "<a id=\"finalsolution\" name=\"finalsolution\"></a>\n",
    "## Final Solution\n",
    "This solution may not be the most elegant, but it solves the problem.  This code is shown here tested under Python 2.7 in Jupyter, running as a Python 2.7 script, and as the same script running under Python 3.6.  The research section illustrates the quirks and gotcha's along the way to finding this answer."
   ]
  },
  {
   "cell_type": "code",
   "execution_count": 5,
   "metadata": {
    "collapsed": false
   },
   "outputs": [
    {
     "name": "stdout",
     "output_type": "stream",
     "text": [
      "------------------------------\n",
      "Unknown Event: Django Girls Bucaramanga, Colombia\n",
      "    Time    :  08 April &ndash; 09 April  2017\n",
      "    Location: Bucaramanga, Colombia\n",
      "------------------------------\n",
      "Upcoming Event: Python Meetup Innsbruck: imp.reload(innsbruck)\n",
      "    Time    :  25 April 2017\n",
      "    Location:  Innsbruck, Austria, Europe\n",
      "------------------------------\n",
      "Warning!\n",
      "<type 'exceptions.UnicodeDecodeError'>: 'ascii' codec can't decode byte 0xc3 in position 29: ordinal not in range(128)\n",
      "Where possible, characters are replaced with their closest ascii equivelence.\n",
      "Unknown Event: Django Girls Sao Jose dos Campos\n",
      "    Time    :  20 May &ndash; 21 May  2017\n",
      "    Location: São José dos Campos, Brazil\n",
      "------------------------------\n",
      "Unknown Event: Django Girls Accra\n",
      "    Time    :  16 June &ndash; 18 June  2017\n",
      "    Location: Accra, Ghana\n",
      "------------------------------\n",
      "Missed Event: Python Porto Meetup\n",
      "    Time    :  24 March 2017\n",
      "    Location: Porto, Portugal\n",
      "------------------------------\n",
      "Unknown Event: PyDelhiConf 2017\n",
      "    Time    :  18 March &ndash; 20 March  2017\n",
      "    Location: NCR, Noida, India\n"
     ]
    }
   ],
   "source": [
    "#!/usr/bin/env python\n",
    "# -*- coding: utf-8 -*-  \n",
    "\n",
    "# This code produces a working solution.  There may be more efficient ways to do this, but this works.\n",
    "# Created for Python 2.7, then modified for cross-compatibility with Python 3.6\n",
    "\n",
    "import requests\n",
    "import datetime\n",
    "import re\n",
    "import unicodedata  # for solution that did not work and is commeted out\n",
    "\n",
    "class event(object):\n",
    "    def __init__(self, title, time, location):\n",
    "        self.title = title\n",
    "        self.time = time\n",
    "        self.location = location\n",
    "    \n",
    "    def day(self):\n",
    "        try:\n",
    "            day = re.findall('\\w+', self.time)[:3]\n",
    "            day = ' '.join(day)\n",
    "            try: \n",
    "                return datetime.datetime.strptime(day, \"%d %b %Y\")\n",
    "            except ValueError:\n",
    "                return datetime.datetime.strptime(day, \"%d %B %Y\")\n",
    "        except ValueError:\n",
    "            return self.time\n",
    "    \n",
    "    def status(self):\n",
    "        if isinstance(self.day(), datetime.datetime):\n",
    "            now = datetime.datetime.now()\n",
    "            if now < self.day():\n",
    "                return 'Upcoming'\n",
    "            elif now - self.day() < datetime.timedelta(days=1):\n",
    "                return 'Today'\n",
    "            else:\n",
    "                return 'Missed'\n",
    "        else:\n",
    "            return 'Unknown'\n",
    "        \n",
    "    def __str__(self): \n",
    "        try:\n",
    "            rtnVal = str(self.status()  + ' Event: %s' %self.title)\n",
    "        except Exception as ee:\n",
    "            rtnVal = str_Intl(self.status() + ' Event: %s' %self.title.encode('utf-8'))\n",
    "        return rtnVal\n",
    "    \n",
    "# this function created instead of modifying __str__ because in testing, this error cropped up\n",
    "# both in the use of a print() satement all by itself, and in an event.__str__ call\n",
    "\n",
    "def str_Intl(strng):   \n",
    "    try:\n",
    "        strng2 = strng.encode('utf-8')\n",
    "        rtnVal = str(strng2)\n",
    "        \n",
    "    except UnicodeEncodeError as uee:\n",
    "        print(\"Warning!\")\n",
    "        print(\"%s: %s\" %(type(uee), uee))\n",
    "        chrStartIndx = len(\"'ascii' codec can't encode character \")\n",
    "        chrEndIndx = str(uee).find(\" in position \")\n",
    "        replStr = str(uee)[chrStartIndx:chrEndIndx] \n",
    "        startIndx = (chrEndIndx+1) + len(\"in position \")\n",
    "        endIndx = str(uee).find(\": ordinal\")\n",
    "        oIndx = int(str(uee)[startIndx:endIndx])\n",
    "        print(\"Character %d cannot be processed by print() or str() and will be replaced.\" %(oIndx))\n",
    "        print(\"---------------------\")\n",
    "        rtnVal = (strng[0:oIndx] + (\"\\\"%s\\\"\" %replStr) + strng[(oIndx+1):])\n",
    "        rtnVal = str_Intl(rtnVal)    # recursive fuction call\n",
    "        \n",
    "    except UnicodeDecodeError as ude:\n",
    "        # early testing with this line from stack overflow did not work for us:\n",
    "        # strng.encode('utf-8').strip()\n",
    "        # this solution also strips off the problem characters without outputting what they were\n",
    "        \n",
    "        print(\"Warning!\")\n",
    "        print(\"%s: %s\" %(type(ude), ude))\n",
    "        print(\"Where possible, characters are replaced with their closest ascii equivelence.\")\n",
    "        # earlier use of .encode() fixed one issue and bypassed the UnicodeEncodeError handling\n",
    "        # it then triggered this error for one of the other cases, so now we trying other solutions:\n",
    "        \n",
    "        strng_u = unicode(strng, \"utf-8\")\n",
    "        rtnVal = unicodedata.normalize('NFKD', strng_u).encode('ascii', 'ignore')\n",
    "                 # this threw an error that 2nd argument must be unicode, not string\n",
    "                 # added string_u line as a fix for that\n",
    "                \n",
    "        rtnVal = str_Intl(rtnVal)\n",
    "        \n",
    "    except Exception as ee:\n",
    "        # when calling this code in a loop, you lose one value and get this error message output instead\n",
    "        # but the loop can continue over the rest of your data\n",
    "        rtnVal = \"String data coult not be processed. Error: %s : %s\" %(type(ee), ee)\n",
    "    return rtnVal    \n",
    "    \n",
    "text = requests.get('https://www.python.org/events/python-user-group/').text\n",
    "timePattern = '<time datetime=\"[\\w:+-]+\">(.+)<span class=\"say-no-more\">([\\d ]+)</span>(.*)</time>'\n",
    "locationPattern = '<span class=\"event-location\">(.*)</span>'\n",
    "titlePattern = '<h3 class=\"event-title\"><a href=\".+\">(.*)</a></h3>'\n",
    "\n",
    "time = re.findall(timePattern, text)\n",
    "time = [''.join(i) for i in time]\n",
    "location = re.findall(locationPattern, text)\n",
    "title = re.findall(titlePattern, text)\n",
    "\n",
    "events = [event(title[i], time[i], location[i]) for i in range(len(title))]\n",
    "\n",
    "for i in events:\n",
    "    print (30*'-')\n",
    "    print(i)                                          # bug fix: i is in events, so this calls __str__ in the object\n",
    "    print ('    Time    :  %s' %i.time)\n",
    "    try:\n",
    "        print ('    Location: %s' %i.location)\n",
    "    except Exception as ee:\n",
    "        print (str_Intl('    Location: %s' %i.location))  # bug fix:  error thrown here too\n",
    "                                                          # str_Intl() will parse out type of error in its try block"
   ]
  },
  {
   "cell_type": "code",
   "execution_count": 7,
   "metadata": {
    "collapsed": false
   },
   "outputs": [
    {
     "name": "stdout",
     "output_type": "stream",
     "text": [
      "------------------------------\n",
      "Unknown Event: Django Girls Bucaramanga, Colombia\n",
      "    Time    :  08 April &ndash; 09 April  2017\n",
      "    Location: Bucaramanga, Colombia\n",
      "------------------------------\n",
      "Upcoming Event: Python Meetup Innsbruck: imp.reload(innsbruck)\n",
      "    Time    :  25 April 2017\n",
      "    Location:  Innsbruck, Austria, Europe\n",
      "------------------------------\n",
      "Warning!\n",
      "<type 'exceptions.UnicodeDecodeError'>: 'ascii' codec can't decode byte 0xc3 in position 29: ordinal not in range(128)\n",
      "Where possible, characters are replaced with their closest ascii equivelence.\n",
      "Unknown Event: Django Girls Sao Jose dos Campos\n",
      "    Time    :  20 May &ndash; 21 May  2017\n",
      "    Location: SÃ£o JosÃ© dos Campos, Brazil\n",
      "------------------------------\n",
      "Unknown Event: Django Girls Accra\n",
      "    Time    :  16 June &ndash; 18 June  2017\n",
      "    Location: Accra, Ghana\n",
      "------------------------------\n",
      "Missed Event: Python Porto Meetup\n",
      "    Time    :  24 March 2017\n",
      "    Location: Porto, Portugal\n",
      "------------------------------\n",
      "Unknown Event: PyDelhiConf 2017\n",
      "    Time    :  18 March &ndash; 20 March  2017\n",
      "    Location: NCR, Noida, India\n"
     ]
    }
   ],
   "source": [
    "# for completeness .. the code is also re-tested as a script under Python 2.7\n",
    "!python script/event.py"
   ]
  },
  {
   "cell_type": "markdown",
   "metadata": {},
   "source": [
    "Note:  most errors are avoided rather than handled, but the one that still gets through deliberately throws a warning to alert us to it.  It would be easy to edit the code to hide this warning if it were undesirable.  With more time, the exact path to this error could probably be identified and avoided as well.  Here we test on Python 3.6 to show this code works just as well there as the original (which was designed for Python 3.6)."
   ]
  },
  {
   "cell_type": "code",
   "execution_count": 6,
   "metadata": {
    "collapsed": false
   },
   "outputs": [
    {
     "name": "stdout",
     "output_type": "stream",
     "text": [
      "------------------------------\n",
      "Unknown Event: Django Girls Bucaramanga, Colombia\n",
      "    Time    :  08 April &ndash; 09 April  2017\n",
      "    Location: Bucaramanga, Colombia\n",
      "------------------------------\n",
      "Upcoming Event: Python Meetup Innsbruck: imp.reload(innsbruck)\n",
      "    Time    :  25 April 2017\n",
      "    Location:  Innsbruck, Austria, Europe\n",
      "------------------------------\n",
      "Unknown Event: Django Girls São José dos Campos\n",
      "    Time    :  20 May &ndash; 21 May  2017\n",
      "    Location: São José dos Campos, Brazil\n",
      "------------------------------\n",
      "Unknown Event: Django Girls Accra\n",
      "    Time    :  16 June &ndash; 18 June  2017\n",
      "    Location: Accra, Ghana\n",
      "------------------------------\n",
      "Missed Event: Python Porto Meetup\n",
      "    Time    :  24 March 2017\n",
      "    Location: Porto, Portugal\n",
      "------------------------------\n",
      "Unknown Event: PyDelhiConf 2017\n",
      "    Time    :  18 March &ndash; 20 March  2017\n",
      "    Location: NCR, Noida, India\n"
     ]
    }
   ],
   "source": [
    "# Test script version using Python 3.6\n",
    "!C:/ProgramFilesCoders/Anaconda2/envs/PY36/python script/event.py"
   ]
  },
  {
   "cell_type": "markdown",
   "metadata": {},
   "source": [
    "<a id=\"ResearchExperiments\" name=\"ResearchExperiments\"></a>\n",
    "## Research and Experiments\n",
    "This Section contains the research and experiments that led up to the solution.  It presents the information like a story:  background, the problem, and finally iterations of the code leading up to the final solution.  To tell the story in this way, some of the content from earlier sections is repeated."
   ]
  },
  {
   "cell_type": "markdown",
   "metadata": {},
   "source": [
    "<a id=\"references\" name=\"references\"></a>\n",
    "### References\n",
    "These links on Stack Overflow were particularly helpful in devising the solution.  It is interesting to note that inconsistent behavior with respect to when encoding errors are thrown (under Python 2.x) and problems with solutions appearing to work in one context and failing others were reported by others in the community.\n",
    "\n",
    "Stack Overflow posts on this topic:\n",
    "- [Stack Overflow: unicodeencodeerror post](http://stackoverflow.com/questions/9942594/unicodeencodeerror-ascii-codec-cant-encode-character-u-xa0-in-position-20)\n",
    "- [Stack Overflow: another post encode/decode error](http://stackoverflow.com/questions/2365411/python-convert-unicode-to-ascii-without-errors)\n",
    "- [Stack Overflow: yet another post encode/decode error](http://stackoverflow.com/questions/816285/where-is-pythons-best-ascii-for-this-unicode-database)\n",
    "- [Stack Overflow: Unicode Error in MySQL implementation](http://stackoverflow.com/questions/18316967/python-unicodeencodeerror)\n",
    "- [Stack Overflow: converting string to unicode](http://stackoverflow.com/questions/4182603/python-how-to-convert-a-string-to-utf-8)"
   ]
  },
  {
   "cell_type": "markdown",
   "metadata": {},
   "source": [
    "#### Some Related Code From The Original Notebook"
   ]
  },
  {
   "cell_type": "code",
   "execution_count": 8,
   "metadata": {
    "collapsed": false
   },
   "outputs": [],
   "source": [
    "f= open('data/python-event.html')\n",
    "event = f.read()"
   ]
  },
  {
   "cell_type": "code",
   "execution_count": 9,
   "metadata": {
    "collapsed": true
   },
   "outputs": [],
   "source": [
    "import re"
   ]
  },
  {
   "cell_type": "markdown",
   "metadata": {
    "collapsed": false
   },
   "source": [
    "Note how in the cells that follow, letters from foreign character sets are presented without error ...  Stranger still, note the line with \"dos Campos, Brazil\" in it.  This works here, but throws an error in later code in this notebook for a special character in the full city name."
   ]
  },
  {
   "cell_type": "code",
   "execution_count": 10,
   "metadata": {
    "collapsed": false
   },
   "outputs": [
    {
     "name": "stdout",
     "output_type": "stream",
     "text": [
      "Bucaramanga, Colombia\n",
      " Innsbruck, Austria, Europe\n",
      "São José dos Campos, Brazil\n",
      "Accra, Ghana\n",
      "Porto, Portugal\n",
      "NCR, Noida, India\n"
     ]
    }
   ],
   "source": [
    "locationPattern = '<span class=\"event-location\">(.*)</span>'\n",
    "location = re.findall(locationPattern, event)\n",
    "for i in location:\n",
    "    print (i)"
   ]
  },
  {
   "cell_type": "code",
   "execution_count": 11,
   "metadata": {
    "collapsed": false
   },
   "outputs": [
    {
     "name": "stdout",
     "output_type": "stream",
     "text": [
      "Django Girls Bucaramanga, Colombia\n",
      "Python Meetup Innsbruck: imp.reload(innsbruck)\n",
      "Django Girls São José dos Campos\n",
      "Django Girls Accra\n",
      "Python Porto Meetup\n",
      "PyDelhiConf 2017\n"
     ]
    }
   ],
   "source": [
    "titlePattern = '<h3 class=\"event-title\"><a href=\".+\">(.*)</a></h3>'\n",
    "title = re.findall(titlePattern, event)\n",
    "for i in title:\n",
    "    print (i)"
   ]
  },
  {
   "cell_type": "code",
   "execution_count": 12,
   "metadata": {
    "collapsed": false
   },
   "outputs": [],
   "source": [
    "# Here is the first version of the event() object\n",
    "# it gets used in the code that follows (where the problem occurs)\n",
    "\n",
    "import re\n",
    "import datetime\n",
    "class event(object):\n",
    "    def __init__(self, title, time, location):\n",
    "        self.title = title\n",
    "        self.time = time\n",
    "        self.location = location\n",
    "    \n",
    "    def day(self):\n",
    "        try:\n",
    "            day = re.findall('\\w+', self.time)[:3]\n",
    "            day = ' '.join(day)\n",
    "            try: \n",
    "                return datetime.datetime.strptime(day, \"%d %b %Y\")\n",
    "            except ValueError:\n",
    "                return datetime.datetime.strptime(day, \"%d %B %Y\")\n",
    "        except ValueError:\n",
    "            return self.time\n",
    "    \n",
    "    def status(self):\n",
    "        if isinstance(self.day(), datetime.datetime):\n",
    "            now = datetime.datetime.now()\n",
    "            if now < self.day():\n",
    "                return 'Upcoming'\n",
    "            elif now - self.day() < datetime.timedelta(days=1):\n",
    "                return 'Today'\n",
    "            else:\n",
    "                return 'Missed'\n",
    "        else:\n",
    "            return 'Unknown'\n",
    "\n",
    "    def __str__(self):\n",
    "        return self.status() + ' Event: %s' %self.title        "
   ]
  },
  {
   "cell_type": "code",
   "execution_count": 13,
   "metadata": {
    "collapsed": false
   },
   "outputs": [
    {
     "name": "stdout",
     "output_type": "stream",
     "text": [
      "2015-01-20 00:00:00\n",
      "Missed Event: Python Meeting Düsseldorf\n"
     ]
    }
   ],
   "source": [
    "# in these test cells foreign characters continue to output without error even when called into str()\n",
    "# these cells were in the original content and also illustrate differences in using print() versus str()\n",
    "# on the same line of content.  However, it is generally thought that str() is called by print() to ensure\n",
    "# that content fed into it is a string before outputting it, so over-riding __str__ as is done in a later\n",
    "# version of the event object has an impact on print() as well\n",
    "\n",
    "event1 = event('Python Meeting Düsseldorf', '20 Jan. 2015 5pm UTC – 7pm UTC', \\\n",
    "          'Bürgerhaus im Stadtteilzentrum Bilk, Raum 1, 2. OG, Bachstr. 145, 40217 Düsseldorf, Germany')\n",
    "print (event1.day())\n",
    "print (event1)"
   ]
  },
  {
   "cell_type": "code",
   "execution_count": 14,
   "metadata": {
    "collapsed": false
   },
   "outputs": [
    {
     "data": {
      "text/plain": [
       "'Missed Event: Python Meeting D\\xc3\\xbcsseldorf'"
      ]
     },
     "execution_count": 14,
     "metadata": {},
     "output_type": "execute_result"
    }
   ],
   "source": [
    "str(event1)"
   ]
  },
  {
   "cell_type": "code",
   "execution_count": 15,
   "metadata": {
    "collapsed": false
   },
   "outputs": [
    {
     "data": {
      "text/plain": [
       "\"\\nimport requests\\ntext = requests.get('https://www.python.org/events/python-user-group/').text\\ntext\\n\""
      ]
     },
     "execution_count": 15,
     "metadata": {},
     "output_type": "execute_result"
    }
   ],
   "source": [
    "# the full source can be viewed using this code:\n",
    "# It is commented out here:\n",
    "'''\n",
    "import requests\n",
    "text = requests.get('https://www.python.org/events/python-user-group/').text\n",
    "text\n",
    "'''"
   ]
  },
  {
   "cell_type": "markdown",
   "metadata": {},
   "source": [
    "<a id=\"problem1\" name=\"problem1\"></a>\n",
    "#### Problem Code\n",
    "The code that triggered this problem error investigation and the problem output are provided in this section."
   ]
  },
  {
   "cell_type": "code",
   "execution_count": 16,
   "metadata": {
    "collapsed": true
   },
   "outputs": [],
   "source": [
    "# another copy of the event object (original unaltered code) so you don't have to scroll up to view it\n",
    "\n",
    "import re\n",
    "import datetime\n",
    "class event(object):\n",
    "    def __init__(self, title, time, location):\n",
    "        self.title = title\n",
    "        self.time = time\n",
    "        self.location = location\n",
    "    \n",
    "    def day(self):\n",
    "        try:\n",
    "            day = re.findall('\\w+', self.time)[:3]\n",
    "            day = ' '.join(day)\n",
    "            try: \n",
    "                return datetime.datetime.strptime(day, \"%d %b %Y\")\n",
    "            except ValueError:\n",
    "                return datetime.datetime.strptime(day, \"%d %B %Y\")\n",
    "        except ValueError:\n",
    "            return self.time\n",
    "    \n",
    "    def status(self):\n",
    "        if isinstance(self.day(), datetime.datetime):\n",
    "            now = datetime.datetime.now()\n",
    "            if now < self.day():\n",
    "                return 'Upcoming'\n",
    "            elif now - self.day() < datetime.timedelta(days=1):\n",
    "                return 'Today'\n",
    "            else:\n",
    "                return 'Missed'\n",
    "        else:\n",
    "            return 'Unknown'\n",
    "\n",
    "    def __str__(self):\n",
    "        return self.status() + ' Event: %s' %self.title"
   ]
  },
  {
   "cell_type": "code",
   "execution_count": 17,
   "metadata": {
    "collapsed": false
   },
   "outputs": [
    {
     "name": "stdout",
     "output_type": "stream",
     "text": [
      "------------------------------\n",
      "Unknown Event: Django Girls Bucaramanga, Colombia\n",
      "    Time:  08 April &ndash; 09 April  2017\n",
      "    Location: Bucaramanga, Colombia\n",
      "------------------------------\n",
      "Upcoming Event: Python Meetup Innsbruck: imp.reload(innsbruck)\n",
      "    Time:  25 April 2017\n",
      "    Location:  Innsbruck, Austria, Europe\n",
      "------------------------------\n"
     ]
    },
    {
     "ename": "UnicodeEncodeError",
     "evalue": "'ascii' codec can't encode character u'\\xe3' in position 29: ordinal not in range(128)",
     "output_type": "error",
     "traceback": [
      "\u001b[0;31m---------------------------------------------------------------------------\u001b[0m",
      "\u001b[0;31mUnicodeEncodeError\u001b[0m                        Traceback (most recent call last)",
      "\u001b[0;32m<ipython-input-17-bb60359e4434>\u001b[0m in \u001b[0;36m<module>\u001b[0;34m()\u001b[0m\n\u001b[1;32m     19\u001b[0m \u001b[1;32mfor\u001b[0m \u001b[0mi\u001b[0m \u001b[1;32min\u001b[0m \u001b[0mevents\u001b[0m\u001b[1;33m:\u001b[0m\u001b[1;33m\u001b[0m\u001b[0m\n\u001b[1;32m     20\u001b[0m     \u001b[1;32mprint\u001b[0m \u001b[1;33m(\u001b[0m\u001b[1;36m30\u001b[0m\u001b[1;33m*\u001b[0m\u001b[1;34m'-'\u001b[0m\u001b[1;33m)\u001b[0m\u001b[1;33m\u001b[0m\u001b[0m\n\u001b[0;32m---> 21\u001b[0;31m     \u001b[1;32mprint\u001b[0m\u001b[1;33m(\u001b[0m\u001b[0mi\u001b[0m\u001b[1;33m)\u001b[0m\u001b[1;33m\u001b[0m\u001b[0m\n\u001b[0m\u001b[1;32m     22\u001b[0m     \u001b[1;32mprint\u001b[0m \u001b[1;33m(\u001b[0m\u001b[1;34m'    Time:  %s'\u001b[0m \u001b[1;33m%\u001b[0m\u001b[0mi\u001b[0m\u001b[1;33m.\u001b[0m\u001b[0mtime\u001b[0m\u001b[1;33m)\u001b[0m\u001b[1;33m\u001b[0m\u001b[0m\n\u001b[1;32m     23\u001b[0m     \u001b[1;32mprint\u001b[0m \u001b[1;33m(\u001b[0m\u001b[1;34m'    Location: %s'\u001b[0m \u001b[1;33m%\u001b[0m\u001b[0mi\u001b[0m\u001b[1;33m.\u001b[0m\u001b[0mlocation\u001b[0m\u001b[1;33m)\u001b[0m\u001b[1;33m\u001b[0m\u001b[0m\n",
      "\u001b[0;31mUnicodeEncodeError\u001b[0m: 'ascii' codec can't encode character u'\\xe3' in position 29: ordinal not in range(128)"
     ]
    }
   ],
   "source": [
    "# this version is unchanged from lecture content.  It throws an error as shown below in the output\n",
    "\n",
    "import requests\n",
    "import datetime\n",
    "import re\n",
    "\n",
    "text = requests.get('https://www.python.org/events/python-user-group/').text\n",
    "timePattern = '<time datetime=\"[\\w:+-]+\">(.+)<span class=\"say-no-more\">([\\d ]+)</span>(.*)</time>'\n",
    "locationPattern = '<span class=\"event-location\">(.*)</span>'\n",
    "titlePattern = '<h3 class=\"event-title\"><a href=\".+\">(.*)</a></h3>'\n",
    "\n",
    "time = re.findall(timePattern, text)\n",
    "time = [''.join(i) for i in time]\n",
    "location = re.findall(locationPattern, text)\n",
    "title = re.findall(titlePattern, text)\n",
    "\n",
    "events = [event(title[i], time[i], location[i]) for i in range(len(title))]\n",
    "\n",
    "for i in events:\n",
    "    print (30*'-')\n",
    "    print(i)\n",
    "    print ('    Time:  %s' %i.time)\n",
    "    print ('    Location: %s' %i.location)"
   ]
  },
  {
   "cell_type": "code",
   "execution_count": 18,
   "metadata": {
    "collapsed": false
   },
   "outputs": [
    {
     "name": "stdout",
     "output_type": "stream",
     "text": [
      "------------------------------\n",
      "Unknown Event: Django Girls Bucaramanga, Colombia\n",
      "    Time:  08 April &ndash; 09 April  2017\n",
      "    Location: Bucaramanga, Colombia\n",
      "------------------------------\n",
      "Upcoming Event: Python Meetup Innsbruck: imp.reload(innsbruck)\n",
      "    Time:  25 April 2017\n",
      "    Location:  Innsbruck, Austria, Europe\n",
      "------------------------------\n"
     ]
    },
    {
     "name": "stderr",
     "output_type": "stream",
     "text": [
      "Traceback (most recent call last):\n",
      "  File \"script/event_original.py\", line 59, in <module>\n",
      "    print(i)\n",
      "UnicodeEncodeError: 'ascii' codec can't encode character u'\\xe3' in position 29: ordinal not in range(128)\n"
     ]
    }
   ],
   "source": [
    "!python script/event_original.py"
   ]
  },
  {
   "cell_type": "markdown",
   "metadata": {},
   "source": [
    "<a id=\"bugFix2\" name=\"bugFix2\"></a>"
   ]
  },
  {
   "cell_type": "markdown",
   "metadata": {},
   "source": [
    "### Preventing Code Failure\n",
    "\n",
    "The right approach to this problem is to look up the error and see if there is a fix (which is explored later in this notebook).\n",
    "\n",
    "\n",
    "The theory behind the code cells that immediately follow, however, is the answer to a simple question:  what if we encounter characters that our current installation can't handle?  What should the code do?\n",
    "\n",
    "In this case, the desirable output is to print warnings about what went wrong so a better solution can be explored, but do something about these mis-behaving characters so the rest of the code can continue to run around it without halting on the error.  Additionally, it is desirable to output as much of the original content around the error as possible.\n",
    "\n",
    "#### Experiment One"
   ]
  },
  {
   "cell_type": "code",
   "execution_count": 19,
   "metadata": {
    "collapsed": false
   },
   "outputs": [
    {
     "name": "stdout",
     "output_type": "stream",
     "text": [
      "------------------------------\n",
      "Unknown Event: Django Girls Bucaramanga, Colombia\n",
      "    Time    :  08 April &ndash; 09 April  2017\n",
      "    Location: Bucaramanga, Colombia\n",
      "------------------------------\n",
      "Upcoming Event: Python Meetup Innsbruck: imp.reload(innsbruck)\n",
      "    Time    :  25 April 2017\n",
      "    Location:  Innsbruck, Austria, Europe\n",
      "------------------------------\n",
      "<type 'exceptions.UnicodeEncodeError'>\n",
      "'ascii' codec can't encode character u'\\xe3' in position 29: ordinal not in range(128)\n",
      "Character 29 of the Event Title Needs to be removed before print() or str() can process it.\n",
      "    Time    :  20 May &ndash; 21 May  2017\n",
      "    Location: São José dos Campos, Brazil\n",
      "------------------------------\n",
      "Unknown Event: Django Girls Accra\n",
      "    Time    :  16 June &ndash; 18 June  2017\n",
      "    Location: Accra, Ghana\n",
      "------------------------------\n",
      "Missed Event: Python Porto Meetup\n",
      "    Time    :  24 March 2017\n",
      "    Location: Porto, Portugal\n",
      "------------------------------\n",
      "Unknown Event: PyDelhiConf 2017\n",
      "    Time    :  18 March &ndash; 20 March  2017\n",
      "    Location: NCR, Noida, India\n"
     ]
    }
   ],
   "source": [
    "#!/usr/bin/env python\n",
    "# -*- coding: utf-8 -*-  \n",
    "\n",
    "# quick and dirty solution that assumes only one error per line of content processed by the loop\n",
    "\n",
    "import requests\n",
    "import datetime\n",
    "import re\n",
    "\n",
    "text = requests.get('https://www.python.org/events/python-user-group/').text\n",
    "timePattern = '<time datetime=\"[\\w:+-]+\">(.+)<span class=\"say-no-more\">([\\d ]+)</span>(.*)</time>'\n",
    "locationPattern = '<span class=\"event-location\">(.*)</span>'\n",
    "titlePattern = '<h3 class=\"event-title\"><a href=\".+\">(.*)</a></h3>'\n",
    "\n",
    "time = re.findall(timePattern, text)\n",
    "time = [''.join(i) for i in time]\n",
    "location = re.findall(locationPattern, text)\n",
    "title = re.findall(titlePattern, text)\n",
    "\n",
    "events = [event(title[i], time[i], location[i]) for i in range(len(title))]\n",
    "\n",
    "for i in events:\n",
    "    print (30*'-')\n",
    "    try:\n",
    "        print(i)\n",
    "    except UnicodeEncodeError as uee:\n",
    "        print(type(uee))\n",
    "        print(uee)\n",
    "        startIndx = str(uee).find(\"in position \")+len(\"in position \")\n",
    "        endIndx = str(uee).find(\": ordinal\")\n",
    "        oIndx = int(str(uee)[startIndx:endIndx])\n",
    "        print(\"Character %d of the Event Title Needs to be removed before print() or str() can process it.\" %(oIndx))\n",
    "    print ('    Time    :  %s' %i.time)\n",
    "    print ('    Location: %s' %i.location)"
   ]
  },
  {
   "cell_type": "markdown",
   "metadata": {},
   "source": [
    "The above solution appears to work ... but what if there is more than one error triggered in a line of the content?  It should be noted too that this solution failed to work when run from a command line script with, what at first glance, seemed to be the exact same code in it.  Later in the testing process, it was realized that the problem might be the header and this was added to the top of the script:"
   ]
  },
  {
   "cell_type": "code",
   "execution_count": 20,
   "metadata": {
    "collapsed": true
   },
   "outputs": [],
   "source": [
    "#!/usr/bin/env python\n",
    "# -*- coding: utf-8 -*-  "
   ]
  },
  {
   "cell_type": "code",
   "execution_count": 22,
   "metadata": {
    "collapsed": false
   },
   "outputs": [
    {
     "name": "stdout",
     "output_type": "stream",
     "text": [
      "------------------------------\n",
      "Unknown Event: Django Girls Bucaramanga, Colombia\n",
      "    Time    :  08 April &ndash; 09 April  2017\n",
      "    Location: Bucaramanga, Colombia\n",
      "------------------------------\n",
      "Upcoming Event: Python Meetup Innsbruck: imp.reload(innsbruck)\n",
      "    Time    :  25 April 2017\n",
      "    Location:  Innsbruck, Austria, Europe\n",
      "------------------------------\n",
      "<type 'exceptions.UnicodeEncodeError'>\n",
      "'ascii' codec can't encode character u'\\xe3' in position 29: ordinal not in range(128)\n",
      "Character 29 of the Event Title Needs to be removed before print() or str() can process it.\n",
      "    Time    :  20 May &ndash; 21 May  2017\n"
     ]
    },
    {
     "name": "stderr",
     "output_type": "stream",
     "text": [
      "Traceback (most recent call last):\n",
      "  File \"script/event_v1.py\", line 71, in <module>\n",
      "    print ('    Location: %s' %i.location)\n",
      "UnicodeEncodeError: 'ascii' codec can't encode character u'\\xe3' in position 15: ordinal not in range(128)\n"
     ]
    }
   ],
   "source": [
    "!python script/event_v1.py"
   ]
  },
  {
   "cell_type": "markdown",
   "metadata": {},
   "source": [
    "It turns out that if we add the header lines into the Jupyter notebook cell, then the two copies of the code fail in more similar ways.  Though the header appears to be for scripts, it influences coding in Jupyter cells as well.  The strange thing here though, is that adding a line for UTF-8 results in more errors in the script version than leaving it out, even though the research that follows shows that handling of UTF-8 is at the core of how to fix this problem."
   ]
  },
  {
   "cell_type": "markdown",
   "metadata": {},
   "source": [
    "#### Experiment 2"
   ]
  },
  {
   "cell_type": "code",
   "execution_count": 23,
   "metadata": {
    "collapsed": false
   },
   "outputs": [
    {
     "name": "stdout",
     "output_type": "stream",
     "text": [
      "------------------------------\n",
      "Unknown Event: Django Girls Bucaramanga, Colombia\n",
      "    Time    :  08 April &ndash; 09 April  2017\n",
      "    Location: Bucaramanga, Colombia\n",
      "------------------------------\n",
      "Upcoming Event: Python Meetup Innsbruck: imp.reload(innsbruck)\n",
      "    Time    :  25 April 2017\n",
      "    Location:  Innsbruck, Austria, Europe\n",
      "------------------------------\n",
      "Warning!\n",
      "<type 'exceptions.UnicodeEncodeError'>: 'ascii' codec can't encode character u'\\xe3' in position 29: ordinal not in range(128)\n",
      "Character 29 cannot be processed by print() or str() and will be replaced.\n",
      "---------------------\n",
      "Warning!\n",
      "<type 'exceptions.UnicodeEncodeError'>: 'ascii' codec can't encode character u'\\xe9' in position 43: ordinal not in range(128)\n",
      "Character 43 cannot be processed by print() or str() and will be replaced.\n",
      "---------------------\n",
      "Unknown Event: Django Girls S\"u'\\xe3'\"o Jos\"u'\\xe9'\" dos Campos\n",
      "    Time    :  20 May &ndash; 21 May  2017\n",
      "Warning!\n",
      "<type 'exceptions.UnicodeEncodeError'>: 'ascii' codec can't encode character u'\\xe3' in position 15: ordinal not in range(128)\n",
      "Character 15 cannot be processed by print() or str() and will be replaced.\n",
      "---------------------\n",
      "Warning!\n",
      "<type 'exceptions.UnicodeEncodeError'>: 'ascii' codec can't encode character u'\\xe9' in position 29: ordinal not in range(128)\n",
      "Character 29 cannot be processed by print() or str() and will be replaced.\n",
      "---------------------\n",
      "    Location: S\"u'\\xe3'\"o Jos\"u'\\xe9'\" dos Campos, Brazil\n",
      "------------------------------\n",
      "Unknown Event: Django Girls Accra\n",
      "    Time    :  16 June &ndash; 18 June  2017\n",
      "    Location: Accra, Ghana\n",
      "------------------------------\n",
      "Missed Event: Python Porto Meetup\n",
      "    Time    :  24 March 2017\n",
      "    Location: Porto, Portugal\n",
      "------------------------------\n",
      "Unknown Event: PyDelhiConf 2017\n",
      "    Time    :  18 March &ndash; 20 March  2017\n",
      "    Location: NCR, Noida, India\n"
     ]
    }
   ],
   "source": [
    "# This version of the code assumes we want to to see warnings and error content along with as much of the output\n",
    "# as can be processed around the characters causing the problem\n",
    "\n",
    "''' Here we see code designed to find the mis-behaving characters, output as much as we know about them\n",
    "    (text originally captured in the error messages when the code halted), output as much as possible of\n",
    "    the non-misbehaving content, and continue to run.  \n",
    "    \n",
    "    The output when the error is encountered is ugly, but this is deliberate.  It shows all errors triggers and\n",
    "    highlights the recursive nature of this solution for future study.\n",
    "'''\n",
    "\n",
    "#!/usr/bin/env python\n",
    "# -*- coding: utf-8 -*-  \n",
    "\n",
    "import requests\n",
    "import datetime\n",
    "import re\n",
    "\n",
    "class event(object):\n",
    "    def __init__(self, title, time, location):\n",
    "        self.title = title\n",
    "        self.time = time\n",
    "        self.location = location\n",
    "    \n",
    "    def day(self):\n",
    "        try:\n",
    "            day = re.findall('\\w+', self.time)[:3]\n",
    "            day = ' '.join(day)\n",
    "            try: \n",
    "                return datetime.datetime.strptime(day, \"%d %b %Y\")\n",
    "            except ValueError:\n",
    "                return datetime.datetime.strptime(day, \"%d %B %Y\")\n",
    "        except ValueError:\n",
    "            return self.time\n",
    "    \n",
    "    def status(self):\n",
    "        if isinstance(self.day(), datetime.datetime):\n",
    "            now = datetime.datetime.now()\n",
    "            if now < self.day():\n",
    "                return 'Upcoming'\n",
    "            elif now - self.day() < datetime.timedelta(days=1):\n",
    "                return 'Today'\n",
    "            else:\n",
    "                return 'Missed'\n",
    "        else:\n",
    "            return 'Unknown'\n",
    "        \n",
    "    def __str__(self):     \n",
    "        return str_Intl(self.status() + ' Event: %s' %self.title)    # call to str_Intl is part of bug fix\n",
    "\n",
    "# this function created instead of modifying __str__ because in testing, this error cropped up\n",
    "# both in the use of a print() satement all by itself, and in an event.__str__ call\n",
    "\n",
    "def str_Intl(strng):   \n",
    "    try:\n",
    "        rtnVal = str(strng)\n",
    "    except UnicodeEncodeError as uee:\n",
    "        print(\"Warning!\")\n",
    "        print(\"%s: %s\" %(type(uee), uee))\n",
    "        chrStartIndx = len(\"'ascii' codec can't encode character \")\n",
    "        chrEndIndx = str(uee).find(\" in position \")\n",
    "        replStr = str(uee)[chrStartIndx:chrEndIndx] \n",
    "        startIndx = (chrEndIndx+1) + len(\"in position \")\n",
    "        endIndx = str(uee).find(\": ordinal\")\n",
    "        oIndx = int(str(uee)[startIndx:endIndx])\n",
    "        print(\"Character %d cannot be processed by print() or str() and will be replaced.\" %(oIndx))\n",
    "        print(\"---------------------\")\n",
    "        rtnVal = (strng[0:oIndx] + (\"\\\"%s\\\"\" %replStr) + strng[(oIndx+1):])\n",
    "        rtnVal = str_Intl(rtnVal)    # recursive fuction call\n",
    "    except Exception as ee:\n",
    "        rtnVal = \"String data coult not be processed. Error: %s : %s\" %(type(ee), ee)\n",
    "    return rtnVal    \n",
    "    \n",
    "text = requests.get('https://www.python.org/events/python-user-group/').text\n",
    "timePattern = '<time datetime=\"[\\w:+-]+\">(.+)<span class=\"say-no-more\">([\\d ]+)</span>(.*)</time>'\n",
    "locationPattern = '<span class=\"event-location\">(.*)</span>'\n",
    "titlePattern = '<h3 class=\"event-title\"><a href=\".+\">(.*)</a></h3>'\n",
    "\n",
    "time = re.findall(timePattern, text)\n",
    "time = [''.join(i) for i in time]\n",
    "location = re.findall(locationPattern, text)\n",
    "title = re.findall(titlePattern, text)\n",
    "\n",
    "events = [event(title[i], time[i], location[i]) for i in range(len(title))]\n",
    "\n",
    "for i in events:\n",
    "    print (30*'-')\n",
    "    print(i)                                         # bug fix: i is in events, so this calls __str__ in the object\n",
    "    print ('    Time    :  %s' %i.time)\n",
    "    print (str_Intl('    Location: %s' %i.location)) # when bug happened here, had to add str_Intl as bug fix"
   ]
  },
  {
   "cell_type": "code",
   "execution_count": 24,
   "metadata": {
    "collapsed": false
   },
   "outputs": [
    {
     "name": "stdout",
     "output_type": "stream",
     "text": [
      "------------------------------\n",
      "Unknown Event: Django Girls Bucaramanga, Colombia\n",
      "    Time    :  08 April &ndash; 09 April  2017\n",
      "    Location: Bucaramanga, Colombia\n",
      "------------------------------\n",
      "Upcoming Event: Python Meetup Innsbruck: imp.reload(innsbruck)\n",
      "    Time    :  25 April 2017\n",
      "    Location:  Innsbruck, Austria, Europe\n",
      "------------------------------\n",
      "Warning!\n",
      "<type 'exceptions.UnicodeEncodeError'>: 'ascii' codec can't encode character u'\\xe3' in position 29: ordinal not in range(128)\n",
      "Character 29 cannot be processed by print() or str() and will be replaced.\n",
      "---------------------\n",
      "Warning!\n",
      "<type 'exceptions.UnicodeEncodeError'>: 'ascii' codec can't encode character u'\\xe9' in position 43: ordinal not in range(128)\n",
      "Character 43 cannot be processed by print() or str() and will be replaced.\n",
      "---------------------\n",
      "Unknown Event: Django Girls S\"u'\\xe3'\"o Jos\"u'\\xe9'\" dos Campos\n",
      "    Time    :  20 May &ndash; 21 May  2017\n",
      "Warning!\n",
      "<type 'exceptions.UnicodeEncodeError'>: 'ascii' codec can't encode character u'\\xe3' in position 15: ordinal not in range(128)\n",
      "Character 15 cannot be processed by print() or str() and will be replaced.\n",
      "---------------------\n",
      "Warning!\n",
      "<type 'exceptions.UnicodeEncodeError'>: 'ascii' codec can't encode character u'\\xe9' in position 29: ordinal not in range(128)\n",
      "Character 29 cannot be processed by print() or str() and will be replaced.\n",
      "---------------------\n",
      "    Location: S\"u'\\xe3'\"o Jos\"u'\\xe9'\" dos Campos, Brazil\n",
      "------------------------------\n",
      "Unknown Event: Django Girls Accra\n",
      "    Time    :  16 June &ndash; 18 June  2017\n",
      "    Location: Accra, Ghana\n",
      "------------------------------\n",
      "Missed Event: Python Porto Meetup\n",
      "    Time    :  24 March 2017\n",
      "    Location: Porto, Portugal\n",
      "------------------------------\n",
      "Unknown Event: PyDelhiConf 2017\n",
      "    Time    :  18 March &ndash; 20 March  2017\n",
      "    Location: NCR, Noida, India\n"
     ]
    }
   ],
   "source": [
    "!python script/event_v2.py"
   ]
  },
  {
   "cell_type": "markdown",
   "metadata": {},
   "source": [
    "Note that in the above code, a number of runs of the code did not throw the error on the Location line for \"dos Campos, Brazil\" so when this error occurred for the first time when running the code from a script, it came as a surprise.  Later runs of the code (before realizing the header implications) were inconsistent sometimes throwing the error and sometimes not.  This part of the testing experience does not appear to be reproduceable.  The error occurs consistently now.  But Stack Overflow posts on this topic indicate others have had the same experience when dealing with international character sets.  From this point forward, Jupyter cells and script versions run appear to run identically to each other."
   ]
  },
  {
   "cell_type": "markdown",
   "metadata": {
    "collapsed": true
   },
   "source": [
    "### Real Solution to the Problem\n",
    "The following web topics were part of the research into a more comprehensive solution to the problem.  While the code in the solutions below (even the final one) may seem overly complicated, every time it looked like all instances of the encoding error were handled, another one would mysteriously creep up in testing.  By the end of this section, code handles the error in such a way that the code to strip out characters it can't handle never fires.  And we get it down to only one instance of a warning about ascii replacement rather than loss of characters (which might make some content harder to read).  The exception case to strip out characters it can't handle at all and warn us is retained just in case some characer we did not test or needs this code in the future.  Should that ever happen, the code can the be re-visited.\n",
    "\n",
    "Stack Overflow posts on this topic:\n",
    "- [Stack Overflow: unicodeencodeerror post](http://stackoverflow.com/questions/9942594/unicodeencodeerror-ascii-codec-cant-encode-character-u-xa0-in-position-20)\n",
    "- [Stack Overflow: another post encode/decode error](http://stackoverflow.com/questions/2365411/python-convert-unicode-to-ascii-without-errors)\n",
    "- [Stack Overflow: yet another post encode/decode error](http://stackoverflow.com/questions/816285/where-is-pythons-best-ascii-for-this-unicode-database)\n",
    "- [Stack Overflow: Unicode Error in MySQL implementation](http://stackoverflow.com/questions/18316967/python-unicodeencodeerror)\n",
    "- [Stack Overflow: converting string to unicode](http://stackoverflow.com/questions/4182603/python-how-to-convert-a-string-to-utf-8)"
   ]
  },
  {
   "cell_type": "markdown",
   "metadata": {},
   "source": [
    "#### Experiment 3"
   ]
  },
  {
   "cell_type": "code",
   "execution_count": 25,
   "metadata": {
    "collapsed": false
   },
   "outputs": [
    {
     "name": "stdout",
     "output_type": "stream",
     "text": [
      "------------------------------\n",
      "Unknown Event: Django Girls Bucaramanga, Colombia\n",
      "    Time    :  08 April &ndash; 09 April  2017\n",
      "    Location: Bucaramanga, Colombia\n",
      "------------------------------\n",
      "Upcoming Event: Python Meetup Innsbruck: imp.reload(innsbruck)\n",
      "    Time    :  25 April 2017\n",
      "    Location:  Innsbruck, Austria, Europe\n",
      "------------------------------\n",
      "Warning!\n",
      "<type 'exceptions.UnicodeDecodeError'>: 'ascii' codec can't decode byte 0xc3 in position 29: ordinal not in range(128)\n"
     ]
    },
    {
     "ename": "UnicodeDecodeError",
     "evalue": "'ascii' codec can't decode byte 0xc3 in position 29: ordinal not in range(128)",
     "output_type": "error",
     "traceback": [
      "\u001b[0;31m---------------------------------------------------------------------------\u001b[0m",
      "\u001b[0;31mUnicodeDecodeError\u001b[0m                        Traceback (most recent call last)",
      "\u001b[0;32m<ipython-input-25-2927ac3e526d>\u001b[0m in \u001b[0;36m<module>\u001b[0;34m()\u001b[0m\n\u001b[1;32m    100\u001b[0m \u001b[1;32mfor\u001b[0m \u001b[0mi\u001b[0m \u001b[1;32min\u001b[0m \u001b[0mevents\u001b[0m\u001b[1;33m:\u001b[0m\u001b[1;33m\u001b[0m\u001b[0m\n\u001b[1;32m    101\u001b[0m     \u001b[1;32mprint\u001b[0m \u001b[1;33m(\u001b[0m\u001b[1;36m30\u001b[0m\u001b[1;33m*\u001b[0m\u001b[1;34m'-'\u001b[0m\u001b[1;33m)\u001b[0m\u001b[1;33m\u001b[0m\u001b[0m\n\u001b[0;32m--> 102\u001b[0;31m     \u001b[1;32mprint\u001b[0m\u001b[1;33m(\u001b[0m\u001b[0mi\u001b[0m\u001b[1;33m)\u001b[0m                                          \u001b[1;31m# bug fix: i is in events, so this calls __str__ in the object\u001b[0m\u001b[1;33m\u001b[0m\u001b[0m\n\u001b[0m\u001b[1;32m    103\u001b[0m     \u001b[1;32mprint\u001b[0m \u001b[1;33m(\u001b[0m\u001b[1;34m'    Time    :  %s'\u001b[0m \u001b[1;33m%\u001b[0m\u001b[0mi\u001b[0m\u001b[1;33m.\u001b[0m\u001b[0mtime\u001b[0m\u001b[1;33m)\u001b[0m\u001b[1;33m\u001b[0m\u001b[0m\n\u001b[1;32m    104\u001b[0m     \u001b[1;32mprint\u001b[0m \u001b[1;33m(\u001b[0m\u001b[0mstr_Intl\u001b[0m\u001b[1;33m(\u001b[0m\u001b[1;34m'    Location: %s'\u001b[0m \u001b[1;33m%\u001b[0m\u001b[0mi\u001b[0m\u001b[1;33m.\u001b[0m\u001b[0mlocation\u001b[0m\u001b[1;33m)\u001b[0m\u001b[1;33m)\u001b[0m  \u001b[1;31m# when bug happened here, had to add str_Intl as bug fix\u001b[0m\u001b[1;33m\u001b[0m\u001b[0m\n",
      "\u001b[0;32m<ipython-input-25-2927ac3e526d>\u001b[0m in \u001b[0;36m__str__\u001b[0;34m(self)\u001b[0m\n\u001b[1;32m     41\u001b[0m \u001b[1;33m\u001b[0m\u001b[0m\n\u001b[1;32m     42\u001b[0m     \u001b[1;32mdef\u001b[0m \u001b[0m__str__\u001b[0m\u001b[1;33m(\u001b[0m\u001b[0mself\u001b[0m\u001b[1;33m)\u001b[0m\u001b[1;33m:\u001b[0m\u001b[1;33m\u001b[0m\u001b[0m\n\u001b[0;32m---> 43\u001b[0;31m         \u001b[1;32mreturn\u001b[0m \u001b[0mstr_Intl\u001b[0m\u001b[1;33m(\u001b[0m\u001b[0mself\u001b[0m\u001b[1;33m.\u001b[0m\u001b[0mstatus\u001b[0m\u001b[1;33m(\u001b[0m\u001b[1;33m)\u001b[0m \u001b[1;33m+\u001b[0m \u001b[1;34m' Event: %s'\u001b[0m \u001b[1;33m%\u001b[0m\u001b[0mself\u001b[0m\u001b[1;33m.\u001b[0m\u001b[0mtitle\u001b[0m\u001b[1;33m.\u001b[0m\u001b[0mencode\u001b[0m\u001b[1;33m(\u001b[0m\u001b[1;34m'utf-8'\u001b[0m\u001b[1;33m)\u001b[0m\u001b[1;33m)\u001b[0m    \u001b[1;31m# call to str_Intl is part of bug fix\u001b[0m\u001b[1;33m\u001b[0m\u001b[0m\n\u001b[0m\u001b[1;32m     44\u001b[0m         \u001b[1;31m# a.encode('utf-8')\u001b[0m\u001b[1;33m\u001b[0m\u001b[1;33m\u001b[0m\u001b[0m\n\u001b[1;32m     45\u001b[0m \u001b[1;33m\u001b[0m\u001b[0m\n",
      "\u001b[0;32m<ipython-input-25-2927ac3e526d>\u001b[0m in \u001b[0;36mstr_Intl\u001b[0;34m(strng)\u001b[0m\n\u001b[1;32m     77\u001b[0m         \u001b[1;31m# it then triggered this error for one of the other cases, so now we trying other solutions:\u001b[0m\u001b[1;33m\u001b[0m\u001b[1;33m\u001b[0m\u001b[0m\n\u001b[1;32m     78\u001b[0m \u001b[1;33m\u001b[0m\u001b[0m\n\u001b[0;32m---> 79\u001b[0;31m         \u001b[0mrtnVal\u001b[0m \u001b[1;33m=\u001b[0m \u001b[0mstrng\u001b[0m\u001b[1;33m.\u001b[0m\u001b[0mencode\u001b[0m\u001b[1;33m(\u001b[0m\u001b[1;34m'utf-8'\u001b[0m\u001b[1;33m)\u001b[0m\u001b[1;33m.\u001b[0m\u001b[0mstrip\u001b[0m\u001b[1;33m(\u001b[0m\u001b[1;33m)\u001b[0m\u001b[1;33m\u001b[0m\u001b[0m\n\u001b[0m\u001b[1;32m     80\u001b[0m         \u001b[0mrtnVal\u001b[0m \u001b[1;33m=\u001b[0m \u001b[0mstr_Intl\u001b[0m\u001b[1;33m(\u001b[0m\u001b[0mrtnVal\u001b[0m\u001b[1;33m)\u001b[0m\u001b[1;33m\u001b[0m\u001b[0m\n\u001b[1;32m     81\u001b[0m \u001b[1;33m\u001b[0m\u001b[0m\n",
      "\u001b[0;31mUnicodeDecodeError\u001b[0m: 'ascii' codec can't decode byte 0xc3 in position 29: ordinal not in range(128)"
     ]
    }
   ],
   "source": [
    "#!/usr/bin/env python\n",
    "# -*- coding: utf-8 -*-  \n",
    "\n",
    "# Draft Version ... presented to illustrate how the problem shifts and how later solutions address this\n",
    "#   * In this version, several solutions from Stack Overflow are added into the code.\n",
    "#   * the result is that one encode error is solved but another one shifts to a decode error\n",
    "#   * one suggested solution for decode is used and though it worked for others, it fails here\n",
    "\n",
    "import requests\n",
    "import datetime\n",
    "import re\n",
    "\n",
    "class event(object):\n",
    "    def __init__(self, title, time, location):\n",
    "        self.title = title\n",
    "        self.time = time\n",
    "        self.location = location\n",
    "    \n",
    "    def day(self):\n",
    "        try:\n",
    "            day = re.findall('\\w+', self.time)[:3]\n",
    "            day = ' '.join(day)\n",
    "            try: \n",
    "                return datetime.datetime.strptime(day, \"%d %b %Y\")\n",
    "            except ValueError:\n",
    "                return datetime.datetime.strptime(day, \"%d %B %Y\")\n",
    "        except ValueError:\n",
    "            return self.time\n",
    "    \n",
    "    def status(self):\n",
    "        if isinstance(self.day(), datetime.datetime):\n",
    "            now = datetime.datetime.now()\n",
    "            if now < self.day():\n",
    "                return 'Upcoming'\n",
    "            elif now - self.day() < datetime.timedelta(days=1):\n",
    "                return 'Today'\n",
    "            else:\n",
    "                return 'Missed'\n",
    "        else:\n",
    "            return 'Unknown'\n",
    "        \n",
    "    def __str__(self):     \n",
    "        return str_Intl(self.status() + ' Event: %s' %self.title.encode('utf-8'))    # call to str_Intl is part of bug fix\n",
    "        # a.encode('utf-8')\n",
    "\n",
    "# this function created instead of modifying __str__ because in testing, this error cropped up\n",
    "# both in the use of a print() satement all by itself, and in an event.__str__ call\n",
    "\n",
    "def str_Intl(strng):   \n",
    "    try:\n",
    "        strng2 = strng.encode('utf-8')\n",
    "        rtnVal = str(strng2)           # if str() throws an error, we have a problem (which is why it is here)\n",
    "                                       # note that in our code though, we really already know that inputs are string\n",
    "                                       # so if it weren't for the try test on str() using it might be redundant\n",
    "    except UnicodeEncodeError as uee:\n",
    "        print(\"Warning!\")\n",
    "        print(\"%s: %s\" %(type(uee), uee))\n",
    "        chrStartIndx = len(\"'ascii' codec can't encode character \")\n",
    "        chrEndIndx = str(uee).find(\" in position \")\n",
    "        replStr = str(uee)[chrStartIndx:chrEndIndx] \n",
    "        startIndx = (chrEndIndx+1) + len(\"in position \")\n",
    "        endIndx = str(uee).find(\": ordinal\")\n",
    "        oIndx = int(str(uee)[startIndx:endIndx])\n",
    "        print(\"Character %d cannot be processed by print() or str() and will be replaced.\" %(oIndx))\n",
    "        print(\"---------------------\")\n",
    "        rtnVal = (strng[0:oIndx] + (\"\\\"%s\\\"\" %replStr) + strng[(oIndx+1):])\n",
    "        rtnVal = str_Intl(rtnVal)    # recursive fuction call\n",
    "        \n",
    "    except UnicodeDecodeError as ude:\n",
    "        # early testing with this line from stack overflow did not work for us:\n",
    "        # strng.encode('utf-8').strip()\n",
    "        # this solution also strips off the problem characters without outputting what they were\n",
    "        \n",
    "        print(\"Warning!\")\n",
    "        print(\"%s: %s\" %(type(ude), ude))\n",
    "        # earlier use of .encode() fixed one issue and bypassed the UnicodeEncodeError handling\n",
    "        # it then triggered this error for one of the other cases, so now we trying other solutions:\n",
    "        \n",
    "        rtnVal = strng.encode('utf-8').strip()\n",
    "        rtnVal = str_Intl(rtnVal)\n",
    "        \n",
    "    except Exception as ee:\n",
    "        # when calling this code in a loop, you lose one string and get this error message output instead\n",
    "        # but the loop can continue over the rest of the data\n",
    "        rtnVal = \"String data coult not be processed. Error: %s : %s\" %(type(ee), ee)\n",
    "    return rtnVal    \n",
    "    \n",
    "text = requests.get('https://www.python.org/events/python-user-group/').text\n",
    "timePattern = '<time datetime=\"[\\w:+-]+\">(.+)<span class=\"say-no-more\">([\\d ]+)</span>(.*)</time>'\n",
    "locationPattern = '<span class=\"event-location\">(.*)</span>'\n",
    "titlePattern = '<h3 class=\"event-title\"><a href=\".+\">(.*)</a></h3>'\n",
    "\n",
    "time = re.findall(timePattern, text)\n",
    "time = [''.join(i) for i in time]\n",
    "location = re.findall(locationPattern, text)\n",
    "title = re.findall(titlePattern, text)\n",
    "\n",
    "events = [event(title[i], time[i], location[i]) for i in range(len(title))]\n",
    "\n",
    "for i in events:\n",
    "    print (30*'-')\n",
    "    print(i)                                          # bug fix: i is in events, so this calls __str__ in the object\n",
    "    print ('    Time    :  %s' %i.time)\n",
    "    print (str_Intl('    Location: %s' %i.location))  # when bug happened here, had to add str_Intl as bug fix"
   ]
  },
  {
   "cell_type": "code",
   "execution_count": 26,
   "metadata": {
    "collapsed": false
   },
   "outputs": [
    {
     "name": "stdout",
     "output_type": "stream",
     "text": [
      "------------------------------\n",
      "Unknown Event: Django Girls Bucaramanga, Colombia\n",
      "    Time    :  08 April &ndash; 09 April  2017\n",
      "    Location: Bucaramanga, Colombia\n",
      "------------------------------\n",
      "Upcoming Event: Python Meetup Innsbruck: imp.reload(innsbruck)\n",
      "    Time    :  25 April 2017\n",
      "    Location:  Innsbruck, Austria, Europe\n",
      "------------------------------\n",
      "Warning!\n",
      "<type 'exceptions.UnicodeDecodeError'>: 'ascii' codec can't decode byte 0xc3 in position 29: ordinal not in range(128)\n"
     ]
    },
    {
     "name": "stderr",
     "output_type": "stream",
     "text": [
      "Traceback (most recent call last):\n",
      "  File \"script/event_v3.py\", line 104, in <module>\n",
      "    print(i)                                          # bug fix: i is in events, so this calls __str__ in the object\n",
      "  File \"script/event_v3.py\", line 45, in __str__\n",
      "    return str_Intl(self.status() + ' Event: %s' %self.title.encode('utf-8'))    # call to str_Intl is part of bug fix\n",
      "  File \"script/event_v3.py\", line 81, in str_Intl\n",
      "    rtnVal = strng.encode('utf-8').strip()\n",
      "UnicodeDecodeError: 'ascii' codec can't decode byte 0xc3 in position 29: ordinal not in range(128)\n"
     ]
    }
   ],
   "source": [
    "!python script/event_v3.py"
   ]
  },
  {
   "cell_type": "markdown",
   "metadata": {},
   "source": [
    "<a id=\"solution\" name=\"solution\"></a>\n",
    "#### Final Solution for Python 2.7 (But Not The Final Solution)\n",
    "No work is ever complete, just abandoned.  This works and covers different scenarios that might be encountered in future content.  Until such time as it fails to meet expectations, it is good enough for now. Or at least it was, until cross-testing on Python 3.6 found a problem."
   ]
  },
  {
   "cell_type": "code",
   "execution_count": 27,
   "metadata": {
    "collapsed": false
   },
   "outputs": [
    {
     "name": "stdout",
     "output_type": "stream",
     "text": [
      "------------------------------\n",
      "Unknown Event: Django Girls Bucaramanga, Colombia\n",
      "    Time    :  08 April &ndash; 09 April  2017\n",
      "    Location: Bucaramanga, Colombia\n",
      "------------------------------\n",
      "Upcoming Event: Python Meetup Innsbruck: imp.reload(innsbruck)\n",
      "    Time    :  25 April 2017\n",
      "    Location:  Innsbruck, Austria, Europe\n",
      "------------------------------\n",
      "Warning!\n",
      "<type 'exceptions.UnicodeDecodeError'>: 'ascii' codec can't decode byte 0xc3 in position 29: ordinal not in range(128)\n",
      "Where possible, characters are replaced with their closest ascii equivelence.\n",
      "Unknown Event: Django Girls Sao Jose dos Campos\n",
      "    Time    :  20 May &ndash; 21 May  2017\n",
      "    Location: São José dos Campos, Brazil\n",
      "------------------------------\n",
      "Unknown Event: Django Girls Accra\n",
      "    Time    :  16 June &ndash; 18 June  2017\n",
      "    Location: Accra, Ghana\n",
      "------------------------------\n",
      "Missed Event: Python Porto Meetup\n",
      "    Time    :  24 March 2017\n",
      "    Location: Porto, Portugal\n",
      "------------------------------\n",
      "Unknown Event: PyDelhiConf 2017\n",
      "    Time    :  18 March &ndash; 20 March  2017\n",
      "    Location: NCR, Noida, India\n"
     ]
    }
   ],
   "source": [
    "#!/usr/bin/env python\n",
    "# -*- coding: utf-8 -*-  \n",
    "\n",
    "# This code produces a working solution.  There may be more efficient ways to do this, but this works.\n",
    "\n",
    "import requests\n",
    "import datetime\n",
    "import re\n",
    "import unicodedata  # for solution that did not work and is commeted out\n",
    "\n",
    "class event(object):\n",
    "    def __init__(self, title, time, location):\n",
    "        self.title = title\n",
    "        self.time = time\n",
    "        self.location = location\n",
    "    \n",
    "    def day(self):\n",
    "        try:\n",
    "            day = re.findall('\\w+', self.time)[:3]\n",
    "            day = ' '.join(day)\n",
    "            try: \n",
    "                return datetime.datetime.strptime(day, \"%d %b %Y\")\n",
    "            except ValueError:\n",
    "                return datetime.datetime.strptime(day, \"%d %B %Y\")\n",
    "        except ValueError:\n",
    "            return self.time\n",
    "    \n",
    "    def status(self):\n",
    "        if isinstance(self.day(), datetime.datetime):\n",
    "            now = datetime.datetime.now()\n",
    "            if now < self.day():\n",
    "                return 'Upcoming'\n",
    "            elif now - self.day() < datetime.timedelta(days=1):\n",
    "                return 'Today'\n",
    "            else:\n",
    "                return 'Missed'\n",
    "        else:\n",
    "            return 'Unknown'\n",
    "        \n",
    "    def __str__(self):     \n",
    "        return str_Intl(self.status() + ' Event: %s' %self.title.encode('utf-8'))    # call to str_Intl is part of bug fix\n",
    "\n",
    "# this function created instead of modifying __str__ because in testing, this error cropped up\n",
    "# both in the use of a print() satement all by itself, and in an event.__str__ call\n",
    "\n",
    "def str_Intl(strng):   \n",
    "    try:\n",
    "        strng2 = strng.encode('utf-8')\n",
    "        rtnVal = str(strng2)\n",
    "        \n",
    "    except UnicodeEncodeError as uee:\n",
    "        print(\"Warning!\")\n",
    "        print(\"%s: %s\" %(type(uee), uee))\n",
    "        chrStartIndx = len(\"'ascii' codec can't encode character \")\n",
    "        chrEndIndx = str(uee).find(\" in position \")\n",
    "        replStr = str(uee)[chrStartIndx:chrEndIndx] \n",
    "        startIndx = (chrEndIndx+1) + len(\"in position \")\n",
    "        endIndx = str(uee).find(\": ordinal\")\n",
    "        oIndx = int(str(uee)[startIndx:endIndx])\n",
    "        print(\"Character %d cannot be processed by print() or str() and will be replaced.\" %(oIndx))\n",
    "        print(\"---------------------\")\n",
    "        rtnVal = (strng[0:oIndx] + (\"\\\"%s\\\"\" %replStr) + strng[(oIndx+1):])\n",
    "        rtnVal = str_Intl(rtnVal)    # recursive fuction call\n",
    "        \n",
    "    except UnicodeDecodeError as ude:\n",
    "        # early testing with this line from stack overflow did not work for us:\n",
    "        # strng.encode('utf-8').strip()\n",
    "        # this solution also strips off the problem characters without outputting what they were\n",
    "        \n",
    "        print(\"Warning!\")\n",
    "        print(\"%s: %s\" %(type(ude), ude))\n",
    "        print(\"Where possible, characters are replaced with their closest ascii equivelence.\")\n",
    "        # earlier use of .encode() fixed one issue and bypassed the UnicodeEncodeError handling\n",
    "        # it then triggered this error for one of the other cases, so now we trying other solutions:\n",
    "        \n",
    "        strng_u = unicode(strng, \"utf-8\")\n",
    "        rtnVal = unicodedata.normalize('NFKD', strng_u).encode('ascii', 'ignore')\n",
    "                 # this threw an error that 2nd argument must be unicode, not string\n",
    "                 # added string_u line as a fix for that\n",
    "                \n",
    "        rtnVal = str_Intl(rtnVal)\n",
    "        \n",
    "    except Exception as ee:\n",
    "        # when calling this code in a loop, you lose one value and get this error message output instead\n",
    "        # but the loop can continue over the rest of your data\n",
    "        rtnVal = \"String data coult not be processed. Error: %s : %s\" %(type(ee), ee)\n",
    "    return rtnVal    \n",
    "    \n",
    "text = requests.get('https://www.python.org/events/python-user-group/').text\n",
    "timePattern = '<time datetime=\"[\\w:+-]+\">(.+)<span class=\"say-no-more\">([\\d ]+)</span>(.*)</time>'\n",
    "locationPattern = '<span class=\"event-location\">(.*)</span>'\n",
    "titlePattern = '<h3 class=\"event-title\"><a href=\".+\">(.*)</a></h3>'\n",
    "\n",
    "time = re.findall(timePattern, text)\n",
    "time = [''.join(i) for i in time]\n",
    "location = re.findall(locationPattern, text)\n",
    "title = re.findall(titlePattern, text)\n",
    "\n",
    "events = [event(title[i], time[i], location[i]) for i in range(len(title))]\n",
    "\n",
    "for i in events:\n",
    "    print (30*'-')\n",
    "    print(i)                                          # bug fix: i is in events, so this calls __str__ in the object\n",
    "    print ('    Time    :  %s' %i.time)\n",
    "    print (str_Intl('    Location: %s' %i.location))  # when bug happened here, had to add str_Intl as bug fix\n"
   ]
  },
  {
   "cell_type": "code",
   "execution_count": 28,
   "metadata": {
    "collapsed": false
   },
   "outputs": [
    {
     "name": "stdout",
     "output_type": "stream",
     "text": [
      "------------------------------\n",
      "Unknown Event: Django Girls Bucaramanga, Colombia\n",
      "    Time    :  08 April &ndash; 09 April  2017\n",
      "    Location: Bucaramanga, Colombia\n",
      "------------------------------\n",
      "Upcoming Event: Python Meetup Innsbruck: imp.reload(innsbruck)\n",
      "    Time    :  25 April 2017\n",
      "    Location:  Innsbruck, Austria, Europe\n",
      "------------------------------\n",
      "Warning!\n",
      "<type 'exceptions.UnicodeDecodeError'>: 'ascii' codec can't decode byte 0xc3 in position 29: ordinal not in range(128)\n",
      "Where possible, characters are replaced with their closest ascii equivelence.\n",
      "Unknown Event: Django Girls Sao Jose dos Campos\n",
      "    Time    :  20 May &ndash; 21 May  2017\n",
      "    Location: SÃ£o JosÃ© dos Campos, Brazil\n",
      "------------------------------\n",
      "Unknown Event: Django Girls Accra\n",
      "    Time    :  16 June &ndash; 18 June  2017\n",
      "    Location: Accra, Ghana\n",
      "------------------------------\n",
      "Missed Event: Python Porto Meetup\n",
      "    Time    :  24 March 2017\n",
      "    Location: Porto, Portugal\n",
      "------------------------------\n",
      "Unknown Event: PyDelhiConf 2017\n",
      "    Time    :  18 March &ndash; 20 March  2017\n",
      "    Location: NCR, Noida, India\n"
     ]
    }
   ],
   "source": [
    "# testing above as a script (still in Python 2.7)\n",
    "!python script/event_v4.py"
   ]
  },
  {
   "cell_type": "code",
   "execution_count": 29,
   "metadata": {
    "collapsed": false
   },
   "outputs": [
    {
     "name": "stdout",
     "output_type": "stream",
     "text": [
      "------------------------------\n",
      "b\"Unknown Event: b'Django Girls Bucaramanga, Colombia'\"\n",
      "    Time    :  08 April &ndash; 09 April  2017\n",
      "b'    Location: Bucaramanga, Colombia'\n",
      "------------------------------\n",
      "b\"Upcoming Event: b'Python Meetup Innsbruck: imp.reload(innsbruck)'\"\n",
      "    Time    :  25 April 2017\n",
      "b'    Location:  Innsbruck, Austria, Europe'\n",
      "------------------------------\n",
      "b\"Unknown Event: b'Django Girls S\\\\xc3\\\\xa3o Jos\\\\xc3\\\\xa9 dos Campos'\"\n",
      "    Time    :  20 May &ndash; 21 May  2017\n",
      "b'    Location: S\\xc3\\xa3o Jos\\xc3\\xa9 dos Campos, Brazil'\n",
      "------------------------------\n",
      "b\"Unknown Event: b'Django Girls Accra'\"\n",
      "    Time    :  16 June &ndash; 18 June  2017\n",
      "b'    Location: Accra, Ghana'\n",
      "------------------------------\n",
      "b\"Missed Event: b'Python Porto Meetup'\"\n",
      "    Time    :  24 March 2017\n",
      "b'    Location: Porto, Portugal'\n",
      "------------------------------\n",
      "b\"Unknown Event: b'PyDelhiConf 2017'\"\n",
      "    Time    :  18 March &ndash; 20 March  2017\n",
      "b'    Location: NCR, Noida, India'\n"
     ]
    }
   ],
   "source": [
    "# testing above as a script in Python 3.6\n",
    "!C:/ProgramFilesCoders/Anaconda2/envs/PY36/python script/event_v4.py"
   ]
  },
  {
   "cell_type": "markdown",
   "metadata": {},
   "source": [
    "<a id=\"solution2\" name=\"solution2\"></a>\n",
    "#### Final Solution for Python 2.7 And Python 3.6\n",
    "The above code, when run under Python 3.6 produces output that looks like this:"
   ]
  },
  {
   "cell_type": "code",
   "execution_count": null,
   "metadata": {
    "collapsed": false
   },
   "outputs": [],
   "source": [
    "# sample output:\n",
    "''' ------------------------------\n",
    "b\"Unknown Event: b'PyDelhiConf 2017'\"\n",
    "    Time    :  18 March &ndash; 20 March  2017\n",
    "b'    Location: NCR, Noida, India'\n",
    "'''\n",
    "print(\"-------------------------------\")"
   ]
  },
  {
   "cell_type": "markdown",
   "metadata": {},
   "source": [
    "To migrate the code to Python 3.6, two minor tweaks could be made to disable the Python 2.7 error handling and work-arounds.  These changes are easy enough to do, but just for the experience, a solution is explored here that will run on both without requiring any coding changes."
   ]
  },
  {
   "cell_type": "code",
   "execution_count": 30,
   "metadata": {
    "collapsed": false
   },
   "outputs": [
    {
     "name": "stdout",
     "output_type": "stream",
     "text": [
      "------------------------------\n",
      "Unknown Event: Django Girls Bucaramanga, Colombia\n",
      "    Time    :  08 April &ndash; 09 April  2017\n",
      "    Location: Bucaramanga, Colombia\n",
      "------------------------------\n",
      "Upcoming Event: Python Meetup Innsbruck: imp.reload(innsbruck)\n",
      "    Time    :  25 April 2017\n",
      "    Location:  Innsbruck, Austria, Europe\n",
      "------------------------------\n",
      "Warning!\n",
      "<type 'exceptions.UnicodeDecodeError'>: 'ascii' codec can't decode byte 0xc3 in position 29: ordinal not in range(128)\n",
      "Where possible, characters are replaced with their closest ascii equivelence.\n",
      "Unknown Event: Django Girls Sao Jose dos Campos\n",
      "    Time    :  20 May &ndash; 21 May  2017\n",
      "    Location: São José dos Campos, Brazil\n",
      "------------------------------\n",
      "Unknown Event: Django Girls Accra\n",
      "    Time    :  16 June &ndash; 18 June  2017\n",
      "    Location: Accra, Ghana\n",
      "------------------------------\n",
      "Missed Event: Python Porto Meetup\n",
      "    Time    :  24 March 2017\n",
      "    Location: Porto, Portugal\n",
      "------------------------------\n",
      "Unknown Event: PyDelhiConf 2017\n",
      "    Time    :  18 March &ndash; 20 March  2017\n",
      "    Location: NCR, Noida, India\n"
     ]
    }
   ],
   "source": [
    "#!/usr/bin/env python\n",
    "# -*- coding: utf-8 -*-  \n",
    "\n",
    "# This code produces a working solution.  There may be more efficient ways to do this, but this works.\n",
    "# Created for Python 2.7, then modified for cross-compatibility with Python 3.6\n",
    "\n",
    "import requests\n",
    "import datetime\n",
    "import re\n",
    "import unicodedata  # for solution that did not work and is commeted out\n",
    "\n",
    "class event(object):\n",
    "    def __init__(self, title, time, location):\n",
    "        self.title = title\n",
    "        self.time = time\n",
    "        self.location = location\n",
    "    \n",
    "    def day(self):\n",
    "        try:\n",
    "            day = re.findall('\\w+', self.time)[:3]\n",
    "            day = ' '.join(day)\n",
    "            try: \n",
    "                return datetime.datetime.strptime(day, \"%d %b %Y\")\n",
    "            except ValueError:\n",
    "                return datetime.datetime.strptime(day, \"%d %B %Y\")\n",
    "        except ValueError:\n",
    "            return self.time\n",
    "    \n",
    "    def status(self):\n",
    "        if isinstance(self.day(), datetime.datetime):\n",
    "            now = datetime.datetime.now()\n",
    "            if now < self.day():\n",
    "                return 'Upcoming'\n",
    "            elif now - self.day() < datetime.timedelta(days=1):\n",
    "                return 'Today'\n",
    "            else:\n",
    "                return 'Missed'\n",
    "        else:\n",
    "            return 'Unknown'\n",
    "        \n",
    "    def __str__(self): \n",
    "        try:\n",
    "            rtnVal = str(self.status()  + ' Event: %s' %self.title)\n",
    "        except Exception as ee:\n",
    "            rtnVal = str_Intl(self.status() + ' Event: %s' %self.title.encode('utf-8'))\n",
    "        return rtnVal\n",
    "    \n",
    "# this function created instead of modifying __str__ because in testing, this error cropped up\n",
    "# both in the use of a print() satement all by itself, and in an event.__str__ call\n",
    "\n",
    "def str_Intl(strng):   \n",
    "    try:\n",
    "        strng2 = strng.encode('utf-8')\n",
    "        rtnVal = str(strng2)\n",
    "        \n",
    "    except UnicodeEncodeError as uee:\n",
    "        print(\"Warning!\")\n",
    "        print(\"%s: %s\" %(type(uee), uee))\n",
    "        chrStartIndx = len(\"'ascii' codec can't encode character \")\n",
    "        chrEndIndx = str(uee).find(\" in position \")\n",
    "        replStr = str(uee)[chrStartIndx:chrEndIndx] \n",
    "        startIndx = (chrEndIndx+1) + len(\"in position \")\n",
    "        endIndx = str(uee).find(\": ordinal\")\n",
    "        oIndx = int(str(uee)[startIndx:endIndx])\n",
    "        print(\"Character %d cannot be processed by print() or str() and will be replaced.\" %(oIndx))\n",
    "        print(\"---------------------\")\n",
    "        rtnVal = (strng[0:oIndx] + (\"\\\"%s\\\"\" %replStr) + strng[(oIndx+1):])\n",
    "        rtnVal = str_Intl(rtnVal)    # recursive fuction call\n",
    "        \n",
    "    except UnicodeDecodeError as ude:\n",
    "        # early testing with this line from stack overflow did not work for us:\n",
    "        # strng.encode('utf-8').strip()\n",
    "        # this solution also strips off the problem characters without outputting what they were\n",
    "        \n",
    "        print(\"Warning!\")\n",
    "        print(\"%s: %s\" %(type(ude), ude))\n",
    "        print(\"Where possible, characters are replaced with their closest ascii equivelence.\")\n",
    "        # earlier use of .encode() fixed one issue and bypassed the UnicodeEncodeError handling\n",
    "        # it then triggered this error for one of the other cases, so now we trying other solutions:\n",
    "        \n",
    "        strng_u = unicode(strng, \"utf-8\")\n",
    "        rtnVal = unicodedata.normalize('NFKD', strng_u).encode('ascii', 'ignore')\n",
    "                 # this threw an error that 2nd argument must be unicode, not string\n",
    "                 # added string_u line as a fix for that\n",
    "                \n",
    "        rtnVal = str_Intl(rtnVal)\n",
    "        \n",
    "    except Exception as ee:\n",
    "        # when calling this code in a loop, you lose one value and get this error message output instead\n",
    "        # but the loop can continue over the rest of your data\n",
    "        rtnVal = \"String data coult not be processed. Error: %s : %s\" %(type(ee), ee)\n",
    "    return rtnVal    \n",
    "    \n",
    "text = requests.get('https://www.python.org/events/python-user-group/').text\n",
    "timePattern = '<time datetime=\"[\\w:+-]+\">(.+)<span class=\"say-no-more\">([\\d ]+)</span>(.*)</time>'\n",
    "locationPattern = '<span class=\"event-location\">(.*)</span>'\n",
    "titlePattern = '<h3 class=\"event-title\"><a href=\".+\">(.*)</a></h3>'\n",
    "\n",
    "time = re.findall(timePattern, text)\n",
    "time = [''.join(i) for i in time]\n",
    "location = re.findall(locationPattern, text)\n",
    "title = re.findall(titlePattern, text)\n",
    "\n",
    "events = [event(title[i], time[i], location[i]) for i in range(len(title))]\n",
    "\n",
    "for i in events:\n",
    "    print (30*'-')\n",
    "    print(i)                                          # bug fix: i is in events, so this calls __str__ in the object\n",
    "    print ('    Time    :  %s' %i.time)\n",
    "    try:\n",
    "        print ('    Location: %s' %i.location)\n",
    "    except Exception as ee:\n",
    "        print (str_Intl('    Location: %s' %i.location))  # bug fix:  error thrown here too\n",
    "                                                          # str_Intl() will parse out type of error in its try block"
   ]
  },
  {
   "cell_type": "code",
   "execution_count": 31,
   "metadata": {
    "collapsed": false
   },
   "outputs": [
    {
     "name": "stdout",
     "output_type": "stream",
     "text": [
      "------------------------------\n",
      "Unknown Event: Django Girls Bucaramanga, Colombia\n",
      "    Time    :  08 April &ndash; 09 April  2017\n",
      "    Location: Bucaramanga, Colombia\n",
      "------------------------------\n",
      "Upcoming Event: Python Meetup Innsbruck: imp.reload(innsbruck)\n",
      "    Time    :  25 April 2017\n",
      "    Location:  Innsbruck, Austria, Europe\n",
      "------------------------------\n",
      "Unknown Event: Django Girls São José dos Campos\n",
      "    Time    :  20 May &ndash; 21 May  2017\n",
      "    Location: São José dos Campos, Brazil\n",
      "------------------------------\n",
      "Unknown Event: Django Girls Accra\n",
      "    Time    :  16 June &ndash; 18 June  2017\n",
      "    Location: Accra, Ghana\n",
      "------------------------------\n",
      "Missed Event: Python Porto Meetup\n",
      "    Time    :  24 March 2017\n",
      "    Location: Porto, Portugal\n",
      "------------------------------\n",
      "Unknown Event: PyDelhiConf 2017\n",
      "    Time    :  18 March &ndash; 20 March  2017\n",
      "    Location: NCR, Noida, India\n"
     ]
    }
   ],
   "source": [
    "# Test in Python 3.6\n",
    "!C:/ProgramFilesCoders/Anaconda2/envs/PY36/python script/event.py"
   ]
  },
  {
   "cell_type": "code",
   "execution_count": 32,
   "metadata": {
    "collapsed": false
   },
   "outputs": [
    {
     "name": "stdout",
     "output_type": "stream",
     "text": [
      "------------------------------\n",
      "Unknown Event: Django Girls Bucaramanga, Colombia\n",
      "    Time    :  08 April &ndash; 09 April  2017\n",
      "    Location: Bucaramanga, Colombia\n",
      "------------------------------\n",
      "Upcoming Event: Python Meetup Innsbruck: imp.reload(innsbruck)\n",
      "    Time    :  25 April 2017\n",
      "    Location:  Innsbruck, Austria, Europe\n",
      "------------------------------\n",
      "Warning!\n",
      "<type 'exceptions.UnicodeDecodeError'>: 'ascii' codec can't decode byte 0xc3 in position 29: ordinal not in range(128)\n",
      "Where possible, characters are replaced with their closest ascii equivelence.\n",
      "Unknown Event: Django Girls Sao Jose dos Campos\n",
      "    Time    :  20 May &ndash; 21 May  2017\n",
      "    Location: SÃ£o JosÃ© dos Campos, Brazil\n",
      "------------------------------\n",
      "Unknown Event: Django Girls Accra\n",
      "    Time    :  16 June &ndash; 18 June  2017\n",
      "    Location: Accra, Ghana\n",
      "------------------------------\n",
      "Missed Event: Python Porto Meetup\n",
      "    Time    :  24 March 2017\n",
      "    Location: Porto, Portugal\n",
      "------------------------------\n",
      "Unknown Event: PyDelhiConf 2017\n",
      "    Time    :  18 March &ndash; 20 March  2017\n",
      "    Location: NCR, Noida, India\n"
     ]
    }
   ],
   "source": [
    "# for completeness .. the code is also re-tested as a script under Python 2.7\n",
    "!python script/event.py"
   ]
  },
  {
   "cell_type": "markdown",
   "metadata": {},
   "source": [
    "#### Another Experiment\n",
    "After devising most of the above code, I stumbled upon a post that a few lines of code might solve the problem so I had to try it.  As it turns out, this solution did not work for this code and content.  The experiment is preserved here for research and learning purposes."
   ]
  },
  {
   "cell_type": "code",
   "execution_count": 33,
   "metadata": {
    "collapsed": false
   },
   "outputs": [
    {
     "ename": "UnicodeEncodeError",
     "evalue": "'charmap' codec can't encode character u'\\xe3' in position 15: character maps to <undefined>",
     "output_type": "error",
     "traceback": [
      "\u001b[0;31m---------------------------------------------------------------------------\u001b[0m",
      "\u001b[0;31mUnicodeEncodeError\u001b[0m                        Traceback (most recent call last)",
      "\u001b[0;32m<ipython-input-33-b18cccb3bf1a>\u001b[0m in \u001b[0;36m<module>\u001b[0;34m()\u001b[0m\n\u001b[1;32m     65\u001b[0m     \u001b[1;32mprint\u001b[0m\u001b[1;33m(\u001b[0m\u001b[0mi\u001b[0m\u001b[1;33m)\u001b[0m\u001b[1;33m\u001b[0m\u001b[0m\n\u001b[1;32m     66\u001b[0m     \u001b[1;32mprint\u001b[0m \u001b[1;33m(\u001b[0m\u001b[1;34m'    Time:  %s'\u001b[0m \u001b[1;33m%\u001b[0m\u001b[0mi\u001b[0m\u001b[1;33m.\u001b[0m\u001b[0mtime\u001b[0m\u001b[1;33m)\u001b[0m\u001b[1;33m\u001b[0m\u001b[0m\n\u001b[0;32m---> 67\u001b[0;31m     \u001b[1;32mprint\u001b[0m \u001b[1;33m(\u001b[0m\u001b[1;34m'    Location: %s'\u001b[0m \u001b[1;33m%\u001b[0m\u001b[0mi\u001b[0m\u001b[1;33m.\u001b[0m\u001b[0mlocation\u001b[0m\u001b[1;33m)\u001b[0m\u001b[1;33m\u001b[0m\u001b[0m\n\u001b[0m",
      "\u001b[0;32mC:\\ProgramFilesCoders\\Anaconda2\\lib\\encodings\\cp437.pyc\u001b[0m in \u001b[0;36mencode\u001b[0;34m(self, input, errors)\u001b[0m\n\u001b[1;32m     10\u001b[0m \u001b[1;33m\u001b[0m\u001b[0m\n\u001b[1;32m     11\u001b[0m     \u001b[1;32mdef\u001b[0m \u001b[0mencode\u001b[0m\u001b[1;33m(\u001b[0m\u001b[0mself\u001b[0m\u001b[1;33m,\u001b[0m\u001b[0minput\u001b[0m\u001b[1;33m,\u001b[0m\u001b[0merrors\u001b[0m\u001b[1;33m=\u001b[0m\u001b[1;34m'strict'\u001b[0m\u001b[1;33m)\u001b[0m\u001b[1;33m:\u001b[0m\u001b[1;33m\u001b[0m\u001b[0m\n\u001b[0;32m---> 12\u001b[0;31m         \u001b[1;32mreturn\u001b[0m \u001b[0mcodecs\u001b[0m\u001b[1;33m.\u001b[0m\u001b[0mcharmap_encode\u001b[0m\u001b[1;33m(\u001b[0m\u001b[0minput\u001b[0m\u001b[1;33m,\u001b[0m\u001b[0merrors\u001b[0m\u001b[1;33m,\u001b[0m\u001b[0mencoding_map\u001b[0m\u001b[1;33m)\u001b[0m\u001b[1;33m\u001b[0m\u001b[0m\n\u001b[0m\u001b[1;32m     13\u001b[0m \u001b[1;33m\u001b[0m\u001b[0m\n\u001b[1;32m     14\u001b[0m     \u001b[1;32mdef\u001b[0m \u001b[0mdecode\u001b[0m\u001b[1;33m(\u001b[0m\u001b[0mself\u001b[0m\u001b[1;33m,\u001b[0m\u001b[0minput\u001b[0m\u001b[1;33m,\u001b[0m\u001b[0merrors\u001b[0m\u001b[1;33m=\u001b[0m\u001b[1;34m'strict'\u001b[0m\u001b[1;33m)\u001b[0m\u001b[1;33m:\u001b[0m\u001b[1;33m\u001b[0m\u001b[0m\n",
      "\u001b[0;31mUnicodeEncodeError\u001b[0m: 'charmap' codec can't encode character u'\\xe3' in position 15: character maps to <undefined>"
     ]
    }
   ],
   "source": [
    "#!/usr/bin/env python\n",
    "# -*- coding: utf-8 -*-  \n",
    "\n",
    "# code reverted to earliest version to test this simple approach.  \n",
    "# if it worked, a lot of processing could be avoided, but as shown in the output, this failed too\n",
    "# above solution seems to work the best for now\n",
    "\n",
    "import requests\n",
    "import datetime\n",
    "import re\n",
    "import sys\n",
    "\n",
    "# proposed bug-fix from stack overflow\n",
    "reload(sys)                          # note:  reload threw an error that \"reload() was not defined on Python 3.6\n",
    "                                     #        if this solution ever proves useful this may need to be investigated\n",
    "                                     #        the command worked in Python 2.7\n",
    "sys.setdefaultencoding('utf8')\n",
    "\n",
    "class event(object):\n",
    "    def __init__(self, title, time, location):\n",
    "        self.title = title\n",
    "        self.time = time\n",
    "        self.location = location\n",
    "    \n",
    "    def day(self):\n",
    "        try:\n",
    "            day = re.findall('\\w+', self.time)[:3]\n",
    "            day = ' '.join(day)\n",
    "            try: \n",
    "                return datetime.datetime.strptime(day, \"%d %b %Y\")\n",
    "            except ValueError:\n",
    "                return datetime.datetime.strptime(day, \"%d %B %Y\")\n",
    "        except ValueError:\n",
    "            return self.time\n",
    "    \n",
    "    def status(self):\n",
    "        if isinstance(self.day(), datetime.datetime):\n",
    "            now = datetime.datetime.now()\n",
    "            if now < self.day():\n",
    "                return 'Upcoming'\n",
    "            elif now - self.day() < datetime.timedelta(days=1):\n",
    "                return 'Today'\n",
    "            else:\n",
    "                return 'Missed'\n",
    "        else:\n",
    "            return 'Unknown'\n",
    "\n",
    "    def __str__(self):\n",
    "        return self.status() + ' Event: %s' %self.title\n",
    "\n",
    "text = requests.get('https://www.python.org/events/python-user-group/').text\n",
    "timePattern = '<time datetime=\"[\\w:+-]+\">(.+)<span class=\"say-no-more\">([\\d ]+)</span>(.*)</time>'\n",
    "locationPattern = '<span class=\"event-location\">(.*)</span>'\n",
    "titlePattern = '<h3 class=\"event-title\"><a href=\".+\">(.*)</a></h3>'\n",
    "\n",
    "time = re.findall(timePattern, text)\n",
    "time = [''.join(i) for i in time]\n",
    "location = re.findall(locationPattern, text)\n",
    "title = re.findall(titlePattern, text)\n",
    "\n",
    "events = [event(title[i], time[i], location[i]) for i in range(len(title))]\n",
    "\n",
    "for i in events:\n",
    "    print (30*'-')\n",
    "    print(i)\n",
    "    print ('    Time:  %s' %i.time)\n",
    "    print ('    Location: %s' %i.location)"
   ]
  },
  {
   "cell_type": "code",
   "execution_count": null,
   "metadata": {
    "collapsed": true
   },
   "outputs": [],
   "source": []
  }
 ],
 "metadata": {
  "anaconda-cloud": {},
  "kernelspec": {
   "display_name": "Python [default]",
   "language": "python",
   "name": "python2"
  },
  "language_info": {
   "codemirror_mode": {
    "name": "ipython",
    "version": 2
   },
   "file_extension": ".py",
   "mimetype": "text/x-python",
   "name": "python",
   "nbconvert_exporter": "python",
   "pygments_lexer": "ipython2",
   "version": "2.7.13"
  }
 },
 "nbformat": 4,
 "nbformat_minor": 0
}
