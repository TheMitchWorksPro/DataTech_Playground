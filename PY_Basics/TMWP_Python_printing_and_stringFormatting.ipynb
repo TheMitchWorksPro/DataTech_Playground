{
 "cells": [
  {
   "cell_type": "markdown",
   "metadata": {},
   "source": [
    "<div align=\"right\">Python [conda env:PY27_Test]<br/>Python [conda env:PY36]</div>\n",
    "\n",
    "# Printing and Creating / Formatting Strings\n",
    "\n",
    "All content in this Notebook is Python 2.7 and 3.6 compliant (except where noted).  All code without explicite comments conderning version was cross-tested in both versions."
   ]
  },
  {
   "cell_type": "code",
   "execution_count": 3,
   "metadata": {
    "collapsed": false
   },
   "outputs": [
    {
     "name": "stdout",
     "output_type": "stream",
     "text": [
      "13) Here is some text\n"
     ]
    }
   ],
   "source": [
    "myNumber = 13\n",
    "myStr = \"Here is some text\"\n",
    "print(\"%d) %s\" %(myNumber, myStr))"
   ]
  },
  {
   "cell_type": "code",
   "execution_count": 4,
   "metadata": {
    "collapsed": false
   },
   "outputs": [
    {
     "name": "stdout",
     "output_type": "stream",
     "text": [
      "13) Here is some text\n"
     ]
    }
   ],
   "source": [
    "# note how the same syntax we use to format content for printing\n",
    "# also works to format strings\n",
    "myNumber = 13\n",
    "myStr = \"Here is some text\"\n",
    "myStr = \"%d) %s\" %(myNumber, myStr)\n",
    "print(myStr)"
   ]
  },
  {
   "cell_type": "code",
   "execution_count": 18,
   "metadata": {
    "collapsed": false
   },
   "outputs": [
    {
     "name": "stdout",
     "output_type": "stream",
     "text": [
      "something to say. More things to say about the number 13\n"
     ]
    }
   ],
   "source": [
    "# note how you can build a % formatter in pieces like this:\n",
    "frag = \"to say\"\n",
    "num = 13\n",
    "print((\"something %s.\" + \" More things to say about the number %d\") %(frag, num))"
   ]
  },
  {
   "cell_type": "code",
   "execution_count": 20,
   "metadata": {
    "collapsed": false
   },
   "outputs": [
    {
     "name": "stdout",
     "output_type": "stream",
     "text": [
      "\n"
     ]
    }
   ],
   "source": [
    "print(\"_\"*0) # if you use 0 nothing is output"
   ]
  },
  {
   "cell_type": "code",
   "execution_count": 27,
   "metadata": {
    "collapsed": false
   },
   "outputs": [
    {
     "name": "stdout",
     "output_type": "stream",
     "text": [
      "  0\n",
      " 80\n",
      "160\n"
     ]
    }
   ],
   "source": [
    "# implications of this (note how we align the numbers by ending on 0 spaces)\n",
    "N = 3\n",
    "for i in range(N):\n",
    "    # print(N-i-1)  # uncomment to see values: 2, 1, 0\n",
    "    print(\" \"*(N-i-1) + str(8*10*i))"
   ]
  },
  {
   "cell_type": "code",
   "execution_count": 28,
   "metadata": {
    "collapsed": false
   },
   "outputs": [
    {
     "name": "stdout",
     "output_type": "stream",
     "text": [
      "[1, 2, 3]\n",
      "--------------\n",
      "1\n",
      "2\n",
      "3\n",
      "--------------\n",
      "123\n",
      "--------------\n",
      "123"
     ]
    }
   ],
   "source": [
    "# version:  Python 3.x, or add in appropriate \"from_future\" lines for Python 2.7 before using it\n",
    "LL = [1,2,3]\n",
    "print(LL)\n",
    "\n",
    "print(\"-\"*14)\n",
    "for i in LL:\n",
    "    print(i)\n",
    "print(\"-\"*14)\n",
    "\n",
    "for i in LL:\n",
    "    print(i, sep=\" \", end=\"\")\n",
    "print(\"\\n\" + \"-\"*14)\n",
    "\n",
    "print(*LL, sep=\"\", end=\"\")  # unpacking a list only valid in Python 3.x (*LL part of this example)"
   ]
  },
  {
   "cell_type": "code",
   "execution_count": 29,
   "metadata": {
    "collapsed": false
   },
   "outputs": [
    {
     "data": {
      "text/plain": [
       "'a, b, c'"
      ]
     },
     "execution_count": 29,
     "metadata": {},
     "output_type": "execute_result"
    }
   ],
   "source": [
    "LL2 = ['a', 'b', 'c']  # only works if elements are strings\n",
    "\", \".join(LL2)"
   ]
  },
  {
   "cell_type": "code",
   "execution_count": 30,
   "metadata": {
    "collapsed": false
   },
   "outputs": [
    {
     "data": {
      "text/plain": [
       "'1, 2, 3'"
      ]
     },
     "execution_count": 30,
     "metadata": {},
     "output_type": "execute_result"
    }
   ],
   "source": [
    "\", \".join([str(elem) for elem in LL]) # this is how to convert the numeric one to a string"
   ]
  },
  {
   "cell_type": "code",
   "execution_count": 31,
   "metadata": {
    "collapsed": false
   },
   "outputs": [
    {
     "data": {
      "text/plain": [
       "['c', 'a', 't']"
      ]
     },
     "execution_count": 31,
     "metadata": {},
     "output_type": "execute_result"
    }
   ],
   "source": [
    "LL3 = list(\"cat\")\n",
    "LL3"
   ]
  },
  {
   "cell_type": "code",
   "execution_count": 35,
   "metadata": {
    "collapsed": false
   },
   "outputs": [
    {
     "name": "stdout",
     "output_type": "stream",
     "text": [
      "DO NOT GO GENTLE INTO THAT GOOD NIGHT.  RAGE, RAGE AGAINST THE DYING OF THE LIGHT\n",
      "do not go gentle into that good night.  rage, rage against the dying of the light\n",
      "dO NOT GO GENTLE INTO THAT GOOD NIGHT.  rAGE, RAGE AGAINST THE DYING OF THE LIGHT\n",
      "Do Not Go Gentle Into That Good Night.  Rage, Rage Against The Dying Of The Light\n"
     ]
    }
   ],
   "source": [
    "# built-in functions for manipulating the case of a string\n",
    "\n",
    "testString = \"Do not go gentle into that good night.  Rage, rage against the dying of the light\"  # from Dyllan Thomas Poem\n",
    "print(testString.upper())\n",
    "print(testString.lower())\n",
    "print(testString.swapcase())\n",
    "print(testString.title())"
   ]
  },
  {
   "cell_type": "code",
   "execution_count": 36,
   "metadata": {
    "collapsed": false
   },
   "outputs": [
    {
     "name": "stdout",
     "output_type": "stream",
     "text": [
      "The slowest run took 6.39 times longer than the fastest. This could mean that an intermediate result is being cached.\n",
      "100000 loops, best of 3: 2.3 µs per loop\n"
     ]
    }
   ],
   "source": [
    "timeit(testString.swapcase())"
   ]
  },
  {
   "cell_type": "code",
   "execution_count": 38,
   "metadata": {
    "collapsed": false
   },
   "outputs": [],
   "source": [
    "def swap_case(s):\n",
    "    return \"\".join([c.upper() if c.islower() else c.lower() for c in s])"
   ]
  },
  {
   "cell_type": "code",
   "execution_count": 39,
   "metadata": {
    "collapsed": false
   },
   "outputs": [
    {
     "name": "stdout",
     "output_type": "stream",
     "text": [
      "10000 loops, best of 3: 61 µs per loop\n"
     ]
    }
   ],
   "source": [
    "timeit(swap_case(testString))"
   ]
  },
  {
   "cell_type": "code",
   "execution_count": 41,
   "metadata": {
    "collapsed": false
   },
   "outputs": [
    {
     "name": "stdout",
     "output_type": "stream",
     "text": [
      "Do-not-go-gentle-into-that-good-night.--Rage,-rage-against-the-dying-of-the-light\n",
      "Do-not-go-gentle-into-that-good-night.--Rage,-rage-against-the-dying-of-the-light\n"
     ]
    }
   ],
   "source": [
    "def split_and_join(line):\n",
    "    return \"-\".join(line.split(\" \"))\n",
    "\n",
    "print(split_and_join(testString))\n",
    "print(testString.replace(\" \", \"-\"))"
   ]
  },
  {
   "cell_type": "code",
   "execution_count": null,
   "metadata": {
    "collapsed": false
   },
   "outputs": [],
   "source": []
  }
 ],
 "metadata": {
  "anaconda-cloud": {},
  "kernelspec": {
   "display_name": "Python [conda env:PY36]",
   "language": "python",
   "name": "conda-env-PY36-py"
  },
  "language_info": {
   "codemirror_mode": {
    "name": "ipython",
    "version": 3
   },
   "file_extension": ".py",
   "mimetype": "text/x-python",
   "name": "python",
   "nbconvert_exporter": "python",
   "pygments_lexer": "ipython3",
   "version": "3.6.0"
  }
 },
 "nbformat": 4,
 "nbformat_minor": 2
}
