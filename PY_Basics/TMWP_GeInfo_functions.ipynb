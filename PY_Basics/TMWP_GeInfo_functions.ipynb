{
 "cells": [
  {
   "cell_type": "markdown",
   "metadata": {},
   "source": [
    "<div align=\"right\">Python [conda env:PY27_Test]<br/>\n",
    "Python [conda env:PY36]</div>"
   ]
  },
  {
   "cell_type": "markdown",
   "metadata": {},
   "source": [
    "# Getting Info About Objects, Declarations, Etc."
   ]
  },
  {
   "cell_type": "code",
   "execution_count": 1,
   "metadata": {
    "collapsed": false
   },
   "outputs": [
    {
     "name": "stdout",
     "output_type": "stream",
     "text": [
      "<type 'list'>\n",
      "This is a list\n",
      "<type 'str'>\n"
     ]
    }
   ],
   "source": [
    "# tested in Python 2.7 and 3.6\n",
    "# output is: \"<class 'list'>\" in 3.6 and \"<type 'list'>\" in 2.7 \n",
    "\n",
    "myTestList = [1,2,3]\n",
    "print(type(myTestList))\n",
    "if (str(type(myTestList)) == \"<class 'list'>\") or (str(type(myTestList)) == \"<type 'list'>\"):\n",
    "    print(\"This is a list\")\n",
    "else:\n",
    "    print(\"I don't know what that is.\")\n",
    "\n",
    "myTestStr = \"some text.\"\n",
    "print(type(myTestStr))  # \"<class 'str'>\" in Python 3.6, \"<type 'str'>\" in Python 2.7"
   ]
  },
  {
   "cell_type": "code",
   "execution_count": 1,
   "metadata": {
    "collapsed": true
   },
   "outputs": [],
   "source": [
    "def get_object_info(obj):\n",
    "    # this code written in Python 2.7 and tested in 3.6 (works in both places)\n",
    "    print(\"Type is: \" + obj.__class__.__name__ + \", \" + str(type(obj)))\n",
    "    print(\"Module Location (for type): \" + \"{0}.{1}\".format(obj.__class__.__module__, obj.__class__.__name__))"
   ]
  },
  {
   "cell_type": "code",
   "execution_count": 3,
   "metadata": {
    "collapsed": false
   },
   "outputs": [
    {
     "name": "stdout",
     "output_type": "stream",
     "text": [
      "Type is: list, <type 'list'>\n",
      "Module Location (for type): __builtin__.list\n"
     ]
    }
   ],
   "source": [
    "get_object_info(myTestList)  # outputs as \"class\" in Python 3.6 and \"type\" in Python 2.7"
   ]
  },
  {
   "cell_type": "code",
   "execution_count": 2,
   "metadata": {
    "collapsed": false
   },
   "outputs": [
    {
     "name": "stdout",
     "output_type": "stream",
     "text": [
      "Type is: function, <type 'function'>\n",
      "Module Location (for type): __builtin__.function\n"
     ]
    }
   ],
   "source": [
    "get_object_info(get_object_info)  # try it on itself\n",
    "                                  # outputs as \"<type 'function'>\" in Python 2.7 and \"<class 'function'>\" in Python 3.6"
   ]
  },
  {
   "cell_type": "code",
   "execution_count": 1,
   "metadata": {
    "collapsed": false
   },
   "outputs": [
    {
     "name": "stdout",
     "output_type": "stream",
     "text": [
      "(<type 'list'>, <type 'object'>)\n",
      "<type 'exceptions.AttributeError'>:\n",
      "'DataFrame' object has no attribute '__mro__'\n"
     ]
    }
   ],
   "source": [
    "# tested in Python 2.7\n",
    "'''getting method resolution order for an object \n",
    " (helps trace class heirarchy as well as order that methods resolve within classes)\n",
    "'''\n",
    "print(list.__mro__)\n",
    "\n",
    "import pandas as pd\n",
    "df = pd.DataFrame({'disk':[1,2,3,4,5], 'mvFrom':[1,3,2,1,3], 'moveTo':[3,2,1,3,2] })\n",
    "\n",
    "try:\n",
    "    # does not work on instances, only classes\n",
    "    print(df.__mro__)\n",
    "except Exception as ee:\n",
    "    print(str(type(ee)) + \":\")\n",
    "    print(ee)\n",
    "    \n",
    "# better demo of __mro__ can be found in notebooks about OO and objects"
   ]
  },
  {
   "cell_type": "code",
   "execution_count": 2,
   "metadata": {
    "collapsed": false
   },
   "outputs": [
    {
     "data": {
      "text/plain": [
       "(pandas.core.frame.DataFrame,\n",
       " pandas.core.generic.NDFrame,\n",
       " pandas.core.base.PandasObject,\n",
       " pandas.core.base.StringMixin,\n",
       " object)"
      ]
     },
     "execution_count": 2,
     "metadata": {},
     "output_type": "execute_result"
    }
   ],
   "source": [
    "# tested in Python 2.7\n",
    "pd.DataFrame.__mro__"
   ]
  },
  {
   "cell_type": "code",
   "execution_count": 1,
   "metadata": {
    "collapsed": false
   },
   "outputs": [
    {
     "name": "stdout",
     "output_type": "stream",
     "text": [
      "<type 'int'>\n",
      "<type 'list'>\n"
     ]
    }
   ],
   "source": [
    "# Python 2.7 - type()\n",
    "LL = [1,2,3]\n",
    "a = 9\n",
    "print(type(a))\n",
    "print(type(LL))"
   ]
  },
  {
   "cell_type": "code",
   "execution_count": null,
   "metadata": {
    "collapsed": true
   },
   "outputs": [],
   "source": []
  }
 ],
 "metadata": {
  "anaconda-cloud": {},
  "kernelspec": {
   "display_name": "Python [conda env:PY27_Test]",
   "language": "python",
   "name": "conda-env-PY27_Test-py"
  },
  "language_info": {
   "codemirror_mode": {
    "name": "ipython",
    "version": 2
   },
   "file_extension": ".py",
   "mimetype": "text/x-python",
   "name": "python",
   "nbconvert_exporter": "python",
   "pygments_lexer": "ipython2",
   "version": "2.7.13"
  }
 },
 "nbformat": 4,
 "nbformat_minor": 2
}
