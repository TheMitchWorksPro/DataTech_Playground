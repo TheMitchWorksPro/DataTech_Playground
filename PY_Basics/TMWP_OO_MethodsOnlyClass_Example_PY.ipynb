{
 "cells": [
  {
   "cell_type": "markdown",
   "metadata": {},
   "source": [
    "<div align=\"right\">Python 2.7 [PY27_Test Env]<br/>\n",
    "Python 3.6 [PY36 Env]</div>"
   ]
  },
  {
   "cell_type": "markdown",
   "metadata": {},
   "source": [
    "# Static Methods / Methods Only Class\n",
    "In other object oriented languages, the concept is that static methods operate at the class level, do not have to be instantiated, and are the preferred approach to creating a class that houses nothing but one or more related methods (functions).  In Python 3 (tested in Python 3.6), the code syntax seems to support this.  In Python 2.7, the syntax seems to require intantiation of one instance to call into the \"static method call\".  Below code illustrates how to make this owrk under Python 2.7 and Python 3.6 (which should work in Python 3.x in general)."
   ]
  },
  {
   "cell_type": "code",
   "execution_count": 1,
   "metadata": {
    "collapsed": true
   },
   "outputs": [],
   "source": [
    "# the object for this example was an answer to a problem first encountered on www.hackerrank.com\n",
    "\n",
    "class Calculator:\n",
    "    def power(self, n, p):\n",
    "        if n < 0 or p < 0:\n",
    "            raise ValueError(\"n and p should be non-negative\")\n",
    "        else:\n",
    "            return n**p"
   ]
  },
  {
   "cell_type": "code",
   "execution_count": 7,
   "metadata": {
    "collapsed": false
   },
   "outputs": [
    {
     "name": "stdout",
     "output_type": "stream",
     "text": [
      "Input Number of Tests: 2\n",
      "Input 'n p' where n = number and p=power: 4 5\n",
      "1024\n",
      "Input 'n p' where n = number and p=power: 9 3\n",
      "729\n"
     ]
    }
   ],
   "source": [
    "if hasattr(__builtins__, 'raw_input'):\n",
    "    input = raw_input\n",
    "    \n",
    "# Python 3.x:  input()\n",
    "# Python 2.7:  raw_input()\n",
    "# above line imports Python 3.x input() to Python 2.7 to make this code work in both places\n",
    "\n",
    "myCalculator=Calculator()\n",
    "T=int(input(\"Input Number of Tests: \"))          \n",
    "for i in range(T):\n",
    "    n,p = map(int, input(\"Input 'n p' where n = number and p=power: \").split())\n",
    "    try:\n",
    "        ans=myCalculator.power(n,p)\n",
    "        print(ans)\n",
    "    except Exception as e:\n",
    "        print(e)"
   ]
  },
  {
   "cell_type": "code",
   "execution_count": 3,
   "metadata": {
    "collapsed": false
   },
   "outputs": [
    {
     "data": {
      "text/plain": [
       "2187"
      ]
     },
     "execution_count": 3,
     "metadata": {},
     "output_type": "execute_result"
    }
   ],
   "source": [
    "# works in Python 3.6\n",
    "Calculator.power(Calculator, 3, 7)"
   ]
  },
  {
   "cell_type": "code",
   "execution_count": 5,
   "metadata": {
    "collapsed": false
   },
   "outputs": [
    {
     "name": "stdout",
     "output_type": "stream",
     "text": [
      "Error: unbound method power() must be called with Calculator instance as first argument (got classobj instance instead)\n",
      "Using Python 2.7 alternate code:\n",
      "2187\n"
     ]
    }
   ],
   "source": [
    "# works in Python 2.7 ... includes 3.6 only code to show the error:\n",
    "try:\n",
    "    print(Calculator.power(Calculator, 3, 7))\n",
    "    \n",
    "except Exception as ee:\n",
    "    print(\"Error: %s\" %ee)\n",
    "    print(\"Using Python 2.7 alternate code:\")\n",
    "    workingCalculator = Calculator()\n",
    "    print(Calculator.power(workingCalculator, 3, 7))"
   ]
  },
  {
   "cell_type": "code",
   "execution_count": null,
   "metadata": {
    "collapsed": true
   },
   "outputs": [],
   "source": []
  }
 ],
 "metadata": {
  "anaconda-cloud": {},
  "kernelspec": {
   "display_name": "Python [conda env:PY27_Test]",
   "language": "python",
   "name": "conda-env-PY27_Test-py"
  },
  "language_info": {
   "codemirror_mode": {
    "name": "ipython",
    "version": 2
   },
   "file_extension": ".py",
   "mimetype": "text/x-python",
   "name": "python",
   "nbconvert_exporter": "python",
   "pygments_lexer": "ipython2",
   "version": "2.7.13"
  }
 },
 "nbformat": 4,
 "nbformat_minor": 2
}
