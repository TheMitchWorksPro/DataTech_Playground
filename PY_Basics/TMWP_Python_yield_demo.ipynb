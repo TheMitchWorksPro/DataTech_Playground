{
 "cells": [
  {
   "cell_type": "markdown",
   "metadata": {},
   "source": [
    "<div align=\"right\">Python 3.6 [PY36 Env]</div>\n",
    "\n",
    "# Understanding Python Yield Command\n",
    "This document explores the use of the `yield` keyword.  This command exists in other languages too (C# and .NET among them).  Code in the next cell was excerpted from a [StackOverflow post](http://stackoverflow.com/a/237028/7706308).  Comments were then added after running a quick test."
   ]
  },
  {
   "cell_type": "code",
   "execution_count": 2,
   "metadata": {
    "collapsed": false
   },
   "outputs": [
    {
     "name": "stdout",
     "output_type": "stream",
     "text": [
      "1\n",
      "2\n",
      "3\n"
     ]
    }
   ],
   "source": [
    "def f123():\n",
    "    yield 1\n",
    "    yield 2\n",
    "    yield 3\n",
    "\n",
    "for item in f123():\n",
    "    print(item)     # by iterating over the \"generator object\" this function returns, we see the answers\n",
    "                    # yield is adding results into a generator object that the function will then return"
   ]
  },
  {
   "cell_type": "code",
   "execution_count": 3,
   "metadata": {
    "collapsed": false
   },
   "outputs": [
    {
     "data": {
      "text/plain": [
       "<generator object f123 at 0x0000000004716A98>"
      ]
     },
     "execution_count": 3,
     "metadata": {},
     "output_type": "execute_result"
    }
   ],
   "source": [
    "f123()  # note:  returns a generator object that each yield added content to"
   ]
  },
  {
   "cell_type": "markdown",
   "metadata": {},
   "source": [
    "Here's [another demo](http://stackoverflow.com/a/232853/7525365) from StackOverflow showing that a function using `yield` does not have to terminate and can be used in code as shown here.  Author indicates this can help solve certain tricky situations.  Testing and experimentation with this has not been undertaken yet."
   ]
  },
  {
   "cell_type": "code",
   "execution_count": 5,
   "metadata": {
    "collapsed": false
   },
   "outputs": [],
   "source": [
    "def fib():\n",
    "    last, cur = 0, 1\n",
    "    while True: \n",
    "        yield cur\n",
    "        last, cur = cur, last + cur\n",
    "\n",
    "def psuedo_code_doNotRunWithoutFixingIt():\n",
    "    some_condition = False  # added so this cell won't throw an error\n",
    "                            # edit and implement what follows to make use of this example\n",
    "        \n",
    "    for f in fib():\n",
    "        if some_condition: break\n",
    "        # coolfuncs(f);     # do something here ... author wrote it as coolfuncs(f);"
   ]
  },
  {
   "cell_type": "code",
   "execution_count": 4,
   "metadata": {
    "collapsed": false
   },
   "outputs": [
    {
     "name": "stdout",
     "output_type": "stream",
     "text": [
      "Starting loop 0 with f of 1.\n",
      "1 raised to the 1 power: 1\n",
      "Starting loop 1 with f of 1.\n",
      "1 raised to the 1 power: 1\n",
      "Starting loop 2 with f of 2.\n",
      "2 raised to the 2 power: 4\n",
      "Starting loop 3 with f of 3.\n",
      "3 raised to the 3 power: 27\n",
      "Starting loop 4 with f of 5.\n",
      "5 raised to the 5 power: 3125\n",
      "Starting loop 5 with f of 8.\n",
      "8 raised to the 8 power: 16777216\n",
      "Starting loop 6 with f of 13.\n",
      "Termination point reached, exiting loop.\n"
     ]
    }
   ],
   "source": [
    "# implementing the pseudocode just to show it in action ...\n",
    "# this may not represent best practice but could be useful in the field ...\n",
    "\n",
    "def fib():\n",
    "    last, cur = 0, 1\n",
    "    while True: \n",
    "        yield cur\n",
    "        last, cur = cur, last + cur\n",
    "\n",
    "def x_toThe_x(x):\n",
    "    return x**x\n",
    "        \n",
    "def testCodeFor_fib():\n",
    "    some_condition = 13  \n",
    "    \n",
    "    loopCount = 0\n",
    "    for f in fib():\n",
    "        print(\"Starting loop %d with f of %d.\" %(loopCount, f))\n",
    "        if f >= some_condition:\n",
    "            print(\"Termination point reached, exiting loop.\")\n",
    "            break\n",
    "        print(\"%d raised to the %d power: %d\" %(f,f, x_toThe_x(f)))  # do stuff here, this is an example\n",
    "        loopCount +=1\n",
    "        \n",
    "# test the code\n",
    "testCodeFor_fib()"
   ]
  },
  {
   "cell_type": "code",
   "execution_count": null,
   "metadata": {
    "collapsed": true
   },
   "outputs": [],
   "source": []
  }
 ],
 "metadata": {
  "anaconda-cloud": {},
  "kernelspec": {
   "display_name": "Python [conda env:PY36]",
   "language": "python",
   "name": "conda-env-PY36-py"
  },
  "language_info": {
   "codemirror_mode": {
    "name": "ipython",
    "version": 3
   },
   "file_extension": ".py",
   "mimetype": "text/x-python",
   "name": "python",
   "nbconvert_exporter": "python",
   "pygments_lexer": "ipython3",
   "version": "3.6.0"
  }
 },
 "nbformat": 4,
 "nbformat_minor": 2
}
