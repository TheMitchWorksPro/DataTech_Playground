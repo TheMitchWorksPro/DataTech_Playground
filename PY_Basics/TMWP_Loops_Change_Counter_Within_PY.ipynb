{
 "cells": [
  {
   "cell_type": "markdown",
   "metadata": {},
   "source": [
    "<div align=\"right\">Python 3.6</div>\n",
    "\n",
    "# Impacting The Loop Counter From Within The Loop in Python"
   ]
  },
  {
   "cell_type": "markdown",
   "metadata": {},
   "source": [
    "[Stackoverflow question](https://stackoverflow.com/questions/50671297/for-loops-in-python-how-to-modify-i-inside-the-loop/50671414#50671414) about this resulted in a detailed discussion on this topic.  To summarize:\n",
    "\n",
    "* In other programming languages, the counter used to imcrement loops can get changed within the loops\n",
    "  * this is true regardless of whether the loop is a `for` or a `while` loop\n",
    "  \n",
    "In Python:  If you need to modify the counter from within the loop before incrementing to the next number in the series that controls the loop, you should use a `while` loop.  If the loop will increment a set number of times and you do not need to modify the counter (you will just repeat some action or actions x times), then a `for` loop is a good choice.\n",
    "\n",
    "Code samples that follow illustrate the compexities of trying to defy this simple guideline."
   ]
  },
  {
   "cell_type": "code",
   "execution_count": 2,
   "metadata": {
    "collapsed": true
   },
   "outputs": [],
   "source": [
    "def jumpable_range(start, stop):\n",
    "    i = start\n",
    "    while i <= stop:\n",
    "        j = yield i\n",
    "        i = i + 1 if j is None else j"
   ]
  },
  {
   "cell_type": "code",
   "execution_count": 3,
   "metadata": {},
   "outputs": [
    {
     "name": "stdout",
     "output_type": "stream",
     "text": [
      "2\n",
      "3\n",
      "4\n",
      "8\n",
      "9\n",
      "10\n"
     ]
    }
   ],
   "source": [
    "R = jumpable_range(2, 10)\n",
    "for i in R:\n",
    "    if i==5:\n",
    "        i = R.send(8)\n",
    "    print(i)"
   ]
  },
  {
   "cell_type": "code",
   "execution_count": 11,
   "metadata": {},
   "outputs": [
    {
     "name": "stdout",
     "output_type": "stream",
     "text": [
      "i:  0\n",
      "Range to use:  0 : 5\n",
      "i at end of loop 4\n",
      "i:  5\n",
      "Range to use:  5 : 10\n",
      "i at end of loop 9\n",
      "i:  10\n",
      "Range to use:  10 : 15\n",
      "i at end of loop 14\n",
      "i:  15\n",
      "Range to use:  15 : 20\n",
      "i at end of loop 19\n",
      "i:  20\n",
      "Range to use:  20 : 25\n",
      "i at end of loop 24\n",
      "i:  25\n",
      "Range to use:  25 : 30\n",
      "i at end of loop 29\n",
      "i:  30\n",
      "Range to use:  30 : 35\n",
      "i at end of loop 34\n",
      "i:  35\n",
      "Range to use:  35 : 40\n",
      "i at end of loop 39\n",
      "i:  40\n",
      "Range to use:  40 : 45\n",
      "i at end of loop 44\n",
      "i:  45\n",
      "Range to use:  45 : 50\n",
      "i at end of loop 49\n",
      "i:  50\n",
      "Range to use:  50 : 55\n",
      "i at end of loop 54\n",
      "i:  55\n",
      "Range to use:  55 : 60\n",
      "i at end of loop 59\n",
      "i:  60\n",
      "Range to use:  60 : 65\n",
      "i at end of loop 64\n",
      "i:  65\n",
      "Range to use:  65 : 70\n",
      "i at end of loop 69\n",
      "i:  70\n",
      "Range to use:  70 : 75\n",
      "i at end of loop 74\n",
      "i:  75\n",
      "Range to use:  75 : 80\n",
      "i at end of loop 79\n",
      "i:  80\n",
      "Range to use:  80 : 85\n",
      "i at end of loop 84\n",
      "i:  85\n",
      "Range to use:  85 : 90\n",
      "i at end of loop 89\n",
      "i:  90\n",
      "Range to use:  90 : 95\n",
      "i at end of loop 94\n",
      "i:  95\n",
      "Range to use:  95 : 97\n",
      "i at end of loop 96\n",
      "i:  97\n"
     ]
    }
   ],
   "source": [
    "## so how to integrate into original code:\n",
    "endRw=5\n",
    "lenDF=97   # 1160\n",
    "\n",
    "Q = jumpable_range(0,lenDF)\n",
    "for i in Q:\n",
    "    print(\"i: \", i)\n",
    "    endIndx = i + endRw\n",
    "    if endIndx > lenDF:\n",
    "                endIndx = lenDF\n",
    "            \n",
    "    if i == endIndx: break\n",
    "\n",
    "    print(\"Range to use: \", i, \":\", endIndx)\n",
    "    # this line is a mockup for an index that is built and used\n",
    "    # in the real code to do something to a pandas DF\n",
    "\n",
    "    i = Q.send(endIndx-1)\n",
    "    print(\"i at end of loop\", i)"
   ]
  },
  {
   "cell_type": "code",
   "execution_count": 10,
   "metadata": {},
   "outputs": [
    {
     "name": "stdout",
     "output_type": "stream",
     "text": [
      "i:  0\n",
      "Range to use:  0 : 5\n",
      "i at end of loop:  5\n",
      "i:  5\n",
      "Range to use:  5 : 10\n",
      "i at end of loop:  10\n",
      "i:  10\n",
      "Range to use:  10 : 15\n",
      "i at end of loop:  15\n",
      "i:  15\n",
      "Range to use:  15 : 20\n",
      "i at end of loop:  20\n",
      "i:  20\n",
      "Range to use:  20 : 25\n",
      "i at end of loop:  25\n",
      "i:  25\n",
      "Range to use:  25 : 30\n",
      "i at end of loop:  30\n",
      "i:  30\n",
      "Range to use:  30 : 35\n",
      "i at end of loop:  35\n",
      "i:  35\n",
      "Range to use:  35 : 40\n",
      "i at end of loop:  40\n",
      "i:  40\n",
      "Range to use:  40 : 45\n",
      "i at end of loop:  45\n",
      "i:  45\n",
      "Range to use:  45 : 50\n",
      "i at end of loop:  50\n",
      "i:  50\n",
      "Range to use:  50 : 55\n",
      "i at end of loop:  55\n",
      "i:  55\n",
      "Range to use:  55 : 60\n",
      "i at end of loop:  60\n",
      "i:  60\n",
      "Range to use:  60 : 65\n",
      "i at end of loop:  65\n",
      "i:  65\n",
      "Range to use:  65 : 70\n",
      "i at end of loop:  70\n",
      "i:  70\n",
      "Range to use:  70 : 75\n",
      "i at end of loop:  75\n",
      "i:  75\n",
      "Range to use:  75 : 80\n",
      "i at end of loop:  80\n",
      "i:  80\n",
      "Range to use:  80 : 85\n",
      "i at end of loop:  85\n",
      "i:  85\n",
      "Range to use:  85 : 90\n",
      "i at end of loop:  90\n",
      "i:  90\n",
      "Range to use:  90 : 95\n",
      "i at end of loop:  95\n",
      "i:  95\n",
      "Range to use:  95 : 97\n",
      "i at end of loop:  97\n"
     ]
    }
   ],
   "source": [
    "endRw=5\n",
    "lenDF=97   # 1160\n",
    "i = 0\n",
    "while i < lenDF:\n",
    "    print(\"i: \", i)\n",
    "    endIndx = i + endRw\n",
    "    if endIndx > lenDF:\n",
    "                endIndx = lenDF\n",
    "\n",
    "    print(\"Range to use: \", i, \":\", endIndx)\n",
    "    # this line is a mockup for an index that is built and used\n",
    "    # in the real code to do something to a pandas DF\n",
    "\n",
    "    i = endIndx\n",
    "    print(\"i at end of loop: \", i)"
   ]
  },
  {
   "cell_type": "code",
   "execution_count": 9,
   "metadata": {},
   "outputs": [
    {
     "name": "stdout",
     "output_type": "stream",
     "text": [
      "Range to use:  0 : 5\n",
      "Range to use:  5 : 10\n",
      "Range to use:  10 : 15\n",
      "Range to use:  15 : 20\n",
      "Range to use:  20 : 25\n",
      "Range to use:  25 : 30\n",
      "Range to use:  30 : 35\n",
      "Range to use:  35 : 40\n",
      "Range to use:  40 : 45\n",
      "Range to use:  45 : 50\n",
      "Range to use:  50 : 55\n",
      "Range to use:  55 : 60\n",
      "Range to use:  60 : 65\n",
      "Range to use:  65 : 70\n",
      "Range to use:  70 : 75\n",
      "Range to use:  75 : 80\n",
      "Range to use:  80 : 85\n",
      "Range to use:  85 : 90\n",
      "Range to use:  90 : 95\n",
      "Range to use:  95 : 97\n"
     ]
    }
   ],
   "source": [
    "endRw=5\n",
    "lenDF=97   # 1160\n",
    "\n",
    "for i in range(0, lenDF, endRw):\n",
    "    my_range = min(endRw, lenDF-i)\n",
    "    print(\"Range to use: \", i, \":\", i+my_range)"
   ]
  },
  {
   "cell_type": "code",
   "execution_count": 1,
   "metadata": {},
   "outputs": [
    {
     "name": "stdout",
     "output_type": "stream",
     "text": [
      "Range to use:  0 : 5\n",
      "Range to use:  5 : 10\n",
      "Range to use:  10 : 15\n",
      "Range to use:  15 : 20\n",
      "Range to use:  20 : 25\n",
      "Range to use:  25 : 30\n",
      "Range to use:  30 : 35\n",
      "Range to use:  35 : 40\n",
      "Range to use:  40 : 45\n",
      "Range to use:  45 : 50\n",
      "Range to use:  50 : 55\n",
      "Range to use:  55 : 60\n",
      "Range to use:  60 : 65\n",
      "Range to use:  65 : 70\n",
      "Range to use:  70 : 75\n",
      "Range to use:  75 : 80\n",
      "Range to use:  80 : 85\n",
      "Range to use:  85 : 90\n",
      "Range to use:  90 : 95\n",
      "Range to use:  95 : 97\n"
     ]
    }
   ],
   "source": [
    "endRw=5\n",
    "lenDF=97   # 1160\n",
    "\n",
    "for i in range(0, lenDF, endRw):\n",
    "    endIndx = min(i+endRw, lenDF)\n",
    "    print(\"Range to use: \", i, \":\", endIndx)"
   ]
  },
  {
   "cell_type": "code",
   "execution_count": null,
   "metadata": {
    "collapsed": true
   },
   "outputs": [],
   "source": []
  }
 ],
 "metadata": {
  "kernelspec": {
   "display_name": "Python 3",
   "language": "python",
   "name": "python3"
  },
  "language_info": {
   "codemirror_mode": {
    "name": "ipython",
    "version": 3
   },
   "file_extension": ".py",
   "mimetype": "text/x-python",
   "name": "python",
   "nbconvert_exporter": "python",
   "pygments_lexer": "ipython3",
   "version": "3.6.1"
  }
 },
 "nbformat": 4,
 "nbformat_minor": 2
}
