{
 "cells": [
  {
   "cell_type": "markdown",
   "metadata": {},
   "source": [
    "<div align=\"right\">Python 2.7</div>"
   ]
  },
  {
   "cell_type": "markdown",
   "metadata": {},
   "source": [
    "# Indexing and Related Experiments in Python 2.7\n",
    "Though this content is in Python 2.7, most if not all of it should work the same in Python 3.x.\n",
    "\n",
    "## TOC\n",
    "- [Indexing Experiments](#here) - Explores different complex structures and how to index into them\n",
    "- [Mutation sidebar](#mutation) - looks at mutation using our crazyList example\n",
    "- [Finding the Index of a Known Value within Complex Data Structures](#indexing) - explores `.index()`, `np.where()`, and Related concerns\n",
    "\n",
    "## Indexing Experiments in Python\n",
    "\n",
    "We start with a simple nested list showing how to get at an element within it:"
   ]
  },
  {
   "cell_type": "code",
   "execution_count": 34,
   "metadata": {},
   "outputs": [
    {
     "name": "stdout",
     "output_type": "stream",
     "text": [
      "[[1, 2, 3], [4, 5, 6]]\n"
     ]
    },
    {
     "data": {
      "text/plain": [
       "2"
      ]
     },
     "execution_count": 34,
     "metadata": {},
     "output_type": "execute_result"
    }
   ],
   "source": [
    "stupidList = [[1,2,3],[4,5,6]]\n",
    "print(stupidList)\n",
    "stupidList[0][1]"
   ]
  },
  {
   "cell_type": "markdown",
   "metadata": {},
   "source": [
    "Now we build something more complicated to show where indexing can get tricky ..."
   ]
  },
  {
   "cell_type": "code",
   "execution_count": 35,
   "metadata": {
    "collapsed": true
   },
   "outputs": [],
   "source": [
    "import numpy as np\n",
    "import pandas as pd"
   ]
  },
  {
   "cell_type": "code",
   "execution_count": 36,
   "metadata": {},
   "outputs": [
    {
     "data": {
      "text/plain": [
       "array([[[ 0.02764211,  0.26386474,  0.88865395,  0.34781755,  0.72534514],\n",
       "        [ 0.66574007,  0.73384079,  0.57345696,  0.55389339,  0.87147245],\n",
       "        [ 0.98128298,  0.88944205,  0.44554892,  0.7894838 ,  0.97115509],\n",
       "        [ 0.08401461,  0.16542205,  0.00558565,  0.86419018,  0.40254914]],\n",
       "\n",
       "       [[ 0.71687244,  0.72853557,  0.55106175,  0.78393111,  0.69921926],\n",
       "        [ 0.12197909,  0.93129564,  0.42840254,  0.34314161,  0.12802696],\n",
       "        [ 0.88812661,  0.75876102,  0.00127025,  0.60469319,  0.28094787],\n",
       "        [ 0.61414269,  0.69289326,  0.78397186,  0.19069658,  0.76636118]],\n",
       "\n",
       "       [[ 0.28322395,  0.20178467,  0.69215878,  0.80796972,  0.08010599],\n",
       "        [ 0.47625811,  0.5169806 ,  0.98614882,  0.26718482,  0.4316306 ],\n",
       "        [ 0.15617731,  0.80081827,  0.37400983,  0.04256393,  0.98771807],\n",
       "        [ 0.99770397,  0.42965486,  0.2190626 ,  0.24189908,  0.95881218]]])"
      ]
     },
     "execution_count": 36,
     "metadata": {},
     "output_type": "execute_result"
    }
   ],
   "source": [
    "m3d=np.random.rand(3,4,5)\n",
    "m3d"
   ]
  },
  {
   "cell_type": "code",
   "execution_count": 37,
   "metadata": {},
   "outputs": [
    {
     "data": {
      "text/plain": [
       "array([[[ 0.02764211,  0.26386474,  0.88865395,  0.34781755,  0.72534514],\n",
       "        [ 0.66574007,  0.73384079,  0.57345696,  0.55389339,  0.87147245],\n",
       "        [ 0.98128298,  0.88944205,  0.44554892,  0.7894838 ,  0.97115509]],\n",
       "\n",
       "       [[ 0.08401461,  0.16542205,  0.00558565,  0.86419018,  0.40254914],\n",
       "        [ 0.71687244,  0.72853557,  0.55106175,  0.78393111,  0.69921926],\n",
       "        [ 0.12197909,  0.93129564,  0.42840254,  0.34314161,  0.12802696]],\n",
       "\n",
       "       [[ 0.88812661,  0.75876102,  0.00127025,  0.60469319,  0.28094787],\n",
       "        [ 0.61414269,  0.69289326,  0.78397186,  0.19069658,  0.76636118],\n",
       "        [ 0.28322395,  0.20178467,  0.69215878,  0.80796972,  0.08010599]],\n",
       "\n",
       "       [[ 0.47625811,  0.5169806 ,  0.98614882,  0.26718482,  0.4316306 ],\n",
       "        [ 0.15617731,  0.80081827,  0.37400983,  0.04256393,  0.98771807],\n",
       "        [ 0.99770397,  0.42965486,  0.2190626 ,  0.24189908,  0.95881218]]])"
      ]
     },
     "execution_count": 37,
     "metadata": {},
     "output_type": "execute_result"
    }
   ],
   "source": [
    "# how does Pandas arrange the data?\n",
    "n3d=m3d.reshape(4,3,5)\n",
    "n3d"
   ]
  },
  {
   "cell_type": "markdown",
   "metadata": {},
   "source": [
    "Notice which numbers moved where.  This would seem to indicate that in shape(a,b,c):\n",
    "- a is like the object's depth (how many groupings of rows/columns are there?)\n",
    "- b is like the object's rows per grouping (how many rows in each subgroup)\n",
    "- c is like the object's columns\n",
    "\n",
    "What if the object had 4 dimensions?"
   ]
  },
  {
   "cell_type": "code",
   "execution_count": 38,
   "metadata": {},
   "outputs": [
    {
     "data": {
      "text/plain": [
       "array([[[[ 0.85299096,  0.62408962,  0.46559312,  0.59977211,  0.38041822],\n",
       "         [ 0.45831929,  0.90751208,  0.55776963,  0.80488569,  0.70041158],\n",
       "         [ 0.24332968,  0.21271898,  0.44423011,  0.9098522 ,  0.5045675 ],\n",
       "         [ 0.6565031 ,  0.19822212,  0.39151489,  0.48465936,  0.71523129]],\n",
       "\n",
       "        [[ 0.96501237,  0.66875908,  0.99435007,  0.51638045,  0.92869465],\n",
       "         [ 0.76617542,  0.50846374,  0.05004649,  0.79113062,  0.82639575],\n",
       "         [ 0.20097392,  0.23616426,  0.33070455,  0.71779095,  0.89065204],\n",
       "         [ 0.24929711,  0.60038916,  0.48634717,  0.35480637,  0.34372284]],\n",
       "\n",
       "        [[ 0.97387369,  0.71569147,  0.85060481,  0.9277284 ,  0.14078441],\n",
       "         [ 0.56117986,  0.28928248,  0.95277008,  0.72973045,  0.77361024],\n",
       "         [ 0.18379655,  0.12094671,  0.67305481,  0.24605122,  0.3468539 ],\n",
       "         [ 0.65142807,  0.47173961,  0.92538947,  0.41694106,  0.51021661]]],\n",
       "\n",
       "\n",
       "       [[[ 0.76562398,  0.76076129,  0.72521928,  0.56537478,  0.10063146],\n",
       "         [ 0.23082598,  0.95822093,  0.921428  ,  0.54175584,  0.09565608],\n",
       "         [ 0.023354  ,  0.91687907,  0.42717123,  0.41016258,  0.11418219],\n",
       "         [ 0.31931941,  0.07408099,  0.52762727,  0.73739901,  0.30636251]],\n",
       "\n",
       "        [[ 0.67569832,  0.51443093,  0.92900983,  0.75451684,  0.44473774],\n",
       "         [ 0.46663521,  0.74361873,  0.3760989 ,  0.76171124,  0.51426751],\n",
       "         [ 0.37392212,  0.9152669 ,  0.21509837,  0.03589586,  0.86006899],\n",
       "         [ 0.13517498,  0.1268733 ,  0.23992384,  0.72658725,  0.98064682]],\n",
       "\n",
       "        [[ 0.95058403,  0.0460832 ,  0.8110159 ,  0.44637232,  0.60579158],\n",
       "         [ 0.73022724,  0.89346414,  0.11254326,  0.81020841,  0.06361414],\n",
       "         [ 0.04529551,  0.64081876,  0.86319784,  0.38564636,  0.80422053],\n",
       "         [ 0.11672826,  0.75796364,  0.23027907,  0.07541845,  0.55527344]]]])"
      ]
     },
     "execution_count": 38,
     "metadata": {},
     "output_type": "execute_result"
    }
   ],
   "source": [
    "o3d=np.random.rand(2,3,4,5)\n",
    "o3d"
   ]
  },
  {
   "cell_type": "markdown",
   "metadata": {},
   "source": [
    "Just analyzing how the numbers are arranged, we see that in shape(a,b,c,d), it just added the new extra dimensional layer to the front of the list so that now:\n",
    "- a = larger hyper grouping (2 of them)\n",
    "- b = first subgroup within (3 of them)\n",
    "- c = rows within these groupings (4 of them)\n",
    "- d = columns within these groupings (5 of them)"
   ]
  },
  {
   "cell_type": "markdown",
   "metadata": {},
   "source": [
    "It appears that rows always come before columns, and then it looks like groupings of rows and columns and groupings or groupings, etc. . . are added to the front of the index chain.\n",
    "\n",
    "Building something complex just to drill in more on how to access sub-elements:"
   ]
  },
  {
   "cell_type": "code",
   "execution_count": 39,
   "metadata": {},
   "outputs": [],
   "source": [
    "# some simple arrays:\n",
    "simp1=np.array([[1,2,3,4,5]])\n",
    "simp2=np.array([[10,9,8,7,6]])\n",
    "simp3=[11,12,13]"
   ]
  },
  {
   "cell_type": "code",
   "execution_count": 40,
   "metadata": {},
   "outputs": [
    {
     "data": {
      "text/html": [
       "<div>\n",
       "<table border=\"1\" class=\"dataframe\">\n",
       "  <thead>\n",
       "    <tr style=\"text-align: right;\">\n",
       "      <th></th>\n",
       "      <th>population</th>\n",
       "      <th>state</th>\n",
       "      <th>year</th>\n",
       "    </tr>\n",
       "  </thead>\n",
       "  <tbody>\n",
       "    <tr>\n",
       "      <th>0</th>\n",
       "      <td>1.5</td>\n",
       "      <td>Ohio</td>\n",
       "      <td>2000</td>\n",
       "    </tr>\n",
       "    <tr>\n",
       "      <th>1</th>\n",
       "      <td>1.7</td>\n",
       "      <td>Ohio</td>\n",
       "      <td>2001</td>\n",
       "    </tr>\n",
       "    <tr>\n",
       "      <th>2</th>\n",
       "      <td>3.6</td>\n",
       "      <td>Ohio</td>\n",
       "      <td>2002</td>\n",
       "    </tr>\n",
       "    <tr>\n",
       "      <th>3</th>\n",
       "      <td>2.4</td>\n",
       "      <td>Nevada</td>\n",
       "      <td>2001</td>\n",
       "    </tr>\n",
       "    <tr>\n",
       "      <th>4</th>\n",
       "      <td>2.9</td>\n",
       "      <td>Nevada</td>\n",
       "      <td>2002</td>\n",
       "    </tr>\n",
       "  </tbody>\n",
       "</table>\n",
       "</div>"
      ],
      "text/plain": [
       "   population   state  year\n",
       "0         1.5    Ohio  2000\n",
       "1         1.7    Ohio  2001\n",
       "2         3.6    Ohio  2002\n",
       "3         2.4  Nevada  2001\n",
       "4         2.9  Nevada  2002"
      ]
     },
     "execution_count": 40,
     "metadata": {},
     "output_type": "execute_result"
    }
   ],
   "source": [
    "# a dictionary\n",
    "dfrm1 = {'state': ['Ohio', 'Ohio', 'Ohio', 'Nevada', 'Nevada'],\n",
    "        'year': [2000, 2001, 2002, 2001, 2002],\n",
    "        'population': [1.5, 1.7, 3.6, 2.4, 2.9]}\n",
    "# convert dictionary to DataFrame\n",
    "dfrm1 = pd.DataFrame(dfrm1)\n",
    "dfrm1"
   ]
  },
  {
   "cell_type": "code",
   "execution_count": 41,
   "metadata": {},
   "outputs": [
    {
     "name": "stdout",
     "output_type": "stream",
     "text": [
      "3    2.4\n",
      "4    2.9\n",
      "Name: population, dtype: float64\n",
      "---\n",
      "2    3.6\n",
      "3    2.4\n",
      "Name: population, dtype: float64\n",
      "---\n",
      "3    2.4\n",
      "4    2.9\n",
      "Name: population, dtype: float64\n",
      "---\n",
      "3    2.4\n",
      "4    2.9\n",
      "Name: population, dtype: float64\n",
      "---\n",
      "2    3.6\n",
      "3    2.4\n",
      "Name: population, dtype: float64\n",
      "---\n",
      "2    3.6\n",
      "3    2.4\n",
      "Name: population, dtype: float64\n"
     ]
    },
    {
     "name": "stderr",
     "output_type": "stream",
     "text": [
      "C:\\ProgramFilesCoders\\Anaconda2\\lib\\site-packages\\ipykernel\\__main__.py:16: UserWarning: Boolean Series key will be reindexed to match DataFrame index.\n"
     ]
    }
   ],
   "source": [
    "# pandas indexing works a little differently:\n",
    "#   * column headers are keys\n",
    "#   * as shown here, can ask for columns, rows, and a filter based on values in the columns \n",
    "#     in any order and the indexing will still work\n",
    "\n",
    "print(dfrm1[\"population\"][dfrm1[\"population\"] > 1.5][2:4])  # all of these return values from \"population\" column only\n",
    "print(\"---\")                                                # where \"population\" > 1.5\n",
    "print(dfrm1[\"population\"][2:4][dfrm1[\"population\"] > 1.5])  # and row index is between 2 and 4\n",
    "print(\"---\")\n",
    "print(dfrm1[dfrm1[\"population\"] > 1.5][\"population\"][2:4])\n",
    "print(\"---\")\n",
    "print(dfrm1[dfrm1[\"population\"] > 1.5][2:4][\"population\"])\n",
    "print(\"---\")\n",
    "print(dfrm1[2:4][\"population\"][dfrm1[\"population\"] > 1.5])\n",
    "print(\"---\")\n",
    "print(dfrm1[2:4][dfrm1[\"population\"] > 1.5][\"population\"]) # this last one triggers a warning"
   ]
  },
  {
   "cell_type": "code",
   "execution_count": 42,
   "metadata": {},
   "outputs": [
    {
     "name": "stdout",
     "output_type": "stream",
     "text": [
      "   population   state  year\n",
      "1         1.7    Ohio  2001\n",
      "2         3.6    Ohio  2002\n",
      "3         2.4  Nevada  2001\n",
      "4         2.9  Nevada  2002\n",
      "---\n",
      "0    1.5\n",
      "1    1.7\n",
      "2    3.6\n",
      "3    2.4\n",
      "4    2.9\n",
      "Name: population, dtype: float64\n",
      "---\n",
      "   population   state  year\n",
      "2         3.6    Ohio  2002\n",
      "3         2.4  Nevada  2001\n"
     ]
    }
   ],
   "source": [
    "# breaking the above apart:\n",
    "print(dfrm1[dfrm1[\"population\"] > 1.5])  # all rows and columns filtered by \"population\" values > 1.5\n",
    "print(\"---\")\n",
    "print(dfrm1[\"population\"])               # return whole \"population\" column\n",
    "print(\"---\")\n",
    "print(dfrm1[2:4])                        # return whole rows 2 to 4"
   ]
  },
  {
   "cell_type": "code",
   "execution_count": 43,
   "metadata": {},
   "outputs": [],
   "source": [
    "crazyList = [simp1, m3d, simp2, n3d, simp3, dfrm1, o3d]"
   ]
  },
  {
   "cell_type": "code",
   "execution_count": 44,
   "metadata": {},
   "outputs": [
    {
     "data": {
      "text/plain": [
       "3    2.4\n",
       "4    2.9\n",
       "Name: population, dtype: float64"
      ]
     },
     "execution_count": 44,
     "metadata": {},
     "output_type": "execute_result"
    }
   ],
   "source": [
    "# Accessing the dataframe inside the list now that it is a sub element:\n",
    "crazyList[5][\"population\"][crazyList[5][\"population\"] > 1.5][2:4]"
   ]
  },
  {
   "cell_type": "markdown",
   "metadata": {},
   "source": [
    "Now let's access other stuff in the list ..."
   ]
  },
  {
   "cell_type": "code",
   "execution_count": 45,
   "metadata": {},
   "outputs": [
    {
     "data": {
      "text/plain": [
       "array([[[ 0.02764211,  0.26386474,  0.88865395,  0.34781755,  0.72534514],\n",
       "        [ 0.66574007,  0.73384079,  0.57345696,  0.55389339,  0.87147245],\n",
       "        [ 0.98128298,  0.88944205,  0.44554892,  0.7894838 ,  0.97115509],\n",
       "        [ 0.08401461,  0.16542205,  0.00558565,  0.86419018,  0.40254914]],\n",
       "\n",
       "       [[ 0.71687244,  0.72853557,  0.55106175,  0.78393111,  0.69921926],\n",
       "        [ 0.12197909,  0.93129564,  0.42840254,  0.34314161,  0.12802696],\n",
       "        [ 0.88812661,  0.75876102,  0.00127025,  0.60469319,  0.28094787],\n",
       "        [ 0.61414269,  0.69289326,  0.78397186,  0.19069658,  0.76636118]],\n",
       "\n",
       "       [[ 0.28322395,  0.20178467,  0.69215878,  0.80796972,  0.08010599],\n",
       "        [ 0.47625811,  0.5169806 ,  0.98614882,  0.26718482,  0.4316306 ],\n",
       "        [ 0.15617731,  0.80081827,  0.37400983,  0.04256393,  0.98771807],\n",
       "        [ 0.99770397,  0.42965486,  0.2190626 ,  0.24189908,  0.95881218]]])"
      ]
     },
     "execution_count": 45,
     "metadata": {},
     "output_type": "execute_result"
    }
   ],
   "source": [
    "crazyList[1]  # this is the second object of the list (Python like many languages starts indicies at 0)\n",
    "              # this is the full output of m3d"
   ]
  },
  {
   "cell_type": "code",
   "execution_count": 46,
   "metadata": {},
   "outputs": [
    {
     "data": {
      "text/plain": [
       "array([[1, 2, 3, 4, 5]])"
      ]
     },
     "execution_count": 46,
     "metadata": {},
     "output_type": "execute_result"
    }
   ],
   "source": [
    "crazyList[0]  # after the above demo, no surprises here ... simp1 was the first object we added to the list"
   ]
  },
  {
   "cell_type": "markdown",
   "metadata": {},
   "source": [
    "In the tests that follow ... anything that does not work is wrapped in exception handling (that displays the error) so this notebook can be run from start to finish ... Note that it is not good practice to use a catch all for all errors. In real coding errors should be handled individually by type.\n",
    "\n",
    "How do we access the first index (element 2) of the first array object in our complex list (which resides at index 0)?"
   ]
  },
  {
   "cell_type": "code",
   "execution_count": 50,
   "metadata": {},
   "outputs": [
    {
     "name": "stdout",
     "output_type": "stream",
     "text": [
      "<type 'exceptions.IndexError'>: index 1 is out of bounds for axis 0 with size 1\n"
     ]
    }
   ],
   "source": [
    "try:                  # not this way ...\n",
    "    crazyList[0][1]\n",
    "except Exception as ex:\n",
    "    print(\"%s%s %s\" %(type(ex), \":\", ex))"
   ]
  },
  {
   "cell_type": "code",
   "execution_count": 12,
   "metadata": {},
   "outputs": [
    {
     "data": {
      "text/plain": [
       "[array([[1, 2, 3, 4, 5]]),\n",
       " array([[[ 0.33133919,  0.43768372,  0.34821673,  0.63767749,  0.29417603],\n",
       "         [ 0.10204308,  0.29877032,  0.46202304,  0.86789637,  0.94000811],\n",
       "         [ 0.98822145,  0.09783841,  0.07314108,  0.54074233,  0.3720003 ],\n",
       "         [ 0.74086424,  0.94474234,  0.04963839,  0.48506306,  0.06371589]],\n",
       " \n",
       "        [[ 0.39509039,  0.33289654,  0.32496611,  0.16405267,  0.33689606],\n",
       "         [ 0.98477636,  0.22949092,  0.95920822,  0.46390272,  0.48553585],\n",
       "         [ 0.36850929,  0.63691697,  0.09651275,  0.55299958,  0.88034476],\n",
       "         [ 0.30275465,  0.03114669,  0.76291335,  0.89423036,  0.10291813]],\n",
       " \n",
       "        [[ 0.61434208,  0.23482192,  0.76548015,  0.46095372,  0.15683438],\n",
       "         [ 0.23001074,  0.75814235,  0.77721088,  0.32257422,  0.30340721],\n",
       "         [ 0.34649924,  0.62274606,  0.75516247,  0.33786868,  0.7831538 ],\n",
       "         [ 0.59216801,  0.69653358,  0.31194369,  0.71861906,  0.2152945 ]]]),\n",
       " array([[10,  9,  8,  7,  6]]),\n",
       " array([[[ 0.33133919,  0.43768372,  0.34821673,  0.63767749,  0.29417603],\n",
       "         [ 0.10204308,  0.29877032,  0.46202304,  0.86789637,  0.94000811],\n",
       "         [ 0.98822145,  0.09783841,  0.07314108,  0.54074233,  0.3720003 ]],\n",
       " \n",
       "        [[ 0.74086424,  0.94474234,  0.04963839,  0.48506306,  0.06371589],\n",
       "         [ 0.39509039,  0.33289654,  0.32496611,  0.16405267,  0.33689606],\n",
       "         [ 0.98477636,  0.22949092,  0.95920822,  0.46390272,  0.48553585]],\n",
       " \n",
       "        [[ 0.36850929,  0.63691697,  0.09651275,  0.55299958,  0.88034476],\n",
       "         [ 0.30275465,  0.03114669,  0.76291335,  0.89423036,  0.10291813],\n",
       "         [ 0.61434208,  0.23482192,  0.76548015,  0.46095372,  0.15683438]],\n",
       " \n",
       "        [[ 0.23001074,  0.75814235,  0.77721088,  0.32257422,  0.30340721],\n",
       "         [ 0.34649924,  0.62274606,  0.75516247,  0.33786868,  0.7831538 ],\n",
       "         [ 0.59216801,  0.69653358,  0.31194369,  0.71861906,  0.2152945 ]]]),\n",
       " [11, 12, 13],\n",
       "    population   state  year\n",
       " 0         1.5    Ohio  2000\n",
       " 1         1.7    Ohio  2001\n",
       " 2         3.6    Ohio  2002\n",
       " 3         2.4  Nevada  2001\n",
       " 4         2.9  Nevada  2002,\n",
       " array([[[[  6.33541820e-01,   4.98415637e-01,   6.67549799e-01,\n",
       "             4.47952511e-01,   1.20303581e-01],\n",
       "          [  5.56269687e-01,   5.71098222e-01,   3.48171771e-01,\n",
       "             8.87033136e-01,   8.74243550e-01],\n",
       "          [  1.88625890e-01,   7.80208365e-01,   5.11267135e-01,\n",
       "             4.21528661e-01,   9.86609195e-01],\n",
       "          [  3.73655411e-01,   8.41101444e-01,   5.10654062e-01,\n",
       "             8.48341332e-01,   9.21130990e-01]],\n",
       " \n",
       "         [[  3.36680692e-01,   3.22029981e-01,   4.36698392e-01,\n",
       "             4.85107312e-01,   2.65135306e-01],\n",
       "          [  9.95511603e-01,   1.42678395e-01,   5.53119895e-01,\n",
       "             7.27890771e-01,   2.07155025e-01],\n",
       "          [  8.19060424e-01,   8.28615792e-01,   2.52401660e-01,\n",
       "             9.06544982e-01,   9.91151396e-01],\n",
       "          [  9.87098015e-01,   8.22052953e-01,   1.40553078e-01,\n",
       "             8.72706231e-01,   3.89535212e-02]],\n",
       " \n",
       "         [[  3.11453816e-01,   7.34885240e-01,   5.63110308e-01,\n",
       "             6.05013960e-01,   6.98955557e-01],\n",
       "          [  3.47618443e-01,   6.41738441e-01,   8.63745962e-01,\n",
       "             8.79634875e-01,   9.55977541e-01],\n",
       "          [  6.02620774e-01,   4.58776425e-01,   7.18575549e-01,\n",
       "             7.26400842e-01,   8.34847825e-01],\n",
       "          [  1.95019142e-01,   7.63603936e-01,   7.67954668e-01,\n",
       "             8.70172432e-01,   1.28327631e-01]]],\n",
       " \n",
       " \n",
       "        [[[  2.22618912e-02,   1.74597956e-01,   6.87809427e-01,\n",
       "             6.66582177e-01,   3.49424336e-01],\n",
       "          [  4.39593289e-01,   2.06399642e-01,   6.71383780e-01,\n",
       "             4.28072310e-01,   1.52971147e-01],\n",
       "          [  8.36274962e-01,   2.44333848e-01,   5.85228228e-02,\n",
       "             3.36080919e-01,   6.57808357e-01],\n",
       "          [  2.16190400e-01,   5.74251266e-01,   3.76596536e-01,\n",
       "             1.11817892e-02,   7.75540139e-01]],\n",
       " \n",
       "         [[  7.65807029e-01,   9.06590483e-02,   3.52873949e-01,\n",
       "             1.82454309e-01,   1.56722572e-01],\n",
       "          [  9.30665802e-01,   1.56224032e-01,   2.11727255e-01,\n",
       "             4.71458764e-01,   1.54617943e-01],\n",
       "          [  5.67017780e-01,   6.91574269e-01,   3.00940803e-01,\n",
       "             8.36938634e-01,   7.90581804e-01],\n",
       "          [  9.30959708e-01,   3.65400455e-01,   5.70292658e-01,\n",
       "             9.03661526e-01,   1.67110891e-01]],\n",
       " \n",
       "         [[  2.95357270e-01,   6.17232121e-01,   8.63299548e-01,\n",
       "             8.99016679e-01,   6.85216145e-01],\n",
       "          [  6.22115030e-01,   1.72768066e-01,   1.84701381e-01,\n",
       "             9.46199031e-01,   8.42003880e-01],\n",
       "          [  5.06467400e-01,   5.26932607e-01,   1.37002104e-01,\n",
       "             4.28599610e-01,   6.13962458e-04],\n",
       "          [  7.62470022e-01,   7.41387864e-01,   2.77978080e-01,\n",
       "             7.34438512e-01,   6.50529136e-01]]]])]"
      ]
     },
     "execution_count": 12,
     "metadata": {},
     "output_type": "execute_result"
    }
   ],
   "source": [
    "# let's look at what we built:  all the objects are here but are no longer named so we need to get indices right\n",
    "crazyList"
   ]
  },
  {
   "cell_type": "code",
   "execution_count": 51,
   "metadata": {},
   "outputs": [
    {
     "name": "stdout",
     "output_type": "stream",
     "text": [
      "[[1 2 3 4 5]]\n"
     ]
    },
    {
     "data": {
      "text/plain": [
       "array([1, 2, 3, 4, 5])"
      ]
     },
     "execution_count": 51,
     "metadata": {},
     "output_type": "execute_result"
    }
   ],
   "source": [
    "# note that both of these get the same data, but also note the difference in the format: \"[[]]\" and array([])\".\n",
    "# look at the source and you will see we are drilling in at different levels of \"[]\"\n",
    "# there can be situations in real coding where extra layers are created by accident so this example is good to know\n",
    "\n",
    "print(crazyList[0])\n",
    "crazyList[0][0]"
   ]
  },
  {
   "cell_type": "markdown",
   "metadata": {},
   "source": [
    "Sub element 4 is a simple list nested within caryList: crazyList [ ... [content at index position 4] ...]"
   ]
  },
  {
   "cell_type": "code",
   "execution_count": 52,
   "metadata": {},
   "outputs": [
    {
     "name": "stdout",
     "output_type": "stream",
     "text": [
      "[11, 12, 13]\n"
     ]
    },
    {
     "data": {
      "text/plain": [
       "12"
      ]
     },
     "execution_count": 52,
     "metadata": {},
     "output_type": "execute_result"
    }
   ],
   "source": [
    "print(crazyList[4])\n",
    "crazyList[4][1]  # get 2nd element in the list within a list at position 4 (object 4 in the list)"
   ]
  },
  {
   "cell_type": "markdown",
   "metadata": {},
   "source": [
    "So what about the array?  The array was originally built in \"simp1\" and then added to crazyList.  Its source looks like this:"
   ]
  },
  {
   "cell_type": "code",
   "execution_count": 89,
   "metadata": {},
   "outputs": [
    {
     "name": "stdout",
     "output_type": "stream",
     "text": [
      "<type 'numpy.ndarray'>\n",
      "(1L, 5L)\n"
     ]
    }
   ],
   "source": [
    "print(type(simp1))\n",
    "print(simp1.shape)"
   ]
  },
  {
   "cell_type": "code",
   "execution_count": 54,
   "metadata": {},
   "outputs": [
    {
     "name": "stdout",
     "output_type": "stream",
     "text": [
      "[[1 2 3 4 5]]\n",
      "[1 2 3 4 5]\n"
     ]
    },
    {
     "data": {
      "text/plain": [
       "2"
      ]
     },
     "execution_count": 54,
     "metadata": {},
     "output_type": "execute_result"
    }
   ],
   "source": [
    "print(simp1)\n",
    "print(simp1[0])  # note that the first two give us the same thing (whole array)\n",
    "simp1[0][1]"
   ]
  },
  {
   "cell_type": "markdown",
   "metadata": {},
   "source": [
    "Note the [] versus the [[]] ... our \"simple arrays\" were copied from an example, but are actually nested objects of 1 list of 5 elements forming the first object inside the array.  A true simple array would like this:"
   ]
  },
  {
   "cell_type": "code",
   "execution_count": 55,
   "metadata": {},
   "outputs": [
    {
     "name": "stdout",
     "output_type": "stream",
     "text": [
      "(5L,)\n"
     ]
    },
    {
     "data": {
      "text/plain": [
       "array([10,  9,  8,  7,  6])"
      ]
     },
     "execution_count": 55,
     "metadata": {},
     "output_type": "execute_result"
    }
   ],
   "source": [
    "trueSimp1=np.array([10,9,8,7,6])\n",
    "print(trueSimp1.shape)             # note:  output shows that Python thinks this is 5 rows, 1 column\n",
    "trueSimp1"
   ]
  },
  {
   "cell_type": "markdown",
   "metadata": {},
   "source": [
    "Let's add the true simple array to our crazy object and then create working examples of accessing everything ..."
   ]
  },
  {
   "cell_type": "code",
   "execution_count": 57,
   "metadata": {},
   "outputs": [
    {
     "data": {
      "text/plain": [
       "[array([[1, 2, 3, 4, 5]]),\n",
       " array([[[ 0.02764211,  0.26386474,  0.88865395,  0.34781755,  0.72534514],\n",
       "         [ 0.66574007,  0.73384079,  0.57345696,  0.55389339,  0.87147245],\n",
       "         [ 0.98128298,  0.88944205,  0.44554892,  0.7894838 ,  0.97115509],\n",
       "         [ 0.08401461,  0.16542205,  0.00558565,  0.86419018,  0.40254914]],\n",
       " \n",
       "        [[ 0.71687244,  0.72853557,  0.55106175,  0.78393111,  0.69921926],\n",
       "         [ 0.12197909,  0.93129564,  0.42840254,  0.34314161,  0.12802696],\n",
       "         [ 0.88812661,  0.75876102,  0.00127025,  0.60469319,  0.28094787],\n",
       "         [ 0.61414269,  0.69289326,  0.78397186,  0.19069658,  0.76636118]],\n",
       " \n",
       "        [[ 0.28322395,  0.20178467,  0.69215878,  0.80796972,  0.08010599],\n",
       "         [ 0.47625811,  0.5169806 ,  0.98614882,  0.26718482,  0.4316306 ],\n",
       "         [ 0.15617731,  0.80081827,  0.37400983,  0.04256393,  0.98771807],\n",
       "         [ 0.99770397,  0.42965486,  0.2190626 ,  0.24189908,  0.95881218]]]),\n",
       " array([[10,  9,  8,  7,  6]]),\n",
       " array([[[ 0.02764211,  0.26386474,  0.88865395,  0.34781755,  0.72534514],\n",
       "         [ 0.66574007,  0.73384079,  0.57345696,  0.55389339,  0.87147245],\n",
       "         [ 0.98128298,  0.88944205,  0.44554892,  0.7894838 ,  0.97115509]],\n",
       " \n",
       "        [[ 0.08401461,  0.16542205,  0.00558565,  0.86419018,  0.40254914],\n",
       "         [ 0.71687244,  0.72853557,  0.55106175,  0.78393111,  0.69921926],\n",
       "         [ 0.12197909,  0.93129564,  0.42840254,  0.34314161,  0.12802696]],\n",
       " \n",
       "        [[ 0.88812661,  0.75876102,  0.00127025,  0.60469319,  0.28094787],\n",
       "         [ 0.61414269,  0.69289326,  0.78397186,  0.19069658,  0.76636118],\n",
       "         [ 0.28322395,  0.20178467,  0.69215878,  0.80796972,  0.08010599]],\n",
       " \n",
       "        [[ 0.47625811,  0.5169806 ,  0.98614882,  0.26718482,  0.4316306 ],\n",
       "         [ 0.15617731,  0.80081827,  0.37400983,  0.04256393,  0.98771807],\n",
       "         [ 0.99770397,  0.42965486,  0.2190626 ,  0.24189908,  0.95881218]]]),\n",
       " [11, 12, 13],\n",
       "    population   state  year\n",
       " 0         1.5    Ohio  2000\n",
       " 1         1.7    Ohio  2001\n",
       " 2         3.6    Ohio  2002\n",
       " 3         2.4  Nevada  2001\n",
       " 4         2.9  Nevada  2002,\n",
       " array([[[[ 0.85299096,  0.62408962,  0.46559312,  0.59977211,  0.38041822],\n",
       "          [ 0.45831929,  0.90751208,  0.55776963,  0.80488569,  0.70041158],\n",
       "          [ 0.24332968,  0.21271898,  0.44423011,  0.9098522 ,  0.5045675 ],\n",
       "          [ 0.6565031 ,  0.19822212,  0.39151489,  0.48465936,  0.71523129]],\n",
       " \n",
       "         [[ 0.96501237,  0.66875908,  0.99435007,  0.51638045,  0.92869465],\n",
       "          [ 0.76617542,  0.50846374,  0.05004649,  0.79113062,  0.82639575],\n",
       "          [ 0.20097392,  0.23616426,  0.33070455,  0.71779095,  0.89065204],\n",
       "          [ 0.24929711,  0.60038916,  0.48634717,  0.35480637,  0.34372284]],\n",
       " \n",
       "         [[ 0.97387369,  0.71569147,  0.85060481,  0.9277284 ,  0.14078441],\n",
       "          [ 0.56117986,  0.28928248,  0.95277008,  0.72973045,  0.77361024],\n",
       "          [ 0.18379655,  0.12094671,  0.67305481,  0.24605122,  0.3468539 ],\n",
       "          [ 0.65142807,  0.47173961,  0.92538947,  0.41694106,  0.51021661]]],\n",
       " \n",
       " \n",
       "        [[[ 0.76562398,  0.76076129,  0.72521928,  0.56537478,  0.10063146],\n",
       "          [ 0.23082598,  0.95822093,  0.921428  ,  0.54175584,  0.09565608],\n",
       "          [ 0.023354  ,  0.91687907,  0.42717123,  0.41016258,  0.11418219],\n",
       "          [ 0.31931941,  0.07408099,  0.52762727,  0.73739901,  0.30636251]],\n",
       " \n",
       "         [[ 0.67569832,  0.51443093,  0.92900983,  0.75451684,  0.44473774],\n",
       "          [ 0.46663521,  0.74361873,  0.3760989 ,  0.76171124,  0.51426751],\n",
       "          [ 0.37392212,  0.9152669 ,  0.21509837,  0.03589586,  0.86006899],\n",
       "          [ 0.13517498,  0.1268733 ,  0.23992384,  0.72658725,  0.98064682]],\n",
       " \n",
       "         [[ 0.95058403,  0.0460832 ,  0.8110159 ,  0.44637232,  0.60579158],\n",
       "          [ 0.73022724,  0.89346414,  0.11254326,  0.81020841,  0.06361414],\n",
       "          [ 0.04529551,  0.64081876,  0.86319784,  0.38564636,  0.80422053],\n",
       "          [ 0.11672826,  0.75796364,  0.23027907,  0.07541845,  0.55527344]]]]),\n",
       " array([10,  9,  8,  7,  6]),\n",
       " array([10,  9,  8,  7,  6])]"
      ]
     },
     "execution_count": 57,
     "metadata": {},
     "output_type": "execute_result"
    }
   ],
   "source": [
    "crazyList.append(trueSimp1)   # append mutates so this changes the original list\n",
    "crazyList                     # Warning! if you re-run this cell, you will keep adding more copies of the last object\n",
    "                              # to the end of this object.  To be consistent with content in this NB\n",
    "                              # clear and re-run the whole notebook should that happen"
   ]
  },
  {
   "cell_type": "code",
   "execution_count": 60,
   "metadata": {},
   "outputs": [
    {
     "name": "stdout",
     "output_type": "stream",
     "text": [
      "[[1 2 3 4 5]]\n",
      "[10  9  8  7  6]\n"
     ]
    }
   ],
   "source": [
    "# The elements at either end of crazyList:\n",
    "print(crazyList[0])\n",
    "print(crazyList[-1])  # ask for last item by counting backwards from the end"
   ]
  },
  {
   "cell_type": "code",
   "execution_count": 63,
   "metadata": {},
   "outputs": [
    {
     "name": "stdout",
     "output_type": "stream",
     "text": [
      "3\n",
      "8\n"
     ]
    }
   ],
   "source": [
    "# get a specific value by index from within the subelements at either end:\n",
    "print(crazyList[0][0][2]) # extra zero for the extra [] .. structurally this is really [0 [0 ], [1] ] but 1 does not exist\n",
    "print(crazyList[-1][2])"
   ]
  },
  {
   "cell_type": "markdown",
   "metadata": {},
   "source": [
    "Looking at just that first element again:"
   ]
  },
  {
   "cell_type": "code",
   "execution_count": 40,
   "metadata": {},
   "outputs": [
    {
     "data": {
      "text/plain": [
       "array([[1, 2, 3, 4, 5]])"
      ]
     },
     "execution_count": 40,
     "metadata": {},
     "output_type": "execute_result"
    }
   ],
   "source": [
    "crazyList[0]  # first array to change"
   ]
  },
  {
   "cell_type": "markdown",
   "metadata": {},
   "source": [
    "remember that this object if it were not in a list would be accessed like so:"
   ]
  },
  {
   "cell_type": "code",
   "execution_count": 41,
   "metadata": {},
   "outputs": [
    {
     "data": {
      "text/plain": [
       "2"
      ]
     },
     "execution_count": 41,
     "metadata": {},
     "output_type": "execute_result"
    }
   ],
   "source": [
    "simp1[0][1]     # second element inside it"
   ]
  },
  {
   "cell_type": "markdown",
   "metadata": {},
   "source": [
    "... so inside crazyList ?  The answer is that the list is one level deep and the elements are yet another level in:"
   ]
  },
  {
   "cell_type": "code",
   "execution_count": 115,
   "metadata": {},
   "outputs": [
    {
     "data": {
      "text/plain": [
       "array([[1, 2, 3, 4, 5]])"
      ]
     },
     "execution_count": 115,
     "metadata": {},
     "output_type": "execute_result"
    }
   ],
   "source": [
    "crazyList[0]"
   ]
  },
  {
   "cell_type": "code",
   "execution_count": 116,
   "metadata": {},
   "outputs": [
    {
     "data": {
      "text/plain": [
       "2"
      ]
     },
     "execution_count": 116,
     "metadata": {},
     "output_type": "execute_result"
    }
   ],
   "source": [
    "crazyList[0][0][1]"
   ]
  },
  {
   "cell_type": "markdown",
   "metadata": {},
   "source": [
    "<a id=\"mutation\" name=\"mutation\"></a>\n",
    "## Sidebar:  Mutation and Related Concerns\n",
    "\n",
    "Try this test and you will see it does not work:\n",
    "\n",
    "crazyList2 = crazyList.append(trueSimp1)\n",
    "\n",
    "What it did:  crazyList got an element appended to the end and crazyList2 came out the other side empty.  This is because append() returns None and operates on the original. The copy then gets nothing and the original gets an element added to it.\n",
    "\n",
    "To set up crazyList2 to append to only it, we might be tempted to try something like what is shown below, but if we do, note how it mutates:"
   ]
  },
  {
   "cell_type": "code",
   "execution_count": 64,
   "metadata": {},
   "outputs": [
    {
     "name": "stdout",
     "output_type": "stream",
     "text": [
      "[1, 2, 3]\n",
      "[1, 2, 3]\n"
     ]
    }
   ],
   "source": [
    "aList = [1,2,3]\n",
    "bList = aList\n",
    "print(aList)\n",
    "print(bList)"
   ]
  },
  {
   "cell_type": "markdown",
   "metadata": {},
   "source": [
    "Note how the second is really a reference to the first so changing one changes the other:"
   ]
  },
  {
   "cell_type": "code",
   "execution_count": 65,
   "metadata": {},
   "outputs": [
    {
     "name": "stdout",
     "output_type": "stream",
     "text": [
      "[0, 1, 3, 4]\n",
      "[0, 1, 3, 4]\n"
     ]
    }
   ],
   "source": [
    "aList[0] = 0\n",
    "bList[1] = 1\n",
    "bList.append(4)\n",
    "print(aList)\n",
    "print(bList)"
   ]
  },
  {
   "cell_type": "markdown",
   "metadata": {},
   "source": [
    "For a simple list ... we can fix that by simply using list() during our attempt to create the copy:"
   ]
  },
  {
   "cell_type": "code",
   "execution_count": 66,
   "metadata": {},
   "outputs": [
    {
     "name": "stdout",
     "output_type": "stream",
     "text": [
      "[0, 998, 3, 4]\n",
      "[999, 1, 3, 4]\n"
     ]
    }
   ],
   "source": [
    "bList = list(aList)\n",
    "bList[0] = 999\n",
    "aList[1] = 998\n",
    "print(aList)\n",
    "print(bList)"
   ]
  },
  {
   "cell_type": "code",
   "execution_count": 67,
   "metadata": {},
   "outputs": [
    {
     "name": "stdout",
     "output_type": "stream",
     "text": [
      "[0, 998, 3, 4]\n",
      "[999, 1, 3, 4, 19]\n"
     ]
    }
   ],
   "source": [
    "bList.append(19)\n",
    "print(aList)\n",
    "print(bList)"
   ]
  },
  {
   "cell_type": "markdown",
   "metadata": {},
   "source": [
    "Mutation is avoided.  Now we can change our two objects independantly.  However, with complex objects like crazyList, this does not work.\n",
    "\n",
    "The following will illustrate the problem and later, options to get around it are presented."
   ]
  },
  {
   "cell_type": "code",
   "execution_count": 68,
   "metadata": {
    "collapsed": true
   },
   "outputs": [],
   "source": [
    "crazyList2 = list(crazyList)"
   ]
  },
  {
   "cell_type": "code",
   "execution_count": 69,
   "metadata": {},
   "outputs": [
    {
     "data": {
      "text/plain": [
       "[array([[1, 2, 3, 4, 5]]),\n",
       " array([[[ 0.02764211,  0.26386474,  0.88865395,  0.34781755,  0.72534514],\n",
       "         [ 0.66574007,  0.73384079,  0.57345696,  0.55389339,  0.87147245],\n",
       "         [ 0.98128298,  0.88944205,  0.44554892,  0.7894838 ,  0.97115509],\n",
       "         [ 0.08401461,  0.16542205,  0.00558565,  0.86419018,  0.40254914]],\n",
       " \n",
       "        [[ 0.71687244,  0.72853557,  0.55106175,  0.78393111,  0.69921926],\n",
       "         [ 0.12197909,  0.93129564,  0.42840254,  0.34314161,  0.12802696],\n",
       "         [ 0.88812661,  0.75876102,  0.00127025,  0.60469319,  0.28094787],\n",
       "         [ 0.61414269,  0.69289326,  0.78397186,  0.19069658,  0.76636118]],\n",
       " \n",
       "        [[ 0.28322395,  0.20178467,  0.69215878,  0.80796972,  0.08010599],\n",
       "         [ 0.47625811,  0.5169806 ,  0.98614882,  0.26718482,  0.4316306 ],\n",
       "         [ 0.15617731,  0.80081827,  0.37400983,  0.04256393,  0.98771807],\n",
       "         [ 0.99770397,  0.42965486,  0.2190626 ,  0.24189908,  0.95881218]]]),\n",
       " array([[10,  9,  8,  7,  6]]),\n",
       " array([[[ 0.02764211,  0.26386474,  0.88865395,  0.34781755,  0.72534514],\n",
       "         [ 0.66574007,  0.73384079,  0.57345696,  0.55389339,  0.87147245],\n",
       "         [ 0.98128298,  0.88944205,  0.44554892,  0.7894838 ,  0.97115509]],\n",
       " \n",
       "        [[ 0.08401461,  0.16542205,  0.00558565,  0.86419018,  0.40254914],\n",
       "         [ 0.71687244,  0.72853557,  0.55106175,  0.78393111,  0.69921926],\n",
       "         [ 0.12197909,  0.93129564,  0.42840254,  0.34314161,  0.12802696]],\n",
       " \n",
       "        [[ 0.88812661,  0.75876102,  0.00127025,  0.60469319,  0.28094787],\n",
       "         [ 0.61414269,  0.69289326,  0.78397186,  0.19069658,  0.76636118],\n",
       "         [ 0.28322395,  0.20178467,  0.69215878,  0.80796972,  0.08010599]],\n",
       " \n",
       "        [[ 0.47625811,  0.5169806 ,  0.98614882,  0.26718482,  0.4316306 ],\n",
       "         [ 0.15617731,  0.80081827,  0.37400983,  0.04256393,  0.98771807],\n",
       "         [ 0.99770397,  0.42965486,  0.2190626 ,  0.24189908,  0.95881218]]]),\n",
       " [11, 12, 13],\n",
       "    population   state  year\n",
       " 0         1.5    Ohio  2000\n",
       " 1         1.7    Ohio  2001\n",
       " 2         3.6    Ohio  2002\n",
       " 3         2.4  Nevada  2001\n",
       " 4         2.9  Nevada  2002,\n",
       " array([[[[ 0.85299096,  0.62408962,  0.46559312,  0.59977211,  0.38041822],\n",
       "          [ 0.45831929,  0.90751208,  0.55776963,  0.80488569,  0.70041158],\n",
       "          [ 0.24332968,  0.21271898,  0.44423011,  0.9098522 ,  0.5045675 ],\n",
       "          [ 0.6565031 ,  0.19822212,  0.39151489,  0.48465936,  0.71523129]],\n",
       " \n",
       "         [[ 0.96501237,  0.66875908,  0.99435007,  0.51638045,  0.92869465],\n",
       "          [ 0.76617542,  0.50846374,  0.05004649,  0.79113062,  0.82639575],\n",
       "          [ 0.20097392,  0.23616426,  0.33070455,  0.71779095,  0.89065204],\n",
       "          [ 0.24929711,  0.60038916,  0.48634717,  0.35480637,  0.34372284]],\n",
       " \n",
       "         [[ 0.97387369,  0.71569147,  0.85060481,  0.9277284 ,  0.14078441],\n",
       "          [ 0.56117986,  0.28928248,  0.95277008,  0.72973045,  0.77361024],\n",
       "          [ 0.18379655,  0.12094671,  0.67305481,  0.24605122,  0.3468539 ],\n",
       "          [ 0.65142807,  0.47173961,  0.92538947,  0.41694106,  0.51021661]]],\n",
       " \n",
       " \n",
       "        [[[ 0.76562398,  0.76076129,  0.72521928,  0.56537478,  0.10063146],\n",
       "          [ 0.23082598,  0.95822093,  0.921428  ,  0.54175584,  0.09565608],\n",
       "          [ 0.023354  ,  0.91687907,  0.42717123,  0.41016258,  0.11418219],\n",
       "          [ 0.31931941,  0.07408099,  0.52762727,  0.73739901,  0.30636251]],\n",
       " \n",
       "         [[ 0.67569832,  0.51443093,  0.92900983,  0.75451684,  0.44473774],\n",
       "          [ 0.46663521,  0.74361873,  0.3760989 ,  0.76171124,  0.51426751],\n",
       "          [ 0.37392212,  0.9152669 ,  0.21509837,  0.03589586,  0.86006899],\n",
       "          [ 0.13517498,  0.1268733 ,  0.23992384,  0.72658725,  0.98064682]],\n",
       " \n",
       "         [[ 0.95058403,  0.0460832 ,  0.8110159 ,  0.44637232,  0.60579158],\n",
       "          [ 0.73022724,  0.89346414,  0.11254326,  0.81020841,  0.06361414],\n",
       "          [ 0.04529551,  0.64081876,  0.86319784,  0.38564636,  0.80422053],\n",
       "          [ 0.11672826,  0.75796364,  0.23027907,  0.07541845,  0.55527344]]]]),\n",
       " array([10,  9,  8,  7,  6]),\n",
       " array([10,  9,  8,  7,  6])]"
      ]
     },
     "execution_count": 69,
     "metadata": {},
     "output_type": "execute_result"
    }
   ],
   "source": [
    "crazyList2"
   ]
  },
  {
   "cell_type": "markdown",
   "metadata": {},
   "source": [
    "Now we make some changes:"
   ]
  },
  {
   "cell_type": "code",
   "execution_count": 25,
   "metadata": {},
   "outputs": [
    {
     "data": {
      "text/plain": [
       "7"
      ]
     },
     "execution_count": 25,
     "metadata": {},
     "output_type": "execute_result"
    }
   ],
   "source": [
    "len(crazyList2)-1  # this is the position of the object we want to change"
   ]
  },
  {
   "cell_type": "code",
   "execution_count": 70,
   "metadata": {
    "collapsed": true
   },
   "outputs": [],
   "source": [
    "crazyList2[7][1] = 13  # this will change element 2 of last object in crazyList2"
   ]
  },
  {
   "cell_type": "markdown",
   "metadata": {},
   "source": [
    "Now we'll look at just the last object in both \"crazyLists\" showing what changed:"
   ]
  },
  {
   "cell_type": "code",
   "execution_count": 71,
   "metadata": {},
   "outputs": [
    {
     "name": "stdout",
     "output_type": "stream",
     "text": [
      "[10 13  8  7  6]\n",
      "[10 13  8  7  6]\n"
     ]
    }
   ],
   "source": [
    "print(crazyList[7])\n",
    "print(crazyList2[7])"
   ]
  },
  {
   "cell_type": "markdown",
   "metadata": {},
   "source": [
    "The \"13\" replaced the value at this location in both crazyList and crazyList2.  We are not dealing with true copies but rather references to the same data as further illustrated here:"
   ]
  },
  {
   "cell_type": "code",
   "execution_count": 30,
   "metadata": {},
   "outputs": [
    {
     "name": "stdout",
     "output_type": "stream",
     "text": [
      "[10  9  8  7  6]\n",
      "[10  9  8  7  6]\n"
     ]
    }
   ],
   "source": [
    "crazyList[7][1] = 9   # change on of them again and both change\n",
    "print(crazyList[7])\n",
    "print(crazyList2[7])"
   ]
  },
  {
   "cell_type": "markdown",
   "metadata": {},
   "source": [
    "So ... how to make a copy that does not mutate?  (we can change one without changing the other)?<br/>\n",
    "Let's look at some things that don't work first ..."
   ]
  },
  {
   "cell_type": "code",
   "execution_count": 72,
   "metadata": {},
   "outputs": [
    {
     "name": "stdout",
     "output_type": "stream",
     "text": [
      "[10 13  8  7  6]\n",
      "[10 13  8  7  6]\n"
     ]
    }
   ],
   "source": [
    "crazyList3 = crazyList[:]  # according to online topics ... this was supposed to work for the reason outlined below\n",
    "                           # it probably works with some complex objects but does not work with this one\n",
    "    \n",
    "# some topics online indicate this should have worked because:\n",
    "#   * the problem is avoided by \"slicing\" the original so Python behaves as if the thing you are copying is different\n",
    "#   * if you used crazyList[2:3] ==> you would get a slice of the original you could store in the copy\n",
    "#   * [:] utilizes slicing syntax but indicates \"give me the whole thing\" since by default, empty values are the min and max\n",
    "#         indexing limits\n",
    "\n",
    "crazyList3[7][1] = 13      # this will change element 2 of the last object\n",
    "print(crazyList[7])\n",
    "print(crazyList3[7])"
   ]
  },
  {
   "cell_type": "code",
   "execution_count": 73,
   "metadata": {},
   "outputs": [
    {
     "name": "stdout",
     "output_type": "stream",
     "text": [
      "8\n",
      "9\n"
     ]
    }
   ],
   "source": [
    "# what if we do this?  (slice it and then add back a missing element)\n",
    "crazyList3 = crazyList[:-1]\n",
    "print(len(crazyList3))\n",
    "print(len(crazyList))  # crazyList 3 is now one element shorter than crazyList"
   ]
  },
  {
   "cell_type": "code",
   "execution_count": 74,
   "metadata": {},
   "outputs": [
    {
     "name": "stdout",
     "output_type": "stream",
     "text": [
      "9\n",
      "9\n"
     ]
    }
   ],
   "source": [
    "crazyList3.append(crazyList[7])  # add back missing element from crazyList\n",
    "print(len(crazyList3))\n",
    "print(len(crazyList))"
   ]
  },
  {
   "cell_type": "code",
   "execution_count": 34,
   "metadata": {},
   "outputs": [
    {
     "name": "stdout",
     "output_type": "stream",
     "text": [
      "[10  9  8  7  6]\n",
      "[10  9  8  7  6]\n"
     ]
    }
   ],
   "source": [
    "crazyList3[7][1] = 9        # this will change element 2 of the last object\n",
    "print(crazyList[7])         # note how again, both lists change\n",
    "print(crazyList3[7])"
   ]
  },
  {
   "cell_type": "markdown",
   "metadata": {},
   "source": [
    "Python is hard to fool ... At first, I considered that we might now have two lists, but w/ just element 7 passed in by reference and so it mutates. But this shows our whole lists are still mutating:"
   ]
  },
  {
   "cell_type": "code",
   "execution_count": 75,
   "metadata": {},
   "outputs": [
    {
     "name": "stdout",
     "output_type": "stream",
     "text": [
      "before:\n",
      "[11, 12, 13]\n",
      "[11, 12, 13]\n",
      "after:\n",
      "[14, 12, 13]\n",
      "[14, 12, 13]\n"
     ]
    }
   ],
   "source": [
    "print(\"before:\")\n",
    "print(crazyList[4])\n",
    "print(crazyList3[4])\n",
    "crazyList3[4][0] = 14\n",
    "print(\"after:\")\n",
    "print(crazyList[4])\n",
    "print(crazyList3[4])  # try other tests of other elements and you will get same results"
   ]
  },
  {
   "cell_type": "markdown",
   "metadata": {},
   "source": [
    "`deepcopy()` comes from the `copy` library and the [commands](https://docs.python.org/2/library/copy.html) are documented at Python.org.  For this situation, this solution seems to work for when mutation is undesirable:"
   ]
  },
  {
   "cell_type": "code",
   "execution_count": 76,
   "metadata": {
    "collapsed": true
   },
   "outputs": [],
   "source": [
    "import copy\n",
    "crazyList4 = copy.deepcopy(crazyList)"
   ]
  },
  {
   "cell_type": "code",
   "execution_count": 77,
   "metadata": {},
   "outputs": [
    {
     "name": "stdout",
     "output_type": "stream",
     "text": [
      "before:\n",
      "[14, 12, 13]\n",
      "[14, 12, 13]\n",
      "\n",
      "after:\n",
      "[14, 12, 13]\n",
      "[15, 12, 13]\n"
     ]
    }
   ],
   "source": [
    "print(\"before:\")\n",
    "print(crazyList[4])\n",
    "print(crazyList4[4])\n",
    "crazyList4[4][0] = 15\n",
    "print(\"\")\n",
    "print(\"after:\")\n",
    "print(crazyList[4])\n",
    "print(crazyList4[4])"
   ]
  },
  {
   "cell_type": "markdown",
   "metadata": {},
   "source": [
    "Should even `deepcopy()` not work, this topic online may prove helpful in these situations:  [Stack Overflow: When Deep Copy is not Enough](http://stackoverflow.com/questions/1601269/how-to-make-a-completely-unshared-copy-of-a-complicated-list-deep-copy-is-not)."
   ]
  },
  {
   "cell_type": "markdown",
   "metadata": {},
   "source": [
    "<a id=\"indexing\" name=\"indexing\"></a>\n",
    "## Finding The Index of a Value"
   ]
  },
  {
   "cell_type": "markdown",
   "metadata": {},
   "source": [
    "Suppose we didn't know how to find the element but we knew the value we were looking for?  How to get its index?"
   ]
  },
  {
   "cell_type": "code",
   "execution_count": 85,
   "metadata": {},
   "outputs": [
    {
     "name": "stdout",
     "output_type": "stream",
     "text": [
      "[[1, 2, 3], [4, 5, 6]]\n",
      "1\n"
     ]
    }
   ],
   "source": [
    "print(stupidList)\n",
    "print(stupidList[1].index(5))  # this works on lists"
   ]
  },
  {
   "cell_type": "code",
   "execution_count": 88,
   "metadata": {},
   "outputs": [
    {
     "name": "stdout",
     "output_type": "stream",
     "text": [
      "<type 'exceptions.ValueError'>: 5 is not in list\n",
      "1\n"
     ]
    }
   ],
   "source": [
    "# but for nested lists, you would need to loop through each sublist and handle the error that \n",
    "# gets thrown each time it does not find the answer\n",
    "\n",
    "for element in stupidList:\n",
    "    try:                  \n",
    "        test_i = element.index(5)\n",
    "    except Exception as ex:\n",
    "        print(\"%s%s %s\" %(type(ex), \":\", ex))\n",
    "        \n",
    "print(test_i)"
   ]
  },
  {
   "cell_type": "code",
   "execution_count": 91,
   "metadata": {},
   "outputs": [
    {
     "name": "stdout",
     "output_type": "stream",
     "text": [
      "(<type 'exceptions.AttributeError'>, AttributeError(\"'numpy.ndarray' object has no attribute 'index'\",))\n"
     ]
    }
   ],
   "source": [
    "# this strategy will not work on numpy arrays though\n",
    "try:\n",
    "    crazyList[0].index(2)\n",
    "except Exception as anyE:\n",
    "    print(type(anyE), anyE)"
   ]
  },
  {
   "cell_type": "code",
   "execution_count": 93,
   "metadata": {},
   "outputs": [
    {
     "name": "stdout",
     "output_type": "stream",
     "text": [
      "[[1 2 3 4 5]]\n"
     ]
    },
    {
     "data": {
      "text/plain": [
       "(array([0], dtype=int64), array([1], dtype=int64))"
      ]
     },
     "execution_count": 93,
     "metadata": {},
     "output_type": "execute_result"
    }
   ],
   "source": [
    "# because we have a list containing numpy arrays, we could look in each one like this:\n",
    "print(crazyList[0])\n",
    "np.where(crazyList[0]==2)"
   ]
  },
  {
   "cell_type": "code",
   "execution_count": 95,
   "metadata": {},
   "outputs": [
    {
     "data": {
      "text/plain": [
       "2"
      ]
     },
     "execution_count": 95,
     "metadata": {},
     "output_type": "execute_result"
    }
   ],
   "source": [
    "# the above indicates that 2 lives here:\n",
    "crazyList[0][0][1]   # started with crazyList[0], then found it at [0][1] inside the data structure"
   ]
  },
  {
   "cell_type": "code",
   "execution_count": 100,
   "metadata": {},
   "outputs": [
    {
     "name": "stdout",
     "output_type": "stream",
     "text": [
      "[[[ 0.02764211  0.26386474  0.88865395  0.34781755  0.72534514]\n",
      "  [ 0.66574007  0.73384079  0.57345696  0.55389339  0.87147245]\n",
      "  [ 0.98128298  0.88944205  0.44554892  0.7894838   0.97115509]\n",
      "  [ 0.08401461  0.16542205  0.00558565  0.86419018  0.40254914]]\n",
      "\n",
      " [[ 0.71687244  0.72853557  0.55106175  0.78393111  0.69921926]\n",
      "  [ 0.12197909  0.93129564  0.42840254  0.34314161  0.12802696]\n",
      "  [ 0.88812661  0.75876102  0.00127025  0.60469319  0.28094787]\n",
      "  [ 0.61414269  0.69289326  0.78397186  0.19069658  0.76636118]]\n",
      "\n",
      " [[ 0.28322395  0.20178467  0.69215878  0.80796972  0.08010599]\n",
      "  [ 0.47625811  0.5169806   0.98614882  0.26718482  0.4316306 ]\n",
      "  [ 0.15617731  0.80081827  0.37400983  0.04256393  0.98771807]\n",
      "  [ 0.99770397  0.42965486  0.2190626   0.24189908  0.95881218]]]\n",
      "\n",
      "0.958812178544\n",
      "0.95881217854380618171\n"
     ]
    }
   ],
   "source": [
    "# For floating point numbers, the level of precision matters\n",
    "# details on how this works are presented in this notebook:  TMWP_np_where_and_floatingPoint_numbers.ipynb\n",
    "\n",
    "# the simple test in the cells that follow should help illustrate the problem and what to do, but \n",
    "# see aforementioned notebook for more detail\n",
    "\n",
    "# to perform a where() test on a structure like this, it is important to note that print()\n",
    "# rounds the result to 8 decimal places.  The real underlying numbers have more decimal places\n",
    "\n",
    "print(crazyList2[1]); print(\"\")\n",
    "print(crazyList2[1][2][3][4])                       # get a number to test with\n",
    "print(\"{0:.20}\".format(crazyList2[1][2][3][4]))     # show more decimal places of the test number"
   ]
  },
  {
   "cell_type": "code",
   "execution_count": 101,
   "metadata": {},
   "outputs": [
    {
     "name": "stdout",
     "output_type": "stream",
     "text": [
      "(array([2], dtype=int64), array([3], dtype=int64), array([4], dtype=int64))\n"
     ]
    }
   ],
   "source": [
    "# Warning! If you re-run this notebook, new random nubers are generated and the value used for the test in this\n",
    "#          cell will probably then fail.  To fix this, re-run previous cell and copy in the final number shown\n",
    "#          above up to at least 17 decimal places.\n",
    "\n",
    "print(np.where(crazyList2[1]==0.95881217854380618)) # number copied from output of previous line up to 17 decimal places\n",
    "                                                    # np.where() can find this, but will also return other values\n",
    "                                                    # that match up to the first 16 decimal places (if they exist)\n",
    "                                                    # precision appears to be up to 16 decimal places on a 32 bit machine"
   ]
  },
  {
   "cell_type": "code",
   "execution_count": 118,
   "metadata": {},
   "outputs": [
    {
     "name": "stdout",
     "output_type": "stream",
     "text": [
      "[[[False False False False False]\n",
      "  [False False False False False]\n",
      "  [False False False False False]\n",
      "  [False False False False False]]\n",
      "\n",
      " [[False False False False False]\n",
      "  [False False False False False]\n",
      "  [False False False False False]\n",
      "  [False False False False False]]\n",
      "\n",
      " [[False False False False False]\n",
      "  [False False False False False]\n",
      "  [False False False False False]\n",
      "  [False False False False  True]]]\n",
      "\n",
      "(array([2], dtype=int64), array([3], dtype=int64), array([4], dtype=int64))\n"
     ]
    }
   ],
   "source": [
    "# np.isclose\n",
    "# for finding less precise answers:  finds numbers that \"are close\"\n",
    "\n",
    "print(np.isclose(crazyList2[1], 0.95881))\n",
    "print(\"\")\n",
    "print(np.where(np.isclose(crazyList2[1], 0.95881)))  # note that when numbers are \"close\" this returns multiple values\n",
    "                                                     # in this case (crazyList2) only one number was \"close\"\n",
    "                                                     # more detailed testing is provided in: \n",
    "                                                     #    TMWP_np_where_and_floatingPoint_numbers.ipynb"
   ]
  },
  {
   "cell_type": "markdown",
   "metadata": {},
   "source": [
    "Related help topics for additional research and reading:\n",
    " - [Finding the Index - some options on Stack Overflow](http://stackoverflow.com/questions/176918/finding-the-index-of-an-item-given-a-list-containing-it-in-python)\n",
    " - [numpy.where()](https://docs.scipy.org/doc/numpy/reference/generated/numpy.where.html)\n",
    " - [numpy.isclose()](https://docs.scipy.org/doc/numpy-1.10.4/reference/generated/numpy.isclose.html)\n",
    " - [Pandas Dataframe Indexing Tutorial](https://www.novixys.com/blog/pandas-tutorial-select-dataframe/)"
   ]
  },
  {
   "cell_type": "markdown",
   "metadata": {
    "collapsed": true
   },
   "source": [
    "The End ..."
   ]
  }
 ],
 "metadata": {
  "anaconda-cloud": {},
  "kernelspec": {
   "display_name": "Python 3",
   "language": "python",
   "name": "python3"
  },
  "language_info": {
   "codemirror_mode": {
    "name": "ipython",
    "version": 3
   },
   "file_extension": ".py",
   "mimetype": "text/x-python",
   "name": "python",
   "nbconvert_exporter": "python",
   "pygments_lexer": "ipython3",
   "version": "3.6.1"
  }
 },
 "nbformat": 4,
 "nbformat_minor": 2
}
