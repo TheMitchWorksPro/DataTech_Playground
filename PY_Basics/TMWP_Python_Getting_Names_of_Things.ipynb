{
 "cells": [
  {
   "cell_type": "markdown",
   "metadata": {},
   "source": [
    "<div align=\"right\">Python [conda env:PY27_Test]</div>"
   ]
  },
  {
   "cell_type": "markdown",
   "metadata": {},
   "source": [
    "What if you want to use the name of things in your code to do something?  The most common use case would be to pass a value into a function and then have that function ouput the name of the variable containing the original value as well as the desired output.  Additionally this could allow us to track function calls to other functions by outputting the names of what function got called when it gets used.\n",
    "\n",
    "Much of the content in this notebook was proposed or inspired on this posting thread: [Stack Overflow Post On this Topic](http://stackoverflow.com/a/21339843/7525365)\n",
    "\n",
    "## TOC\n",
    "\n",
    "- [Tests with dill library - getname()](#getname)\n",
    "- [Using globals() and .items() to get Names](#globals)\n",
    "- [Simplest Answer to get Names of Methods](#__name__)\n",
    "- [Looping over variables in globals() to get Values](#loop_4_values)\n",
    "\n",
    "\n",
    "<a id=\"getname\" name=\"getname\"></a>\n",
    "### Tests with dill library - getname()"
   ]
  },
  {
   "cell_type": "code",
   "execution_count": 1,
   "metadata": {
    "collapsed": true
   },
   "outputs": [],
   "source": [
    "from dill.source import getname    # run this cell first before any cells below\n",
    "\n",
    "peg1 = [1,2]\n",
    "peg2 = [3]\n",
    "peg3 = [5,4]"
   ]
  },
  {
   "cell_type": "code",
   "execution_count": 2,
   "metadata": {
    "collapsed": false,
    "scrolled": true
   },
   "outputs": [
    {
     "name": "stdout",
     "output_type": "stream",
     "text": [
      "Does not work:\n",
      " Move 2 from None to None next.\n",
      "\n",
      "Resolves to stored Value, not the names:\n",
      "Move 2 from 1 to 5 next.\n"
     ]
    }
   ],
   "source": [
    "# this example shows what at first would appear to be unexpected behavior\n",
    "# it illustrates some concepts though later cells of this notebook show how to effectively use dill.getname\n",
    "\n",
    "def move_from(source, target):\n",
    "    # this did not work at all:\n",
    "    print(\"Does not work:\\n Move %d from %s to %s next.\\n\" %(source[-1], getname(source), getname(target)))\n",
    "    print(\"Resolves to stored Value, not the names:\")\n",
    "    print(\"Move %d from %s to %s next.\" %(source[-1], getname(*source), getname(*target)))\n",
    "    \n",
    "move_from(peg1, peg3)   "
   ]
  },
  {
   "cell_type": "code",
   "execution_count": 3,
   "metadata": {
    "collapsed": false
   },
   "outputs": [
    {
     "name": "stdout",
     "output_type": "stream",
     "text": [
      "None\n"
     ]
    }
   ],
   "source": [
    "print(getname(peg1))  # note how no value is returned for variables"
   ]
  },
  {
   "cell_type": "code",
   "execution_count": 4,
   "metadata": {
    "collapsed": false
   },
   "outputs": [
    {
     "data": {
      "text/plain": [
       "'move_from'"
      ]
     },
     "execution_count": 4,
     "metadata": {},
     "output_type": "execute_result"
    }
   ],
   "source": [
    "# but the name is returned for functions\n",
    "getname(move_from)"
   ]
  },
  {
   "cell_type": "code",
   "execution_count": 5,
   "metadata": {
    "collapsed": false
   },
   "outputs": [
    {
     "name": "stdout",
     "output_type": "stream",
     "text": [
      "Does not work:\n",
      " Move 2 from None to None next.\n",
      "\n",
      "Resolves to stored Value, not the names:\n",
      "Move 2 from 1 to None next.\n"
     ]
    },
    {
     "data": {
      "text/plain": [
       "'move_from'"
      ]
     },
     "execution_count": 5,
     "metadata": {},
     "output_type": "execute_result"
    }
   ],
   "source": [
    "def test_another_way_fun(fun, x, y):\n",
    "    fun(x, y)\n",
    "    return getname(fun)\n",
    "\n",
    "test_another_way_fun(move_from, peg1, peg2)  # only move_from() resolves to its original name"
   ]
  },
  {
   "cell_type": "markdown",
   "metadata": {},
   "source": [
    "<a id=\"globals\" name=\"globals\"></a>\n",
    "### Using globals() and .items() to get Names"
   ]
  },
  {
   "cell_type": "code",
   "execution_count": 6,
   "metadata": {
    "collapsed": false
   },
   "outputs": [
    {
     "data": {
      "text/plain": [
       "'peg1'"
      ]
     },
     "execution_count": 6,
     "metadata": {},
     "output_type": "execute_result"
    }
   ],
   "source": [
    "### try these lines after some variables and functions are defined:\n",
    "# globals()\n",
    "# globals().items()\n",
    "### result is long and rather messy ... \n",
    "\n",
    "# this code is from the stack overflow post: http://stackoverflow.com/a/1538399/7525365\n",
    "\n",
    "def variable_for_value(value):\n",
    "    for n,v in globals().items():\n",
    "        if v == value:\n",
    "            return n\n",
    "    return None\n",
    "\n",
    "variable_for_value(peg1)"
   ]
  },
  {
   "cell_type": "code",
   "execution_count": 7,
   "metadata": {
    "collapsed": false
   },
   "outputs": [
    {
     "data": {
      "text/plain": [
       "'move_from'"
      ]
     },
     "execution_count": 7,
     "metadata": {},
     "output_type": "execute_result"
    }
   ],
   "source": [
    "variable_for_value(move_from)"
   ]
  },
  {
   "cell_type": "code",
   "execution_count": 8,
   "metadata": {
    "collapsed": false
   },
   "outputs": [
    {
     "name": "stdout",
     "output_type": "stream",
     "text": [
      "None\n",
      "None\n"
     ]
    }
   ],
   "source": [
    "print(variable_for_value(peg1[0]))  # cannot pass in an index or pointer and get the name\n",
    "print(variable_for_value(*peg2))    # None is returned"
   ]
  },
  {
   "cell_type": "code",
   "execution_count": 9,
   "metadata": {
    "collapsed": false
   },
   "outputs": [
    {
     "name": "stdout",
     "output_type": "stream",
     "text": [
      "None\n"
     ]
    }
   ],
   "source": [
    "# this is probably because it is treating the above literally as if you were asking for\n",
    "# thing named '*peg2' or thing named peg1[0]\n",
    "# thing doesn't exist?  It does this:\n",
    "\n",
    "x = variable_for_value('does_not_exist') # to even get nonexistent thing to pass in have to wrap in quotes and treat as string\n",
    "                                         # otherwise, NameError is triggered before we can see how it handles it\n",
    "print(x)"
   ]
  },
  {
   "cell_type": "code",
   "execution_count": 10,
   "metadata": {
    "collapsed": false
   },
   "outputs": [
    {
     "name": "stdout",
     "output_type": "stream",
     "text": [
      "Move 2 from 1 to 5 next.\n"
     ]
    },
    {
     "data": {
      "text/plain": [
       "['move_from', 'peg1', 'peg3']"
      ]
     },
     "execution_count": 10,
     "metadata": {},
     "output_type": "execute_result"
    }
   ],
   "source": [
    "def move_from(source, target):\n",
    "    print(\"Move %d from %s to %s next.\" %(source[-1], getname(*source), getname(*target)))\n",
    "\n",
    "def test_another_way_fun(fun, x, y):\n",
    "    fun(x, y)\n",
    "    lst = [getname(fun), variable_for_value(x), variable_for_value(y)]\n",
    "    return lst\n",
    "\n",
    "test_another_way_fun(move_from, peg1, peg3)"
   ]
  },
  {
   "cell_type": "code",
   "execution_count": 11,
   "metadata": {
    "collapsed": false
   },
   "outputs": [
    {
     "name": "stdout",
     "output_type": "stream",
     "text": [
      "Move 2 from 1 to 5 next.\n"
     ]
    },
    {
     "data": {
      "text/plain": [
       "['move_from', 'peg1', 'peg3']"
      ]
     },
     "execution_count": 11,
     "metadata": {},
     "output_type": "execute_result"
    }
   ],
   "source": [
    "# using just variable_for_value\n",
    "\n",
    "def move_from(source, target):\n",
    "    print(\"Move %d from %s to %s next.\" %(source[-1], getname(*source), getname(*target)))\n",
    "\n",
    "def test_another_way_fun(fun, x, y):\n",
    "    fun(x, y)\n",
    "    lst = [variable_for_value(fun), variable_for_value(x), variable_for_value(y)]\n",
    "    return lst\n",
    "\n",
    "test_another_way_fun(move_from, peg1, peg3)"
   ]
  },
  {
   "cell_type": "code",
   "execution_count": 12,
   "metadata": {
    "collapsed": false
   },
   "outputs": [
    {
     "name": "stdout",
     "output_type": "stream",
     "text": [
      "Move 2 from 1 to 5 next.\n"
     ]
    },
    {
     "data": {
      "text/plain": [
       "[['move_from', 'move_from', 'peg1', 'peg3'],\n",
       " ['move_from', 'move_from', 'peg1', 'peg3']]"
      ]
     },
     "execution_count": 12,
     "metadata": {},
     "output_type": "execute_result"
    }
   ],
   "source": [
    "'''Odd symptom to be aware of ... in earlier tests, somehow when re-running one of the cells above,\n",
    "   the last value returned as \"_\" instead of its true name.  Despite numerous edits to code in this cell\n",
    "   to attempt to replicate the symtpom, it does not seem to recur.  It is not known if this is a random glitch\n",
    "   or something that may occur again under the right coditions. '''\n",
    "\n",
    "def test_another_way_fun_multiTest(fun, x, y):\n",
    "    fun(x, y)\n",
    "    lst =  [getname(fun), variable_for_value(fun), variable_for_value(x), variable_for_value(y)]\n",
    "    lst2 = [getname(fun), variable_for_value(fun), variable_for_value(x), variable_for_value(y)]\n",
    "    lst3 = [lst, lst2]\n",
    "    return lst3\n",
    "\n",
    "test_another_way_fun_multiTest(move_from, peg1, peg3)"
   ]
  },
  {
   "cell_type": "markdown",
   "metadata": {},
   "source": [
    "<a id=\"__name__\" name=\"__name__\"></a>\n",
    "### __name__ of Methods"
   ]
  },
  {
   "cell_type": "code",
   "execution_count": 13,
   "metadata": {
    "collapsed": false
   },
   "outputs": [
    {
     "data": {
      "text/plain": [
       "'test_another_way_fun_multiTest'"
      ]
     },
     "execution_count": 13,
     "metadata": {},
     "output_type": "execute_result"
    }
   ],
   "source": [
    "# shortcut when you know that it is a method being passed in:\n",
    "\n",
    "def pass_in_someMethod(fun):\n",
    "    return fun.__name__\n",
    "\n",
    "pass_in_someMethod(test_another_way_fun_multiTest)"
   ]
  },
  {
   "cell_type": "code",
   "execution_count": 14,
   "metadata": {
    "collapsed": false
   },
   "outputs": [
    {
     "name": "stdout",
     "output_type": "stream",
     "text": [
      "<type 'exceptions.AttributeError'>\n",
      "'list' object has no attribute '__name__'\n"
     ]
    }
   ],
   "source": [
    "# can't do this with variables (.__name__ attribute is only on methods for built-ins of the language) ...\n",
    "try:\n",
    "    pass_in_someMethod(peg1)\n",
    "except Exception as ee:\n",
    "    print(type(ee))\n",
    "    print(ee)"
   ]
  },
  {
   "cell_type": "code",
   "execution_count": 63,
   "metadata": {
    "collapsed": false
   },
   "outputs": [],
   "source": [
    "# in action ... finding out what got passed in to functions:\n",
    "\n",
    "def variable_for_value2(value):\n",
    "    # a copy of value_for_variable to test something\n",
    "    for n,v in globals().items():\n",
    "        if v == value:\n",
    "            return n\n",
    "    return None\n",
    "\n",
    "def test_functions(fun, *args):\n",
    "    # this function assumes that *args is either:\n",
    "    #   * a single function or variable being passed in\n",
    "    #   * 2 variables that form the parameters\n",
    "    \n",
    "    print(\"Function call:\\n\" + (\"-\"*32))\n",
    "    # print(len(args))\n",
    "    \n",
    "    if len(args) == 1:\n",
    "        if str(type(*args)) == \"<type 'function'>\":\n",
    "            str_args = str(*args)\n",
    "        else:\n",
    "            str_args = variable_for_value(*args)\n",
    "    else:\n",
    "        str_args = variable_for_value(args[0]) + \", \" + variable_for_value(args[1])\n",
    "    \n",
    "    print(fun.__name__ + \"(\" + str_args + \")\" + \"\\n\" + (\"-\"*32))\n",
    "    print(\"Return Value: \")\n",
    "    print(fun(*args))\n",
    "    \n",
    "# For use in testing some functions:\n",
    "\n",
    "def justSayit(addTxt):\n",
    "    rtnVal= \"Say it \" + addTxt + \".\"\n",
    "    return rtnVal\n",
    "\n",
    "txt = \"with love\"\n",
    "\n",
    "funList = [pass_in_someMethod, move_from, variable_for_value, justSayit]\n",
    "          #  1 arg             2 args       1 arg             1 args \n",
    "\n",
    "funList2 = [pass_in_someMethod, variable_for_value2, variable_for_value ]    "
   ]
  },
  {
   "cell_type": "code",
   "execution_count": 64,
   "metadata": {
    "collapsed": false
   },
   "outputs": [
    {
     "name": "stdout",
     "output_type": "stream",
     "text": [
      "Ouput below is function call first, then return of function (both functions return names in this case):\n",
      "Function call:\n",
      "--------------------------------\n",
      "pass_in_someMethod(<function variable_for_value at 0x00000000042026D8>)\n",
      "--------------------------------\n",
      "Return Value: \n",
      "variable_for_value\n",
      "\n",
      "Function call:\n",
      "--------------------------------\n",
      "variable_for_value2(<function variable_for_value at 0x00000000042026D8>)\n",
      "--------------------------------\n",
      "Return Value: \n",
      "variable_for_value\n",
      "\n",
      "Function call:\n",
      "--------------------------------\n",
      "variable_for_value(<function variable_for_value at 0x00000000042026D8>)\n",
      "--------------------------------\n",
      "Return Value: \n",
      "variable_for_value\n",
      "\n"
     ]
    }
   ],
   "source": [
    "# funList2: is list of functions that can all return the name of a function passed into them\n",
    "#           each is given the same function to evaluate\n",
    "#           one unexpected symptom:  when the function gets its own name, if returns the fn argument that did it\n",
    "#           all other tests, the original function name passed in to thest function is returned\n",
    "\n",
    "print(\"Ouput below is function call first, then return of function (both functions return names in this case):\")\n",
    "for fn in funList2:\n",
    "    # in real world: loop like this would use same type and number of input for each fun\n",
    "    test_functions(fn, variable_for_value)\n",
    "    print(\"\")"
   ]
  },
  {
   "cell_type": "code",
   "execution_count": 66,
   "metadata": {
    "collapsed": false
   },
   "outputs": [
    {
     "name": "stdout",
     "output_type": "stream",
     "text": [
      "Ouput below is function call first, then return of function:\n",
      "################################\n",
      "Function call:\n",
      "--------------------------------\n",
      "pass_in_someMethod(<function test_another_way_fun_multiTest at 0x0000000003DAEF98>)\n",
      "--------------------------------\n",
      "Return Value: \n",
      "test_another_way_fun_multiTest\n",
      "\n",
      "Function call:\n",
      "--------------------------------\n",
      "move_from(peg1, peg3)\n",
      "--------------------------------\n",
      "Return Value: \n",
      "Move 2 from 1 to 5 next.\n",
      "None\n",
      "\n",
      "Function call:\n",
      "--------------------------------\n",
      "variable_for_value(peg2)\n",
      "--------------------------------\n",
      "Return Value: \n",
      "peg2\n",
      "\n",
      "Function call:\n",
      "--------------------------------\n",
      "justSayit(txt)\n",
      "--------------------------------\n",
      "Return Value: \n",
      "Say it with love.\n",
      "\n"
     ]
    }
   ],
   "source": [
    "# more tests using funList which has some different things to test with\n",
    "\n",
    "print(\"Ouput below is function call first, then return of function:\")\n",
    "print(\"#\"*32)\n",
    "\n",
    "test_functions(funList[0], test_another_way_fun_multiTest)\n",
    "print(\"\")\n",
    "\n",
    "test_functions(funList[1], peg1, peg3)\n",
    "print(\"\")\n",
    "\n",
    "test_functions(funList[2], peg2)\n",
    "print(\"\")\n",
    "\n",
    "test_functions(funList[3], txt)\n",
    "print(\"\")"
   ]
  },
  {
   "cell_type": "code",
   "execution_count": 69,
   "metadata": {
    "collapsed": true
   },
   "outputs": [],
   "source": [
    "# turning some of this code into an object\n",
    "\n",
    "class GetDeclaredName(object):\n",
    "    '''Get Name of Variable or Function Passed Into Object. Use inside methods to identify what got passed in via args.'''\n",
    "    def name_of_declaredEement(self, value):\n",
    "        ''' name_of_declaredElement -->\\n\\nreturns name of declared element (variable or function) passed into it.'''\n",
    "        # code modified from this Stack Overflow post:  http://stackoverflow.com/a/1538399/7525365\n",
    "        for n,v in globals().items():\n",
    "            if v == value:\n",
    "                return n\n",
    "        return None\n",
    "    \n",
    "    ## idea for future development:  add in test_function that can take any combination of arguments"
   ]
  },
  {
   "cell_type": "code",
   "execution_count": 73,
   "metadata": {
    "collapsed": false
   },
   "outputs": [
    {
     "data": {
      "text/plain": [
       "'variable_for_value'"
      ]
     },
     "execution_count": 73,
     "metadata": {},
     "output_type": "execute_result"
    }
   ],
   "source": [
    "gdn = GetDeclaredName()\n",
    "GetDeclaredName.name_of_declaredEement(gdn, variable_for_value)  # Python 2.7 and 3.6 compliant syntax"
   ]
  },
  {
   "cell_type": "code",
   "execution_count": 74,
   "metadata": {
    "collapsed": false
   },
   "outputs": [
    {
     "data": {
      "text/plain": [
       "'animal'"
      ]
     },
     "execution_count": 74,
     "metadata": {},
     "output_type": "execute_result"
    }
   ],
   "source": [
    "animal = \"dog\"\n",
    "GetDeclaredName.name_of_declaredEement(gdn, animal)  # Python 2.7 and 3.6 compliant syntax"
   ]
  },
  {
   "cell_type": "markdown",
   "metadata": {},
   "source": [
    "<a id=\"loop_4_values\" name=\"loop_4_values\"></a>\n",
    "### Looping over variables in globals() to get Values"
   ]
  },
  {
   "cell_type": "code",
   "execution_count": 67,
   "metadata": {
    "collapsed": false
   },
   "outputs": [
    {
     "name": "stdout",
     "output_type": "stream",
     "text": [
      "handling variable x\n",
      "bla: [1, 2]\n",
      "handling variable y\n",
      "bla: [3]\n",
      "handling variable z\n",
      "bla: [5, 4]\n"
     ]
    }
   ],
   "source": [
    "# getting the value of variables by their name on globals()\n",
    "\n",
    "x = peg1\n",
    "y = peg2\n",
    "z = peg3\n",
    "\n",
    "my_list = [\"x\", \"y\", \"z\"] # x, y, z have been previously defined\n",
    "\n",
    "for name in my_list:\n",
    "    print(\"handling variable %s\" %name)\n",
    "    bla = globals()[name]  # accessing the value at the index for name\n",
    "    print(\"bla: %s\" %bla)"
   ]
  },
  {
   "cell_type": "code",
   "execution_count": null,
   "metadata": {
    "collapsed": true
   },
   "outputs": [],
   "source": []
  }
 ],
 "metadata": {
  "kernelspec": {
   "display_name": "Python [conda env:PY27_Test]",
   "language": "python",
   "name": "conda-env-PY27_Test-py"
  },
  "language_info": {
   "codemirror_mode": {
    "name": "ipython",
    "version": 2
   },
   "file_extension": ".py",
   "mimetype": "text/x-python",
   "name": "python",
   "nbconvert_exporter": "python",
   "pygments_lexer": "ipython2",
   "version": "2.7.13"
  }
 },
 "nbformat": 4,
 "nbformat_minor": 2
}
