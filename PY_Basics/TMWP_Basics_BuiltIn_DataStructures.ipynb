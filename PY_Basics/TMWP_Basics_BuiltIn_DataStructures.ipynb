{
 "cells": [
  {
   "cell_type": "markdown",
   "metadata": {},
   "source": [
    "<div align=\"right\">Python 3.6 [conda env: PY36]</div>\n",
    "\n",
    "# Working With Basic Built In Python Data Structures\n",
    "This document gives quick demo of methods for lists, sets, etc.  Dictionaries is handled in a separate document.\n",
    "\n",
    "TOC:\n",
    "- [Working with Lists](#lst)\n",
    "- [Working with Sets](#sets)\n",
    "\n",
    "<a id=\"lst\" name=\"lst\"></a>\n",
    "## Working with Lists"
   ]
  },
  {
   "cell_type": "code",
   "execution_count": 31,
   "metadata": {
    "collapsed": false
   },
   "outputs": [
    {
     "name": "stdout",
     "output_type": "stream",
     "text": [
      "[]\n"
     ]
    }
   ],
   "source": [
    "tstLst = []  # build an empty list\n",
    "print(tstLst)"
   ]
  },
  {
   "cell_type": "code",
   "execution_count": 32,
   "metadata": {
    "collapsed": false
   },
   "outputs": [
    {
     "name": "stdout",
     "output_type": "stream",
     "text": [
      "[9, 'Dog']\n"
     ]
    }
   ],
   "source": [
    "tstLst.append(9)\n",
    "tstLst.append(\"Dog\")\n",
    "print(tstLst)"
   ]
  },
  {
   "cell_type": "code",
   "execution_count": 33,
   "metadata": {
    "collapsed": false
   },
   "outputs": [
    {
     "name": "stdout",
     "output_type": "stream",
     "text": [
      "[9, 'Dog', 'cat', 10, 18, 'animal', 'mouse', 'snow', '999', 998]\n"
     ]
    }
   ],
   "source": [
    "# adding lists together\n",
    "tstLst += [\"cat\", 10, 18, \"animal\", \"mouse\"]   \n",
    "tstLst = tstLst + [\"snow\", \"999\", 998]\n",
    "print(tstLst)"
   ]
  },
  {
   "cell_type": "code",
   "execution_count": 34,
   "metadata": {
    "collapsed": false
   },
   "outputs": [
    {
     "name": "stdout",
     "output_type": "stream",
     "text": [
      "tstLst after .remove('cat'): [9, 'Dog', 10, 18, 'animal', 'mouse', 'snow', '999', 998]\n",
      "Poping this value: 998\n",
      "Popping the 3rd value: 10\n",
      "[9, 'Dog', 18, 'animal', 'mouse', 'snow', '999']\n"
     ]
    }
   ],
   "source": [
    "tstLst.remove(\"cat\") # throws an error if not found\n",
    "print(\"tstLst after .remove('cat'): %s\" %tstLst)\n",
    "print(\"Poping this value: %s\" %tstLst.pop())  # pops the last value off the top\n",
    "print(\"Popping the 3rd value: %s\" %tstLst.pop(2))\n",
    "print(tstLst)"
   ]
  },
  {
   "cell_type": "code",
   "execution_count": 35,
   "metadata": {
    "collapsed": false
   },
   "outputs": [
    {
     "name": "stdout",
     "output_type": "stream",
     "text": [
      "['9', 'Dog', '18', 'animal', 'mouse', 'snow', '999']\n",
      "['18', '9', '999', 'Dog', 'animal', 'mouse', 'snow']\n"
     ]
    }
   ],
   "source": [
    "# to sort it, the list must all be the same type:\n",
    "tstLst = [str(i) for i in tstLst]\n",
    "print(tstLst)  # unsorted\n",
    "tstLst.sort()\n",
    "print(tstLst)  # note: .sort() mutates and returns None\n",
    "               # if this cell throws an error, re-run previous cells before re-running it"
   ]
  },
  {
   "cell_type": "code",
   "execution_count": 37,
   "metadata": {
    "collapsed": false
   },
   "outputs": [
    {
     "data": {
      "text/plain": [
       "['animal', 'dog', 'mouse', 'snow']"
      ]
     },
     "execution_count": 37,
     "metadata": {},
     "output_type": "execute_result"
    }
   ],
   "source": [
    "# sorted returns a value, this example combines with list comprehensions and string functions\n",
    "# previous cells concerted all values within the list to strings\n",
    "sorted([i.lower() for i in tstLst if i.isnumeric() == False])  # note: upper case sorts ahead of lower case"
   ]
  },
  {
   "cell_type": "code",
   "execution_count": 39,
   "metadata": {
    "collapsed": false
   },
   "outputs": [
    {
     "name": "stdout",
     "output_type": "stream",
     "text": [
      "['18', '13', '9', '999', 'Dog', 'animal', 'mouse', 'snow']\n"
     ]
    }
   ],
   "source": [
    "tstLst.insert(1, \"13\")  # inserts after index 1 i original list\n",
    "print(tstLst)"
   ]
  },
  {
   "cell_type": "code",
   "execution_count": 42,
   "metadata": {
    "collapsed": false
   },
   "outputs": [
    {
     "name": "stdout",
     "output_type": "stream",
     "text": [
      "['snow', 'mouse', 'animal', 'Dog', '999', '9', '13', '18']\n"
     ]
    }
   ],
   "source": [
    "tstLst.reverse() # mutates original and returns None\n",
    "print(tstLst)"
   ]
  },
  {
   "cell_type": "markdown",
   "metadata": {},
   "source": [
    "<a id=\"sets\" name=\"sets\"></a>\n",
    "## Working with Sets"
   ]
  },
  {
   "cell_type": "code",
   "execution_count": 3,
   "metadata": {
    "collapsed": false
   },
   "outputs": [
    {
     "name": "stdout",
     "output_type": "stream",
     "text": [
      "Type <class 'dict'>: \n",
      "Content: {}\n"
     ]
    }
   ],
   "source": [
    "var1 = {}\n",
    "def test_var(var):\n",
    "    print(\"Type %s: \\nContent: %s\" %(type(var), var))\n",
    "test_var(var1)"
   ]
  },
  {
   "cell_type": "code",
   "execution_count": 4,
   "metadata": {
    "collapsed": false
   },
   "outputs": [
    {
     "name": "stdout",
     "output_type": "stream",
     "text": [
      "Type <class 'set'>: \n",
      "Content: set()\n"
     ]
    }
   ],
   "source": [
    "testSet = set()  # build an empty set, note that var = {} builds an empty dictionary\n",
    "test_var(testSet)"
   ]
  },
  {
   "cell_type": "code",
   "execution_count": 5,
   "metadata": {
    "collapsed": false
   },
   "outputs": [
    {
     "ename": "KeyError",
     "evalue": "9",
     "output_type": "error",
     "traceback": [
      "\u001b[0;31m---------------------------------------------------------------------------\u001b[0m",
      "\u001b[0;31mKeyError\u001b[0m                                  Traceback (most recent call last)",
      "\u001b[0;32m<ipython-input-5-bad50fa3b78f>\u001b[0m in \u001b[0;36m<module>\u001b[0;34m()\u001b[0m\n\u001b[0;32m----> 1\u001b[0;31m \u001b[0mtestSet\u001b[0m\u001b[1;33m.\u001b[0m\u001b[0mremove\u001b[0m\u001b[1;33m(\u001b[0m\u001b[1;36m9\u001b[0m\u001b[1;33m)\u001b[0m\u001b[1;33m\u001b[0m\u001b[0m\n\u001b[0m",
      "\u001b[0;31mKeyError\u001b[0m: 9"
     ]
    }
   ],
   "source": [
    "testSet.remove(9)  # want an error thrown if you try to remove what does not exist?  Use this one"
   ]
  },
  {
   "cell_type": "code",
   "execution_count": 43,
   "metadata": {
    "collapsed": true
   },
   "outputs": [],
   "source": [
    "testSet.discard(9)  # does not exist?  Don't want an error?  Use this one"
   ]
  },
  {
   "cell_type": "code",
   "execution_count": 44,
   "metadata": {
    "collapsed": false
   },
   "outputs": [
    {
     "name": "stdout",
     "output_type": "stream",
     "text": [
      "{7, 8, 13, 14, 15}\n"
     ]
    }
   ],
   "source": [
    "testSet.add(8)\n",
    "testSet.add(13)\n",
    "testSet = testSet.union({7,14,15})\n",
    "print(testSet)"
   ]
  },
  {
   "cell_type": "code",
   "execution_count": 45,
   "metadata": {
    "collapsed": false
   },
   "outputs": [
    {
     "data": {
      "text/plain": [
       "{7, 8}"
      ]
     },
     "execution_count": 45,
     "metadata": {},
     "output_type": "execute_result"
    }
   ],
   "source": [
    "testSet.intersection({1,2,3,4,5,6,7,8,9})"
   ]
  },
  {
   "cell_type": "code",
   "execution_count": null,
   "metadata": {
    "collapsed": true
   },
   "outputs": [],
   "source": [
    "# for future development ...\n",
    "# demonstrate difference, symmetric_difference, etc ..."
   ]
  }
 ],
 "metadata": {
  "kernelspec": {
   "display_name": "Python [conda env:PY36]",
   "language": "python",
   "name": "conda-env-PY36-py"
  },
  "language_info": {
   "codemirror_mode": {
    "name": "ipython",
    "version": 3
   },
   "file_extension": ".py",
   "mimetype": "text/x-python",
   "name": "python",
   "nbconvert_exporter": "python",
   "pygments_lexer": "ipython3",
   "version": "3.6.0"
  }
 },
 "nbformat": 4,
 "nbformat_minor": 2
}
