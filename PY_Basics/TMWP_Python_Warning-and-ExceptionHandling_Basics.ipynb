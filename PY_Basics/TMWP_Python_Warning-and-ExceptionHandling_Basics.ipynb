{
 "cells": [
  {
   "cell_type": "markdown",
   "metadata": {},
   "source": [
    "<div align=\"right\">Python [conda env:PY27_Test]</div>\n",
    "\n",
    "# Python Warning and Exception Handling Basics"
   ]
  },
  {
   "cell_type": "markdown",
   "metadata": {},
   "source": [
    "## TOC\n",
    "- Working with Warnings:  Immediately Below\n",
    "- [Exception Handling: try-except-finally and raise](#except)\n",
    "\n",
    "## Working With Warnings\n",
    "This example shows integration of warnings with object code.  The following topics were useful in researching this code:\n",
    "- [Simple warn example on Stack Overflow](http://stackoverflow.com/questions/3891804/how-to-raise-a-warning-in-python-without-stopping-interrupting-the-program)\n",
    "- [Python warnings Documentation](https://docs.python.org/3/library/warnings.html#warnings.warn)"
   ]
  },
  {
   "cell_type": "code",
   "execution_count": 1,
   "metadata": {
    "collapsed": false
   },
   "outputs": [
    {
     "name": "stdout",
     "output_type": "stream",
     "text": [
      "If this were real code:\n",
      "Actions code takes because this is a big number would happen here.\n",
      "If this were real code, it would be doing more stuff here ...\n"
     ]
    },
    {
     "name": "stderr",
     "output_type": "stream",
     "text": [
      "C:\\ProgramFilesCoders\\Anaconda2\\envs\\PY27_Test\\lib\\site-packages\\ipykernel\\__main__.py:11: RuntimeWarning: \n",
      "1001 That's a really big number for this code.Code may take a while to run...\n"
     ]
    }
   ],
   "source": [
    "# Note how warnings in this sample are held until after code is run and then output at the end ...\n",
    "\n",
    "from warnings import warn\n",
    "from warnings import resetwarnings\n",
    "\n",
    "class myClass(object):        \n",
    "    def __init__(self, numberArg):\n",
    "\n",
    "        if numberArg > 1000:\n",
    "            self._tmpTxt = \"That's a really big number for this code.\" + \\\n",
    "                           \"Code may take a while to run...\"\n",
    "            warn(\"\\n%s %s\" %(numberArg, self._tmpTxt), stacklevel=0, category=RuntimeWarning)\n",
    "                                                       # possible categories (some of them):\n",
    "                                                       # UserWarning, Warning, RunTimeWarning, ResourceWarning\n",
    "                                                       # stacklevel was a experiment w/ no visible effect\n",
    "                                                       # in this instance\n",
    "            \n",
    "            resetwarnings()                            # tried putting this before and after the warn()\n",
    "            print(\"If this were real code:\")\n",
    "            print(\"Actions code takes because this is a big number would happen here.\")\n",
    "        \n",
    "        print(\"If this were real code, it would be doing more stuff here ...\")\n",
    "        \n",
    "mc1 = myClass(1001)"
   ]
  },
  {
   "cell_type": "code",
   "execution_count": 2,
   "metadata": {
    "collapsed": false
   },
   "outputs": [
    {
     "name": "stderr",
     "output_type": "stream",
     "text": [
      "C:\\ProgramFilesCoders\\Anaconda2\\envs\\PY27_Test\\lib\\site-packages\\ipykernel\\__main__.py:12: Warning: \n",
      "1001 That's a really big number for this code.Code may take a while to run...\n"
     ]
    },
    {
     "name": "stdout",
     "output_type": "stream",
     "text": [
      "If this were real code:\n",
      "Actions code takes because this is a big number would happen here.\n",
      "If this were real code, it would be doing more stuff here ...\n"
     ]
    }
   ],
   "source": [
    "# In this case, we want the warning to come before code execution.  This is easily fixed as shown below.\n",
    "# note: removed some extraneous useless stuff, the line to look for is sys.stderr.flush()\n",
    "\n",
    "from warnings import warn\n",
    "from warnings import resetwarnings\n",
    "\n",
    "class myClass(object):        \n",
    "    def __init__(self, numberArg):\n",
    "\n",
    "        if numberArg > 1000:\n",
    "            self._tmpTxt = \"That's a really big number for this code.\" + \\\n",
    "                           \"Code may take a while to run...\"\n",
    "            warn(\"\\n%s %s\" %(numberArg, self._tmpTxt), category=Warning)            \n",
    "            sys.stderr.flush()                         # put this after each warn() to make it output more immediately\n",
    "            print(\"If this were real code:\")\n",
    "            print(\"Actions code takes because this is a big number would happen here.\")\n",
    "        \n",
    "        print(\"If this were real code, it would be doing more stuff here ...\")\n",
    "        \n",
    "mc1 = myClass(1001)  "
   ]
  },
  {
   "cell_type": "code",
   "execution_count": 3,
   "metadata": {
    "collapsed": false
   },
   "outputs": [
    {
     "name": "stderr",
     "output_type": "stream",
     "text": [
      "C:\\ProgramFilesCoders\\Anaconda2\\envs\\PY27_Test\\lib\\site-packages\\ipykernel\\__main__.py:13: RuntimeWarning: \n",
      "1001 That's a really big number for this code.Code may take a while to run...\n",
      "C:\\ProgramFilesCoders\\Anaconda2\\envs\\PY27_Test\\lib\\site-packages\\ipykernel\\__main__.py:17: RuntimeWarning: \n",
      "1001 That's a really big number for this code.Code may take a while to run...\n",
      "C:\\ProgramFilesCoders\\Anaconda2\\envs\\PY27_Test\\lib\\site-packages\\ipykernel\\__main__.py:13: RuntimeWarning: \n",
      "20001 That's a really big number for this code.Code may take a while to run...\n",
      "C:\\ProgramFilesCoders\\Anaconda2\\envs\\PY27_Test\\lib\\site-packages\\ipykernel\\__main__.py:17: RuntimeWarning: \n",
      "20001 That's a really big number for this code.Code may take a while to run...\n",
      "C:\\ProgramFilesCoders\\Anaconda2\\envs\\PY27_Test\\lib\\site-packages\\ipykernel\\__main__.py:22: UserWarning: \n",
      "20001 That's a really really really big number for this code.Code may take a while to run...\n",
      "C:\\ProgramFilesCoders\\Anaconda2\\envs\\PY27_Test\\lib\\site-packages\\ipykernel\\__main__.py:25: UserWarning: \n",
      "20001 That's a really really really big number for this code.Code may take a while to run...\n"
     ]
    },
    {
     "name": "stdout",
     "output_type": "stream",
     "text": [
      "loop count 1:\n",
      "If this were real code:\n",
      "Actions taken because this is a big number would happen here.\n",
      "loop count 1:\n",
      "If this were real code, it would be doing more stuff here ...\n",
      "loop count 2:\n",
      "If this were real code:\n",
      "Actions taken because this is a big number would happen here.\n",
      "loop count 2:\n",
      "If this were real code, it would be doing more stuff here ...\n",
      "====================\n",
      "loop count 1:\n",
      "If this were real code:\n",
      "Actions taken because this is a big number would happen here.\n",
      "If this were real code:\n",
      "Actions taken because this is an even bigger number would happen here.\n",
      "loop count 1:\n",
      "If this were real code, it would be doing more stuff here ...\n",
      "loop count 2:\n",
      "If this were real code:\n",
      "Actions taken because this is a big number would happen here.\n",
      "If this were real code:\n",
      "Actions taken because this is an even bigger number would happen here.\n",
      "loop count 2:\n",
      "If this were real code, it would be doing more stuff here ...\n"
     ]
    }
   ],
   "source": [
    "# note the warning from this output example to compare it to the next cell ...\n",
    "# multiple identical warnings are issued and all are output\n",
    "\n",
    "from warnings import warn\n",
    "\n",
    "class myClass(object):        \n",
    "    def __init__(self, numberArg):\n",
    "        \n",
    "        for i in [1,2]:\n",
    "\n",
    "            if numberArg > 1000:\n",
    "                print(\"loop count %d:\" %(i))\n",
    "                self._tmpTxt = \"That's a really big number for this code.\" + \\\n",
    "                               \"Code may take a while to run...\"\n",
    "                warn(\"\\n%s %s\" %(numberArg, self._tmpTxt), stacklevel=1, category=RuntimeWarning)\n",
    "                sys.stderr.flush() # this provides warning ahead of the output instead of after it\n",
    "                print(\"If this were real code:\")\n",
    "                print(\"Actions taken because this is a big number would happen here.\")\n",
    "                warn(\"\\n%s %s\" %(numberArg, self._tmpTxt), stacklevel=1, category=RuntimeWarning)\n",
    "                sys.stderr.flush()\n",
    "                \n",
    "            if numberArg > 20000:\n",
    "                self._tmpTxt = \"That's a really really really big number for this code.\" + \\\n",
    "                               \"Code may take a while to run...\"                \n",
    "                warn(\"\\n%s %s\" %(numberArg, self._tmpTxt), stacklevel=1)\n",
    "                sys.stderr.flush() # this provides warning ahead of the output instead of after it\n",
    "\n",
    "                warn(\"\\n%s %s\" %(numberArg, self._tmpTxt), stacklevel=1)\n",
    "                sys.stderr.flush()\n",
    "                print(\"If this were real code:\")\n",
    "                print(\"Actions taken because this is an even bigger number would happen here.\")\n",
    "\n",
    "                \n",
    "            print(\"loop count %d:\" %(i))    \n",
    "            print(\"If this were real code, it would be doing more stuff here ...\")\n",
    "\n",
    "mc1 = myClass(1001)\n",
    "print(\"====================\")\n",
    "mc2 = myClass(20001)"
   ]
  },
  {
   "cell_type": "code",
   "execution_count": 5,
   "metadata": {
    "collapsed": false
   },
   "outputs": [
    {
     "name": "stderr",
     "output_type": "stream",
     "text": [
      "C:\\ProgramFilesCoders\\Anaconda2\\envs\\PY27_Test\\lib\\site-packages\\ipykernel\\__main__.py:18: RuntimeWarning: \n",
      "1001 That's a really big number for this code.Code may take a while to run...\n",
      "C:\\ProgramFilesCoders\\Anaconda2\\envs\\PY27_Test\\lib\\site-packages\\ipykernel\\__main__.py:18: RuntimeWarning: \n",
      "20001 That's a really big number for this code.Code may take a while to run...\n",
      "C:\\ProgramFilesCoders\\Anaconda2\\envs\\PY27_Test\\lib\\site-packages\\ipykernel\\__main__.py:30: UserWarning: \n",
      "20001 That's a really really really big number for this code.Code may take a while to run...\n"
     ]
    },
    {
     "name": "stdout",
     "output_type": "stream",
     "text": [
      "loop count 1:\n",
      "If this were real code:\n",
      "Actions taken because this is a big number would happen here.\n",
      "loop count 1:\n",
      "If this were real code, it would be doing more stuff here ...\n",
      "loop count 2:\n",
      "If this were real code:\n",
      "Actions taken because this is a big number would happen here.\n",
      "loop count 2:\n",
      "If this were real code, it would be doing more stuff here ...\n",
      "====================\n",
      "loop count 1:\n",
      "If this were real code:\n",
      "Actions taken because this is a big number would happen here.\n",
      "If this were real code:\n",
      "Actions taken because this is an even bigger number would happen here.\n",
      "loop count 1:\n",
      "If this were real code, it would be doing more stuff here ...\n",
      "loop count 2:\n",
      "If this were real code:\n",
      "Actions taken because this is a big number would happen here.\n",
      "If this were real code:\n",
      "Actions taken because this is an even bigger number would happen here.\n",
      "loop count 2:\n",
      "If this were real code, it would be doing more stuff here ...\n"
     ]
    }
   ],
   "source": [
    "# code provided as an experiment ... may be updated later with a more useful example ...\n",
    "# in theory, filterwarnings should help shake out repeat warnings if used with right arguments\n",
    "#   * note how our loop causes the content to print twice, and in theory, the 3 instances of warnings\n",
    "#   * occur twice each for 6 possible output warnings\n",
    "#   * each new occurance (3 of them) still outputs, but when the same ones come up again, they don't\n",
    "#   * we get 3 instead of 6 warnings ... this should be the effect of filterwarning(\"once\", ...)\n",
    "#     in this instance\n",
    "\n",
    "# help on this: https://docs.python.org/3/library/warnings.html#warning-filter\n",
    "#               in this example:\n",
    "#                  \"once\" arg = print only the first occurrence of matching warnings, regardless of location\n",
    "\n",
    "from warnings import warn\n",
    "from warnings import resetwarnings\n",
    "from warnings import filterwarnings\n",
    "\n",
    "class myClass(object):        \n",
    "    def __init__(self, numberArg):\n",
    "        for i in [1,2]:            \n",
    "            if numberArg > 1000:\n",
    "                print(\"loop count %d:\" %(i))\n",
    "                self._tmpTxt = \"That's a really big number for this code.\" + \\\n",
    "                               \"Code may take a while to run...\"\n",
    "                filterwarnings(\"once\")    \n",
    "                warn(\"\\n%s %s\" %(numberArg, self._tmpTxt), stacklevel=1, category=RuntimeWarning)\n",
    "                sys.stderr.flush() # this provides warning ahead of the output instead of after it\n",
    "                # resetwarnings()  # no noticeable effect on the code\n",
    "                print(\"If this were real code:\")\n",
    "                print(\"Actions taken because this is a big number would happen here.\")\n",
    "                warn(\"\\n%s %s\" %(numberArg, self._tmpTxt), stacklevel=1, category=RuntimeWarning)\n",
    "                sys.stderr.flush()\n",
    "                # resetwarnings()  # no noticeable effect on the code\n",
    "                \n",
    "            if numberArg > 20000:\n",
    "                self._tmpTxt = \"That's a really really really big number for this code.\" + \\\n",
    "                               \"Code may take a while to run...\"\n",
    "                filterwarnings(\"once\")    \n",
    "                warn(\"\\n%s %s\" %(numberArg, self._tmpTxt), stacklevel=1)\n",
    "                sys.stderr.flush() # this provides warning ahead of the output instead of after it\n",
    "                # resetwarnings()  # no noticeable effect on the code\n",
    "\n",
    "                warn(\"\\n%s %s\" %(numberArg, self._tmpTxt), stacklevel=1)\n",
    "                sys.stderr.flush()\n",
    "                # resetwarnings()  # no noticeable effect on the code\n",
    "                print(\"If this were real code:\")\n",
    "                print(\"Actions taken because this is an even bigger number would happen here.\")\n",
    "\n",
    "            print(\"loop count %d:\" %(i))    \n",
    "            print(\"If this were real code, it would be doing more stuff here ...\")\n",
    "\n",
    "mc1 = myClass(1001)\n",
    "print(\"====================\")\n",
    "mc2 = myClass(20001)"
   ]
  },
  {
   "cell_type": "code",
   "execution_count": 7,
   "metadata": {
    "collapsed": false
   },
   "outputs": [
    {
     "name": "stderr",
     "output_type": "stream",
     "text": [
      "C:\\ProgramFilesCoders\\Anaconda2\\envs\\PY27_Test\\lib\\site-packages\\ipykernel\\__main__.py:16: RuntimeWarning: \n",
      "1001 That's a really big number for this code.Code may take a while to run...\n"
     ]
    },
    {
     "name": "stdout",
     "output_type": "stream",
     "text": [
      "loop count 1:\n",
      "If this were real code:"
     ]
    },
    {
     "name": "stderr",
     "output_type": "stream",
     "text": [
      "C:\\ProgramFilesCoders\\Anaconda2\\envs\\PY27_Test\\lib\\site-packages\\ipykernel\\__main__.py:16: RuntimeWarning: \n",
      "20001 That's a really big number for this code.Code may take a while to run...\n",
      "C:\\ProgramFilesCoders\\Anaconda2\\envs\\PY27_Test\\lib\\site-packages\\ipykernel\\__main__.py:27: UserWarning: \n",
      "20001 That's a really really really big number for this code.Code may take a while to run...\n"
     ]
    },
    {
     "name": "stdout",
     "output_type": "stream",
     "text": [
      "\n",
      "Actions taken because this is a big number would happen here.\n",
      "loop count 1:\n",
      "If this were real code, it would be doing more stuff here ...\n",
      "loop count 2:\n",
      "If this were real code:\n",
      "Actions taken because this is a big number would happen here.\n",
      "loop count 2:\n",
      "If this were real code, it would be doing more stuff here ...\n",
      "====================\n",
      "loop count 1:\n",
      "If this were real code:\n",
      "Actions taken because this is a big number would happen here.\n",
      "If this were real code:\n",
      "Actions taken because this is an even bigger number would happen here.\n",
      "loop count 1:\n",
      "If this were real code, it would be doing more stuff here ...\n",
      "loop count 2:\n",
      "If this were real code:\n",
      "Actions taken because this is a big number would happen here.\n",
      "If this were real code:\n",
      "Actions taken because this is an even bigger number would happen here.\n",
      "loop count 2:\n",
      "If this were real code, it would be doing more stuff here ...\n"
     ]
    }
   ],
   "source": [
    "# Notice the impact of putting the filter statement in only once at the start of the code:\n",
    "# intermittent symptom:  repeat executions:\n",
    "#                        sometimes produces output shown in this notebook\n",
    "#                        sometimes produces identical output to the cell above\n",
    "\n",
    "from warnings import warn\n",
    "from warnings import resetwarnings\n",
    "from warnings import filterwarnings\n",
    "\n",
    "class myClass(object):        \n",
    "    def __init__(self, numberArg):\n",
    "        filterwarnings(\"once\")    # note: message argument is regEx to filter by\n",
    "                                  # in this case, we want it to filter all warnings\n",
    "        \n",
    "        for i in [1,2]:            \n",
    "            if numberArg > 1000:\n",
    "                print(\"loop count %d:\" %(i))\n",
    "                self._tmpTxt = \"That's a really big number for this code.\" + \\\n",
    "                               \"Code may take a while to run...\"\n",
    "                warn(\"\\n%s %s\" %(numberArg, self._tmpTxt), stacklevel=1, category=RuntimeWarning)\n",
    "                sys.stderr.flush() # this provides warning ahead of the output instead of after it\n",
    "                # resetwarnings()  # no noticeable effect on the code\n",
    "                print(\"If this were real code:\")\n",
    "                print(\"Actions taken because this is a big number would happen here.\")\n",
    "                warn(\"\\n%s %s\" %(numberArg, self._tmpTxt), stacklevel=1, category=RuntimeWarning)\n",
    "                sys.stderr.flush()\n",
    "                # resetwarnings()  # no noticeable effect on the code\n",
    "                \n",
    "            if numberArg > 20000:\n",
    "                self._tmpTxt = \"That's a really really really big number for this code.\" + \\\n",
    "                               \"Code may take a while to run...\"\n",
    "                warn(\"\\n%s %s\" %(numberArg, self._tmpTxt), stacklevel=1)\n",
    "                sys.stderr.flush() # this provides warning ahead of the output instead of after it\n",
    "                # resetwarnings()  # no noticeable effect on the code\n",
    "\n",
    "                warn(\"\\n%s %s\" %(numberArg, self._tmpTxt), stacklevel=1)\n",
    "                sys.stderr.flush()\n",
    "                # resetwarnings()  # no noticeable effect on the code\n",
    "                print(\"If this were real code:\")\n",
    "                print(\"Actions taken because this is an even bigger number would happen here.\")\n",
    "\n",
    "            print(\"loop count %d:\" %(i))    \n",
    "            print(\"If this were real code, it would be doing more stuff here ...\")\n",
    "\n",
    "mc1 = myClass(1001)\n",
    "print(\"====================\")\n",
    "mc2 = myClass(20001)"
   ]
  },
  {
   "cell_type": "markdown",
   "metadata": {},
   "source": [
    "Final note:  in earlier tests, we tried storing the return value from `warn()` but the return value is just None."
   ]
  },
  {
   "cell_type": "markdown",
   "metadata": {},
   "source": [
    "<a id=\"except\" name=\"except\"></a>\n",
    "## Exception Handling\n",
    "This section tests out different try-except-finally blocks followed by tests of their functionality to illustrate different things."
   ]
  },
  {
   "cell_type": "code",
   "execution_count": 19,
   "metadata": {
    "collapsed": false
   },
   "outputs": [],
   "source": [
    "# this code is designed to illustrate the try-except-finally concept and general exception handling.\n",
    "# it is not written for the real world:\n",
    "\n",
    "class InvaidNegNumberError(Exception):\n",
    "    # create own error type\n",
    "    # source: https://www.codementor.io/sheena/how-to-write-python-custom-exceptions-du107ufv9\n",
    "    def __init__(self,*args,**kwargs):\n",
    "        Exception.__init__(self,*args,**kwargs)\n",
    "\n",
    "def ex_4(a,b):\n",
    "    try:\n",
    "        if a < 0 or b < 0:\n",
    "            rtnVal = abs(float(a)/b)    # moved here to head off error flagged in testing section\n",
    "            raise InvaidNegNumberError(\"You entered a Negative number. \" + \n",
    "                                       \"This function or code is desinged for positive inputs.\")\n",
    "                                        # ths isn't realy an error, just assuming this function will\n",
    "                                        # always return positive values to try something\n",
    "        else:\n",
    "            rtnVal = float(a)/b         # note: if we return here, a return in finally would \n",
    "                                        #       superced it somehow (tested this)\n",
    "\n",
    "    except TypeError as te:\n",
    "        print(\"You appear to have entered the wrong type of data.  Please input 2 numbers only\")\n",
    "        rtnVal = None\n",
    "    except ZeroDivisionError as ze:\n",
    "        print(ze)\n",
    "        print(\"Please Enter b greater than 0 only: ex_4(a,b)\")\n",
    "        rtnVal = None\n",
    "    except InvaidNegNumberError as ine:\n",
    "        print(ine)\n",
    "        print(\"Your numbers will be treated as positive and an answer will be returned.\")\n",
    "        # rtnVal assignment moved to try to debug an error\n",
    "    except Exception as e:\n",
    "        # catch all ... errors that I can't predict yet:\n",
    "        print e\n",
    "        print \"Please revisit your inputs and try again.\"\n",
    "        rtnVal = None\n",
    "    else:\n",
    "        print(\"You follow instructions well.  Good job.  Here is your answer:\")\n",
    "    finally:\n",
    "        # executes regardless of whether there is an error or not\n",
    "        print(\"Finally!  The end of the try-except block ...\")\n",
    "        \n",
    "    print(\"This line is regular code in the program that executes after the try-except test is complete.\")\n",
    "    return rtnVal"
   ]
  },
  {
   "cell_type": "markdown",
   "metadata": {},
   "source": [
    "#### Tests Of Different Asects of the Try-Except Block"
   ]
  },
  {
   "cell_type": "code",
   "execution_count": 13,
   "metadata": {
    "collapsed": false
   },
   "outputs": [
    {
     "name": "stdout",
     "output_type": "stream",
     "text": [
      "You follow instructions well.  Good job.  Here is your answer:\n",
      "Finally!  The end of the try-except block ...\n",
      "This line is regular code in the program that executes after the try-except test is complete.\n"
     ]
    },
    {
     "data": {
      "text/plain": [
       "0.8333333333333334"
      ]
     },
     "execution_count": 13,
     "metadata": {},
     "output_type": "execute_result"
    }
   ],
   "source": [
    "ex_4(5,6)  # no error to catch ... falls to else, then finally"
   ]
  },
  {
   "cell_type": "code",
   "execution_count": 14,
   "metadata": {
    "collapsed": false
   },
   "outputs": [
    {
     "name": "stdout",
     "output_type": "stream",
     "text": [
      "You appear to have entered the wrong type of data.  Please input 2 numbers only\n",
      "Finally!  The end of the try-except block ...\n",
      "This line is regular code in the program that executes after the try-except test is complete.\n"
     ]
    }
   ],
   "source": [
    "ex_4(9, 'x')  # string = TypeError"
   ]
  },
  {
   "cell_type": "code",
   "execution_count": 15,
   "metadata": {
    "collapsed": false
   },
   "outputs": [
    {
     "name": "stdout",
     "output_type": "stream",
     "text": [
      "float division by zero\n",
      "Please Enter b greater than 0 only: ex_4(a,b)\n",
      "Finally!  The end of the try-except block ...\n",
      "This line is regular code in the program that executes after the try-except test is complete.\n"
     ]
    }
   ],
   "source": [
    "ex_4(9,0)   # ZeroDivisionError"
   ]
  },
  {
   "cell_type": "code",
   "execution_count": 18,
   "metadata": {
    "collapsed": false
   },
   "outputs": [
    {
     "name": "stdout",
     "output_type": "stream",
     "text": [
      "You entered a Negative number. This function or code is desinged for positive inputs.\n",
      "Your numbers will be treated as positive and an answer will be returned.\n",
      "Finally!  The end of the try-except block ...\n",
      "This line is regular code in the program that executes after the try-except test is complete.\n",
      "0.11\n",
      "You entered a Negative number. This function or code is desinged for positive inputs.\n",
      "Your numbers will be treated as positive and an answer will be returned.\n",
      "Finally!  The end of the try-except block ...\n",
      "This line is regular code in the program that executes after the try-except test is complete.\n",
      "0.11\n",
      "You entered a Negative number. This function or code is desinged for positive inputs.\n",
      "Your numbers will be treated as positive and an answer will be returned.\n",
      "Finally!  The end of the try-except block ...\n",
      "This line is regular code in the program that executes after the try-except test is complete.\n",
      "0.11\n"
     ]
    }
   ],
   "source": [
    "print(round(ex_4(-5, 45),2))   # code raises this exception and then catches it\n",
    "print(round(ex_4(-5, -45),2))  # exception is custom class:  InvaidNegNumberError\n",
    "print(round(ex_4(5, -45),2))"
   ]
  },
  {
   "cell_type": "code",
   "execution_count": 17,
   "metadata": {
    "collapsed": false
   },
   "outputs": [
    {
     "name": "stdout",
     "output_type": "stream",
     "text": [
      "ex_4() takes exactly 2 arguments (1 given)\n",
      "Please enter 2 arguments of form:  ex_4(a, b)\n"
     ]
    }
   ],
   "source": [
    "# ex_4(0)\n",
    "# ex_4(1/5)\n",
    "# what this illustrates:\n",
    "#    error occurs during function call so code is unable to catch it\n",
    "#    would need try/except block around ex_4() to catch this error situation\n",
    "#    we could do something like this ...\n",
    "#    but as this is a programmer's error, this is really just for illustration\n",
    "#    this type of error should be corrected in the code, not w/ try/except\n",
    "\n",
    "try:\n",
    "    ex_4(0/4)\n",
    "except TypeError as te:\n",
    "    print(te)\n",
    "    print(\"Please enter 2 arguments of form:  ex_4(a, b)\")"
   ]
  },
  {
   "cell_type": "code",
   "execution_count": 23,
   "metadata": {
    "collapsed": true
   },
   "outputs": [],
   "source": [
    "# getting a better handle on finally ... note this StackOverflow Post:\n",
    "#   http://stackoverflow.com/questions/547791/why-use-finally-in-c\n",
    "# although written for C, the explanation probably cuts across all languages using try-catch-finally or try-except-finally\n",
    "\n",
    "# here's a test to show it in action\n",
    "\n",
    "def myTestFun(someNum):\n",
    "    try:\n",
    "        x = 1000 / someNum\n",
    "    except Exception as e:\n",
    "        print(type(e))\n",
    "        print(e)\n",
    "        return someNum\n",
    "    finally:\n",
    "        print(\"This message needs to always display (it is presented under 'finally')\")\n",
    "    \n",
    "    print(\"This message lives in the code but not under Finally.\")\n",
    "    return x"
   ]
  },
  {
   "cell_type": "code",
   "execution_count": 24,
   "metadata": {
    "collapsed": false
   },
   "outputs": [
    {
     "name": "stdout",
     "output_type": "stream",
     "text": [
      "This message needs to always display (it is presented under 'finally')\n",
      "This message lives in the code but not under Finally.\n"
     ]
    },
    {
     "data": {
      "text/plain": [
       "100"
      ]
     },
     "execution_count": 24,
     "metadata": {},
     "output_type": "execute_result"
    }
   ],
   "source": [
    "myTestFun(10)"
   ]
  },
  {
   "cell_type": "code",
   "execution_count": 25,
   "metadata": {
    "collapsed": false
   },
   "outputs": [
    {
     "name": "stdout",
     "output_type": "stream",
     "text": [
      "<type 'exceptions.ZeroDivisionError'>\n",
      "integer division or modulo by zero\n",
      "This message needs to always display (it is presented under 'finally')\n"
     ]
    },
    {
     "data": {
      "text/plain": [
       "0"
      ]
     },
     "execution_count": 25,
     "metadata": {},
     "output_type": "execute_result"
    }
   ],
   "source": [
    "myTestFun(0)"
   ]
  },
  {
   "cell_type": "markdown",
   "metadata": {},
   "source": [
    "Note: if try-except block throws an exception from within its processing, or returns from a function, then code after the try-except block never executes.  Finally always executes."
   ]
  },
  {
   "cell_type": "code",
   "execution_count": 26,
   "metadata": {
    "collapsed": true
   },
   "outputs": [],
   "source": [
    "# This example may be useful when tinkering with files:\n",
    "\n",
    "def openfile(filename, mode):\n",
    "    try:\n",
    "        f = open(filename, mode)\n",
    "        # do stuff\n",
    "        f.close()\n",
    "        \n",
    "    except ValueError:\n",
    "        print 'Likely to be wrong mode in this case.'\n",
    "    except TypeError:\n",
    "        print 'Parameter entered is wrong type: string for int, int for string, etc.'\n",
    "    except IOError:\n",
    "        print 'File doesn\\'t exist in this case.'\n",
    "    except Exception as e:\n",
    "        print 'Some other error.'\n",
    "        print 'System says: ', e\n",
    "    else:\n",
    "        # if no exceptions ...\n",
    "        print 'No error'\n",
    "    finally:\n",
    "        # do last no matter what happens above (with or without errors does not matter):\n",
    "        print 'Do this regardless of errors being encountered or not ...'"
   ]
  },
  {
   "cell_type": "code",
   "execution_count": 33,
   "metadata": {
    "collapsed": false
   },
   "outputs": [
    {
     "name": "stdout",
     "output_type": "stream",
     "text": [
      "openfile('nonexistent.txt', 'r')\n",
      "--------------------------------------------------\n",
      "File doesn't exist in this case.\n",
      "Do this regardless of errors being encountered or not ...\n",
      "\n",
      "\n",
      "openfile('data\\existent.txt', 'no_such_mode')\n",
      "--------------------------------------------------\n",
      "Likely to be wrong mode in this case.\n",
      "Do this regardless of errors being encountered or not ...\n",
      "\n",
      "\n",
      "openfile('data\\existent.txt', '123')\n",
      "--------------------------------------------------\n",
      "Parameter entered is wrong type: string for int, int for string, etc.\n",
      "Do this regardless of errors being encountered or not ...\n",
      "\n",
      "\n",
      "openfile('data\\existent.txt', 'r')\n",
      "--------------------------------------------------\n",
      "No error\n",
      "Do this regardless of errors being encountered or not ...\n",
      "\n",
      "\n"
     ]
    }
   ],
   "source": [
    "def testOpenFileTryExceptFun(fileNameString, mode):\n",
    "    print(\"openfile('%s', '%s')\" %(fileNameString, mode))\n",
    "    print('-'*50)\n",
    "    openfile(fileNameString, mode)\n",
    "    print('\\n')\n",
    "\n",
    "testOpenFileTryExceptFun('nonexistent.txt', 'r')\n",
    "testOpenFileTryExceptFun('data\\existent.txt', 'no_such_mode')\n",
    "testOpenFileTryExceptFun('data\\existent.txt', 123)\n",
    "testOpenFileTryExceptFun('data\\existent.txt', 'r')"
   ]
  },
  {
   "cell_type": "code",
   "execution_count": null,
   "metadata": {
    "collapsed": true
   },
   "outputs": [],
   "source": []
  }
 ],
 "metadata": {
  "anaconda-cloud": {},
  "kernelspec": {
   "display_name": "Python [conda env:PY27_Test]",
   "language": "python",
   "name": "conda-env-PY27_Test-py"
  },
  "language_info": {
   "codemirror_mode": {
    "name": "ipython",
    "version": 2
   },
   "file_extension": ".py",
   "mimetype": "text/x-python",
   "name": "python",
   "nbconvert_exporter": "python",
   "pygments_lexer": "ipython2",
   "version": "2.7.13"
  }
 },
 "nbformat": 4,
 "nbformat_minor": 2
}
