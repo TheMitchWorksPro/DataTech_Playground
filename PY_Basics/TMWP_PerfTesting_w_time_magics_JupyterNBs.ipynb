{
 "cells": [
  {
   "cell_type": "markdown",
   "metadata": {},
   "source": [
    "<div align=\"right\">Python 3.6 [conda env: PY36]</div>"
   ]
  },
  {
   "cell_type": "markdown",
   "metadata": {},
   "source": [
    "# Performance Testing in iPython/Jupyter NBs\n",
    "The `timeit()` command appears to have strict limitations in how you can use it within a Jupyter Notebook.  For it to work most effectively:\n",
    "- organize the code to test in a function that returns a value\n",
    "- ensure it is not printing to screen or the code will print 1000 times (or however many times `timeit()` is configured to iterate)\n",
    "- make sure that `timeit()` is the only line in the test cell as shown in these examples\n",
    "- for more advanced use of `timeit()` and open more options for how to use it and related functions, check the [documentation](https://docs.python.org/2/library/timeit.html).  This library was creatd in Python 2 and is compatible (and may have updated in [Python 3](https://docs.python.org/3/library/timeit.html).\n",
    "\n",
    "To get around this limitation, examples are also provided using `%timeit()` and `%time()`\n",
    "\n",
    "To understand the abbreviations in timeit, %timeit, and %time performance metrics, see [this wikipedia post](https://en.wikipedia.org/wiki/Metric_prefix).\n",
    "For additional research on performance testing and code time metrics: [timing and profiling](http://pynash.org/2013/03/06/timing-and-profiling/)"
   ]
  },
  {
   "cell_type": "markdown",
   "metadata": {},
   "source": [
    "## Simple Example: timeit(), %time, %timeit, %%timeit.\n",
    "The function here is something stupid and simple just to show how to use these capabilities ..."
   ]
  },
  {
   "cell_type": "code",
   "execution_count": 3,
   "metadata": {
    "collapsed": false
   },
   "outputs": [
    {
     "data": {
      "text/plain": [
       "196627050475552913618075908526912116283103450944214766927315415537966391196809"
      ]
     },
     "execution_count": 3,
     "metadata": {},
     "output_type": "execute_result"
    }
   ],
   "source": [
    "def myFun(x):\n",
    "    return (x**x)**x\n",
    "\n",
    "myFun(9)"
   ]
  },
  {
   "cell_type": "markdown",
   "metadata": {},
   "source": [
    "For this example, `timeit()` needs to be the only function in the cell, and then your code is called in as a valid function call as in this demo:"
   ]
  },
  {
   "cell_type": "code",
   "execution_count": 12,
   "metadata": {
    "collapsed": false
   },
   "outputs": [
    {
     "name": "stdout",
     "output_type": "stream",
     "text": [
      "100000 loops, best of 3: 2.96 µs per loop\n"
     ]
    }
   ],
   "source": [
    "timeit(myFun(12))"
   ]
  },
  {
   "cell_type": "markdown",
   "metadata": {},
   "source": [
    "Should this malfunction and/or throw errors, try restarting the kernel and re-running all pre-requisite cells and then this syntax should work."
   ]
  },
  {
   "cell_type": "code",
   "execution_count": 14,
   "metadata": {
    "collapsed": false
   },
   "outputs": [
    {
     "name": "stdout",
     "output_type": "stream",
     "text": [
      "The slowest run took 38.09 times longer than the fastest. This could mean that an intermediate result is being cached.\n",
      "10000000 loops, best of 3: 38.5 ns per loop\n"
     ]
    },
    {
     "data": {
      "text/plain": [
       "252405858452706802146088003199234910139421423537379794530169220964425944728647963794263559358200737721321118953128592183095980912780081856373786437365006336"
      ]
     },
     "execution_count": 14,
     "metadata": {},
     "output_type": "execute_result"
    }
   ],
   "source": [
    "%timeit 10*1000000\n",
    "# this syntax allows comments ... note that if you leave off the numeric argument, %timeit seems to do nothing\n",
    "myFun(12)"
   ]
  },
  {
   "cell_type": "markdown",
   "metadata": {},
   "source": [
    "If you get the 'slowest run took ...' message, try re-running the code cell to over-write the caching"
   ]
  },
  {
   "cell_type": "code",
   "execution_count": 15,
   "metadata": {
    "collapsed": false
   },
   "outputs": [
    {
     "name": "stdout",
     "output_type": "stream",
     "text": [
      "10000000 loops, best of 3: 39 ns per loop\n"
     ]
    },
    {
     "data": {
      "text/plain": [
       "252405858452706802146088003199234910139421423537379794530169220964425944728647963794263559358200737721321118953128592183095980912780081856373786437365006336"
      ]
     },
     "execution_count": 15,
     "metadata": {},
     "output_type": "execute_result"
    }
   ],
   "source": [
    "%timeit 10*1000000\n",
    "# this syntax allows comments ... note that if you leave off the numeric argument, %timeit seems to do nothing\n",
    "myFun(12)"
   ]
  },
  {
   "cell_type": "code",
   "execution_count": 9,
   "metadata": {
    "collapsed": false
   },
   "outputs": [
    {
     "name": "stdout",
     "output_type": "stream",
     "text": [
      "100000 loops, best of 3: 2.96 µs per loop\n"
     ]
    }
   ],
   "source": [
    "%%timeit\n",
    "# this syntax allows comments ... if defaults the looping argument\n",
    "myFun(12)"
   ]
  },
  {
   "cell_type": "code",
   "execution_count": 16,
   "metadata": {
    "collapsed": false
   },
   "outputs": [
    {
     "name": "stdout",
     "output_type": "stream",
     "text": [
      "Wall time: 0 ns\n"
     ]
    },
    {
     "data": {
      "text/plain": [
       "252405858452706802146088003199234910139421423537379794530169220964425944728647963794263559358200737721321118953128592183095980912780081856373786437365006336"
      ]
     },
     "execution_count": 16,
     "metadata": {},
     "output_type": "execute_result"
    }
   ],
   "source": [
    "%time\n",
    "# generates \"wall time\" instead of CPU time\n",
    "myFun(12)"
   ]
  },
  {
   "cell_type": "code",
   "execution_count": 24,
   "metadata": {
    "collapsed": false
   },
   "outputs": [
    {
     "ename": "SyntaxError",
     "evalue": "invalid syntax (<unknown>, line 1)",
     "output_type": "error",
     "traceback": [
      "\u001b[0;36m  File \u001b[0;32m\"<unknown>\"\u001b[0;36m, line \u001b[0;32m1\u001b[0m\n\u001b[0;31m    {for i in range(10*1000000): x=1}\u001b[0m\n\u001b[0m       ^\u001b[0m\n\u001b[0;31mSyntaxError\u001b[0m\u001b[0;31m:\u001b[0m invalid syntax\n"
     ]
    }
   ],
   "source": [
    "# getting more detail using %time on a script or code\n",
    "%time {for i in range(10*1000000): x=1}"
   ]
  },
  {
   "cell_type": "code",
   "execution_count": 28,
   "metadata": {
    "collapsed": false
   },
   "outputs": [
    {
     "name": "stdout",
     "output_type": "stream",
     "text": [
      "1 loop, best of 3: 0 ns per loop\n"
     ]
    },
    {
     "data": {
      "text/plain": [
       "252405858452706802146088003199234910139421423537379794530169220964425944728647963794263559358200737721321118953128592183095980912780081856373786437365006336"
      ]
     },
     "execution_count": 28,
     "metadata": {},
     "output_type": "execute_result"
    }
   ],
   "source": [
    "%timeit -n 1 10*1000000\n",
    "# does it just once which may be inaccurate due to random events\n",
    "myFun(12)"
   ]
  },
  {
   "cell_type": "markdown",
   "metadata": {},
   "source": [
    "Unlike `timeit()`, the other options provided here (using iPython cell magics) can test any snippet of code within a python cell."
   ]
  },
  {
   "cell_type": "code",
   "execution_count": null,
   "metadata": {
    "collapsed": true
   },
   "outputs": [],
   "source": []
  },
  {
   "cell_type": "markdown",
   "metadata": {
    "collapsed": true
   },
   "source": [
    "## Symmetric Difference Example\n",
    "This code from hackerrank shows increasingly smaller snippets of code to find the symmentric difference between two sets.  Symmetric difference of sets A and B is the set of values from both sets that do not intersect (i.e., values in A not found in B plus the values in B not found in A).  This code was written to accept 4 lines of input as per a www.hackerrank.com specification.  The problem itself is also from www.hackerrank.com.  \n",
    "\n",
    "Performance tests are attempted but are hard to know what is really going on since variance in the time to input the values could also account for speed differences just as easily as the possibility of coding efficiencies."
   ]
  },
  {
   "cell_type": "code",
   "execution_count": 1,
   "metadata": {
    "collapsed": true
   },
   "outputs": [],
   "source": [
    "def find_symmetricDiff_inputSetsAB_v1():\n",
    "    len_setA = int(input())\n",
    "    set_A = set([int(i) for i in input().split()])\n",
    "    len_setB = int(input())\n",
    "    set_B = set([int(i) for i in input().split()])\n",
    "    [print(val) for val in sorted(list(set_A.difference(set_B).union(set_B.difference(set_A))))]\n",
    "\n",
    "def find_symmetricDiff_inputSetsAB_v2():\n",
    "    setsLst = [0,0]\n",
    "    for i in range(2):\n",
    "        int(input()) # eat value ... don't need it\n",
    "        setsLst[i] = set([int(i) for i in input().split()])\n",
    "    [print(val) for val in sorted(list(setsLst[0].difference(setsLst[1]).union(setsLst[1].difference(setsLst[0]))))]\n",
    "\n",
    "''' understanding next two versions:\n",
    "    * key=int, applies int() to each value to be sorted so the values are sorted as 1,2,3 ... not: '1', '2', '3'\n",
    "    * a^b is the same as a.symmetric_difference(b)\n",
    "    \n",
    "    these two come from discussion boards on hackerrank\n",
    "'''\n",
    "def find_symmetricDiff_inputSetsAB_v3():\n",
    "    a,b = [set(input().split()) for _ in range(4)][1::2]\n",
    "    return '\\n'.join(sorted(a.symmetric_difference(b), key=int))\n",
    "\n",
    "def find_symmetricDiff_inputSetsAB_v4():\n",
    "    a,b = [set(input().split()) for _ in range(4)][1::2]\n",
    "    return '\\n'.join(sorted(a^b, key=int))"
   ]
  },
  {
   "cell_type": "markdown",
   "metadata": {},
   "source": [
    "These tests use the following inputs.  As per requirements in the challenge problem, what each line mean is also given here:\n",
    "<pre>\n",
    "10\n",
    "999 10001 574 39 12345678900100111, 787878, 999999, 1000000000000000000008889934567, 8989, 1111111111111111111111110000009999999\n",
    "5\n",
    "999 10001 574 39 73277773377737373000000000000007777888\n",
    "</pre>"
   ]
  },
  {
   "cell_type": "code",
   "execution_count": 2,
   "metadata": {
    "collapsed": false
   },
   "outputs": [
    {
     "name": "stdout",
     "output_type": "stream",
     "text": [
      "1000000000000000000008889934567\n",
      "73277773377737373000000000000007777888\n"
     ]
    }
   ],
   "source": [
    "i1 = int(1000000000000000000008889934567)\n",
    "i2 = int(73277773377737373000000000000007777888)\n",
    "print(i1)\n",
    "print(i2)"
   ]
  },
  {
   "cell_type": "code",
   "execution_count": 30,
   "metadata": {
    "collapsed": false
   },
   "outputs": [
    {
     "name": "stdout",
     "output_type": "stream",
     "text": [
      "1 loop, best of 3: 0 ns per loop\n",
      "10\n",
      "1 2 3 4 6 7 8 9 10001\n",
      "5\n",
      "79 65 8 9 1\n",
      "2\n",
      "3\n",
      "4\n",
      "6\n",
      "7\n",
      "65\n",
      "79\n",
      "10001\n"
     ]
    }
   ],
   "source": [
    "%timeit -n 1 10*1000000\n",
    "find_symmetricDiff_inputSetsAB_v1()"
   ]
  },
  {
   "cell_type": "code",
   "execution_count": null,
   "metadata": {
    "collapsed": true
   },
   "outputs": [],
   "source": [
    "# timeit(find_symmetricDiff_inputSetsAB_v1(), 1)"
   ]
  }
 ],
 "metadata": {
  "anaconda-cloud": {},
  "kernelspec": {
   "display_name": "Python [conda env:PY36]",
   "language": "python",
   "name": "conda-env-PY36-py"
  },
  "language_info": {
   "codemirror_mode": {
    "name": "ipython",
    "version": 3
   },
   "file_extension": ".py",
   "mimetype": "text/x-python",
   "name": "python",
   "nbconvert_exporter": "python",
   "pygments_lexer": "ipython3",
   "version": "3.6.0"
  }
 },
 "nbformat": 4,
 "nbformat_minor": 2
}
