{
 "cells": [
  {
   "cell_type": "markdown",
   "metadata": {},
   "source": [
    "<div align=\"right\">Env: Python [conda env:PY27_Test]</div>\n",
    "<div align=\"right\">Env: Python [conda env:PY36] </div>"
   ]
  },
  {
   "cell_type": "markdown",
   "metadata": {},
   "source": [
    "# Working With Dictionaries - The Basics\n",
    "These excercises come from multiple sources and show the basics of creating, modifying, and sorting dictionaries.\n",
    "All code was created in Python 2.7 and cross-tested in Python 3.6."
   ]
  },
  {
   "cell_type": "markdown",
   "metadata": {},
   "source": [
    "**Quick Guide to the basics:**\n",
    "- **Create** Dictionary:  dictionary = { key1:value, key2:value2 }\n",
    " - Example: `myDict1 = { 'one':'first thing', 'two':'secondthing' }`\n",
    " - Example: `myDict2 = { 1:43, 2:600, 3:-1000.4 }`\n",
    " - Example: `myDict3 = { 1:\"text\", 2:345, 3:'another value' }`\n",
    "- **Add** to a dictionary:  `myDict1['newVal'] = 'something stupid'`\n",
    " - Resulting Dictionary: `myDict1 = { 'one':'first thing', 'two':'secondthing', 'newVal':'something stupid' }`\n",
    "- **Remove** from dictionary: `del myDict1['newVal']`\n",
    " - now myDict1 is back the way it was: `{ 'one':'first thing', 'two':'secondthing' }`\n",
    "\n",
    "**In This Document:**\n",
    "- Immediately Below: modified \"Learn Python The HardWay\" dictionary example (covers much of the basics)\n",
    "- [.get()](#get) - safely retrieve dict value \n",
    "- [sorting](#sorting)\n",
    "- [When to use different sorted container options](#when)\n",
    "- using [comprehensions w/ dictionaries](#comprehensions)\n",
    "- [over-riding \"missing\" key](#misskey) \n",
    "- [find nth element](#nth_elem)\n",
    "- [nested dictionaries](#nested) \n",
    "- [more dictionary and nested dictionary resourses](#nest2)\n",
    "- browse below for more topics that may not be in this list ..."
   ]
  },
  {
   "cell_type": "code",
   "execution_count": 35,
   "metadata": {
    "collapsed": false
   },
   "outputs": [
    {
     "name": "stdout",
     "output_type": "stream",
     "text": [
      "----------\n",
      "Two cities:\n",
      "NY State has: New York\n",
      "OR State has: Portland\n",
      "----------\n",
      "Abbreviations for Two States:\n",
      "Michigan's abbreviation is: MI\n",
      "Florida's abbreviation is: FL\n",
      "----------\n",
      "State Abbreviation extracted from cities dictionary:\n",
      "Michigan has: Detroit\n",
      "Florida has: Jacksonville\n",
      "----------\n",
      "Every State Abbreviation:\n",
      "California is abbreviated CA\n",
      "Michigan is abbreviated MI\n",
      "New York is abbreviated NY\n",
      "Florida is abbreviated FL\n",
      "Oregon is abbreviated OR\n",
      "----------\n",
      "Every city in Every State:\n",
      "FL has the city Jacksonville\n",
      "CA has the city San Francisco\n",
      "MI has the city Detroit\n",
      "OR has the city Portland\n",
      "NY has the city New York\n",
      "----------\n",
      "Do Both at Once:\n",
      "California state is abbreviated CA and has city San Francisco\n",
      "Michigan state is abbreviated MI and has city Detroit\n",
      "New York state is abbreviated NY and has city New York\n",
      "Florida state is abbreviated FL and has city Jacksonville\n",
      "Oregon state is abbreviated OR and has city Portland\n",
      "----------\n"
     ]
    }
   ],
   "source": [
    "# Ex39 in Learn Python the Hard Way:\n",
    "#  https://learnpythonthehardway.org/book/ex39.html\n",
    "# edited, expanded, and made PY3.x compliant by Mitch before inclusion in this notebook\n",
    "\n",
    "# create a mapping of state to abbreviation\n",
    "states = {\n",
    "    'Oregon': 'OR',\n",
    "    'Florida': 'FL',\n",
    "    'California': 'CA',\n",
    "    'New York': 'NY',\n",
    "    'Michigan': 'MI'\n",
    "}\n",
    "\n",
    "# create a basic set of states and some cities in them\n",
    "cities = {\n",
    "    'CA': 'San Francisco',\n",
    "    'MI': 'Detroit',\n",
    "    'FL': 'Jacksonville'\n",
    "}\n",
    "\n",
    "# add some more cities\n",
    "cities['NY'] = 'New York'\n",
    "cities['OR'] = 'Portland'\n",
    "\n",
    "# print out some cities\n",
    "print('-' * 10)\n",
    "print(\"Two cities:\")\n",
    "print(\"NY State has: %s\" %cities['NY'])\n",
    "print(\"OR State has: %s\" %cities['OR'])\n",
    "\n",
    "# print some states\n",
    "print('-' * 10)\n",
    "print(\"Abbreviations for Two States:\")\n",
    "# PY 2.7 syntax from original code: print \"Michigan's abbreviation is: \", states['Michigan']\n",
    "print(\"Michigan's abbreviation is: %s\" %states['Michigan'])\n",
    "print(\"Florida's abbreviation is: %s\" %states['Florida'])\n",
    "\n",
    "# do it by using the state then cities dict\n",
    "print('-' * 10)\n",
    "print(\"State Abbreviation extracted from cities dictionary:\")\n",
    "print(\"Michigan has: %s\" %cities[states['Michigan']])\n",
    "print(\"Florida has: %s\" %cities[states['Florida']])\n",
    "\n",
    "# print every state abbreviation\n",
    "print('-' * 10)\n",
    "print(\"Every State Abbreviation:\")\n",
    "for state, abbrev in states.items():\n",
    "    print(\"%s is abbreviated %s\" % (state, abbrev))\n",
    "\n",
    "# print every city in state\n",
    "print('-' * 10)\n",
    "print(\"Every city in Every State:\")\n",
    "for abbrev, city in cities.items():\n",
    "    print(\"%s has the city %s\" %(abbrev, city))\n",
    "\n",
    "# now do both at the same time\n",
    "print('-' * 10)\n",
    "print(\"Do Both at Once:\")\n",
    "for state, abbrev in states.items():\n",
    "    print(\"%s state is abbreviated %s and has city %s\" % (\n",
    "        state, abbrev, cities[abbrev]))\n",
    "\n",
    "print('-' * 10)"
   ]
  },
  {
   "cell_type": "markdown",
   "metadata": {},
   "source": [
    "<a id=\"get\" name=\"get\"></a>\n",
    "### .get() examples"
   ]
  },
  {
   "cell_type": "code",
   "execution_count": 36,
   "metadata": {
    "collapsed": false
   },
   "outputs": [
    {
     "name": "stdout",
     "output_type": "stream",
     "text": [
      "Sorry, no Texas.\n",
      "The city for the state 'TX' is: Does Not Exist\n",
      "The city for the state 'FL' is: FL\n",
      "city2: None\n",
      "The city for the state 'HI' is: Value == None\n",
      "These commands used .get() to safely retrieve a value\n"
     ]
    }
   ],
   "source": [
    "# ex 39 Python the Hard Way modified code continued ...\n",
    "\n",
    "# safely get a abbreviation by state that might not be there\n",
    "state = states.get('Texas')\n",
    "if not state:\n",
    "    print(\"Sorry, no Texas.\")\n",
    "\n",
    "# get a city with a default value\n",
    "city = cities.get('TX', 'Does Not Exist')\n",
    "print(\"The city for the state 'TX' is: %s\" % city)\n",
    "print(\"The city for the state 'FL' is: %s\" % states.get('Florida'))\n",
    "\n",
    "city2 = states.get('Hawaii')\n",
    "print(\"city2: %s\" %city2)\n",
    "if city2 == None:\n",
    "    city2 = 'Value == None'\n",
    "elif city2 == '':\n",
    "    city2 = 'Value is empty \"\"'\n",
    "elif not city2:\n",
    "    city2 = 'Value Missing (Passed not test)'\n",
    "else:\n",
    "    city2 = 'No Such Value'\n",
    "    \n",
    "print(\"The city for the state 'HI' is: %s\" % city2) \n",
    "print(\"These commands used .get() to safely retrieve a value\")"
   ]
  },
  {
   "cell_type": "code",
   "execution_count": 37,
   "metadata": {
    "collapsed": false
   },
   "outputs": [
    {
     "name": "stdout",
     "output_type": "stream",
     "text": [
      "False\n"
     ]
    }
   ],
   "source": [
    "# more tests on above code from Learn Python the Hard Way:\n",
    "print(not city2)\n",
    "\n",
    "# tests that produce an error - numerical indexing has no meaning in dictionaries:\n",
    "# print states[1][1]"
   ]
  },
  {
   "cell_type": "code",
   "execution_count": 38,
   "metadata": {
    "collapsed": false
   },
   "outputs": [
    {
     "name": "stdout",
     "output_type": "stream",
     "text": [
      "fruit includes apple\n",
      "meat includes beef\n"
     ]
    },
    {
     "data": {
      "text/plain": [
       "{'fruit': 'apple', 'meats': 'chicken', 'vegetables': 'corn'}"
      ]
     },
     "execution_count": 38,
     "metadata": {},
     "output_type": "execute_result"
    }
   ],
   "source": [
    "# what happens if all keys are not unique?\n",
    "foods = {\n",
    "    'fruit': 'banana',\n",
    "    'fruit': 'apple',\n",
    "    'meat': 'beef'\n",
    "}\n",
    "\n",
    "for foodType, indivFood in foods.items():\n",
    "    print(\"%s includes %s\" % (foodType, indivFood))\n",
    "\n",
    "# answer:  does not happen.  2nd attempt to use same key over-writes the first\n",
    "# remove elements from a dictionary\n",
    "del foods['meat']\n",
    "# add an element to dictionary\n",
    "foods['vegetables'] = 'carrot'\n",
    "foods['meats'] = 'chicken'\n",
    "# change an element to a dictionary\n",
    "foods['vegetables'] = 'corn'\n",
    "\n",
    "foods"
   ]
  },
  {
   "cell_type": "code",
   "execution_count": 39,
   "metadata": {
    "collapsed": false
   },
   "outputs": [
    {
     "name": "stdout",
     "output_type": "stream",
     "text": [
      "len(super_heroes): ) 6\n",
      "Secret Identity for The Flash: Barry Allen\n",
      "len(super_heroes): ) 5\n",
      "{'Spider Man': 'Peter Parker', 'The Flash': 'Barry Allen', 'Super Man': 'Clark Kent', 'Wolverine': 'Logan', 'Professor X': 'Charles Exavior'}\n",
      "('Secret Identify for Wolverine:', 'John Logan')\n",
      "Keys ... then Values (for super_heroes):\n",
      "['Spider Man', 'The Flash', 'Super Man', 'Wolverine', 'Professor X']\n",
      "['Peter Parker', 'Barry Allen', 'Clark Kent', 'John Logan', 'Charles Exavior']\n"
     ]
    }
   ],
   "source": [
    "# from MIT Big Data Class:\n",
    "# Associative Arrays ==> Called \"Dictionaries\" or \"Maps\" in Python\n",
    "# each value has a key that you can use to find it - { Key:Value }\n",
    "\n",
    "super_heroes = {'Spider Man' : 'Peter Parker',\n",
    "                'Super Man' : 'Clark Kent',\n",
    "                'Wonder Woman': 'Dianna Prince',\n",
    "                'The Flash' : 'Barry Allen',\n",
    "                'Professor X' : 'Charles Exavior',\n",
    "                'Wolverine' : 'Logan'}\n",
    "print(\"%s %s\" %(\"len(super_heroes): )\", len(super_heroes)))\n",
    "print(\"%s %s\" %(\"Secret Identity for The Flash:\", super_heroes['The Flash']))\n",
    "del super_heroes['Wonder Woman']\n",
    "print(\"%s %s\" %(\"len(super_heroes): )\", len(super_heroes)))\n",
    "print(super_heroes)\n",
    "super_heroes['Wolverine'] = 'John Logan'\n",
    "print(\"Secret Identify for Wolverine:\", super_heroes.get(\"Wolverine\"))\n",
    "print(\"Keys ... then Values (for super_heroes):\")\n",
    "print(super_heroes.keys())\n",
    "print(super_heroes.values())"
   ]
  },
  {
   "cell_type": "markdown",
   "metadata": {},
   "source": [
    "<a id=\"nested\" name=\"nested\"></a>\n",
    "### nested dictionaries"
   ]
  },
  {
   "cell_type": "code",
   "execution_count": 41,
   "metadata": {
    "collapsed": false
   },
   "outputs": [
    {
     "name": "stdout",
     "output_type": "stream",
     "text": [
      "{'vegetables': 'corn', 'fruit': 'apple', 'meats': 'chicken'}\n",
      "{'vegetables': 'broccoli', 'fruit': 'banana', 'meats': 'beef'}\n"
     ]
    }
   ],
   "source": [
    "# list of dictionaries:\n",
    "\n",
    "FoodList = [foods, {'meats':'beef', 'fruit':'banana', 'vegetables':'broccoli'}]\n",
    "print(FoodList[0])\n",
    "print(FoodList[1])"
   ]
  },
  {
   "cell_type": "code",
   "execution_count": 42,
   "metadata": {
    "collapsed": false
   },
   "outputs": [
    {
     "name": "stdout",
     "output_type": "stream",
     "text": [
      "{'Spider Man': 'Peter Parker', 'The Flash': 'Barry Allen', 'Super Man': 'Clark Kent', 'Wolverine': 'John Logan', 'Professor X': 'Charles Exavior'}\n",
      "------------------------------------------------------------------------\n",
      "[{'vegetables': 'corn', 'fruit': 'apple', 'meats': 'chicken'}, {'vegetables': 'broccoli', 'fruit': 'banana', 'meats': 'beef'}]\n"
     ]
    }
   ],
   "source": [
    "# dictionary of dictionaries (sometimes called \"nested dictionary\"):\n",
    "# note: this is an example only.  In real world, sinde FoodList is inclusive of foods, you probably would not include both\n",
    "#       uniform structures (same number of levels across all elements) is also advisable if possible\n",
    "\n",
    "nestedDict = { 'heroes':super_heroes, 'foods': foods, 'complex_foods':FoodList } \n",
    "print(nestedDict['heroes'])\n",
    "print('-'*72)\n",
    "print(nestedDict['complex_foods'])"
   ]
  },
  {
   "cell_type": "markdown",
   "metadata": {},
   "source": [
    "<a id=\"nest2\" name=\"nest2\"></a>\n",
    "### Working With Dictionaries and Nested Dictionaries - Helpful Code\n",
    "\n",
    "This section has additional resources for working with dictionaries and nested dictionaries:\n",
    "\n",
    "- [FileDataObj code](https://github.com/TheMitchWorksPro/DataTech_Playground/blob/master/Python_Misc/TMWP_PY_FileDataObjects.ipynb) - the FileDataObject stores contents from a file in a nested dictionary and explores sorting and summarising the nested dict\n",
    "- [dictionary and nested dictionary functions in a PY module](https://github.com/TheMitchWorksPro/DataTech_Playground/blob/master/Python_Misc/TMWP_dictionary_manipulation.py) - merging dictionaries, adding to a nested dictionary, summarizing a nested dictionary, etc. (some of this code was created from the previous example)"
   ]
  },
  {
   "cell_type": "markdown",
   "metadata": {},
   "source": [
    "<a id=\"sorting\" name=\"sorting\"></a>\n",
    "\n",
    "### Sorting"
   ]
  },
  {
   "cell_type": "code",
   "execution_count": 43,
   "metadata": {
    "collapsed": false
   },
   "outputs": [
    {
     "name": "stdout",
     "output_type": "stream",
     "text": [
      "OrderedDict([('orange', 2), ('pear', 1), ('banana', 3), ('apple', 4)])\n",
      "OrderedDict([('orange', 2), ('pear', 1), ('banana', 3), ('apple', 4), ('pork belly', 7)])\n",
      "OrderedDict([('orange', 2), ('pear', 1), ('banana', 3), ('apple', 4), ('pork belly', 7), ('sandwich', 5)])\n",
      "OrderedDict([('orange', 2), ('pear', 1), ('banana', 3), ('apple', 4), ('pork belly', 7), ('sandwich', 5), ('hero', 5)])\n"
     ]
    }
   ],
   "source": [
    "# Help on Collections Objects including Counter, OrderedDict, dequeu, etc:\n",
    "#  https://docs.python.org/2/library/collections.html\n",
    "\n",
    "# regular dictionary does not necessarily preserve order (things added in randomly?)\n",
    "# original order of how you add elements is prserved in OrderedDict\n",
    "\n",
    "from collections import OrderedDict\n",
    "\n",
    "myOrdDict = OrderedDict({'banana': 3, 'apple': 4, 'pear': 1, 'orange': 2})\n",
    "print(myOrdDict)\n",
    "myOrdDict['pork belly'] = 7\n",
    "print(myOrdDict)\n",
    "myOrdDict['sandwich'] = 5\n",
    "print(myOrdDict)\n",
    "myOrdDict['hero'] = 5\n",
    "print(myOrdDict)"
   ]
  },
  {
   "cell_type": "code",
   "execution_count": 45,
   "metadata": {
    "collapsed": false
   },
   "outputs": [
    {
     "name": "stdout",
     "output_type": "stream",
     "text": [
      "myOrdDict (sorted by key):\n",
      " OrderedDict([('apple', 4), ('banana', 3), ('hero', 5), ('orange', 2), ('pear', 1), ('pork belly', 7), ('sandwich', 5)])\n",
      "myOrdDict2 (sorted by value):\n",
      " OrderedDict([('pear', 1), ('orange', 2), ('banana', 3), ('apple', 4), ('hero', 5), ('sandwich', 5), ('pork belly', 7)])\n",
      "myOrdDict3 (sorted by length of key):\n",
      " OrderedDict([('hero', 5), ('pear', 1), ('apple', 4), ('banana', 3), ('orange', 2), ('sandwich', 5), ('pork belly', 7)])\n"
     ]
    }
   ],
   "source": [
    "# sorting the ordered dictionary ...\n",
    "\n",
    "# dictionary sorted by key\n",
    "# replacing original OrderedDict w/ results\n",
    "myOrdDict = OrderedDict(sorted(myOrdDict.items(), key=lambda t: t[0]))\n",
    "print(\"myOrdDict (sorted by key):\\n %s\" %myOrdDict)\n",
    "\n",
    "# dictionary sorted by value\n",
    "myOrdDict2 = OrderedDict(sorted(myOrdDict.items(), key=lambda t: t[1]))\n",
    "print(\"myOrdDict2 (sorted by value):\\n %s\" %myOrdDict2)\n",
    "\n",
    "# dictionary sorted by length of the key string\n",
    "myOrdDict3 = OrderedDict(sorted(myOrdDict.items(), key=lambda t: len(t[0])))\n",
    "print(\"myOrdDict3 (sorted by length of key):\\n %s\" %myOrdDict3)"
   ]
  },
  {
   "cell_type": "code",
   "execution_count": 46,
   "metadata": {
    "collapsed": false
   },
   "outputs": [
    {
     "name": "stdout",
     "output_type": "stream",
     "text": [
      "myOrdDict3 (reverse key sort):\n",
      " OrderedDict([('sandwich', 5), ('pork belly', 7), ('pear', 1), ('orange', 2), ('hero', 5), ('banana', 3), ('apple', 4)])\n"
     ]
    }
   ],
   "source": [
    "# collections.OrderedDict(sorted(dictionary.items(), reverse=True))\n",
    "# pd.Series(OrderedDict(sorted(browser.items(), key=lambda v: v[1])))\n",
    "\n",
    "# changing sort order to reverse key sort:\n",
    "myOrdDict3 = OrderedDict(sorted(myOrdDict.items(), reverse=True))\n",
    "print(\"myOrdDict3 (reverse key sort):\\n %s\" %myOrdDict3)"
   ]
  },
  {
   "cell_type": "code",
   "execution_count": 12,
   "metadata": {
    "collapsed": false
   },
   "outputs": [
    {
     "name": "stdout",
     "output_type": "stream",
     "text": [
      "myOrdDict4 (value sort / alternate method):\n",
      " pear          1\n",
      "orange        2\n",
      "banana        3\n",
      "apple         4\n",
      "hero          5\n",
      "sandwich      5\n",
      "pork belly    7\n",
      "dtype: int64\n"
     ]
    }
   ],
   "source": [
    "# testing of above strategy ... usually works but encountered  cases where it failed for no known reason\n",
    "# lambda approach may be more reliable:\n",
    "\n",
    "import pandas as pd\n",
    "\n",
    "# value sort as pandas series:\n",
    "myOrdDict4 = pd.Series(OrderedDict(sorted(myOrdDict.items(), key=lambda v: v[1])))\n",
    "print(\"myOrdDict4 (value sort / alternate method):\\n %s\" %myOrdDict4)"
   ]
  },
  {
   "cell_type": "code",
   "execution_count": 13,
   "metadata": {
    "collapsed": false
   },
   "outputs": [
    {
     "name": "stdout",
     "output_type": "stream",
     "text": [
      "myOrdDict5 (sorted by value in reverse order):\n",
      " OrderedDict([('pork belly', 7), ('hero', 5), ('sandwich', 5), ('apple', 4), ('banana', 3), ('orange', 2), ('pear', 1)])\n"
     ]
    }
   ],
   "source": [
    "# value sort in reverse order:\n",
    "myOrdDict5 = OrderedDict(sorted(myOrdDict.items(), key=lambda t: (-t[1],t[0])))\n",
    "print(\"myOrdDict5 (sorted by value in reverse order):\\n %s\" %myOrdDict5)"
   ]
  },
  {
   "cell_type": "code",
   "execution_count": 14,
   "metadata": {
    "collapsed": false
   },
   "outputs": [
    {
     "name": "stdout",
     "output_type": "stream",
     "text": [
      "Counter({5: 2, 1: 1, 2: 1, 3: 1, 4: 1, 7: 1})\n"
     ]
    }
   ],
   "source": [
    "# Help on Collections Objects including Counter, OrderedDict, dequeu, etc:\n",
    "#  https://docs.python.org/2/library/collections.html\n",
    "\n",
    "# sample using a list:\n",
    "# for word in ['red', 'blue', 'red', 'green', 'blue', 'blue']:\n",
    "#     cnt[word] += 1\n",
    "\n",
    "from collections import Counter\n",
    "\n",
    "cnt = Counter()\n",
    "for num in myOrdDict.values():\n",
    "    cnt[num] +=1\n",
    "    \n",
    "print(cnt)\n"
   ]
  },
  {
   "cell_type": "code",
   "execution_count": 15,
   "metadata": {
    "collapsed": false
   },
   "outputs": [
    {
     "name": "stdout",
     "output_type": "stream",
     "text": [
      "conda install sortedcontainers is available in Python 2.7 and 3.6 as of April 2017\n"
     ]
    }
   ],
   "source": [
    "# http://stackoverflow.com/questions/11089655/sorting-dictionary-python-3\n",
    "# another approach proposed in 2013 on Stack Overflow (but this may have been newer than OrderdDict at the time)\n",
    "\n",
    "''' Help topic recommends this approach:\n",
    "pip install sortedcontainers\n",
    "\n",
    "Then:\n",
    "\n",
    "from sortedcontainers import SortedDict\n",
    "myDic = SortedDict({10: 'b', 3:'a', 5:'c'})\n",
    "sorted_list = list(myDic.keys())\n",
    "\n",
    "'''\n",
    "print(\"conda install sortedcontainers is available in Python 2.7 and 3.6 as of April 2017\")"
   ]
  },
  {
   "cell_type": "code",
   "execution_count": 16,
   "metadata": {
    "collapsed": false
   },
   "outputs": [
    {
     "data": {
      "text/plain": [
       "{'Professor X': 'Charles Exavior',\n",
       " 'Spider Man': 'Peter Parker',\n",
       " 'Super Man': 'Clark Kent',\n",
       " 'The Flash': 'Barry Allen',\n",
       " 'Wolverine': 'John Logan'}"
      ]
     },
     "execution_count": 16,
     "metadata": {},
     "output_type": "execute_result"
    }
   ],
   "source": [
    "# some dictionaries to work with ...\n",
    "\n",
    "super_heroes  # created earlier"
   ]
  },
  {
   "cell_type": "code",
   "execution_count": 17,
   "metadata": {
    "collapsed": true
   },
   "outputs": [],
   "source": [
    "super_heroes['The Incredible Hulk'] = 'Bruce Banner'"
   ]
  },
  {
   "cell_type": "code",
   "execution_count": 18,
   "metadata": {
    "collapsed": false,
    "scrolled": true
   },
   "outputs": [
    {
     "data": {
      "text/plain": [
       "{'Professor X': 'Charles Exavior',\n",
       " 'Spider Man': 'Peter Parker',\n",
       " 'Super Man': 'Clark Kent',\n",
       " 'The Flash': 'Barry Allen',\n",
       " 'The Incredible Hulk': 'Bruce Banner',\n",
       " 'Wolverine': 'John Logan'}"
      ]
     },
     "execution_count": 18,
     "metadata": {},
     "output_type": "execute_result"
    }
   ],
   "source": [
    "super_heroes  # seems to alpha sort on keys anyway"
   ]
  },
  {
   "cell_type": "code",
   "execution_count": 48,
   "metadata": {
    "collapsed": false
   },
   "outputs": [
    {
     "data": {
      "text/plain": [
       "OrderedDict([('Professor X', 'Charles Exavior'),\n",
       "             ('Wolverine', 'John Logan'),\n",
       "             ('Super Man', 'Clark Kent'),\n",
       "             ('The Flash', 'Barry Allen'),\n",
       "             ('Spider Man', 'Peter Parker')])"
      ]
     },
     "execution_count": 48,
     "metadata": {},
     "output_type": "execute_result"
    }
   ],
   "source": [
    "# quick case study exploring another means of reverse sorting (from Stack Overflow):\n",
    "reversed_tst = OrderedDict(list(super_heroes.items())[::-1])\n",
    "reversed_tst   # note how in this instance, we don't get what we expected\n",
    "               # this example might not be advisable ..."
   ]
  },
  {
   "cell_type": "code",
   "execution_count": 51,
   "metadata": {
    "collapsed": false
   },
   "outputs": [
    {
     "data": {
      "text/plain": [
       "OrderedDict([('Spider Man', 'Peter Parker'),\n",
       "             ('Wolverine', 'John Logan'),\n",
       "             ('Super Man', 'Clark Kent'),\n",
       "             ('Professor X', 'Charles Exavior'),\n",
       "             ('The Flash', 'Barry Allen')])"
      ]
     },
     "execution_count": 51,
     "metadata": {},
     "output_type": "execute_result"
    }
   ],
   "source": [
    "# however ... if we combine methodologies:\n",
    "reversed_tst = OrderedDict(sorted(super_heroes.items(), key=lambda v: v[1])[::-1])\n",
    "reversed_tst   # now the values are in reverse order ..."
   ]
  },
  {
   "cell_type": "code",
   "execution_count": 52,
   "metadata": {
    "collapsed": false
   },
   "outputs": [
    {
     "data": {
      "text/plain": [
       "OrderedDict([('Wolverine', 'John Logan'),\n",
       "             ('The Flash', 'Barry Allen'),\n",
       "             ('Super Man', 'Clark Kent'),\n",
       "             ('Spider Man', 'Peter Parker'),\n",
       "             ('Professor X', 'Charles Exavior')])"
      ]
     },
     "execution_count": 52,
     "metadata": {},
     "output_type": "execute_result"
    }
   ],
   "source": [
    "# however ... if we combine methodologies:\n",
    "reversed_tst = OrderedDict(sorted(super_heroes.items(), key=lambda k: k)[::-1])\n",
    "reversed_tst   # now the keys are in reverse order ..."
   ]
  },
  {
   "cell_type": "code",
   "execution_count": 19,
   "metadata": {
    "collapsed": false
   },
   "outputs": [
    {
     "data": {
      "text/plain": [
       "{1: 'apple', 2: 'orange', 3: 'banana', 4: 'pear'}"
      ]
     },
     "execution_count": 19,
     "metadata": {},
     "output_type": "execute_result"
    }
   ],
   "source": [
    "fruitDict = {3: 'banana', 4: 'pear', 1: 'apple', 2: 'orange'}\n",
    "fruitDict   # dictionaries appear to alpha sort at least on output making it hard to spot the effects below"
   ]
  },
  {
   "cell_type": "code",
   "execution_count": 20,
   "metadata": {
    "collapsed": false
   },
   "outputs": [
    {
     "name": "stdout",
     "output_type": "stream",
     "text": [
      "SortedDict(None, 1000, {3: 'a', 5: 'c', 10: 'b'})\n",
      "[3, 5, 10]\n"
     ]
    }
   ],
   "source": [
    "# help on library:\n",
    "# http://www.grantjenks.com/docs/sortedcontainers/sorteddict.html\n",
    "\n",
    "# test sample code from Stack Overflow post:\n",
    "from sortedcontainers import SortedDict\n",
    "myDic = SortedDict({10: 'b', 3:'a', 5:'c'})\n",
    "sorted_list = list(myDic.keys())\n",
    "\n",
    "print(myDic)\n",
    "print(sorted_list)"
   ]
  },
  {
   "cell_type": "code",
   "execution_count": 21,
   "metadata": {
    "collapsed": false
   },
   "outputs": [
    {
     "name": "stdout",
     "output_type": "stream",
     "text": [
      "SortedDict(None, 1000, {1: 'apple', 2: 'orange', 3: 'banana', 4: 'pear'})\n",
      "[1, 2, 3, 4]\n"
     ]
    }
   ],
   "source": [
    "fruitDict = SortedDict(fruitDict)\n",
    "sorted_list = list(fruitDict.keys())\n",
    "\n",
    "print(fruitDict)\n",
    "print(sorted_list)"
   ]
  },
  {
   "cell_type": "markdown",
   "metadata": {},
   "source": [
    "<a id=\"when\" name=\"when\"></a>As per the examples above ...\n",
    "\n",
    "\n",
    "**So when to do what?**\n",
    "- **OrderedDict:**  will store whatever you put into it in whatever order you first record the data (maintaing that order)\n",
    "- **SortedDict:**   by default will alpha sort the data (over-riding original order) and maintain it for you in sorted order\n",
    "- **Dict:**  Don't care about storing it in order?  just sort and output the results without storing it in new container\n",
    "\n",
    "\\*\\*Final note:  only `SortedDict` allows indexing by numerical order on the data (by-passing keys) under both Python 2.7 and 3.6 (as shown in the next section)"
   ]
  },
  {
   "cell_type": "markdown",
   "metadata": {},
   "source": [
    "<a id=\"nth_elem\" name=\"nth_elem\"></a>\n",
    "### Find the nth element in a dictionary"
   ]
  },
  {
   "cell_type": "code",
   "execution_count": 40,
   "metadata": {
    "collapsed": false
   },
   "outputs": [
    {
     "name": "stdout",
     "output_type": "stream",
     "text": [
      "Peter Parker\n",
      "Spider Man\n"
     ]
    }
   ],
   "source": [
    "# MIT Big Data included a demo of this type of index/access to a dictionary in a Python 2.7 notebook\n",
    "# the code is organized in a try-except block here so it won't halt the notebook if converted to Python 3.6\n",
    "\n",
    "def print_1st_keyValue(someDict):\n",
    "    try:\n",
    "        print(someDict.values()[0])            # only works in Python 2.7\n",
    "    except Exception as ee:\n",
    "        print(str(type(ee)) + \": \" + str(ee))  # error from PY 3.6: \n",
    "                                               # <class 'TypeError'>: 'dict_values' object does not support indexing\n",
    "    finally:\n",
    "        try:\n",
    "            print(someDict.keys()[0])          # only works in Python 2.7\n",
    "        except Exception as ee:\n",
    "            print(str(type(ee)) + \": \" + str(ee))  # error from PY 3.6: \n",
    "                                                   # <class 'TypeError'>: 'dict_keys' object does not support indexing\n",
    "                        \n",
    "print_1st_keyValue(super_heroes)"
   ]
  },
  {
   "cell_type": "code",
   "execution_count": 44,
   "metadata": {
    "collapsed": false
   },
   "outputs": [
    {
     "name": "stdout",
     "output_type": "stream",
     "text": [
      "2\n",
      "orange\n"
     ]
    }
   ],
   "source": [
    "print_1st_keyValue(myOrdDict)  # run same test on ordered dictionaries\n",
    "                               # failed in Python 3.6, worked in Python 2.7\n",
    "                               # reminder:  syntax is orderedDict.values()[0], orderedDict.keys()[0]"
   ]
  },
  {
   "cell_type": "code",
   "execution_count": 22,
   "metadata": {
    "collapsed": false
   },
   "outputs": [
    {
     "name": "stdout",
     "output_type": "stream",
     "text": [
      "apple\n",
      "1\n"
     ]
    }
   ],
   "source": [
    "print_1st_keyValue(fruitDict)  # run same test on sorted dictionary - \n",
    "                               # this works in Python 3.6 and 2.7\n",
    "                               # reminder:  syntax is sortedDict.values()[0], sortedDict.keys()[0]"
   ]
  },
  {
   "cell_type": "markdown",
   "metadata": {},
   "source": [
    "<a id=\"comprehensions\" name=\"comprehensions\"></a>\n",
    "### Dictionary Comprehensions"
   ]
  },
  {
   "cell_type": "code",
   "execution_count": 23,
   "metadata": {
    "collapsed": false
   },
   "outputs": [
    {
     "data": {
      "text/plain": [
       "[3, 4]"
      ]
     },
     "execution_count": 23,
     "metadata": {},
     "output_type": "execute_result"
    }
   ],
   "source": [
    "# dictionary comprehension\n",
    "[ k for k in fruitDict if k > 2 ]"
   ]
  },
  {
   "cell_type": "code",
   "execution_count": 24,
   "metadata": {
    "collapsed": false
   },
   "outputs": [
    {
     "data": {
      "text/plain": [
       "['orange', 'banana', 'pear']"
      ]
     },
     "execution_count": 24,
     "metadata": {},
     "output_type": "execute_result"
    }
   ],
   "source": [
    "[ fruitDict[k] for k in fruitDict if k > 1 ] "
   ]
  },
  {
   "cell_type": "code",
   "execution_count": 25,
   "metadata": {
    "collapsed": false
   },
   "outputs": [
    {
     "name": "stdout",
     "output_type": "stream",
     "text": [
      "{4: 'fruit - orange', 6: 'fruit - banana'}\n"
     ]
    },
    {
     "data": {
      "text/plain": [
       "dict"
      ]
     },
     "execution_count": 25,
     "metadata": {},
     "output_type": "execute_result"
    }
   ],
   "source": [
    "newDict = { k*2:'fruit - '+fruitDict[k] for k in fruitDict if k > 1 and len(fruitDict[k]) >=6} \n",
    "print(newDict)\n",
    "type(newDict)"
   ]
  },
  {
   "cell_type": "markdown",
   "metadata": {},
   "source": [
    "<a id=\"misskey\" name=\"misskey\"></a>\n",
    "### keyDict object"
   ]
  },
  {
   "cell_type": "code",
   "execution_count": 26,
   "metadata": {
    "collapsed": false
   },
   "outputs": [
    {
     "name": "stdout",
     "output_type": "stream",
     "text": [
      "Bruce Banner\n",
      "Ant Man\n"
     ]
    }
   ],
   "source": [
    "class KeyDict(dict):\n",
    "    def __missing__(self, key):\n",
    "        #self[key] = key  # uncomment if desired behavior is to add keys when they are not found (w/ key as value)\n",
    "        #this version returns the key that was not found\n",
    "        return key\n",
    "\n",
    "kdTst = KeyDict(super_heroes)\n",
    "print(kdTst['The Incredible Hulk'])\n",
    "print(kdTst['Ant Man'])   # value not found so it returns itself as per __missing__ over-ride"
   ]
  },
  {
   "cell_type": "code",
   "execution_count": 27,
   "metadata": {
    "collapsed": false
   },
   "outputs": [
    {
     "name": "stdout",
     "output_type": "stream",
     "text": [
      "Help on class SortedDict in module sortedcontainers.sorteddict:\n",
      "\n",
      "class SortedDict(__builtin__.dict)\n",
      " |  SortedDict provides the same methods as a dict.  Additionally, SortedDict\n",
      " |  efficiently maintains its keys in sorted order. Consequently, the keys\n",
      " |  method will return the keys in sorted order, the popitem method will remove\n",
      " |  the item with the highest key, etc.\n",
      " |  \n",
      " |  Method resolution order:\n",
      " |      SortedDict\n",
      " |      __builtin__.dict\n",
      " |      __builtin__.object\n",
      " |  \n",
      " |  Methods defined here:\n",
      " |  \n",
      " |  __copy__ = copy(self)\n",
      " |  \n",
      " |  __delitem__(self, key)\n",
      " |      Remove ``d[key]`` from *d*.  Raises a KeyError if *key* is not in the\n",
      " |      dictionary.\n",
      " |  \n",
      " |  __init__(self, *args, **kwargs)\n",
      " |      SortedDict provides the same methods as a dict.  Additionally, SortedDict\n",
      " |      efficiently maintains its keys in sorted order. Consequently, the keys\n",
      " |      method will return the keys in sorted order, the popitem method will\n",
      " |      remove the item with the highest key, etc.\n",
      " |      \n",
      " |      An optional *key* argument defines a callable that, like the `key`\n",
      " |      argument to Python's `sorted` function, extracts a comparison key from\n",
      " |      each dict key. If no function is specified, the default compares the\n",
      " |      dict keys directly. The `key` argument must be provided as a positional\n",
      " |      argument and must come before all other arguments.\n",
      " |      \n",
      " |      An optional *load* argument defines the load factor of the internal list\n",
      " |      used to maintain sort order. If present, this argument must come before\n",
      " |      an iterable. The default load factor of '1000' works well for lists from\n",
      " |      tens to tens of millions of elements.  Good practice is to use a value\n",
      " |      that is the cube root of the list size.  With billions of elements, the\n",
      " |      best load factor depends on your usage.  It's best to leave the load\n",
      " |      factor at the default until you start benchmarking.\n",
      " |      \n",
      " |      An optional *iterable* argument provides an initial series of items to\n",
      " |      populate the SortedDict.  Each item in the series must itself contain\n",
      " |      two items.  The first is used as a key in the new dictionary, and the\n",
      " |      second as the key's value. If a given key is seen more than once, the\n",
      " |      last value associated with it is retained in the new dictionary.\n",
      " |      \n",
      " |      If keyword arguments are given, the keywords themselves with their\n",
      " |      associated values are added as items to the dictionary. If a key is\n",
      " |      specified both in the positional argument and as a keyword argument, the\n",
      " |      value associated with the keyword is retained in the dictionary. For\n",
      " |      example, these all return a dictionary equal to ``{\"one\": 2, \"two\":\n",
      " |      3}``:\n",
      " |      \n",
      " |      * ``SortedDict(one=2, two=3)``\n",
      " |      * ``SortedDict({'one': 2, 'two': 3})``\n",
      " |      * ``SortedDict(zip(('one', 'two'), (2, 3)))``\n",
      " |      * ``SortedDict([['two', 3], ['one', 2]])``\n",
      " |      \n",
      " |      The first example only works for keys that are valid Python\n",
      " |      identifiers; the others work with any valid keys.\n",
      " |  \n",
      " |  __iter__(self)\n",
      " |      Return an iterator over the sorted keys of the dictionary.\n",
      " |      \n",
      " |      Iterating the Mapping while adding or deleting keys may raise a\n",
      " |      `RuntimeError` or fail to iterate over all entries.\n",
      " |  \n",
      " |  __reduce__(self)\n",
      " |  \n",
      " |  __repr__(self)\n",
      " |  \n",
      " |  __reversed__(self)\n",
      " |      Return a reversed iterator over the sorted keys of the dictionary.\n",
      " |      \n",
      " |      Iterating the Mapping while adding or deleting keys may raise a\n",
      " |      `RuntimeError` or fail to iterate over all entries.\n",
      " |  \n",
      " |  __setitem__(self, key, value)\n",
      " |      Set `d[key]` to *value*.\n",
      " |  \n",
      " |  clear(self)\n",
      " |      Remove all elements from the dictionary.\n",
      " |  \n",
      " |  copy(self)\n",
      " |      Return a shallow copy of the sorted dictionary.\n",
      " |  \n",
      " |  items(self)\n",
      " |      Return a list of the dictionary's items (``(key, value)`` pairs).\n",
      " |  \n",
      " |  iteritems(self)\n",
      " |      Return an iterator over the items (``(key, value)`` pairs).\n",
      " |      \n",
      " |      Iterating the Mapping while adding or deleting keys may raise a\n",
      " |      `RuntimeError` or fail to iterate over all entries.\n",
      " |  \n",
      " |  iterkeys(self)\n",
      " |      Return an iterator over the sorted keys of the Mapping.\n",
      " |      \n",
      " |      Iterating the Mapping while adding or deleting keys may raise a\n",
      " |      `RuntimeError` or fail to iterate over all entries.\n",
      " |  \n",
      " |  itervalues(self)\n",
      " |      Return an iterator over the values of the Mapping.\n",
      " |      \n",
      " |      Iterating the Mapping while adding or deleting keys may raise a\n",
      " |      `RuntimeError` or fail to iterate over all entries.\n",
      " |  \n",
      " |  keys(self)\n",
      " |      Return a SortedSet of the dictionary's keys.\n",
      " |  \n",
      " |  peekitem(self, index=-1)\n",
      " |      Return (key, value) item pair at index.\n",
      " |      \n",
      " |      Unlike ``popitem``, the sorted dictionary is not modified. Index\n",
      " |      defaults to -1, the last/greatest key in the dictionary. Specify\n",
      " |      ``index=0`` to lookup the first/least key in the dictiony.\n",
      " |      \n",
      " |      If index is out of range, raise IndexError.\n",
      " |  \n",
      " |  pop(self, key, default=<object object>)\n",
      " |      If *key* is in the dictionary, remove it and return its value,\n",
      " |      else return *default*. If *default* is not given and *key* is not in\n",
      " |      the dictionary, a KeyError is raised.\n",
      " |  \n",
      " |  popitem(self, last=True)\n",
      " |      Remove and return a ``(key, value)`` pair from the dictionary. If\n",
      " |      last=True (default) then remove the *greatest* `key` from the\n",
      " |      diciontary. Else, remove the *least* key from the dictionary.\n",
      " |      \n",
      " |      If the dictionary is empty, calling `popitem` raises a\n",
      " |      KeyError`.\n",
      " |  \n",
      " |  setdefault(self, key, default=None)\n",
      " |      If *key* is in the dictionary, return its value.  If not, insert *key*\n",
      " |      with a value of *default* and return *default*.  *default* defaults to\n",
      " |      ``None``.\n",
      " |  \n",
      " |  update(self, *args, **kwargs)\n",
      " |      Update the dictionary with the key/value pairs from *other*, overwriting\n",
      " |      existing keys.\n",
      " |      \n",
      " |      *update* accepts either another dictionary object or an iterable of\n",
      " |      key/value pairs (as a tuple or other iterable of length two).  If\n",
      " |      keyword arguments are specified, the dictionary is then updated with\n",
      " |      those key/value pairs: ``d.update(red=1, blue=2)``.\n",
      " |  \n",
      " |  values(self)\n",
      " |      Return a list of the dictionary's values.\n",
      " |  \n",
      " |  viewitems(self)\n",
      " |      Return ``ItemsView`` of dictionary (key, value) item pairs.\n",
      " |  \n",
      " |  viewkeys(self)\n",
      " |      Return ``KeysView`` of dictionary keys.\n",
      " |  \n",
      " |  viewvalues(self)\n",
      " |      Return ``ValuesView`` of dictionary values.\n",
      " |  \n",
      " |  ----------------------------------------------------------------------\n",
      " |  Class methods defined here:\n",
      " |  \n",
      " |  fromkeys(cls, seq, value=None) from __builtin__.type\n",
      " |      Create a new dictionary with keys from *seq* and values set to *value*.\n",
      " |  \n",
      " |  ----------------------------------------------------------------------\n",
      " |  Data descriptors defined here:\n",
      " |  \n",
      " |  __dict__\n",
      " |      dictionary for instance variables (if defined)\n",
      " |  \n",
      " |  __weakref__\n",
      " |      list of weak references to the object (if defined)\n",
      " |  \n",
      " |  ----------------------------------------------------------------------\n",
      " |  Methods inherited from __builtin__.dict:\n",
      " |  \n",
      " |  __cmp__(...)\n",
      " |      x.__cmp__(y) <==> cmp(x,y)\n",
      " |  \n",
      " |  __contains__(...)\n",
      " |      D.__contains__(k) -> True if D has a key k, else False\n",
      " |  \n",
      " |  __eq__(...)\n",
      " |      x.__eq__(y) <==> x==y\n",
      " |  \n",
      " |  __ge__(...)\n",
      " |      x.__ge__(y) <==> x>=y\n",
      " |  \n",
      " |  __getattribute__(...)\n",
      " |      x.__getattribute__('name') <==> x.name\n",
      " |  \n",
      " |  __getitem__(...)\n",
      " |      x.__getitem__(y) <==> x[y]\n",
      " |  \n",
      " |  __gt__(...)\n",
      " |      x.__gt__(y) <==> x>y\n",
      " |  \n",
      " |  __le__(...)\n",
      " |      x.__le__(y) <==> x<=y\n",
      " |  \n",
      " |  __len__(...)\n",
      " |      x.__len__() <==> len(x)\n",
      " |  \n",
      " |  __lt__(...)\n",
      " |      x.__lt__(y) <==> x<y\n",
      " |  \n",
      " |  __ne__(...)\n",
      " |      x.__ne__(y) <==> x!=y\n",
      " |  \n",
      " |  __sizeof__(...)\n",
      " |      D.__sizeof__() -> size of D in memory, in bytes\n",
      " |  \n",
      " |  get(...)\n",
      " |      D.get(k[,d]) -> D[k] if k in D, else d.  d defaults to None.\n",
      " |  \n",
      " |  has_key(...)\n",
      " |      D.has_key(k) -> True if D has a key k, else False\n",
      " |  \n",
      " |  ----------------------------------------------------------------------\n",
      " |  Data and other attributes inherited from __builtin__.dict:\n",
      " |  \n",
      " |  __hash__ = None\n",
      " |  \n",
      " |  __new__ = <built-in method __new__ of type object>\n",
      " |      T.__new__(S, ...) -> a new object with type S, a subtype of T\n",
      "\n"
     ]
    }
   ],
   "source": [
    "help(SortedDict)"
   ]
  },
  {
   "cell_type": "code",
   "execution_count": null,
   "metadata": {
    "collapsed": true
   },
   "outputs": [],
   "source": []
  }
 ],
 "metadata": {
  "anaconda-cloud": {},
  "kernelspec": {
   "display_name": "Python [conda env:PY27_Test]",
   "language": "python",
   "name": "conda-env-PY27_Test-py"
  },
  "language_info": {
   "codemirror_mode": {
    "name": "ipython",
    "version": 2
   },
   "file_extension": ".py",
   "mimetype": "text/x-python",
   "name": "python",
   "nbconvert_exporter": "python",
   "pygments_lexer": "ipython2",
   "version": "2.7.13"
  }
 },
 "nbformat": 4,
 "nbformat_minor": 2
}
