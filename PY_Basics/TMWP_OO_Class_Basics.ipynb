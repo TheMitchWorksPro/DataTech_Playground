{
 "cells": [
  {
   "cell_type": "markdown",
   "metadata": {},
   "source": [
    "<div align=\"right\">Python [conda env:PY27_Test]</div>\n",
    "\n",
    "# Python Object Classes - Basics\n",
    "Unless explicitely stated in the code cell, content in this notebook was created and tested in Python 2.7.  Cells that were tested under Python 3.x versus Python 2.7 are so noted.\n",
    "\n",
    "## TOC / Named Sections\n",
    "- [Immediately below](#inheritance): Code that shows basics of objects and inheritance\n",
    "- [Counting Objects](#count)\n",
    "- [Coordinate Example:  Over-riding built-in Functions and Operators](#override)\n",
    "- [Additional Research and Help Topics](#research)\n",
    "\n",
    "<a id=\"inheritance\" name=\"inheritance\"></a>\n",
    "## Inheritance and Multi-Inheritance\n",
    "The following topics can come in handy when attempting to understand multi-inheritance and complexities that can arise such as \"the diamond pattern\" and/or unexpected inheritance collisions:\n",
    "- [How Python super() works w/ multi-inheritance - SO](http://stackoverflow.com/questions/3277367/how-does-pythons-super-work-with-multiple-inheritance)\n",
    "- [Python Blog: Resolution Order (2010 Posting)](http://python-history.blogspot.com/2010/06/method-resolution-order.html)\n",
    "- [MRO - Method Resolution Order - for New Style Classes - SO](http://stackoverflow.com/questions/1848474/method-resolution-order-mro-in-new-style-python-classes/27670178#27670178)"
   ]
  },
  {
   "cell_type": "code",
   "execution_count": 1,
   "metadata": {
    "collapsed": false
   },
   "outputs": [],
   "source": [
    "# http://stackoverflow.com/questions/3277367/how-does-pythons-super-work-with-multiple-inheritance\n",
    "# started with content above and then edited and added to it as needed for this demo\n",
    "# also made the code Python 3.x compatible\n",
    "\n",
    "class First(object):\n",
    "    objCount = 0\n",
    "    \n",
    "    def __init__(self):\n",
    "        print(\"first\")\n",
    "        self.objCount +=1\n",
    "        First.objCount +=1\n",
    "    def greetMe(self, name=\"Anonymous\"):\n",
    "        print(\"Hello %s\" %name)\n",
    "\n",
    "class Second(First):\n",
    "    def __init__(self):\n",
    "        print(\"second\")\n",
    "        self.objCount +=1  # note: if we used super() we would not need this line\n",
    "                           # this line should effect Second and Fourth instances based on \n",
    "                           # the inheritance implementation\n",
    "        Second.objCount +=1\n",
    "    def doSomething(self):\n",
    "        print(\"something stupid\")\n",
    "\n",
    "class Third(First):\n",
    "    myGVal = 1000\n",
    "    def __init__(self):\n",
    "        print(\"third\")\n",
    "        self.myIVal = 13\n",
    "        Third.objCount +=1\n",
    "        \n",
    "    def changeIVal(self):\n",
    "        self.myIVal *=10\n",
    "\n",
    "class Fourth(Second, Third):\n",
    "    def __init__(self):\n",
    "        super(Fourth, self).__init__()\n",
    "        print(\"that's it - Welcome to Fourth!\")\n",
    "        Fourth.objCount +=1\n",
    "        \n",
    "class Fifth(Second, Third):\n",
    "    # this also works ...\n",
    "    def __init__(self):\n",
    "        Second.__init__(self)\n",
    "        print(\"that's it - Welcome to Fifth!\")\n",
    "        Fifth.objCount +=1"
   ]
  },
  {
   "cell_type": "code",
   "execution_count": 2,
   "metadata": {
    "collapsed": false
   },
   "outputs": [
    {
     "data": {
      "text/plain": [
       "(__main__.Fourth, __main__.Second, __main__.Third, __main__.First, object)"
      ]
     },
     "execution_count": 2,
     "metadata": {},
     "output_type": "execute_result"
    }
   ],
   "source": [
    "Fourth.__mro__   # Method Resolution Order"
   ]
  },
  {
   "cell_type": "code",
   "execution_count": 3,
   "metadata": {
    "collapsed": false
   },
   "outputs": [
    {
     "name": "stdout",
     "output_type": "stream",
     "text": [
      "second\n",
      "that's it - Welcome to Fourth!\n"
     ]
    }
   ],
   "source": [
    "phorth = Fourth()"
   ]
  },
  {
   "cell_type": "code",
   "execution_count": 4,
   "metadata": {
    "collapsed": false
   },
   "outputs": [
    {
     "name": "stdout",
     "output_type": "stream",
     "text": [
      "second\n",
      "that's it - Welcome to Fifth!\n"
     ]
    }
   ],
   "source": [
    "phifth = Fifth()"
   ]
  },
  {
   "cell_type": "code",
   "execution_count": 5,
   "metadata": {
    "collapsed": false
   },
   "outputs": [
    {
     "name": "stdout",
     "output_type": "stream",
     "text": [
      "something stupid\n"
     ]
    }
   ],
   "source": [
    "phorth.doSomething()"
   ]
  },
  {
   "cell_type": "code",
   "execution_count": 6,
   "metadata": {
    "collapsed": false
   },
   "outputs": [
    {
     "data": {
      "text/plain": [
       "1000"
      ]
     },
     "execution_count": 6,
     "metadata": {},
     "output_type": "execute_result"
    }
   ],
   "source": [
    "phorth.myGVal"
   ]
  },
  {
   "cell_type": "code",
   "execution_count": 7,
   "metadata": {
    "collapsed": false
   },
   "outputs": [
    {
     "name": "stdout",
     "output_type": "stream",
     "text": [
      "(<type 'exceptions.AttributeError'>, AttributeError(\"'Fourth' object has no attribute 'myIVal'\",))\n"
     ]
    }
   ],
   "source": [
    "try:\n",
    "    phorth.myIVal\n",
    "except Exception as ee:\n",
    "    print(type(ee), ee)"
   ]
  },
  {
   "cell_type": "code",
   "execution_count": 8,
   "metadata": {
    "collapsed": false
   },
   "outputs": [
    {
     "name": "stdout",
     "output_type": "stream",
     "text": [
      "third\n"
     ]
    }
   ],
   "source": [
    "turd = Third()"
   ]
  },
  {
   "cell_type": "code",
   "execution_count": 9,
   "metadata": {
    "collapsed": false
   },
   "outputs": [
    {
     "data": {
      "text/plain": [
       "13"
      ]
     },
     "execution_count": 9,
     "metadata": {},
     "output_type": "execute_result"
    }
   ],
   "source": [
    "turd.myIVal"
   ]
  },
  {
   "cell_type": "code",
   "execution_count": 10,
   "metadata": {
    "collapsed": false
   },
   "outputs": [
    {
     "data": {
      "text/plain": [
       "130"
      ]
     },
     "execution_count": 10,
     "metadata": {},
     "output_type": "execute_result"
    }
   ],
   "source": [
    "turd.changeIVal()\n",
    "turd.myIVal"
   ]
  },
  {
   "cell_type": "code",
   "execution_count": 11,
   "metadata": {
    "collapsed": false
   },
   "outputs": [
    {
     "name": "stdout",
     "output_type": "stream",
     "text": [
      "(<type 'exceptions.AttributeError'>, AttributeError(\"'Fourth' object has no attribute 'myIVal'\",))\n"
     ]
    }
   ],
   "source": [
    "try:\n",
    "    phorth.myIVal\n",
    "except Exception as ee:\n",
    "    print(type(ee), ee)"
   ]
  },
  {
   "cell_type": "code",
   "execution_count": 12,
   "metadata": {
    "collapsed": false
   },
   "outputs": [
    {
     "name": "stdout",
     "output_type": "stream",
     "text": [
      "(<type 'exceptions.AttributeError'>, AttributeError(\"'Fourth' object has no attribute 'myIVal'\",))\n"
     ]
    }
   ],
   "source": [
    "# not this side effect ... we inherit a method that now changes a global value\n",
    "# but we do not inherit the global value since it was not called inti __init__\n",
    "try:\n",
    "    phorth.changeIVal()\n",
    "except Exception as ee:\n",
    "    print(type(ee), ee)"
   ]
  },
  {
   "cell_type": "code",
   "execution_count": 13,
   "metadata": {
    "collapsed": false
   },
   "outputs": [
    {
     "data": {
      "text/plain": [
       "1000"
      ]
     },
     "execution_count": 13,
     "metadata": {},
     "output_type": "execute_result"
    }
   ],
   "source": [
    "turd.myGVal"
   ]
  },
  {
   "cell_type": "code",
   "execution_count": 14,
   "metadata": {
    "collapsed": false
   },
   "outputs": [
    {
     "name": "stdout",
     "output_type": "stream",
     "text": [
      "second\n"
     ]
    }
   ],
   "source": [
    "sekond = Second()"
   ]
  },
  {
   "cell_type": "code",
   "execution_count": 15,
   "metadata": {
    "collapsed": false
   },
   "outputs": [
    {
     "name": "stdout",
     "output_type": "stream",
     "text": [
      "Hello Mitch\n"
     ]
    }
   ],
   "source": [
    "sekond.greetMe(\"Mitch\")"
   ]
  },
  {
   "cell_type": "code",
   "execution_count": 16,
   "metadata": {
    "collapsed": false
   },
   "outputs": [
    {
     "name": "stdout",
     "output_type": "stream",
     "text": [
      "first\n"
     ]
    }
   ],
   "source": [
    "phurst = First()"
   ]
  },
  {
   "cell_type": "code",
   "execution_count": 17,
   "metadata": {
    "collapsed": false
   },
   "outputs": [
    {
     "name": "stdout",
     "output_type": "stream",
     "text": [
      "second\n",
      "third\n",
      "third\n",
      "second\n",
      "that's it - Welcome to Fourth!\n"
     ]
    }
   ],
   "source": [
    "anotherSekond = Second()\n",
    "anotherThird = Third()\n",
    "yetAnotherThird = Third()\n",
    "anotherFourth = Fourth()"
   ]
  },
  {
   "cell_type": "code",
   "execution_count": 18,
   "metadata": {
    "collapsed": false
   },
   "outputs": [
    {
     "name": "stdout",
     "output_type": "stream",
     "text": [
      "Object Counts:\n",
      "------------------------------------------------------------------------\n",
      "('phurst', 1)\n",
      "('sekond', 3)\n",
      "('anotherSekond', 4)\n",
      "('turd', 3)\n",
      "('phorth', 1)\n",
      "('phifth', 2)\n",
      "-------------------------\n",
      "('First', 1)\n",
      "('Second', 5)\n",
      "('Third', 3)\n",
      "('Fourth', 3)\n",
      "('Fifth', 3)\n"
     ]
    }
   ],
   "source": [
    "# look at the counts ...  Not really what we're after yet ...\n",
    "print(\"Object Counts:\")\n",
    "print(\"-\"*72)\n",
    "print(\"phurst\", phurst.objCount)\n",
    "print(\"sekond\", sekond.objCount)\n",
    "print(\"anotherSekond\", anotherSekond.objCount)\n",
    "print(\"turd\", turd.objCount)\n",
    "print(\"phorth\", phorth.objCount)\n",
    "print(\"phifth\", phifth.objCount)\n",
    "print(\"-------------------------\")\n",
    "print(\"First\", First.objCount)\n",
    "print(\"Second\", Second.objCount)\n",
    "print(\"Third\", Third.objCount)\n",
    "print(\"Fourth\", Fourth.objCount)\n",
    "print(\"Fifth\", Fifth.objCount)"
   ]
  },
  {
   "cell_type": "code",
   "execution_count": 19,
   "metadata": {
    "collapsed": false
   },
   "outputs": [
    {
     "name": "stdout",
     "output_type": "stream",
     "text": [
      "(<class '__main__.First'>, <type 'object'>)\n",
      "(<class '__main__.Second'>, <class '__main__.First'>, <type 'object'>)\n",
      "(<class '__main__.Third'>, <class '__main__.First'>, <type 'object'>)\n",
      "(<class '__main__.Fourth'>, <class '__main__.Second'>, <class '__main__.Third'>, <class '__main__.First'>, <type 'object'>)\n"
     ]
    }
   ],
   "source": [
    "# Method Resolution Order\n",
    "print(First.__mro__)\n",
    "print(Second.__mro__)\n",
    "print(Third.__mro__)\n",
    "print(Fourth.__mro__)   "
   ]
  },
  {
   "cell_type": "markdown",
   "metadata": {},
   "source": [
    "<a id=\"count\" name=\"count\"></a>\n",
    "### Counting Objects"
   ]
  },
  {
   "cell_type": "code",
   "execution_count": 20,
   "metadata": {
    "collapsed": true
   },
   "outputs": [],
   "source": [
    "# counting objects ...\n",
    "# what we're really after is the ability to track each child and get a total for all objects in the heirarchy\n",
    "# let's see if we can clean this up a bit ...\n",
    "\n",
    "class First(object):\n",
    "    objCount = 0\n",
    "    First.objCount = 0\n",
    "    def __init__(self):\n",
    "        print(\"first\")\n",
    "        self.objCount +=1\n",
    "        First.objCount +=1\n",
    "    def greetMe(self, name=\"Anonymous\"):\n",
    "        print(\"Hello %s\" %name)\n",
    "\n",
    "class Second(First):\n",
    "    objCount = 0\n",
    "    Second.objCount = 0\n",
    "    \n",
    "    def __init__(self):\n",
    "        print(\"second\")\n",
    "        self.objCount +=1  # note: if we used super() we would not need this line\n",
    "                           # this line should effect Second and Fourth instances based on \n",
    "                           # the inheritance implementation\n",
    "        Second.objCount +=1\n",
    "\n",
    "    def doSomething(self):\n",
    "        print(\"something stupid\")\n",
    "\n",
    "class Third(First):\n",
    "    myGVal = 1000\n",
    "    objCount = 0\n",
    "    Third.objCount = 0\n",
    "    \n",
    "    def __init__(self):\n",
    "        print(\"third\")\n",
    "        self.myIVal = 13\n",
    "        self.objCount +=1\n",
    "        Third.objCount +=1\n",
    "        \n",
    "    def changeIVal(self):\n",
    "        self.myIVal *=10\n",
    "\n",
    "class Fourth(Second, Third):\n",
    "    objCount = 0\n",
    "    Fourth.ojbCount = 0\n",
    "    \n",
    "    def __init__(self):\n",
    "        super(Fourth, self).__init__()\n",
    "        print(\"that's it - Welcome to Fourth!\")\n",
    "        Fourth.objCount +=1\n",
    "        Second.objCount -=1 # correct for accidental increment caused by inheritence\n",
    "        \n",
    "class Fifth(Second, Third):\n",
    "    # this also works ...\n",
    "    objCount = 0\n",
    "    Fifth.objCount = 0\n",
    "\n",
    "    def __init__(self):\n",
    "        Second.__init__(self)\n",
    "        print(\"that's it - Welcome to Fifth!\")\n",
    "        Fifth.objCount +=1\n",
    "        Second.objCount -=1 # correct for accidental increment caused by inheritence        "
   ]
  },
  {
   "cell_type": "code",
   "execution_count": 21,
   "metadata": {
    "collapsed": false
   },
   "outputs": [
    {
     "name": "stdout",
     "output_type": "stream",
     "text": [
      "first\n",
      "second\n",
      "second\n",
      "third\n",
      "third\n",
      "third\n",
      "third\n",
      "second\n",
      "that's it - Welcome to Fourth!\n",
      "second\n",
      "that's it - Welcome to Fourth!\n",
      "second\n",
      "that's it - Welcome to Fifth!\n",
      "second\n",
      "that's it - Welcome to Fifth!\n",
      "second\n",
      "that's it - Welcome to Fifth!\n"
     ]
    }
   ],
   "source": [
    "# make some objects\n",
    "phirst = First()\n",
    "sekond = Second()\n",
    "sekond2 = Second()\n",
    "turd = Third()\n",
    "thoid2 = Third()\n",
    "thoid3 = Third()\n",
    "thoid4 = Third()\n",
    "phorth = Fourth()\n",
    "phorth2 = Fourth()\n",
    "phifth = Fifth()\n",
    "Phifth2 = Fifth()\n",
    "Phifth3 = Fifth()"
   ]
  },
  {
   "cell_type": "code",
   "execution_count": 22,
   "metadata": {
    "collapsed": false
   },
   "outputs": [
    {
     "name": "stdout",
     "output_type": "stream",
     "text": [
      "phirst: 1\n",
      "sekond: 1\n",
      "sekond2: 2\n",
      "turd: 1\n",
      "thoid2: 2\n",
      "thoid3: 3\n",
      "thoid4: 4\n",
      "phorth: 1\n",
      "phorth2: 2\n",
      "phifth: 1\n",
      "Phifth2: 2\n",
      "Phifth3: 3\n"
     ]
    }
   ],
   "source": [
    "# Instance object counts\n",
    "print(\"phirst: %s\" %phirst.objCount)\n",
    "print(\"sekond: %s\" %sekond.objCount)\n",
    "print(\"sekond2: %s\" %sekond2.objCount)\n",
    "print(\"turd: %s\" %turd.objCount)\n",
    "print(\"thoid2: %s\" %thoid2.objCount)\n",
    "print(\"thoid3: %s\" %thoid3.objCount)\n",
    "print(\"thoid4: %s\" %thoid4.objCount)\n",
    "print(\"phorth: %s\" %phorth.objCount)\n",
    "print(\"phorth2: %s\" %phorth2.objCount)\n",
    "print(\"phifth: %s\" %phifth.objCount)\n",
    "print(\"Phifth2: %s\" %Phifth2.objCount)\n",
    "print(\"Phifth3: %s\" %Phifth3.objCount)"
   ]
  },
  {
   "cell_type": "code",
   "execution_count": 23,
   "metadata": {
    "collapsed": false
   },
   "outputs": [
    {
     "name": "stdout",
     "output_type": "stream",
     "text": [
      "First(): 1\n",
      "Second(): 2\n",
      "Third(): 4\n",
      "Fourth(): 2\n",
      "Fifth(): 3\n"
     ]
    }
   ],
   "source": [
    "# Counts for the whole class:\n",
    "print(\"First(): %s\" %First.objCount)\n",
    "print(\"Second(): %s\" %Second.objCount)\n",
    "print(\"Third(): %s\" %Third.objCount)\n",
    "print(\"Fourth(): %s\" %Fourth.objCount)\n",
    "print(\"Fifth(): %s\" %Fifth.objCount)"
   ]
  },
  {
   "cell_type": "code",
   "execution_count": 24,
   "metadata": {
    "collapsed": false
   },
   "outputs": [
    {
     "name": "stdout",
     "output_type": "stream",
     "text": [
      "first\n",
      "phirst: 1\n",
      "foist2: 2\n",
      "First(): 2\n"
     ]
    }
   ],
   "source": [
    "foist2 = First()\n",
    "print(\"phirst: %s\" %phirst.objCount)\n",
    "print(\"foist2: %s\" %foist2.objCount)\n",
    "print(\"First(): %s\" %First.objCount)"
   ]
  },
  {
   "cell_type": "markdown",
   "metadata": {},
   "source": [
    "<a id=\"override\" name=\"override\"></a>\n",
    "### Over-riding Python Built-in Functions and Operators"
   ]
  },
  {
   "cell_type": "code",
   "execution_count": 1,
   "metadata": {
    "collapsed": true
   },
   "outputs": [],
   "source": [
    "# Object for Coordinates of x and y\n",
    "# uses over-rides to python language methods and operators\n",
    "\n",
    "# note:  Pythons does not typicall use getter and setter methods\n",
    "#        Instead, note how we access x and y in next cells ...\n",
    "\n",
    "class Coordinate(object):\n",
    "    def __init__(self, x1, y1):\n",
    "        self.x = x1\n",
    "        self.y = y1\n",
    "        \n",
    "    def __str__(self):\n",
    "        return \"<%s,%s>\" %(self.x, self.y) # this format approach prserves original full value\n",
    "                                           # regardless if it is float or int\n",
    "\n",
    "    def __eq__(self, otherCoordinate):\n",
    "        if self.x == otherCoordinate.x and self.y == otherCoordinate.y:\n",
    "            return True\n",
    "        else:\n",
    "            return False\n",
    "        \n",
    "    def __add__(self, otherCoordinate):\n",
    "        return Coordinate(self.x + otherCoordinate.x, self.y + otherCoordinate.y)"
   ]
  },
  {
   "cell_type": "code",
   "execution_count": 2,
   "metadata": {
    "collapsed": false
   },
   "outputs": [
    {
     "name": "stdout",
     "output_type": "stream",
     "text": [
      "coor1: <2,3>\n",
      "coor2: <-5,15>\n",
      "coor3: <-3,18>\n",
      "<class '__main__.Coordinate'>\n",
      "True\n",
      "-3\n",
      "18\n",
      "<-3,18>\n",
      "------------------------------------------------------------------------\n",
      "coor4: <-3,18>\n",
      "<class '__main__.Coordinate'>\n",
      "True\n",
      "-3\n",
      "18\n",
      "coor3 == coor4: True\n",
      "coor2 == coor4: False\n"
     ]
    }
   ],
   "source": [
    "coor1 = Coordinate(2, 3)\n",
    "print(\"coor1: %s\" %coor1)\n",
    "coor2 = Coordinate(-5, 15)\n",
    "print(\"coor2: %s\" %coor2)\n",
    "coor3 = coor1.__add__(coor2)\n",
    "print(\"coor3: %s\" %coor3)\n",
    "print(type(coor3)) # Coordinate\n",
    "print(isinstance(coor3, Coordinate)) # True\n",
    "print(coor3.x) # -3\n",
    "print(coor3.y) # 18\n",
    "print(coor3)   # <-3,18>\n",
    "print(\"-\"*72)\n",
    "coor4 = coor1 + coor2\n",
    "print(\"coor4: %s\" %coor4)   # <-3,18>\n",
    "print(type(coor4)) # Coordinate\n",
    "print(isinstance(coor4, Coordinate)) # True\n",
    "print(coor4.x) # -3\n",
    "print(coor4.y) # 18\n",
    "print(\"coor3 == coor4: %s\" %(coor3 == coor4))\n",
    "print(\"coor2 == coor4: %s\" %(coor2 == coor4))"
   ]
  },
  {
   "cell_type": "markdown",
   "metadata": {},
   "source": [
    "<a id=\"staticF\" name=\"staticF\"></a>\n",
    "## A Static Class of Functions"
   ]
  },
  {
   "cell_type": "code",
   "execution_count": 4,
   "metadata": {
    "collapsed": false
   },
   "outputs": [
    {
     "name": "stdout",
     "output_type": "stream",
     "text": [
      "<type 'instancemethod'>\n",
      "<type 'instancemethod'>\n"
     ]
    }
   ],
   "source": [
    "# Under Python 2.7, both type() tests produce identical output that looks like this:\n",
    "#    <type 'instancemethod'>\n",
    "\n",
    "class Foo(object):\n",
    "    # code modified slightly from this post: \n",
    "    #   http://stackoverflow.com/questions/37370578/different-way-to-create-an-instance-method-object-in-python\n",
    "    def method(self):\n",
    "        print(\"Foo Method Works!\")\n",
    "f = Foo()\n",
    "print(type(f.method))\n",
    "print(type(Foo.method))"
   ]
  },
  {
   "cell_type": "code",
   "execution_count": 1,
   "metadata": {
    "collapsed": false
   },
   "outputs": [
    {
     "name": "stdout",
     "output_type": "stream",
     "text": [
      "<class 'method'>\n",
      "<class 'function'>\n"
     ]
    }
   ],
   "source": [
    "# Under Python 3.6, the two type tests now produce diferent output that looks like this:\n",
    "#     <class 'method'>\n",
    "#     <class 'function'>\n",
    "\n",
    "class Foo(object):\n",
    "    # code modified slightly from this post: \n",
    "    #   http://stackoverflow.com/questions/37370578/different-way-to-create-an-instance-method-object-in-python\n",
    "    def method(self):\n",
    "        print(\"Foo Method Works!\")\n",
    "f = Foo()\n",
    "print(type(f.method))\n",
    "print(type(Foo.method))"
   ]
  },
  {
   "cell_type": "code",
   "execution_count": 2,
   "metadata": {
    "collapsed": false
   },
   "outputs": [
    {
     "name": "stdout",
     "output_type": "stream",
     "text": [
      "<bound method Foo.method of <__main__.Foo object at 0x0000000004711D68>>\n",
      "True\n",
      "True\n"
     ]
    }
   ],
   "source": [
    "# Tested in Python 3.6 and Python 2.7 (worked with both)\n",
    "# Intended to just practice and demo some concepts ... not what we do in real world to get this output\n",
    "outLst = [0, 0, 0]\n",
    "outLst[0] = instance_method = f.method\n",
    "outLst[1] = instance_method.__func__ is Foo.method\n",
    "outLst[2] = instance_method.__self__ is f\n",
    "\n",
    "outLst2 = [(str(elem) + \"\\n\") for elem in outLst]  # converts all to string and adds \\n to end\n",
    "for elem in outLst2:\n",
    "    print(elem[:-1])  # index refereence strips off \\n on end since print() will add newline anyway"
   ]
  },
  {
   "cell_type": "code",
   "execution_count": 3,
   "metadata": {
    "collapsed": false
   },
   "outputs": [
    {
     "name": "stdout",
     "output_type": "stream",
     "text": [
      "Foo Method Works!\n",
      "Foo Method Works!\n"
     ]
    }
   ],
   "source": [
    "# Tested in Python 3.6\n",
    "# both lines produce:  \"Foo Method Works!\"\n",
    "try:\n",
    "    # try-except added because of tests shown in next cell ...\n",
    "    Foo.method(Foo)  # requires us to pass in self as the class in order to work in Python 3.6\n",
    "except Exception as ee:\n",
    "    print(type(ee))\n",
    "    print(ee)\n",
    "f.method()       # just works"
   ]
  },
  {
   "cell_type": "code",
   "execution_count": 5,
   "metadata": {
    "collapsed": false
   },
   "outputs": [
    {
     "name": "stdout",
     "output_type": "stream",
     "text": [
      "<type 'exceptions.TypeError'>\n",
      "unbound method method() must be called with Foo instance as first argument (got type instance instead)\n",
      "Foo Method Works!\n"
     ]
    }
   ],
   "source": [
    "# Tested in Python 2.7\n",
    "''' output from python 2.7 test:\n",
    "\n",
    "<type 'exceptions.TypeError'>\n",
    "unbound method method() must be called with Foo instance as first argument (got type instance instead)\n",
    "Foo Method Works!\n",
    "'''\n",
    "try:\n",
    "    # ran into trouble in Python 2.7 ... so this code captures the error when run in that version\n",
    "    Foo.method(Foo)  # requires us to pass in self as the class in order to work in PY3.6, but 2.7 still has problems\n",
    "except Exception as ee:\n",
    "    print(type(ee))\n",
    "    print(ee)\n",
    "f.method()       # just works"
   ]
  },
  {
   "cell_type": "code",
   "execution_count": 6,
   "metadata": {
    "collapsed": false
   },
   "outputs": [
    {
     "name": "stdout",
     "output_type": "stream",
     "text": [
      "Foo Method Works!\n"
     ]
    }
   ],
   "source": [
    "# Tested in Python 2.7 and 3.6\n",
    "# making the static call work in Python 2.7 seems to require creating an instance first\n",
    "\n",
    "Foo.method(f)"
   ]
  },
  {
   "cell_type": "code",
   "execution_count": 6,
   "metadata": {
    "collapsed": true
   },
   "outputs": [],
   "source": [
    "# tested in Python 3.6 and Python 2.7 (tests in next cells)\n",
    "\n",
    "class GetDeclaredName(object):\n",
    "    '''Get Name of Variable or Function Passed Into Object. Use inside methods to identify what got passed in via args.'''\n",
    "    def name_of_declaredEement(self, value):\n",
    "        ''' name_of_declaredElement -->\\n\\nreturns name of declared element (variable or function) passed into it.'''\n",
    "        # code first appeared on StackOverflow in this posting:  http://stackoverflow.com/a/1538399/7525365\n",
    "        for n,v in globals().items():\n",
    "            if v == value:\n",
    "                return n\n",
    "        return None"
   ]
  },
  {
   "cell_type": "code",
   "execution_count": 7,
   "metadata": {
    "collapsed": false
   },
   "outputs": [
    {
     "name": "stdout",
     "output_type": "stream",
     "text": [
      "<type 'exceptions.TypeError'>\n",
      "unbound method name_of_declaredEement() must be called with GetDeclaredName instance as first argument (got type instance instead)\n"
     ]
    }
   ],
   "source": [
    "#Tested in Python 3.6 and Python 2.7\n",
    "gdn = GetDeclaredName()\n",
    "lst = [1,2,3]\n",
    "try:\n",
    "    print(GetDeclaredName.name_of_declaredEement(GetDeclaredName, lst)) # will throw error in Python 2.7\n",
    "except Exception as ee:                                                 # works in Python 3.6\n",
    "    print(type(ee))\n",
    "    print(ee)"
   ]
  },
  {
   "cell_type": "code",
   "execution_count": 8,
   "metadata": {
    "collapsed": false
   },
   "outputs": [
    {
     "name": "stdout",
     "output_type": "stream",
     "text": [
      "<type 'exceptions.TypeError'>\n",
      "unbound method name_of_declaredEement() must be called with GetDeclaredName instance as first argument (got type instance instead)\n",
      "<type 'exceptions.AttributeError'>\n",
      "'int' object has no attribute 'x'\n",
      "lst\n",
      "coor3.x exists and has this value: -3\n"
     ]
    }
   ],
   "source": [
    "# more tests in both versions of Python\n",
    "\n",
    "try:\n",
    "    # function does not like objects or their attributes (variables) - fails in Python 2.7 and 3.6\n",
    "    print(GetDeclaredName.name_of_declaredEement(GetDeclaredName, coor3)) \n",
    "except Exception as ee:\n",
    "    print(type(ee))\n",
    "    print(ee)\n",
    "\n",
    "try:\n",
    "    # function does not like objects or their attributes (variables) - fails in Python 2.7 and 3.6\n",
    "    print(GetDeclaredName.name_of_declaredEement(gdn, coor3.x))\n",
    "except Exception as ee:\n",
    "    print(type(ee))\n",
    "    print(ee)\n",
    "\n",
    "try:\n",
    "    print(GetDeclaredName.name_of_declaredEement(gdn, lst))  # this works in Python 2.7 and throws error in Python 3.6  \n",
    "except Exception as ee:\n",
    "    print(type(ee))\n",
    "    print(ee)\n",
    "\n",
    "print(\"coor3.x exists and has this value: %d\" %coor3.x)"
   ]
  },
  {
   "cell_type": "code",
   "execution_count": null,
   "metadata": {
    "collapsed": true
   },
   "outputs": [],
   "source": []
  },
  {
   "cell_type": "markdown",
   "metadata": {
    "collapsed": true
   },
   "source": [
    "<a id=\"research\" name=\"research\"></a>\n",
    "## Research, Reference, and Training Links\n",
    "These links are to research and help topics that relate to object code, and in some cases, topics used to create examples in this notebook.\n",
    "\n",
    "- [Learn Python the Hard Way](https://learnpythonthehardway.org/)\n",
    " - [Learn Python the Hard Way:  Ex40:  Object Code](https://learnpythonthehardway.org/book/ex40.html)\n",
    " - [Learn Python the Hard Way:  Ex44:  Obj Inheritance](https://learnpythonthehardway.org/book/ex44.html)\n",
    "- [Python Method Resolution Order](http://python-history.blogspot.com/2010/06/method-resolution-order.html)\n",
    "- [Return to Top:  More links at start of first section](#inheritance)"
   ]
  },
  {
   "cell_type": "code",
   "execution_count": null,
   "metadata": {
    "collapsed": true
   },
   "outputs": [],
   "source": []
  }
 ],
 "metadata": {
  "anaconda-cloud": {},
  "kernelspec": {
   "display_name": "Python [conda env:PY27_Test]",
   "language": "python",
   "name": "conda-env-PY27_Test-py"
  },
  "language_info": {
   "codemirror_mode": {
    "name": "ipython",
    "version": 2
   },
   "file_extension": ".py",
   "mimetype": "text/x-python",
   "name": "python",
   "nbconvert_exporter": "python",
   "pygments_lexer": "ipython2",
   "version": "2.7.13"
  }
 },
 "nbformat": 4,
 "nbformat_minor": 2
}
