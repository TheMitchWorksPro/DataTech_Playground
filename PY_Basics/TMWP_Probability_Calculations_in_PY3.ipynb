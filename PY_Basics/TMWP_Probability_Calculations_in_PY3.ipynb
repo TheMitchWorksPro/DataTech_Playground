{
 "cells": [
  {
   "cell_type": "markdown",
   "metadata": {},
   "source": [
    "<div align=\"right\">Python 3.6 [conda env: PY36]</div>\n",
    "\n",
    "# Resources To Help With Probability in Python\n",
    "These resources were found on the web with respect to probabilistic programming in Python:\n",
    "- http://blog.fastforwardlabs.com/2017/07/06/probabilistic-programming-from-scratch.html)"
   ]
  }
 ],
 "metadata": {
  "kernelspec": {
   "display_name": "Python 3",
   "language": "python",
   "name": "python3"
  },
  "language_info": {
   "codemirror_mode": {
    "name": "ipython",
    "version": 3
   },
   "file_extension": ".py",
   "mimetype": "text/x-python",
   "name": "python",
   "nbconvert_exporter": "python",
   "pygments_lexer": "ipython3",
   "version": "3.6.1"
  }
 },
 "nbformat": 4,
 "nbformat_minor": 2
}
