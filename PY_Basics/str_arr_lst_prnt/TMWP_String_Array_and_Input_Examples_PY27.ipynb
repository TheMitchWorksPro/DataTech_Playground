{
 "cells": [
  {
   "cell_type": "markdown",
   "metadata": {},
   "source": [
    "<div align=\"left\">String and Array Formatting and Manipulation</div><div align=\"right\">Python [conda root] v2.7</div>"
   ]
  },
  {
   "cell_type": "code",
   "execution_count": 11,
   "metadata": {
    "collapsed": false
   },
   "outputs": [
    {
     "name": "stdout",
     "output_type": "stream",
     "text": [
      "Initial Caps Version - my quotation string:\n",
      "     'Do Not Go Gentle Into That Good Night.  Rage, Rage Against The Dying Of The Light.'\n"
     ]
    }
   ],
   "source": [
    "my_quotation_for_manipulation = \"Do not go gentle into that good night.  Rage, rage against the dying of the light.\"\n",
    "author = \"Dylan Thomas\"\n",
    "\n",
    "def initialCaps_anyString(myString):    \n",
    "    textList = myString.split(\" \")\n",
    "    myString = \"\"\n",
    "    \n",
    "    for i in range(len(textList)):\n",
    "        textList[i] = textList[i].capitalize()\n",
    "        myString = myString + textList[i] + ' '\n",
    "        # i =+ 1\n",
    "    \n",
    "    # instead of if statemet to not add ' ' if last character, we simply remove it when done\n",
    "    myString = myString[:-1]\n",
    "    \n",
    "    return myString\n",
    "\n",
    "initial_caps_quotation = initialCaps_anyString(my_quotation_for_manipulation)\n",
    "print(\"Initial Caps Version - my quotation string:\\n     '%s'\" %(initial_caps_quotation))\n",
    "\n",
    "# notes from StackOverflow when earlier cut of this code was not working:\n",
    "#   Len won't yield the total number of objects in a nested list (including multidimensional lists).\n",
    "#   but len() will tell you the elements in string after you split it\n",
    "#   If you have numpy, use size(). Otherwise use list comprehensions within recursion."
   ]
  },
  {
   "cell_type": "code",
   "execution_count": 12,
   "metadata": {
    "collapsed": false
   },
   "outputs": [
    {
     "data": {
      "text/plain": [
       "'Do Not Go Gentle Into That Good Night.  Rage, Rage Against The Dying Of The Light.'"
      ]
     },
     "execution_count": 12,
     "metadata": {},
     "output_type": "execute_result"
    }
   ],
   "source": [
    "# this does same thing as above function:\n",
    "initial_caps_quotation.title()"
   ]
  },
  {
   "cell_type": "code",
   "execution_count": 2,
   "metadata": {
    "collapsed": false
   },
   "outputs": [
    {
     "name": "stdout",
     "output_type": "stream",
     "text": [
      "Assistant Director - Solution Specialist\n"
     ]
    }
   ],
   "source": [
    "job_title_string = \"ASSISTANT DIRECTOR - SOLUTION SPECIALIST\"\n",
    "print(initialCaps_anyString(job_title_string))"
   ]
  },
  {
   "cell_type": "code",
   "execution_count": 33,
   "metadata": {
    "collapsed": false
   },
   "outputs": [
    {
     "name": "stdout",
     "output_type": "stream",
     "text": [
      "Say Something very Stupid\n",
      "Say Something very Stupid\n",
      "Say Stupid very Something\n",
      "Say Something very Stupid that costs $748.44 of my time.\n",
      "Say Something very Stupid that costs $7.43988 of my time.\n",
      "Say Something very Stupid that costs $7.439876 of my time.\n"
     ]
    }
   ],
   "source": [
    "# print \"Some text {:g2} more text {0}\" .format(myvariable1, mybariable2)\n",
    "# numers just set order on passing variables in and optional if you write code in sequence\n",
    "# :2g = formatter for floating point and 2 would set number of decimals\n",
    "# but look at these examples below ... (tried f on a lark by things seen somewhere else)\n",
    "\n",
    "myVariable1 = \"Something\"\n",
    "myVariable2 = \"Stupid\"\n",
    "myNumber = 748.43987612543\n",
    "myOtherNumber = 7.43987612543\n",
    "\n",
    "print \"Say {} very {}\".format(myVariable1, myVariable2)\n",
    "print \"Say {0} very {1}\".format(myVariable1, myVariable2)\n",
    "print \"Say {1} very {0}\".format(myVariable1, myVariable2)\n",
    "print \"Say {} very {} that costs ${:2g} of my time.\".format(myVariable1, myVariable2, myNumber)\n",
    "print \"Say {} very {} that costs ${:2g} of my time.\".format(myVariable1, myVariable2, myOtherNumber)\n",
    "print \"Say {} very {} that costs ${:2f} of my time.\".format(myVariable1, myVariable2, myOtherNumber)\n"
   ]
  },
  {
   "cell_type": "code",
   "execution_count": 34,
   "metadata": {
    "collapsed": false
   },
   "outputs": [
    {
     "name": "stdout",
     "output_type": "stream",
     "text": [
      " .3f:  Say Something very Stupid that costs $7.440 of my time.\n",
      " .2f:  Say Something very Stupid that costs $7.44 of my time.\n",
      " .2g:  Say Something very Stupid that costs $7.4 of my time.\n",
      "  2f:  Say Something very Stupid that costs $7.439876 of my time.\n",
      "  2g:  Say Something very Stupid that costs $7.43988 of my time.\n",
      "    :  Say Something very Stupid that costs $7.43987612543 of my time.\n"
     ]
    }
   ],
   "source": [
    "# continuing with above variables\n",
    "# References:\n",
    "#             https://pyformat.info/\n",
    "#             http://stackoverflow.com/questions/1742937/convert-float-to-string-with-cutting-zero-decimals-afer-point-in-python\n",
    "\n",
    "print \" .3f:  Say {} very {} that costs ${:.3f} of my time.\".format(myVariable1, myVariable2, myOtherNumber)\n",
    "print \" .2f:  Say {} very {} that costs ${:.2f} of my time.\".format(myVariable1, myVariable2, myOtherNumber)\n",
    "print \" .2g:  Say {} very {} that costs ${:.2g} of my time.\".format(myVariable1, myVariable2, myOtherNumber)\n",
    "print \"  2f:  Say {} very {} that costs ${:2f} of my time.\".format(myVariable1, myVariable2, myOtherNumber)\n",
    "print \"  2g:  Say {} very {} that costs ${:2g} of my time.\".format(myVariable1, myVariable2, myOtherNumber)\n",
    "print \"    :  Say {} very {} that costs ${} of my time.\".format(myVariable1, myVariable2, myOtherNumber)"
   ]
  },
  {
   "cell_type": "code",
   "execution_count": 35,
   "metadata": {
    "collapsed": false
   },
   "outputs": [
    {
     "name": "stdout",
     "output_type": "stream",
     "text": [
      "Warning:  Use of \\%r returns 'raw' version of the content.  \n",
      "This is not always a good thing.\n",
      "Test of percent r: 'something stupid'\n",
      "Test of percent r: 415\n",
      "Test of percent r: -8.143\n",
      "\n",
      "Working With The Approximate number -8\n",
      "Working With The Exact number -8.143\n",
      "Rounding The Number -8.143\n",
      "-8.0\n",
      "-8.14\n"
     ]
    }
   ],
   "source": [
    "# source: https://learnpythonthehardway.org/book/ex5.html\n",
    "# something to try:  %r should print anything no matter what? (at least in Python 2.7)\n",
    "xNum = 415\n",
    "yNum = -8.143\n",
    "\n",
    "print \"Warning:  Use of \\%r returns 'raw' version of the content.  \\nThis is not always a good thing.\"\n",
    "print \"Test of percent r: %r\" % (\"something stupid\")\n",
    "print \"Test of percent r: %r\" % (xNum)\n",
    "print \"Test of percent r: %r\" % (yNum)\n",
    "\n",
    "print \"\\nWorking With The Approximate number %d\" % (yNum)\n",
    "print \"Working With The Exact number %s\" % str(yNum)\n",
    "print \"Rounding The Number {:.3f}\".format(yNum)\n",
    "print round(yNum)\n",
    "print round(yNum, 2)"
   ]
  },
  {
   "cell_type": "code",
   "execution_count": 26,
   "metadata": {
    "collapsed": false
   },
   "outputs": [
    {
     "name": "stdout",
     "output_type": "stream",
     "text": [
      "my content ... more of my content\n",
      "\n",
      "Going to attempt a multi-line print statement but pass in a numeric variable.\n",
      "This print statement uses the multi-line syntax combined with percent-d to get this variable: 777\n"
     ]
    }
   ],
   "source": [
    "# comma on end of print statement keeps it from outputting the \\n\n",
    "print \"my content ...\",\n",
    "print \"more of my content\\n\"\n",
    "\n",
    "someVariable = 777\n",
    "\n",
    "# \\ continues on next line when it is the last character for the line\n",
    "# otherwise, this is the escape character\n",
    "\n",
    "print '''\\\n",
    "Going to attempt a multi-line print statement but pass in a numeric variable.\n",
    "This print statement uses the multi-line syntax combined with percent-d to get this variable: %d''' % someVariable\n"
   ]
  },
  {
   "cell_type": "code",
   "execution_count": 14,
   "metadata": {
    "collapsed": false
   },
   "outputs": [
    {
     "data": {
      "text/plain": [
       "1"
      ]
     },
     "execution_count": 14,
     "metadata": {},
     "output_type": "execute_result"
    }
   ],
   "source": [
    "mySimpleArray = [1, 3, 45, 100, 1200, 798]\n",
    "mySimpleArray[0]"
   ]
  },
  {
   "cell_type": "code",
   "execution_count": 15,
   "metadata": {
    "collapsed": false
   },
   "outputs": [
    {
     "data": {
      "text/plain": [
       "[3, 45]"
      ]
     },
     "execution_count": 15,
     "metadata": {},
     "output_type": "execute_result"
    }
   ],
   "source": [
    "# 1 upto index 3 - so only returns 2 elements\n",
    "mySimpleArray[1:3]"
   ]
  },
  {
   "cell_type": "code",
   "execution_count": 16,
   "metadata": {
    "collapsed": false
   },
   "outputs": [
    {
     "name": "stdout",
     "output_type": "stream",
     "text": [
      "[1, 3, 45, 100, 1200, 798]\n",
      "   [3, 45, 100, 1200, 798]\n"
     ]
    }
   ],
   "source": [
    "# slices from 1 to the end (skip index zero)\n",
    "print(mySimpleArray)\n",
    "print(\"   %s\" %mySimpleArray[1:])"
   ]
  },
  {
   "cell_type": "code",
   "execution_count": 19,
   "metadata": {
    "collapsed": false
   },
   "outputs": [
    {
     "name": "stdout",
     "output_type": "stream",
     "text": [
      "[1, 3, 45, 100, 1200, 798]\n",
      "                     [798]\n"
     ]
    }
   ],
   "source": [
    "# slices from the last character to the end (which is just one character in this case)\n",
    "print(mySimpleArray)\n",
    "print((\" \"*20 + \" %s\") %mySimpleArray[-1:])"
   ]
  },
  {
   "cell_type": "code",
   "execution_count": 24,
   "metadata": {
    "collapsed": false
   },
   "outputs": [
    {
     "name": "stdout",
     "output_type": "stream",
     "text": [
      "[1, 3, 45, 100, 1200, 798]\n",
      "                      798\n",
      "               [100, 1200]\n",
      "          [100, 1200, 798]\n"
     ]
    }
   ],
   "source": [
    "# moving backwardsthrough the array\n",
    "print(mySimpleArray)\n",
    "print((\" \"*22 + \"%s\") %mySimpleArray[-1])\n",
    "print((\" \"*15 + \"%s\") %mySimpleArray[-3:-1])\n",
    "print((\" \"*10 + \"%s\") %mySimpleArray[-3:])"
   ]
  },
  {
   "cell_type": "code",
   "execution_count": 10,
   "metadata": {
    "collapsed": false
   },
   "outputs": [
    {
     "name": "stdout",
     "output_type": "stream",
     "text": [
      "Enter your name (input): Mitch was here\n",
      "Mitch was here\n"
     ]
    }
   ],
   "source": [
    "# this is Python 2.7 sytax only.  In Python 3, the command is input()\n",
    "\n",
    "yourname = raw_input('Enter your name (input): ')\n",
    "print(yourname)"
   ]
  },
  {
   "cell_type": "code",
   "execution_count": 26,
   "metadata": {
    "collapsed": false
   },
   "outputs": [
    {
     "name": "stdout",
     "output_type": "stream",
     "text": [
      "seq: ['b', 'b', 'c']\n",
      "seq2: (a, b, c)\n",
      "seq3: (a, b, c)\n",
      "-----------------------\n",
      "seq before .pop():\n",
      "['b', 'b', 'c']\n",
      "seq after .pop():\n",
      "['b', 'b']\n",
      "more changes to seq:\n",
      "['a', 'b', 'b', 'c', 'd', 'e', 'f', 'h']\n",
      ".pop(2) from seq:\n",
      "['a', 'b', 'c', 'd', 'e', 'f', 'h']\n"
     ]
    }
   ],
   "source": [
    "# tupple versus list syntax - if second line is commented out, that means error was thrown and tupple was confirmed\n",
    "\n",
    "# list:\n",
    "seq = [\"a\", \"b\", \"c\"]\n",
    "seq[0] = \"b\"\n",
    "\n",
    "# tupple\n",
    "seq2 = (\"a\", \"b\", \"c\")\n",
    "# seq2[0] = \"b\"        # throws error / can't modify tuple\n",
    "\n",
    "# tupple\n",
    "seq3 = \"a\", \"b\", \"c\"\n",
    "# seq3[0] = \"b\"\n",
    "# seq3.pop           # throws error / can't modify tuple\n",
    "\n",
    "print(\"seq: %s\" %seq)\n",
    "print(\"seq2: (%s, %s, %s)\" %seq2)  # note: see related sample cells that follow this one\n",
    "print(\"seq3: (%s, %s, %s)\" %seq3) \n",
    "\n",
    "print(\"-----------------------\")\n",
    "print(\"seq before .pop():\")\n",
    "print(seq)\n",
    "seq.pop()\n",
    "print(\"seq after .pop():\")\n",
    "print(seq)\n",
    "print(\"more changes to seq:\")\n",
    "seq = [\"a\"] + seq + [\"c\", \"d\", \"e\", \"f\"]\n",
    "seq.append(\"h\")      # appends one value at a time (pass in list and it becomes sublist)\n",
    "print(seq)\n",
    "print(\".pop(2) from seq:\")\n",
    "seq.pop(2)\n",
    "print(seq)"
   ]
  },
  {
   "cell_type": "code",
   "execution_count": 17,
   "metadata": {
    "collapsed": false
   },
   "outputs": [
    {
     "data": {
      "text/plain": [
       "('a', 'b', 'c')"
      ]
     },
     "execution_count": 17,
     "metadata": {},
     "output_type": "execute_result"
    }
   ],
   "source": [
    "# note how this is stored / output\n",
    "# and yet - it required the different approach to printing in previous cell or it threw an error\n",
    "seq2"
   ]
  },
  {
   "cell_type": "code",
   "execution_count": 27,
   "metadata": {
    "collapsed": false
   },
   "outputs": [
    {
     "data": {
      "text/plain": [
       "('a', 'b', 'c')"
      ]
     },
     "execution_count": 27,
     "metadata": {},
     "output_type": "execute_result"
    }
   ],
   "source": [
    "# same as previous example\n",
    "seq3"
   ]
  },
  {
   "cell_type": "code",
   "execution_count": 31,
   "metadata": {
    "collapsed": false
   },
   "outputs": [
    {
     "name": "stdout",
     "output_type": "stream",
     "text": [
      "seq3: [('a', 'b', 'c')]\n"
     ]
    }
   ],
   "source": [
    "# workaround:\n",
    "print(\"seq3: %s\" %[seq3])"
   ]
  },
  {
   "cell_type": "code",
   "execution_count": 32,
   "metadata": {
    "collapsed": false
   },
   "outputs": [
    {
     "name": "stdout",
     "output_type": "stream",
     "text": [
      "HERE IS SOME TEXT.\n"
     ]
    }
   ],
   "source": [
    "myStr = \"here is some text.\"\n",
    "print myStr.upper()"
   ]
  },
  {
   "cell_type": "code",
   "execution_count": 33,
   "metadata": {
    "collapsed": false
   },
   "outputs": [
    {
     "name": "stdout",
     "output_type": "stream",
     "text": [
      "something stupid\n",
      "... and something even more stupid\n",
      "\n",
      "something stupid... and something even more stupid\n",
      "\n",
      "something_stupid_and_..._something_even_more_stupid\n",
      "say something stupid 3 times.\n",
      "something_stupid_and_..._something_even_more_stupid than that times 3!\n"
     ]
    },
    {
     "name": "stderr",
     "output_type": "stream",
     "text": [
      "Arg 10 does not exist.\n",
      "Warning: Arg 10_does_not_exist.\n"
     ]
    }
   ],
   "source": [
    "from __future__ import print_function\n",
    "# in python file - this must come first!  but in Jupyter/iPython we can get away with this\n",
    "# this line does nothing in Python 3.x, it is used in Python 2.7 to make print work like Python 3.x\n",
    "\n",
    "print(\"something stupid\")\n",
    "print(\"... and something even more stupid\")\n",
    "print(\"\")\n",
    "\n",
    "print(\"something stupid\", end=\"\")\n",
    "print(\"... and something even more stupid\")\n",
    "print(\"\")\n",
    "\n",
    "# note:  cannot use sep and end in same code.  But this illustrates sep better:\n",
    "# Not supported:  \n",
    "#    print(\"something\", \"stupid\", \"and\", \"...\", \"something\", \"even\", \"more\", \"stupid %s\", sep=\"_\") % (\"than that\")\n",
    "print(\"something\", \"stupid\", \"and\", \"...\", \"something\", \"even\", \"more\", \"stupid\", sep=\"_\")\n",
    "\n",
    "# basic print test:\n",
    "print(\"%s %s %s %d times.\" % (\"say\", \"something\", \"stupid\", 3))\n",
    "\n",
    "# combining concepts:\n",
    "print(\"something\", \"stupid\", \"and\", \"...\", \"something\", \"even\", \"more\", \"stupid %s times %d!\" % (\"than that\", 3), sep=\"_\")\n",
    "\n",
    "# copied from code file that used i in it - stderr example:\n",
    "# i value dummied up to show this test:\n",
    "\n",
    "from sys import stderr\n",
    "i = 10\n",
    "print(\"Arg %d does not exist.\" %(i), file=stderr)\n",
    "print(\"Warning: Arg %d\" %(i), \"does\", \"not\", \"exist.\", file=stderr, sep=\"_\")"
   ]
  },
  {
   "cell_type": "code",
   "execution_count": 35,
   "metadata": {
    "collapsed": false
   },
   "outputs": [
    {
     "name": "stdout",
     "output_type": "stream",
     "text": [
      "3\n",
      "False\n"
     ]
    },
    {
     "name": "stderr",
     "output_type": "stream",
     "text": [
      "Warning: Index 10 does not exist.\n"
     ]
    }
   ],
   "source": [
    "# random code -- try / catch which in Python is try / exception example\n",
    "# allows scanning an array without knowing its length\n",
    "\n",
    "myArray = [1 , 2, 3, 4]\n",
    "\n",
    "def get_value_from_array(myArray, indxToGet):\n",
    "     try:\n",
    "          return myArray[indxToGet]\n",
    "     except IndexError:\n",
    "          print(\"Warning: Index %d does not exist.\" %(i), file=stderr)\n",
    "          return False\n",
    "        \n",
    "print(get_value_from_array(myArray, 2))\n",
    "print(get_value_from_array(myArray, 12))"
   ]
  },
  {
   "cell_type": "code",
   "execution_count": 37,
   "metadata": {
    "collapsed": false
   },
   "outputs": [
    {
     "name": "stdout",
     "output_type": "stream",
     "text": [
      "Test with escaped path passed in from variable:\n",
      "C:/Users/Mitch/Documents/Code/Git_Repo\n",
      "\n"
     ]
    }
   ],
   "source": [
    "url = \"C:\\\\Users\\\\Mitch\\\\Documents\\\\Code\\\\Git_Repo\"\n",
    "# Help for this function\n",
    "# https://www.tutorialspoint.com/python/string_replace.htm\n",
    "# sample code: str.replace(old, new[, max])\n",
    "\n",
    "def convert_win_path_to_onlinePath(inputURL):\n",
    "    return inputURL.replace(\"\\\\\", \"/\")\n",
    "\n",
    "print(\"Test with escaped path passed in from variable:\")\n",
    "print(convert_win_path_to_onlinePath(url))\n",
    "print() "
   ]
  },
  {
   "cell_type": "code",
   "execution_count": 39,
   "metadata": {
    "collapsed": false
   },
   "outputs": [
    {
     "name": "stdout",
     "output_type": "stream",
     "text": [
      "input() File Path to Convert here:\n",
      "d:\\some path\\with folders\\and more folders\\\n",
      "d:/some path/with folders/and more folders/\n"
     ]
    }
   ],
   "source": [
    "print(convert_win_path_to_onlinePath(raw_input('input() File Path to Convert here:\\n')))"
   ]
  },
  {
   "cell_type": "code",
   "execution_count": 40,
   "metadata": {
    "collapsed": true
   },
   "outputs": [],
   "source": [
    "# from Big Data Class\n",
    "# only works if this command is the only thing in the cell\n",
    "# adding comments to the cell triggers error ... even ws triggers an error\n",
    "# best threory:  command must be only thing in the cell for it to work\n",
    "\n",
    "# this lists variables and function declarations currently in use in the notebook"
   ]
  },
  {
   "cell_type": "code",
   "execution_count": 41,
   "metadata": {
    "collapsed": false
   },
   "outputs": [
    {
     "name": "stdout",
     "output_type": "stream",
     "text": [
      "convert_win_path_to_onlinePath\t get_value_from_array\t i\t myArray\t myStr\t print_function\t seq\t seq2\t seq3\t \n",
      "stderr\t url\t \n"
     ]
    }
   ],
   "source": [
    "who"
   ]
  },
  {
   "cell_type": "code",
   "execution_count": 42,
   "metadata": {
    "collapsed": false
   },
   "outputs": [
    {
     "name": "stdout",
     "output_type": "stream",
     "text": [
      "here is some content ... here is some more content\n"
     ]
    }
   ],
   "source": [
    "print(\"here is some content ...\",\n",
    "      \"here is some more content\")"
   ]
  },
  {
   "cell_type": "code",
   "execution_count": 55,
   "metadata": {
    "collapsed": false
   },
   "outputs": [
    {
     "name": "stdout",
     "output_type": "stream",
     "text": [
      "Some float using percent-d: 3\n",
      "Some float using percent-i: 3\n"
     ]
    }
   ],
   "source": [
    "print(\"Some float using percent-d: %d\" %(3.9415678))\n",
    "print(\"Some float using percent-i: %i\" %(3.9415678))"
   ]
  },
  {
   "cell_type": "code",
   "execution_count": 43,
   "metadata": {
    "collapsed": false
   },
   "outputs": [
    {
     "name": "stdout",
     "output_type": "stream",
     "text": [
      "\n"
     ]
    }
   ],
   "source": [
    "print()"
   ]
  },
  {
   "cell_type": "code",
   "execution_count": 44,
   "metadata": {
    "collapsed": false
   },
   "outputs": [
    {
     "name": "stdout",
     "output_type": "stream",
     "text": [
      "<type 'list'>\n",
      "I don't know what that is.\n",
      "<type 'str'>\n"
     ]
    }
   ],
   "source": [
    "myTestList = [1,2,3]\n",
    "print(type(myTestList))\n",
    "if str(type(myTestList)) == \"<class 'list'>\":\n",
    "    print(\"This is a list\")\n",
    "else:\n",
    "    print(\"I don't know what that is.\")\n",
    "\n",
    "myTestStr = \"some text.\"\n",
    "print(type(myTestStr))"
   ]
  },
  {
   "cell_type": "code",
   "execution_count": 45,
   "metadata": {
    "collapsed": false
   },
   "outputs": [
    {
     "name": "stdout",
     "output_type": "stream",
     "text": [
      "[2, 4, 6, 8]\n",
      "[2, 4]\n",
      "[6, 8]\n",
      "[8, 6]\n"
     ]
    }
   ],
   "source": [
    "# (start, end, increment)\n",
    "# [start:end:increment]\n",
    "\n",
    "lst = range(2,10,2)\n",
    "print(lst)\n",
    "print(lst[0:2])\n",
    "print(lst[2:])        # index 2 to the end\n",
    "print(lst[-1:-3:-1])  # count back from the end incrementing by 1 so 8, then 6 then stop since end is not inclusive"
   ]
  },
  {
   "cell_type": "code",
   "execution_count": 46,
   "metadata": {
    "collapsed": false
   },
   "outputs": [
    {
     "data": {
      "text/plain": [
       "8"
      ]
     },
     "execution_count": 46,
     "metadata": {},
     "output_type": "execute_result"
    }
   ],
   "source": [
    "lst[3]"
   ]
  },
  {
   "cell_type": "code",
   "execution_count": 9,
   "metadata": {
    "collapsed": false
   },
   "outputs": [
    {
     "data": {
      "text/plain": [
       "'diputS gnihtemoS'"
      ]
     },
     "execution_count": 9,
     "metadata": {},
     "output_type": "execute_result"
    }
   ],
   "source": [
    "strTest = \"Something Stupid\"\n",
    "# we can flip it with slice ::-1 => start defaults to first index value, end defaults to include last element, increment by -1\n",
    "strTest[::-1]"
   ]
  },
  {
   "cell_type": "code",
   "execution_count": null,
   "metadata": {
    "collapsed": true
   },
   "outputs": [],
   "source": []
  }
 ],
 "metadata": {
  "anaconda-cloud": {},
  "kernelspec": {
   "display_name": "Python [conda root]",
   "language": "python",
   "name": "conda-root-py"
  },
  "language_info": {
   "codemirror_mode": {
    "name": "ipython",
    "version": 2
   },
   "file_extension": ".py",
   "mimetype": "text/x-python",
   "name": "python",
   "nbconvert_exporter": "python",
   "pygments_lexer": "ipython2",
   "version": "2.7.13"
  }
 },
 "nbformat": 4,
 "nbformat_minor": 0
}
