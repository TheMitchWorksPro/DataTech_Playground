{
 "cells": [
  {
   "cell_type": "markdown",
   "metadata": {},
   "source": [
    "<div align=\"right\">Creation Env: <font color=blue>Python [conda env:PY36]</font></div>"
   ]
  },
  {
   "cell_type": "markdown",
   "metadata": {},
   "source": [
    "# Playing with Python 2.7 Comment and String Syntax in Python 3.6\n",
    "This stuff should work in 3.5 as well but has only been tested in 3.6 on Anaconda / IPython"
   ]
  },
  {
   "cell_type": "code",
   "execution_count": 3,
   "metadata": {
    "collapsed": false,
    "scrolled": true
   },
   "outputs": [
    {
     "data": {
      "text/plain": [
       "'this is a quote with a newline.\\nIt then continues with more text.\\nand even more than that.'"
      ]
     },
     "execution_count": 3,
     "metadata": {},
     "output_type": "execute_result"
    }
   ],
   "source": [
    "'''this is a quote with a newline.\\nIt then continues with more text.\n",
    "And even more text than that.'''"
   ]
  },
  {
   "cell_type": "code",
   "execution_count": 9,
   "metadata": {
    "collapsed": false
   },
   "outputs": [
    {
     "name": "stdout",
     "output_type": "stream",
     "text": [
      "this is a quote with a newline.\n",
      "It then continues with more text.\n",
      "And even more text than that.\n"
     ]
    }
   ],
   "source": [
    "myVar = '''this is a quote with a newline.\\nIt then continues with more text.\n",
    "And even more text than that.'''\n",
    "print(myVar)"
   ]
  },
  {
   "cell_type": "code",
   "execution_count": 10,
   "metadata": {
    "collapsed": false
   },
   "outputs": [
    {
     "name": "stdout",
     "output_type": "stream",
     "text": [
      "this is a quote with a newline.\n",
      "It then continues with more text.\n"
     ]
    }
   ],
   "source": [
    "print('''this is a quote with a newline.\\nIt then continues with more text.''')"
   ]
  },
  {
   "cell_type": "code",
   "execution_count": 12,
   "metadata": {
    "collapsed": false
   },
   "outputs": [
    {
     "data": {
      "text/plain": [
       "' ... and then he said ... something or other'"
      ]
     },
     "execution_count": 12,
     "metadata": {},
     "output_type": "execute_result"
    }
   ],
   "source": [
    "# Note:  note the strange behavior of period in these examples (when it shows versus when it does not)\n",
    "\n",
    "''' ... and then he said ... something or other'''"
   ]
  },
  {
   "cell_type": "code",
   "execution_count": 14,
   "metadata": {
    "collapsed": false
   },
   "outputs": [
    {
     "data": {
      "text/plain": [
       "'This is a test.\\nThis is only a test.'"
      ]
     },
     "execution_count": 14,
     "metadata": {},
     "output_type": "execute_result"
    }
   ],
   "source": [
    "'''This is a test.\n",
    "... This is only a test.'''"
   ]
  },
  {
   "cell_type": "code",
   "execution_count": 15,
   "metadata": {
    "collapsed": false
   },
   "outputs": [
    {
     "name": "stdout",
     "output_type": "stream",
     "text": [
      "This is a test.\n",
      "This is only a test.\n"
     ]
    }
   ],
   "source": [
    "print('''This is a test.\n",
    "... This is only a test.''')"
   ]
  },
  {
   "cell_type": "code",
   "execution_count": 16,
   "metadata": {
    "collapsed": false
   },
   "outputs": [
    {
     "data": {
      "text/plain": [
       "'Insert string, ten: 10'"
      ]
     },
     "execution_count": 16,
     "metadata": {},
     "output_type": "execute_result"
    }
   ],
   "source": [
    "# using formatters on strings, not just inside print()\n",
    "\n",
    "'Insert %s, ten: %d' % ('string', 10)"
   ]
  },
  {
   "cell_type": "code",
   "execution_count": 17,
   "metadata": {
    "collapsed": false
   },
   "outputs": [
    {
     "data": {
      "text/plain": [
       "'My name is Mike and I am 25 years old'"
      ]
     },
     "execution_count": 17,
     "metadata": {},
     "output_type": "execute_result"
    }
   ],
   "source": [
    "'My name is %s and I am %d years old' % ('Mike', 25)"
   ]
  },
  {
   "cell_type": "code",
   "execution_count": 9,
   "metadata": {
    "collapsed": false
   },
   "outputs": [
    {
     "name": "stdout",
     "output_type": "stream",
     "text": [
      "My name is Mike and I am 25 years old\n",
      "My name is Mike and I am 25 years old\n"
     ]
    }
   ],
   "source": [
    "# want to lose the quotes around the string?  put in a variable and call with print() or just put in print():\n",
    "myVar2 = 'My name is %s and I am %d years old' % ('Mike', 25)\n",
    "print('My name is %s and I am %d years old' % ('Mike', 25))\n",
    "print(myVar2)"
   ]
  },
  {
   "cell_type": "code",
   "execution_count": null,
   "metadata": {
    "collapsed": true
   },
   "outputs": [],
   "source": []
  }
 ],
 "metadata": {
  "kernelspec": {
   "display_name": "Python [conda env:PY36]",
   "language": "python",
   "name": "conda-env-PY36-py"
  },
  "language_info": {
   "codemirror_mode": {
    "name": "ipython",
    "version": 3
   },
   "file_extension": ".py",
   "mimetype": "text/x-python",
   "name": "python",
   "nbconvert_exporter": "python",
   "pygments_lexer": "ipython3",
   "version": "3.6.0"
  }
 },
 "nbformat": 4,
 "nbformat_minor": 2
}
