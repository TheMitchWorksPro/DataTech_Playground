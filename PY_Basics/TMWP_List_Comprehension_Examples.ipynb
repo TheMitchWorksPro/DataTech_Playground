{
 "cells": [
  {
   "cell_type": "markdown",
   "metadata": {},
   "source": [
    "<div align=\"right\">Python 3.6 [PY36 Env]</div>"
   ]
  },
  {
   "cell_type": "markdown",
   "metadata": {},
   "source": [
    "# List Comprehension Examples\n",
    "These examples illustrate use of list comprehensions.  These examples are tested in Python 3.6 but should work in 2.7 as well.\n",
    "\n",
    "## Simple Examples"
   ]
  },
  {
   "cell_type": "code",
   "execution_count": 10,
   "metadata": {
    "collapsed": true
   },
   "outputs": [],
   "source": [
    "# libraries used in the Notebook\n",
    "import numpy as np"
   ]
  },
  {
   "cell_type": "code",
   "execution_count": 13,
   "metadata": {
    "collapsed": false
   },
   "outputs": [
    {
     "data": {
      "text/plain": [
       "[3, 4, 5, 6, 7, 8, 9]"
      ]
     },
     "execution_count": 13,
     "metadata": {},
     "output_type": "execute_result"
    }
   ],
   "source": [
    "[i for i in range(3,10)]  # in real code, range(3,10) would probably be a list or iterable that is the source"
   ]
  },
  {
   "cell_type": "code",
   "execution_count": 17,
   "metadata": {
    "collapsed": false
   },
   "outputs": [
    {
     "name": "stdout",
     "output_type": "stream",
     "text": [
      "[3, 4, 5, 6, 7, 8, 9]\n"
     ]
    },
    {
     "data": {
      "text/plain": [
       "[49, 64, 81]"
      ]
     },
     "execution_count": 17,
     "metadata": {},
     "output_type": "execute_result"
    }
   ],
   "source": [
    "print([i for i in range(3,10)])\n",
    "[i**2 for i in range(3,10) if i > 6]  # squares all values in range(3,10) but only if original value was > 6"
   ]
  },
  {
   "cell_type": "code",
   "execution_count": 2,
   "metadata": {
    "collapsed": false
   },
   "outputs": [
    {
     "data": {
      "text/plain": [
       "[3, 4, 5, 6, 49, 64, 81]"
      ]
     },
     "execution_count": 2,
     "metadata": {},
     "output_type": "execute_result"
    }
   ],
   "source": [
    "# example from stack overflow: [x+1 if x >= 45 else x+5 for x in l]\n",
    "[i**2 if i > 6 else i for i in range(3,10)]  # squares all values in range(3,10) original value was > 6 else output original"
   ]
  },
  {
   "cell_type": "markdown",
   "metadata": {},
   "source": [
    "## More Complex or Specific Examples"
   ]
  },
  {
   "cell_type": "code",
   "execution_count": 8,
   "metadata": {
    "collapsed": false
   },
   "outputs": [
    {
     "name": "stdout",
     "output_type": "stream",
     "text": [
      "[[1.0, 2.0, 3.5], [0.0, -5.789, 666.0], [13.7]]\n",
      "[1.0, 2.0, 3.5, 0.0, -5.789, 666.0, 13.7]\n",
      "[666.0, 13.7]\n",
      "[[], [0.0, -5.789, 666.0], [13.7]]\n"
     ]
    }
   ],
   "source": [
    "# working with nested lists:\n",
    "\n",
    "tstLst = [['1','2.0','3.5'],['0.0','-5.789', '666'],['13.7']]\n",
    "\n",
    "out1 = [[float(y) for y in x] for x in tstLst]   # convert to float, output in original nested structure\n",
    "out2 = [float(y) for x in tstLst for y in x]     # convert to float, output as flat single list\n",
    "out3 = [float(y) for x in tstLst for y in x if float(y) > 13]                     # combine with if test\n",
    "out4 = [[float(y) for y in x if float(y) > 13 or float(y) < 1] for x in tstLst]   # combine w/ if test\n",
    "\n",
    "print(out1)\n",
    "print(out2)\n",
    "print(out3)\n",
    "print(out4)"
   ]
  },
  {
   "cell_type": "code",
   "execution_count": 4,
   "metadata": {
    "collapsed": false
   },
   "outputs": [
    {
     "name": "stdout",
     "output_type": "stream",
     "text": [
      "399\n"
     ]
    }
   ],
   "source": [
    "# finding second biggest number in a list\n",
    "arr = [14, 400, 35, 17, 34, 399, 0, 77]\n",
    "print(max([a for a in arr if a != max(arr)])) "
   ]
  },
  {
   "cell_type": "code",
   "execution_count": 2,
   "metadata": {
    "collapsed": false
   },
   "outputs": [
    {
     "name": "stdout",
     "output_type": "stream",
     "text": [
      "[1, 2, 3]\n",
      "[40, 50]\n",
      "[(1, 40), (1, 50), (2, 40), (2, 50), (3, 40), (3, 50)]\n"
     ]
    }
   ],
   "source": [
    "# example of cross-tab query like list comprehension (from two lists) found on Stack Overflow\n",
    "\n",
    "list1 = [1, 2, 3]\n",
    "list2 = [40, 50]\n",
    "vals=[(x,y) for x in list1 for y in list2]\n",
    "print(list1)\n",
    "print(list2)\n",
    "print(vals)"
   ]
  },
  {
   "cell_type": "code",
   "execution_count": 1,
   "metadata": {
    "collapsed": false
   },
   "outputs": [
    {
     "name": "stdout",
     "output_type": "stream",
     "text": [
      "1 2\n",
      "2 3\n",
      "3 9\n",
      "9 10\n",
      "10 11\n",
      "11 12\n",
      "12 19\n",
      "19 99\n",
      "99 100\n",
      "100 101\n",
      "101 102\n",
      "102 999\n",
      "999 1000\n",
      "1000 1001\n",
      "1001 50102030\n",
      "\n",
      "tempLst:\n",
      "[(1, 2), (2, 3), (3, 9), (9, 10), (10, 11), (11, 12), (12, 19), (19, 99), (99, 100), (100, 101), (101, 102), (102, 999), (999, 1000), (1000, 1001), (1001, 50102030)]\n"
     ]
    }
   ],
   "source": [
    "# Not best practice, but printing from within a list comprehension and using enumerate\n",
    "\n",
    "listofints = [1,2,3,9,10,11,12,19,99,100,101,102, 999, 1000, 1001, 50102030]\n",
    "# note:  printing from within a list comprehension is criticized online as being \"not pythonic\" \n",
    "#        concepts illustrated:\n",
    "#          * ind, x  in enumerate(list) ==> how to get index and value\n",
    "#          * (x, print())[0] ==> x is output using [0] to grab just first element of output, print then happens from [1]\n",
    "#          * tempLst is capturing element [0] only\n",
    "#          * print is probably returning None but element [1] (the return value) is not captured in tempLst\n",
    "\n",
    "tempLst = [((x, listofints[ind+1]), print(x, listofints[ind+1]))[0] \n",
    "           for ind, x in enumerate(listofints) if ind < len(listofints)-1]\n",
    "\n",
    "print(\"\\ntempLst:\\n%s\" %tempLst)"
   ]
  },
  {
   "cell_type": "code",
   "execution_count": 12,
   "metadata": {
    "collapsed": false
   },
   "outputs": [
    {
     "name": "stdout",
     "output_type": "stream",
     "text": [
      "arr array values are all within the acceptable range.\n",
      "<class 'ValueError'>\n",
      "Error in arr2: All Values in array must be between -9 and 9.\n"
     ]
    }
   ],
   "source": [
    "# this example was used in a function to test that all values in an array\n",
    "# are between an allowed range (sample arrays and just the relavent code excerpt provided here)\n",
    "\n",
    "# because of any(), if any of the values in the list comprehension are True, the condition is True,\n",
    "#                   if the list comprehension finds no matches, the list comprehension is empty and\n",
    "#                   any() evaluates empty as False\n",
    "\n",
    "import numpy as np\n",
    "\n",
    "arr = np.array([[0,0,0,0,0,0],\n",
    "                [1,2,3,4,5,6],\n",
    "                [8,7,5,2,1,1],\n",
    "                [1,1,1,1,1,1],\n",
    "                [0,9,1,5,3,3],\n",
    "                [7,7,7,7,7,7]])\n",
    "\n",
    "\n",
    "arr2 = np.array([[0,0,0,0,0,0],\n",
    "                 [1,2,3,4,5,6],\n",
    "                 [8,7,5,2,1,1],\n",
    "                 [1,1,1,1,1,1],\n",
    "                 [0,9,11,5,3,3],\n",
    "                 [7,7,7,7,7,-10]])\n",
    "\n",
    "# try / except allows the if condition to raise errors as appropriate without halting the notebook if you re-run it\n",
    "\n",
    "try:\n",
    "    if any([True for x in arr for y in x if y < -9 or y > 9]):\n",
    "        raise ValueError(\"Error in arr: All Values in array must be between -9 and 9.\")\n",
    "    else:\n",
    "        print(\"arr array values are all within the acceptable range.\")\n",
    "        \n",
    "except ValueError as ve:\n",
    "    print(type(ve))\n",
    "    print(ve)\n",
    "    \n",
    "try:\n",
    "    if any([True for x in arr2 for y in x if y < -9 or y > 9]):\n",
    "        raise ValueError(\"Error in arr2: All Values in array must be between -9 and 9.\")\n",
    "    else:\n",
    "        print(\"arr2 array values are all within the acceptable range.\")\n",
    "except ValueError as ve:\n",
    "    print(type(ve))\n",
    "    print(ve)"
   ]
  },
  {
   "cell_type": "markdown",
   "metadata": {},
   "source": [
    "## Some Examples from Hackerrank\n",
    "Many of these examples combine nesting of the list comprehension syntax with other concepts.  The problems come from hackerrank."
   ]
  },
  {
   "cell_type": "markdown",
   "metadata": {},
   "source": [
    "### The Constrained Cuboid\n",
    "This example organizes x, y, z in a cuboid and uses n to constrain the output by what each row adds up to."
   ]
  },
  {
   "cell_type": "code",
   "execution_count": 3,
   "metadata": {
    "collapsed": true
   },
   "outputs": [],
   "source": [
    "# the \"constrained cuboid\" was a hackerrank problem\n",
    "# the constraint causes the cuboid code to skip outputting sublists in the cuboid array that add up to the constraint number\n",
    "# set the contraint high enough, and you will see what an unconstrained cuboid looks like since no sublists will meet\n",
    "# the constraint criteria then\n",
    "\n",
    "def constrainedCuboid(x, y, z, n_constraint):\n",
    "    return [[x1,y1,z1] for x1 in range(x+1) \n",
    "            for y1 in range(y+1) \n",
    "            for z1 in range(z+1) if x1+y1+z1 != n_constraint]  # 3 levels of nesting within the list comprehension"
   ]
  },
  {
   "cell_type": "code",
   "execution_count": 6,
   "metadata": {
    "collapsed": false
   },
   "outputs": [
    {
     "name": "stdout",
     "output_type": "stream",
     "text": [
      "[[0, 0, 0], [0, 0, 1], [0, 0, 2], [0, 0, 3], [0, 0, 4], [0, 1, 0], [0, 1, 1], [0, 1, 2], [0, 1, 3], [0, 1, 4], [0, 2, 0], [0, 2, 1], [0, 2, 2], [0, 2, 3], [1, 0, 0], [1, 0, 1], [1, 0, 2], [1, 0, 3], [1, 0, 4], [1, 1, 0], [1, 1, 1], [1, 1, 2], [1, 1, 3], [1, 2, 0], [1, 2, 1], [1, 2, 2], [1, 2, 4]]\n",
      "---------------------------\n",
      "[[0, 0, 0], [0, 0, 1], [0, 0, 2], [0, 0, 3], [0, 0, 4], [0, 1, 0], [0, 1, 1], [0, 1, 2], [0, 1, 3], [0, 1, 4], [0, 2, 0], [0, 2, 1], [0, 2, 2], [0, 2, 3], [0, 2, 4], [1, 0, 0], [1, 0, 1], [1, 0, 2], [1, 0, 3], [1, 0, 4], [1, 1, 0], [1, 1, 1], [1, 1, 2], [1, 1, 3], [1, 1, 4], [1, 2, 0], [1, 2, 1], [1, 2, 2], [1, 2, 3], [1, 2, 4]]\n",
      "----------------------------\n"
     ]
    }
   ],
   "source": [
    "print(constrainedCuboid(1, 2, 4, 6))      # constrained: show only subsets that sum to less than 6\n",
    "print(\"---------------------------\")\n",
    "print(constrainedCuboid(1, 2, 4, 1000))   # unconstrained:  all subsets will sum to less than 1000 so all will be output\n",
    "print(\"----------------------------\")"
   ]
  },
  {
   "cell_type": "code",
   "execution_count": 14,
   "metadata": {
    "collapsed": false
   },
   "outputs": [
    {
     "name": "stdout",
     "output_type": "stream",
     "text": [
      "Constrained:\n",
      "Sum([0, 0, 0]) = 0\n",
      "Sum([0, 0, 1]) = 1\n",
      "Sum([0, 0, 2]) = 2\n",
      "Sum([0, 0, 3]) = 3\n",
      "Sum([0, 0, 4]) = 4\n",
      "Sum([0, 1, 0]) = 1\n",
      "Sum([0, 1, 1]) = 2\n",
      "Sum([0, 1, 2]) = 3\n",
      "Sum([0, 1, 3]) = 4\n",
      "Sum([0, 1, 4]) = 5\n",
      "Sum([0, 2, 0]) = 2\n",
      "Sum([0, 2, 1]) = 3\n",
      "Sum([0, 2, 2]) = 4\n",
      "Sum([0, 2, 3]) = 5\n",
      "Sum([1, 0, 0]) = 1\n",
      "Sum([1, 0, 1]) = 2\n",
      "Sum([1, 0, 2]) = 3\n",
      "Sum([1, 0, 3]) = 4\n",
      "Sum([1, 0, 4]) = 5\n",
      "Sum([1, 1, 0]) = 2\n",
      "Sum([1, 1, 1]) = 3\n",
      "Sum([1, 1, 2]) = 4\n",
      "Sum([1, 1, 3]) = 5\n",
      "Sum([1, 2, 0]) = 3\n",
      "Sum([1, 2, 1]) = 4\n",
      "Sum([1, 2, 2]) = 5\n",
      "Sum([1, 2, 4]) = 7\n",
      "---------------------------\n",
      "Unconstrained:\n",
      "Sum([0, 0, 0]) = 0\n",
      "Sum([0, 0, 1]) = 1\n",
      "Sum([0, 0, 2]) = 2\n",
      "Sum([0, 0, 3]) = 3\n",
      "Sum([0, 0, 4]) = 4\n",
      "Sum([0, 1, 0]) = 1\n",
      "Sum([0, 1, 1]) = 2\n",
      "Sum([0, 1, 2]) = 3\n",
      "Sum([0, 1, 3]) = 4\n",
      "Sum([0, 1, 4]) = 5\n",
      "Sum([0, 2, 0]) = 2\n",
      "Sum([0, 2, 1]) = 3\n",
      "Sum([0, 2, 2]) = 4\n",
      "Sum([0, 2, 3]) = 5\n",
      "Sum([0, 2, 4]) = 6\n",
      "Sum([1, 0, 0]) = 1\n",
      "Sum([1, 0, 1]) = 2\n",
      "Sum([1, 0, 2]) = 3\n",
      "Sum([1, 0, 3]) = 4\n",
      "Sum([1, 0, 4]) = 5\n",
      "Sum([1, 1, 0]) = 2\n",
      "Sum([1, 1, 1]) = 3\n",
      "Sum([1, 1, 2]) = 4\n",
      "Sum([1, 1, 3]) = 5\n",
      "Sum([1, 1, 4]) = 6\n",
      "Sum([1, 2, 0]) = 3\n",
      "Sum([1, 2, 1]) = 4\n",
      "Sum([1, 2, 2]) = 5\n",
      "Sum([1, 2, 3]) = 6\n",
      "Sum([1, 2, 4]) = 7\n",
      "---------------------------\n"
     ]
    }
   ],
   "source": [
    "# for cleaner output, we could use a list comprehension\n",
    "# we can also output the sum of each sub element to show the constraint in action\n",
    "\n",
    "print(\"Constrained:\")\n",
    "[print(\"Sum(\" + str(elem) + (\") = %d\" %sum(elem))) for elem in constrainedCuboid(1, 2, 4, 6)]     \n",
    "print(\"---------------------------\")\n",
    "print(\"Unconstrained:\")\n",
    "[print(\"Sum(\" + str(elem) + (\") = %d\" %sum(elem))) for elem in constrainedCuboid(1, 2, 4, 1000)]     \n",
    "print(\"---------------------------\")"
   ]
  },
  {
   "cell_type": "code",
   "execution_count": 7,
   "metadata": {
    "collapsed": false
   },
   "outputs": [
    {
     "name": "stdout",
     "output_type": "stream",
     "text": [
      "1\n",
      "2\n",
      "4\n",
      "6\n",
      "[[0, 0, 0], [0, 0, 1], [0, 0, 2], [0, 0, 3], [0, 0, 4], [0, 1, 0], [0, 1, 1], [0, 1, 2], [0, 1, 3], [0, 1, 4], [0, 2, 0], [0, 2, 1], [0, 2, 2], [0, 2, 3], [1, 0, 0], [1, 0, 1], [1, 0, 2], [1, 0, 3], [1, 0, 4], [1, 1, 0], [1, 1, 1], [1, 1, 2], [1, 1, 3], [1, 2, 0], [1, 2, 1], [1, 2, 2], [1, 2, 4]]\n"
     ]
    }
   ],
   "source": [
    "# use this cell to input your own numbers and see results\n",
    "if __name__ == '__main__':\n",
    "    # inputs used for original testing:  1,2,4,6   and   1,2,4,1000\n",
    "    #                                    3,3,3,5\n",
    "    x = int(input())\n",
    "    y = int(input())\n",
    "    z = int(input())\n",
    "    n = int(input())\n",
    "\n",
    "print(constrainedCuboid(x, y, z, n))"
   ]
  },
  {
   "cell_type": "markdown",
   "metadata": {
    "collapsed": true
   },
   "source": [
    "### Simple Email Address Validation Example\n",
    "This code shows how a multi-line task (without the list comprehension) condenses down to a single line list comprehension that gets user input from within its nesting conditions.  Readability is definitely sacrificed for what the list comprehension may gain us in terms of speed and succinctness of code."
   ]
  },
  {
   "cell_type": "code",
   "execution_count": 2,
   "metadata": {
    "collapsed": false
   },
   "outputs": [
    {
     "name": "stdout",
     "output_type": "stream",
     "text": [
      "9\n",
      "Joe JoesDiner@gmail.com\n",
      "Fred fredAtJoesDiner@joesDiner.someDomain.com\n",
      "Lindsay Lindsay.Drunken.Lohan@gmail.com\n",
      "Arthur Arthur.Dent@UniverseEnd.net\n",
      "suzy SuzyQ@gmail.com\n",
      "Laura LauraLinly@gmail.co\n",
      "warren WarrenBuffet@gmail.me\n",
      "Ford Ford.Prefect@gmail.com\n",
      "dim dim.wit.nation@Trump4President.com\n",
      "----------------------\n",
      "Ford\n",
      "Joe\n",
      "Lindsay\n",
      "suzy\n"
     ]
    }
   ],
   "source": [
    "import sys\n",
    "\n",
    "lst = []\n",
    "N = int(input().strip())\n",
    "for eachOne in range(N):\n",
    "    firstName, emailID = input().strip().split(' ')\n",
    "    firstName, emailID = [str(firstName),str(emailID)]\n",
    "    \n",
    "    if emailID[-10:] == \"@gmail.com\":\n",
    "        lst.append(firstName)\n",
    "\n",
    "print(\"----------------------\") # this line will be lost in our list comprehension example that follows\n",
    "print(\"\\n\".join(sorted(lst)))"
   ]
  },
  {
   "cell_type": "code",
   "execution_count": 3,
   "metadata": {
    "collapsed": false
   },
   "outputs": [
    {
     "name": "stdout",
     "output_type": "stream",
     "text": [
      "9\n",
      "Joe JoesDiner@gmail.com\n",
      "Fred fredAtJoesDiner@joesDiner.someDomain.com\n",
      "Lindsay Lindsay.Drunken.Lohan@gmail.com\n",
      "Arthur Arthur.Dent@UniverseEnd.net\n",
      "suzy SuzyQ@gmail.com\n",
      "Laura LauraLinly@gmail.co\n",
      "warren WarrenBuffet@gmail.me\n",
      "Ford Ford.Prefect@gmail.com\n",
      "dim dim.wit.nation@Trump4President.com\n",
      "Ford\n",
      "Joe\n",
      "Lindsay\n",
      "suzy\n"
     ]
    }
   ],
   "source": [
    "import sys\n",
    "print(\"\\n\".join(sorted([l.split()[0] for l in [input() for _ in range(int(input()))] if '@gmail.com' in l])))\n",
    "             # more accurate:\n",
    "             #     end the code like this:                                           if l[-10:] == '@gmail.com'"
   ]
  }
 ],
 "metadata": {
  "anaconda-cloud": {},
  "kernelspec": {
   "display_name": "Python [conda env:PY36]",
   "language": "python",
   "name": "conda-env-PY36-py"
  },
  "language_info": {
   "codemirror_mode": {
    "name": "ipython",
    "version": 3
   },
   "file_extension": ".py",
   "mimetype": "text/x-python",
   "name": "python",
   "nbconvert_exporter": "python",
   "pygments_lexer": "ipython3",
   "version": "3.6.0"
  }
 },
 "nbformat": 4,
 "nbformat_minor": 2
}
