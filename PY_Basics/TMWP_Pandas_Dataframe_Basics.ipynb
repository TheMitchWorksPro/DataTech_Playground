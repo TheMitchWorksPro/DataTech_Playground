{
 "cells": [
  {
   "cell_type": "markdown",
   "metadata": {},
   "source": [
    "<div align=\"right\">Python [conda env:PY27_rtclone]</div>\n",
    "<div align=\"right\">Python [conda env:PY36_clone]</div>"
   ]
  },
  {
   "cell_type": "markdown",
   "metadata": {},
   "source": [
    "# Working with Pandas DataFrames\n",
    "\n",
    "This notebook was created in Python 2.7 and cross-tested in Python 3.6.  Code should work in both versions.  It explores basic syntax of working with Pandas Dataframes.  Some useful functions and one line snippets to know:\n",
    "- `DataFrame(data={key1:[data, data2], key2:[d, d2]}, columns=[\"col1\", \"col2\"], index=indexVar, dtype=int64)`\n",
    "- `data_df.astype(dtype= {\"wheel_number\":\"int64\", \"car_name\":\"object\",\"minutes_spent\":\"float64\"})`\n",
    "- `as.dataframe(df_data)`"
   ]
  },
  {
   "cell_type": "markdown",
   "metadata": {},
   "source": [
    "## TOC\n",
    "- [Building a Simple DataFrame](#bld1)\n",
    "  - [from a Dictionary](#dixndf)\n",
    "  - [Create Empty and Add Rows One by One](#lbldf)\n",
    "  - [Setting dtypes on Each Column of DF](#lbldf)"
   ]
  },
  {
   "cell_type": "code",
   "execution_count": 1,
   "metadata": {
    "collapsed": true
   },
   "outputs": [],
   "source": [
    "# libraries used throughout this notebook\n",
    "import pandas as pd\n",
    "import numpy as np"
   ]
  },
  {
   "cell_type": "markdown",
   "metadata": {},
   "source": [
    "<a id=\"bld1\" name=\"bld1\"></a>\n",
    "## Building a Simple DataFrame"
   ]
  },
  {
   "cell_type": "markdown",
   "metadata": {},
   "source": [
    "<a id=\"dixndf\" name=\"dixndf\"></a>\n",
    "### Create DF from Dictionary"
   ]
  },
  {
   "cell_type": "code",
   "execution_count": 2,
   "metadata": {
    "collapsed": false
   },
   "outputs": [
    {
     "data": {
      "text/html": [
       "<div>\n",
       "<table border=\"1\" class=\"dataframe\">\n",
       "  <thead>\n",
       "    <tr style=\"text-align: right;\">\n",
       "      <th></th>\n",
       "      <th>pop</th>\n",
       "      <th>state</th>\n",
       "      <th>year</th>\n",
       "    </tr>\n",
       "  </thead>\n",
       "  <tbody>\n",
       "    <tr>\n",
       "      <th>0</th>\n",
       "      <td>1.5</td>\n",
       "      <td>Ohio</td>\n",
       "      <td>2000</td>\n",
       "    </tr>\n",
       "    <tr>\n",
       "      <th>1</th>\n",
       "      <td>1.7</td>\n",
       "      <td>Ohio</td>\n",
       "      <td>2001</td>\n",
       "    </tr>\n",
       "    <tr>\n",
       "      <th>2</th>\n",
       "      <td>3.6</td>\n",
       "      <td>Ohio</td>\n",
       "      <td>2002</td>\n",
       "    </tr>\n",
       "    <tr>\n",
       "      <th>3</th>\n",
       "      <td>2.4</td>\n",
       "      <td>Nevada</td>\n",
       "      <td>2001</td>\n",
       "    </tr>\n",
       "    <tr>\n",
       "      <th>4</th>\n",
       "      <td>2.9</td>\n",
       "      <td>Nevada</td>\n",
       "      <td>2002</td>\n",
       "    </tr>\n",
       "  </tbody>\n",
       "</table>\n",
       "</div>"
      ],
      "text/plain": [
       "   pop   state  year\n",
       "0  1.5    Ohio  2000\n",
       "1  1.7    Ohio  2001\n",
       "2  3.6    Ohio  2002\n",
       "3  2.4  Nevada  2001\n",
       "4  2.9  Nevada  2002"
      ]
     },
     "execution_count": 2,
     "metadata": {},
     "output_type": "execute_result"
    }
   ],
   "source": [
    "# create a dictionary\n",
    "stateData = {'state': ['Ohio', 'Ohio', 'Ohio', 'Nevada', 'Nevada'], \\\n",
    "        'year': [2000, 2001, 2002, 2001, 2002],\n",
    "        'pop': [1.5, 1.7, 3.6, 2.4, 2.9]}\n",
    "# convert to DataFrame\n",
    "df_stdt = pd.DataFrame(stateData)\n",
    "df_stdt"
   ]
  },
  {
   "cell_type": "code",
   "execution_count": 3,
   "metadata": {
    "collapsed": false
   },
   "outputs": [
    {
     "name": "stdout",
     "output_type": "stream",
     "text": [
      "Index:  RangeIndex(start=0, stop=5, step=1)\n",
      "Values:  \n",
      "[[1.5 'Ohio' 2000L]\n",
      " [1.7 'Ohio' 2001L]\n",
      " [3.6 'Ohio' 2002L]\n",
      " [2.4 'Nevada' 2001L]\n",
      " [2.9 'Nevada' 2002L]]\n",
      "Columns: Index([u'pop', u'state', u'year'], dtype='object')\n",
      "dataframe.describe():\n"
     ]
    },
    {
     "data": {
      "text/html": [
       "<div>\n",
       "<table border=\"1\" class=\"dataframe\">\n",
       "  <thead>\n",
       "    <tr style=\"text-align: right;\">\n",
       "      <th></th>\n",
       "      <th>pop</th>\n",
       "      <th>year</th>\n",
       "    </tr>\n",
       "  </thead>\n",
       "  <tbody>\n",
       "    <tr>\n",
       "      <th>count</th>\n",
       "      <td>5.000000</td>\n",
       "      <td>5.00000</td>\n",
       "    </tr>\n",
       "    <tr>\n",
       "      <th>mean</th>\n",
       "      <td>2.420000</td>\n",
       "      <td>2001.20000</td>\n",
       "    </tr>\n",
       "    <tr>\n",
       "      <th>std</th>\n",
       "      <td>0.864292</td>\n",
       "      <td>0.83666</td>\n",
       "    </tr>\n",
       "    <tr>\n",
       "      <th>min</th>\n",
       "      <td>1.500000</td>\n",
       "      <td>2000.00000</td>\n",
       "    </tr>\n",
       "    <tr>\n",
       "      <th>25%</th>\n",
       "      <td>1.700000</td>\n",
       "      <td>2001.00000</td>\n",
       "    </tr>\n",
       "    <tr>\n",
       "      <th>50%</th>\n",
       "      <td>2.400000</td>\n",
       "      <td>2001.00000</td>\n",
       "    </tr>\n",
       "    <tr>\n",
       "      <th>75%</th>\n",
       "      <td>2.900000</td>\n",
       "      <td>2002.00000</td>\n",
       "    </tr>\n",
       "    <tr>\n",
       "      <th>max</th>\n",
       "      <td>3.600000</td>\n",
       "      <td>2002.00000</td>\n",
       "    </tr>\n",
       "  </tbody>\n",
       "</table>\n",
       "</div>"
      ],
      "text/plain": [
       "            pop        year\n",
       "count  5.000000     5.00000\n",
       "mean   2.420000  2001.20000\n",
       "std    0.864292     0.83666\n",
       "min    1.500000  2000.00000\n",
       "25%    1.700000  2001.00000\n",
       "50%    2.400000  2001.00000\n",
       "75%    2.900000  2002.00000\n",
       "max    3.600000  2002.00000"
      ]
     },
     "execution_count": 3,
     "metadata": {},
     "output_type": "execute_result"
    }
   ],
   "source": [
    "print(\"Index:  %s\" %df_stdt.index)\n",
    "print(\"Values:  \\n%s\" %df_stdt.values)\n",
    "print(\"Columns: %s\" %df_stdt.columns)\n",
    "print(\"dataframe.describe():\")\n",
    "df_stdt.describe()"
   ]
  },
  {
   "cell_type": "markdown",
   "metadata": {},
   "source": [
    "<a id=\"lbldf\" name=\"lbldf\"></a>\n",
    "### Create Empty And Add Rows One At A Time\n",
    "A common scenario in code:  a loop or function call needs to add a row to a dataframe but first you need a blank one.  This code may come in handy as that scenario comes up."
   ]
  },
  {
   "cell_type": "code",
   "execution_count": 4,
   "metadata": {
    "collapsed": false
   },
   "outputs": [
    {
     "name": "stdout",
     "output_type": "stream",
     "text": [
      "disk column type: <type 'numpy.int64'>\n"
     ]
    },
    {
     "data": {
      "text/html": [
       "<div>\n",
       "<table border=\"1\" class=\"dataframe\">\n",
       "  <thead>\n",
       "    <tr style=\"text-align: right;\">\n",
       "      <th></th>\n",
       "      <th>disk</th>\n",
       "      <th>fromPeg</th>\n",
       "      <th>toPeg</th>\n",
       "    </tr>\n",
       "  </thead>\n",
       "  <tbody>\n",
       "    <tr>\n",
       "      <th>0</th>\n",
       "      <td>5</td>\n",
       "      <td>1</td>\n",
       "      <td>3</td>\n",
       "    </tr>\n",
       "    <tr>\n",
       "      <th>1</th>\n",
       "      <td>4</td>\n",
       "      <td>1</td>\n",
       "      <td>2</td>\n",
       "    </tr>\n",
       "  </tbody>\n",
       "</table>\n",
       "</div>"
      ],
      "text/plain": [
       "   disk  fromPeg  toPeg\n",
       "0     5        1      3\n",
       "1     4        1      2"
      ]
     },
     "execution_count": 4,
     "metadata": {},
     "output_type": "execute_result"
    }
   ],
   "source": [
    "solutionPD = pd.DataFrame({ 'disk':[],'fromPeg':[], 'toPeg':[]}, dtype=np.int64 ) \n",
    "solutionPD = solutionPD.append(pd.DataFrame({ 'disk':[5],'fromPeg':[1], 'toPeg':[3]}), ignore_index=True)\n",
    "solutionPD = solutionPD.append(pd.DataFrame({ 'disk':[4],'fromPeg':[1], 'toPeg':[2] }), ignore_index=True)\n",
    "print(\"disk column type: %s\" %type(solutionPD['disk'][0]))\n",
    "solutionPD"
   ]
  },
  {
   "cell_type": "code",
   "execution_count": 5,
   "metadata": {
    "collapsed": false
   },
   "outputs": [
    {
     "name": "stdout",
     "output_type": "stream",
     "text": [
      "disk         int64\n",
      "fromPeg    float64\n",
      "notes       object\n",
      "text        object\n",
      "toPeg      float64\n",
      "dtype: object\n"
     ]
    },
    {
     "data": {
      "text/html": [
       "<div>\n",
       "<table border=\"1\" class=\"dataframe\">\n",
       "  <thead>\n",
       "    <tr style=\"text-align: right;\">\n",
       "      <th></th>\n",
       "      <th>disk</th>\n",
       "      <th>fromPeg</th>\n",
       "      <th>notes</th>\n",
       "      <th>text</th>\n",
       "      <th>toPeg</th>\n",
       "    </tr>\n",
       "  </thead>\n",
       "  <tbody>\n",
       "    <tr>\n",
       "      <th>0</th>\n",
       "      <td>5</td>\n",
       "      <td>1.0</td>\n",
       "      <td>hello</td>\n",
       "      <td>more text</td>\n",
       "      <td>3.0</td>\n",
       "    </tr>\n",
       "    <tr>\n",
       "      <th>1</th>\n",
       "      <td>4</td>\n",
       "      <td>1.0</td>\n",
       "      <td>good bye</td>\n",
       "      <td>even more text</td>\n",
       "      <td>2.0</td>\n",
       "    </tr>\n",
       "  </tbody>\n",
       "</table>\n",
       "</div>"
      ],
      "text/plain": [
       "   disk  fromPeg     notes            text  toPeg\n",
       "0     5      1.0     hello       more text    3.0\n",
       "1     4      1.0  good bye  even more text    2.0"
      ]
     },
     "execution_count": 5,
     "metadata": {},
     "output_type": "execute_result"
    }
   ],
   "source": [
    "# Recommended:  To set dtype for all columns, build the Dataframe, \n",
    "# and then use astype() to set the columns as shown here\n",
    "\n",
    "# though online help topics indicate it should be possible to pass in a dictionary or list of tuples\n",
    "# to set all the datatypes initially, under Python 2.7, this does not seem to work.\n",
    "# came closest with this sample:\n",
    "#   solutionPD2 = pd.DataFrame({ 'disk':[],'fromPeg':[], 'toPeg':[], 'text':[], 'notes':[]}, \n",
    "#                            dtype=[('disk', 'int64'), ('fromPeg', 'int64' ), ('toPeg', 'float64'), \n",
    "#                                   ('text', 'str'), ('notes', 'object')] ) \n",
    "# Related links:\n",
    "#    http://stackoverflow.com/questions/21197774/assign-pandas-dataframe-column-dtypes\n",
    "#    http://pandas.pydata.org/pandas-docs/stable/generated/pandas.DataFrame.append.html\n",
    "\n",
    "solutionPD2 = pd.DataFrame({ 'disk':[],'fromPeg':[], 'toPeg':[], 'notes':[], 'text':[]}, dtype=np.int64) \n",
    "solutionPD2 = solutionPD2.astype({ 'disk':'int64','fromPeg':'float64', 'toPeg':'float64', 'notes':'object', 'text':'str'})\n",
    "\n",
    "solutionPD2 = solutionPD2.append(pd.DataFrame({ 'disk':[5],'fromPeg':[1], 'toPeg':[3], \n",
    "                                                'notes':'hello', 'text':'more text' }), ignore_index=True)\n",
    "solutionPD2 = solutionPD2.append(pd.DataFrame({ 'disk':[4],'fromPeg':[1], 'toPeg':[2], \n",
    "                                                'notes':'good bye', 'text':'even more text'}), ignore_index=True)\n",
    "\n",
    "# print(\"disk column type: %s\" %type(solutionPD['disk'][0]))\n",
    "print(solutionPD2.dtypes)\n",
    "solutionPD2"
   ]
  },
  {
   "cell_type": "code",
   "execution_count": null,
   "metadata": {
    "collapsed": true
   },
   "outputs": [],
   "source": []
  }
 ],
 "metadata": {
  "anaconda-cloud": {},
  "kernelspec": {
   "display_name": "Python [conda env:PY27_rtclone]",
   "language": "python",
   "name": "conda-env-PY27_rtclone-py"
  },
  "language_info": {
   "codemirror_mode": {
    "name": "ipython",
    "version": 2
   },
   "file_extension": ".py",
   "mimetype": "text/x-python",
   "name": "python",
   "nbconvert_exporter": "python",
   "pygments_lexer": "ipython2",
   "version": "2.7.13"
  }
 },
 "nbformat": 4,
 "nbformat_minor": 2
}
