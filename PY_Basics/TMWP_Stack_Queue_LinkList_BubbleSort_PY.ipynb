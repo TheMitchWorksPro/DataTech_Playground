{
 "cells": [
  {
   "cell_type": "markdown",
   "metadata": {},
   "source": [
    "<div align=\"right\">Python 3.6 [PY36 Env]</div>\n",
    "\n",
    "# Data Structures & Concepts Implemented in Python\n",
    "\n",
    "These concepts come from the world of programming in general, but are implemented here in Python.  This code was created and tested in Python 3.6.\n",
    "\n",
    "## TOC\n",
    " - [Stacks and Queues](#stack)\n",
    " - [Bubble Sort](#bubble)\n",
    " - [Linked List](#linkedList)"
   ]
  },
  {
   "cell_type": "markdown",
   "metadata": {},
   "source": [
    "<a id=\"stack\" name=\"stack\"></a>\n",
    "## Stacks and Queues\n",
    "This code illustrates basic stack and queue concepts using Python 3.6.  The code should be compatible with 2.7 but has not been tested in it."
   ]
  },
  {
   "cell_type": "code",
   "execution_count": 15,
   "metadata": {
    "collapsed": true
   },
   "outputs": [],
   "source": [
    "# Stacks and Queues:\n",
    "\n",
    "class StackQueue:\n",
    "    # Write your code here\n",
    "    def __init__(self):\n",
    "        self.mystack = list()\n",
    "        self.myqueue = list()\n",
    "        # return(None)\n",
    "\n",
    "    def pushCharacter(self, char):\n",
    "        self.mystack.append(char)\n",
    "\n",
    "    def popCharacter(self):\n",
    "        return self.mystack.pop(-1)\n",
    "\n",
    "    def enqueueCharacter(self, char):\n",
    "        self.myqueue.append(char)\n",
    "\n",
    "    def dequeueCharacter(self):\n",
    "        return self.myqueue.pop(0)"
   ]
  },
  {
   "cell_type": "code",
   "execution_count": 19,
   "metadata": {
    "collapsed": true
   },
   "outputs": [],
   "source": [
    "# in Python, there are much more efficient ways to test if something is a palindrome,\n",
    "# but this code from hackerrank uses the above specifically to perform the test:\n",
    "\n",
    "def test_stackQueue_fr_input():\n",
    "    # read the string s\n",
    "    s=input()\n",
    "    #Create the Solution class object\n",
    "    obj=StackQueue()   \n",
    "\n",
    "    slength=len(s)\n",
    "    # push/enqueue all the characters of string s to stack\n",
    "    for i in range(slength):\n",
    "        obj.pushCharacter(s[i])\n",
    "        obj.enqueueCharacter(s[i])\n",
    "\n",
    "    isPalindrome=True\n",
    "    '''\n",
    "    pop the top character from stack\n",
    "    dequeue the first character from queue\n",
    "    compare both the characters\n",
    "    ''' \n",
    "    for i in range(slength // 2):\n",
    "        print(\"i value: %d\" %i)\n",
    "        if obj.popCharacter()!=obj.dequeueCharacter():\n",
    "            isPalindrome=False\n",
    "            break\n",
    "    #finally print whether string s is palindrome or not.\n",
    "    if isPalindrome:\n",
    "        print(\"The word, \"+s+\", is a palindrome.\")\n",
    "    else:\n",
    "        print(\"The word, \"+s+\", is not a palindrome.\")\n",
    "    print(\"\")"
   ]
  },
  {
   "cell_type": "code",
   "execution_count": 20,
   "metadata": {
    "collapsed": false
   },
   "outputs": [
    {
     "name": "stdout",
     "output_type": "stream",
     "text": [
      "racecar\n",
      "i value: 0\n",
      "i value: 1\n",
      "i value: 2\n",
      "The word, racecar, is a palindrome.\n",
      "\n"
     ]
    }
   ],
   "source": [
    "test_stackQueue_fr_input()"
   ]
  },
  {
   "cell_type": "code",
   "execution_count": 21,
   "metadata": {
    "collapsed": false
   },
   "outputs": [
    {
     "name": "stdout",
     "output_type": "stream",
     "text": [
      "abcdefghijklmnopqrstuvwxyzzyxwvutsrqponmlkjihgfedcba\n",
      "i value: 0\n",
      "i value: 1\n",
      "i value: 2\n",
      "i value: 3\n",
      "i value: 4\n",
      "i value: 5\n",
      "i value: 6\n",
      "i value: 7\n",
      "i value: 8\n",
      "i value: 9\n",
      "i value: 10\n",
      "i value: 11\n",
      "i value: 12\n",
      "i value: 13\n",
      "i value: 14\n",
      "i value: 15\n",
      "i value: 16\n",
      "i value: 17\n",
      "i value: 18\n",
      "i value: 19\n",
      "i value: 20\n",
      "i value: 21\n",
      "i value: 22\n",
      "i value: 23\n",
      "i value: 24\n",
      "i value: 25\n",
      "The word, abcdefghijklmnopqrstuvwxyzzyxwvutsrqponmlkjihgfedcba, is a palindrome.\n",
      "\n",
      "thistestisveryweirdandverylonggnolyrevdnadriewyrevsitsetsiht\n",
      "i value: 0\n",
      "i value: 1\n",
      "i value: 2\n",
      "i value: 3\n",
      "i value: 4\n",
      "i value: 5\n",
      "i value: 6\n",
      "i value: 7\n",
      "i value: 8\n",
      "i value: 9\n",
      "i value: 10\n",
      "i value: 11\n",
      "i value: 12\n",
      "i value: 13\n",
      "i value: 14\n",
      "i value: 15\n",
      "i value: 16\n",
      "i value: 17\n",
      "i value: 18\n",
      "i value: 19\n",
      "i value: 20\n",
      "i value: 21\n",
      "i value: 22\n",
      "i value: 23\n",
      "i value: 24\n",
      "i value: 25\n",
      "i value: 26\n",
      "i value: 27\n",
      "i value: 28\n",
      "i value: 29\n",
      "The word, thistestisveryweirdandverylonggnolyrevdnadriewyrevsitsetsiht, is a palindrome.\n",
      "\n",
      "qwertyuiopasdfghjklzxcvbnmmnbvcxzlkjhgfdsapoiuytrewq\n",
      "i value: 0\n",
      "i value: 1\n",
      "i value: 2\n",
      "i value: 3\n",
      "i value: 4\n",
      "i value: 5\n",
      "i value: 6\n",
      "i value: 7\n",
      "i value: 8\n",
      "i value: 9\n",
      "i value: 10\n",
      "i value: 11\n",
      "i value: 12\n",
      "i value: 13\n",
      "i value: 14\n",
      "i value: 15\n",
      "i value: 16\n",
      "i value: 17\n",
      "i value: 18\n",
      "i value: 19\n",
      "i value: 20\n",
      "i value: 21\n",
      "i value: 22\n",
      "i value: 23\n",
      "i value: 24\n",
      "i value: 25\n",
      "The word, qwertyuiopasdfghjklzxcvbnmmnbvcxzlkjhgfdsapoiuytrewq, is a palindrome.\n",
      "\n"
     ]
    }
   ],
   "source": [
    "'''long test cases that prove this works for True use case:\n",
    "passed: abcdefghijklmnopqrstuvwxyzzyxwvutsrqponmlkjihgfedcba\n",
    "passed: thistestisveryweirdandverylonggnolyrevdnadriewyrevsitsetsiht\n",
    "passed:  qwertyuiopasdfghjklzxcvbnmmnbvcxzlkjhgfdsapoiuytrewq\n",
    "'''\n",
    "test_stackQueue_fr_input()\n",
    "test_stackQueue_fr_input()\n",
    "test_stackQueue_fr_input()"
   ]
  },
  {
   "cell_type": "code",
   "execution_count": 22,
   "metadata": {
    "collapsed": false
   },
   "outputs": [
    {
     "name": "stdout",
     "output_type": "stream",
     "text": [
      "qwertyuiopasdfghjklzxcvbnmmnbvcxzlkhgfdsapoiuytrewq\n",
      "i value: 0\n",
      "i value: 1\n",
      "i value: 2\n",
      "i value: 3\n",
      "i value: 4\n",
      "i value: 5\n",
      "i value: 6\n",
      "i value: 7\n",
      "i value: 8\n",
      "i value: 9\n",
      "i value: 10\n",
      "i value: 11\n",
      "i value: 12\n",
      "i value: 13\n",
      "i value: 14\n",
      "i value: 15\n",
      "i value: 16\n",
      "The word, qwertyuiopasdfghjklzxcvbnmmnbvcxzlkhgfdsapoiuytrewq, is not a palindrome.\n",
      "\n"
     ]
    }
   ],
   "source": [
    "# a failed test case (off by one)\n",
    "test_stackQueue_fr_input()"
   ]
  },
  {
   "cell_type": "markdown",
   "metadata": {},
   "source": [
    "Because the code compares characters from each end, working its way inward, as soon as a failure is encountered, the code halts without having to continue the test.  In the example above, 16 characters in, the string failed the test."
   ]
  },
  {
   "cell_type": "code",
   "execution_count": 24,
   "metadata": {
    "collapsed": false
   },
   "outputs": [
    {
     "name": "stdout",
     "output_type": "stream",
     "text": [
      "Something!\n",
      "obj.mystack = ['S', 'o', 'm', 'e', 't', 'h', 'i', 'n', 'g', '!']\n",
      "obj.myqueue = ['S', 'o', 'm', 'e', 't', 'h', 'i', 'n', 'g', '!']\n",
      "First Character from each object:\n",
      "\tobj.mystack.pop(-1): !\n",
      "\t obj.myqueue.pop(0): S\n",
      "\t        obj.mystack: ['S', 'o', 'm', 'e', 't', 'h', 'i', 'n', 'g']\n",
      "\t        obj.myqueue: ['o', 'm', 'e', 't', 'h', 'i', 'n', 'g', '!']\n"
     ]
    }
   ],
   "source": [
    "# quick demonstration of the methods in action (borrowing from above code):\n",
    "\n",
    "s=input()\n",
    "obj=StackQueue()   \n",
    "l=len(s)\n",
    "for i in range(l):\n",
    "    obj.pushCharacter(s[i])      # appends each char to stack\n",
    "    obj.enqueueCharacter(s[i])   # appends each char to queue\n",
    "\n",
    "print(\"obj.mystack = %s\" %obj.mystack)\n",
    "print(\"obj.myqueue = %s\" %obj.myqueue)\n",
    "\n",
    "print(\"First Character from each object:\")\n",
    "print(\"\\tobj.mystack.pop(-1): %s\" %obj.popCharacter())\n",
    "print(\"\\t obj.myqueue.pop(0): %s\" %obj.dequeueCharacter())\n",
    "print(\"\\t        obj.mystack: %s\" %obj.mystack)\n",
    "print(\"\\t        obj.myqueue: %s\" %obj.myqueue)"
   ]
  },
  {
   "cell_type": "markdown",
   "metadata": {},
   "source": [
    "<a id=\"bubble\" name=\"bubble\"></a>\n",
    "## Bubble Sort\n",
    "The concept of a bubble sort follows this logic:\n",
    " - Start &nbsp;: \\[3, 2, 1]  ... look at 3 and 2\n",
    " - Step 1: \\[2, 3, 1]  ... look at 3 and 1\n",
    " - Step 2: \\[2, 1, 3]  ... look at 2 and 1\n",
    " - Step 3: \\[1, 2, 3]  ... all looks good ... done\n",
    " - Sort complete.\n",
    " \n",
    "Conceptually, we work our way through the list comparing each item to what is next to it.  If a < b, then look at b and c, if b < c, then look at c and d ... etc."
   ]
  },
  {
   "cell_type": "code",
   "execution_count": 69,
   "metadata": {
    "collapsed": false
   },
   "outputs": [],
   "source": [
    "# to validate input is List, could do this:  if isinstance(n, list):\n",
    "# but this is not considered best practice since children of list should work too\n",
    "\n",
    "class BubbleSortedNumLst:\n",
    "    def __init__(self, nLst):\n",
    "        self.numSwaps = 0\n",
    "        self.lst = nLst        \n",
    "        self.lngth = len(self.lst)\n",
    "        self._doBubbleSort()\n",
    "    \n",
    "    def _swap(self, indx1, indx2):\n",
    "        temp = self.lst[indx2]\n",
    "        self.lst[indx2] = self.lst[indx1]\n",
    "        self.lst[indx1] = temp\n",
    "    \n",
    "    def _doBubbleSort(self):\n",
    "        for i in range(self.lngth):\n",
    "            # Track number of elements swapped during a single array traversal\n",
    "            numberOfSwaps = 0;\n",
    "    \n",
    "            for j in range(self.lngth - 1):\n",
    "                # Swap adjacent elements if they are in decreasing order\n",
    "                if (self.lst[j] > self.lst[j + 1]):\n",
    "                    self._swap(j, j + 1)     # swap elements w/ these indicies\n",
    "                    numberOfSwaps += 1\n",
    "                    self.numSwaps += 1\n",
    "\n",
    "            # If no elements were swapped during a traversal, array is sorted\n",
    "            if numberOfSwaps == 0:\n",
    "                break\n",
    "                \n",
    "    def __str__(self):\n",
    "        return str(self.lst)\n",
    "    \n",
    "    def getSwapStats(self):\n",
    "        outStr = (\"Array is sorted in %d swaps.\\n\" %self.numSwaps)\n",
    "        outStr += (\"First Element: %d\\n\" %self.lst[0])\n",
    "        outStr += (\"Last Element: %d\\n\" %self.lst[-1])\n",
    "        return outStr"
   ]
  },
  {
   "cell_type": "code",
   "execution_count": 73,
   "metadata": {
    "collapsed": false
   },
   "outputs": [],
   "source": [
    "myBSNL = BubbleSortedNumLst([7,-8,4,1,0,3,100,-99,84,-5])"
   ]
  },
  {
   "cell_type": "code",
   "execution_count": 74,
   "metadata": {
    "collapsed": false
   },
   "outputs": [
    {
     "name": "stdout",
     "output_type": "stream",
     "text": [
      "[-99, -8, -5, 0, 1, 3, 4, 7, 84, 100]\n"
     ]
    }
   ],
   "source": [
    "print(myBSNL)"
   ]
  },
  {
   "cell_type": "code",
   "execution_count": 75,
   "metadata": {
    "collapsed": false
   },
   "outputs": [
    {
     "name": "stdout",
     "output_type": "stream",
     "text": [
      "Array is sorted in 24 swaps.\n",
      "First Element: -99\n",
      "Last Element: 100\n",
      "\n"
     ]
    }
   ],
   "source": [
    "print(myBSNL.getSwapStats())"
   ]
  },
  {
   "cell_type": "code",
   "execution_count": 87,
   "metadata": {
    "collapsed": false
   },
   "outputs": [],
   "source": [
    "def test_sort():\n",
    "    lst = [7,-8,4,1,0,3,100,-99,84,-5]\n",
    "    lst.sort()\n",
    "    # print(lst)"
   ]
  },
  {
   "cell_type": "code",
   "execution_count": 88,
   "metadata": {
    "collapsed": false
   },
   "outputs": [
    {
     "name": "stdout",
     "output_type": "stream",
     "text": [
      "100000 loops, best of 3: 2.28 µs per loop\n"
     ]
    }
   ],
   "source": [
    "timeit(test_sort())  # quick test of same sort using Python bulitin function"
   ]
  },
  {
   "cell_type": "code",
   "execution_count": 89,
   "metadata": {
    "collapsed": false
   },
   "outputs": [
    {
     "name": "stdout",
     "output_type": "stream",
     "text": [
      "1000 loops, best of 3: 117 µs per loop\n"
     ]
    }
   ],
   "source": [
    "timeit(BubbleSortedNumLst([7,-8,4,1,0,3,100,-99,84,-5]))  # intialization runs bubble sort"
   ]
  },
  {
   "cell_type": "code",
   "execution_count": 90,
   "metadata": {
    "collapsed": true
   },
   "outputs": [],
   "source": [
    "# eliminating extra memory allocation from previous test\n",
    "\n",
    "class MinimalBSortOfNums:\n",
    "    def __init__(self, nLst):\n",
    "        self.numSwaps = 0\n",
    "        self.lst = nLst        \n",
    "        self.lngth = len(self.lst)\n",
    "        self._doBubbleSort()\n",
    "    \n",
    "    def _swap(self, indx1, indx2):\n",
    "        temp = self.lst[indx2]\n",
    "        self.lst[indx2] = self.lst[indx1]\n",
    "        self.lst[indx1] = temp\n",
    "    \n",
    "    def _doBubbleSort(self):\n",
    "        for i in range(self.lngth):\n",
    "            # Track number of elements swapped during a single array traversal\n",
    "            numberOfSwaps = 0;\n",
    "    \n",
    "            for j in range(self.lngth - 1):\n",
    "                # Swap adjacent elements if they are in decreasing order\n",
    "                if (self.lst[j] > self.lst[j + 1]):\n",
    "                    self._swap(j, j + 1)     # swap elements w/ these indicies\n",
    "                    numberOfSwaps += 1\n",
    "                    self.numSwaps += 1\n",
    "\n",
    "            # If no elements were swapped during a traversal, array is sorted\n",
    "            if numberOfSwaps == 0:\n",
    "                break    "
   ]
  },
  {
   "cell_type": "code",
   "execution_count": 91,
   "metadata": {
    "collapsed": false
   },
   "outputs": [
    {
     "name": "stdout",
     "output_type": "stream",
     "text": [
      "10000 loops, best of 3: 109 µs per loop\n"
     ]
    }
   ],
   "source": [
    "timeit(MinimalBSortOfNums([7,-8,4,1,0,3,100,-99,84,-5]))  # intialization runs bubble sort"
   ]
  },
  {
   "cell_type": "markdown",
   "metadata": {},
   "source": [
    "These quick performance metrics show that rolling our own bubble sort can't compare to builtin code that is optimized for performance.  This code is for demonstration purposes only."
   ]
  },
  {
   "cell_type": "markdown",
   "metadata": {},
   "source": [
    "<a id=\"linkedList\" name=\"linkedList\"></a>\n",
    "\n",
    "## Basic Linked List Code in Python\n",
    "This code is mostly taken from this site which also has a very thorough and detailed write-up of how it works:  \n",
    "[Unordered List - Excercises in Computer Science](http://interactivepython.org/courselib/static/pythonds/BasicDS/ImplementinganUnorderedListLinkedLists.html)\n",
    "\n",
    "This code was then edited for learning and demo purposes with this notebook.\n",
    "\n",
    "Concepts shown here are for illustration purposes only.  It is recommended you look at `Collections` and other data structure libraries for potentially better performing data structures to use in production code before trying to roll your own."
   ]
  },
  {
   "cell_type": "code",
   "execution_count": 1,
   "metadata": {
    "collapsed": true
   },
   "outputs": [],
   "source": [
    "class Node:\n",
    "    def __init__(self,initdata):\n",
    "        self.data = initdata\n",
    "        self.next = None\n",
    "\n",
    "    def getData(self):\n",
    "        return self.data\n",
    "\n",
    "    def getNext(self):\n",
    "        return self.next\n",
    "\n",
    "    def setData(self,newdata):\n",
    "        self.data = newdata\n",
    "\n",
    "    def setNext(self,newnext):\n",
    "        self.next = newnext\n",
    "        \n",
    "    def __str__(self):\n",
    "        return str(self.data)  # added by TMWP so nodes can be printed"
   ]
  },
  {
   "cell_type": "code",
   "execution_count": 2,
   "metadata": {
    "collapsed": true
   },
   "outputs": [],
   "source": [
    "class UnorderedList:\n",
    "    def __init__(self):\n",
    "        self.head = None\n",
    "\n",
    "    def isEmpty(self):\n",
    "        return self.head == None\n",
    "\n",
    "    def add(self,item):\n",
    "        temp = Node(item)\n",
    "        temp.setNext(self.head)\n",
    "        self.head = temp\n",
    "\n",
    "    def size(self):\n",
    "        current = self.head\n",
    "        count = 0\n",
    "        while current != None:\n",
    "            count = count + 1\n",
    "            current = current.getNext()\n",
    "        return count\n",
    "    \n",
    "    def __str__(self):\n",
    "        # added by TMWP so the whole list can be printed\n",
    "        current = self.head\n",
    "        valueList = []\n",
    "        while current != None:\n",
    "            valueList.append(current.getData())\n",
    "            current = current.getNext()\n",
    "        return str(valueList)\n",
    "                        \n",
    "    def search(self,item):\n",
    "        current = self.head\n",
    "        found = False\n",
    "        while current != None and not found:\n",
    "            if current.getData() == item:\n",
    "                found = True\n",
    "            else:\n",
    "                current = current.getNext()\n",
    "        return found\n",
    "    \n",
    "    def remove(self, item):\n",
    "        # TMWP enhancement:\n",
    "        #    * has changes so that if removing a value that is not found or \n",
    "        #      already removed, it does not throw an error\n",
    "        #    * remove() will return 0 if successful and -1 if the value was not found    \n",
    "        \n",
    "        previous = None\n",
    "        current = self.head\n",
    "        found = False\n",
    "        while not found:\n",
    "            if current != None:\n",
    "                if current.getData() == item:\n",
    "                    found = True\n",
    "                else:\n",
    "                    previous = current\n",
    "                    current = current.getNext()\n",
    "            else:\n",
    "                return -1\n",
    "        if found == True:\n",
    "            if previous == None:\n",
    "                self.head = current.getNext()\n",
    "            else:\n",
    "                previous.setNext(current.getNext())\n",
    "            return 0\n",
    "        else:\n",
    "            return -1"
   ]
  },
  {
   "cell_type": "code",
   "execution_count": 3,
   "metadata": {
    "collapsed": true
   },
   "outputs": [],
   "source": [
    "myList = UnorderedList()\n",
    "\n",
    "def test_UoLst(unorderedList, objName):\n",
    "    print(\"%s.isEmpty() = %s\" %(objName, unorderedList.isEmpty()))\n",
    "    print(\"size: %d\" %unorderedList.size())\n",
    "    print(\"head value: %s\" %unorderedList.head)"
   ]
  },
  {
   "cell_type": "code",
   "execution_count": 4,
   "metadata": {
    "collapsed": false
   },
   "outputs": [
    {
     "name": "stdout",
     "output_type": "stream",
     "text": [
      "myList.isEmpty() = True\n",
      "size: 0\n",
      "head value: None\n"
     ]
    }
   ],
   "source": [
    "test_UoLst(myList, \"myList\")"
   ]
  },
  {
   "cell_type": "code",
   "execution_count": 5,
   "metadata": {
    "collapsed": false
   },
   "outputs": [
    {
     "name": "stdout",
     "output_type": "stream",
     "text": [
      "myList.isEmpty() = False\n",
      "size: 1\n",
      "head value: 31\n"
     ]
    }
   ],
   "source": [
    "# add one value and see this all change\n",
    "myList.add(31)\n",
    "# test the results:\n",
    "test_UoLst(myList, \"myList\")"
   ]
  },
  {
   "cell_type": "code",
   "execution_count": 6,
   "metadata": {
    "collapsed": false
   },
   "outputs": [
    {
     "name": "stdout",
     "output_type": "stream",
     "text": [
      "myList.isEmpty() = False\n",
      "size: 10\n",
      "head value: -99\n"
     ]
    }
   ],
   "source": [
    "# add more values\n",
    "for val in [77, 17, -8, 93, 26, 54, 0, 112, -99]:\n",
    "    myList.add(val)\n",
    "\n",
    "# check the object again  (note that 31 was also added in previous cell)\n",
    "test_UoLst(myList, \"myList\")"
   ]
  },
  {
   "cell_type": "code",
   "execution_count": 7,
   "metadata": {
    "collapsed": false
   },
   "outputs": [
    {
     "name": "stdout",
     "output_type": "stream",
     "text": [
      "Test if 100 is in the object: False\n"
     ]
    }
   ],
   "source": [
    "# look for something that isn't there:\n",
    "print(\"Test if 100 is in the object: %s\" %myList.search(100))"
   ]
  },
  {
   "cell_type": "code",
   "execution_count": 8,
   "metadata": {
    "collapsed": false
   },
   "outputs": [
    {
     "name": "stdout",
     "output_type": "stream",
     "text": [
      "Test if 100 is in the object: True\n"
     ]
    }
   ],
   "source": [
    "# add 100 and check again\n",
    "myList.add(100)\n",
    "print(\"Test if 100 is in the object: %s\" %myList.search(100))"
   ]
  },
  {
   "cell_type": "code",
   "execution_count": 9,
   "metadata": {
    "collapsed": false
   },
   "outputs": [
    {
     "name": "stdout",
     "output_type": "stream",
     "text": [
      "Object size: 11\n",
      "Test if 54 is in the object: True\n"
     ]
    }
   ],
   "source": [
    "print(\"Object size: %d\" %myList.size())\n",
    "print(\"Test if 54 is in the object: %s\" %myList.search(54))"
   ]
  },
  {
   "cell_type": "code",
   "execution_count": 10,
   "metadata": {
    "collapsed": false
   },
   "outputs": [
    {
     "name": "stdout",
     "output_type": "stream",
     "text": [
      "Object size: 10\n",
      "Test if 54 is in the object: False\n"
     ]
    }
   ],
   "source": [
    "# remove 54 and check again:\n",
    "myList.remove(54)\n",
    "print(\"Object size: %d\" %myList.size())\n",
    "print(\"Test if 54 is in the object: %s\" %myList.search(54))"
   ]
  },
  {
   "cell_type": "code",
   "execution_count": 11,
   "metadata": {
    "collapsed": false
   },
   "outputs": [
    {
     "name": "stdout",
     "output_type": "stream",
     "text": [
      "1st time: return val from myList.remove(31) = 0\n",
      "2nd time: return val from myList.remove(31) = -1\n",
      "Test if 31 is in the object: False\n"
     ]
    }
   ],
   "source": [
    "# capture return values from removal ... found = 0, not found = -1\n",
    "rtn1 = myList.remove(31)\n",
    "rtn2 = myList.remove(31)\n",
    "\n",
    "print(\"1st time: return val from myList.remove(31) = %d\" %rtn1)\n",
    "print(\"2nd time: return val from myList.remove(31) = %d\" %rtn2)\n",
    "print(\"Test if 31 is in the object: %s\" %myList.search(31))"
   ]
  },
  {
   "cell_type": "code",
   "execution_count": 12,
   "metadata": {
    "collapsed": false
   },
   "outputs": [
    {
     "name": "stdout",
     "output_type": "stream",
     "text": [
      "myList.isEmpty() = False\n",
      "size: 9\n",
      "head value: 100\n"
     ]
    }
   ],
   "source": [
    "# get stats on the object\n",
    "test_UoLst(myList, \"myList\")"
   ]
  },
  {
   "cell_type": "code",
   "execution_count": 13,
   "metadata": {
    "collapsed": false
   },
   "outputs": [
    {
     "name": "stdout",
     "output_type": "stream",
     "text": [
      "Test if 93 is in the object: True\n"
     ]
    }
   ],
   "source": [
    "print(\"Test if 93 is in the object: %s\" %myList.search(93))"
   ]
  },
  {
   "cell_type": "code",
   "execution_count": 14,
   "metadata": {
    "collapsed": false
   },
   "outputs": [
    {
     "name": "stdout",
     "output_type": "stream",
     "text": [
      "[100, -99, 112, 0, 26, 93, -8, 17, 77]\n"
     ]
    }
   ],
   "source": [
    "print(myList)"
   ]
  },
  {
   "cell_type": "code",
   "execution_count": null,
   "metadata": {
    "collapsed": true
   },
   "outputs": [],
   "source": []
  }
 ],
 "metadata": {
  "kernelspec": {
   "display_name": "Python [conda env:PY36]",
   "language": "python",
   "name": "conda-env-PY36-py"
  },
  "language_info": {
   "codemirror_mode": {
    "name": "ipython",
    "version": 3
   },
   "file_extension": ".py",
   "mimetype": "text/x-python",
   "name": "python",
   "nbconvert_exporter": "python",
   "pygments_lexer": "ipython3",
   "version": "3.6.0"
  }
 },
 "nbformat": 4,
 "nbformat_minor": 2
}
