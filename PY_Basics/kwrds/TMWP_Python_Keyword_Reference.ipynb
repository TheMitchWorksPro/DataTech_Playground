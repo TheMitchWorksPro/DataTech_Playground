{
 "cells": [
  {
   "cell_type": "markdown",
   "metadata": {},
   "source": [
    "<div align=\"right\">Python 3.6 [PY36 Env]<br/>\n",
    "Python 2.7 [PY27_Test Env]</div>"
   ]
  },
  {
   "cell_type": "markdown",
   "metadata": {},
   "source": [
    "# Python Keyword List\n",
    "Content in this notebook uses the `keywords` library and commands accessible within Python to show how to list and get help on keywords.  It also uses code to analyze differences between Python 2 and Python 3.  The related links at the top is concerning related help on keywords and related topics.\n",
    "\n",
    "## Related Links\n",
    " - Keyword Lists online:\n",
    "   - [Python org - Python 2 Keywords](https://docs.python.org/2/reference/lexical_analysis.html#keywords)\n",
    "   - [Python org - Python 3 Keywords](https://docs.python.org/3/reference/lexical_analysis.html#keywords)\n",
    "   - [programmiz.com Python3 Keyword List - w hyperlinks to explanations](https://www.programiz.com/python-programming/keyword-list)\n",
    " - [PY2: import keyword library and commands](https://docs.python.org/2/library/keyword.html)\n",
    " - [PY36](https://docs.python.org/3/library/)\n",
    "   - [Built-in Functions on Python.org](https://docs.python.org/3/library/functions.html)\n",
    "   - [Reference Index for Python 3](https://docs.python.org/3/reference/index.html#reference-index)\n",
    "   \n",
    "\n",
    "## Tests in Python 3.6"
   ]
  },
  {
   "cell_type": "code",
   "execution_count": 1,
   "metadata": {
    "collapsed": false
   },
   "outputs": [
    {
     "data": {
      "text/plain": [
       "['False',\n",
       " 'None',\n",
       " 'True',\n",
       " 'and',\n",
       " 'as',\n",
       " 'assert',\n",
       " 'break',\n",
       " 'class',\n",
       " 'continue',\n",
       " 'def',\n",
       " 'del',\n",
       " 'elif',\n",
       " 'else',\n",
       " 'except',\n",
       " 'finally',\n",
       " 'for',\n",
       " 'from',\n",
       " 'global',\n",
       " 'if',\n",
       " 'import',\n",
       " 'in',\n",
       " 'is',\n",
       " 'lambda',\n",
       " 'nonlocal',\n",
       " 'not',\n",
       " 'or',\n",
       " 'pass',\n",
       " 'raise',\n",
       " 'return',\n",
       " 'try',\n",
       " 'while',\n",
       " 'with',\n",
       " 'yield']"
      ]
     },
     "execution_count": 1,
     "metadata": {},
     "output_type": "execute_result"
    }
   ],
   "source": [
    "import keyword\n",
    "keyword.kwlist"
   ]
  },
  {
   "cell_type": "code",
   "execution_count": 7,
   "metadata": {
    "collapsed": false
   },
   "outputs": [
    {
     "name": "stdout",
     "output_type": "stream",
     "text": [
      "Number of Keywords: 33\n"
     ]
    }
   ],
   "source": [
    "kw1 = keyword.kwlist\n",
    "print(\"Number of Keywords: %d\" %len(kw1))"
   ]
  },
  {
   "cell_type": "code",
   "execution_count": 5,
   "metadata": {
    "collapsed": false
   },
   "outputs": [
    {
     "name": "stdout",
     "output_type": "stream",
     "text": [
      "True\n"
     ]
    },
    {
     "data": {
      "text/plain": [
       "False"
      ]
     },
     "execution_count": 5,
     "metadata": {},
     "output_type": "execute_result"
    }
   ],
   "source": [
    "print(keyword.iskeyword(\"yield\"))  # testing with a word that is a keyword\n",
    "keyword.iskeyword(\"queue\")  # testing with a word that is not a keyword"
   ]
  },
  {
   "cell_type": "markdown",
   "metadata": {},
   "source": [
    "## Tests in Python 2.7\n",
    "Same tests performed in Python 2.7"
   ]
  },
  {
   "cell_type": "code",
   "execution_count": 4,
   "metadata": {
    "collapsed": false
   },
   "outputs": [
    {
     "data": {
      "text/plain": [
       "['and',\n",
       " 'as',\n",
       " 'assert',\n",
       " 'break',\n",
       " 'class',\n",
       " 'continue',\n",
       " 'def',\n",
       " 'del',\n",
       " 'elif',\n",
       " 'else',\n",
       " 'except',\n",
       " 'exec',\n",
       " 'finally',\n",
       " 'for',\n",
       " 'from',\n",
       " 'global',\n",
       " 'if',\n",
       " 'import',\n",
       " 'in',\n",
       " 'is',\n",
       " 'lambda',\n",
       " 'not',\n",
       " 'or',\n",
       " 'pass',\n",
       " 'print',\n",
       " 'raise',\n",
       " 'return',\n",
       " 'try',\n",
       " 'while',\n",
       " 'with',\n",
       " 'yield']"
      ]
     },
     "execution_count": 4,
     "metadata": {},
     "output_type": "execute_result"
    }
   ],
   "source": [
    "import keyword\n",
    "keyword.kwlist"
   ]
  },
  {
   "cell_type": "code",
   "execution_count": 5,
   "metadata": {
    "collapsed": false
   },
   "outputs": [
    {
     "name": "stdout",
     "output_type": "stream",
     "text": [
      "Number of Keywords: 31\n"
     ]
    }
   ],
   "source": [
    "kw1 = keyword.kwlist\n",
    "print(\"Number of Keywords: %d\" %len(kw1))"
   ]
  },
  {
   "cell_type": "code",
   "execution_count": 6,
   "metadata": {
    "collapsed": false
   },
   "outputs": [
    {
     "name": "stdout",
     "output_type": "stream",
     "text": [
      "True\n"
     ]
    },
    {
     "data": {
      "text/plain": [
       "False"
      ]
     },
     "execution_count": 6,
     "metadata": {},
     "output_type": "execute_result"
    }
   ],
   "source": [
    "print(keyword.iskeyword(\"yield\"))  # testing with a word that is a keyword\n",
    "keyword.iskeyword(\"queue\")  # testing with a word that is not a keyword"
   ]
  },
  {
   "cell_type": "code",
   "execution_count": 7,
   "metadata": {
    "collapsed": false
   },
   "outputs": [
    {
     "name": "stdout",
     "output_type": "stream",
     "text": [
      "False\n",
      "False\n",
      "False\n"
     ]
    }
   ],
   "source": [
    "# False / True are listed as keywords in Python 3.6 but not in 2.7\n",
    "# at least accodring to keyword.kwlist\n",
    "# checking them:\n",
    "\n",
    "True  # highlights like keyword\n",
    "False # highlights like keyword\n",
    "None  # highlights like keyword\n",
    "\n",
    "print(keyword.iskeyword(\"True\"))  # does not know it\n",
    "print(keyword.iskeyword(\"False\")) # does not know it\n",
    "print(keyword.iskeyword(\"None\"))  # does not know it\n",
    "                                  # all were added to keywords list for Python 3.x"
   ]
  },
  {
   "cell_type": "code",
   "execution_count": 8,
   "metadata": {
    "collapsed": false
   },
   "outputs": [
    {
     "name": "stdout",
     "output_type": "stream",
     "text": [
      "\n",
      "Here is a list of the Python keywords.  Enter any keyword to get more help.\n",
      "\n",
      "and                 elif                if                  print\n",
      "as                  else                import              raise\n",
      "assert              except              in                  return\n",
      "break               exec                is                  try\n",
      "class               finally             lambda              while\n",
      "continue            for                 not                 with\n",
      "def                 from                or                  yield\n",
      "del                 global              pass                \n",
      "\n"
     ]
    }
   ],
   "source": [
    "help(\"keywords\") # note: this list is also 31 words and does not list True/False/None"
   ]
  },
  {
   "cell_type": "code",
   "execution_count": 14,
   "metadata": {
    "collapsed": false
   },
   "outputs": [
    {
     "name": "stdout",
     "output_type": "stream",
     "text": [
      "word not found in Python 3.6: exec\n",
      "word not found in Python 3.6: print\n",
      "Common Keywords between Both Versions of Python:\n",
      "['and', 'as', 'assert', 'break', 'class', 'continue', 'def', 'del', 'elif', 'else', 'except', 'finally', 'for', 'from', 'global', 'if', 'import', 'in', 'is', 'lambda', 'not', 'or', 'pass', 'raise', 'return', 'try', 'while', 'with', 'yield']\n"
     ]
    }
   ],
   "source": [
    "# final observation:  Keyword counts different b/w Python 2.7 and Python 3.6\n",
    "#                     This cell looks for PY27 words that are depricated in PY36\n",
    "\n",
    "py3_list = ['False', 'None', 'True', 'and', 'as', 'assert', 'break', \n",
    "            'class', 'continue', 'def', 'del', 'elif', 'else', 'except', \n",
    "            'finally', 'for', 'from', 'global', 'if', 'import', 'in', \n",
    "            'is', 'lambda', 'nonlocal', 'not', 'or', 'pass', \n",
    "            'raise', 'return', 'try', 'while', 'with', 'yield']   # list copied from earlier run in PY36\n",
    "\n",
    "common_kw = []\n",
    "temp = []\n",
    "\n",
    "for word in kw1:\n",
    "    temp = [(common_kw.append(word2), word2) for word2 in py3_list if word==word2]\n",
    "    if len(temp) == 0:\n",
    "        print(\"word not found in Python 3.6: %s\" %word)\n",
    "\n",
    "print(\"Common Keywords between Both Versions of Python:\")\n",
    "print(common_kw)"
   ]
  },
  {
   "cell_type": "markdown",
   "metadata": {},
   "source": [
    "`exec` and `print` were not depricated.  They were converted from key words to functions in Python 3.6.  This explains the syntax change in print statements that breaks old Python 2.7 code."
   ]
  },
  {
   "cell_type": "code",
   "execution_count": 15,
   "metadata": {
    "collapsed": false
   },
   "outputs": [
    {
     "name": "stdout",
     "output_type": "stream",
     "text": [
      "word not found in Python 2.7: False\n",
      "word not found in Python 2.7: None\n",
      "word not found in Python 2.7: True\n",
      "word not found in Python 2.7: nonlocal\n",
      "Common Keywords between Both Versions of Python:\n",
      "['and', 'as', 'assert', 'break', 'class', 'continue', 'def', 'del', 'elif', 'else', 'except', 'finally', 'for', 'from', 'global', 'if', 'import', 'in', 'is', 'lambda', 'not', 'or', 'pass', 'raise', 'return', 'try', 'while', 'with', 'yield']\n"
     ]
    }
   ],
   "source": [
    "# now let's look for the discrepencies the other way.  We already know about True/False/None\n",
    "# but taken together with exec, print, the counts don't add up yet for the differences\n",
    "\n",
    "common_kw = []\n",
    "temp = []\n",
    "\n",
    "for word in py3_list:\n",
    "    temp = [(common_kw.append(word2), word2) for word2 in kw1 if word==word2]\n",
    "    if len(temp) == 0:\n",
    "        print(\"word not found in Python 2.7: %s\" %word)\n",
    "\n",
    "print(\"Common Keywords between Both Versions of Python:\")\n",
    "print(common_kw)"
   ]
  },
  {
   "cell_type": "markdown",
   "metadata": {},
   "source": [
    "This solves the discrepencies.  Python 3.6 had a keyword count of 33 while Python 2.7 had a count of 31:\n",
    "- Python 2.7 has 31 keywords\n",
    "- 2 were converted to functions in Python 3.6 so that gives 3.6 a base of 29\n",
    "- 29 + 4 new keywords (added to the list for PY36) and we get 33\n",
    "\n",
    "However, it should be noted that `True`, `False`, `None` are reserved words in Python 2.7 that simply don't show in its keywords list.  This is more of a correction than an addition in Python 3.6"
   ]
  },
  {
   "cell_type": "markdown",
   "metadata": {},
   "source": [
    "## Getting Help on a Keyword\n",
    "In other languages, documentation often includes a convenient page with hyperlinks for each keyword.  Python has this for builtin functions but I could not find it for keywords.  Using above code, we can generate the list, and then we can ask for help on any given keyword like this:"
   ]
  },
  {
   "cell_type": "code",
   "execution_count": 16,
   "metadata": {
    "collapsed": false
   },
   "outputs": [
    {
     "name": "stdout",
     "output_type": "stream",
     "text": [
      "The \"assert\" statement\n",
      "**********************\n",
      "\n",
      "Assert statements are a convenient way to insert debugging assertions\n",
      "into a program:\n",
      "\n",
      "   assert_stmt ::= \"assert\" expression [\",\" expression]\n",
      "\n",
      "The simple form, \"assert expression\", is equivalent to\n",
      "\n",
      "   if __debug__:\n",
      "       if not expression: raise AssertionError\n",
      "\n",
      "The extended form, \"assert expression1, expression2\", is equivalent to\n",
      "\n",
      "   if __debug__:\n",
      "       if not expression1: raise AssertionError(expression2)\n",
      "\n",
      "These equivalences assume that \"__debug__\" and \"AssertionError\" refer\n",
      "to the built-in variables with those names.  In the current\n",
      "implementation, the built-in variable \"__debug__\" is \"True\" under\n",
      "normal circumstances, \"False\" when optimization is requested (command\n",
      "line option -O).  The current code generator emits no code for an\n",
      "assert statement when optimization is requested at compile time.  Note\n",
      "that it is unnecessary to include the source code for the expression\n",
      "that failed in the error message; it will be displayed as part of the\n",
      "stack trace.\n",
      "\n",
      "Assignments to \"__debug__\" are illegal.  The value for the built-in\n",
      "variable is determined when the interpreter starts.\n",
      "\n"
     ]
    }
   ],
   "source": [
    "help(\"assert\")"
   ]
  },
  {
   "cell_type": "code",
   "execution_count": 17,
   "metadata": {
    "collapsed": false
   },
   "outputs": [
    {
     "name": "stdout",
     "output_type": "stream",
     "text": [
      "The \"yield\" statement\n",
      "*********************\n",
      "\n",
      "   yield_stmt ::= yield_expression\n",
      "\n",
      "The \"yield\" statement is only used when defining a generator function,\n",
      "and is only used in the body of the generator function. Using a\n",
      "\"yield\" statement in a function definition is sufficient to cause that\n",
      "definition to create a generator function instead of a normal\n",
      "function.\n",
      "\n",
      "When a generator function is called, it returns an iterator known as a\n",
      "generator iterator, or more commonly, a generator.  The body of the\n",
      "generator function is executed by calling the generator's \"next()\"\n",
      "method repeatedly until it raises an exception.\n",
      "\n",
      "When a \"yield\" statement is executed, the state of the generator is\n",
      "frozen and the value of \"expression_list\" is returned to \"next()\"'s\n",
      "caller.  By \"frozen\" we mean that all local state is retained,\n",
      "including the current bindings of local variables, the instruction\n",
      "pointer, and the internal evaluation stack: enough information is\n",
      "saved so that the next time \"next()\" is invoked, the function can\n",
      "proceed exactly as if the \"yield\" statement were just another external\n",
      "call.\n",
      "\n",
      "As of Python version 2.5, the \"yield\" statement is now allowed in the\n",
      "\"try\" clause of a \"try\" ...  \"finally\" construct.  If the generator is\n",
      "not resumed before it is finalized (by reaching a zero reference count\n",
      "or by being garbage collected), the generator-iterator's \"close()\"\n",
      "method will be called, allowing any pending \"finally\" clauses to\n",
      "execute.\n",
      "\n",
      "For full details of \"yield\" semantics, refer to the Yield expressions\n",
      "section.\n",
      "\n",
      "Note: In Python 2.2, the \"yield\" statement was only allowed when the\n",
      "  \"generators\" feature has been enabled.  This \"__future__\" import\n",
      "  statement was used to enable the feature:\n",
      "\n",
      "     from __future__ import generators\n",
      "\n",
      "See also:\n",
      "\n",
      "  **PEP 255** - Simple Generators\n",
      "     The proposal for adding generators and the \"yield\" statement to\n",
      "     Python.\n",
      "\n",
      "  **PEP 342** - Coroutines via Enhanced Generators\n",
      "     The proposal that, among other generator enhancements, proposed\n",
      "     allowing \"yield\" to appear inside a \"try\" ... \"finally\" block.\n",
      "\n"
     ]
    }
   ],
   "source": [
    "help(\"yield\")"
   ]
  },
  {
   "cell_type": "code",
   "execution_count": null,
   "metadata": {
    "collapsed": true
   },
   "outputs": [],
   "source": []
  }
 ],
 "metadata": {
  "anaconda-cloud": {},
  "kernelspec": {
   "display_name": "Python [conda env:PY27_Test]",
   "language": "python",
   "name": "conda-env-PY27_Test-py"
  },
  "language_info": {
   "codemirror_mode": {
    "name": "ipython",
    "version": 2
   },
   "file_extension": ".py",
   "mimetype": "text/x-python",
   "name": "python",
   "nbconvert_exporter": "python",
   "pygments_lexer": "ipython2",
   "version": "2.7.13"
  }
 },
 "nbformat": 4,
 "nbformat_minor": 2
}
