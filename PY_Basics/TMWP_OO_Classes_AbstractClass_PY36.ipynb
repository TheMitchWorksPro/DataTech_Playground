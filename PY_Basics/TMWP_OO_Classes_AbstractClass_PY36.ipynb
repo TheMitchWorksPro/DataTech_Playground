{
 "cells": [
  {
   "cell_type": "markdown",
   "metadata": {},
   "source": [
    "<div align=\"right\">Python 3.6 [PY36 env]</div>"
   ]
  },
  {
   "cell_type": "markdown",
   "metadata": {},
   "source": [
    "<a id=\"abstract\" name=\"abstract\"></a>\n",
    "## Abstract Object Coding Exmple\n",
    "This code example comes from a problem provided on www.hackerrank.com (python 30 day challenge).  This syntax was created/tested on Python 3.6."
   ]
  },
  {
   "cell_type": "code",
   "execution_count": 83,
   "metadata": {
    "collapsed": false
   },
   "outputs": [],
   "source": [
    "# tested on Python 3.6 ... \n",
    "# comments help explain some conceptual things about this code\n",
    "\n",
    "from abc import ABCMeta, abstractmethod\n",
    "\n",
    "class Book(object, metaclass=ABCMeta):     # sets up abstract class\n",
    "    def __init__(self,title,author):       # abstract classes can be subclassed\n",
    "        self.title=title                   # but cannot be instantiated\n",
    "        self.author=author  \n",
    "        print(\"Creating Book: \", self.title, \"by\", self.author)\n",
    "        \n",
    "    @abstractmethod                        # abstract method definition in Python\n",
    "    def display(): pass                    # abstract method definition in Python continued\n",
    "    \n",
    "    @abstractmethod \n",
    "    def strSummary(): pass\n",
    "    \n",
    "    def __str__(self):\n",
    "        return self.title + \" by \" + self.author\n",
    "\n",
    "class MyBook(Book):                                     # if this class adds any abstract methods\n",
    "    def __init__(self, title, author, price):           # it would be abstract too\n",
    "        super().__init__(title, author)                 # to be a concrete class that can be instantiated\n",
    "        # Book.__init__(self, title,author)             # it must implement all inherited abstract methods\n",
    "        self.price = price                              # note: Book. and super() solutions both work\n",
    "        print(\"Creating MyBook: \", self.price)          #       but super() is a best practice for forward compatibility \n",
    "                                                        # \n",
    "    def strSummary(self):\n",
    "        return ((\" Title: %s\\n\" %self.title) +\n",
    "                (\"Author: %s\\n\" %self.author) + \n",
    "                (\" Price: %s\" %self.price))\n",
    "    \n",
    "    def display(self):\n",
    "        print(self.strSummary())\n",
    "\n",
    "#         print(\"Title: %s\" %self.title)\n",
    "#         print(\"Author: %s\" %self.author)\n",
    "#         print(\"Price: %d\" %self.price)"
   ]
  },
  {
   "cell_type": "code",
   "execution_count": 84,
   "metadata": {
    "collapsed": false
   },
   "outputs": [
    {
     "name": "stdout",
     "output_type": "stream",
     "text": [
      "Creating Book:  The Lord of the Rings by J.R.R. Tolkien\n",
      "Creating MyBook:  8.5\n"
     ]
    }
   ],
   "source": [
    "sciFiAmazing = MyBook(\"The Lord of the Rings\", \"J.R.R. Tolkien\", 8.5)"
   ]
  },
  {
   "cell_type": "code",
   "execution_count": 85,
   "metadata": {
    "collapsed": false
   },
   "outputs": [
    {
     "data": {
      "text/plain": [
       "8.5"
      ]
     },
     "execution_count": 85,
     "metadata": {},
     "output_type": "execute_result"
    }
   ],
   "source": [
    "sciFiAmazing.price"
   ]
  },
  {
   "cell_type": "code",
   "execution_count": 86,
   "metadata": {
    "collapsed": false
   },
   "outputs": [
    {
     "name": "stdout",
     "output_type": "stream",
     "text": [
      " Title: The Lord of the Rings\n",
      "Author: J.R.R. Tolkien\n",
      " Price: 8.5\n"
     ]
    }
   ],
   "source": [
    "sciFiAmazing.display()"
   ]
  },
  {
   "cell_type": "code",
   "execution_count": 87,
   "metadata": {
    "collapsed": false
   },
   "outputs": [
    {
     "name": "stdout",
     "output_type": "stream",
     "text": [
      "The Lord of the Rings by J.R.R. Tolkien\n",
      "The Lord of the Rings by J.R.R. Tolkien\n"
     ]
    }
   ],
   "source": [
    "print(sciFiAmazing.title + \" by \" + sciFiAmazing.author)\n",
    "print(sciFiAmazing)"
   ]
  },
  {
   "cell_type": "code",
   "execution_count": 88,
   "metadata": {
    "collapsed": false
   },
   "outputs": [
    {
     "name": "stdout",
     "output_type": "stream",
     "text": [
      "<class 'TypeError'>\n",
      "Can't instantiate abstract class Book with abstract methods display, strSummary\n"
     ]
    }
   ],
   "source": [
    "# note ... abstract class cannot be instantiated\n",
    "# this will throw an error as shown here:\n",
    "\n",
    "try:\n",
    "    aBook = Book(\"Fight Club\", \"Forget Who\", 7.5)\n",
    "except Exception as ee:\n",
    "    print(type(ee))\n",
    "    print(ee)"
   ]
  },
  {
   "cell_type": "code",
   "execution_count": 89,
   "metadata": {
    "collapsed": false
   },
   "outputs": [
    {
     "ename": "TypeError",
     "evalue": "Can't instantiate abstract class Book with abstract methods display, strSummary",
     "output_type": "error",
     "traceback": [
      "\u001b[0;31m---------------------------------------------------------------------------\u001b[0m",
      "\u001b[0;31mTypeError\u001b[0m                                 Traceback (most recent call last)",
      "\u001b[0;32m<ipython-input-89-1cd5a848b450>\u001b[0m in \u001b[0;36m<module>\u001b[0;34m()\u001b[0m\n\u001b[0;32m----> 1\u001b[0;31m \u001b[0maBook\u001b[0m \u001b[1;33m=\u001b[0m \u001b[0mBook\u001b[0m\u001b[1;33m(\u001b[0m\u001b[1;34m\"Fight Club\"\u001b[0m\u001b[1;33m,\u001b[0m \u001b[1;34m\"Forget Who\"\u001b[0m\u001b[1;33m,\u001b[0m \u001b[1;36m7.5\u001b[0m\u001b[1;33m)\u001b[0m\u001b[1;33m\u001b[0m\u001b[0m\n\u001b[0m",
      "\u001b[0;31mTypeError\u001b[0m: Can't instantiate abstract class Book with abstract methods display, strSummary"
     ]
    }
   ],
   "source": [
    "aBook = Book(\"Fight Club\", \"Forget Who\", 7.5)"
   ]
  },
  {
   "cell_type": "code",
   "execution_count": null,
   "metadata": {
    "collapsed": true
   },
   "outputs": [],
   "source": []
  }
 ],
 "metadata": {
  "kernelspec": {
   "display_name": "Python [conda env:PY36]",
   "language": "python",
   "name": "conda-env-PY36-py"
  },
  "language_info": {
   "codemirror_mode": {
    "name": "ipython",
    "version": 3
   },
   "file_extension": ".py",
   "mimetype": "text/x-python",
   "name": "python",
   "nbconvert_exporter": "python",
   "pygments_lexer": "ipython3",
   "version": "3.6.0"
  }
 },
 "nbformat": 4,
 "nbformat_minor": 2
}
