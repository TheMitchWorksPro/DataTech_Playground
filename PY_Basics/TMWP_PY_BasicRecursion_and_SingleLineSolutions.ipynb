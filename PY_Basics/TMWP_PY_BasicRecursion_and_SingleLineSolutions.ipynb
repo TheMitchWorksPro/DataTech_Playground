{
 "cells": [
  {
   "cell_type": "markdown",
   "metadata": {},
   "source": [
    "<div align=\"right\">Python 3.6 [PY36 Env]</div>"
   ]
  },
  {
   "cell_type": "markdown",
   "metadata": {},
   "source": [
    "# Python - Recursion Examples and Explanation\n",
    "Code on this page is to illustrate the basics of recursion.  Code was tested in Python 3.6 but should work in Python 2.7 as well.  Code is also explored from a perspective of condensing basic coding concepts to a single line."
   ]
  },
  {
   "cell_type": "markdown",
   "metadata": {},
   "source": [
    "<a id=\"factorial\" name=\"factorial\"></a>\n",
    "## Factorial Example\n",
    "If we had to roll our own factorial in Python, this example is how we would do it."
   ]
  },
  {
   "cell_type": "code",
   "execution_count": 1,
   "metadata": {
    "collapsed": false
   },
   "outputs": [
    {
     "name": "stdout",
     "output_type": "stream",
     "text": [
      "7\n"
     ]
    },
    {
     "data": {
      "text/plain": [
       "5040"
      ]
     },
     "execution_count": 1,
     "metadata": {},
     "output_type": "execute_result"
    }
   ],
   "source": [
    "# some may find this code more readable ... single line solutions to the function are provided immediately below it.\n",
    "import sys\n",
    "n = int(input())\n",
    "def factorial(n):\n",
    "    if n <= 1:\n",
    "        return n\n",
    "    else:\n",
    "        return n*factorial(n-1)\n",
    "factorial(n)"
   ]
  },
  {
   "cell_type": "code",
   "execution_count": 2,
   "metadata": {
    "collapsed": false
   },
   "outputs": [
    {
     "name": "stdout",
     "output_type": "stream",
     "text": [
      "7\n"
     ]
    },
    {
     "data": {
      "text/plain": [
       "5040"
      ]
     },
     "execution_count": 2,
     "metadata": {},
     "output_type": "execute_result"
    }
   ],
   "source": [
    "# this cell explores creating a function that solves the problem with only one real line of working code  \n",
    "import sys\n",
    "n = int(input())\n",
    "def factorial(n):\n",
    "    return n if n <= 1 else n*factorial(n-1)  # this says:  \"return n if ... else return <value after else>\"\n",
    "        \n",
    "factorial(n)  # this cell prompts for input into the function to test it"
   ]
  },
  {
   "cell_type": "code",
   "execution_count": 3,
   "metadata": {
    "collapsed": false
   },
   "outputs": [
    {
     "name": "stdout",
     "output_type": "stream",
     "text": [
      "7\n"
     ]
    },
    {
     "data": {
      "text/plain": [
       "5040"
      ]
     },
     "execution_count": 3,
     "metadata": {},
     "output_type": "execute_result"
    }
   ],
   "source": [
    "# using lambda, a single line solution could be done like this:\n",
    "import sys\n",
    "n = int(input())\n",
    "factorial_lambda = lambda n : 1 if n<=1 else n*factorial(n-1)\n",
    "factorial_lambda(n)"
   ]
  },
  {
   "cell_type": "code",
   "execution_count": 4,
   "metadata": {
    "collapsed": false
   },
   "outputs": [
    {
     "name": "stdout",
     "output_type": "stream",
     "text": [
      "factorial of 7:\n"
     ]
    },
    {
     "data": {
      "text/plain": [
       "5040"
      ]
     },
     "execution_count": 4,
     "metadata": {},
     "output_type": "execute_result"
    }
   ],
   "source": [
    "# without recursion ... a loop could be created like this\n",
    "import sys\n",
    "def factorial_loop(n):\n",
    "    f = n\n",
    "    while n > 1:\n",
    "        f = f*(n-1)\n",
    "        if f <= 1: return 1\n",
    "        n -= 1\n",
    "    return f\n",
    "print(\"factorial of 7:\")\n",
    "\n",
    "factorial_loop(7)"
   ]
  },
  {
   "cell_type": "markdown",
   "metadata": {},
   "source": [
    "### Performance testing\n",
    "These tests show performance comparisons.  They also prove that we should use the math library instead of our own function."
   ]
  },
  {
   "cell_type": "code",
   "execution_count": 5,
   "metadata": {
    "collapsed": false
   },
   "outputs": [
    {
     "name": "stdout",
     "output_type": "stream",
     "text": [
      "100 loops, best of 3: 1.05 ms per loop\n"
     ]
    }
   ],
   "source": [
    "%%timeit   # %% magic only works in a iPython cells. Use import timeit and timeit() in .py code\n",
    "factorial(800)"
   ]
  },
  {
   "cell_type": "code",
   "execution_count": 6,
   "metadata": {
    "collapsed": false
   },
   "outputs": [
    {
     "name": "stdout",
     "output_type": "stream",
     "text": [
      "1000 loops, best of 3: 1.09 ms per loop\n"
     ]
    }
   ],
   "source": [
    "%%timeit\n",
    "factorial_lambda(800)"
   ]
  },
  {
   "cell_type": "code",
   "execution_count": 7,
   "metadata": {
    "collapsed": false
   },
   "outputs": [
    {
     "name": "stdout",
     "output_type": "stream",
     "text": [
      "1000 loops, best of 3: 1.24 ms per loop\n"
     ]
    }
   ],
   "source": [
    "%%timeit\n",
    "factorial_loop(800)"
   ]
  },
  {
   "cell_type": "code",
   "execution_count": 8,
   "metadata": {
    "collapsed": true
   },
   "outputs": [],
   "source": [
    "import math"
   ]
  },
  {
   "cell_type": "code",
   "execution_count": 9,
   "metadata": {
    "collapsed": false
   },
   "outputs": [
    {
     "name": "stdout",
     "output_type": "stream",
     "text": [
      "1000 loops, best of 3: 90.4 µs per loop\n"
     ]
    }
   ],
   "source": [
    "%%timeit\n",
    "math.factorial(800)"
   ]
  },
  {
   "cell_type": "markdown",
   "metadata": {},
   "source": [
    "To understand the above, a full table of metric measures used by timeit is provided [here](https://en.wikipedia.org/wiki/Metric_prefix) on wikipedia. \n",
    "- ms = millisecond ( 0.001 ) 10^-3\n",
    "- us = microsecond ( 0.000001 ) 10^-6\n",
    "- ns = nanosecond&nbsp;  ( 0.000000001 ) 10^-9\n",
    "- [click here for more](https://en.wikipedia.org/wiki/Metric_prefix)\n",
    "\n",
    "`math.factorial()` is much faster than a home grown solution but in this instance, we can also see a performance boost for recursion over the loop solution.  Note that there are other concerns to using recursion though.  Recursion literally creates another instance of the whole function with each iteration.  This can lead to memory issues when the iterations get quite large.  Depending on the exact nature of the code, you may also be surpirsed to discover it is not always the fastest solution.  Specific combinations of code can produce unexpected results but usually, the expectation is that recursion will be faster and permit some problems that defy conventional solutions to be cracked more simply and succinctly."
   ]
  },
  {
   "cell_type": "markdown",
   "metadata": {},
   "source": [
    "## Reference\n",
    "\n",
    "For another really good example of the use of recursion, see \"TMWP_TMWP_PY27_OO_Towers_of_Hanoi.ipnyb.\"  The opening to this notebook buries the recursion in object code designed to solve many related things, but the research section includes some very tight and succinct examples illustrating a seemingly complex problem made simple by recursion."
   ]
  },
  {
   "cell_type": "code",
   "execution_count": null,
   "metadata": {
    "collapsed": true
   },
   "outputs": [],
   "source": []
  }
 ],
 "metadata": {
  "kernelspec": {
   "display_name": "Python [conda env:PY36]",
   "language": "python",
   "name": "conda-env-PY36-py"
  },
  "language_info": {
   "codemirror_mode": {
    "name": "ipython",
    "version": 3
   },
   "file_extension": ".py",
   "mimetype": "text/x-python",
   "name": "python",
   "nbconvert_exporter": "python",
   "pygments_lexer": "ipython3",
   "version": "3.6.0"
  }
 },
 "nbformat": 4,
 "nbformat_minor": 2
}
