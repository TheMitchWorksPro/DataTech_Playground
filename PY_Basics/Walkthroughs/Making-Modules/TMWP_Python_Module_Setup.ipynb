{
 "cells": [
  {
   "cell_type": "markdown",
   "metadata": {},
   "source": [
    "<div align=\"right\">Python [conda root] v2.7</div>"
   ]
  },
  {
   "cell_type": "markdown",
   "metadata": {},
   "source": [
    "# Setting up Python Modules on Anaconda/iPython\n",
    "\n",
    "This document has notes on how to make a Python \".py\" file accessible to your code assuming an Anaconda/iPython distribution. The content was researched for and tested on a Windows 7 64-bit machine with an Anaconda distribution of Python 2.7.  These instructions are written with Windows and Macintosh in mind, but some testing may be required to find the best solution on your system.\n",
    "\n",
    "The \".py\" file is assumed to contain functions or reusable object code.  Note that for production content where you will re-use the content across a lot of code, you should look up actually packaging your own libraries.  This is recommended more for testing reusable code because it is quicker and easier than package installation and setup.  A link is provided in the reference links below to how to make packages for production ready code."
   ]
  },
  {
   "cell_type": "markdown",
   "metadata": {},
   "source": [
    "Reference URLs:<br/>\n",
    "SO = StackOverflow\n",
    "- [what-is-init-py - SO](http://stackoverflow.com/questions/448271/what-is-init-py-for)\n",
    "- [PYPATH Env Var for modules on Windows - SO](http://stackoverflow.com/questions/7472436/add-a-directory-to-python-sys-path-so-that-its-included-each-time-i-use-python)\n",
    "- [Making Modules help topic on ibiblio.org](https://www.ibiblio.org/g2swap/byteofpython/read/making-modules.html)\n",
    "- [Rolling your Own Packages for Anaconda](https://www.continuum.io/blog/developer-blog/python-packages-and-environments-conda)"
   ]
  },
  {
   "cell_type": "markdown",
   "metadata": {},
   "source": [
    "## Enabling the Module For Current Python Session\n",
    "These commands will enable a new folder so the python module files (\"*.py\") will be accessible by the `import` command for this session only:"
   ]
  },
  {
   "cell_type": "code",
   "execution_count": 8,
   "metadata": {
    "collapsed": true
   },
   "outputs": [],
   "source": [
    "import sys\n",
    "sys.path.append(r\"C:\\ProgramFilesCoders\")  \n",
    "       # replace path with your path\n",
    "       # use r\"\" around windows paths so \\ is treated as raw and does not have to be escaped"
   ]
  },
  {
   "cell_type": "markdown",
   "metadata": {},
   "source": [
    "Making this permanent is explained in the next section of this notebook.  Once these commands are run, you can import your file like this:\n",
    "- file name:  myFile.py\n",
    "- import command syntax: `import myFile as mF`\n",
    "- then use commands like from any library module:  `mF.myFunction()`"
   ]
  },
  {
   "cell_type": "markdown",
   "metadata": {},
   "source": [
    "## Making Modules Permanently Available on Anaconda/Python\n",
    "\n",
    "In some ways this content is experimental.  According to help documentation, you can modify a configuration file to have the commands shown above and this is supposed to make the effect permanent.  Topics provided as hyperlinks at the  start of this notebook also recommend placing a file at the start of each folder to enable them for access and make their subfolders accessible.  The file t oplace in each folder is named `__init__.py`.  This file can be empty, or it can contain commands that are supposed to run everytime you import from the folder:  \n",
    "\n",
    ">The configuration file to modify is:  `c:\\your_user__path\\.ipython\\profile_default\\ipython_config.py`.\n",
    "\n",
    "By default, all lines in this file are commented out.  Uncomment this line and modify the commands stored in the list as shown here:\n",
    "\n",
    ">  `c.InteractiveShellApp.exec_lines = ['import sys; sys.path.append(r\"C:\\your_code_path\\your_module_folder\")]`\n",
    "\n",
    "If you have more than one path to add, add in multiple `sys.path.append()` lines separated by semi-colons (`;`) as shown above.  Note that `r\"\"` treats the path as raw text so that the backslashes in the windows path are not confused for escape characters."
   ]
  },
  {
   "cell_type": "markdown",
   "metadata": {},
   "source": [
    "In testing this on a windows 7 64 bit machine, the paths did not become effective until they were added to the windows user environment variable \"PYTHONPATH\".  To do this, each path was added to the environment variable separated by the semicolon (`;`).  On Windows 7, this accessed through:  \n",
    "\n",
    "> Control Panel --> System and Security --> System --> Advanced System Settings --> Environment Variables\n",
    ">     --> User section --> PYTHONPATH\n",
    "\n",
    "If it does not exist, create it.  If it does exist, edit it and add your paths separated by `;` to the end of any paths currently contained in the variable.\n",
    "\n",
    "It is not known as of this writing if it was just the environment variable or the combination of setting up the `ipython_config.py` and setting up the environment variables that got the code to work\n",
    "\n",
    "The cells that follow are tests of some functions stored in the python module files referenced in the coding cells.  To run these tests on your system, get the files from this project, put them in a folder, set up your environment as described here and then you can run these cells to test that you got this process working."
   ]
  },
  {
   "cell_type": "code",
   "execution_count": 10,
   "metadata": {
    "collapsed": false
   },
   "outputs": [
    {
     "data": {
      "text/plain": [
       "['Counter',\n",
       " '__builtins__',\n",
       " '__doc__',\n",
       " '__file__',\n",
       " '__name__',\n",
       " '__package__',\n",
       " 'convert_stringOfInts_to_list',\n",
       " 'convert_win_path_to_bashPath',\n",
       " 'convert_win_path_to_onlinePath',\n",
       " 'flatten_simple_nested_list',\n",
       " 'initialCaps_anyString',\n",
       " 'isAnagram',\n",
       " 'isPalindrome',\n",
       " 'is_palindromic',\n",
       " 'itertools',\n",
       " 'print_ArrayElements',\n",
       " 'print_first_and_last_words_of_sentence',\n",
       " 'print_first_and_last_words_of_sorted_sentence',\n",
       " 'print_first_word_in_list',\n",
       " 'print_last_word_in_list',\n",
       " 'python_version_support',\n",
       " 'reverse_string',\n",
       " 'sort_sentence',\n",
       " 'sort_words_list',\n",
       " 'string_to_words_list',\n",
       " 'version']"
      ]
     },
     "execution_count": 10,
     "metadata": {},
     "output_type": "execute_result"
    }
   ],
   "source": [
    "# a quick demo with one of the files from this folder:\n",
    "# on github, the source is at:  DataTech_Playground\\Python_Misc\n",
    "# on TMWP local machine, installed to folder path c: ... \\Python_Misc and configured for permanent access\n",
    "\n",
    "import TMWP_string_and_array_functions as strAndArray  # install .py file or this does not work\n",
    "dir(strAndArray)                                       # get list of what functions and variables are in the module"
   ]
  },
  {
   "cell_type": "code",
   "execution_count": 12,
   "metadata": {
    "collapsed": false
   },
   "outputs": [
    {
     "name": "stdout",
     "output_type": "stream",
     "text": [
      "0.1\n",
      "created in Python 2.7; should be compatible with 3.x\n",
      "This Is My Test String That Will Convert To Camel Case.\n"
     ]
    }
   ],
   "source": [
    "print strAndArray.version\n",
    "print strAndArray.python_version_support\n",
    "print strAndArray.initialCaps_anyString(\"this IS my TEST string that will convert to camel case.\")"
   ]
  },
  {
   "cell_type": "code",
   "execution_count": null,
   "metadata": {
    "collapsed": true
   },
   "outputs": [],
   "source": []
  }
 ],
 "metadata": {
  "anaconda-cloud": {},
  "kernelspec": {
   "display_name": "Python [conda root]",
   "language": "python",
   "name": "conda-root-py"
  },
  "language_info": {
   "codemirror_mode": {
    "name": "ipython",
    "version": 2
   },
   "file_extension": ".py",
   "mimetype": "text/x-python",
   "name": "python",
   "nbconvert_exporter": "python",
   "pygments_lexer": "ipython2",
   "version": "2.7.13"
  }
 },
 "nbformat": 4,
 "nbformat_minor": 0
}
