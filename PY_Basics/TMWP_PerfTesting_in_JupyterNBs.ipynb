{
 "cells": [
  {
   "cell_type": "markdown",
   "metadata": {},
   "source": [
    "<div align=\"right\">Python 3.6 [conda env: PY36]</div>"
   ]
  },
  {
   "cell_type": "markdown",
   "metadata": {},
   "source": [
    "# Performance Testing in iPython/Jupyter NBs\n",
    "The `timeit()` command appears to have strict limitations in how you can use it within a Jupyter Notebook.  For it to work most effectively:\n",
    "- organize the code to test in a function that returns a value\n",
    "- ensure it is not printing to screen or the code will print 1000 times (or however many times `timeit()` is configured to iterate)\n",
    "- make sure that `timeit()` is the only line in the test cell as shown in these examples\n",
    "- for more advanced use of `timeit()` and open more options for how to use it and related functions, check the [documentation](https://docs.python.org/2/library/timeit.html).  This library was creatd in Python 2 and is compatible (and may have updated in [Python 3](https://docs.python.org/3/library/timeit.html).\n",
    "\n",
    "The example that follows illustrates something important.  Using libraries and built-ins that function at a binary level under the covers can greatly boost performance in python and is generally highly recommended.  Often, making your code \"more Pythonic\" using constructs that condense an idea down to as few lines of code as possible goes hand-in-hand with such performance boosting choices.  But a word of caution. As is illustrated by the example that follows, this is not always the case.  The second choice in this notebook is a great learning example for the use of the language constructs it illustrates, and it even got the most upvotes as a Python solution on www.hackerrank.com at the time of this writing.  But a comparatively \"less Pythonic\" example that follows it, actually beats its performance by a significant factor using loops where appropriate and list comprehensions where beneficial.  Understanding what our specific choices are doing under the covers is tantamount to finding the most efficient solution.  When it is difficult to see the path, performance testing of different choices can also reveal the answer.\n",
    "\n",
    "To understand the abbreviations in timeit performance metrics, see [this wikipedia post](https://en.wikipedia.org/wiki/Metric_prefix)."
   ]
  },
  {
   "cell_type": "code",
   "execution_count": 1,
   "metadata": {
    "collapsed": true
   },
   "outputs": [],
   "source": [
    "# this example comes from www.hackerrank\n",
    "# in the exercise, a string is fed into a function along with a number\n",
    "# the number tells the function how long to make each substring that will be tested\n",
    "# then the function carves the string into substrings removing all duplicate characters from each substring\n",
    "# constraints indicate that the number passed in is always a factor of the length of the string\n",
    "# by Python standards, this first solution is the inefficient way to do it using loops\n",
    "\n",
    "# a quick and dirty solution just using loops ...\n",
    "\n",
    "def removeDupes(s):\n",
    "    s, s2 = list(s), []\n",
    "    for i in range(len(s)):\n",
    "        if s[i] not in s2:\n",
    "            s2.append(s[i])\n",
    "    return \"\".join(s2)\n",
    "\n",
    "def get_subStrs_of_uniqueChars(strng, k):\n",
    "    sLen, rtnVal = len(strng), []\n",
    "    for x in range(0, sLen, k):\n",
    "        rtnVal.append(removeDupes(strng[x:x+k]))\n",
    "    return rtnVal"
   ]
  },
  {
   "cell_type": "code",
   "execution_count": 2,
   "metadata": {
    "collapsed": false
   },
   "outputs": [
    {
     "name": "stdout",
     "output_type": "stream",
     "text": [
      "Input: AABCAAADA, 3\n",
      "Output: ['AB', 'CA', 'AD']\n",
      "------------------------------------------------------------------------\n",
      "Input: ABCDAABCAADGGHI, 3\n",
      "Output: ['ABC', 'DA', 'BCA', 'ADG', 'GHI']\n",
      "------------------------------------------------------------------------\n",
      "Input: AAADYYBCAADXXXI, 3\n",
      "Output: ['A', 'DY', 'BCA', 'ADX', 'XI']\n",
      "------------------------------------------------------------------------\n",
      "Input: AAADYYBCAADXXXI, 5\n",
      "Output: ['ADY', 'YBCA', 'DXI']\n",
      "------------------------------------------------------------------------\n",
      "Input: AAADYYBCAADXXXI, 15\n",
      "Output: ['ADYBCXI']\n",
      "------------------------------------------------------------------------\n"
     ]
    }
   ],
   "source": [
    "# some tests to show what this code does:\n",
    "\n",
    "def test_funcs_thisNB(fun):\n",
    "    # allows running the same tests with same input data on different versions of a function\n",
    "    inputs = [(\"AABCAAADA\", 3), (\"ABCDAABCAADGGHI\", 3), (\"AAADYYBCAADXXXI\", 3), \n",
    "              (\"AAADYYBCAADXXXI\", 5), (\"AAADYYBCAADXXXI\", 15)]      # 15: substring len = str length test  \n",
    "    \n",
    "    for inptStr, subStrLen in inputs:\n",
    "        print(\"Input: %s, %d\\nOutput: %s\" %(inptStr, subStrLen, fun(inptStr, subStrLen)))\n",
    "        print(\"-\"*72)\n",
    "    \n",
    "test_funcs_thisNB(get_subStrs_of_uniqueChars)"
   ]
  },
  {
   "cell_type": "code",
   "execution_count": 3,
   "metadata": {
    "collapsed": false
   },
   "outputs": [
    {
     "data": {
      "text/plain": [
       "['DWNFMZVQPKGXESLIUCJROHYBTA']"
      ]
     },
     "execution_count": 3,
     "metadata": {},
     "output_type": "execute_result"
    }
   ],
   "source": [
    "# a really big test - this will only have one subset string\n",
    "longString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n",
    "get_subStrs_of_uniqueChars(longString, 6623)"
   ]
  },
  {
   "cell_type": "markdown",
   "metadata": {},
   "source": [
    "**Performance Test One:**"
   ]
  },
  {
   "cell_type": "code",
   "execution_count": 4,
   "metadata": {
    "collapsed": false
   },
   "outputs": [
    {
     "name": "stdout",
     "output_type": "stream",
     "text": [
      "100 loops, best of 3: 6.12 ms per loop\n"
     ]
    }
   ],
   "source": [
    "timeit(get_subStrs_of_uniqueChars(longString, 6623))"
   ]
  },
  {
   "cell_type": "code",
   "execution_count": 5,
   "metadata": {
    "collapsed": true
   },
   "outputs": [],
   "source": [
    "# hackerrank, most voted solution from discussion board (for Python)\n",
    "# S, N = input(), int(input()) \n",
    "\n",
    "def hackrRank_getSubsOfUniqueChars_v1(S, N):\n",
    "                 # modified slightly to integrate for this timeit test:\n",
    "    rtnVal = []  # changed print() to rtnVal\n",
    "    for part in zip(*[iter(S)] * N):\n",
    "        d = dict()\n",
    "        rtnVal.append(''.join([ d.setdefault(c, c) for c in part if c not in d ]))\n",
    "    return rtnVal"
   ]
  },
  {
   "cell_type": "code",
   "execution_count": 6,
   "metadata": {
    "collapsed": false
   },
   "outputs": [
    {
     "name": "stdout",
     "output_type": "stream",
     "text": [
      "Input: AABCAAADA, 3\n",
      "Output: ['AB', 'CA', 'AD']\n",
      "------------------------------------------------------------------------\n",
      "Input: ABCDAABCAADGGHI, 3\n",
      "Output: ['ABC', 'DA', 'BCA', 'ADG', 'GHI']\n",
      "------------------------------------------------------------------------\n",
      "Input: AAADYYBCAADXXXI, 3\n",
      "Output: ['A', 'DY', 'BCA', 'ADX', 'XI']\n",
      "------------------------------------------------------------------------\n",
      "Input: AAADYYBCAADXXXI, 5\n",
      "Output: ['ADY', 'YBCA', 'DXI']\n",
      "------------------------------------------------------------------------\n",
      "Input: AAADYYBCAADXXXI, 15\n",
      "Output: ['ADYBCXI']\n",
      "------------------------------------------------------------------------\n"
     ]
    },
    {
     "data": {
      "text/plain": [
       "['DWNFMZVQPKGXESLIUCJROHYBTA']"
      ]
     },
     "execution_count": 6,
     "metadata": {},
     "output_type": "execute_result"
    }
   ],
   "source": [
    "# tests to show it works the same as earlier examples\n",
    "test_funcs_thisNB(hackrRank_getSubsOfUniqueChars_v1)\n",
    "hackrRank_getSubsOfUniqueChars_v1(longString, 6623)  # should only ouput one string"
   ]
  },
  {
   "cell_type": "markdown",
   "metadata": {},
   "source": [
    "**Performance Test Two:**\n",
    "\n",
    "This one runs faster by a noticeable factor (6x faster).  But the next one is even more extreme."
   ]
  },
  {
   "cell_type": "code",
   "execution_count": 7,
   "metadata": {
    "collapsed": false
   },
   "outputs": [
    {
     "name": "stdout",
     "output_type": "stream",
     "text": [
      "1000 loops, best of 3: 1.15 ms per loop\n"
     ]
    }
   ],
   "source": [
    "timeit(hackrRank_getSubsOfUniqueChars_v1(longString, 6623))"
   ]
  },
  {
   "cell_type": "code",
   "execution_count": 8,
   "metadata": {
    "collapsed": true
   },
   "outputs": [],
   "source": [
    "# a solution from the discussion board of hackerrank\n",
    "\n",
    "def without_repetition(t):\n",
    "    s = set()\n",
    "    o = []\n",
    "    for c in t:\n",
    "        if c not in s:\n",
    "            s.add(c)\n",
    "            o.append(c)\n",
    "    return ''.join(o)\n",
    "    \n",
    "\n",
    "def hackrRank_getSubsOfUniqueChars_v2(s, w):\n",
    "    n = len(s)\n",
    "    rtnVal = []\n",
    "    for t in [s[i:i+w] for i in range(0, n, w)]:\n",
    "        rtnVal.append(without_repetition(t))\n",
    "    return rtnVal"
   ]
  },
  {
   "cell_type": "code",
   "execution_count": 9,
   "metadata": {
    "collapsed": false
   },
   "outputs": [
    {
     "name": "stdout",
     "output_type": "stream",
     "text": [
      "Input: AABCAAADA, 3\n",
      "Output: ['AB', 'CA', 'AD']\n",
      "------------------------------------------------------------------------\n",
      "Input: ABCDAABCAADGGHI, 3\n",
      "Output: ['ABC', 'DA', 'BCA', 'ADG', 'GHI']\n",
      "------------------------------------------------------------------------\n",
      "Input: AAADYYBCAADXXXI, 3\n",
      "Output: ['A', 'DY', 'BCA', 'ADX', 'XI']\n",
      "------------------------------------------------------------------------\n",
      "Input: AAADYYBCAADXXXI, 5\n",
      "Output: ['ADY', 'YBCA', 'DXI']\n",
      "------------------------------------------------------------------------\n",
      "Input: AAADYYBCAADXXXI, 15\n",
      "Output: ['ADYBCXI']\n",
      "------------------------------------------------------------------------\n"
     ]
    },
    {
     "data": {
      "text/plain": [
       "['DWNFMZVQPKGXESLIUCJROHYBTA']"
      ]
     },
     "execution_count": 9,
     "metadata": {},
     "output_type": "execute_result"
    }
   ],
   "source": [
    "# tests to show it works the same as earlier examples\n",
    "test_funcs_thisNB(hackrRank_getSubsOfUniqueChars_v2)\n",
    "hackrRank_getSubsOfUniqueChars_v2(longString, 6623)  # should only ouput one string"
   ]
  },
  {
   "cell_type": "markdown",
   "metadata": {},
   "source": [
    "**Performance Test Three:**\n",
    "\n",
    "This one runs faster by a much more extreme multiplier.  Note that we have switched from ms to us in the output metric.  If this function were called on big data, the performance boost would be significant (3 decimal places faster)."
   ]
  },
  {
   "cell_type": "code",
   "execution_count": 10,
   "metadata": {
    "collapsed": false
   },
   "outputs": [
    {
     "name": "stdout",
     "output_type": "stream",
     "text": [
      "1000 loops, best of 3: 860 µs per loop\n"
     ]
    }
   ],
   "source": [
    "timeit(hackrRank_getSubsOfUniqueChars_v2(longString, 6623))"
   ]
  },
  {
   "cell_type": "code",
   "execution_count": 11,
   "metadata": {
    "collapsed": true
   },
   "outputs": [],
   "source": [
    "from collections import OrderedDict\n",
    "\n",
    "def hackrRank_getSubsOfUniqueChars_v3(string, k):\n",
    "    rtnVal = []\n",
    "    for x in range(0,len(string),k):     \n",
    "        rtnVal.append(''.join(list(OrderedDict.fromkeys(string[x:x+k]))))\n",
    "    return rtnVal"
   ]
  },
  {
   "cell_type": "code",
   "execution_count": 12,
   "metadata": {
    "collapsed": false
   },
   "outputs": [
    {
     "name": "stdout",
     "output_type": "stream",
     "text": [
      "Input: AABCAAADA, 3\n",
      "Output: ['AB', 'CA', 'AD']\n",
      "------------------------------------------------------------------------\n",
      "Input: ABCDAABCAADGGHI, 3\n",
      "Output: ['ABC', 'DA', 'BCA', 'ADG', 'GHI']\n",
      "------------------------------------------------------------------------\n",
      "Input: AAADYYBCAADXXXI, 3\n",
      "Output: ['A', 'DY', 'BCA', 'ADX', 'XI']\n",
      "------------------------------------------------------------------------\n",
      "Input: AAADYYBCAADXXXI, 5\n",
      "Output: ['ADY', 'YBCA', 'DXI']\n",
      "------------------------------------------------------------------------\n",
      "Input: AAADYYBCAADXXXI, 15\n",
      "Output: ['ADYBCXI']\n",
      "------------------------------------------------------------------------\n"
     ]
    },
    {
     "data": {
      "text/plain": [
       "['DWNFMZVQPKGXESLIUCJROHYBTA']"
      ]
     },
     "execution_count": 12,
     "metadata": {},
     "output_type": "execute_result"
    }
   ],
   "source": [
    "# tests to show it works the same as earlier examples\n",
    "test_funcs_thisNB(hackrRank_getSubsOfUniqueChars_v3)\n",
    "hackrRank_getSubsOfUniqueChars_v3(longString, 6623)  # should only ouput one string"
   ]
  },
  {
   "cell_type": "markdown",
   "metadata": {},
   "source": [
    "** Performance Test Four: **\n",
    "\n",
    "Ironically, though this one also tests in microseconds, this ordered dictionary solution that also looks \"more Pythonic\" then the previous example, is not able to beat the performance of the previous example.  It only comes in second place."
   ]
  },
  {
   "cell_type": "code",
   "execution_count": 13,
   "metadata": {
    "collapsed": false
   },
   "outputs": [
    {
     "name": "stdout",
     "output_type": "stream",
     "text": [
      "100 loops, best of 3: 998 µs per loop\n"
     ]
    }
   ],
   "source": [
    "timeit(hackrRank_getSubsOfUniqueChars_v3(longString, 6623))"
   ]
  },
  {
   "cell_type": "markdown",
   "metadata": {},
   "source": [
    "## Another Simple Test\n",
    "This test shows how two lines performs better than one since it avoids doing a list conversion twice"
   ]
  },
  {
   "cell_type": "code",
   "execution_count": 1,
   "metadata": {
    "collapsed": true
   },
   "outputs": [],
   "source": [
    "def averageUniqueElements(array):\n",
    "    return sum(set(array)) / len(set(array))\n",
    "\n",
    "def averageUniqueElements_v2(array):\n",
    "    arrSet = set(array)\n",
    "    return sum(arrSet) / len(arrSet)"
   ]
  },
  {
   "cell_type": "code",
   "execution_count": 2,
   "metadata": {
    "collapsed": false
   },
   "outputs": [
    {
     "name": "stdout",
     "output_type": "stream",
     "text": [
      "100000 loops, best of 3: 5 µs per loop\n"
     ]
    }
   ],
   "source": [
    "timeit(averageUniqueElements([456789, 456789, 11111111, 111111111, 12111111111111, 78787878, 7878, 99999999, 99999999, 6]))"
   ]
  },
  {
   "cell_type": "code",
   "execution_count": 3,
   "metadata": {
    "collapsed": false
   },
   "outputs": [
    {
     "name": "stdout",
     "output_type": "stream",
     "text": [
      "100000 loops, best of 3: 3.55 µs per loop\n"
     ]
    }
   ],
   "source": [
    "timeit(averageUniqueElements_v2([456789, 456789, 11111111, 111111111, 12111111111111, 78787878, 7878, 99999999, 99999999, 6]))"
   ]
  },
  {
   "cell_type": "markdown",
   "metadata": {},
   "source": [
    "The comparison is in Microseconds and the difference is slight, but it proves the theory."
   ]
  }
 ],
 "metadata": {
  "anaconda-cloud": {},
  "kernelspec": {
   "display_name": "Python [conda env:PY36]",
   "language": "python",
   "name": "conda-env-PY36-py"
  },
  "language_info": {
   "codemirror_mode": {
    "name": "ipython",
    "version": 3
   },
   "file_extension": ".py",
   "mimetype": "text/x-python",
   "name": "python",
   "nbconvert_exporter": "python",
   "pygments_lexer": "ipython3",
   "version": "3.6.0"
  }
 },
 "nbformat": 4,
 "nbformat_minor": 2
}
